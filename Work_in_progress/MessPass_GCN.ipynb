{
  "cells": [
    {
      "cell_type": "markdown",
      "metadata": {
        "id": "view-in-github",
        "colab_type": "text"
      },
      "source": [
        "<a href=\"https://colab.research.google.com/github/cosmina98/PhD/blob/main/Work_in_progress/MessPass_GCN.ipynb\" target=\"_parent\"><img src=\"https://colab.research.google.com/assets/colab-badge.svg\" alt=\"Open In Colab\"/></a>"
      ]
    },
    {
      "cell_type": "code",
      "execution_count": 1,
      "id": "2d94ab4b",
      "metadata": {
        "colab": {
          "base_uri": "https://localhost:8080/"
        },
        "id": "2d94ab4b",
        "outputId": "5c805d5f-179b-4efb-9f52-7d79553a2fb7"
      },
      "outputs": [
        {
          "output_type": "stream",
          "name": "stdout",
          "text": [
            "1.12.1+cu113\n",
            "\u001b[K     |████████████████████████████████| 467 kB 6.0 MB/s \n",
            "\u001b[?25h  Building wheel for torch-geometric (setup.py) ... \u001b[?25l\u001b[?25hdone\n",
            "\u001b[K     |████████████████████████████████| 7.9 MB 12.7 MB/s \n",
            "\u001b[K     |████████████████████████████████| 3.5 MB 15.6 MB/s \n",
            "\u001b[?25h  Building wheel for torch-geometric (setup.py) ... \u001b[?25l\u001b[?25hdone\n"
          ]
        }
      ],
      "source": [
        "import os\n",
        "import torch\n",
        "os.environ['TORCH'] = torch.__version__\n",
        "print(torch.__version__)\n",
        "!pip install plotnine --quiet\n",
        "!pip install torch_geometric  --quiet\n",
        "!pip install torch_geometric  --quiet\n",
        "!pip install -q torch-scatter -f https://data.pyg.org/whl/torch-${TORCH}.html --quiet\n",
        "!pip install -q torch-sparse -f https://data.pyg.org/whl/torch-${TORCH}.html  --quiet\n",
        "!pip install -q git+https://github.com/pyg-team/pytorch_geometric.git   --quiet"
      ]
    },
    {
      "cell_type": "markdown",
      "id": "88b388c1",
      "metadata": {
        "id": "88b388c1"
      },
      "source": [
        "# Imports"
      ]
    },
    {
      "cell_type": "code",
      "execution_count": 2,
      "id": "c8940913",
      "metadata": {
        "id": "c8940913"
      },
      "outputs": [],
      "source": [
        "import torch.nn.functional as F\n",
        "from torch.nn import Parameter as Param\n",
        "from torch.nn import Parameter, Module\n",
        "from torch.nn import Sequential, Linear, ReLU\n",
        "from torch.optim import Optimizer\n",
        "from torch import Tensor\n",
        "from torch import nn\n",
        "from torch.optim.sgd import SGD\n",
        "import torch_geometric\n",
        "import torch_geometric.transforms as T\n",
        "from torch_geometric.data import Data\n",
        "from torch_geometric.datasets import Planetoid\n",
        "from torch_geometric.nn import GCNConv,ChebConv,GATConv\n",
        "from torch_geometric.utils import get_laplacian\n",
        "from torch_geometric.utils import to_scipy_sparse_matrix\n",
        "from torch_geometric.nn import GatedGraphConv\n",
        "from torch_geometric.nn import MessagePassing, SAGEConv, GINConv, global_add_pool\n",
        "from torch_geometric.nn.inits import uniform\n",
        "from torch.optim.adam import Adam\n",
        "from torch_geometric.utils import add_self_loops, degree\n",
        "import os.path as osp\n",
        "\n",
        "from typing import Callable, List, Optional, Tuple\n",
        "from typing_extensions import Literal, TypedDict\n",
        "\n",
        "import matplotlib.pyplot as plt\n",
        "import numpy as np\n",
        "import pandas as pd\n",
        "import networkx as nx\n",
        "from sklearn.model_selection import KFold\n",
        "from sklearn import metrics\n",
        "from sklearn.metrics import accuracy_score\n",
        "from tqdm.notebook import trange, tqdm\n",
        "import copy\n",
        "import random\n",
        "import time\n",
        "import  math\n",
        "import itertools\n",
        "from functools import reduce\n",
        "import operator\n",
        "import torch.utils.data as data_utils\n",
        "from sklearn.metrics import classification_report\n",
        "from sklearn.metrics import confusion_matrix\n",
        "import matplotlib.pyplot as plt\n",
        "from sklearn.metrics import multilabel_confusion_matrix\n",
        "from torch.utils.data import Subset\n",
        "from plotnine import ggplot, geom_line, aes, xlab, theme, element_blank, ggtitle\n",
        "from collections import OrderedDict\n",
        "from typing_extensions import Literal, TypedDict\n",
        "from torch_sparse import SparseTensor\n",
        "from torch_scatter import gather_csr, scatter, segment_csr\n",
        "\n",
        "import inspect\n",
        "from torch.utils.data import DataLoader\n",
        "device = torch.device('cuda' if torch.cuda.is_available()  else 'cpu')"
      ]
    },
    {
      "cell_type": "markdown",
      "id": "cb582094",
      "metadata": {
        "id": "cb582094"
      },
      "source": [
        "# Datasets initial exploration"
      ]
    },
    {
      "cell_type": "code",
      "execution_count": 3,
      "id": "b1518669",
      "metadata": {
        "colab": {
          "base_uri": "https://localhost:8080/"
        },
        "id": "b1518669",
        "outputId": "8ab22b74-d84c-4558-8683-b5e0a39cfed8"
      },
      "outputs": [
        {
          "output_type": "stream",
          "name": "stderr",
          "text": [
            "Downloading https://github.com/kimiyoung/planetoid/raw/master/data/ind.cora.x\n",
            "Downloading https://github.com/kimiyoung/planetoid/raw/master/data/ind.cora.tx\n",
            "Downloading https://github.com/kimiyoung/planetoid/raw/master/data/ind.cora.allx\n",
            "Downloading https://github.com/kimiyoung/planetoid/raw/master/data/ind.cora.y\n",
            "Downloading https://github.com/kimiyoung/planetoid/raw/master/data/ind.cora.ty\n",
            "Downloading https://github.com/kimiyoung/planetoid/raw/master/data/ind.cora.ally\n",
            "Downloading https://github.com/kimiyoung/planetoid/raw/master/data/ind.cora.graph\n",
            "Downloading https://github.com/kimiyoung/planetoid/raw/master/data/ind.cora.test.index\n",
            "Processing...\n",
            "Done!\n"
          ]
        },
        {
          "output_type": "stream",
          "name": "stdout",
          "text": [
            "Dataset: Cora\n",
            "Num. nodes: 2708 (train=140, val=500, test=1000, other=1068)\n",
            "Num. edges: 5278\n",
            "Num. node features: 1433\n",
            "Num. classes: 7\n",
            "Dataset len.: 1\n",
            " \n"
          ]
        },
        {
          "output_type": "stream",
          "name": "stderr",
          "text": [
            "Downloading https://github.com/kimiyoung/planetoid/raw/master/data/ind.citeseer.x\n",
            "Downloading https://github.com/kimiyoung/planetoid/raw/master/data/ind.citeseer.tx\n",
            "Downloading https://github.com/kimiyoung/planetoid/raw/master/data/ind.citeseer.allx\n",
            "Downloading https://github.com/kimiyoung/planetoid/raw/master/data/ind.citeseer.y\n",
            "Downloading https://github.com/kimiyoung/planetoid/raw/master/data/ind.citeseer.ty\n",
            "Downloading https://github.com/kimiyoung/planetoid/raw/master/data/ind.citeseer.ally\n",
            "Downloading https://github.com/kimiyoung/planetoid/raw/master/data/ind.citeseer.graph\n",
            "Downloading https://github.com/kimiyoung/planetoid/raw/master/data/ind.citeseer.test.index\n",
            "Processing...\n",
            "Done!\n",
            "Downloading https://github.com/kimiyoung/planetoid/raw/master/data/ind.pubmed.x\n"
          ]
        },
        {
          "output_type": "stream",
          "name": "stdout",
          "text": [
            "Dataset: CiteSeer\n",
            "Num. nodes: 3327 (train=120, val=500, test=1000, other=1707)\n",
            "Num. edges: 4552\n",
            "Num. node features: 3703\n",
            "Num. classes: 6\n",
            "Dataset len.: 1\n",
            " \n"
          ]
        },
        {
          "output_type": "stream",
          "name": "stderr",
          "text": [
            "Downloading https://github.com/kimiyoung/planetoid/raw/master/data/ind.pubmed.tx\n",
            "Downloading https://github.com/kimiyoung/planetoid/raw/master/data/ind.pubmed.allx\n",
            "Downloading https://github.com/kimiyoung/planetoid/raw/master/data/ind.pubmed.y\n",
            "Downloading https://github.com/kimiyoung/planetoid/raw/master/data/ind.pubmed.ty\n",
            "Downloading https://github.com/kimiyoung/planetoid/raw/master/data/ind.pubmed.ally\n",
            "Downloading https://github.com/kimiyoung/planetoid/raw/master/data/ind.pubmed.graph\n",
            "Downloading https://github.com/kimiyoung/planetoid/raw/master/data/ind.pubmed.test.index\n",
            "Processing...\n"
          ]
        },
        {
          "output_type": "stream",
          "name": "stdout",
          "text": [
            "Dataset: PubMed\n",
            "Num. nodes: 19717 (train=60, val=500, test=1000, other=18157)\n",
            "Num. edges: 44324\n",
            "Num. node features: 500\n",
            "Num. classes: 3\n",
            "Dataset len.: 1\n",
            " \n"
          ]
        },
        {
          "output_type": "stream",
          "name": "stderr",
          "text": [
            "Done!\n"
          ]
        }
      ],
      "source": [
        "dataset=list(range(3))\n",
        "i=0\n",
        "for dataset_name in ['Cora','CiteSeer','PubMed']:\n",
        "    dataset[i] = Planetoid('/tmp/dataset_name', name=dataset_name)\n",
        "    num_nodes = dataset[i].data.num_nodes\n",
        "    num_edges = dataset[i].data.num_edges // 2\n",
        "    train_len = dataset[i][0].train_mask.sum()\n",
        "    val_len = dataset[i][0].val_mask.sum()\n",
        "    test_len = dataset[i][0].test_mask.sum()\n",
        "    other_len = num_nodes - train_len - val_len - test_len\n",
        "    print(f\"Dataset: {dataset[i].name}\")\n",
        "    print(f\"Num. nodes: {num_nodes} (train={train_len}, val={val_len}, test={test_len}, other={other_len})\")\n",
        "    print(f\"Num. edges: {num_edges}\")\n",
        "    print(f\"Num. node features: {dataset[i].num_node_features}\")\n",
        "    print(f\"Num. classes: {dataset[i].num_classes}\")\n",
        "    print(f\"Dataset len.: {dataset[i].len()}\")\n",
        "    i=i+1\n",
        "    print(\" \")"
      ]
    },
    {
      "cell_type": "markdown",
      "id": "61a9fc24",
      "metadata": {
        "id": "61a9fc24"
      },
      "source": [
        "# Glorot Normalization"
      ]
    },
    {
      "cell_type": "code",
      "execution_count": 4,
      "id": "d8a68518",
      "metadata": {
        "colab": {
          "base_uri": "https://localhost:8080/"
        },
        "id": "d8a68518",
        "outputId": "3ab5ba74-826f-4568-98eb-2f9682ed167b"
      },
      "outputs": [
        {
          "output_type": "stream",
          "name": "stderr",
          "text": [
            "Downloading https://github.com/kimiyoung/planetoid/raw/master/data/ind.cora.x\n",
            "Downloading https://github.com/kimiyoung/planetoid/raw/master/data/ind.cora.tx\n",
            "Downloading https://github.com/kimiyoung/planetoid/raw/master/data/ind.cora.allx\n",
            "Downloading https://github.com/kimiyoung/planetoid/raw/master/data/ind.cora.y\n",
            "Downloading https://github.com/kimiyoung/planetoid/raw/master/data/ind.cora.ty\n",
            "Downloading https://github.com/kimiyoung/planetoid/raw/master/data/ind.cora.ally\n",
            "Downloading https://github.com/kimiyoung/planetoid/raw/master/data/ind.cora.graph\n",
            "Downloading https://github.com/kimiyoung/planetoid/raw/master/data/ind.cora.test.index\n",
            "Processing...\n",
            "Done!\n"
          ]
        },
        {
          "output_type": "stream",
          "name": "stdout",
          "text": [
            "Sum of row values without normalization: tensor([ 9., 23., 19.,  ..., 18., 14., 13.])\n",
            "Sum of row values with normalization: tensor([1.0000, 1.0000, 1.0000,  ..., 1.0000, 1.0000, 1.0000])\n",
            " \n"
          ]
        },
        {
          "output_type": "stream",
          "name": "stderr",
          "text": [
            "Downloading https://github.com/kimiyoung/planetoid/raw/master/data/ind.citeseer.x\n",
            "Downloading https://github.com/kimiyoung/planetoid/raw/master/data/ind.citeseer.tx\n",
            "Downloading https://github.com/kimiyoung/planetoid/raw/master/data/ind.citeseer.allx\n",
            "Downloading https://github.com/kimiyoung/planetoid/raw/master/data/ind.citeseer.y\n",
            "Downloading https://github.com/kimiyoung/planetoid/raw/master/data/ind.citeseer.ty\n",
            "Downloading https://github.com/kimiyoung/planetoid/raw/master/data/ind.citeseer.ally\n",
            "Downloading https://github.com/kimiyoung/planetoid/raw/master/data/ind.citeseer.graph\n",
            "Downloading https://github.com/kimiyoung/planetoid/raw/master/data/ind.citeseer.test.index\n",
            "Processing...\n",
            "Done!\n",
            "Downloading https://github.com/kimiyoung/planetoid/raw/master/data/ind.pubmed.x\n"
          ]
        },
        {
          "output_type": "stream",
          "name": "stdout",
          "text": [
            "Sum of row values without normalization: tensor([31., 33., 25.,  ..., 40., 36., 26.])\n",
            "Sum of row values with normalization: tensor([1.0000, 1.0000, 1.0000,  ..., 1.0000, 1.0000, 1.0000])\n",
            " \n"
          ]
        },
        {
          "output_type": "stream",
          "name": "stderr",
          "text": [
            "Downloading https://github.com/kimiyoung/planetoid/raw/master/data/ind.pubmed.tx\n",
            "Downloading https://github.com/kimiyoung/planetoid/raw/master/data/ind.pubmed.allx\n",
            "Downloading https://github.com/kimiyoung/planetoid/raw/master/data/ind.pubmed.y\n",
            "Downloading https://github.com/kimiyoung/planetoid/raw/master/data/ind.pubmed.ty\n",
            "Downloading https://github.com/kimiyoung/planetoid/raw/master/data/ind.pubmed.ally\n",
            "Downloading https://github.com/kimiyoung/planetoid/raw/master/data/ind.pubmed.graph\n",
            "Downloading https://github.com/kimiyoung/planetoid/raw/master/data/ind.pubmed.test.index\n",
            "Processing...\n",
            "Done!\n"
          ]
        },
        {
          "output_type": "stream",
          "name": "stdout",
          "text": [
            "Sum of row values without normalization: tensor([1.5913, 1.6492, 1.8888,  ..., 1.7013, 2.0314, 1.8369])\n",
            "Sum of row values with normalization: tensor([1.0000, 1.0000, 1.0000,  ..., 1.0000, 1.0000, 1.0000])\n"
          ]
        }
      ],
      "source": [
        "dataset[0] = Planetoid(\"/tmp/Cora\", name=\"Cora\")\n",
        "print(f\"Sum of row values without normalization: {dataset[0][0].x.sum(dim=-1)}\")\n",
        "\n",
        "dataset[0] = Planetoid(\"/tmp/Cora\", name=\"Cora\", transform=T.NormalizeFeatures())\n",
        "print(f\"Sum of row values with normalization: {dataset[0][0].x.sum(dim=-1)}\")\n",
        "print(\" \")\n",
        "\n",
        "dataset[1] = Planetoid(\"/tmp/CiteSeer\", name=\"CiteSeer\")\n",
        "print(f\"Sum of row values without normalization: {dataset[1][0].x.sum(dim=-1)}\")\n",
        "\n",
        "dataset[1] = Planetoid(\"/tmp/CiteSeer\", name=\"CiteSeer\", transform=T.NormalizeFeatures())\n",
        "print(f\"Sum of row values with normalization: {dataset[1][0].x.sum(dim=-1)}\")\n",
        "print(\" \")\n",
        "\n",
        "dataset[2] = Planetoid(\"/tmp/PubMed\", name=\"PubMed\")\n",
        "print(f\"Sum of row values without normalization: {dataset[2][0].x.sum(dim=-1)}\")\n",
        "\n",
        "dataset[2] = Planetoid(\"/tmp/PubMed\", name=\"PubMed\", transform=T.NormalizeFeatures())\n",
        "print(f\"Sum of row values with normalization: {dataset[2][0].x.sum(dim=-1)}\")\n"
      ]
    },
    {
      "cell_type": "markdown",
      "source": [
        "#Message *passing*"
      ],
      "metadata": {
        "id": "Z9vjGqOx1c48"
      },
      "id": "Z9vjGqOx1c48"
    },
    {
      "cell_type": "markdown",
      "source": [
        "##Some theory"
      ],
      "metadata": {
        "id": "izQ4uhqaDfbr"
      },
      "id": "izQ4uhqaDfbr"
    },
    {
      "cell_type": "markdown",
      "source": [
        "![image.png](data:image/png;base64,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)"
      ],
      "metadata": {
        "id": "uKuIYQZ_Clw-"
      },
      "id": "uKuIYQZ_Clw-"
    },
    {
      "cell_type": "markdown",
      "source": [
        "one of the basic ways to evaluate message passing is GCN layer:\n",
        "\n"
      ],
      "metadata": {
        "id": "xJKhRl_Q74H4"
      },
      "id": "xJKhRl_Q74H4"
    },
    {
      "cell_type": "markdown",
      "source": [
        "![image.png](data:image/png;base64,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)"
      ],
      "metadata": {
        "id": "TiGQjP2G7rjH"
      },
      "id": "TiGQjP2G7rjH"
    },
    {
      "cell_type": "markdown",
      "source": [
        "We have a single weights matrix W instead of two, summation with Kipf and Welling normalization as aggregation, and one more summation as an update function. Note that aggregation evaluates neighbors and node i itself, which is equivalent to the addition of self-loops to a graph."
      ],
      "metadata": {
        "id": "QyV1PtJo8DFc"
      },
      "id": "QyV1PtJo8DFc"
    },
    {
      "cell_type": "markdown",
      "source": [
        "So GNN with message passing mechanism can be represented as aggregation and update functions repeated several times. Each iteration of the message passing can be considered as a new GNN layer. All operations of node updates are differentiable and parametrized with weight matrixes that can be learned. Now we can build a graph convolution network and explore how it performs."
      ],
      "metadata": {
        "id": "ng5uy4h68D6R"
      },
      "id": "ng5uy4h68D6R"
    },
    {
      "cell_type": "code",
      "source": [],
      "metadata": {
        "id": "4KsOfBLM5QP9"
      },
      "id": "4KsOfBLM5QP9",
      "execution_count": null,
      "outputs": []
    },
    {
      "cell_type": "markdown",
      "source": [
        "## Message passing by overwriting the base PYG  message passing "
      ],
      "metadata": {
        "id": "Cecv9R4BECtj"
      },
      "id": "Cecv9R4BECtj"
    },
    {
      "cell_type": "code",
      "source": [],
      "metadata": {
        "id": "RsI7lK-DJbvs"
      },
      "id": "RsI7lK-DJbvs",
      "execution_count": null,
      "outputs": []
    },
    {
      "cell_type": "markdown",
      "source": [],
      "metadata": {
        "id": "0chXkBl9JcDL"
      },
      "id": "0chXkBl9JcDL"
    },
    {
      "cell_type": "code",
      "source": [
        "from torch_scatter import scatter_add\n",
        "\n",
        "dataset[0].data\n",
        "x=dataset[0].data.x\n",
        "edge_index=dataset[0].data.edge_index\n",
        "x_j = x[edge_index[0]]  # Source node features [num_edges, num_features]\n",
        "x_i = x[edge_index[1]]  # Target node features [num_edges, num_features]"
      ],
      "metadata": {
        "id": "5A-FMmdzY5Td"
      },
      "id": "5A-FMmdzY5Td",
      "execution_count": 84,
      "outputs": []
    },
    {
      "cell_type": "code",
      "source": [
        "import torch\n",
        "from torch.nn import Linear, Parameter\n",
        "from torch_geometric.nn import MessagePassing\n",
        "from torch_geometric.utils import add_self_loops, degree\n",
        "torch.manual_seed(0)\n",
        "\n",
        "class GCNConv(MessagePassing):\n",
        "    def __init__(self, in_channels, out_channels):\n",
        "        super().__init__(aggr='add')  # \"Add\" aggregation (Step 5).\n",
        "        self.lin = Linear(in_channels, out_channels, bias=False)\n",
        "        self.bias = Parameter(torch.Tensor(out_channels))\n",
        "\n",
        "        self.reset_parameters()\n",
        "\n",
        "    def reset_parameters(self):\n",
        "        self.lin.reset_parameters()\n",
        "        self.bias.data.zero_()\n",
        "\n",
        "    def forward(self, x, edge_index):\n",
        "        # x has shape [N, in_channels]\n",
        "        # edge_index has shape [2, E]\n",
        "\n",
        "        # Step 1: Add self-loops to the adjacency matrix.\n",
        "        edge_index, _ = add_self_loops(edge_index, num_nodes=x.size(0))\n",
        "\n",
        "        # Step 2: Linearly transform node feature matrix.\n",
        "        x = self.lin(x)\n",
        "\n",
        "        # Step 3: Compute normalization.\n",
        "        row, col = edge_index\n",
        "        deg = degree(col, x.size(0), dtype=x.dtype)\n",
        "        deg_inv_sqrt = deg.pow(-0.5)\n",
        "        deg_inv_sqrt[deg_inv_sqrt == float('inf')] = 0\n",
        "        norm = deg_inv_sqrt[row] * deg_inv_sqrt[col]\n",
        "        \n",
        "        # Step 4-5: Start propagating messages.\n",
        "        out = self.propagate(edge_index, x=x, norm=norm)\n",
        "        print(out.shape)\n",
        "        # Step 6: Apply a final bias vector.\n",
        "        out += self.bias\n",
        "\n",
        "        return out\n",
        "\n",
        "    def message(self, x_j, norm):\n",
        "        # x_j has shape [E, out_channels]\n",
        "\n",
        "        # Step 4: Normalize node features.\n",
        "        return norm.view(-1, 1) * x_j"
      ],
      "metadata": {
        "id": "snyi6qkpgnQb"
      },
      "id": "snyi6qkpgnQb",
      "execution_count": 75,
      "outputs": []
    },
    {
      "cell_type": "code",
      "source": [
        "conv = GCNConv(x.shape[1], 256)\n",
        "m=conv(x, edge_index)\n",
        "m"
      ],
      "metadata": {
        "colab": {
          "base_uri": "https://localhost:8080/"
        },
        "id": "ffJ0z5c-Y0BZ",
        "outputId": "163720e0-2477-4c05-ef2a-39c2e013624e"
      },
      "id": "ffJ0z5c-Y0BZ",
      "execution_count": 76,
      "outputs": [
        {
          "output_type": "stream",
          "name": "stdout",
          "text": [
            "torch.Size([2708, 256])\n"
          ]
        },
        {
          "output_type": "execute_result",
          "data": {
            "text/plain": [
              "tensor([[-0.0529,  0.0724, -0.0419,  ..., -0.0549,  0.0202,  0.0356],\n",
              "        [-0.0148,  0.0663, -0.0951,  ..., -0.0209,  0.0063,  0.0291],\n",
              "        [-0.0176,  0.0162, -0.0575,  ..., -0.0237,  0.0802,  0.0072],\n",
              "        ...,\n",
              "        [ 0.0349,  0.0439, -0.0386,  ..., -0.0317,  0.0777,  0.0822],\n",
              "        [-0.0482,  0.0186, -0.0258,  ..., -0.0140,  0.0496, -0.0036],\n",
              "        [-0.0484,  0.0450, -0.0468,  ..., -0.0032,  0.0376, -0.0059]],\n",
              "       grad_fn=<AddBackward0>)"
            ]
          },
          "metadata": {},
          "execution_count": 76
        }
      ]
    },
    {
      "cell_type": "code",
      "source": [],
      "metadata": {
        "id": "45vA8WXgzXH1"
      },
      "id": "45vA8WXgzXH1",
      "execution_count": null,
      "outputs": []
    },
    {
      "cell_type": "markdown",
      "source": [
        "###Custom Message Passing"
      ],
      "metadata": {
        "id": "uLyBlkBUET21"
      },
      "id": "uLyBlkBUET21"
    },
    {
      "cell_type": "code",
      "source": [
        "edge_index = torch.tensor([[0, 1, 0],\n",
        "                           [1, 0, 0]])\n",
        "add_self_loops(edge_index)"
      ],
      "metadata": {
        "colab": {
          "base_uri": "https://localhost:8080/"
        },
        "id": "vjgxSZAgOJd4",
        "outputId": "1921706d-08b9-4df0-f898-3d98dab6532e"
      },
      "id": "vjgxSZAgOJd4",
      "execution_count": 83,
      "outputs": [
        {
          "output_type": "execute_result",
          "data": {
            "text/plain": [
              "(tensor([[0, 1, 0, 0, 1],\n",
              "         [1, 0, 0, 0, 1]]), None)"
            ]
          },
          "metadata": {},
          "execution_count": 83
        }
      ]
    },
    {
      "cell_type": "code",
      "source": [
        "torch.manual_seed(0)\n",
        "\n",
        "\n",
        "class GCNConv():\n",
        "    \n",
        "    def __init__(self, in_channels, out_channels):\n",
        "        super().__init__()  \n",
        "        #initialisation\n",
        "        self.lin = Linear(in_channels, out_channels, bias=False)\n",
        "        self.bias = Parameter(torch.Tensor(out_channels))\n",
        "        self.flow = 'source_to_target'\n",
        "        self.out_channels=out_channels\n",
        "        self.reset_parameters()\n",
        "\n",
        "    def sum_aggregate(self,x,edge_index,num_nodes):\n",
        "        row,col=edge_index\n",
        "        tmp = torch.index_select(x, 0, row) # shape [num_edges, embed_size ]\n",
        "        index2 = col.expand(( self.out_channels, col.size(0))).T\n",
        "        # same result by using torch.scatter_add\n",
        "        aggr2 = torch.zeros(num_nodes, self.out_channels, dtype=tmp.dtype).scatter_add(0, index2, tmp)\n",
        "        return aggr2\n",
        "\n",
        "    def reset_parameters(self):\n",
        "        self.lin.reset_parameters()\n",
        "        self.bias.data.zero_()\n",
        "\n",
        "    def forward(self, x, edge_index):\n",
        "        # x has shape [N, in_channels]\n",
        "        # edge_index has shape [2, E]\n",
        "\n",
        "        # Step 1: Add self-loops to the adjacency matrix.\n",
        "        edge_index, _ = add_self_loops(edge_index, num_nodes=x.size(0))\n",
        "\n",
        "        # Step 2: Linearly transform node feature matrix.\n",
        "        x = self.lin(x)\n",
        "        num_nodes=len(x)\n",
        "\n",
        "        # Step 3: Compute normalization.\n",
        "        row, col = edge_index\n",
        "        deg = degree(col, x.size(0), dtype=x.dtype)\n",
        "        deg_inv_sqrt = deg.pow(-0.5)\n",
        "        deg_inv_sqrt[deg_inv_sqrt == float('inf')] = 0\n",
        "        norm = deg_inv_sqrt[row] * deg_inv_sqrt[col]\n",
        "      \n",
        "        # Step 4-5: Start propagating messages.\n",
        "        out = self.message(x_j,norm)\n",
        "        out=self.collect(x,edge_index)\n",
        "        x_j=out['x_j']\n",
        "        out= self.sum_aggregate(out,edge_index, num_nodes)\n",
        "\n",
        "        # Step 6: Apply a final bias vector.\n",
        "        out += self.bias\n",
        "\n",
        "        return out\n",
        "\n",
        "    def collect(self ,x,edge_index):\n",
        "        i, j = (1, 0) if self.flow == 'source_to_target' else (0, 1)\n",
        "        out={}\n",
        "        # 2. construct message x_j, x_i. Both with shape [num_edge, embed_size]\n",
        "        out['x_j'] = x.index_select(0, edge_index[i]) \n",
        "        out['x_i'] = x.index_select(0, edge_index[j])\n",
        "        out['edge_index_i'] = edge_index[i] # Source node edges \n",
        "        out['edge_index_j'] = edge_index[j]   # Target node edges \n",
        "        return out  \n",
        "\n",
        "   \n",
        "    def message(self, x_j,norm):\n",
        "        # x_j has shape [E, out_channels]\n",
        "\n",
        "        # Step 4: Normalize node features.\n",
        "        return norm.view(-1, 1) * x_j\n",
        "\n",
        "    def __call__(self,x,edge_index):\n",
        "        return self.forward(x, edge_index)\n",
        "    \n",
        "    'not needed'\n",
        "    def update(self, aggr_out):\n",
        "    # aggr_out has shape [num_nodes, out_channels]\n",
        "\n",
        "    # Step 5: Return new node embeddings.\n",
        "        return aggr_out"
      ],
      "metadata": {
        "id": "r9sLCNeSOEjI"
      },
      "id": "r9sLCNeSOEjI",
      "execution_count": 80,
      "outputs": []
    },
    {
      "cell_type": "code",
      "source": [],
      "metadata": {
        "id": "TSZk54WGE8V-"
      },
      "id": "TSZk54WGE8V-",
      "execution_count": null,
      "outputs": []
    },
    {
      "cell_type": "code",
      "source": [
        "conv = GCNConv(x.shape[1], 256)\n",
        "m=conv(x, edge_index)\n",
        "m\n",
        "\n"
      ],
      "metadata": {
        "colab": {
          "base_uri": "https://localhost:8080/"
        },
        "id": "7uQEyUvdOH8Z",
        "outputId": "e8e20cc7-cbce-423e-a9da-eea391ebffe7"
      },
      "id": "7uQEyUvdOH8Z",
      "execution_count": 82,
      "outputs": [
        {
          "output_type": "stream",
          "name": "stdout",
          "text": [
            "torch.Size([13264, 256])\n",
            "torch.Size([2708, 256])\n"
          ]
        },
        {
          "output_type": "execute_result",
          "data": {
            "text/plain": [
              "tensor([[-0.0789, -0.0216, -0.0668,  ...,  0.0028, -0.0341, -0.0143],\n",
              "        [-0.0375, -0.0111, -0.0459,  ...,  0.0203, -0.0310,  0.0424],\n",
              "        [-0.0592,  0.0296, -0.0241,  ..., -0.0166,  0.0003,  0.0141],\n",
              "        ...,\n",
              "        [ 0.0145,  0.0447,  0.0105,  ..., -0.0172, -0.0157,  0.0122],\n",
              "        [-0.0119,  0.0055, -0.0232,  ..., -0.0233,  0.0079,  0.0045],\n",
              "        [-0.0388, -0.0206, -0.0419,  ...,  0.0185,  0.0622, -0.0293]],\n",
              "       grad_fn=<AddBackward0>)"
            ]
          },
          "metadata": {},
          "execution_count": 82
        }
      ]
    },
    {
      "cell_type": "code",
      "source": [
        "class GCN(torch.nn.Module):\n",
        "    \n",
        "    def __init__(\n",
        "        self,\n",
        "        num_node_features:int,\n",
        "        num_classes:int, \n",
        "        hidden_dim: int=16,\n",
        "        dropout_rate: float=0.1,\n",
        "        num_hidden_layers=0,\n",
        "        residual=False\n",
        "        ) -> None: \n",
        "        super().__init__()\n",
        "        self.dropout1=torch.nn.Dropout(dropout_rate)\n",
        "        self.conv1=GCNConv(num_node_features, hidden_dim)\n",
        "        self.relu=torch.nn.ReLU(inplace=True)\n",
        "        ##self.hidden_convs =  torch.nn.ModuleList([GCNConv(hidden_dim, hidden_dim) for _ in range(num_hidden_layers)])\n",
        "        #self.dropout2=torch.nn.Dropout(dropout_rate)\n",
        "        self.conv2=GCNConv(hidden_dim, num_classes)\n",
        "\n",
        "    def forward(self, x:Tensor, edge_index: Tensor)-> torch.Tensor:\n",
        "            x=self.dropout1(x)\n",
        "            x=self.conv1(x, edge_index)\n",
        "            x=self.relu(x)\n",
        "            #for conv in self.hidden_convs:\n",
        "               # if residual:\n",
        "                  #  x = self.relu(conv(x, edge_index)) + x\n",
        "               # else:\n",
        "                 #   x = self.relu(conv(x, edge_index))\n",
        "            #x=self.dropout2(x)\n",
        "            x=self.conv2(x, edge_index)\n",
        "            return x"
      ],
      "metadata": {
        "id": "pz8w__yuJkQC"
      },
      "id": "pz8w__yuJkQC",
      "execution_count": 21,
      "outputs": []
    },
    {
      "cell_type": "code",
      "source": [
        "print(GCN(dataset[0].num_node_features, dataset[0].num_classes,num_hidden_layers=3,residual=False))\n"
      ],
      "metadata": {
        "colab": {
          "base_uri": "https://localhost:8080/"
        },
        "id": "MofDC6-ZJoLb",
        "outputId": "6ac36da1-16c9-4d60-9616-8ef55c883a5c"
      },
      "id": "MofDC6-ZJoLb",
      "execution_count": 26,
      "outputs": [
        {
          "output_type": "stream",
          "name": "stdout",
          "text": [
            "GCN(\n",
            "  (dropout1): Dropout(p=0.1, inplace=False)\n",
            "  (relu): ReLU(inplace=True)\n",
            ")\n"
          ]
        }
      ]
    },
    {
      "cell_type": "code",
      "source": [
        "dir(MessagePassing)"
      ],
      "metadata": {
        "colab": {
          "base_uri": "https://localhost:8080/"
        },
        "id": "xWiUzEOrxHTO",
        "outputId": "4a4fc2b2-7fd1-4ef2-819d-ff543a8a7994"
      },
      "id": "xWiUzEOrxHTO",
      "execution_count": 99,
      "outputs": [
        {
          "output_type": "execute_result",
          "data": {
            "text/plain": [
              "['T_destination',\n",
              " '__annotations__',\n",
              " '__call__',\n",
              " '__check_input__',\n",
              " '__class__',\n",
              " '__collect__',\n",
              " '__delattr__',\n",
              " '__dict__',\n",
              " '__dir__',\n",
              " '__doc__',\n",
              " '__eq__',\n",
              " '__format__',\n",
              " '__ge__',\n",
              " '__getattr__',\n",
              " '__getattribute__',\n",
              " '__gt__',\n",
              " '__hash__',\n",
              " '__init__',\n",
              " '__init_subclass__',\n",
              " '__le__',\n",
              " '__lift__',\n",
              " '__lt__',\n",
              " '__module__',\n",
              " '__ne__',\n",
              " '__new__',\n",
              " '__reduce__',\n",
              " '__reduce_ex__',\n",
              " '__repr__',\n",
              " '__set_size__',\n",
              " '__setattr__',\n",
              " '__setstate__',\n",
              " '__sizeof__',\n",
              " '__str__',\n",
              " '__subclasshook__',\n",
              " '__weakref__',\n",
              " '_apply',\n",
              " '_call_impl',\n",
              " '_get_backward_hooks',\n",
              " '_get_name',\n",
              " '_load_from_state_dict',\n",
              " '_maybe_warn_non_full_backward_hook',\n",
              " '_named_members',\n",
              " '_register_load_state_dict_pre_hook',\n",
              " '_register_state_dict_hook',\n",
              " '_replicate_for_data_parallel',\n",
              " '_save_to_state_dict',\n",
              " '_slow_forward',\n",
              " '_version',\n",
              " 'add_module',\n",
              " 'aggregate',\n",
              " 'apply',\n",
              " 'bfloat16',\n",
              " 'buffers',\n",
              " 'children',\n",
              " 'cpu',\n",
              " 'cuda',\n",
              " 'double',\n",
              " 'dump_patches',\n",
              " 'edge_update',\n",
              " 'edge_updater',\n",
              " 'eval',\n",
              " 'explain',\n",
              " 'explain_message',\n",
              " 'extra_repr',\n",
              " 'float',\n",
              " 'forward',\n",
              " 'get_buffer',\n",
              " 'get_extra_state',\n",
              " 'get_parameter',\n",
              " 'get_submodule',\n",
              " 'half',\n",
              " 'ipu',\n",
              " 'jittable',\n",
              " 'load_state_dict',\n",
              " 'message',\n",
              " 'message_and_aggregate',\n",
              " 'modules',\n",
              " 'named_buffers',\n",
              " 'named_children',\n",
              " 'named_modules',\n",
              " 'named_parameters',\n",
              " 'parameters',\n",
              " 'propagate',\n",
              " 'register_aggregate_forward_hook',\n",
              " 'register_aggregate_forward_pre_hook',\n",
              " 'register_backward_hook',\n",
              " 'register_buffer',\n",
              " 'register_edge_update_forward_hook',\n",
              " 'register_edge_update_forward_pre_hook',\n",
              " 'register_forward_hook',\n",
              " 'register_forward_pre_hook',\n",
              " 'register_full_backward_hook',\n",
              " 'register_load_state_dict_post_hook',\n",
              " 'register_message_and_aggregate_forward_hook',\n",
              " 'register_message_and_aggregate_forward_pre_hook',\n",
              " 'register_message_forward_hook',\n",
              " 'register_message_forward_pre_hook',\n",
              " 'register_module',\n",
              " 'register_parameter',\n",
              " 'register_propagate_forward_hook',\n",
              " 'register_propagate_forward_pre_hook',\n",
              " 'requires_grad_',\n",
              " 'set_extra_state',\n",
              " 'share_memory',\n",
              " 'special_args',\n",
              " 'state_dict',\n",
              " 'to',\n",
              " 'to_empty',\n",
              " 'train',\n",
              " 'type',\n",
              " 'update',\n",
              " 'xpu',\n",
              " 'zero_grad']"
            ]
          },
          "metadata": {},
          "execution_count": 99
        }
      ]
    },
    {
      "cell_type": "markdown",
      "source": [
        "# PYG (ignore this section_)"
      ],
      "metadata": {
        "id": "mAgezJDNgTMH"
      },
      "id": "mAgezJDNgTMH"
    },
    {
      "cell_type": "markdown",
      "id": "7e0f72ed",
      "metadata": {
        "id": "7e0f72ed"
      },
      "source": [
        "## 2 layer GCN set-up as in the paper"
      ]
    },
    {
      "cell_type": "code",
      "execution_count": null,
      "id": "764c1b8a",
      "metadata": {
        "id": "764c1b8a"
      },
      "outputs": [],
      "source": [
        "class GCN(torch.nn.Module):\n",
        "    \n",
        "    def __init__(\n",
        "        self,\n",
        "        num_node_features:int,\n",
        "        num_classes:int, \n",
        "        hidden_dim: int=16,\n",
        "        dropout_rate: float=0.1,\n",
        "        num_hidden_layers=0,\n",
        "        residual=False\n",
        "        ) -> None: \n",
        "        super().__init__()\n",
        "        self.dropout1=torch.nn.Dropout(dropout_rate)\n",
        "        self.conv1=GCNConv(num_node_features, hidden_dim)\n",
        "        self.relu=torch.nn.ReLU(inplace=True)\n",
        "        self.hidden_convs =  torch.nn.ModuleList([GCNConv(hidden_dim, hidden_dim) for _ in range(num_hidden_layers)])\n",
        "        self.dropout2=torch.nn.Dropout(dropout_rate)\n",
        "        self.conv2=GCNConv(hidden_dim, num_classes)\n",
        "\n",
        "    def forward(self, x:Tensor, edge_index: Tensor)-> torch.Tensor:\n",
        "            x=self.dropout1(x)\n",
        "            x=self.conv1(x, edge_index)\n",
        "            x=self.relu(x)\n",
        "            for conv in self.hidden_convs:\n",
        "                if residual:\n",
        "                    x = self.relu(conv(x, edge_index)) + x\n",
        "                else:\n",
        "                    x = self.relu(conv(x, edge_index))\n",
        "            x=self.dropout2(x)\n",
        "            x=self.conv2(x, edge_index)\n",
        "            return x\n"
      ]
    },
    {
      "cell_type": "code",
      "execution_count": null,
      "id": "5b16e916",
      "metadata": {
        "colab": {
          "base_uri": "https://localhost:8080/"
        },
        "id": "5b16e916",
        "outputId": "58b06866-b47e-4c53-ea81-979245d4a4c2"
      },
      "outputs": [
        {
          "output_type": "stream",
          "name": "stdout",
          "text": [
            "GCN(\n",
            "  (dropout1): Dropout(p=0.1, inplace=False)\n",
            "  (conv1): GCNConv(1433, 16)\n",
            "  (relu): ReLU(inplace=True)\n",
            "  (hidden_convs): ModuleList(\n",
            "    (0): GCNConv(16, 16)\n",
            "    (1): GCNConv(16, 16)\n",
            "    (2): GCNConv(16, 16)\n",
            "  )\n",
            "  (dropout2): Dropout(p=0.1, inplace=False)\n",
            "  (conv2): GCNConv(16, 7)\n",
            ")\n"
          ]
        }
      ],
      "source": [
        "print(GCN(dataset[0].num_node_features, dataset[0].num_classes,num_hidden_layers=3,residual=False))\n"
      ]
    },
    {
      "cell_type": "code",
      "execution_count": null,
      "id": "b4efb315",
      "metadata": {
        "colab": {
          "base_uri": "https://localhost:8080/"
        },
        "id": "b4efb315",
        "outputId": "377e2cdf-a1f8-44ca-9ea5-0d80e93cd67f"
      },
      "outputs": [
        {
          "output_type": "stream",
          "name": "stdout",
          "text": [
            "Graph Convolutional Network (GCN):\n",
            "GCN(\n",
            "  (dropout1): Dropout(p=0.1, inplace=False)\n",
            "  (conv1): GCNConv(1433, 16)\n",
            "  (relu): ReLU(inplace=True)\n",
            "  (hidden_convs): ModuleList()\n",
            "  (dropout2): Dropout(p=0.1, inplace=False)\n",
            "  (conv2): GCNConv(16, 7)\n",
            ")\n",
            "Graph Convolutional Network (GCN):\n",
            "GCN(\n",
            "  (dropout1): Dropout(p=0.1, inplace=False)\n",
            "  (conv1): GCNConv(3703, 16)\n",
            "  (relu): ReLU(inplace=True)\n",
            "  (hidden_convs): ModuleList()\n",
            "  (dropout2): Dropout(p=0.1, inplace=False)\n",
            "  (conv2): GCNConv(16, 6)\n",
            ")\n",
            "Graph Convolutional Network (GCN):\n",
            "GCN(\n",
            "  (dropout1): Dropout(p=0.1, inplace=False)\n",
            "  (conv1): GCNConv(500, 16)\n",
            "  (relu): ReLU(inplace=True)\n",
            "  (hidden_convs): ModuleList()\n",
            "  (dropout2): Dropout(p=0.1, inplace=False)\n",
            "  (conv2): GCNConv(16, 3)\n",
            ")\n"
          ]
        }
      ],
      "source": [
        "    \n",
        "print(\"Graph Convolutional Network (GCN):\")\n",
        "print(GCN(dataset[0].num_node_features, dataset[0].num_classes))\n",
        "\n",
        "    \n",
        "print(\"Graph Convolutional Network (GCN):\")\n",
        "print(GCN(dataset[1].num_node_features, dataset[1].num_classes))\n",
        "\n",
        "    \n",
        "print(\"Graph Convolutional Network (GCN):\")\n",
        "print(GCN(dataset[2].num_node_features, dataset[2].num_classes))\n",
        "\n"
      ]
    },
    {
      "cell_type": "markdown",
      "id": "703e3d18",
      "metadata": {
        "id": "703e3d18"
      },
      "source": [
        "## Train and eval steps"
      ]
    },
    {
      "cell_type": "code",
      "execution_count": null,
      "id": "b9c1fc1f",
      "metadata": {
        "id": "b9c1fc1f"
      },
      "outputs": [],
      "source": [
        "# we reb not using the original implementation of he framework \n",
        "# in fact we re using the model provided by Pytorch\n",
        "LossFn= Callable[[Tensor, Tensor], Tensor]\n",
        "Stage= Literal[\"train\", \"val\", \"test\"]\n",
        "\n",
        "def train_step(\n",
        "    model: torch.nn.Module, data:Data, optimizer: torch.optim.Optimizer, loss_fn:LossFn)-> Tuple[float, float]:\n",
        "    model.train()\n",
        "    optimizer.zero_grad()\n",
        "    mask=data.train_mask\n",
        "    logits=model(data.x, data.edge_index)[mask]\n",
        "    preds=logits.argmax(dim=1)\n",
        "    y=data.y[mask]\n",
        "    loss= loss_fn(logits, y)\n",
        "    acc=accuracy_score(preds, y)\n",
        "    loss.backward()\n",
        "    optimizer.step()\n",
        "    return loss.item(), acc\n",
        "\n",
        "\n",
        "@torch.no_grad()\n",
        "def eval_step(model:torch.nn.Module, data:Data, loss_fn:LossFn, stage:Stage)-> Tuple[float, float]:\n",
        "    model.eval()\n",
        "    mask=getattr(data, f\"{stage}_mask\")\n",
        "    logits=model(data.x, data.edge_index)[mask]\n",
        "    preds=logits.argmax(dim=1)\n",
        "    y=data.y[mask]\n",
        "    loss=loss_fn(logits, y)\n",
        "    acc=accuracy_score(preds, y)\n",
        "    return loss.item(), acc \n",
        "\n",
        "\n",
        "\n"
      ]
    },
    {
      "cell_type": "code",
      "execution_count": null,
      "id": "d3d876f1",
      "metadata": {
        "id": "d3d876f1"
      },
      "outputs": [],
      "source": [
        "class HistoryDict(TypedDict):\n",
        "    loss: List[float]\n",
        "    acc: List[float]\n",
        "    val_loss: List[float]\n",
        "    val_acc: List[float]\n",
        "\n",
        "def train(\n",
        "    model: torch.nn.Module,\n",
        "    data: Data,\n",
        "    optimizer: torch.optim.Optimizer,\n",
        "    loss_fn: LossFn = torch.nn.CrossEntropyLoss(),\n",
        "    max_epochs: int = 200,\n",
        "    early_stopping: int = 10,\n",
        "    print_interval: int = 20,\n",
        "    verbose: bool = False,\n",
        ") -> HistoryDict:\n",
        "    history = {\"loss\": [], \"val_loss\": [], \"acc\": [], \"val_acc\": [],\"test_acc\":[],\"test_loss\":[]}\n",
        "    for epoch in range(max_epochs):\n",
        "        loss, acc = train_step(model, data, optimizer, loss_fn)\n",
        "        val_loss, val_acc = eval_step(model, data, loss_fn, \"val\")\n",
        "        history[\"loss\"].append(loss)\n",
        "        history[\"acc\"].append(acc)\n",
        "        history[\"val_loss\"].append(val_loss)\n",
        "        history[\"val_acc\"].append(val_acc)\n",
        "        # The official implementation in TensorFlow is a little different from what is described in the paper...\n",
        "        if epoch > early_stopping and val_loss > np.mean(history[\"val_loss\"][-(early_stopping + 1) : -1]):\n",
        "            if verbose:\n",
        "                print(\"\\nEarly stopping...\")\n",
        "\n",
        "            break\n",
        "\n",
        "        if verbose and epoch % print_interval == 0:\n",
        "            print(f\"\\nEpoch: {epoch}\\n----------\")\n",
        "            print(f\"Train loss: {loss:.4f} | Train acc: {acc:.4f}\")\n",
        "            print(f\"  Val loss: {val_loss:.4f} |   Val acc: {val_acc:.4f}\")\n",
        "\n",
        "    test_loss, test_acc = eval_step(model, data, loss_fn, \"test\")\n",
        "    if verbose:\n",
        "        print(f\"\\nEpoch: {epoch}\\n----------\")\n",
        "        print(f\"Train loss: {loss:.4f} | Train acc: {acc:.4f}\")\n",
        "        print(f\"  Val loss: {val_loss:.4f} |   Val acc: {val_acc:.4f}\")\n",
        "        print(f\" Test loss: {test_loss:.4f} |  Test acc: {test_acc:.4f}\")\n",
        "    history[\"test_loss\"].append(test_loss)\n",
        "    history[\"test_acc\"].append(test_acc)\n",
        "    return history\n",
        "def plot_history(history: HistoryDict, title: str, font_size: Optional[int] = 14) -> None:\n",
        "    plt.suptitle(title, fontsize=font_size)\n",
        "    ax1 = plt.subplot(121)\n",
        "    ax1.set_title(\"Loss\")\n",
        "    ax1.plot(history[\"loss\"], label=\"train\")\n",
        "    ax1.plot(history[\"val_loss\"], label=\"val\")\n",
        "    plt.xlabel(\"Epoch\")\n",
        "    ax1.legend()\n",
        "\n",
        "    ax2 = plt.subplot(122)\n",
        "    ax2.set_title(\"Accuracy\")\n",
        "    ax2.plot(history[\"acc\"], label=\"train\")\n",
        "    ax2.plot(history[\"val_acc\"], label=\"val\")\n",
        "    plt.xlabel(\"Epoch\")\n",
        "    ax2.legend()"
      ]
    },
    {
      "cell_type": "code",
      "execution_count": null,
      "id": "32c5af18",
      "metadata": {
        "scrolled": true,
        "id": "32c5af18"
      },
      "outputs": [],
      "source": [
        "SEED = 42\n",
        "MAX_EPOCHS = 200\n",
        "LEARNING_RATE = 0.01\n",
        "WEIGHT_DECAY = 5e-4\n",
        "EARLY_STOPPING = 10\n",
        "\n",
        "torch.manual_seed(SEED)\n",
        "device = torch.device(\"cuda\" if torch.cuda.is_available() else \"cpu\")\n",
        "\n",
        "model = GCN(dataset[0].num_node_features, dataset[0].num_classes).to(device)\n",
        "data = dataset[0][0].to(device)\n",
        "optimizer = torch.optim.Adam(model.parameters(), lr=LEARNING_RATE, weight_decay=WEIGHT_DECAY)\n",
        "history = train(model, data, optimizer, max_epochs=MAX_EPOCHS, early_stopping=EARLY_STOPPING)\n",
        "\n",
        "model2 = GCN(dataset[1].num_node_features, dataset[1].num_classes).to(device)\n",
        "data2 = dataset[1][0].to(device)\n",
        "optimizer = torch.optim.Adam(model2.parameters(), lr=LEARNING_RATE, weight_decay=WEIGHT_DECAY)\n",
        "history2 = train(model2, data2, optimizer, max_epochs=MAX_EPOCHS, early_stopping=EARLY_STOPPING)\n",
        "\n",
        "model3 = GCN(dataset[2].num_node_features, dataset[2].num_classes).to(device)\n",
        "data3 = dataset[2][0].to(device)\n",
        "optimizer = torch.optim.Adam(model3.parameters(), lr=LEARNING_RATE, weight_decay=WEIGHT_DECAY)\n",
        "history3= train(model3, data3, optimizer, max_epochs=MAX_EPOCHS, early_stopping=EARLY_STOPPING)\n"
      ]
    },
    {
      "cell_type": "code",
      "execution_count": null,
      "id": "3166fbfa",
      "metadata": {
        "colab": {
          "base_uri": "https://localhost:8080/",
          "height": 308
        },
        "id": "3166fbfa",
        "outputId": "6fb9aedc-f3bf-45ca-d4d5-3310ae3ea968"
      },
      "outputs": [
        {
          "output_type": "display_data",
          "data": {
            "text/plain": [
              "<Figure size 864x288 with 2 Axes>"
            ],
            "image/png": "[encoded data removed]"
          },
          "metadata": {
            "needs_background": "light"
          }
        }
      ],
      "source": [
        "plt.figure(figsize=(12, 4))\n",
        "plot_history(history, \"Cora-GCN\")\n",
        "\n"
      ]
    },
    {
      "cell_type": "code",
      "execution_count": null,
      "id": "3c5b5bda",
      "metadata": {
        "colab": {
          "base_uri": "https://localhost:8080/",
          "height": 308
        },
        "id": "3c5b5bda",
        "outputId": "fc22277c-ee36-49e9-f073-e07a8ca3298c"
      },
      "outputs": [
        {
          "output_type": "display_data",
          "data": {
            "text/plain": [
              "<Figure size 864x288 with 2 Axes>"
            ],
            "image/png": "[encoded data removed]"
          },
          "metadata": {
            "needs_background": "light"
          }
        }
      ],
      "source": [
        "plt.figure(figsize=(12, 4))\n",
        "plot_history(history2, \"CiteSeer\")"
      ]
    },
    {
      "cell_type": "code",
      "execution_count": null,
      "id": "a5fab8d9",
      "metadata": {
        "colab": {
          "base_uri": "https://localhost:8080/",
          "height": 308
        },
        "id": "a5fab8d9",
        "outputId": "3e56647b-fd96-4ee7-c57c-6145f5659b86"
      },
      "outputs": [
        {
          "output_type": "display_data",
          "data": {
            "text/plain": [
              "<Figure size 864x288 with 2 Axes>"
            ],
            "image/png": "[encoded data removed]"
          },
          "metadata": {
            "needs_background": "light"
          }
        }
      ],
      "source": [
        "plt.figure(figsize=(12, 4))\n",
        "plot_history(history3, \"PubMed\")"
      ]
    },
    {
      "cell_type": "code",
      "source": [
        "class GCN(torch.nn.Module):\n",
        "    \n",
        "    def __init__(\n",
        "        self,\n",
        "        num_node_features:int,\n",
        "        num_classes:int, \n",
        "        hidden_dim: int=16,\n",
        "        dropout_rate: float=0.1,\n",
        "        num_hidden_layers=0,\n",
        "        residual=False\n",
        "        ) -> None: \n",
        "        super().__init__()\n",
        "        self.dropout1=torch.nn.Dropout(dropout_rate)\n",
        "        self.conv1=GCNConv(num_node_features, hidden_dim)\n",
        "        self.relu=torch.nn.ReLU(inplace=True)\n",
        "        self.hidden_convs =  torch.nn.ModuleList([GCNConv(hidden_dim, hidden_dim) for _ in range(num_hidden_layers)])\n",
        "        self.dropout2=torch.nn.Dropout(dropout_rate)\n",
        "        self.conv2=GCNConv(hidden_dim, num_classes)\n",
        "\n",
        "    def forward(self, x:Tensor, edge_index: Tensor)-> torch.Tensor:\n",
        "            x=self.dropout1(x)\n",
        "            x=self.conv1(x, edge_index)\n",
        "            x=self.relu(x)\n",
        "            for conv in self.hidden_convs:\n",
        "                if residual:\n",
        "                    x = self.relu(conv(x, edge_index)) + x\n",
        "                else:\n",
        "                    x = self.relu(conv(x, edge_index))\n",
        "            x=self.dropout2(x)\n",
        "            x=self.conv2(x, edge_index)\n",
        "            return x"
      ],
      "metadata": {
        "id": "cYn0skYcgnLY"
      },
      "id": "cYn0skYcgnLY",
      "execution_count": null,
      "outputs": []
    },
    {
      "cell_type": "code",
      "source": [],
      "metadata": {
        "id": "f_NSUAvOgnNx"
      },
      "id": "f_NSUAvOgnNx",
      "execution_count": null,
      "outputs": []
    },
    {
      "cell_type": "code",
      "source": [],
      "metadata": {
        "id": "_zTPwlVugnYQ"
      },
      "id": "_zTPwlVugnYQ",
      "execution_count": null,
      "outputs": []
    },
    {
      "cell_type": "code",
      "source": [],
      "metadata": {
        "id": "YBnDID1ygnat"
      },
      "id": "YBnDID1ygnat",
      "execution_count": null,
      "outputs": []
    }
  ],
  "metadata": {
    "kernelspec": {
      "display_name": "Python 3 (ipykernel)",
      "language": "python",
      "name": "python3"
    },
    "language_info": {
      "codemirror_mode": {
        "name": "ipython",
        "version": 3
      },
      "file_extension": ".py",
      "mimetype": "text/x-python",
      "name": "python",
      "nbconvert_exporter": "python",
      "pygments_lexer": "ipython3",
      "version": "3.9.12"
    },
    "colab": {
      "provenance": [],
      "collapsed_sections": [],
      "toc_visible": true,
      "include_colab_link": true
    }
  },
  "nbformat": 4,
  "nbformat_minor": 5
}