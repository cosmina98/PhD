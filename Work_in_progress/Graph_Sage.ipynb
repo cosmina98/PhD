{
  "nbformat": 4,
  "nbformat_minor": 0,
  "metadata": {
    "colab": {
      "provenance": [],
      "collapsed_sections": [],
      "authorship_tag": "ABX9TyMI8Tk4joy0oNIoU2Dd0vUJ",
      "include_colab_link": true
    },
    "kernelspec": {
      "name": "python3",
      "display_name": "Python 3"
    },
    "language_info": {
      "name": "python"
    }
  },
  "cells": [
    {
      "cell_type": "markdown",
      "metadata": {
        "id": "view-in-github",
        "colab_type": "text"
      },
      "source": [
        "<a href=\"https://colab.research.google.com/github/cosmina98/PhD/blob/main/Work_in_progress/Graph_Sage.ipynb\" target=\"_parent\"><img src=\"https://colab.research.google.com/assets/colab-badge.svg\" alt=\"Open In Colab\"/></a>"
      ]
    },
    {
      "cell_type": "markdown",
      "source": [
        "#Imports"
      ],
      "metadata": {
        "id": "u544FiWkIMCx"
      }
    },
    {
      "cell_type": "code",
      "execution_count": 11,
      "metadata": {
        "colab": {
          "base_uri": "https://localhost:8080/"
        },
        "id": "mgucepwTiKqg",
        "outputId": "cb79f11a-8a8f-4d34-9523-e839d8ba174b"
      },
      "outputs": [
        {
          "output_type": "stream",
          "name": "stdout",
          "text": [
            "1.12.1+cu113\n",
            "Looking in indexes: https://pypi.org/simple, https://us-python.pkg.dev/colab-wheels/public/simple/\n",
            "Requirement already satisfied: torch_geometric in /usr/local/lib/python3.7/dist-packages (2.1.0)\n",
            "Requirement already satisfied: scikit-learn in /usr/local/lib/python3.7/dist-packages (from torch_geometric) (1.0.2)\n",
            "Requirement already satisfied: numpy in /usr/local/lib/python3.7/dist-packages (from torch_geometric) (1.21.6)\n",
            "Requirement already satisfied: tqdm in /usr/local/lib/python3.7/dist-packages (from torch_geometric) (4.64.0)\n",
            "Requirement already satisfied: scipy in /usr/local/lib/python3.7/dist-packages (from torch_geometric) (1.7.3)\n",
            "Requirement already satisfied: requests in /usr/local/lib/python3.7/dist-packages (from torch_geometric) (2.23.0)\n",
            "Requirement already satisfied: jinja2 in /usr/local/lib/python3.7/dist-packages (from torch_geometric) (2.11.3)\n",
            "Requirement already satisfied: pyparsing in /usr/local/lib/python3.7/dist-packages (from torch_geometric) (3.0.9)\n",
            "Requirement already satisfied: MarkupSafe>=0.23 in /usr/local/lib/python3.7/dist-packages (from jinja2->torch_geometric) (2.0.1)\n",
            "Requirement already satisfied: chardet<4,>=3.0.2 in /usr/local/lib/python3.7/dist-packages (from requests->torch_geometric) (3.0.4)\n",
            "Requirement already satisfied: urllib3!=1.25.0,!=1.25.1,<1.26,>=1.21.1 in /usr/local/lib/python3.7/dist-packages (from requests->torch_geometric) (1.24.3)\n",
            "Requirement already satisfied: certifi>=2017.4.17 in /usr/local/lib/python3.7/dist-packages (from requests->torch_geometric) (2022.6.15)\n",
            "Requirement already satisfied: idna<3,>=2.5 in /usr/local/lib/python3.7/dist-packages (from requests->torch_geometric) (2.10)\n",
            "Requirement already satisfied: joblib>=0.11 in /usr/local/lib/python3.7/dist-packages (from scikit-learn->torch_geometric) (1.1.0)\n",
            "Requirement already satisfied: threadpoolctl>=2.0.0 in /usr/local/lib/python3.7/dist-packages (from scikit-learn->torch_geometric) (3.1.0)\n",
            "install: missing destination file operand after 'torch_geometric'\n",
            "Try 'install --help' for more information.\n"
          ]
        }
      ],
      "source": [
        "import os\n",
        "import torch\n",
        "os.environ['TORCH'] = torch.__version__\n",
        "print(torch.__version__)\n",
        "!pip install plotnine --quiet\n",
        "!pip install torch_geometric\n",
        "! install torch_geometric\n",
        "!pip install -q torch-scatter -f https://data.pyg.org/whl/torch-${TORCH}.html\n",
        "!pip install -q torch-sparse -f https://data.pyg.org/whl/torch-${TORCH}.html\n",
        "!pip install -q git+https://github.com/pyg-team/pytorch_geometric.git"
      ]
    },
    {
      "cell_type": "code",
      "source": [
        "import torch_geometric\n",
        "from torch_geometric.datasets import Planetoid\n",
        "import os.path as osp\n",
        "\n",
        "import torch\n",
        "import torch.nn.functional as F\n",
        "from torch_geometric.nn import SAGEConv"
      ],
      "metadata": {
        "id": "Lp5_AdSJi9X8"
      },
      "execution_count": 7,
      "outputs": []
    },
    {
      "cell_type": "code",
      "source": [
        "import torch_geometric \n",
        "from typing import Callable, List, Optional, Tuple\n",
        "import matplotlib.pyplot as plt\n",
        "import numpy as np\n",
        "import torch\n",
        "import torch.nn.functional as F\n",
        "import torch_geometric.transforms as T\n",
        "from torch import Tensor\n",
        "from torch.optim import Optimizer\n",
        "from torch_geometric.data import Data\n",
        "from torch_geometric.datasets import Planetoid\n",
        "from torch_geometric.nn import GCNConv,ChebConv\n",
        "#from torch_geometric.utils import accuracy\n",
        "from typing_extensions import Literal, TypedDict\n",
        "from torch_geometric.utils import get_laplacian\n",
        "import numpy as np\n",
        "import pandas as pd\n",
        "from plotnine import ggplot, geom_line, aes, xlab, theme, element_blank, ggtitle\n",
        "import scipy.sparse as sparse\n",
        "from sklearn.model_selection import KFold\n",
        "from torch_geometric.utils import to_scipy_sparse_matrix\n",
        "from dataclasses import dataclas"
      ],
      "metadata": {
        "id": "R9T-RXjJVccy"
      },
      "execution_count": null,
      "outputs": []
    },
    {
      "cell_type": "code",
      "source": [
        "# libary imports \n",
        "import os\n",
        "import torch\n",
        "from torch import nn\n",
        "import torchvision\n",
        "from torchvision.datasets import CIFAR10\n",
        "from torch.utils.data import DataLoader\n",
        "from torchvision import transforms\n",
        "import torchvision.datasets as datasets\n",
        "\n",
        "from sklearn import metrics\n",
        "from sklearn.metrics import accuracy_score\n",
        "\n",
        "from sklearn import decomposition\n",
        "from sklearn import manifold\n",
        "from tqdm.notebook import trange, tqdm\n",
        "\n",
        "import torch.nn.functional as F\n",
        "import torch.optim as optim\n",
        "import torch.utils.data as data\n",
        "\n",
        "import matplotlib.pyplot as plt\n",
        "import numpy as np\n",
        "import copy\n",
        "import random\n",
        "import time\n",
        "import pandas as pd\n",
        "\n",
        "import itertools\n",
        "from functools import reduce\n",
        "import operator\n",
        "import torch.utils.data as data_utils\n",
        "from sklearn.metrics import classification_report\n",
        "from sklearn.metrics import confusion_matrix\n",
        "import matplotlib.pyplot as plt\n",
        "from sklearn.metrics import multilabel_confusion_matrix\n",
        "from torch.utils.data import Subset\n",
        "\n",
        "from torch.optim.adadelta import Adadelta\n",
        "from torch.optim.adagrad import Adagrad\n",
        "from torch.optim.adam import Adam\n",
        "from torch.optim.adamax import Adamax\n",
        "from torch.optim.adamw import AdamW\n",
        "from torch.optim.optimizer import Optimizer\n",
        "from torch.optim.sgd import SGD\n",
        "\n",
        "import torch_geometric \n",
        "from typing import Callable, List, Optional, Tuple\n",
        "import matplotlib.pyplot as plt\n",
        "import numpy as np\n",
        "import torch\n",
        "import torch.nn.functional as F\n",
        "import torch_geometric.transforms as T\n",
        "from torch import Tensor\n",
        "from torch.optim import Optimizer\n",
        "from torch_geometric.data import Data\n",
        "from torch_geometric.datasets import Planetoid\n",
        "from torch_geometric.nn import GCNConv,ChebConv\n",
        "from typing_extensions import Literal, TypedDict\n",
        "from torch_geometric.utils import get_laplacian\n",
        "import numpy as np\n",
        "import pandas as pd\n",
        "from plotnine import ggplot, geom_line, aes, xlab, theme, element_blank, ggtitle\n",
        "import scipy.sparse as sparse\n",
        "from sklearn.model_selection import KFold\n",
        "from torch_geometric.utils import to_scipy_sparse_matrix\n",
        "from dataclasses import dataclass\n",
        "import torch_geometric.utils\n",
        "#from torch_geometric.utils import accuracy\n"
      ],
      "metadata": {
        "id": "LjSZvaHkTw5k"
      },
      "execution_count": 20,
      "outputs": []
    },
    {
      "cell_type": "code",
      "source": [
        "device = torch.device('cuda' if torch.cuda.is_available()  else 'cpu')\n"
      ],
      "metadata": {
        "id": "EDFDHjFSK64T"
      },
      "execution_count": 13,
      "outputs": []
    },
    {
      "cell_type": "code",
      "source": [],
      "metadata": {
        "id": "-r_NLLa8Lw7y"
      },
      "execution_count": null,
      "outputs": []
    },
    {
      "cell_type": "markdown",
      "source": [
        "#Dataset imports"
      ],
      "metadata": {
        "id": "DMM6naBmIQYZ"
      }
    },
    {
      "cell_type": "code",
      "source": [
        "dataset=list(range(3))\n",
        "i=0\n",
        "for dataset_name in ['Cora','CiteSeer','PubMed']:\n",
        "    dataset[i] = Planetoid('/tmp/dataset_name', name=dataset_name)\n",
        "    num_nodes = dataset[i].data.num_nodes\n",
        "    num_edges = dataset[i].data.num_edges // 2\n",
        "    train_len = dataset[i][0].train_mask.sum()\n",
        "    val_len = dataset[i][0].val_mask.sum()\n",
        "    test_len = dataset[i][0].test_mask.sum()\n",
        "    other_len = num_nodes - train_len - val_len - test_len\n",
        "    print(f\"Dataset: {dataset[i].name}\")\n",
        "    print(f\"Num. nodes: {num_nodes} (train={train_len}, val={val_len}, test={test_len}, other={other_len})\")\n",
        "    print(f\"Num. edges: {num_edges}\")\n",
        "    print(f\"Num. node features: {dataset[i].num_node_features}\")\n",
        "    print(f\"Num. classes: {dataset[i].num_classes}\")\n",
        "    print(f\"Dataset len.: {dataset[i].len()}\")\n",
        "    i=i+1\n",
        "    print(\" \")\n"
      ],
      "metadata": {
        "colab": {
          "base_uri": "https://localhost:8080/"
        },
        "id": "H2iYQ5ggjCgm",
        "outputId": "cffb51f9-9f61-40a9-cc2d-325ed73c2af9"
      },
      "execution_count": 21,
      "outputs": [
        {
          "output_type": "stream",
          "name": "stdout",
          "text": [
            "Dataset: Cora\n",
            "Num. nodes: 2708 (train=140, val=500, test=1000, other=1068)\n",
            "Num. edges: 5278\n",
            "Num. node features: 1433\n",
            "Num. classes: 7\n",
            "Dataset len.: 1\n",
            " \n",
            "Dataset: CiteSeer\n",
            "Num. nodes: 3327 (train=120, val=500, test=1000, other=1707)\n",
            "Num. edges: 4552\n",
            "Num. node features: 3703\n",
            "Num. classes: 6\n",
            "Dataset len.: 1\n",
            " \n",
            "Dataset: PubMed\n",
            "Num. nodes: 19717 (train=60, val=500, test=1000, other=18157)\n",
            "Num. edges: 44324\n",
            "Num. node features: 500\n",
            "Num. classes: 3\n",
            "Dataset len.: 1\n",
            " \n"
          ]
        }
      ]
    },
    {
      "cell_type": "markdown",
      "source": [
        "# Training and testing targets for each dataset"
      ],
      "metadata": {
        "id": "oMHbOMJ3XZwD"
      }
    },
    {
      "cell_type": "code",
      "source": [
        "d={0:{}, 1:{}, 2:{}}\n",
        "for i in range(3):\n",
        "    data=dataset[i]\n",
        "    X_train=data[0].x[data[0].train_mask]\n",
        "    d[i]['X_train']=X_train\n",
        "    y_train=data[0].y[data[0].train_mask]\n",
        "    d[i]['y_train']=y_train\n",
        "    X_test=data[0].x[data[0].test_mask]\n",
        "    d[i]['X_test']=X_test\n",
        "    y_test=data[0].y[data[0].test_mask]\n",
        "    d[i]['y_test']=y_test\n",
        "    X_val=data[0].x[data[0].val_mask]\n",
        "    d[i]['X_val']=X_val\n",
        "    y_val=data[0].y[data[0].val_mask]\n",
        "    d[i]['y_val']=X_val\n"
      ],
      "metadata": {
        "id": "9b51MCcaXZO7"
      },
      "execution_count": 71,
      "outputs": []
    },
    {
      "cell_type": "markdown",
      "source": [
        "#The model"
      ],
      "metadata": {
        "id": "u1L1UWJ993rH"
      }
    },
    {
      "cell_type": "code",
      "source": [
        "class Net(torch.nn.Module):\n",
        "    def __init__(self,\n",
        "        num_node_features:int,\n",
        "        num_classes:int):\n",
        "      \n",
        "        super(Net, self).__init__()\n",
        "        self.conv = SAGEConv(num_node_features,\n",
        "                             num_classes,\n",
        "                             aggr=\"max\") # max, mean, add ...)\n",
        "\n",
        "    def forward(self, x:Tensor, edge_index: Tensor):\n",
        "        x = self.conv(x, edge_index)\n",
        "        return F.log_softmax(x, dim=1)\n",
        "\n",
        "      "
      ],
      "metadata": {
        "id": "-G876-MMa7v-"
      },
      "execution_count": 72,
      "outputs": []
    },
    {
      "cell_type": "code",
      "source": [
        "print(Net(dataset[0].num_node_features, dataset[0].num_classes))\n",
        "print(Net(dataset[1].num_node_features, dataset[1].num_classes))\n",
        "print(Net(dataset[2].num_node_features, dataset[2].num_classes))\n"
      ],
      "metadata": {
        "colab": {
          "base_uri": "https://localhost:8080/"
        },
        "id": "iGosHBTf9rGo",
        "outputId": "b98a5b9e-7e38-46c9-cd49-ecd3908c84ac"
      },
      "execution_count": 73,
      "outputs": [
        {
          "output_type": "stream",
          "name": "stdout",
          "text": [
            "Net(\n",
            "  (conv): SAGEConv(1433, 7, aggr=max)\n",
            ")\n",
            "Net(\n",
            "  (conv): SAGEConv(3703, 6, aggr=max)\n",
            ")\n",
            "Net(\n",
            "  (conv): SAGEConv(500, 3, aggr=max)\n",
            ")\n"
          ]
        }
      ]
    },
    {
      "cell_type": "markdown",
      "source": [
        "#Train and eval steps"
      ],
      "metadata": {
        "id": "CqiF6ZTiXzDa"
      }
    },
    {
      "cell_type": "code",
      "source": [
        "# we reb not using the original implementation of he framework \n",
        "# in fact we re using the model provided by Pytorch\n",
        "LossFn= Callable[[Tensor, Tensor], Tensor]\n",
        "Stage= Literal[\"train\", \"val\", \"test\"]\n",
        "\n",
        "def train_step(\n",
        "    model: torch.nn.Module, data:Data, optimizer: torch.optim.Optimizer, loss_fn:LossFn)-> Tuple[float, float]:\n",
        "    model.train()\n",
        "    optimizer.zero_grad()\n",
        "    mask=data.train_mask\n",
        "    logits=model(data.x, data.edge_index)[mask]\n",
        "    preds=logits.argmax(dim=1)\n",
        "    y=data.y[mask]\n",
        "    loss= loss_fn(logits, y)\n",
        "    acc=accuracy_score(preds, y)\n",
        "    loss.backward()\n",
        "    optimizer.step()\n",
        "    return loss.item(), acc\n",
        "\n",
        "\n",
        "@torch.no_grad()\n",
        "def eval_step(model:torch.nn.Module, data:Data, loss_fn:LossFn, stage:Stage)-> Tuple[float, float]:\n",
        "    model.eval()\n",
        "    mask=getattr(data, f\"{stage}_mask\")\n",
        "    logits=model(data.x, data.edge_index)[mask]\n",
        "    preds=logits.argmax(dim=1)\n",
        "    y=data.y[mask]\n",
        "    loss=loss_fn(logits, y)\n",
        "    acc=accuracy_score(preds, y)\n",
        "    return loss.item(), acc "
      ],
      "metadata": {
        "id": "cuJlIHpP-OHw"
      },
      "execution_count": 74,
      "outputs": []
    },
    {
      "cell_type": "code",
      "source": [
        "class HistoryDict(TypedDict):\n",
        "    loss: List[float]\n",
        "    acc: List[float]\n",
        "    val_loss: List[float]\n",
        "    val_acc: List[float]\n",
        "\n",
        "def train(\n",
        "    model: torch.nn.Module,\n",
        "    data: Data,\n",
        "    optimizer: torch.optim.Optimizer,\n",
        "    loss_fn: LossFn = torch.nn.CrossEntropyLoss(),\n",
        "    max_epochs: int = 200,\n",
        "    early_stopping: int = 10,\n",
        "    print_interval: int = 20,\n",
        "    verbose: bool = True,\n",
        ") -> HistoryDict:\n",
        "    history = {\"loss\": [], \"val_loss\": [], \"acc\": [], \"val_acc\": [],\"test_acc\":[],\"test_loss\":[]}\n",
        "    for epoch in range(max_epochs):\n",
        "        loss, acc = train_step(model, data, optimizer, loss_fn)\n",
        "        val_loss, val_acc = eval_step(model, data, loss_fn, \"val\")\n",
        "        history[\"loss\"].append(loss)\n",
        "        history[\"acc\"].append(acc)\n",
        "        history[\"val_loss\"].append(val_loss)\n",
        "        history[\"val_acc\"].append(val_acc)\n",
        "        # The official implementation in TensorFlow is a little different from what is described in the paper...\n",
        "        if epoch > early_stopping and val_loss > np.mean(history[\"val_loss\"][-(early_stopping + 1) : -1]):\n",
        "            if verbose:\n",
        "                print(\"\\nEarly stopping...\")\n",
        "\n",
        "            break\n",
        "\n",
        "        if verbose and epoch % print_interval == 0:\n",
        "            print(f\"\\nEpoch: {epoch}\\n----------\")\n",
        "            print(f\"Train loss: {loss:.4f} | Train acc: {acc:.4f}\")\n",
        "            print(f\"  Val loss: {val_loss:.4f} |   Val acc: {val_acc:.4f}\")\n",
        "\n",
        "    test_loss, test_acc = eval_step(model, data, loss_fn, \"test\")\n",
        "    if verbose:\n",
        "        print(f\"\\nEpoch: {epoch}\\n----------\")\n",
        "        print(f\"Train loss: {loss:.4f} | Train acc: {acc:.4f}\")\n",
        "        print(f\"  Val loss: {val_loss:.4f} |   Val acc: {val_acc:.4f}\")\n",
        "        print(f\" Test loss: {test_loss:.4f} |  Test acc: {test_acc:.4f}\")\n",
        "    history[\"test_loss\"].append(test_loss)\n",
        "    history[\"test_acc\"].append(test_acc)\n",
        "    return history\n",
        "def plot_history(history: HistoryDict, title: str, font_size: Optional[int] = 14) -> None:\n",
        "    plt.suptitle(title, fontsize=font_size)\n",
        "    ax1 = plt.subplot(121)\n",
        "    ax1.set_title(\"Loss\")\n",
        "    ax1.plot(history[\"loss\"], label=\"train\")\n",
        "    ax1.plot(history[\"val_loss\"], label=\"val\")\n",
        "    plt.xlabel(\"Epoch\")\n",
        "    ax1.legend()\n",
        "\n",
        "    ax2 = plt.subplot(122)\n",
        "    ax2.set_title(\"Accuracy\")\n",
        "    ax2.plot(history[\"acc\"], label=\"train\")\n",
        "    ax2.plot(history[\"val_acc\"], label=\"val\")\n",
        "    plt.xlabel(\"Epoch\")\n",
        "    ax2.legend()"
      ],
      "metadata": {
        "id": "thWiQpvy-p-B"
      },
      "execution_count": 76,
      "outputs": []
    },
    {
      "cell_type": "code",
      "source": [
        "SEED = 42\n",
        "MAX_EPOCHS = 200\n",
        "LEARNING_RATE = 0.01\n",
        "WEIGHT_DECAY = 5e-4\n",
        "EARLY_STOPPING = 10\n",
        "\n",
        "torch.manual_seed(SEED)\n",
        "device = torch.device(\"cuda\" if torch.cuda.is_available() else \"cpu\")\n",
        "\n",
        "model = Net(dataset[0].num_node_features, dataset[0].num_classes)\n",
        "data = dataset[0][0].to(device)\n",
        "optimizer = torch.optim.Adam(model.parameters(), lr=LEARNING_RATE, weight_decay=WEIGHT_DECAY)\n",
        "history = train(model, data, optimizer, max_epochs=MAX_EPOCHS, early_stopping=EARLY_STOPPING)\n",
        "\n",
        "model2 = Net(dataset[1].num_node_features, dataset[1].num_classes).to(device)\n",
        "data2 = dataset[1][0].to(device)\n",
        "optimizer = torch.optim.Adam(model2.parameters(), lr=LEARNING_RATE, weight_decay=WEIGHT_DECAY)\n",
        "history2 = train(model2, data2, optimizer, max_epochs=MAX_EPOCHS, early_stopping=EARLY_STOPPING)\n",
        "\n",
        "model3 = Net(dataset[2].num_node_features, dataset[2].num_classes).to(device)\n",
        "data3 = dataset[2][0].to(device)\n",
        "optimizer = torch.optim.Adam(model3.parameters(), lr=LEARNING_RATE, weight_decay=WEIGHT_DECAY)\n",
        "history3= train(model3, data3, optimizer, max_epochs=MAX_EPOCHS, early_stopping=EARLY_STOPPING)"
      ],
      "metadata": {
        "colab": {
          "base_uri": "https://localhost:8080/"
        },
        "id": "ITv_A7uW-sqR",
        "outputId": "ff37d78f-c349-4ee5-d7f3-f4caf9157b50"
      },
      "execution_count": 77,
      "outputs": [
        {
          "output_type": "stream",
          "name": "stdout",
          "text": [
            "\n",
            "Epoch: 0\n",
            "----------\n",
            "Train loss: 1.9513 | Train acc: 0.1500\n",
            "  Val loss: 1.7533 |   Val acc: 0.4380\n",
            "\n",
            "Epoch: 20\n",
            "----------\n",
            "Train loss: 0.0067 | Train acc: 1.0000\n",
            "  Val loss: 0.9295 |   Val acc: 0.7080\n",
            "\n",
            "Epoch: 40\n",
            "----------\n",
            "Train loss: 0.0022 | Train acc: 1.0000\n",
            "  Val loss: 0.9234 |   Val acc: 0.7160\n",
            "\n",
            "Epoch: 60\n",
            "----------\n",
            "Train loss: 0.0027 | Train acc: 1.0000\n",
            "  Val loss: 0.9148 |   Val acc: 0.7200\n",
            "\n",
            "Epoch: 80\n",
            "----------\n",
            "Train loss: 0.0039 | Train acc: 1.0000\n",
            "  Val loss: 0.9072 |   Val acc: 0.7280\n",
            "\n",
            "Early stopping...\n",
            "\n",
            "Epoch: 100\n",
            "----------\n",
            "Train loss: 0.0053 | Train acc: 1.0000\n",
            "  Val loss: 0.9052 |   Val acc: 0.7300\n",
            " Test loss: 0.8859 |  Test acc: 0.7210\n",
            "\n",
            "Epoch: 0\n",
            "----------\n",
            "Train loss: 1.7928 | Train acc: 0.2333\n",
            "  Val loss: 1.5872 |   Val acc: 0.5060\n",
            "\n",
            "Early stopping...\n",
            "\n",
            "Epoch: 16\n",
            "----------\n",
            "Train loss: 0.0013 | Train acc: 1.0000\n",
            "  Val loss: 1.1850 |   Val acc: 0.6120\n",
            " Test loss: 1.1368 |  Test acc: 0.6120\n",
            "\n",
            "Epoch: 0\n",
            "----------\n",
            "Train loss: 1.1012 | Train acc: 0.2667\n",
            "  Val loss: 1.0843 |   Val acc: 0.5760\n",
            "\n",
            "Epoch: 20\n",
            "----------\n",
            "Train loss: 0.5473 | Train acc: 1.0000\n",
            "  Val loss: 0.8419 |   Val acc: 0.7120\n",
            "\n",
            "Epoch: 40\n",
            "----------\n",
            "Train loss: 0.3214 | Train acc: 1.0000\n",
            "  Val loss: 0.7526 |   Val acc: 0.7340\n",
            "\n",
            "Epoch: 60\n",
            "----------\n",
            "Train loss: 0.2270 | Train acc: 1.0000\n",
            "  Val loss: 0.7166 |   Val acc: 0.7260\n",
            "\n",
            "Epoch: 80\n",
            "----------\n",
            "Train loss: 0.1847 | Train acc: 1.0000\n",
            "  Val loss: 0.6994 |   Val acc: 0.7380\n",
            "\n",
            "Epoch: 100\n",
            "----------\n",
            "Train loss: 0.1630 | Train acc: 1.0000\n",
            "  Val loss: 0.6897 |   Val acc: 0.7400\n",
            "\n",
            "Epoch: 120\n",
            "----------\n",
            "Train loss: 0.1502 | Train acc: 1.0000\n",
            "  Val loss: 0.6834 |   Val acc: 0.7440\n",
            "\n",
            "Epoch: 140\n",
            "----------\n",
            "Train loss: 0.1417 | Train acc: 1.0000\n",
            "  Val loss: 0.6788 |   Val acc: 0.7460\n",
            "\n",
            "Epoch: 160\n",
            "----------\n",
            "Train loss: 0.1357 | Train acc: 1.0000\n",
            "  Val loss: 0.6753 |   Val acc: 0.7440\n",
            "\n",
            "Epoch: 180\n",
            "----------\n",
            "Train loss: 0.1312 | Train acc: 1.0000\n",
            "  Val loss: 0.6726 |   Val acc: 0.7420\n",
            "\n",
            "Epoch: 199\n",
            "----------\n",
            "Train loss: 0.1279 | Train acc: 1.0000\n",
            "  Val loss: 0.6704 |   Val acc: 0.7420\n",
            " Test loss: 0.6762 |  Test acc: 0.7550\n"
          ]
        }
      ]
    },
    {
      "cell_type": "code",
      "source": [
        "plt.figure(figsize=(12, 4))\n",
        "plot_history(history, \"Cora-Graph Sage\")\n"
      ],
      "metadata": {
        "colab": {
          "base_uri": "https://localhost:8080/",
          "height": 308
        },
        "id": "7dVHGaIpZRNq",
        "outputId": "f24ae952-f720-41e1-e436-dc82232c30f0"
      },
      "execution_count": 60,
      "outputs": [
        {
          "output_type": "display_data",
          "data": {
            "text/plain": [
              "<Figure size 864x288 with 2 Axes>"
            ],
            "image/png": "[encoded data removed]"
          },
          "metadata": {
            "needs_background": "light"
          }
        }
      ]
    },
    {
      "cell_type": "code",
      "source": [
        "plt.figure(figsize=(12, 4))\n",
        "plot_history(history2, \"CiteSeer-Graph Sage \")"
      ],
      "metadata": {
        "colab": {
          "base_uri": "https://localhost:8080/",
          "height": 308
        },
        "id": "6055rZU2Yo7D",
        "outputId": "3082d0e0-9484-4fe2-c9f0-f882100bd163"
      },
      "execution_count": 61,
      "outputs": [
        {
          "output_type": "display_data",
          "data": {
            "text/plain": [
              "<Figure size 864x288 with 2 Axes>"
            ],
            "image/png": "[encoded data removed]"
          },
          "metadata": {
            "needs_background": "light"
          }
        }
      ]
    },
    {
      "cell_type": "code",
      "source": [
        "plt.figure(figsize=(12, 4))\n",
        "plot_history(history3, \"PubMed-Graph Sage\")"
      ],
      "metadata": {
        "colab": {
          "base_uri": "https://localhost:8080/",
          "height": 308
        },
        "id": "BK3i01FyZVEy",
        "outputId": "4cf9e37d-3c3c-4233-ed7f-4659aa2ae49d"
      },
      "execution_count": 62,
      "outputs": [
        {
          "output_type": "display_data",
          "data": {
            "text/plain": [
              "<Figure size 864x288 with 2 Axes>"
            ],
            "image/png": "[encoded data removed]"
          },
          "metadata": {
            "needs_background": "light"
          }
        }
      ]
    }
  ]
}