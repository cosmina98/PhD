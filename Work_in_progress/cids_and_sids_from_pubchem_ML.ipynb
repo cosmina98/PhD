{
  "nbformat": 4,
  "nbformat_minor": 0,
  "metadata": {
    "colab": {
      "name": "cids and sids from pubchem ML ",
      "provenance": [],
      "collapsed_sections": [
        "Z0yV6Crsy93e"
      ],
      "toc_visible": true,
      "authorship_tag": "ABX9TyOIhU1u0MVpq5ZJKl/I5dbS",
      "include_colab_link": true
    },
    "kernelspec": {
      "name": "python3",
      "display_name": "Python 3"
    },
    "language_info": {
      "name": "python"
    }
  },
  "cells": [
    {
      "cell_type": "markdown",
      "metadata": {
        "id": "view-in-github",
        "colab_type": "text"
      },
      "source": [
        "<a href=\"https://colab.research.google.com/github/cosmina98/PhD/blob/main/Work_in_progress/cids_and_sids_from_pubchem_ML.ipynb\" target=\"_parent\"><img src=\"https://colab.research.google.com/assets/colab-badge.svg\" alt=\"Open In Colab\"/></a>"
      ]
    },
    {
      "cell_type": "markdown",
      "source": [
        "Objectives\n",
        "* Build binary classification models that predict activity/inactivity of small molecules against human aromatase using supervised learning methods.\n",
        "* Evaluate the performance of the developed models using performance measures."
      ],
      "metadata": {
        "id": "sdAm5nZe4umu"
      }
    },
    {
      "cell_type": "markdown",
      "source": [
        "# Imports"
      ],
      "metadata": {
        "id": "SQsMH3Qs4H_c"
      }
    },
    {
      "cell_type": "code",
      "source": [
        "! pip install rdkit --quiet\n",
        "! pip install pysmiles --quiet\n",
        "!pip install karateclub --quiet\n",
        "!pip install git+https://github.com/samoturk/mol2vec --quiet\n"
      ],
      "metadata": {
        "colab": {
          "base_uri": "https://localhost:8080/"
        },
        "id": "vYNiGQ-z4let",
        "outputId": "ea52cd51-953d-40d2-b632-3df0945b0d6a"
      },
      "execution_count": null,
      "outputs": [
        {
          "output_type": "stream",
          "name": "stdout",
          "text": [
            "\u001b[K     |████████████████████████████████| 36.8 MB 1.1 MB/s \n",
            "\u001b[?25h  Building wheel for pysmiles (setup.py) ... \u001b[?25l\u001b[?25hdone\n",
            "\u001b[K     |████████████████████████████████| 62 kB 1.1 MB/s \n",
            "\u001b[K     |████████████████████████████████| 1.8 MB 13.2 MB/s \n",
            "\u001b[K     |████████████████████████████████| 24.1 MB 1.5 MB/s \n",
            "\u001b[K     |████████████████████████████████| 50 kB 5.2 MB/s \n",
            "\u001b[?25h  Building wheel for karateclub (setup.py) ... \u001b[?25l\u001b[?25hdone\n",
            "  Building wheel for python-Levenshtein (setup.py) ... \u001b[?25l\u001b[?25hdone\n",
            "\u001b[K     |████████████████████████████████| 1.6 MB 5.4 MB/s \n",
            "\u001b[?25h  Building wheel for mol2vec (setup.py) ... \u001b[?25l\u001b[?25hdone\n"
          ]
        }
      ]
    },
    {
      "cell_type": "code",
      "source": [
        "import random\n",
        "import matplotlib.pyplot as plt\n",
        "from matplotlib.patches import ConnectionPatch\n",
        "from karateclub import Graph2Vec\n"
      ],
      "metadata": {
        "id": "aZbWenMt4rnG"
      },
      "execution_count": null,
      "outputs": []
    },
    {
      "cell_type": "code",
      "source": [
        "import matplotlib as mpl\n",
        "from matplotlib import pyplot as plt\n",
        "from pylab import rcParams"
      ],
      "metadata": {
        "id": "qeB0ft984plm"
      },
      "execution_count": null,
      "outputs": []
    },
    {
      "cell_type": "code",
      "source": [
        "import pandas as pd\n",
        "import requests\n",
        "import numpy as np\n",
        "import time\n",
        "import io\n",
        "import rdkit\n",
        "import networkx\n",
        "import networkx as nx\n",
        "import sklearn \n",
        "from io import StringIO\n",
        "from rdkit import Chem\n",
        "from rdkit.Chem import MACCSkeys\n",
        "from rdkit.Chem import Draw\n",
        "plt.rcParams['figure.figsize'] = [7.5,3]"
      ],
      "metadata": {
        "id": "64x6DHGn4YPt"
      },
      "execution_count": null,
      "outputs": []
    },
    {
      "cell_type": "code",
      "source": [
        "from sklearn.naive_bayes import BernoulliNB        #-- Naive Bayes\n",
        "from sklearn.tree import DecisionTreeClassifier\n",
        "from sklearn.ensemble import RandomForestClassifier    #-- Decision Tree\n",
        "from sklearn.metrics import classification_report\n",
        "from sklearn.metrics import confusion_matrix ,ConfusionMatrixDisplay\n",
        "from sklearn.metrics import accuracy_score\n",
        "from sklearn.metrics import roc_auc_score\n",
        "from sklearn.model_selection import train_test_split\n",
        "from sklearn.feature_selection import VarianceThreshold\n",
        "from sklearn import datasets, metrics, model_selection, svm\n",
        "from sklearn.metrics import RocCurveDisplay\n",
        "from sklearn.metrics import (precision_recall_curve,\n",
        "                            PrecisionRecallDisplay)\n",
        "from sklearn.svm import SVC\n",
        "from sklearn.preprocessing import StandardScaler\n",
        "from sklearn.datasets import make_classification\n",
        "from sklearn.model_selection import train_test_split\n",
        "from sklearn.pipeline import Pipeline\n",
        "from sklearn.preprocessing import FunctionTransformer"
      ],
      "metadata": {
        "id": "hV239K1kxttd"
      },
      "execution_count": null,
      "outputs": []
    },
    {
      "cell_type": "markdown",
      "source": [
        "#Load targets and *features*"
      ],
      "metadata": {
        "id": "seQLQE4stWM3"
      }
    },
    {
      "cell_type": "markdown",
      "source": [],
      "metadata": {
        "id": "FbAodu16VjOd"
      }
    },
    {
      "cell_type": "markdown",
      "source": [
        "## Load data from PubChem"
      ],
      "metadata": {
        "id": "XqZF2ty74EKM"
      }
    },
    {
      "cell_type": "markdown",
      "source": [
        "Data is available at:https://pubchem.ncbi.nlm.nih.gov/bioassay/1345084"
      ],
      "metadata": {
        "id": "M69ZhTEu4Pkt"
      }
    },
    {
      "cell_type": "markdown",
      "source": [
        "## Helper Functions for download, preprocessing, smiles conversion and reports"
      ],
      "metadata": {
        "id": "WdjwLyTi2-an"
      }
    },
    {
      "cell_type": "code",
      "source": [
        "def load_csv_data_from_a_PubChem_assay(assay_id):\n",
        "    #url = f'https://pubchem.ncbi.nlm.nih.gov/assay/pcget.cgi?query=download&record_type=datatable&actvty=all&response_type=save&aid={assay_id}'\n",
        "    url=f'https://pubchem.ncbi.nlm.nih.gov/rest/pug/assay/aid/{assay_id}/concise/csv'\n",
        "    #df_raw=pd.read_csv(url)\n",
        "    df_raw=pd.read_csv(url)\n",
        "    #print(df_raw.head())\n",
        "    return(df_raw)\n",
        "\n",
        "def drop_sids_with_no_cids(df):\n",
        "    df = df.dropna( subset=['cid'] )\n",
        "    #Remove CIDs with conflicting activities\n",
        "    cid_conflict = []\n",
        "    idx_conflict = []\n",
        "\n",
        "    for mycid in df['cid'].unique() :\n",
        "        \n",
        "        outcomes = df[ df.cid == mycid ].activity.unique()\n",
        "        \n",
        "        if len(outcomes) > 1 :\n",
        "            \n",
        "            idx_tmp = df.index[ df.cid == mycid ].tolist()\n",
        "            idx_conflict.extend(idx_tmp)\n",
        "            cid_conflict.append(mycid)\n",
        "\n",
        "    #print(\"#\", len(cid_conflict), \"CIDs with conflicting activities [associated with\", len(idx_conflict), \"rows (SIDs).]\")\n",
        "    df = df.drop(idx_conflict)\n",
        "\n",
        "    #Remove redundant data\n",
        "\n",
        "    df = df.drop_duplicates(subset='cid')  # remove duplicate rows except for the first occurring row.\n",
        "    #print(len(df['sid'].unique()))\n",
        "    #print(len(df['cid'].unique()))\n",
        "    return df\n",
        "    \n",
        "     \n",
        "\n",
        "def download_smiles_given_cids_from_pubmed(list_of_cids,chunk_size = 200): #returns df of smiles and cids\n",
        "    df_smiles = pd.DataFrame()\n",
        "\n",
        "    num_cids = len(list_of_cids)\n",
        "    list_dfs = []\n",
        "    if num_cids % chunk_size == 0 :\n",
        "        num_chunks = int( num_cids / chunk_size )\n",
        "    else :\n",
        "        num_chunks = int( num_cids / chunk_size ) + 1\n",
        "\n",
        "    #print(\"# CIDs = \", num_cids)\n",
        "    #print(\"# CID Chunks = \", num_chunks, \"(chunked by \", chunk_size, \")\")\n",
        "\n",
        "    for i in range(0, num_chunks) :\n",
        "        idx1 = chunk_size * i\n",
        "        idx2 = chunk_size * (i + 1)\n",
        "        cidstr = \",\".join( str(x) for x in list_of_cids[idx1:idx2] )\n",
        "\n",
        "        url = ('https://pubchem.ncbi.nlm.nih.gov/rest/pug/compound/cid/' + cidstr + '/property/IsomericSMILES/TXT')\n",
        "        res = requests.get(url)\n",
        "        data = pd.read_csv( StringIO(res.text), header=None, names=['smiles'] )\n",
        "        list_dfs.append(data)\n",
        "        \n",
        "        time.sleep(0.2)\n",
        "        \n",
        "        #if ( i % 5 == 0 ) :\n",
        "            #print(\"Processing Chunk \", i)\n",
        "    df_smiles = pd.concat(list_dfs,ignore_index=True)\n",
        "    df_smiles[ 'cid' ] = list_of_cids   \n",
        "\n",
        "    return df_smiles\n",
        "\n",
        "\n",
        "def get_report(clf, y_true, y_pred,X):\n",
        "    CMat = confusion_matrix( y_true, y_pred)\n",
        "\n",
        "    acc  = accuracy_score( y_true, y_pred )\n",
        "    \n",
        "    sens = CMat[ 1 ][ 1 ] / ( CMat[ 1 ][ 0 ] + CMat[ 1 ][ 1 ] )    # TP / (FN + TP)\n",
        "    spec = CMat[ 0 ][ 0 ] / ( CMat[ 0 ][ 0 ] + CMat[ 0 ][ 1 ] )    # TN / (TN + FP )\n",
        "    bacc = (sens + spec) / 2\n",
        "\n",
        "    y_score = clf.predict_proba( X )[:, 1]\n",
        "    auc = roc_auc_score( y_true, y_score )\n",
        "\n",
        "    print(\"#-- Accuracy          = \", acc)\n",
        "    print(\"#-- Balanced Accuracy = \", bacc)\n",
        "    print(\"#-- Sensitivity       = \", sens)\n",
        "    print(\"#-- Specificity       = \", spec)\n",
        "    print(\"#-- AUC-ROC           = \", auc)\n",
        "    #print(CMat)\n",
        "    print( classification_report(y_true, y_pred))\n",
        "    ax = plt.gca()\n",
        "    RocCurveDisplay.from_estimator(clf, X, y_true,ax=ax, alpha=0.8)\n",
        "    precision, recall, _ = precision_recall_curve(y_true, y_pred)\n",
        "    disp = PrecisionRecallDisplay(precision=precision, recall=recall)\n",
        "    disp.plot()\n",
        "    plt.show()\n",
        "    disp = ConfusionMatrixDisplay(confusion_matrix=CMat,\n",
        "                             display_labels=clf.classes_)\n",
        "    disp.plot()\n",
        "    plt.show()"
      ],
      "metadata": {
        "id": "HrPhYvC83-q1"
      },
      "execution_count": null,
      "outputs": []
    },
    {
      "cell_type": "markdown",
      "source": [
        "## Get smiles and their associated activity targets"
      ],
      "metadata": {
        "id": "QafbJDPH7w3m"
      }
    },
    {
      "cell_type": "code",
      "source": [
        "\n",
        "def load_smiles_and_activity_targets_from_a_PubChem_assay(assay_id):\n",
        "    df_raw=load_csv_data_from_a_PubChem_assay(assay_id=assay_id)\n",
        "    print(len(df_raw))\n",
        "    #Drop substances without Inconclusive activity\n",
        "    df_raw=df_raw[df_raw['Activity Outcome']!='Inconclusive']\n",
        "    #Select active/inactive compounds for model building\n",
        "    df=df_raw[ (df_raw['Activity Outcome'] == 'Active' ) | \n",
        "             (df_raw['Activity Outcome'] == 'Inactive' ) ].rename(columns={\"CID\": \"cid\", \"SID\":\"sid\",\"Activity Outcome\": \"activity\"})\n",
        "    #drop duplicates, and comnflicting activities, and substances with no cids\n",
        "    df=drop_sids_with_no_cids(df)\n",
        "    #label encoding\n",
        "    df['activity'] = [ 0 if x == 'Inactive' else 1 for x in df['activity'] ]\n",
        "    df_smiles=download_smiles_given_cids_from_pubmed(df.cid.astype(int).tolist())\n",
        "    X=df_smiles.smiles.tolist()\n",
        "    y=df.activity.astype(int).tolist()\n",
        "    return(X,y)\n",
        "X,y=load_smiles_and_activity_targets_from_a_PubChem_assay(1345084)\n",
        "X,y=np.array(X),np.array(y)"
      ],
      "metadata": {
        "colab": {
          "base_uri": "https://localhost:8080/"
        },
        "id": "a1qVv6B9XnyV",
        "outputId": "98aa2c1f-1d9a-4978-d2b9-8ff5365d68e7"
      },
      "execution_count": 848,
      "outputs": [
        {
          "output_type": "stream",
          "name": "stdout",
          "text": [
            "61765\n"
          ]
        }
      ]
    },
    {
      "cell_type": "code",
      "source": [
        "len(X), len(y)"
      ],
      "metadata": {
        "colab": {
          "base_uri": "https://localhost:8080/"
        },
        "id": "s4yZEAms9vUO",
        "outputId": "03e38ead-ed43-4157-c53d-1a9690c5a6ed"
      },
      "execution_count": 849,
      "outputs": [
        {
          "output_type": "execute_result",
          "data": {
            "text/plain": [
              "(6666, 6666)"
            ]
          },
          "metadata": {},
          "execution_count": 849
        }
      ]
    },
    {
      "cell_type": "markdown",
      "source": [
        "##This section executed only if working with Pipelines"
      ],
      "metadata": {
        "id": "rshGspguvjYf"
      }
    },
    {
      "cell_type": "markdown",
      "source": [
        "###Downsampling"
      ],
      "metadata": {
        "id": "X1h7I9LT47dT"
      }
    },
    {
      "cell_type": "code",
      "source": [
        "# Indicies of each class' observations\n",
        "idx_inactives = np.where( y == 0 )[0]\n",
        "\n",
        "idx_actives   = np.where(y == 1 )[0]\n",
        "\n",
        "# Number of observations in each class\n",
        "num_inactives = len(idx_inactives)\n",
        "num_actives   = len(idx_actives)\n",
        "\n",
        "# Randomly sample from inactives without replacement\n",
        "np.random.seed(0)\n",
        "idx_inactives_downsampled = np.random.choice(idx_inactives, size=num_actives, replace=False)\n",
        "\n",
        "# Join together downsampled inactives with actives\n",
        "X = np.vstack((X[idx_inactives_downsampled], X[idx_actives]))\n",
        "X=np.concatenate((X[0], X[1]), axis=None)\n",
        "y = np.hstack((y[idx_inactives_downsampled], y[idx_actives]))\n",
        "#X,y=np.array(X),np.array(y)\n",
        "\n",
        "print(\"# inactives : \", len(y) - y.sum())\n",
        "print(\"# actives   : \", y.sum())\n",
        "print(len(X), len(y))\n",
        "\n"
      ],
      "metadata": {
        "id": "cR80oQAm1US6",
        "colab": {
          "base_uri": "https://localhost:8080/"
        },
        "outputId": "c40eff50-7bf0-476b-d9d3-0f88e8e0fb2c"
      },
      "execution_count": 854,
      "outputs": [
        {
          "output_type": "stream",
          "name": "stdout",
          "text": [
            "# inactives :  338\n",
            "# actives   :  338\n",
            "676 676\n"
          ]
        }
      ]
    },
    {
      "cell_type": "code",
      "source": [
        "from sklearn.model_selection import train_test_split\n",
        "\n",
        "X_train, X_test, y_train, y_test = \\\n",
        "    train_test_split(X, y, shuffle=True, random_state=3100, stratify=y, test_size=0.2)\n",
        "\n",
        "print(X_train.shape, X_test.shape)\n",
        "print(len(y_train), len(y_test))\n",
        "print(np.sum(y_train), np.sum(y_test))\n"
      ],
      "metadata": {
        "colab": {
          "base_uri": "https://localhost:8080/"
        },
        "id": "46_aRKTZ1URG",
        "outputId": "03f6ffca-06cf-4439-ec33-5712aca398ca"
      },
      "execution_count": 855,
      "outputs": [
        {
          "output_type": "stream",
          "name": "stdout",
          "text": [
            "(540,) (136,)\n",
            "540 136\n",
            "270 68\n"
          ]
        }
      ]
    },
    {
      "cell_type": "code",
      "source": [
        "print(\"# inactives : \", len(y_train) - np.sum(y_train))\n",
        "print(\"# actives   : \", np.sum(y_train))"
      ],
      "metadata": {
        "colab": {
          "base_uri": "https://localhost:8080/"
        },
        "id": "EbUM1Mmg4zy6",
        "outputId": "0edc3966-010f-4138-978a-f3d6f8e0c222"
      },
      "execution_count": 856,
      "outputs": [
        {
          "output_type": "stream",
          "name": "stdout",
          "text": [
            "# inactives :  270\n",
            "# actives   :  270\n"
          ]
        }
      ]
    },
    {
      "cell_type": "markdown",
      "source": [
        "###Train-Test-Split"
      ],
      "metadata": {
        "id": "UOeCK8pM34sA"
      }
    },
    {
      "cell_type": "markdown",
      "source": [
        "#MACCS EMBEDDINGS"
      ],
      "metadata": {
        "id": "JIdw4vmDtfkR"
      }
    },
    {
      "cell_type": "markdown",
      "source": [
        "##Create a function to convert smiles to macccs"
      ],
      "metadata": {
        "id": "UzOZ6E46WoGT"
      }
    },
    {
      "cell_type": "code",
      "source": [
        "def generate_maccs_keys_from_smiles_and_cids(smiles): #takes a list of smiles and returns df of cids and associated mac\n",
        "    list_of_maccs=[]\n",
        "\n",
        "    for idx, row in enumerate(smiles):\n",
        "  \n",
        "        mol = Chem.MolFromSmiles(row)\n",
        "        \n",
        "        if mol == None :\n",
        "            print(\"Can't generate MOL object:\", idx)\n",
        "            list_of_maccs.append('None')\n",
        "        else:\n",
        "            list_of_maccs.append(list(MACCSkeys.GenMACCSKeys(mol).ToBitString()))\n",
        "\n",
        "    return(list_of_maccs)\n",
        "    "
      ],
      "metadata": {
        "id": "oDiPxfgg60of"
      },
      "execution_count": 835,
      "outputs": []
    },
    {
      "cell_type": "code",
      "source": [
        "X=generate_maccs_keys_from_smiles_and_cids(X)"
      ],
      "metadata": {
        "id": "u9mI5V7_ytKX"
      },
      "execution_count": null,
      "outputs": []
    },
    {
      "cell_type": "markdown",
      "source": [
        "## Reset the targets and labels using zip:)"
      ],
      "metadata": {
        "id": "0evcRKaFbJQb"
      }
    },
    {
      "cell_type": "code",
      "source": [
        "#merge activity data and maccs keys\n",
        "list1=[[i,j] for i,j in  zip(X,y) if i!='None' ]\n",
        "X,y=list(zip(*list1))\n",
        "X,y=np.array(X), np.array(y)\n",
        "len(X),len(y)\n"
      ],
      "metadata": {
        "colab": {
          "base_uri": "https://localhost:8080/"
        },
        "id": "g64xBvJEDFjz",
        "outputId": "87fc7891-854a-4a22-c233-1dfa5f613c72"
      },
      "execution_count": 785,
      "outputs": [
        {
          "output_type": "execute_result",
          "data": {
            "text/plain": [
              "(6666, 6666)"
            ]
          },
          "metadata": {},
          "execution_count": 785
        }
      ]
    },
    {
      "cell_type": "markdown",
      "source": [
        "##Remove the maccs key with 0 variance"
      ],
      "metadata": {
        "id": "z90XM_mn3k1G"
      }
    },
    {
      "cell_type": "code",
      "source": [
        "from sklearn.feature_selection import VarianceThreshold\n",
        "sel = VarianceThreshold()\n",
        "X=sel.fit_transform(X)\n",
        "X.shape  #- After removal"
      ],
      "metadata": {
        "colab": {
          "base_uri": "https://localhost:8080/"
        },
        "id": "sT2Rqm7g1UO-",
        "outputId": "ca73693c-a8f3-43bb-c49d-a475a4e7b89f"
      },
      "execution_count": 776,
      "outputs": [
        {
          "output_type": "execute_result",
          "data": {
            "text/plain": [
              "(6666, 160)"
            ]
          },
          "metadata": {},
          "execution_count": 776
        }
      ]
    },
    {
      "cell_type": "markdown",
      "source": [
        "##Train Test Split"
      ],
      "metadata": {
        "id": "7-8jB8jTvLeS"
      }
    },
    {
      "cell_type": "code",
      "source": [
        "from sklearn.model_selection import train_test_split\n",
        "\n",
        "X_train, X_test, y_train, y_test = \\\n",
        "    train_test_split(X, y, shuffle=True, random_state=3100, stratify=y, test_size=0.2)\n",
        "\n",
        "print(X_train.shape, X_test.shape)\n",
        "print(len(y_train), len(y_test))\n",
        "print(np.sum(y_train), np.sum(y_test))"
      ],
      "metadata": {
        "id": "PGRqeA0VvKZi"
      },
      "execution_count": null,
      "outputs": []
    },
    {
      "cell_type": "markdown",
      "source": [
        "##Downsampling"
      ],
      "metadata": {
        "id": "ObNDnHrww7_x"
      }
    },
    {
      "cell_type": "code",
      "source": [
        "\n",
        "# Indicies of each class' observations\n",
        "idx_inactives = np.where( y_train == 0 )[0]\n",
        "idx_actives   = np.where( y_train == 1 )[0]\n",
        "\n",
        "# Number of observations in each class\n",
        "num_inactives = len(idx_inactives)\n",
        "num_actives   = len(idx_actives)\n",
        "\n",
        "# Randomly sample from inactives without replacement\n",
        "np.random.seed(0)\n",
        "idx_inactives_downsampled = np.random.choice(idx_inactives, size=num_actives, replace=False)\n",
        "\n",
        "# Join together downsampled inactives with actives\n",
        "X_train = np.vstack((X_train[idx_inactives_downsampled], X_train[idx_actives]))\n",
        "y_train = np.hstack((y_train[idx_inactives_downsampled], y_train[idx_actives]))\n",
        "\n",
        "print(\"# inactives : \", len(y_train) - y_train.sum())\n",
        "print(\"# actives   : \", y_train.sum())\n",
        "print(len(y_train))\n",
        "print(len(X_train))\n",
        "print(len(X_train[0]))"
      ],
      "metadata": {
        "id": "LS3aOjtuw5sy"
      },
      "execution_count": null,
      "outputs": []
    },
    {
      "cell_type": "markdown",
      "source": [
        "##Random Forest"
      ],
      "metadata": {
        "id": "OCDyArms5aYS"
      }
    },
    {
      "cell_type": "code",
      "source": [
        "\n"
      ],
      "metadata": {
        "id": "xAiAMHKte7wi"
      },
      "execution_count": null,
      "outputs": []
    },
    {
      "cell_type": "code",
      "source": [
        "clf = RandomForestClassifier(max_depth=5, random_state=0)\n",
        "clf.fit( X_train ,y_train )\n",
        "y_true, y_pred = y_train, clf.predict( X_train )\n",
        "y_true1, y_pred1 = y_test, clf.predict( X_test )\n"
      ],
      "metadata": {
        "id": "GyMnVjuh5dWp"
      },
      "execution_count": null,
      "outputs": []
    },
    {
      "cell_type": "code",
      "source": [
        "get_report( clf, y_true, y_pred, X_train)"
      ],
      "metadata": {
        "id": "eNRYeqbG5dY6",
        "colab": {
          "base_uri": "https://localhost:8080/",
          "height": 892
        },
        "outputId": "34b4ace1-dcc6-4237-c06d-16d88bede053"
      },
      "execution_count": null,
      "outputs": [
        {
          "output_type": "stream",
          "name": "stdout",
          "text": [
            "#-- Accuracy          =  0.8586497890295358\n",
            "#-- Balanced Accuracy =  0.8586497890295359\n",
            "#-- Sensitivity       =  0.8523206751054853\n",
            "#-- Specificity       =  0.8649789029535865\n",
            "#-- AUC-ROC           =  0.9350531431928644\n",
            "              precision    recall  f1-score   support\n",
            "\n",
            "           0       0.85      0.86      0.86       237\n",
            "           1       0.86      0.85      0.86       237\n",
            "\n",
            "    accuracy                           0.86       474\n",
            "   macro avg       0.86      0.86      0.86       474\n",
            "weighted avg       0.86      0.86      0.86       474\n",
            "\n"
          ]
        },
        {
          "output_type": "display_data",
          "data": {
            "text/plain": [
              "<Figure size 540x216 with 1 Axes>"
            ],
            "image/png": "[encoded data removed]"
          },
          "metadata": {
            "needs_background": "light"
          }
        },
        {
          "output_type": "display_data",
          "data": {
            "text/plain": [
              "<Figure size 540x216 with 1 Axes>"
            ],
            "image/png": "[encoded data removed]"
          },
          "metadata": {
            "needs_background": "light"
          }
        },
        {
          "output_type": "display_data",
          "data": {
            "text/plain": [
              "<Figure size 540x216 with 2 Axes>"
            ],
            "image/png": "[encoded data removed]"
          },
          "metadata": {
            "needs_background": "light"
          }
        }
      ]
    },
    {
      "cell_type": "code",
      "source": [
        "get_report( clf,y_true1, y_pred1, X_test)"
      ],
      "metadata": {
        "colab": {
          "base_uri": "https://localhost:8080/",
          "height": 892
        },
        "id": "XJK6pCGBg5xa",
        "outputId": "75abb6fa-1aee-4f8c-883c-68380c039c01"
      },
      "execution_count": null,
      "outputs": [
        {
          "output_type": "stream",
          "name": "stdout",
          "text": [
            "#-- Accuracy          =  0.7345\n",
            "#-- Balanced Accuracy =  0.7289480132847408\n",
            "#-- Sensitivity       =  0.7227722772277227\n",
            "#-- Specificity       =  0.7351237493417588\n",
            "#-- AUC-ROC           =  0.7986120886970213\n",
            "              precision    recall  f1-score   support\n",
            "\n",
            "           0       0.98      0.74      0.84      1899\n",
            "           1       0.13      0.72      0.22       101\n",
            "\n",
            "    accuracy                           0.73      2000\n",
            "   macro avg       0.55      0.73      0.53      2000\n",
            "weighted avg       0.94      0.73      0.81      2000\n",
            "\n"
          ]
        },
        {
          "output_type": "display_data",
          "data": {
            "text/plain": [
              "<Figure size 540x216 with 1 Axes>"
            ],
            "image/png": "[encoded data removed]"
          },
          "metadata": {
            "needs_background": "light"
          }
        },
        {
          "output_type": "display_data",
          "data": {
            "text/plain": [
              "<Figure size 540x216 with 1 Axes>"
            ],
            "image/png": "[encoded data removed]"
          },
          "metadata": {
            "needs_background": "light"
          }
        },
        {
          "output_type": "display_data",
          "data": {
            "text/plain": [
              "<Figure size 540x216 with 2 Axes>"
            ],
            "image/png": "[encoded data removed]"
          },
          "metadata": {
            "needs_background": "light"
          }
        }
      ]
    },
    {
      "cell_type": "markdown",
      "source": [
        "##Grid Search CV for Random Forest"
      ],
      "metadata": {
        "id": "9lwvNXDq6zyT"
      }
    },
    {
      "cell_type": "code",
      "source": [
        "from sklearn.model_selection import GridSearchCV\n",
        "scores = [ 'roc_auc', 'balanced_accuracy' ]\n",
        "\n",
        "ncvs = 10\n",
        "\n",
        "max_depth_range         = np.linspace( 3, 7, num=5, dtype='int32' )\n",
        "n_estimators  = np.linspace( 10, 300, num=5, dtype='int32' )\n",
        "criterion  = [\"gini\", \"entropy\", \"log_loss\"]\n",
        "\n",
        "param_grid = dict( max_depth=max_depth_range,\n",
        "                   n_estimators=n_estimators,\n",
        "                   criterion=criterion )\n",
        "\n",
        "clf = GridSearchCV( RandomForestClassifier( random_state=0 ),\n",
        "                    param_grid=param_grid, cv=ncvs, scoring=scores, refit='roc_auc',\n",
        "                    return_train_score = True)"
      ],
      "metadata": {
        "id": "qiWvbsbH63Cq"
      },
      "execution_count": null,
      "outputs": []
    },
    {
      "cell_type": "code",
      "source": [
        "clf.fit( X_train, y_train )\n",
        "print(\"Best parameter set\", clf.best_params_)\n"
      ],
      "metadata": {
        "colab": {
          "base_uri": "https://localhost:8080/"
        },
        "id": "cHvHH9IY63GK",
        "outputId": "3dfb837b-a6be-4732-b84f-6b4bcf414d8e"
      },
      "execution_count": null,
      "outputs": [
        {
          "output_type": "stream",
          "name": "stderr",
          "text": [
            "/usr/local/lib/python3.7/dist-packages/sklearn/model_selection/_validation.py:372: FitFailedWarning: \n",
            "250 fits failed out of a total of 750.\n",
            "The score on these train-test partitions for these parameters will be set to nan.\n",
            "If these failures are not expected, you can try to debug them by setting error_score='raise'.\n",
            "\n",
            "Below are more details about the failures:\n",
            "--------------------------------------------------------------------------------\n",
            "250 fits failed with the following error:\n",
            "Traceback (most recent call last):\n",
            "  File \"/usr/local/lib/python3.7/dist-packages/sklearn/model_selection/_validation.py\", line 680, in _fit_and_score\n",
            "    estimator.fit(X_train, y_train, **fit_params)\n",
            "  File \"/usr/local/lib/python3.7/dist-packages/sklearn/ensemble/_forest.py\", line 467, in fit\n",
            "    for i, t in enumerate(trees)\n",
            "  File \"/usr/local/lib/python3.7/dist-packages/joblib/parallel.py\", line 1043, in __call__\n",
            "    if self.dispatch_one_batch(iterator):\n",
            "  File \"/usr/local/lib/python3.7/dist-packages/joblib/parallel.py\", line 861, in dispatch_one_batch\n",
            "    self._dispatch(tasks)\n",
            "  File \"/usr/local/lib/python3.7/dist-packages/joblib/parallel.py\", line 779, in _dispatch\n",
            "    job = self._backend.apply_async(batch, callback=cb)\n",
            "  File \"/usr/local/lib/python3.7/dist-packages/joblib/_parallel_backends.py\", line 208, in apply_async\n",
            "    result = ImmediateResult(func)\n",
            "  File \"/usr/local/lib/python3.7/dist-packages/joblib/_parallel_backends.py\", line 572, in __init__\n",
            "    self.results = batch()\n",
            "  File \"/usr/local/lib/python3.7/dist-packages/joblib/parallel.py\", line 263, in __call__\n",
            "    for func, args, kwargs in self.items]\n",
            "  File \"/usr/local/lib/python3.7/dist-packages/joblib/parallel.py\", line 263, in <listcomp>\n",
            "    for func, args, kwargs in self.items]\n",
            "  File \"/usr/local/lib/python3.7/dist-packages/sklearn/utils/fixes.py\", line 216, in __call__\n",
            "    return self.function(*args, **kwargs)\n",
            "  File \"/usr/local/lib/python3.7/dist-packages/sklearn/ensemble/_forest.py\", line 185, in _parallel_build_trees\n",
            "    tree.fit(X, y, sample_weight=curr_sample_weight, check_input=False)\n",
            "  File \"/usr/local/lib/python3.7/dist-packages/sklearn/tree/_classes.py\", line 942, in fit\n",
            "    X_idx_sorted=X_idx_sorted,\n",
            "  File \"/usr/local/lib/python3.7/dist-packages/sklearn/tree/_classes.py\", line 352, in fit\n",
            "    criterion = CRITERIA_CLF[self.criterion](\n",
            "KeyError: 'log_loss'\n",
            "\n",
            "  warnings.warn(some_fits_failed_message, FitFailedWarning)\n",
            "/usr/local/lib/python3.7/dist-packages/sklearn/model_selection/_search.py:972: UserWarning: One or more of the test scores are non-finite: [0.75371754 0.775468   0.77837409 0.77692482 0.77583031 0.77468297\n",
            " 0.78329559 0.79397645 0.79587107 0.79715429 0.77638134 0.81063557\n",
            " 0.81152627 0.81263587 0.81055254 0.80160024 0.83062349 0.82414704\n",
            " 0.8261247  0.825      0.7968901  0.82995169 0.83294082 0.83689614\n",
            " 0.83667723 0.7579446  0.77466033 0.7792346  0.78008756 0.77792874\n",
            " 0.77760417 0.78772645 0.79625604 0.79815066 0.79672403 0.77512832\n",
            " 0.80968448 0.80969203 0.8089372  0.80996377 0.79849789 0.82389795\n",
            " 0.81589674 0.82158816 0.82474336 0.79649004 0.82575483 0.82885719\n",
            " 0.83313708 0.83490338        nan        nan        nan        nan\n",
            "        nan        nan        nan        nan        nan        nan\n",
            "        nan        nan        nan        nan        nan        nan\n",
            "        nan        nan        nan        nan        nan        nan\n",
            "        nan        nan        nan]\n",
            "  category=UserWarning,\n",
            "/usr/local/lib/python3.7/dist-packages/sklearn/model_selection/_search.py:972: UserWarning: One or more of the train scores are non-finite: [0.82136533 0.84064142 0.84208425 0.84265685 0.8425049  0.87318021\n",
            " 0.89245021 0.89484848 0.89606435 0.8964571  0.91809298 0.93779619\n",
            " 0.93937407 0.93971657 0.94067582 0.95217943 0.97142598 0.97228825\n",
            " 0.97306817 0.97327315 0.97717454 0.98949425 0.99023478 0.99061771\n",
            " 0.9909194  0.81953084 0.83995506 0.84204545 0.84236908 0.84238437\n",
            " 0.86870524 0.89117662 0.89309908 0.8942534  0.89491137 0.91573214\n",
            " 0.93554462 0.93695949 0.93713115 0.9378087  0.95074118 0.96800325\n",
            " 0.96884128 0.96956688 0.97002684 0.97562271 0.98805884 0.98833474\n",
            " 0.98880879 0.9890118         nan        nan        nan        nan\n",
            "        nan        nan        nan        nan        nan        nan\n",
            "        nan        nan        nan        nan        nan        nan\n",
            "        nan        nan        nan        nan        nan        nan\n",
            "        nan        nan        nan]\n",
            "  category=UserWarning,\n",
            "/usr/local/lib/python3.7/dist-packages/sklearn/model_selection/_search.py:972: UserWarning: One or more of the test scores are non-finite: [0.69619565 0.7048913  0.70271739 0.70896739 0.70480072 0.70235507\n",
            " 0.71548913 0.70878623 0.71947464 0.72164855 0.69809783 0.72998188\n",
            " 0.73432971 0.7321558  0.73632246 0.71331522 0.74692029 0.75108696\n",
            " 0.73849638 0.73423913 0.73596014 0.75932971 0.75942029 0.7553442\n",
            " 0.75317029 0.68994565 0.68768116 0.69646739 0.70896739 0.69846014\n",
            " 0.69873188 0.73007246 0.70878623 0.71929348 0.72780797 0.70887681\n",
            " 0.72581522 0.72780797 0.72563406 0.71947464 0.73405797 0.74230072\n",
            " 0.7446558  0.74456522 0.73831522 0.72164855 0.74682971 0.74039855\n",
            " 0.74682971 0.74900362        nan        nan        nan        nan\n",
            "        nan        nan        nan        nan        nan        nan\n",
            "        nan        nan        nan        nan        nan        nan\n",
            "        nan        nan        nan        nan        nan        nan\n",
            "        nan        nan        nan]\n",
            "  category=UserWarning,\n",
            "/usr/local/lib/python3.7/dist-packages/sklearn/model_selection/_search.py:972: UserWarning: One or more of the train scores are non-finite: [0.74753302 0.76769558 0.77308148 0.77496051 0.77261419 0.79371133\n",
            " 0.80800426 0.81386512 0.81574086 0.81527686 0.84082862 0.86286363\n",
            " 0.86895595 0.86731714 0.86731714 0.88466719 0.9083443  0.90951472\n",
            " 0.90975056 0.91022224 0.91959107 0.94256395 0.94467663 0.94585034\n",
            " 0.94796191 0.74424883 0.76184568 0.76909745 0.77168509 0.77308367\n",
            " 0.79302027 0.81106687 0.81340222 0.81597999 0.81316858 0.83707714\n",
            " 0.85958163 0.86192357 0.86240183 0.86450902 0.87859681 0.90084244\n",
            " 0.90248453 0.90365715 0.90295182 0.91866855 0.94186631 0.93905599\n",
            " 0.94046334 0.94046553        nan        nan        nan        nan\n",
            "        nan        nan        nan        nan        nan        nan\n",
            "        nan        nan        nan        nan        nan        nan\n",
            "        nan        nan        nan        nan        nan        nan\n",
            "        nan        nan        nan]\n",
            "  category=UserWarning,\n"
          ]
        },
        {
          "output_type": "stream",
          "name": "stdout",
          "text": [
            "Best parameter set {'criterion': 'gini', 'max_depth': 7, 'n_estimators': 227}\n"
          ]
        }
      ]
    },
    {
      "cell_type": "code",
      "source": [
        "means_1a = clf.cv_results_['mean_train_roc_auc']\n",
        "stds_1a  = clf.cv_results_['std_train_roc_auc']\n",
        "\n",
        "means_1b = clf.cv_results_['mean_test_roc_auc']\n",
        "stds_1b  = clf.cv_results_['std_test_roc_auc']\n",
        "\n",
        "means_2a = clf.cv_results_['mean_train_balanced_accuracy']\n",
        "stds_2a  = clf.cv_results_['std_train_balanced_accuracy']\n",
        "\n",
        "means_2b = clf.cv_results_['mean_test_balanced_accuracy']\n",
        "stds_2b  = clf.cv_results_['std_test_balanced_accuracy']\n",
        "\n",
        "iterobjs = zip( means_1a, stds_1a, means_1b, stds_1b,\n",
        "                means_2a, stds_2a, means_2b, stds_2b, clf.cv_results_['params'] )\n",
        "\n",
        "for m1a, s1a, m1b, s1b, m2a, s2a, m2b, s2b, params in iterobjs :\n",
        "\n",
        "    print( \"Grid %r : %0.4f %0.04f %0.4f %0.04f %0.4f %0.04f %0.4f %0.04f\"\n",
        "           % ( params, m1a, s1a, m1b, s1b, m2a, s2a, m2b, s2b))"
      ],
      "metadata": {
        "colab": {
          "base_uri": "https://localhost:8080/"
        },
        "id": "GItwgVv86dyT",
        "outputId": "303d2f19-c4e0-46f3-a8e0-e18218f6c7cb"
      },
      "execution_count": null,
      "outputs": [
        {
          "output_type": "stream",
          "name": "stdout",
          "text": [
            "Grid {'criterion': 'gini', 'max_depth': 3, 'n_estimators': 10} : 0.8214 0.0124 0.7537 0.0605 0.7475 0.0177 0.6962 0.0678\n",
            "Grid {'criterion': 'gini', 'max_depth': 3, 'n_estimators': 82} : 0.8406 0.0067 0.7755 0.0515 0.7677 0.0163 0.7049 0.0484\n",
            "Grid {'criterion': 'gini', 'max_depth': 3, 'n_estimators': 155} : 0.8421 0.0059 0.7784 0.0529 0.7731 0.0118 0.7027 0.0462\n",
            "Grid {'criterion': 'gini', 'max_depth': 3, 'n_estimators': 227} : 0.8427 0.0052 0.7769 0.0507 0.7750 0.0109 0.7090 0.0390\n",
            "Grid {'criterion': 'gini', 'max_depth': 3, 'n_estimators': 300} : 0.8425 0.0049 0.7758 0.0514 0.7726 0.0128 0.7048 0.0319\n",
            "Grid {'criterion': 'gini', 'max_depth': 4, 'n_estimators': 10} : 0.8732 0.0089 0.7747 0.0605 0.7937 0.0135 0.7024 0.0729\n",
            "Grid {'criterion': 'gini', 'max_depth': 4, 'n_estimators': 82} : 0.8925 0.0040 0.7833 0.0546 0.8080 0.0070 0.7155 0.0503\n",
            "Grid {'criterion': 'gini', 'max_depth': 4, 'n_estimators': 155} : 0.8948 0.0045 0.7940 0.0483 0.8139 0.0072 0.7088 0.0571\n",
            "Grid {'criterion': 'gini', 'max_depth': 4, 'n_estimators': 227} : 0.8961 0.0043 0.7959 0.0502 0.8157 0.0079 0.7195 0.0570\n",
            "Grid {'criterion': 'gini', 'max_depth': 4, 'n_estimators': 300} : 0.8965 0.0036 0.7972 0.0540 0.8153 0.0071 0.7216 0.0567\n",
            "Grid {'criterion': 'gini', 'max_depth': 5, 'n_estimators': 10} : 0.9181 0.0094 0.7764 0.0614 0.8408 0.0091 0.6981 0.0816\n",
            "Grid {'criterion': 'gini', 'max_depth': 5, 'n_estimators': 82} : 0.9378 0.0043 0.8106 0.0509 0.8629 0.0039 0.7300 0.0612\n",
            "Grid {'criterion': 'gini', 'max_depth': 5, 'n_estimators': 155} : 0.9394 0.0031 0.8115 0.0538 0.8690 0.0054 0.7343 0.0575\n",
            "Grid {'criterion': 'gini', 'max_depth': 5, 'n_estimators': 227} : 0.9397 0.0031 0.8126 0.0502 0.8673 0.0048 0.7322 0.0528\n",
            "Grid {'criterion': 'gini', 'max_depth': 5, 'n_estimators': 300} : 0.9407 0.0029 0.8106 0.0492 0.8673 0.0059 0.7363 0.0555\n",
            "Grid {'criterion': 'gini', 'max_depth': 6, 'n_estimators': 10} : 0.9522 0.0059 0.8016 0.0561 0.8847 0.0122 0.7133 0.0814\n",
            "Grid {'criterion': 'gini', 'max_depth': 6, 'n_estimators': 82} : 0.9714 0.0023 0.8306 0.0504 0.9083 0.0065 0.7469 0.0666\n",
            "Grid {'criterion': 'gini', 'max_depth': 6, 'n_estimators': 155} : 0.9723 0.0024 0.8241 0.0496 0.9095 0.0065 0.7511 0.0646\n",
            "Grid {'criterion': 'gini', 'max_depth': 6, 'n_estimators': 227} : 0.9731 0.0021 0.8261 0.0474 0.9098 0.0052 0.7385 0.0540\n",
            "Grid {'criterion': 'gini', 'max_depth': 6, 'n_estimators': 300} : 0.9733 0.0021 0.8250 0.0482 0.9102 0.0042 0.7342 0.0550\n",
            "Grid {'criterion': 'gini', 'max_depth': 7, 'n_estimators': 10} : 0.9772 0.0057 0.7969 0.0649 0.9196 0.0091 0.7360 0.0651\n",
            "Grid {'criterion': 'gini', 'max_depth': 7, 'n_estimators': 82} : 0.9895 0.0011 0.8300 0.0529 0.9426 0.0066 0.7593 0.0640\n",
            "Grid {'criterion': 'gini', 'max_depth': 7, 'n_estimators': 155} : 0.9902 0.0012 0.8329 0.0493 0.9447 0.0060 0.7594 0.0556\n",
            "Grid {'criterion': 'gini', 'max_depth': 7, 'n_estimators': 227} : 0.9906 0.0011 0.8369 0.0513 0.9459 0.0048 0.7553 0.0626\n",
            "Grid {'criterion': 'gini', 'max_depth': 7, 'n_estimators': 300} : 0.9909 0.0011 0.8367 0.0478 0.9480 0.0047 0.7532 0.0634\n",
            "Grid {'criterion': 'entropy', 'max_depth': 3, 'n_estimators': 10} : 0.8195 0.0115 0.7579 0.0562 0.7442 0.0184 0.6899 0.0634\n",
            "Grid {'criterion': 'entropy', 'max_depth': 3, 'n_estimators': 82} : 0.8400 0.0066 0.7747 0.0473 0.7618 0.0193 0.6877 0.0463\n",
            "Grid {'criterion': 'entropy', 'max_depth': 3, 'n_estimators': 155} : 0.8420 0.0056 0.7792 0.0491 0.7691 0.0114 0.6965 0.0486\n",
            "Grid {'criterion': 'entropy', 'max_depth': 3, 'n_estimators': 227} : 0.8424 0.0048 0.7801 0.0511 0.7717 0.0115 0.7090 0.0412\n",
            "Grid {'criterion': 'entropy', 'max_depth': 3, 'n_estimators': 300} : 0.8424 0.0046 0.7779 0.0515 0.7731 0.0115 0.6985 0.0471\n",
            "Grid {'criterion': 'entropy', 'max_depth': 4, 'n_estimators': 10} : 0.8687 0.0095 0.7776 0.0600 0.7930 0.0172 0.6987 0.0424\n",
            "Grid {'criterion': 'entropy', 'max_depth': 4, 'n_estimators': 82} : 0.8912 0.0025 0.7877 0.0525 0.8111 0.0097 0.7301 0.0548\n",
            "Grid {'criterion': 'entropy', 'max_depth': 4, 'n_estimators': 155} : 0.8931 0.0038 0.7963 0.0465 0.8134 0.0052 0.7088 0.0611\n",
            "Grid {'criterion': 'entropy', 'max_depth': 4, 'n_estimators': 227} : 0.8943 0.0038 0.7982 0.0468 0.8160 0.0065 0.7193 0.0659\n",
            "Grid {'criterion': 'entropy', 'max_depth': 4, 'n_estimators': 300} : 0.8949 0.0032 0.7967 0.0524 0.8132 0.0043 0.7278 0.0610\n",
            "Grid {'criterion': 'entropy', 'max_depth': 5, 'n_estimators': 10} : 0.9157 0.0082 0.7751 0.0635 0.8371 0.0104 0.7089 0.0835\n",
            "Grid {'criterion': 'entropy', 'max_depth': 5, 'n_estimators': 82} : 0.9355 0.0034 0.8097 0.0455 0.8596 0.0058 0.7258 0.0533\n",
            "Grid {'criterion': 'entropy', 'max_depth': 5, 'n_estimators': 155} : 0.9370 0.0034 0.8097 0.0445 0.8619 0.0068 0.7278 0.0504\n",
            "Grid {'criterion': 'entropy', 'max_depth': 5, 'n_estimators': 227} : 0.9371 0.0030 0.8089 0.0453 0.8624 0.0067 0.7256 0.0474\n",
            "Grid {'criterion': 'entropy', 'max_depth': 5, 'n_estimators': 300} : 0.9378 0.0026 0.8100 0.0465 0.8645 0.0032 0.7195 0.0547\n",
            "Grid {'criterion': 'entropy', 'max_depth': 6, 'n_estimators': 10} : 0.9507 0.0056 0.7985 0.0593 0.8786 0.0130 0.7341 0.0648\n",
            "Grid {'criterion': 'entropy', 'max_depth': 6, 'n_estimators': 82} : 0.9680 0.0022 0.8239 0.0465 0.9008 0.0057 0.7423 0.0618\n",
            "Grid {'criterion': 'entropy', 'max_depth': 6, 'n_estimators': 155} : 0.9688 0.0016 0.8159 0.0505 0.9025 0.0072 0.7447 0.0571\n",
            "Grid {'criterion': 'entropy', 'max_depth': 6, 'n_estimators': 227} : 0.9696 0.0017 0.8216 0.0501 0.9037 0.0058 0.7446 0.0613\n",
            "Grid {'criterion': 'entropy', 'max_depth': 6, 'n_estimators': 300} : 0.9700 0.0016 0.8247 0.0504 0.9030 0.0047 0.7383 0.0598\n",
            "Grid {'criterion': 'entropy', 'max_depth': 7, 'n_estimators': 10} : 0.9756 0.0044 0.7965 0.0557 0.9187 0.0124 0.7216 0.0533\n",
            "Grid {'criterion': 'entropy', 'max_depth': 7, 'n_estimators': 82} : 0.9881 0.0021 0.8258 0.0420 0.9419 0.0062 0.7468 0.0498\n",
            "Grid {'criterion': 'entropy', 'max_depth': 7, 'n_estimators': 155} : 0.9883 0.0017 0.8289 0.0435 0.9391 0.0051 0.7404 0.0541\n",
            "Grid {'criterion': 'entropy', 'max_depth': 7, 'n_estimators': 227} : 0.9888 0.0013 0.8331 0.0433 0.9405 0.0060 0.7468 0.0587\n",
            "Grid {'criterion': 'entropy', 'max_depth': 7, 'n_estimators': 300} : 0.9890 0.0014 0.8349 0.0421 0.9405 0.0069 0.7490 0.0555\n",
            "Grid {'criterion': 'log_loss', 'max_depth': 3, 'n_estimators': 10} : nan nan nan nan nan nan nan nan\n",
            "Grid {'criterion': 'log_loss', 'max_depth': 3, 'n_estimators': 82} : nan nan nan nan nan nan nan nan\n",
            "Grid {'criterion': 'log_loss', 'max_depth': 3, 'n_estimators': 155} : nan nan nan nan nan nan nan nan\n",
            "Grid {'criterion': 'log_loss', 'max_depth': 3, 'n_estimators': 227} : nan nan nan nan nan nan nan nan\n",
            "Grid {'criterion': 'log_loss', 'max_depth': 3, 'n_estimators': 300} : nan nan nan nan nan nan nan nan\n",
            "Grid {'criterion': 'log_loss', 'max_depth': 4, 'n_estimators': 10} : nan nan nan nan nan nan nan nan\n",
            "Grid {'criterion': 'log_loss', 'max_depth': 4, 'n_estimators': 82} : nan nan nan nan nan nan nan nan\n",
            "Grid {'criterion': 'log_loss', 'max_depth': 4, 'n_estimators': 155} : nan nan nan nan nan nan nan nan\n",
            "Grid {'criterion': 'log_loss', 'max_depth': 4, 'n_estimators': 227} : nan nan nan nan nan nan nan nan\n",
            "Grid {'criterion': 'log_loss', 'max_depth': 4, 'n_estimators': 300} : nan nan nan nan nan nan nan nan\n",
            "Grid {'criterion': 'log_loss', 'max_depth': 5, 'n_estimators': 10} : nan nan nan nan nan nan nan nan\n",
            "Grid {'criterion': 'log_loss', 'max_depth': 5, 'n_estimators': 82} : nan nan nan nan nan nan nan nan\n",
            "Grid {'criterion': 'log_loss', 'max_depth': 5, 'n_estimators': 155} : nan nan nan nan nan nan nan nan\n",
            "Grid {'criterion': 'log_loss', 'max_depth': 5, 'n_estimators': 227} : nan nan nan nan nan nan nan nan\n",
            "Grid {'criterion': 'log_loss', 'max_depth': 5, 'n_estimators': 300} : nan nan nan nan nan nan nan nan\n",
            "Grid {'criterion': 'log_loss', 'max_depth': 6, 'n_estimators': 10} : nan nan nan nan nan nan nan nan\n",
            "Grid {'criterion': 'log_loss', 'max_depth': 6, 'n_estimators': 82} : nan nan nan nan nan nan nan nan\n",
            "Grid {'criterion': 'log_loss', 'max_depth': 6, 'n_estimators': 155} : nan nan nan nan nan nan nan nan\n",
            "Grid {'criterion': 'log_loss', 'max_depth': 6, 'n_estimators': 227} : nan nan nan nan nan nan nan nan\n",
            "Grid {'criterion': 'log_loss', 'max_depth': 6, 'n_estimators': 300} : nan nan nan nan nan nan nan nan\n",
            "Grid {'criterion': 'log_loss', 'max_depth': 7, 'n_estimators': 10} : nan nan nan nan nan nan nan nan\n",
            "Grid {'criterion': 'log_loss', 'max_depth': 7, 'n_estimators': 82} : nan nan nan nan nan nan nan nan\n",
            "Grid {'criterion': 'log_loss', 'max_depth': 7, 'n_estimators': 155} : nan nan nan nan nan nan nan nan\n",
            "Grid {'criterion': 'log_loss', 'max_depth': 7, 'n_estimators': 227} : nan nan nan nan nan nan nan nan\n",
            "Grid {'criterion': 'log_loss', 'max_depth': 7, 'n_estimators': 300} : nan nan nan nan nan nan nan nan\n"
          ]
        }
      ]
    },
    {
      "cell_type": "code",
      "source": [
        "clf0 = RandomForestClassifier(criterion='gini', max_depth=7, n_estimators= 227)\n",
        "clf0.fit( X_train ,y_train )\n",
        "y_true, y_pred = y_test, clf0.predict( X_test )"
      ],
      "metadata": {
        "id": "kpvpPuDb6iw5"
      },
      "execution_count": null,
      "outputs": []
    },
    {
      "cell_type": "code",
      "source": [
        "get_report( clf0,y_true1, y_pred1, X_test)"
      ],
      "metadata": {
        "colab": {
          "base_uri": "https://localhost:8080/",
          "height": 892
        },
        "id": "9Wvcv9bB7xwu",
        "outputId": "c246ee98-37c0-4078-ab90-9d1fc8c19f48"
      },
      "execution_count": null,
      "outputs": [
        {
          "output_type": "stream",
          "name": "stdout",
          "text": [
            "#-- Accuracy          =  0.7345\n",
            "#-- Balanced Accuracy =  0.7289480132847408\n",
            "#-- Sensitivity       =  0.7227722772277227\n",
            "#-- Specificity       =  0.7351237493417588\n",
            "#-- AUC-ROC           =  0.8184609930187331\n",
            "              precision    recall  f1-score   support\n",
            "\n",
            "           0       0.98      0.74      0.84      1899\n",
            "           1       0.13      0.72      0.22       101\n",
            "\n",
            "    accuracy                           0.73      2000\n",
            "   macro avg       0.55      0.73      0.53      2000\n",
            "weighted avg       0.94      0.73      0.81      2000\n",
            "\n"
          ]
        },
        {
          "output_type": "display_data",
          "data": {
            "text/plain": [
              "<Figure size 540x216 with 1 Axes>"
            ],
            "image/png": "[encoded data removed]"
          },
          "metadata": {
            "needs_background": "light"
          }
        },
        {
          "output_type": "display_data",
          "data": {
            "text/plain": [
              "<Figure size 540x216 with 1 Axes>"
            ],
            "image/png": "[encoded data removed]"
          },
          "metadata": {
            "needs_background": "light"
          }
        },
        {
          "output_type": "display_data",
          "data": {
            "text/plain": [
              "<Figure size 540x216 with 2 Axes>"
            ],
            "image/png": "[encoded data removed]"
          },
          "metadata": {
            "needs_background": "light"
          }
        }
      ]
    },
    {
      "cell_type": "markdown",
      "source": [],
      "metadata": {
        "id": "ShiZNeTf0HV3"
      }
    },
    {
      "cell_type": "markdown",
      "source": [
        "##Pipeline I (only works if we can gnerate the MACCS keys for each training point, the transformers do not allow passing changed targets as argument in between sequences)\n",
        "\n",
        "https://stackoverflow.com/questions/34727463/scikit-learn-custom-transformer-pipeline-that-changes-x-and-y"
      ],
      "metadata": {
        "id": "sG3Smehr0JcQ"
      }
    },
    {
      "cell_type": "code",
      "source": [
        "type(h)"
      ],
      "metadata": {
        "colab": {
          "base_uri": "https://localhost:8080/"
        },
        "id": "qtiMhCiygjnh",
        "outputId": "970d1d08-3604-4b16-fee5-9f90ae295384"
      },
      "execution_count": null,
      "outputs": [
        {
          "output_type": "execute_result",
          "data": {
            "text/plain": [
              "list"
            ]
          },
          "metadata": {},
          "execution_count": 744
        }
      ]
    },
    {
      "cell_type": "code",
      "source": [
        "from pandas.io.sql import PandasSQL\n",
        "from sklearn.base import BaseEstimator, TransformerMixin\n",
        "from numpy.random import randint\n",
        "\n",
        "class SmitoMACCS(BaseEstimator, TransformerMixin):\n",
        "\n",
        "\n",
        "    def fit(self, X,y=None):\n",
        "        return self\n",
        "    def transform(self, X, y=None):\n",
        "        X=generate_maccs_keys_from_smiles_and_cids(X) #takes a df and returns df of cids and associated mac\n",
        "        if any(a == 'None' for a in X):\n",
        "          return None\n",
        "        return np.array(X)\n",
        "         \n"
      ],
      "metadata": {
        "id": "4TNAoCI2DR5L"
      },
      "execution_count": null,
      "outputs": []
    },
    {
      "cell_type": "code",
      "source": [
        " import inspect\n",
        " inspect.getmembers(TransformerMixin, lambda a:not(inspect.isroutine(a)))"
      ],
      "metadata": {
        "colab": {
          "base_uri": "https://localhost:8080/"
        },
        "id": "Mh6IutwLYT5X",
        "outputId": "26a551e3-ff65-42aa-a672-dd4376587099"
      },
      "execution_count": null,
      "outputs": [
        {
          "output_type": "execute_result",
          "data": {
            "text/plain": [
              "[('__class__', type),\n",
              " ('__dict__',\n",
              "  mappingproxy({'__module__': 'sklearn.base',\n",
              "                '__doc__': 'Mixin class for all transformers in scikit-learn.',\n",
              "                'fit_transform': <function sklearn.base.TransformerMixin.fit_transform(self, X, y=None, **fit_params)>,\n",
              "                '__dict__': <attribute '__dict__' of 'TransformerMixin' objects>,\n",
              "                '__weakref__': <attribute '__weakref__' of 'TransformerMixin' objects>})),\n",
              " ('__doc__', 'Mixin class for all transformers in scikit-learn.'),\n",
              " ('__module__', 'sklearn.base'),\n",
              " ('__weakref__', <attribute '__weakref__' of 'TransformerMixin' objects>)]"
            ]
          },
          "metadata": {},
          "execution_count": 732
        }
      ]
    },
    {
      "cell_type": "code",
      "source": [
        "clf0 = RandomForestClassifier(criterion='gini', max_depth=7, n_estimators= 227)\n",
        "pipe = Pipeline([('scaler', SmitoMACCS()), ('rf', clf0)])\n",
        "#pipe = Pipeline([('scaler', SmitoMACCS())])"
      ],
      "metadata": {
        "id": "aCu05hnP0Ui5"
      },
      "execution_count": null,
      "outputs": []
    },
    {
      "cell_type": "code",
      "source": [
        "X_train, X_test, y_train, y_test = \\\n",
        "    train_test_split(X, y, shuffle=True, random_state=3100, stratify=y, test_size=0.3)"
      ],
      "metadata": {
        "id": "WpYo0zjbkXqi"
      },
      "execution_count": null,
      "outputs": []
    },
    {
      "cell_type": "code",
      "source": [
        "result=pipe.fit(X_train,y_train)"
      ],
      "metadata": {
        "id": "tfx_8Zyu1B-R"
      },
      "execution_count": null,
      "outputs": []
    },
    {
      "cell_type": "code",
      "source": [
        "result.score(X_test, y_test)"
      ],
      "metadata": {
        "colab": {
          "base_uri": "https://localhost:8080/"
        },
        "id": "mJq7H4LPDQtA",
        "outputId": "f81a58ef-3988-47ad-f0f4-c1d6d53df97c"
      },
      "execution_count": 761,
      "outputs": [
        {
          "output_type": "execute_result",
          "data": {
            "text/plain": [
              "0.9495"
            ]
          },
          "metadata": {},
          "execution_count": 761
        }
      ]
    },
    {
      "cell_type": "markdown",
      "source": [
        "# Graph Embeddings"
      ],
      "metadata": {
        "id": "ATrbi9Is8nW-"
      }
    },
    {
      "cell_type": "code",
      "source": [
        "def mol_to_nx(mol):\n",
        "    G = nx.Graph()\n",
        "\n",
        "    for atom in mol.GetAtoms():\n",
        "        G.add_node(atom.GetIdx(),\n",
        "                   atomic_num=atom.GetAtomicNum(),\n",
        "                   is_aromatic=atom.GetIsAromatic(),\n",
        "                   atom_symbol=atom.GetSymbol())\n",
        "        \n",
        "    for bond in mol.GetBonds():\n",
        "        G.add_edge(bond.GetBeginAtomIdx(),\n",
        "                   bond.GetEndAtomIdx(),\n",
        "                  bond_type=str(bond.GetBondType())[0:])\n",
        "        \n",
        "    return G"
      ],
      "metadata": {
        "id": "zSyL3yg13-w9"
      },
      "execution_count": 857,
      "outputs": []
    },
    {
      "cell_type": "code",
      "source": [
        "\n",
        "def list_of_smiles_to_list_of_graph_molecules(list_of_smiles):\n",
        "   list_of_molecules=[Chem.MolFromSmiles(smiles) for smiles in list_of_smiles] \n",
        "   print(len(list_of_molecules),len(list_of_smiles ))\n",
        "   i=0\n",
        "   list_of_graph_molecules=[]\n",
        "   for mol in list_of_molecules:\n",
        "      try:\n",
        "          list_of_graph_molecules.append(mol_to_nx(mol))\n",
        "          i=i+1\n",
        "      except:\n",
        "          print(i)\n",
        "          list_of_graph_molecules.append('None')\n",
        "          i=i+1\n",
        "   return list_of_graph_molecules\n"
      ],
      "metadata": {
        "id": "ONAVO-no3-tI"
      },
      "execution_count": 872,
      "outputs": []
    },
    {
      "cell_type": "code",
      "source": [
        "X1=list_of_smiles_to_list_of_graph_molecules(X)\n",
        "list1=[[i,j] for i,j in  zip(X1,y) if i!='None' ]\n",
        "X2,y2=list(zip(*list1))\n",
        "X2,y2=np.array(X2), np.array(y2)\n",
        "len(X2),len(y2)"
      ],
      "metadata": {
        "colab": {
          "base_uri": "https://localhost:8080/"
        },
        "id": "NRgKAUOLIBtT",
        "outputId": "8cf76e01-83b8-4dd3-fa1c-a8cca8603ddb"
      },
      "execution_count": 882,
      "outputs": [
        {
          "output_type": "stream",
          "name": "stdout",
          "text": [
            "676 676\n"
          ]
        },
        {
          "output_type": "stream",
          "name": "stderr",
          "text": [
            "/usr/local/lib/python3.7/dist-packages/ipykernel_launcher.py:4: VisibleDeprecationWarning: Creating an ndarray from ragged nested sequences (which is a list-or-tuple of lists-or-tuples-or ndarrays with different lengths or shapes) is deprecated. If you meant to do this, you must specify 'dtype=object' when creating the ndarray.\n",
            "  after removing the cwd from sys.path.\n"
          ]
        },
        {
          "output_type": "execute_result",
          "data": {
            "text/plain": [
              "(676, 676)"
            ]
          },
          "metadata": {},
          "execution_count": 882
        }
      ]
    },
    {
      "cell_type": "code",
      "source": [
        "seed=67\n",
        "\n",
        "def weight_to_color(bond_type):\n",
        "    \n",
        "    #print(bond_type)\n",
        "    integer=sum([ord(c) for c in bond_type])\n",
        "    integer=int(integer*len(bond_type)*ord(bond_type[0])+ord(bond_type[1]))\n",
        "    random.seed(seed)\n",
        "    random_hex= \"#%06x\" % random.randint(integer, 0x49144F)\n",
        "    \n",
        "    return random_hex\n",
        "def get_edge_color_list(mol_nx):\n",
        "    \n",
        "    edge_color=[ weight_to_color(data[2]) for data in mol_nx.edges(data = 'bond_type')] \n",
        "    #print(edge_color)\n",
        "    return edge_color\n",
        "\n",
        "def return_colors_for_atoms(mol_nx):\n",
        "    random.seed(767)\n",
        "\n",
        "    color_map = {}\n",
        " \n",
        "    for idx in mol_nx.nodes():\n",
        "      if mol_nx.nodes[idx]['atom_symbol'] not in color_map:\n",
        "         \n",
        "          color_map[mol_nx.nodes[idx]['atom_symbol']] =\"#%06x\" % random.randint(sum([ord(c) for c in mol_nx.nodes[idx]['atom_symbol']]), 0xFFFFFF) \n",
        "\n",
        "    mol_colors = []\n",
        "    for idx in mol_nx.nodes():\n",
        "        if (mol_nx.nodes[idx]['atom_symbol'] in color_map):\n",
        "            mol_colors.append(color_map[mol_nx.nodes[idx]['atom_symbol']])\n",
        "        else:\n",
        "            mol_colors.append('gray')\n",
        "    return mol_colors\n",
        "\n",
        "def get_labels(mol_nx):\n",
        "    return nx.get_node_attributes(mol_nx, 'atom_symbol')\n",
        "#set(nx.get_node_attributes(mol_nx, 'atom_symbol').values())\n",
        "#colors=[i/len(mol_nx.nodes) for i in range(len(mol_nx.nodes))]\n",
        "\n",
        "def draw_one_mol(mol_nx, ax=None):\n",
        "    nx.draw( mol_nx,\n",
        "            labels= get_labels(mol_nx),\n",
        "            with_labels = True,\n",
        "            node_color=return_colors_for_atoms(mol_nx),\n",
        "            node_size=50,\n",
        "            width = 4,\n",
        "            linewidths=3,\n",
        "            edge_color=get_edge_color_list(mol_nx),\n",
        "            ax=ax)\n",
        "    \n",
        "\n",
        "\n",
        "def get_adjency_matrix(mol_nx):\n",
        "    # print out the adjacency matrix ---------------------------------------------- \n",
        "    matrix = nx.to_numpy_matrix(mol_nx)\n",
        "    print(matrix)\n",
        "    return matrix"
      ],
      "metadata": {
        "id": "VKT15VfwJMJl"
      },
      "execution_count": 864,
      "outputs": []
    },
    {
      "cell_type": "code",
      "source": [
        "X[0]"
      ],
      "metadata": {
        "colab": {
          "base_uri": "https://localhost:8080/",
          "height": 36
        },
        "id": "0KliEsOa1pPr",
        "outputId": "83a7c995-7f93-4ff5-901c-42c8870b99ae"
      },
      "execution_count": 869,
      "outputs": [
        {
          "output_type": "execute_result",
          "data": {
            "text/plain": [
              "'C1=CC=C(C=C1)C(C2=CC=CC=C2)(C3=CC=CC=C3Cl)N4C=CN=C4'"
            ],
            "application/vnd.google.colaboratory.intrinsic+json": {
              "type": "string"
            }
          },
          "metadata": {},
          "execution_count": 869
        }
      ]
    },
    {
      "cell_type": "code",
      "source": [
        "draw_one_mol(X1[12])"
      ],
      "metadata": {
        "colab": {
          "base_uri": "https://localhost:8080/",
          "height": 247
        },
        "id": "iBRrJXPFNLwN",
        "outputId": "48765ea9-9a6c-48ed-d845-9f27aa0bd1ee"
      },
      "execution_count": 865,
      "outputs": [
        {
          "output_type": "display_data",
          "data": {
            "text/plain": [
              "<Figure size 540x216 with 1 Axes>"
            ],
            "image/png": "[encoded data removed]"
          },
          "metadata": {}
        }
      ]
    },
    {
      "cell_type": "code",
      "source": [
        "from operator import not_\n",
        "def draw_graphs(list_of_graph_molecules, num_per_line=3,labels=None):\n",
        "      ixs=[]\n",
        "      num_per_line_ax_n=0\n",
        "      if len(list_of_graph_molecules)%num_per_line==0:\n",
        "       lines=int(len(list_of_graph_molecules)/num_per_line)\n",
        "      else:\n",
        "        lines=len(list_of_graph_molecules)//num_per_line+1\n",
        "        num_per_line_ax_n=len(list_of_graph_molecules) % num_per_line\n",
        "       \n",
        "        for i in range(num_per_line-num_per_line_ax_n):\n",
        "          ix=lines-1,num_per_line-i-1\n",
        "          ixs.append(ix)\n",
        "          \n",
        "      #print(lines)\n",
        "      fig, ax = plt.subplots(lines, num_per_line)\n",
        "      fig.set_figheight(30)\n",
        "      fig.set_figwidth(30)\n",
        "      for i, mol_nx in enumerate(list_of_graph_molecules):\n",
        "     \n",
        "        ix = np.unravel_index(i, ax.shape)\n",
        "        draw_one_mol(mol_nx, ax=ax[ix])\n",
        "        if labels is not None:\n",
        "            ax[ix].set_title(labels[i], fontsize=8)\n",
        "      for ix in ixs:\n",
        "           ax[ix].set_axis_off()\n",
        " \n",
        "          \n",
        "    \n",
        "draw_graphs(X1[:7], num_per_line=7,labels=X[:7])"
      ],
      "metadata": {
        "colab": {
          "base_uri": "https://localhost:8080/",
          "height": 674
        },
        "id": "O7lkfYcS2gTR",
        "outputId": "f28d69f6-9f61-4fe5-be31-57cb876bb887"
      },
      "execution_count": 870,
      "outputs": [
        {
          "output_type": "display_data",
          "data": {
            "text/plain": [
              "<Figure size 2160x2160 with 7 Axes>"
            ],
            "image/png": "[encoded data removed]"
          },
          "metadata": {}
        }
      ]
    },
    {
      "cell_type": "markdown",
      "source": [
        "\n",
        "Graph2vec"
      ],
      "metadata": {
        "id": "dnNvZqXuZ-D1"
      }
    },
    {
      "cell_type": "code",
      "source": [
        "model = Graph2Vec()\n",
        "model.fit(np.array(X2))"
      ],
      "metadata": {
        "id": "r52wDTqzRl1K"
      },
      "execution_count": 883,
      "outputs": []
    },
    {
      "cell_type": "code",
      "source": [
        "cid_graph2vec = model.get_embedding()\n",
        "civ_graph2vec = pd.DataFrame(cid_graph2vec)\n",
        "print(\">>> civ_graph2vec shape = \", cid_graph2vec.shape)\n",
        "print(civ_graph2vec)\n",
        "print()"
      ],
      "metadata": {
        "colab": {
          "base_uri": "https://localhost:8080/"
        },
        "id": "k1pdG185V4vb",
        "outputId": "5e639bb6-90ec-411c-eeb9-4ac6239001eb"
      },
      "execution_count": 884,
      "outputs": [
        {
          "output_type": "stream",
          "name": "stdout",
          "text": [
            ">>> civ_graph2vec shape =  (676, 128)\n",
            "          0         1         2         3         4         5         6    \\\n",
            "0    0.073807 -0.041207 -0.017863  0.087472 -0.064443 -0.022727 -0.014242   \n",
            "1    0.081569 -0.049566 -0.030877  0.110612 -0.063576 -0.024181 -0.012917   \n",
            "2    0.078794 -0.053118 -0.032607  0.108817 -0.055188 -0.025469 -0.008828   \n",
            "3    0.098037 -0.072029 -0.035564  0.123699 -0.083838 -0.025414 -0.011942   \n",
            "4    0.075552 -0.055313 -0.031799  0.096627 -0.057755 -0.018896 -0.007913   \n",
            "..        ...       ...       ...       ...       ...       ...       ...   \n",
            "671  0.096946 -0.057136 -0.023801  0.132445 -0.070833 -0.030569 -0.008654   \n",
            "672  0.089918 -0.069061 -0.026954  0.128740 -0.081973 -0.022052 -0.015469   \n",
            "673  0.067880 -0.048974 -0.029393  0.101506 -0.058720 -0.021877 -0.005871   \n",
            "674  0.056304 -0.038604 -0.025913  0.072376 -0.044362 -0.012244 -0.006943   \n",
            "675  0.101802 -0.069045 -0.029670  0.148867 -0.084553 -0.030610 -0.013400   \n",
            "\n",
            "          7         8         9    ...       118       119       120  \\\n",
            "0   -0.051674 -0.027664 -0.107889  ...  0.038059 -0.045001  0.004551   \n",
            "1   -0.065176 -0.034488 -0.118429  ...  0.038277 -0.046162  0.003977   \n",
            "2   -0.065030 -0.030319 -0.106378  ...  0.039372 -0.040625 -0.006192   \n",
            "3   -0.083613 -0.039127 -0.136768  ...  0.050046 -0.059006  0.000321   \n",
            "4   -0.062409 -0.019559 -0.108993  ...  0.041364 -0.044014 -0.004155   \n",
            "..        ...       ...       ...  ...       ...       ...       ...   \n",
            "671 -0.071924 -0.024879 -0.128519  ...  0.050805 -0.048442  0.007051   \n",
            "672 -0.074724 -0.038067 -0.144403  ...  0.053573 -0.055470  0.009366   \n",
            "673 -0.067502 -0.019944 -0.104492  ...  0.040048 -0.041158  0.005749   \n",
            "674 -0.041676 -0.020891 -0.086537  ...  0.030944 -0.030710  0.006180   \n",
            "675 -0.082771 -0.032910 -0.156466  ...  0.060520 -0.057172  0.011320   \n",
            "\n",
            "          121       122       123       124       125       126       127  \n",
            "0   -0.132351  0.034097  0.038291 -0.042031  0.059046  0.026568 -0.019509  \n",
            "1   -0.152536  0.041308  0.041022 -0.055437  0.059945  0.032118 -0.029866  \n",
            "2   -0.149378  0.030063  0.030456 -0.038358  0.053299  0.017547 -0.019509  \n",
            "3   -0.183577  0.037416  0.036455 -0.055131  0.076636  0.030370 -0.034666  \n",
            "4   -0.141832  0.030044  0.039116 -0.036828  0.055280  0.019846 -0.030955  \n",
            "..        ...       ...       ...       ...       ...       ...       ...  \n",
            "671 -0.171668  0.035819  0.042598 -0.048159  0.074999  0.037047 -0.032869  \n",
            "672 -0.184973  0.045758  0.036481 -0.060046  0.076322  0.025270 -0.038235  \n",
            "673 -0.149228  0.029700  0.032662 -0.041927  0.064380  0.028027 -0.032016  \n",
            "674 -0.105433  0.021369  0.019737 -0.037860  0.052440  0.021608 -0.014163  \n",
            "675 -0.210689  0.046140  0.054733 -0.058897  0.089906  0.036490 -0.046636  \n",
            "\n",
            "[676 rows x 128 columns]\n",
            "\n"
          ]
        }
      ]
    },
    {
      "cell_type": "code",
      "source": [],
      "metadata": {
        "colab": {
          "base_uri": "https://localhost:8080/"
        },
        "id": "lAaC7hA2czs0",
        "outputId": "a7254229-969e-45ec-caad-172660b94486"
      },
      "execution_count": null,
      "outputs": [
        {
          "output_type": "execute_result",
          "data": {
            "text/plain": [
              "89753.0"
            ]
          },
          "metadata": {},
          "execution_count": 254
        }
      ]
    },
    {
      "cell_type": "markdown",
      "source": [
        "##Split data into targets and features\n"
      ],
      "metadata": {
        "id": "ERQ0USsvvyO6"
      }
    },
    {
      "cell_type": "code",
      "source": [
        "X=cid_graph2vec\n",
        "y=df3['activity'].values\n",
        "print(X[:1], X.shape)\n",
        "y[:1]"
      ],
      "metadata": {
        "colab": {
          "base_uri": "https://localhost:8080/"
        },
        "id": "3jVuoRC_e1aY",
        "outputId": "ece42b9f-e058-4b21-fc63-a6b00d8c7c02"
      },
      "execution_count": null,
      "outputs": [
        {
          "output_type": "stream",
          "name": "stdout",
          "text": [
            "[[ 5.6865562e-02 -4.0603671e-02 -8.4373713e-02  7.1747012e-02\n",
            "  -1.7460784e-03 -4.7096010e-02  1.9704456e-02 -3.1272896e-02\n",
            "  -3.7752923e-02 -8.4817477e-02 -7.3349297e-02  3.3936668e-02\n",
            "  -5.2348763e-02  2.0935124e-02 -5.5820853e-02  5.6244999e-02\n",
            "  -2.2005059e-02 -6.9245133e-03  7.7868789e-03 -5.2643130e-03\n",
            "   6.5744603e-03  3.8247317e-02 -5.1625732e-02  4.0567320e-02\n",
            "   2.2075067e-03  2.8411511e-02  6.6314533e-02 -4.1972645e-02\n",
            "  -7.4139915e-02 -6.1267156e-02  1.3726261e-02 -3.8681764e-04\n",
            "   6.9624610e-02 -1.0163798e-02 -4.3847989e-02  6.2405650e-02\n",
            "   2.0050582e-02 -3.7839331e-02  6.7789681e-02  3.2026902e-02\n",
            "  -7.6338597e-02  2.3704527e-02  4.6618536e-02  1.1615614e-02\n",
            "   1.2583920e-02  4.2600922e-02 -3.5503570e-02  3.2967348e-02\n",
            "   2.2835014e-02  1.5567558e-02 -1.4131634e-02 -6.6263959e-02\n",
            "   4.4742964e-02 -3.8863938e-02 -5.3954817e-02  9.7531192e-02\n",
            "   6.2899940e-02  4.8777110e-08 -2.9919131e-02  8.8465042e-02\n",
            "  -3.4409766e-03  2.5193959e-02  6.5030076e-02  7.0893697e-02\n",
            "   4.0994674e-02  1.7645599e-02 -5.0049957e-02 -5.6168921e-02\n",
            "   9.0287693e-02 -3.1223639e-03  4.0740562e-03 -5.2840009e-02\n",
            "   5.6600198e-02 -7.0533633e-02 -4.3036486e-03 -6.1260484e-02\n",
            "  -3.1269934e-02  5.7357967e-02  2.8930143e-02  7.5849526e-02\n",
            "  -9.3223276e-03 -5.4099850e-02 -3.2936353e-02  1.1264559e-02\n",
            "   6.2008038e-02  1.0334515e-01  3.2828141e-02 -3.1266648e-03\n",
            "   3.9738633e-02 -8.3546117e-02  3.0090064e-02 -5.5043261e-02\n",
            "   8.7184468e-03 -5.3115174e-02  4.4795882e-02  1.2820535e-02\n",
            "   9.4361983e-02 -3.6605559e-02  7.6730624e-02 -7.2563335e-02\n",
            "  -2.0095702e-02 -1.9372102e-02 -1.9873859e-02 -3.5791591e-02\n",
            "   3.9147619e-02  7.1483841e-03 -1.7151730e-02 -2.5895601e-02\n",
            "   5.5199429e-02 -4.7427081e-03 -3.4978516e-02  5.9570741e-02\n",
            "  -1.8408734e-02  1.0290501e-02 -1.9758681e-02  9.6246786e-02\n",
            "  -3.8870256e-02  4.3741342e-02  1.5814448e-03 -3.1432655e-02\n",
            "   2.0236708e-02  2.0340260e-03  9.9085934e-02 -2.6122356e-02\n",
            "  -4.6298645e-02  5.1622663e-02 -1.9027308e-02  1.6204068e-02]] (6796, 128)\n"
          ]
        },
        {
          "output_type": "execute_result",
          "data": {
            "text/plain": [
              "array([0])"
            ]
          },
          "metadata": {},
          "execution_count": 235
        }
      ]
    },
    {
      "cell_type": "markdown",
      "source": [
        "##Train_test_split"
      ],
      "metadata": {
        "id": "Ujt446HEw9uU"
      }
    },
    {
      "cell_type": "code",
      "source": [
        "X_train, X_test, y_train, y_test = \\\n",
        "    train_test_split(X, y, shuffle=True, random_state=3100, stratify=y, test_size=0.2)\n",
        "\n",
        "print(X_train.shape, X_test.shape, y_train.shape, y_test.shape)\n",
        "print(y_train.sum(), y_test.sum())"
      ],
      "metadata": {
        "colab": {
          "base_uri": "https://localhost:8080/"
        },
        "id": "OE9iuTbpw7Gj",
        "outputId": "800dca5e-94ad-4aef-c10a-e47edcaf4dce"
      },
      "execution_count": null,
      "outputs": [
        {
          "output_type": "stream",
          "name": "stdout",
          "text": [
            "(5436, 128) (1360, 128) (5436,) (1360,)\n",
            "594 148\n"
          ]
        }
      ]
    },
    {
      "cell_type": "code",
      "source": [
        "print(\"# inactives : \", len(y_train) - y_train.sum())\n",
        "print(\"# actives   : \", y_train.sum())"
      ],
      "metadata": {
        "colab": {
          "base_uri": "https://localhost:8080/"
        },
        "id": "TQCRBK65wJrX",
        "outputId": "d4102980-2676-49d0-cd77-ba52d51d1db0"
      },
      "execution_count": null,
      "outputs": [
        {
          "output_type": "stream",
          "name": "stdout",
          "text": [
            "# inactives :  4842\n",
            "# actives   :  594\n"
          ]
        }
      ]
    },
    {
      "cell_type": "markdown",
      "source": [
        "##Downsampling"
      ],
      "metadata": {
        "id": "DzrhlOsfxL0s"
      }
    },
    {
      "cell_type": "code",
      "source": [
        "# Indicies of each class' observations\n",
        "idx_inactives = np.where( y_train == 0 )[0]\n",
        "idx_actives   = np.where( y_train == 1 )[0]\n",
        "\n",
        "# Number of observations in each class\n",
        "num_inactives = len(idx_inactives)\n",
        "num_actives   = len(idx_actives)\n",
        "\n",
        "# Randomly sample from inactives without replacement\n",
        "np.random.seed(0)\n",
        "idx_inactives_downsampled = np.random.choice(idx_inactives, size=num_actives, replace=False)\n",
        "# Join together downsampled inactives with actives\n",
        "X_train = np.vstack((X_train[idx_inactives_downsampled], X_train[idx_actives]))\n",
        "y_train = np.hstack((y_train[idx_inactives_downsampled], y_train[idx_actives]))"
      ],
      "metadata": {
        "id": "yYJHYXecxKfF"
      },
      "execution_count": null,
      "outputs": []
    },
    {
      "cell_type": "code",
      "source": [
        "\n",
        "print(\"# inactives : \", len(y_train) - y_train.sum())\n",
        "print(\"# actives   : \", y_train.sum())\n",
        "print(len(y_train))\n",
        "print(len(X_train))\n",
        "print(len(X_train[0]))"
      ],
      "metadata": {
        "colab": {
          "base_uri": "https://localhost:8080/"
        },
        "id": "pFW_dyFtV43B",
        "outputId": "d5924ecd-49e9-4adb-93f0-e8207dbff190"
      },
      "execution_count": null,
      "outputs": [
        {
          "output_type": "stream",
          "name": "stdout",
          "text": [
            "# inactives :  594\n",
            "# actives   :  594\n",
            "1188\n",
            "1188\n",
            "128\n"
          ]
        }
      ]
    },
    {
      "cell_type": "markdown",
      "source": [
        "##Random Forest"
      ],
      "metadata": {
        "id": "1ZSVu_FexoIk"
      }
    },
    {
      "cell_type": "code",
      "source": [
        "clf = RandomForestClassifier(max_depth=2, random_state=0)\n",
        "clf.fit( X_train ,y_train )\n",
        "y_true, y_pred = y_train, clf.predict( X_train )"
      ],
      "metadata": {
        "id": "SnW9W_ecV45O"
      },
      "execution_count": null,
      "outputs": []
    },
    {
      "cell_type": "code",
      "source": [
        "CMat = confusion_matrix( y_true, y_pred)\n",
        "acc  = accuracy_score( y_true, y_pred )\n",
        "\n",
        "sens = CMat[ 1 ][ 1 ] / ( CMat[ 1 ][ 0 ] + CMat[ 1 ][ 1 ] )    # TP / (FN + TP)\n",
        "spec = CMat[ 0 ][ 0 ] / ( CMat[ 0 ][ 0 ] + CMat[ 0 ][ 1 ] )    # TN / (TN + FP )\n",
        "bacc = (sens + spec) / 2\n",
        "\n",
        "y_score = clf.predict_proba( X_train )[:, 1]\n",
        "auc = roc_auc_score( y_true, y_score )"
      ],
      "metadata": {
        "id": "o1-zp7YWV47N"
      },
      "execution_count": null,
      "outputs": []
    },
    {
      "cell_type": "code",
      "source": [
        "print(\"#-- Accuracy          = \", acc)\n",
        "print(\"#-- Balanced Accuracy = \", bacc)\n",
        "print(\"#-- Sensitivity       = \", sens)\n",
        "print(\"#-- Specificity       = \", spec)\n",
        "print(\"#-- AUC-ROC           = \", auc)"
      ],
      "metadata": {
        "colab": {
          "base_uri": "https://localhost:8080/"
        },
        "id": "5d9M9UzXV49j",
        "outputId": "29174fe6-a86f-40d7-e989-454833f728a0"
      },
      "execution_count": null,
      "outputs": [
        {
          "output_type": "stream",
          "name": "stdout",
          "text": [
            "#-- Accuracy          =  0.5934343434343434\n",
            "#-- Balanced Accuracy =  0.5934343434343434\n",
            "#-- Sensitivity       =  0.35353535353535354\n",
            "#-- Specificity       =  0.8333333333333334\n",
            "#-- AUC-ROC           =  0.6704134498747293\n"
          ]
        }
      ]
    },
    {
      "cell_type": "code",
      "source": [
        "y_true, y_pred = y_test, clf.predict(X_test)\n",
        "CMat = confusion_matrix( y_true, y_pred )    #-- generate confusion matrix\n",
        "print(CMat)"
      ],
      "metadata": {
        "colab": {
          "base_uri": "https://localhost:8080/"
        },
        "id": "VVcQNfxrV4_t",
        "outputId": "569e350a-58a6-493b-ae19-f834ee0ac08a"
      },
      "execution_count": null,
      "outputs": [
        {
          "output_type": "stream",
          "name": "stdout",
          "text": [
            "[[952 260]\n",
            " [108  40]]\n"
          ]
        }
      ]
    },
    {
      "cell_type": "code",
      "source": [
        "acc  = accuracy_score( y_true, y_pred )\n",
        "\n",
        "sens = CMat[ 1 ][ 1 ] / ( CMat[ 1 ][ 0 ] + CMat[ 1 ][ 1 ] )\n",
        "spec = CMat[ 0 ][ 0 ] / ( CMat[ 0 ][ 0 ] + CMat[ 0 ][ 1 ] )\n",
        "bacc = (sens + spec) / 2\n",
        "\n",
        "y_score = clf.predict_proba( X_test )[:, 1]\n",
        "auc = roc_auc_score( y_true, y_score )\n",
        "\n",
        "print(\"#-- Accuracy          = \", acc)\n",
        "print(\"#-- Balanced Accuracy = \", bacc)\n",
        "print(\"#-- Sensitivity       = \", sens)\n",
        "print(\"#-- Specificity       = \", spec)\n",
        "print(\"#-- AUC-ROC           = \", auc)\n",
        "print( classification_report(y_true, y_pred))\n"
      ],
      "metadata": {
        "colab": {
          "base_uri": "https://localhost:8080/"
        },
        "id": "GIcOe8UsV5Bw",
        "outputId": "46c8848f-5062-4c2a-f5c6-06eab5dbece2"
      },
      "execution_count": null,
      "outputs": [
        {
          "output_type": "stream",
          "name": "stdout",
          "text": [
            "#-- Accuracy          =  0.7294117647058823\n",
            "#-- Balanced Accuracy =  0.5278744090625278\n",
            "#-- Sensitivity       =  0.2702702702702703\n",
            "#-- Specificity       =  0.7854785478547854\n",
            "#-- AUC-ROC           =  0.5529641646597092\n",
            "              precision    recall  f1-score   support\n",
            "\n",
            "           0       0.90      0.79      0.84      1212\n",
            "           1       0.13      0.27      0.18       148\n",
            "\n",
            "    accuracy                           0.73      1360\n",
            "   macro avg       0.52      0.53      0.51      1360\n",
            "weighted avg       0.81      0.73      0.77      1360\n",
            "\n"
          ]
        }
      ]
    },
    {
      "cell_type": "code",
      "source": [],
      "metadata": {
        "id": "uxufUdQ4y9W2"
      },
      "execution_count": null,
      "outputs": []
    },
    {
      "cell_type": "markdown",
      "source": [
        "##Grid Search"
      ],
      "metadata": {
        "id": "Z0yV6Crsy93e"
      }
    },
    {
      "cell_type": "code",
      "source": [
        "from sklearn.model_selection import GridSearchCV\n",
        "scores = [ 'roc_auc', 'balanced_accuracy' ]\n",
        "\n",
        "ncvs = 10\n",
        "\n",
        "max_depth_range         = np.linspace( 3, 15, num=5, dtype='int32' )\n",
        "n_estimators  = np.linspace( 10, 500, num=5, dtype='int32' )\n",
        "criterion  = [\"gini\", \"entropy\"]\n",
        "\n",
        "param_grid = dict( max_depth=max_depth_range,\n",
        "                   n_estimators=n_estimators,\n",
        "                   criterion=criterion )\n",
        "\n",
        "clf = GridSearchCV( RandomForestClassifier( random_state=0 ),\n",
        "                    param_grid=param_grid, cv=ncvs, scoring=scores, refit='roc_auc',\n",
        "                    return_train_score = True)"
      ],
      "metadata": {
        "id": "q0C5dOjBV5EM"
      },
      "execution_count": null,
      "outputs": []
    },
    {
      "cell_type": "code",
      "source": [
        "#takes 30 minuts to run\n",
        "clf.fit( X_train, y_train )\n",
        "print(\"Best parameter set\", clf.best_params_)"
      ],
      "metadata": {
        "colab": {
          "base_uri": "https://localhost:8080/"
        },
        "id": "-DxAxfy6V5IT",
        "outputId": "1f279f80-b6f7-425f-adf7-ca70981ad488"
      },
      "execution_count": null,
      "outputs": [
        {
          "output_type": "stream",
          "name": "stdout",
          "text": [
            "Best parameter set {'criterion': 'gini', 'max_depth': 15, 'n_estimators': 132}\n"
          ]
        }
      ]
    },
    {
      "cell_type": "code",
      "source": [
        "means_1a = clf.cv_results_['mean_train_roc_auc']\n",
        "stds_1a  = clf.cv_results_['std_train_roc_auc']\n",
        "\n",
        "means_1b = clf.cv_results_['mean_test_roc_auc']\n",
        "stds_1b  = clf.cv_results_['std_test_roc_auc']\n",
        "\n",
        "means_2a = clf.cv_results_['mean_train_balanced_accuracy']\n",
        "stds_2a  = clf.cv_results_['std_train_balanced_accuracy']\n",
        "\n",
        "means_2b = clf.cv_results_['mean_test_balanced_accuracy']\n",
        "stds_2b  = clf.cv_results_['std_test_balanced_accuracy']\n",
        "\n",
        "iterobjs = zip( means_1a, stds_1a, means_1b, stds_1b,\n",
        "                means_2a, stds_2a, means_2b, stds_2b, clf.cv_results_['params'] )\n",
        "\n",
        "for m1a, s1a, m1b, s1b, m2a, s2a, m2b, s2b, params in iterobjs :\n",
        "\n",
        "    print( \"Grid %r : %0.4f %0.04f %0.4f %0.04f %0.4f %0.04f %0.4f %0.04f\"\n",
        "           % ( params, m1a, s1a, m1b, s1b, m2a, s2a, m2b, s2b))"
      ],
      "metadata": {
        "colab": {
          "base_uri": "https://localhost:8080/"
        },
        "id": "pmmEL2PYV5Lb",
        "outputId": "83707484-8a14-48d8-9ef3-31da334710e8"
      },
      "execution_count": null,
      "outputs": [
        {
          "output_type": "stream",
          "name": "stdout",
          "text": [
            "Grid {'criterion': 'gini', 'max_depth': 3, 'n_estimators': 10} : 0.7340 0.0118 0.5963 0.0177 0.6623 0.0124 0.5698 0.0261\n",
            "Grid {'criterion': 'gini', 'max_depth': 3, 'n_estimators': 132} : 0.7950 0.0073 0.6208 0.0191 0.7087 0.0115 0.5734 0.0276\n",
            "Grid {'criterion': 'gini', 'max_depth': 3, 'n_estimators': 255} : 0.7980 0.0086 0.6222 0.0256 0.7076 0.0134 0.5725 0.0354\n",
            "Grid {'criterion': 'gini', 'max_depth': 3, 'n_estimators': 377} : 0.7983 0.0071 0.6207 0.0245 0.7057 0.0120 0.5708 0.0340\n",
            "Grid {'criterion': 'gini', 'max_depth': 3, 'n_estimators': 500} : 0.8014 0.0068 0.6188 0.0256 0.7062 0.0123 0.5767 0.0391\n",
            "Grid {'criterion': 'gini', 'max_depth': 6, 'n_estimators': 10} : 0.8966 0.0112 0.5943 0.0412 0.8089 0.0130 0.5597 0.0524\n",
            "Grid {'criterion': 'gini', 'max_depth': 6, 'n_estimators': 132} : 0.9733 0.0044 0.6318 0.0209 0.8990 0.0120 0.5834 0.0212\n",
            "Grid {'criterion': 'gini', 'max_depth': 6, 'n_estimators': 255} : 0.9769 0.0050 0.6355 0.0263 0.9032 0.0148 0.5893 0.0319\n",
            "Grid {'criterion': 'gini', 'max_depth': 6, 'n_estimators': 377} : 0.9768 0.0048 0.6321 0.0253 0.9039 0.0149 0.5859 0.0273\n",
            "Grid {'criterion': 'gini', 'max_depth': 6, 'n_estimators': 500} : 0.9782 0.0046 0.6349 0.0260 0.9062 0.0127 0.5910 0.0213\n",
            "Grid {'criterion': 'gini', 'max_depth': 9, 'n_estimators': 10} : 0.9796 0.0036 0.5857 0.0413 0.9225 0.0103 0.5344 0.0449\n",
            "Grid {'criterion': 'gini', 'max_depth': 9, 'n_estimators': 132} : 1.0000 0.0000 0.6309 0.0348 0.9981 0.0014 0.5742 0.0461\n",
            "Grid {'criterion': 'gini', 'max_depth': 9, 'n_estimators': 255} : 1.0000 0.0000 0.6337 0.0332 0.9986 0.0013 0.5834 0.0286\n",
            "Grid {'criterion': 'gini', 'max_depth': 9, 'n_estimators': 377} : 1.0000 0.0000 0.6345 0.0347 0.9992 0.0009 0.5792 0.0325\n",
            "Grid {'criterion': 'gini', 'max_depth': 9, 'n_estimators': 500} : 1.0000 0.0000 0.6372 0.0348 0.9993 0.0007 0.5809 0.0327\n",
            "Grid {'criterion': 'gini', 'max_depth': 12, 'n_estimators': 10} : 0.9964 0.0012 0.5988 0.0315 0.9722 0.0041 0.5615 0.0353\n",
            "Grid {'criterion': 'gini', 'max_depth': 12, 'n_estimators': 132} : 1.0000 0.0000 0.6440 0.0210 1.0000 0.0000 0.5953 0.0269\n",
            "Grid {'criterion': 'gini', 'max_depth': 12, 'n_estimators': 255} : 1.0000 0.0000 0.6415 0.0287 1.0000 0.0000 0.5827 0.0134\n",
            "Grid {'criterion': 'gini', 'max_depth': 12, 'n_estimators': 377} : 1.0000 0.0000 0.6346 0.0323 1.0000 0.0000 0.5801 0.0235\n",
            "Grid {'criterion': 'gini', 'max_depth': 12, 'n_estimators': 500} : 1.0000 0.0000 0.6373 0.0345 1.0000 0.0000 0.5869 0.0244\n",
            "Grid {'criterion': 'gini', 'max_depth': 15, 'n_estimators': 10} : 0.9992 0.0002 0.5942 0.0492 0.9849 0.0032 0.5613 0.0436\n",
            "Grid {'criterion': 'gini', 'max_depth': 15, 'n_estimators': 132} : 1.0000 0.0000 0.6477 0.0403 1.0000 0.0000 0.5876 0.0318\n",
            "Grid {'criterion': 'gini', 'max_depth': 15, 'n_estimators': 255} : 1.0000 0.0000 0.6463 0.0378 1.0000 0.0000 0.5826 0.0258\n",
            "Grid {'criterion': 'gini', 'max_depth': 15, 'n_estimators': 377} : 1.0000 0.0000 0.6417 0.0397 1.0000 0.0000 0.5826 0.0268\n",
            "Grid {'criterion': 'gini', 'max_depth': 15, 'n_estimators': 500} : 1.0000 0.0000 0.6419 0.0347 1.0000 0.0000 0.5877 0.0262\n",
            "Grid {'criterion': 'entropy', 'max_depth': 3, 'n_estimators': 10} : 0.7192 0.0077 0.5956 0.0428 0.6491 0.0076 0.5561 0.0373\n",
            "Grid {'criterion': 'entropy', 'max_depth': 3, 'n_estimators': 132} : 0.7958 0.0088 0.6158 0.0229 0.7141 0.0117 0.5810 0.0276\n",
            "Grid {'criterion': 'entropy', 'max_depth': 3, 'n_estimators': 255} : 0.7973 0.0086 0.6194 0.0253 0.7162 0.0135 0.5750 0.0279\n",
            "Grid {'criterion': 'entropy', 'max_depth': 3, 'n_estimators': 377} : 0.7993 0.0069 0.6208 0.0260 0.7144 0.0085 0.5683 0.0258\n",
            "Grid {'criterion': 'entropy', 'max_depth': 3, 'n_estimators': 500} : 0.8021 0.0061 0.6180 0.0247 0.7150 0.0071 0.5760 0.0258\n",
            "Grid {'criterion': 'entropy', 'max_depth': 6, 'n_estimators': 10} : 0.8647 0.0168 0.5978 0.0361 0.7728 0.0194 0.5632 0.0353\n",
            "Grid {'criterion': 'entropy', 'max_depth': 6, 'n_estimators': 132} : 0.9592 0.0060 0.6316 0.0214 0.8712 0.0145 0.5868 0.0289\n",
            "Grid {'criterion': 'entropy', 'max_depth': 6, 'n_estimators': 255} : 0.9631 0.0068 0.6316 0.0259 0.8752 0.0159 0.5750 0.0238\n",
            "Grid {'criterion': 'entropy', 'max_depth': 6, 'n_estimators': 377} : 0.9645 0.0063 0.6317 0.0283 0.8750 0.0161 0.5775 0.0304\n",
            "Grid {'criterion': 'entropy', 'max_depth': 6, 'n_estimators': 500} : 0.9664 0.0063 0.6312 0.0302 0.8781 0.0159 0.5758 0.0298\n",
            "Grid {'criterion': 'entropy', 'max_depth': 9, 'n_estimators': 10} : 0.9587 0.0084 0.6092 0.0318 0.8864 0.0138 0.5850 0.0391\n",
            "Grid {'criterion': 'entropy', 'max_depth': 9, 'n_estimators': 132} : 0.9997 0.0002 0.6419 0.0328 0.9885 0.0036 0.5977 0.0252\n",
            "Grid {'criterion': 'entropy', 'max_depth': 9, 'n_estimators': 255} : 0.9998 0.0001 0.6402 0.0337 0.9923 0.0012 0.5800 0.0196\n",
            "Grid {'criterion': 'entropy', 'max_depth': 9, 'n_estimators': 377} : 0.9999 0.0001 0.6403 0.0330 0.9942 0.0021 0.5792 0.0270\n",
            "Grid {'criterion': 'entropy', 'max_depth': 9, 'n_estimators': 500} : 0.9999 0.0001 0.6393 0.0333 0.9945 0.0021 0.5825 0.0221\n",
            "Grid {'criterion': 'entropy', 'max_depth': 12, 'n_estimators': 10} : 0.9908 0.0031 0.6035 0.0610 0.9537 0.0085 0.5581 0.0453\n",
            "Grid {'criterion': 'entropy', 'max_depth': 12, 'n_estimators': 132} : 1.0000 0.0000 0.6441 0.0306 0.9999 0.0003 0.5886 0.0329\n",
            "Grid {'criterion': 'entropy', 'max_depth': 12, 'n_estimators': 255} : 1.0000 0.0000 0.6446 0.0322 1.0000 0.0000 0.5826 0.0294\n",
            "Grid {'criterion': 'entropy', 'max_depth': 12, 'n_estimators': 377} : 1.0000 0.0000 0.6415 0.0359 1.0000 0.0000 0.5826 0.0282\n",
            "Grid {'criterion': 'entropy', 'max_depth': 12, 'n_estimators': 500} : 1.0000 0.0000 0.6426 0.0368 1.0000 0.0000 0.5843 0.0330\n",
            "Grid {'criterion': 'entropy', 'max_depth': 15, 'n_estimators': 10} : 0.9974 0.0010 0.5760 0.0724 0.9766 0.0045 0.5420 0.0566\n",
            "Grid {'criterion': 'entropy', 'max_depth': 15, 'n_estimators': 132} : 1.0000 0.0000 0.6409 0.0367 1.0000 0.0000 0.5884 0.0359\n",
            "Grid {'criterion': 'entropy', 'max_depth': 15, 'n_estimators': 255} : 1.0000 0.0000 0.6438 0.0335 1.0000 0.0000 0.5809 0.0286\n",
            "Grid {'criterion': 'entropy', 'max_depth': 15, 'n_estimators': 377} : 1.0000 0.0000 0.6409 0.0362 1.0000 0.0000 0.5835 0.0236\n",
            "Grid {'criterion': 'entropy', 'max_depth': 15, 'n_estimators': 500} : 1.0000 0.0000 0.6437 0.0366 1.0000 0.0000 0.5844 0.0225\n"
          ]
        }
      ]
    },
    {
      "cell_type": "code",
      "source": [
        "clf7 = RandomForestClassifier(criterion= 'gini', max_depth= 15, n_estimators= 132)\n",
        "clf7.fit( X_train ,y_train )\n",
        "y_true, y_pred = y_test, clf7.predict( X_test )"
      ],
      "metadata": {
        "id": "K5jRnhFO46XY"
      },
      "execution_count": null,
      "outputs": []
    },
    {
      "cell_type": "code",
      "source": [
        "CMat = confusion_matrix( y_true, y_pred)\n",
        "acc  = accuracy_score( y_true, y_pred )\n",
        "\n",
        "sens = CMat[ 1 ][ 1 ] / ( CMat[ 1 ][ 0 ] + CMat[ 1 ][ 1 ] )    # TP / (FN + TP)\n",
        "spec = CMat[ 0 ][ 0 ] / ( CMat[ 0 ][ 0 ] + CMat[ 0 ][ 1 ] )    # TN / (TN + FP )\n",
        "bacc = (sens + spec) / 2\n",
        "\n",
        "y_score = clf7.predict_proba( X_test )[:, 1]\n",
        "auc = roc_auc_score( y_test, y_score )"
      ],
      "metadata": {
        "id": "g3i743bG5lgf"
      },
      "execution_count": null,
      "outputs": []
    },
    {
      "cell_type": "code",
      "source": [
        "print(\"#-- Accuracy          = \", acc)\n",
        "print(\"#-- Balanced Accuracy = \", bacc)\n",
        "print(\"#-- Sensitivity       = \", sens)\n",
        "print(\"#-- Specificity       = \", spec)\n",
        "print(\"#-- AUC-ROC           = \", auc)"
      ],
      "metadata": {
        "colab": {
          "base_uri": "https://localhost:8080/"
        },
        "id": "8smPBcZH5oSC",
        "outputId": "269973cf-76b6-4e92-b11c-58db73b350ba"
      },
      "execution_count": null,
      "outputs": [
        {
          "output_type": "stream",
          "name": "stdout",
          "text": [
            "#-- Accuracy          =  0.5735294117647058\n",
            "#-- Balanced Accuracy =  0.562014985282312\n",
            "#-- Sensitivity       =  0.5472972972972973\n",
            "#-- Specificity       =  0.5767326732673267\n",
            "#-- AUC-ROC           =  0.6040607439122291\n"
          ]
        }
      ]
    },
    {
      "cell_type": "code",
      "source": [
        "print( classification_report(y_true, y_pred))\n"
      ],
      "metadata": {
        "colab": {
          "base_uri": "https://localhost:8080/"
        },
        "id": "6NxzG7m59kjk",
        "outputId": "3a05b04a-df15-49c2-f218-f425dd670088"
      },
      "execution_count": null,
      "outputs": [
        {
          "output_type": "stream",
          "name": "stdout",
          "text": [
            "              precision    recall  f1-score   support\n",
            "\n",
            "           0       0.91      0.58      0.71      1212\n",
            "           1       0.14      0.55      0.22       148\n",
            "\n",
            "    accuracy                           0.57      1360\n",
            "   macro avg       0.52      0.56      0.46      1360\n",
            "weighted avg       0.83      0.57      0.65      1360\n",
            "\n"
          ]
        }
      ]
    },
    {
      "cell_type": "markdown",
      "source": [],
      "metadata": {
        "id": "65p-8tzlvqyF"
      }
    },
    {
      "cell_type": "markdown",
      "source": [
        "# Pipelines"
      ],
      "metadata": {
        "id": "WQxmD24_FgnE"
      }
    },
    {
      "cell_type": "code",
      "source": [
        "class SmitoNxGraphs(BaseEstimator, TransformerMixin):\n",
        "\n",
        "\n",
        "    def fit(self, X,y=None):\n",
        "        return self\n",
        "    def transform(self, X, y=None):\n",
        "        X=list_of_smiles_to_list_of_graph_molecules(X)\n",
        "        if any(a == 'None' for a in X):\n",
        "          return None\n",
        "        else: return np.array(X)"
      ],
      "metadata": {
        "id": "Ed4cMu40DJpD"
      },
      "execution_count": null,
      "outputs": []
    },
    {
      "cell_type": "code",
      "source": [
        "list_of_graphs_updated = [e for e in list_of_graph_molecules if e is not 'None']\n",
        "print(np.array((list_of_graphs_updated)))\n",
        "\n",
        "y=df3.activity.values\n",
        "print(len(y),len(list_of_graphs_updated))"
      ],
      "metadata": {
        "colab": {
          "base_uri": "https://localhost:8080/"
        },
        "id": "NcnAjfAlWSyR",
        "outputId": "49a4050d-86db-4577-85a2-c71fee666c89"
      },
      "execution_count": null,
      "outputs": [
        {
          "output_type": "stream",
          "name": "stdout",
          "text": [
            "[<networkx.classes.graph.Graph object at 0x7f0324575290>\n",
            " <networkx.classes.graph.Graph object at 0x7f03245759d0>\n",
            " <networkx.classes.graph.Graph object at 0x7f03245752d0> ...\n",
            " <networkx.classes.graph.Graph object at 0x7f032938c7d0>\n",
            " <networkx.classes.graph.Graph object at 0x7f032938cb10>\n",
            " <networkx.classes.graph.Graph object at 0x7f032938cc10>]\n",
            "6796 6796\n"
          ]
        },
        {
          "output_type": "stream",
          "name": "stderr",
          "text": [
            "/usr/local/lib/python3.7/dist-packages/ipykernel_launcher.py:2: VisibleDeprecationWarning: Creating an ndarray from ragged nested sequences (which is a list-or-tuple of lists-or-tuples-or ndarrays with different lengths or shapes) is deprecated. If you meant to do this, you must specify 'dtype=object' when creating the ndarray.\n",
            "  \n"
          ]
        }
      ]
    },
    {
      "cell_type": "code",
      "source": [],
      "metadata": {
        "id": "xtbI3fP-Jjid"
      },
      "execution_count": null,
      "outputs": []
    },
    {
      "cell_type": "code",
      "source": [
        "def list_of_smiles_to_list_of_graph_molecules_embeddings(list_of_smiles):\n",
        "    list_of_graph_molecules=list_of_smiles_to_list_of_graph_molecules(list(list_of_smiles))\n",
        "    list_of_graphs_updated = [e for e in list_of_graph_molecules if e is not 'None']\n",
        "    model = Graph2Vec()\n",
        "    model.fit(np.array(list_of_graphs_updated))\n",
        "    cid_graph2vec = model.get_embedding()\n",
        "    return cid_graph2vec"
      ],
      "metadata": {
        "id": "SXULh8-jTvgY"
      },
      "execution_count": null,
      "outputs": []
    },
    {
      "cell_type": "markdown",
      "source": [],
      "metadata": {
        "id": "vJQDaoh5WkBG"
      }
    },
    {
      "cell_type": "code",
      "source": [
        "list_of_smiles_to_list_of_graph_molecules_embeddings(list_of_smiles)\n",
        "model = Graph2Vec()\n",
        "model.fit(df3['graphs'].values)\n"
      ],
      "metadata": {
        "colab": {
          "base_uri": "https://localhost:8080/"
        },
        "id": "oYEr7qMHVVSS",
        "outputId": "1c5f8cab-9dba-4abf-898d-a262f3dff0cd"
      },
      "execution_count": null,
      "outputs": [
        {
          "output_type": "stream",
          "name": "stdout",
          "text": [
            "6798 6798\n",
            "1933\n",
            "6270\n"
          ]
        },
        {
          "output_type": "stream",
          "name": "stderr",
          "text": [
            "/usr/local/lib/python3.7/dist-packages/ipykernel_launcher.py:5: VisibleDeprecationWarning: Creating an ndarray from ragged nested sequences (which is a list-or-tuple of lists-or-tuples-or ndarrays with different lengths or shapes) is deprecated. If you meant to do this, you must specify 'dtype=object' when creating the ndarray.\n",
            "  \"\"\"\n"
          ]
        }
      ]
    },
    {
      "cell_type": "markdown",
      "source": [],
      "metadata": {
        "id": "kaM8wv0ZUOPs"
      }
    },
    {
      "cell_type": "code",
      "source": [
        "\n",
        "\n",
        "#creating outlier_remover object using FunctionTransformer with factor=1.5\n",
        "scaler = FunctionTransformer(list_of_smiles_to_list_of_graph_molecules_embeddings)\n",
        "\n",
        "test=scaler.fit_transform(list_of_smiles)\n",
        "pipeline = Pipeline(steps=[['scaler',scaler],['RF',RandomForestClassifier(max_depth=2, random_state=0)]]) \n"
      ],
      "metadata": {
        "colab": {
          "base_uri": "https://localhost:8080/"
        },
        "id": "n2f-0zY2KTt1",
        "outputId": "53ad230d-baf8-44a3-ffa8-fbf7998edfc6"
      },
      "execution_count": null,
      "outputs": [
        {
          "output_type": "stream",
          "name": "stdout",
          "text": [
            "6798 6798\n",
            "1933\n",
            "6270\n"
          ]
        },
        {
          "output_type": "stream",
          "name": "stderr",
          "text": [
            "/usr/local/lib/python3.7/dist-packages/ipykernel_launcher.py:5: VisibleDeprecationWarning: Creating an ndarray from ragged nested sequences (which is a list-or-tuple of lists-or-tuples-or ndarrays with different lengths or shapes) is deprecated. If you meant to do this, you must specify 'dtype=object' when creating the ndarray.\n",
            "  \"\"\"\n"
          ]
        }
      ]
    },
    {
      "cell_type": "code",
      "source": [
        "pipeline.fit(list_of_smiles, df3.activity.values)"
      ],
      "metadata": {
        "colab": {
          "base_uri": "https://localhost:8080/"
        },
        "id": "gMI9pPcFJjks",
        "outputId": "4a5eefee-c1fb-4e3f-f888-e2059dc25399"
      },
      "execution_count": null,
      "outputs": [
        {
          "output_type": "stream",
          "name": "stdout",
          "text": [
            "6798 6798\n",
            "1933\n",
            "6270\n"
          ]
        },
        {
          "output_type": "stream",
          "name": "stderr",
          "text": [
            "/usr/local/lib/python3.7/dist-packages/ipykernel_launcher.py:5: VisibleDeprecationWarning: Creating an ndarray from ragged nested sequences (which is a list-or-tuple of lists-or-tuples-or ndarrays with different lengths or shapes) is deprecated. If you meant to do this, you must specify 'dtype=object' when creating the ndarray.\n",
            "  \"\"\"\n"
          ]
        },
        {
          "output_type": "execute_result",
          "data": {
            "text/plain": [
              "Pipeline(steps=[('scaler',\n",
              "                 FunctionTransformer(func=<function list_of_smiles_to_list_of_graph_molecules_embeddings at 0x7f031aedf4d0>)),\n",
              "                ['RF', RandomForestClassifier(max_depth=2, random_state=0)]])"
            ]
          },
          "metadata": {},
          "execution_count": 393
        }
      ]
    },
    {
      "cell_type": "code",
      "source": [
        "pipeline.score(list_of_smiles, df3.activity.values)"
      ],
      "metadata": {
        "colab": {
          "base_uri": "https://localhost:8080/"
        },
        "id": "TFdLj7kHJjmw",
        "outputId": "7508be88-0082-4da1-8c59-a0f149665a3d"
      },
      "execution_count": null,
      "outputs": [
        {
          "output_type": "stream",
          "name": "stdout",
          "text": [
            "6798 6798\n",
            "1933\n",
            "6270\n"
          ]
        },
        {
          "output_type": "stream",
          "name": "stderr",
          "text": [
            "/usr/local/lib/python3.7/dist-packages/ipykernel_launcher.py:5: VisibleDeprecationWarning: Creating an ndarray from ragged nested sequences (which is a list-or-tuple of lists-or-tuples-or ndarrays with different lengths or shapes) is deprecated. If you meant to do this, you must specify 'dtype=object' when creating the ndarray.\n",
            "  \"\"\"\n"
          ]
        },
        {
          "output_type": "execute_result",
          "data": {
            "text/plain": [
              "0.890818128310771"
            ]
          },
          "metadata": {},
          "execution_count": 396
        }
      ]
    },
    {
      "cell_type": "code",
      "source": [],
      "metadata": {
        "id": "SzoAzrxLJjrm"
      },
      "execution_count": null,
      "outputs": []
    },
    {
      "cell_type": "code",
      "source": [],
      "metadata": {
        "id": "cb70hLKJJjt_"
      },
      "execution_count": null,
      "outputs": []
    },
    {
      "cell_type": "code",
      "source": [],
      "metadata": {
        "id": "wMnc41LBJjvu"
      },
      "execution_count": null,
      "outputs": []
    }
  ]
}