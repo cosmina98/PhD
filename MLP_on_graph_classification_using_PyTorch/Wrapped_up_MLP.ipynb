{
  "nbformat": 4,
  "nbformat_minor": 0,
  "metadata": {
    "colab": {
      "name": " Wrapped up MLP.ipynb",
      "provenance": [],
      "collapsed_sections": [],
      "toc_visible": true,
      "authorship_tag": "ABX9TyMPpJsz62PffjFtRIIGJGIb",
      "include_colab_link": true
    },
    "kernelspec": {
      "name": "python3",
      "display_name": "Python 3"
    },
    "language_info": {
      "name": "python"
    },
    "accelerator": "GPU",
    "gpuClass": "standard",
    "widgets": {
      "application/vnd.jupyter.widget-state+json": {
        "0c94b5fbe15643cc91f3a5a41597db7c": {
          "model_module": "@jupyter-widgets/controls",
          "model_name": "HBoxModel",
          "model_module_version": "1.5.0",
          "state": {
            "_dom_classes": [],
            "_model_module": "@jupyter-widgets/controls",
            "_model_module_version": "1.5.0",
            "_model_name": "HBoxModel",
            "_view_count": null,
            "_view_module": "@jupyter-widgets/controls",
            "_view_module_version": "1.5.0",
            "_view_name": "HBoxView",
            "box_style": "",
            "children": [
              "IPY_MODEL_a363e91736bf48fe9588e4d0d3a4686c",
              "IPY_MODEL_1a6fd0e2de3e40618b6094097d822b61",
              "IPY_MODEL_a3e83120d10b4aaa830a3c0099c4dcf7"
            ],
            "layout": "IPY_MODEL_34af34951bfc43c09aa4499ac9cf705b"
          }
        },
        "a363e91736bf48fe9588e4d0d3a4686c": {
          "model_module": "@jupyter-widgets/controls",
          "model_name": "HTMLModel",
          "model_module_version": "1.5.0",
          "state": {
            "_dom_classes": [],
            "_model_module": "@jupyter-widgets/controls",
            "_model_module_version": "1.5.0",
            "_model_name": "HTMLModel",
            "_view_count": null,
            "_view_module": "@jupyter-widgets/controls",
            "_view_module_version": "1.5.0",
            "_view_name": "HTMLView",
            "description": "",
            "description_tooltip": null,
            "layout": "IPY_MODEL_7bab49f727c74e4ca0cd4867cbd355c6",
            "placeholder": "​",
            "style": "IPY_MODEL_7938b904115a45f198723353a45f9ae1",
            "value": "100%"
          }
        },
        "1a6fd0e2de3e40618b6094097d822b61": {
          "model_module": "@jupyter-widgets/controls",
          "model_name": "FloatProgressModel",
          "model_module_version": "1.5.0",
          "state": {
            "_dom_classes": [],
            "_model_module": "@jupyter-widgets/controls",
            "_model_module_version": "1.5.0",
            "_model_name": "FloatProgressModel",
            "_view_count": null,
            "_view_module": "@jupyter-widgets/controls",
            "_view_module_version": "1.5.0",
            "_view_name": "ProgressView",
            "bar_style": "success",
            "description": "",
            "description_tooltip": null,
            "layout": "IPY_MODEL_8a771d27ea9942c98acc20deab50c435",
            "max": 170498071,
            "min": 0,
            "orientation": "horizontal",
            "style": "IPY_MODEL_3c1e49a333674e0a8e6c1354a9d459d2",
            "value": 170498071
          }
        },
        "a3e83120d10b4aaa830a3c0099c4dcf7": {
          "model_module": "@jupyter-widgets/controls",
          "model_name": "HTMLModel",
          "model_module_version": "1.5.0",
          "state": {
            "_dom_classes": [],
            "_model_module": "@jupyter-widgets/controls",
            "_model_module_version": "1.5.0",
            "_model_name": "HTMLModel",
            "_view_count": null,
            "_view_module": "@jupyter-widgets/controls",
            "_view_module_version": "1.5.0",
            "_view_name": "HTMLView",
            "description": "",
            "description_tooltip": null,
            "layout": "IPY_MODEL_0c7305ee886349d8b238327455133476",
            "placeholder": "​",
            "style": "IPY_MODEL_631fc2f826524c0d9d87b41d201ed024",
            "value": " 170498071/170498071 [00:02&lt;00:00, 77087720.78it/s]"
          }
        },
        "34af34951bfc43c09aa4499ac9cf705b": {
          "model_module": "@jupyter-widgets/base",
          "model_name": "LayoutModel",
          "model_module_version": "1.2.0",
          "state": {
            "_model_module": "@jupyter-widgets/base",
            "_model_module_version": "1.2.0",
            "_model_name": "LayoutModel",
            "_view_count": null,
            "_view_module": "@jupyter-widgets/base",
            "_view_module_version": "1.2.0",
            "_view_name": "LayoutView",
            "align_content": null,
            "align_items": null,
            "align_self": null,
            "border": null,
            "bottom": null,
            "display": null,
            "flex": null,
            "flex_flow": null,
            "grid_area": null,
            "grid_auto_columns": null,
            "grid_auto_flow": null,
            "grid_auto_rows": null,
            "grid_column": null,
            "grid_gap": null,
            "grid_row": null,
            "grid_template_areas": null,
            "grid_template_columns": null,
            "grid_template_rows": null,
            "height": null,
            "justify_content": null,
            "justify_items": null,
            "left": null,
            "margin": null,
            "max_height": null,
            "max_width": null,
            "min_height": null,
            "min_width": null,
            "object_fit": null,
            "object_position": null,
            "order": null,
            "overflow": null,
            "overflow_x": null,
            "overflow_y": null,
            "padding": null,
            "right": null,
            "top": null,
            "visibility": null,
            "width": null
          }
        },
        "7bab49f727c74e4ca0cd4867cbd355c6": {
          "model_module": "@jupyter-widgets/base",
          "model_name": "LayoutModel",
          "model_module_version": "1.2.0",
          "state": {
            "_model_module": "@jupyter-widgets/base",
            "_model_module_version": "1.2.0",
            "_model_name": "LayoutModel",
            "_view_count": null,
            "_view_module": "@jupyter-widgets/base",
            "_view_module_version": "1.2.0",
            "_view_name": "LayoutView",
            "align_content": null,
            "align_items": null,
            "align_self": null,
            "border": null,
            "bottom": null,
            "display": null,
            "flex": null,
            "flex_flow": null,
            "grid_area": null,
            "grid_auto_columns": null,
            "grid_auto_flow": null,
            "grid_auto_rows": null,
            "grid_column": null,
            "grid_gap": null,
            "grid_row": null,
            "grid_template_areas": null,
            "grid_template_columns": null,
            "grid_template_rows": null,
            "height": null,
            "justify_content": null,
            "justify_items": null,
            "left": null,
            "margin": null,
            "max_height": null,
            "max_width": null,
            "min_height": null,
            "min_width": null,
            "object_fit": null,
            "object_position": null,
            "order": null,
            "overflow": null,
            "overflow_x": null,
            "overflow_y": null,
            "padding": null,
            "right": null,
            "top": null,
            "visibility": null,
            "width": null
          }
        },
        "7938b904115a45f198723353a45f9ae1": {
          "model_module": "@jupyter-widgets/controls",
          "model_name": "DescriptionStyleModel",
          "model_module_version": "1.5.0",
          "state": {
            "_model_module": "@jupyter-widgets/controls",
            "_model_module_version": "1.5.0",
            "_model_name": "DescriptionStyleModel",
            "_view_count": null,
            "_view_module": "@jupyter-widgets/base",
            "_view_module_version": "1.2.0",
            "_view_name": "StyleView",
            "description_width": ""
          }
        },
        "8a771d27ea9942c98acc20deab50c435": {
          "model_module": "@jupyter-widgets/base",
          "model_name": "LayoutModel",
          "model_module_version": "1.2.0",
          "state": {
            "_model_module": "@jupyter-widgets/base",
            "_model_module_version": "1.2.0",
            "_model_name": "LayoutModel",
            "_view_count": null,
            "_view_module": "@jupyter-widgets/base",
            "_view_module_version": "1.2.0",
            "_view_name": "LayoutView",
            "align_content": null,
            "align_items": null,
            "align_self": null,
            "border": null,
            "bottom": null,
            "display": null,
            "flex": null,
            "flex_flow": null,
            "grid_area": null,
            "grid_auto_columns": null,
            "grid_auto_flow": null,
            "grid_auto_rows": null,
            "grid_column": null,
            "grid_gap": null,
            "grid_row": null,
            "grid_template_areas": null,
            "grid_template_columns": null,
            "grid_template_rows": null,
            "height": null,
            "justify_content": null,
            "justify_items": null,
            "left": null,
            "margin": null,
            "max_height": null,
            "max_width": null,
            "min_height": null,
            "min_width": null,
            "object_fit": null,
            "object_position": null,
            "order": null,
            "overflow": null,
            "overflow_x": null,
            "overflow_y": null,
            "padding": null,
            "right": null,
            "top": null,
            "visibility": null,
            "width": null
          }
        },
        "3c1e49a333674e0a8e6c1354a9d459d2": {
          "model_module": "@jupyter-widgets/controls",
          "model_name": "ProgressStyleModel",
          "model_module_version": "1.5.0",
          "state": {
            "_model_module": "@jupyter-widgets/controls",
            "_model_module_version": "1.5.0",
            "_model_name": "ProgressStyleModel",
            "_view_count": null,
            "_view_module": "@jupyter-widgets/base",
            "_view_module_version": "1.2.0",
            "_view_name": "StyleView",
            "bar_color": null,
            "description_width": ""
          }
        },
        "0c7305ee886349d8b238327455133476": {
          "model_module": "@jupyter-widgets/base",
          "model_name": "LayoutModel",
          "model_module_version": "1.2.0",
          "state": {
            "_model_module": "@jupyter-widgets/base",
            "_model_module_version": "1.2.0",
            "_model_name": "LayoutModel",
            "_view_count": null,
            "_view_module": "@jupyter-widgets/base",
            "_view_module_version": "1.2.0",
            "_view_name": "LayoutView",
            "align_content": null,
            "align_items": null,
            "align_self": null,
            "border": null,
            "bottom": null,
            "display": null,
            "flex": null,
            "flex_flow": null,
            "grid_area": null,
            "grid_auto_columns": null,
            "grid_auto_flow": null,
            "grid_auto_rows": null,
            "grid_column": null,
            "grid_gap": null,
            "grid_row": null,
            "grid_template_areas": null,
            "grid_template_columns": null,
            "grid_template_rows": null,
            "height": null,
            "justify_content": null,
            "justify_items": null,
            "left": null,
            "margin": null,
            "max_height": null,
            "max_width": null,
            "min_height": null,
            "min_width": null,
            "object_fit": null,
            "object_position": null,
            "order": null,
            "overflow": null,
            "overflow_x": null,
            "overflow_y": null,
            "padding": null,
            "right": null,
            "top": null,
            "visibility": null,
            "width": null
          }
        },
        "631fc2f826524c0d9d87b41d201ed024": {
          "model_module": "@jupyter-widgets/controls",
          "model_name": "DescriptionStyleModel",
          "model_module_version": "1.5.0",
          "state": {
            "_model_module": "@jupyter-widgets/controls",
            "_model_module_version": "1.5.0",
            "_model_name": "DescriptionStyleModel",
            "_view_count": null,
            "_view_module": "@jupyter-widgets/base",
            "_view_module_version": "1.2.0",
            "_view_name": "StyleView",
            "description_width": ""
          }
        }
      }
    }
  },
  "cells": [
    {
      "cell_type": "markdown",
      "metadata": {
        "id": "view-in-github",
        "colab_type": "text"
      },
      "source": [
        "<a href=\"https://colab.research.google.com/github/cosmina98/PhD/blob/main/MLP_on_graph_classification_using_PyTorch/Wrapped_up_MLP.ipynb\" target=\"_parent\"><img src=\"https://colab.research.google.com/assets/colab-badge.svg\" alt=\"Open In Colab\"/></a>"
      ]
    },
    {
      "cell_type": "markdown",
      "source": [
        "# Imports"
      ],
      "metadata": {
        "id": "S8pcKI_aR0u5"
      }
    },
    {
      "cell_type": "code",
      "source": [
        "!pip install torchmetrics --quiet"
      ],
      "metadata": {
        "colab": {
          "base_uri": "https://localhost:8080/"
        },
        "id": "87cF98Fd9r0g",
        "outputId": "48c21426-65a2-40f4-eae4-36cb8624f549"
      },
      "execution_count": 43,
      "outputs": [
        {
          "output_type": "stream",
          "name": "stdout",
          "text": [
            "\u001b[31mERROR: Could not find a version that satisfies the requirement sklearn.inspection (from versions: none)\u001b[0m\n",
            "\u001b[31mERROR: No matching distribution found for sklearn.inspection\u001b[0m\n"
          ]
        }
      ]
    },
    {
      "cell_type": "code",
      "source": [
        "\n",
        "!pip install -U scikit-learn --user\n",
        "\n"
      ],
      "metadata": {
        "colab": {
          "base_uri": "https://localhost:8080/"
        },
        "id": "4QWAnRuBxzRw",
        "outputId": "515e1684-94ca-4ef8-cf1e-c8193b27c4af"
      },
      "execution_count": 15,
      "outputs": [
        {
          "output_type": "stream",
          "name": "stdout",
          "text": [
            "Looking in indexes: https://pypi.org/simple, https://us-python.pkg.dev/colab-wheels/public/simple/\n",
            "Requirement already satisfied: scikit-learn in /usr/local/lib/python3.7/dist-packages (1.0.2)\n",
            "Requirement already satisfied: numpy>=1.14.6 in /usr/local/lib/python3.7/dist-packages (from scikit-learn) (1.21.6)\n",
            "Requirement already satisfied: joblib>=0.11 in /usr/local/lib/python3.7/dist-packages (from scikit-learn) (1.1.0)\n",
            "Requirement already satisfied: scipy>=1.1.0 in /usr/local/lib/python3.7/dist-packages (from scikit-learn) (1.7.3)\n",
            "Requirement already satisfied: threadpoolctl>=2.0.0 in /usr/local/lib/python3.7/dist-packages (from scikit-learn) (3.1.0)\n"
          ]
        }
      ]
    },
    {
      "cell_type": "code",
      "source": [
        "!pip install --pre --extra-index https://pypi.anaconda.org/scipy-wheels-nightly/simple scikit-learn\n"
      ],
      "metadata": {
        "colab": {
          "base_uri": "https://localhost:8080/"
        },
        "id": "qgOtY6Z5yLv_",
        "outputId": "d4f9ec9a-5ba6-46bf-ecfd-9dc11d803e87"
      },
      "execution_count": 7,
      "outputs": [
        {
          "output_type": "stream",
          "name": "stdout",
          "text": [
            "Looking in indexes: https://pypi.org/simple, https://us-python.pkg.dev/colab-wheels/public/simple/, https://pypi.anaconda.org/scipy-wheels-nightly/simple\n",
            "Requirement already satisfied: scikit-learn in /usr/local/lib/python3.7/dist-packages (1.0.2)\n",
            "Requirement already satisfied: threadpoolctl>=2.0.0 in /usr/local/lib/python3.7/dist-packages (from scikit-learn) (3.1.0)\n",
            "Requirement already satisfied: numpy>=1.14.6 in /usr/local/lib/python3.7/dist-packages (from scikit-learn) (1.21.6)\n",
            "Requirement already satisfied: joblib>=0.11 in /usr/local/lib/python3.7/dist-packages (from scikit-learn) (1.1.0)\n",
            "Requirement already satisfied: scipy>=1.1.0 in /usr/local/lib/python3.7/dist-packages (from scikit-learn) (1.7.3)\n"
          ]
        }
      ]
    },
    {
      "cell_type": "code",
      "source": [
        "# libary imports \n",
        "import os\n",
        "import torch\n",
        "from torch import nn\n",
        "import torchvision\n",
        "from torchvision.datasets import CIFAR10\n",
        "from torch.utils.data import DataLoader\n",
        "from torchvision import transforms\n",
        "import torchvision.datasets as datasets\n",
        "\n",
        "from sklearn import metrics\n",
        "from sklearn import decomposition\n",
        "from sklearn import manifold\n",
        "from tqdm.notebook import trange, tqdm\n",
        "\n",
        "import torch.nn.functional as F\n",
        "import torch.optim as optim\n",
        "import torch.utils.data as data\n",
        "\n",
        "import matplotlib.pyplot as plt\n",
        "import numpy as np\n",
        "import copy\n",
        "import random\n",
        "import time\n",
        "\n",
        "import itertools\n",
        "from functools import reduce\n",
        "import operator\n",
        "import torch.utils.data as data_utils\n",
        "from sklearn.metrics import classification_report\n",
        "from sklearn.metrics import confusion_matrix\n",
        "import matplotlib.pyplot as plt\n",
        "from sklearn.metrics import multilabel_confusion_matrix\n",
        "from torch.utils.data import Subset\n",
        "\n",
        "plt.rcParams['figure.figsize'] = [10, 20]"
      ],
      "metadata": {
        "id": "8aGeFmP-LjRy"
      },
      "execution_count": 23,
      "outputs": []
    },
    {
      "cell_type": "code",
      "source": [
        "device = torch.device('cuda' if torch.cuda.is_available() else 'cpu')"
      ],
      "metadata": {
        "id": "pEgfjtTkLt88"
      },
      "execution_count": 25,
      "outputs": []
    },
    {
      "cell_type": "markdown",
      "source": [
        "# Main program"
      ],
      "metadata": {
        "id": "OXrJf1YLR3t6"
      }
    },
    {
      "cell_type": "code",
      "source": [
        "\n",
        "\n",
        "# Prepare CIFAR-10 dataset\n",
        "trainset = CIFAR10(os.getcwd(), download=True, transform=transforms.Compose(\n",
        "      [transforms.ToTensor(),\n",
        "      transforms.Normalize((0.5, 0.5, 0.5), (0.5, 0.5, 0.5))]))\n",
        "\n",
        "testset = CIFAR10(os.getcwd(), download=True, transform=transforms.Compose(\n",
        "      [transforms.ToTensor(),\n",
        "      transforms.Normalize((0.5, 0.5, 0.5), (0.5, 0.5, 0.5))]))\n",
        "\n",
        "\n",
        "#print(images, labels)\n",
        "\n",
        "def my_fun(dataset):\n",
        "    X=[]\n",
        "    y=[]\n",
        "    for feature, label in iter(dataset):\n",
        "        X.append(feature)\n",
        "        y.append(label)\n",
        "    return torch.stack(X).numpy(), y\n",
        "\n",
        "\n",
        "#get  data as numpy arrays\n",
        "X_train, y_train = my_fun(trainset)\n",
        "X_test, y_test =my_fun(testset)\n"
      ],
      "metadata": {
        "colab": {
          "base_uri": "https://localhost:8080/",
          "height": 149,
          "referenced_widgets": [
            "0c94b5fbe15643cc91f3a5a41597db7c",
            "a363e91736bf48fe9588e4d0d3a4686c",
            "1a6fd0e2de3e40618b6094097d822b61",
            "a3e83120d10b4aaa830a3c0099c4dcf7",
            "34af34951bfc43c09aa4499ac9cf705b",
            "7bab49f727c74e4ca0cd4867cbd355c6",
            "7938b904115a45f198723353a45f9ae1",
            "8a771d27ea9942c98acc20deab50c435",
            "3c1e49a333674e0a8e6c1354a9d459d2",
            "0c7305ee886349d8b238327455133476",
            "631fc2f826524c0d9d87b41d201ed024"
          ]
        },
        "id": "4KCxWWGde6bl",
        "outputId": "1fb1d633-f8f2-4512-cbf1-1343ba5098ce"
      },
      "execution_count": 26,
      "outputs": [
        {
          "output_type": "stream",
          "name": "stdout",
          "text": [
            "Downloading https://www.cs.toronto.edu/~kriz/cifar-10-python.tar.gz to /content/cifar-10-python.tar.gz\n"
          ]
        },
        {
          "output_type": "display_data",
          "data": {
            "text/plain": [
              "  0%|          | 0/170498071 [00:00<?, ?it/s]"
            ],
            "application/vnd.jupyter.widget-view+json": {
              "version_major": 2,
              "version_minor": 0,
              "model_id": "0c94b5fbe15643cc91f3a5a41597db7c"
            }
          },
          "metadata": {}
        },
        {
          "output_type": "stream",
          "name": "stdout",
          "text": [
            "Extracting /content/cifar-10-python.tar.gz to /content\n",
            "Files already downloaded and verified\n"
          ]
        }
      ]
    },
    {
      "cell_type": "code",
      "source": [
        "\n",
        "class MLPClassifer(nn.Module):\n",
        "      '''\n",
        "        Multilayer Perceptron.\n",
        "      '''\n",
        "      def __init__(self ):\n",
        "        super().__init__()\n",
        "        input=trainset.data[1].shape\n",
        "        output=len(torch.unique(torch.tensor(trainset.targets)))\n",
        "        hidden_layer_sizes=(64,32)\n",
        "        self.layers = nn.Sequential(\n",
        "          nn.Flatten(),\n",
        "          nn.Linear(reduce(operator.mul, input),  hidden_layer_sizes[0]),\n",
        "          nn.ReLU(),\n",
        "          nn.Linear(hidden_layer_sizes[0],  hidden_layer_sizes[1]),\n",
        "          nn.ReLU(),\n",
        "          nn.Linear(hidden_layer_sizes[1], output)\n",
        "        )\n",
        "\n",
        "      def forward(self, x):\n",
        "        '''Forward pass'''\n",
        "        return self.layers(x)\n",
        "\n",
        "class Neural_Network(object):\n",
        "    \n",
        "    \n",
        "    def __init__ (self,batch_size=2000,epochs=2,verbose=True,loss_function = nn.CrossEntropyLoss(),\n",
        "         optimiser='adam',classifier= MLPClassifer(), \n",
        "         learning_rate=1e-3,  betas=(0.9,0.99) , eps=1e-8, weight_decay=0, amsgrad=False,\n",
        "      momentum=0.9, nesterov=True, dampening=0, maximise=False):\n",
        "      \n",
        "      self.batch_size=batch_size\n",
        "      self.epochs=epochs\n",
        "      \n",
        "      self.verbose=True\n",
        "      #used inside the training/ testing loops\n",
        "      self.running_loss = 0\n",
        "      self.loss_function = loss_function\n",
        "      self.classifier= classifier\n",
        "      \n",
        "      self.sm = torch.nn.Softmax()\n",
        "\n",
        "      #some initial parameters for either standard optimisers\n",
        "      self.learning_rate=learning_rate \n",
        "      self.betas= betas\n",
        "      self.eps= eps\n",
        "      self.weight_decay=weight_decay\n",
        "      self.amsgrad=amsgrad \n",
        "      self.momentum=momentum\n",
        "      self.nesterov=nesterov\n",
        "      self.dampening=dampening\n",
        "      self.maximise=maximise\n",
        "\n",
        "      #default optimiser: adam \n",
        "      self.optimiser=self.set_optimiser_2(optimiser)\n",
        "    \n",
        "    #for some reason calling this function set_optimiser returns None \n",
        "    def set_optimiser_2(self, optimiser):\n",
        "        #playing around with adam and sgd only at the moment\n",
        "        #there is only two of them \n",
        "        if optimiser.lower().strip()=='adam':\n",
        "            self.optimiser=torch.optim.Adam(self.classifier.parameters(),lr=self.learning_rate, betas=self.betas, eps=self.eps, weight_decay=self.weight_decay, amsgrad=self.amsgrad)\n",
        "        elif optimiser.lower().strip()=='sgd':\n",
        "            self.optimiser=torch.optim.SGD(self.classifier.parameters(),lr=self.learning_rate, weight_decay=self.weight_decay, momentum=0.9,nesterov=self.nesterov , dampening=self.dampening)\n",
        "        return self.optimiser\n",
        "\n",
        "\n",
        "    def get_optimiser(self):\n",
        "      print(self.optimiser)\n",
        "\n",
        "    \n",
        "    def get_params(self): #get parameters\n",
        "       if (self.optimiser != None) :\n",
        "         return  (self.props(),self.optimiser.state_dict(), self.classifier.state_dict)\n",
        "       else: return self.classifier.state_dict() \n",
        "  \n",
        "    def fit(self,X,y):\n",
        "        train = [*zip(X,y)]\n",
        "        trainloader =  torch.utils.data.DataLoader(train,batch_size=8, shuffle=False, num_workers=2)\n",
        "        for epoch in range(self.epochs):  # loop over the dataset 2 times\n",
        "        \n",
        "          running_loss =self.running_loss\n",
        "          for i, data in enumerate(trainloader, 0):\n",
        "          # get the inputs; data is a list of [inputs, labels]\n",
        "            inputs, labels = data\n",
        "             \n",
        "            # zero the parameter gradients\n",
        "            self.optimiser.zero_grad()\n",
        "\n",
        "            # forward + compute loss+ backward + optimize\n",
        "            outputs = self.classifier(inputs)\n",
        "            loss = self.loss_function(outputs, labels)\n",
        "            loss.backward()\n",
        "            self.optimiser.step()\n",
        "            # print statistics\n",
        "            running_loss += loss.item()\n",
        "            if i % self.batch_size == (self.batch_size-1):    # print every 2000 mini-batches\n",
        "                if self.verbose==True:\n",
        "                  print(f'[{epoch + 1}, {i + 1:5d}] loss: {running_loss / self.batch_size:.3f}')\n",
        "                running_loss = 0.0\n",
        "\n",
        "    def predict(self, X_test): #Predict using the multi-layer perceptron classifier.\n",
        "      \n",
        "      test = [*zip(X_test,y_test)]\n",
        "      testloader = torch.utils.data.DataLoader(test,batch_size=8, shuffle=False, num_workers=2)\n",
        "      prediction_list=[]\n",
        "      targets=[]\n",
        "      # again no gradients needed\n",
        "      with torch.no_grad():\n",
        "          for data in testloader:\n",
        "              images, labels = data\n",
        "              targets.append(labels)\n",
        "              outputs = self.classifier(images)\n",
        "              estimation, predictions = torch.max(outputs, 1)\n",
        "              prediction_list.append(predictions)\n",
        "      return prediction_list,targets #torch.stack(prediction_list)\n",
        "\n",
        "\n",
        "    def predict_log_proba(self,X):  #\tReturn the log of probability estimates.\n",
        "        data = [*zip(X,y_test)]\n",
        "        loader =  torch.utils.data.DataLoader(data,batch_size=8, shuffle=False, num_workers=2)\n",
        "        y_prob=self.predict_proba(loader)\n",
        "        log_proba=np.log(y_prob)\n",
        "        return log_proba\n",
        " \n",
        "\n",
        "    def predict_proba(self,X_test):\t#Probability estimates.\n",
        "      probabilities_list=[]\n",
        "      data = [*zip(X_test,y_test)]\n",
        "      loader =  torch.utils.data.DataLoader(data,batch_size=8, shuffle=False, num_workers=2)\n",
        "      # again no gradients needed\n",
        "      with torch.no_grad():\n",
        "          for data in loader:\n",
        "              images, labels = data\n",
        "              outputs = self.classifier(images)\n",
        "              probabilities_list.append(self.sm(outputs) )\n",
        "              estimation, predictions = torch.max(outputs, 1)\n",
        "      return probabilities_list\n",
        "      \n",
        "\n",
        "    def score(self,X,y): #Return the mean accuracy on the given test data and labels.\n",
        "        prediction_list=[]\n",
        "        targets_list=[]\n",
        "        data = [*zip(X,y)]\n",
        "        loader =  torch.utils.data.DataLoader(data,batch_size=8, shuffle=False, num_workers=2)\n",
        "        num_classes=len(torch.unique(torch.tensor(y)))\n",
        "        #set it to true if you have a list of available labels in text format\n",
        "        labels_available=False\n",
        "        if labels_available:\n",
        "            classes = ('plane', 'car', 'bird', 'cat',\n",
        "                    'deer', 'dog', 'frog', 'horse', 'ship', 'truck')\n",
        "            # prepare to count predictions for each class\n",
        "            correct_pred = {classname: 0 for classname in classes}\n",
        "            total_pred = {classname: 0 for classname in classes}\n",
        "        #use the class number as key\n",
        "        else: \n",
        "            classes=tuple(np.arange(num_classes))  \n",
        "            correct_pred = {classname: 0 for classname in np.arange(num_classes)}\n",
        "            total_pred= {classname: 0 for classname in np.arange(num_classes)}\n",
        "\n",
        "        # again no gradients needed\n",
        "        with torch.no_grad():\n",
        "            for data in loader:\n",
        "                images, labels = data\n",
        "                targets_list.append(labels)\n",
        "                outputs = self.classifier(images)\n",
        "                estimation, predictions = torch.max(outputs, 1)\n",
        "                prediction_list.append(predictions)\n",
        "                # collect the correct predictions for each class\n",
        "                for label, prediction in zip(labels, predictions):\n",
        "                    if label == prediction:\n",
        "                        correct_pred[classes[label]] += 1\n",
        "                    total_pred[classes[label]] += 1\n",
        "        accuracies={}\n",
        "        # print accuracy for each class\n",
        "        for classname, correct_count in correct_pred.items():\n",
        "            accuracy = 100 * float(correct_count) / total_pred[classname]\n",
        "            accuracies[classname]=accuracy\n",
        "            if self.verbose:\n",
        "              print(f'Accuracy for class: {classname} is {accuracy:.1f} %')\n",
        "        return targets_list,prediction_list\n",
        "        \n",
        "\n",
        "    def set_params(self, attr, value): #sets parameters\n",
        "        setattr(self, attr, value)\n",
        "        \n",
        "    def props(cls):   \n",
        "        return [i for i in cls.__dict__.items() if i[:1] != '_']\n",
        "\n",
        "    def get_classifier(self):\n",
        "        return self.classifier()\n",
        "\n",
        "    def set_optimiser(self, optimiser_choice):\n",
        "        return \n",
        "\n",
        "    def get_classification_report(self,y, y_pred):\n",
        "        y_prime = np.stack([np.stack([d for d in d_]) for d_ in y]).flatten()\n",
        "        y_pred_prime=np.stack([np.stack([d for d in d_]) for d_ in y_pred]).flatten()   \n",
        "        print(classification_report(y_prime, y_pred_prime))\n",
        "\n",
        "\n",
        "    def plot_confusion_matrix(self,cm, classes,\n",
        "                              normalize=False,\n",
        "                              title='Confusion matrix',\n",
        "                              cmap=plt.cm.Blues):\n",
        "        \"\"\"\n",
        "        This function prints and plots the confusion matrix.\n",
        "        Normalization can be applied by setting `normalize=True`.\n",
        "        \"\"\"\n",
        "        if normalize:\n",
        "            cm = cm.astype('float') / cm.sum(axis=1)[:, np.newaxis]\n",
        "            print(\"Normalized confusion matrix\")\n",
        "        else:\n",
        "            print('Confusion matrix, without normalization')\n",
        "\n",
        "        print(cm)\n",
        "\n",
        "        plt.imshow(cm, interpolation='nearest', cmap=cmap)\n",
        "        plt.title(title)\n",
        "        plt.colorbar()\n",
        "        tick_marks = np.arange(len(classes))\n",
        "        plt.xticks(tick_marks, classes, rotation=45)\n",
        "        plt.yticks(tick_marks, classes)\n",
        "\n",
        "        fmt = '.2f' if normalize else 'd'\n",
        "        thresh = cm.max() / 2.\n",
        "        for i, j in itertools.product(range(cm.shape[0]), range(cm.shape[1])):\n",
        "            plt.text(j, i, format(cm[i, j], fmt),\n",
        "                    horizontalalignment=\"center\",\n",
        "                    color=\"white\" if cm[i, j] > thresh else \"black\")\n",
        "\n",
        "        plt.ylabel('True label')\n",
        "        plt.xlabel('Predicted label')\n",
        "        plt.tight_layout()\n",
        "\n",
        "\n",
        "    def get_confusion_matrix(self,y, y_pred, plot=True):\n",
        "          y_prime = np.stack([np.stack([d for d in d_]) for d_ in y]).flatten()\n",
        "          y_pred_prime=np.stack([np.stack([d for d in d_]) for d_ in y_pred]).flatten()\n",
        "          cnf_matrix = confusion_matrix(y_prime, y_pred_prime,labels=np.arange(10))\n",
        "          np.set_printoptions(precision=2)\n",
        "          # Plot non-normalized confusion matrix\n",
        "          if plot==True:\n",
        "            plt.figure()\n",
        "            self.plot_confusion_matrix(cnf_matrix, classes=['plane', 'car', 'bird', 'cat',\n",
        "                                'deer', 'dog', 'frog', 'horse', 'ship', 'truck'],\n",
        "                                  title='Confusion matrix, without normalization')\n",
        "              \n"
      ],
      "metadata": {
        "id": "07OsmxL4G_3_"
      },
      "execution_count": 27,
      "outputs": []
    },
    {
      "cell_type": "code",
      "source": [
        "model= Neural_Network()\n"
      ],
      "metadata": {
        "id": "U9JMgVC3r8N2"
      },
      "execution_count": 28,
      "outputs": []
    },
    {
      "cell_type": "code",
      "source": [
        "model= Neural_Network()\n",
        "model.set_optimiser_2('adam')\n",
        "model.fit(X_train,y_train)\n"
      ],
      "metadata": {
        "colab": {
          "base_uri": "https://localhost:8080/"
        },
        "id": "i0GPKQoTtZfN",
        "outputId": "97eede61-99f3-42f9-fa21-8ac10af4cb2d"
      },
      "execution_count": 21,
      "outputs": [
        {
          "output_type": "stream",
          "name": "stdout",
          "text": [
            "[1,  2000] loss: 1.815\n",
            "[1,  4000] loss: 1.663\n",
            "[1,  6000] loss: 1.635\n",
            "[2,  2000] loss: 1.577\n",
            "[2,  4000] loss: 1.527\n",
            "[2,  6000] loss: 1.526\n"
          ]
        }
      ]
    },
    {
      "cell_type": "code",
      "source": [
        "y, y_pred=model.score(X_test, y_test)"
      ],
      "metadata": {
        "colab": {
          "base_uri": "https://localhost:8080/"
        },
        "id": "LzElDmQ4gcmh",
        "outputId": "0da13ca7-d75d-46fd-c23d-b0acf927aca4"
      },
      "execution_count": 11,
      "outputs": [
        {
          "output_type": "stream",
          "name": "stdout",
          "text": [
            "Accuracy for class: 0 is 42.0 %\n",
            "Accuracy for class: 1 is 59.8 %\n",
            "Accuracy for class: 2 is 24.2 %\n",
            "Accuracy for class: 3 is 35.2 %\n",
            "Accuracy for class: 4 is 42.5 %\n",
            "Accuracy for class: 5 is 33.9 %\n",
            "Accuracy for class: 6 is 63.1 %\n",
            "Accuracy for class: 7 is 64.4 %\n",
            "Accuracy for class: 8 is 72.0 %\n",
            "Accuracy for class: 9 is 56.2 %\n"
          ]
        }
      ]
    },
    {
      "cell_type": "code",
      "source": [
        "x=model.predict(X_test)\n",
        "print(torch.stack(x).numpy())"
      ],
      "metadata": {
        "colab": {
          "base_uri": "https://localhost:8080/"
        },
        "id": "LP67Z87cZlSa",
        "outputId": "17d1ec15-0fdc-4231-dc57-0ce73e8756dc"
      },
      "execution_count": 13,
      "outputs": [
        {
          "output_type": "stream",
          "name": "stdout",
          "text": [
            "[[6 1 9 ... 9 6 7]\n",
            " [0 7 4 ... 3 7 8]\n",
            " [9 3 3 ... 3 6 6]\n",
            " ...\n",
            " [7 1 1 ... 7 3 5]\n",
            " [4 8 7 ... 3 8 3]\n",
            " [7 1 8 ... 9 9 7]]\n"
          ]
        }
      ]
    },
    {
      "cell_type": "code",
      "source": [
        "'''\n",
        "#  full tensor form\n",
        "y_prime=torch.stack(y)\n",
        "y_pred_prime=torch.stack(y_pred)\n",
        "\n",
        "# full numpy form\n",
        "y_prime= y_prime.numpy()\n",
        "y_pred_numpy= y_pred_prime.numpy()\n",
        "'''"
      ],
      "metadata": {
        "id": "ariv17PW2HQg",
        "colab": {
          "base_uri": "https://localhost:8080/",
          "height": 70
        },
        "outputId": "804e4139-1c39-4302-ddd4-2d28cf5c18f7"
      },
      "execution_count": 58,
      "outputs": [
        {
          "output_type": "execute_result",
          "data": {
            "text/plain": [
              "'\\n#  full tensor form\\ny_prime=torch.stack(y)\\ny_pred_prime=torch.stack(y_pred)\\n\\n# full numpy form\\ny_prime= y_prime.numpy()\\ny_pred_numpy= y_pred_prime.numpy()\\n'"
            ],
            "application/vnd.google.colaboratory.intrinsic+json": {
              "type": "string"
            }
          },
          "metadata": {},
          "execution_count": 58
        }
      ]
    },
    {
      "cell_type": "code",
      "source": [
        "model.get_classification_report(y, y_pred)"
      ],
      "metadata": {
        "colab": {
          "base_uri": "https://localhost:8080/"
        },
        "id": "_0CbwLAxM4Vn",
        "outputId": "5f430020-e45a-493a-f25c-6efad3d0abeb"
      },
      "execution_count": 59,
      "outputs": [
        {
          "output_type": "stream",
          "name": "stdout",
          "text": [
            "              precision    recall  f1-score   support\n",
            "\n",
            "           0       0.62      0.55      0.59      5000\n",
            "           1       0.64      0.62      0.63      5000\n",
            "           2       0.51      0.22      0.30      5000\n",
            "           3       0.32      0.49      0.39      5000\n",
            "           4       0.49      0.44      0.46      5000\n",
            "           5       0.46      0.29      0.36      5000\n",
            "           6       0.50      0.63      0.56      5000\n",
            "           7       0.56      0.66      0.60      5000\n",
            "           8       0.64      0.68      0.66      5000\n",
            "           9       0.55      0.64      0.59      5000\n",
            "\n",
            "    accuracy                           0.52     50000\n",
            "   macro avg       0.53      0.52      0.51     50000\n",
            "weighted avg       0.53      0.52      0.51     50000\n",
            "\n"
          ]
        }
      ]
    },
    {
      "cell_type": "code",
      "source": [
        "model.get_confusion_matrix(y, y_pred)"
      ],
      "metadata": {
        "colab": {
          "base_uri": "https://localhost:8080/",
          "height": 1000
        },
        "id": "qZMwOn8chqwS",
        "outputId": "70f03729-549a-4f33-e7f1-6e693d8adf8e"
      },
      "execution_count": 10,
      "outputs": [
        {
          "output_type": "stream",
          "name": "stdout",
          "text": [
            "Confusion matrix, without normalization\n",
            "[[2347  250  177  305  195   82  130  264  948  302]\n",
            " [ 107 2755   54  238   51   37  185  117  463  993]\n",
            " [ 413   91 1065  864  829  293  754  437  173   81]\n",
            " [ 113  108  228 2496  241  517  698  300  167  132]\n",
            " [ 190   91  306  512 2107  152  807  546  218   71]\n",
            " [  74   57  272 1864  296 1273  497  476  117   74]\n",
            " [  43   62  187  818  478  116 3032  132   61   71]\n",
            " [  82  117  131  487  434  234  159 3125   85  146]\n",
            " [ 278  267   58  255   89   60   82   59 3557  295]\n",
            " [ 116  562   55  359   47   85  180  301  529 2766]]\n"
          ]
        },
        {
          "output_type": "display_data",
          "data": {
            "text/plain": [
              "<Figure size 720x1440 with 2 Axes>"
            ],
            "image/png": "[encoded data removed]"
          },
          "metadata": {
            "needs_background": "light"
          }
        }
      ]
    },
    {
      "cell_type": "code",
      "source": [
        "from sklearn.metrics import multilabel_confusion_matrix\n",
        "y_prime = np.stack([np.stack([d for d in d_]) for d_ in y]).flatten()\n",
        "y_pred_prime=np.stack([np.stack([d for d in d_]) for d_ in y_pred]).flatten()\n",
        "multilabel_confusion_matrix(y_prime, y_pred_prime)"
      ],
      "metadata": {
        "colab": {
          "base_uri": "https://localhost:8080/"
        },
        "id": "8QTH3CYe8VOi",
        "outputId": "eaf46cf3-da1a-41b6-f301-4b7d15f1e40c"
      },
      "execution_count": null,
      "outputs": [
        {
          "output_type": "stream",
          "name": "stdout",
          "text": [
            "6\n",
            "50000\n"
          ]
        },
        {
          "output_type": "execute_result",
          "data": {
            "text/plain": [
              "array([[[43997,  1003],\n",
              "        [ 2985,  2015]],\n",
              "\n",
              "       [[43397,  1603],\n",
              "        [ 2183,  2817]],\n",
              "\n",
              "       [[43377,  1623],\n",
              "        [ 3802,  1198]],\n",
              "\n",
              "       [[38833,  6167],\n",
              "        [ 2339,  2661]],\n",
              "\n",
              "       [[42319,  2681],\n",
              "        [ 2935,  2065]],\n",
              "\n",
              "       [[44019,   981],\n",
              "        [ 3918,  1082]],\n",
              "\n",
              "       [[42074,  2926],\n",
              "        [ 2156,  2844]],\n",
              "\n",
              "       [[41563,  3437],\n",
              "        [ 1705,  3295]],\n",
              "\n",
              "       [[42068,  2932],\n",
              "        [ 1297,  3703]],\n",
              "\n",
              "       [[42829,  2171],\n",
              "        [ 2204,  2796]]])"
            ]
          },
          "metadata": {},
          "execution_count": 301
        }
      ]
    },
    {
      "cell_type": "code",
      "source": [
        "m=torch.stack(X_train)\n",
        "m=m.numpy()\n",
        "len(m)\n",
        "len(y_train)"
      ],
      "metadata": {
        "colab": {
          "base_uri": "https://localhost:8080/"
        },
        "id": "xhSiuxg_ZPSw",
        "outputId": "a24d6f16-a078-4ff2-d954-ed0196ec063a"
      },
      "execution_count": 43,
      "outputs": [
        {
          "output_type": "execute_result",
          "data": {
            "text/plain": [
              "50000"
            ]
          },
          "metadata": {},
          "execution_count": 43
        }
      ]
    },
    {
      "cell_type": "code",
      "source": [
        "from sklearn.datasets import fetch_openml\n",
        "from sklearn.preprocessing import StandardScaler\n",
        "from sklearn.pipeline import make_pipeline\n",
        "from sklearn.linear_model import LogisticRegression\n",
        "from sklearn.model_selection import train_test_split\n",
        "\n",
        "\n",
        "clf = make_pipeline( model)\n",
        "clf.fit(X_train,  y_train)"
      ],
      "metadata": {
        "colab": {
          "base_uri": "https://localhost:8080/"
        },
        "id": "4T9Hhp30ZPZ7",
        "outputId": "c1b8c6fe-d69c-4a20-8e7c-513e4d6d1fb6"
      },
      "execution_count": 27,
      "outputs": [
        {
          "output_type": "stream",
          "name": "stdout",
          "text": [
            "[1,  2000] loss: 1.818\n",
            "[1,  4000] loss: 1.659\n",
            "[1,  6000] loss: 1.634\n",
            "[2,  2000] loss: 1.556\n",
            "[2,  4000] loss: 1.516\n",
            "[2,  6000] loss: 1.523\n"
          ]
        },
        {
          "output_type": "execute_result",
          "data": {
            "text/plain": [
              "Pipeline(steps=[('neural_network',\n",
              "                 <__main__.Neural_Network object at 0x7f701e430d10>)])"
            ]
          },
          "metadata": {},
          "execution_count": 27
        }
      ]
    },
    {
      "cell_type": "code",
      "source": [
        "from sklearn.metrics import confusion_matrix\n",
        "from sklearn.metrics import ConfusionMatrixDisplay\n",
        "\n",
        "y_pred,y_test_prime =clf.predict(X_test)\n",
        "y_pred=(torch.stack(y_pred)).numpy()\n",
        "y_test_prime=(torch.stack(y_test_prime)).numpy()\n",
        "\n"
      ],
      "metadata": {
        "id": "DRZFg832dE1T"
      },
      "execution_count": null,
      "outputs": []
    },
    {
      "cell_type": "markdown",
      "source": [
        "##Multiclass multiouput not supported so implemented my own get_confusion_matrix_method\n",
        "\n",
        "\n",
        "MLP has no Roc curve -no .decision_function()"
      ],
      "metadata": {
        "id": "4fEokx6at9kN"
      }
    },
    {
      "cell_type": "code",
      "source": [
        "cm = confusion_matrix(y_test_prime, y_pred)\n",
        "\n",
        "cm_display = ConfusionMatrixDisplay(cm).plot()"
      ],
      "metadata": {
        "colab": {
          "base_uri": "https://localhost:8080/",
          "height": 200
        },
        "id": "wYyb_DBMss1z",
        "outputId": "52dd41a3-0fbe-4ba5-d3f5-5b8170323c99"
      },
      "execution_count": 9,
      "outputs": [
        {
          "output_type": "error",
          "ename": "NameError",
          "evalue": "ignored",
          "traceback": [
            "\u001b[0;31m---------------------------------------------------------------------------\u001b[0m",
            "\u001b[0;31mNameError\u001b[0m                                 Traceback (most recent call last)",
            "\u001b[0;32m<ipython-input-9-ee608b285936>\u001b[0m in \u001b[0;36m<module>\u001b[0;34m()\u001b[0m\n\u001b[0;32m----> 1\u001b[0;31m \u001b[0mcm\u001b[0m \u001b[0;34m=\u001b[0m \u001b[0mconfusion_matrix\u001b[0m\u001b[0;34m(\u001b[0m\u001b[0my_test_prime\u001b[0m\u001b[0;34m,\u001b[0m \u001b[0my_pred\u001b[0m\u001b[0;34m)\u001b[0m\u001b[0;34m\u001b[0m\u001b[0;34m\u001b[0m\u001b[0m\n\u001b[0m\u001b[1;32m      2\u001b[0m \u001b[0;34m\u001b[0m\u001b[0m\n\u001b[1;32m      3\u001b[0m \u001b[0mcm_display\u001b[0m \u001b[0;34m=\u001b[0m \u001b[0mConfusionMatrixDisplay\u001b[0m\u001b[0;34m(\u001b[0m\u001b[0mcm\u001b[0m\u001b[0;34m)\u001b[0m\u001b[0;34m.\u001b[0m\u001b[0mplot\u001b[0m\u001b[0;34m(\u001b[0m\u001b[0;34m)\u001b[0m\u001b[0;34m\u001b[0m\u001b[0;34m\u001b[0m\u001b[0m\n",
            "\u001b[0;31mNameError\u001b[0m: name 'confusion_matrix' is not defined"
          ]
        }
      ]
    },
    {
      "cell_type": "code",
      "source": [
        ""
      ],
      "metadata": {
        "colab": {
          "base_uri": "https://localhost:8080/",
          "height": 519
        },
        "id": "N5YS3TJEt87m",
        "outputId": "a96eb256-66a8-44a0-bb67-4cd02cc1fd33"
      },
      "execution_count": 41,
      "outputs": [
        {
          "output_type": "error",
          "ename": "AttributeError",
          "evalue": "ignored",
          "traceback": [
            "\u001b[0;31m---------------------------------------------------------------------------\u001b[0m",
            "\u001b[0;31mAttributeError\u001b[0m                            Traceback (most recent call last)",
            "\u001b[0;32m<ipython-input-41-a5f0f0e57361>\u001b[0m in \u001b[0;36m<module>\u001b[0;34m()\u001b[0m\n\u001b[1;32m      2\u001b[0m \u001b[0;32mfrom\u001b[0m \u001b[0msklearn\u001b[0m\u001b[0;34m.\u001b[0m\u001b[0mmetrics\u001b[0m \u001b[0;32mimport\u001b[0m \u001b[0mRocCurveDisplay\u001b[0m\u001b[0;34m\u001b[0m\u001b[0;34m\u001b[0m\u001b[0m\n\u001b[1;32m      3\u001b[0m \u001b[0;34m\u001b[0m\u001b[0m\n\u001b[0;32m----> 4\u001b[0;31m \u001b[0my_score\u001b[0m \u001b[0;34m=\u001b[0m \u001b[0mclf\u001b[0m\u001b[0;34m.\u001b[0m\u001b[0mdecision_function\u001b[0m\u001b[0;34m(\u001b[0m\u001b[0mX_test\u001b[0m\u001b[0;34m)\u001b[0m\u001b[0;34m\u001b[0m\u001b[0;34m\u001b[0m\u001b[0m\n\u001b[0m\u001b[1;32m      5\u001b[0m \u001b[0;34m\u001b[0m\u001b[0m\n\u001b[1;32m      6\u001b[0m \u001b[0mfpr\u001b[0m\u001b[0;34m,\u001b[0m \u001b[0mtpr\u001b[0m\u001b[0;34m,\u001b[0m \u001b[0m_\u001b[0m \u001b[0;34m=\u001b[0m \u001b[0mroc_curve\u001b[0m\u001b[0;34m(\u001b[0m\u001b[0my_test\u001b[0m\u001b[0;34m,\u001b[0m \u001b[0my_score\u001b[0m\u001b[0;34m,\u001b[0m \u001b[0mpos_label\u001b[0m\u001b[0;34m=\u001b[0m\u001b[0mclf\u001b[0m\u001b[0;34m.\u001b[0m\u001b[0mclasses_\u001b[0m\u001b[0;34m[\u001b[0m\u001b[0;36m1\u001b[0m\u001b[0;34m]\u001b[0m\u001b[0;34m)\u001b[0m\u001b[0;34m\u001b[0m\u001b[0;34m\u001b[0m\u001b[0m\n",
            "\u001b[0;32m/usr/local/lib/python3.7/dist-packages/sklearn/utils/metaestimators.py\u001b[0m in \u001b[0;36m__get__\u001b[0;34m(self, obj, owner)\u001b[0m\n\u001b[1;32m    107\u001b[0m             \u001b[0;31m# delegate only on instances, not the classes.\u001b[0m\u001b[0;34m\u001b[0m\u001b[0;34m\u001b[0m\u001b[0;34m\u001b[0m\u001b[0m\n\u001b[1;32m    108\u001b[0m             \u001b[0;31m# this is to allow access to the docstrings.\u001b[0m\u001b[0;34m\u001b[0m\u001b[0;34m\u001b[0m\u001b[0;34m\u001b[0m\u001b[0m\n\u001b[0;32m--> 109\u001b[0;31m             \u001b[0;32mif\u001b[0m \u001b[0;32mnot\u001b[0m \u001b[0mself\u001b[0m\u001b[0;34m.\u001b[0m\u001b[0mcheck\u001b[0m\u001b[0;34m(\u001b[0m\u001b[0mobj\u001b[0m\u001b[0;34m)\u001b[0m\u001b[0;34m:\u001b[0m\u001b[0;34m\u001b[0m\u001b[0;34m\u001b[0m\u001b[0m\n\u001b[0m\u001b[1;32m    110\u001b[0m                 \u001b[0;32mraise\u001b[0m \u001b[0mattr_err\u001b[0m\u001b[0;34m\u001b[0m\u001b[0;34m\u001b[0m\u001b[0m\n\u001b[1;32m    111\u001b[0m \u001b[0;34m\u001b[0m\u001b[0m\n",
            "\u001b[0;32m/usr/local/lib/python3.7/dist-packages/sklearn/pipeline.py\u001b[0m in \u001b[0;36mcheck\u001b[0;34m(self)\u001b[0m\n\u001b[1;32m     43\u001b[0m     \u001b[0;32mdef\u001b[0m \u001b[0mcheck\u001b[0m\u001b[0;34m(\u001b[0m\u001b[0mself\u001b[0m\u001b[0;34m)\u001b[0m\u001b[0;34m:\u001b[0m\u001b[0;34m\u001b[0m\u001b[0;34m\u001b[0m\u001b[0m\n\u001b[1;32m     44\u001b[0m         \u001b[0;31m# raise original `AttributeError` if `attr` does not exist\u001b[0m\u001b[0;34m\u001b[0m\u001b[0;34m\u001b[0m\u001b[0;34m\u001b[0m\u001b[0m\n\u001b[0;32m---> 45\u001b[0;31m         \u001b[0mgetattr\u001b[0m\u001b[0;34m(\u001b[0m\u001b[0mself\u001b[0m\u001b[0;34m.\u001b[0m\u001b[0m_final_estimator\u001b[0m\u001b[0;34m,\u001b[0m \u001b[0mattr\u001b[0m\u001b[0;34m)\u001b[0m\u001b[0;34m\u001b[0m\u001b[0;34m\u001b[0m\u001b[0m\n\u001b[0m\u001b[1;32m     46\u001b[0m         \u001b[0;32mreturn\u001b[0m \u001b[0;32mTrue\u001b[0m\u001b[0;34m\u001b[0m\u001b[0;34m\u001b[0m\u001b[0m\n\u001b[1;32m     47\u001b[0m \u001b[0;34m\u001b[0m\u001b[0m\n",
            "\u001b[0;31mAttributeError\u001b[0m: 'Neural_Network' object has no attribute 'decision_function'"
          ]
        }
      ]
    },
    {
      "cell_type": "code",
      "source": [
        ""
      ],
      "metadata": {
        "id": "ucGyaNj5u4wE"
      },
      "execution_count": null,
      "outputs": []
    }
  ]
}