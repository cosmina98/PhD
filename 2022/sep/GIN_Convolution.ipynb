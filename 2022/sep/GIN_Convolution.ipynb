{
  "nbformat": 4,
  "nbformat_minor": 0,
  "metadata": {
    "colab": {
      "provenance": [],
      "authorship_tag": "ABX9TyP4lV7TjFU6UfshZt7q3K9Q",
      "include_colab_link": true
    },
    "kernelspec": {
      "name": "python3",
      "display_name": "Python 3"
    },
    "language_info": {
      "name": "python"
    }
  },
  "cells": [
    {
      "cell_type": "markdown",
      "metadata": {
        "id": "view-in-github",
        "colab_type": "text"
      },
      "source": [
        "<a href=\"https://colab.research.google.com/github/cosmina98/PhD/blob/main/2022/sep/GIN_Convolution.ipynb\" target=\"_parent\"><img src=\"https://colab.research.google.com/assets/colab-badge.svg\" alt=\"Open In Colab\"/></a>"
      ]
    },
    {
      "cell_type": "markdown",
      "source": [
        "Imports"
      ],
      "metadata": {
        "id": "aeb0sGdnjK6k"
      }
    },
    {
      "cell_type": "code",
      "execution_count": 1,
      "metadata": {
        "colab": {
          "base_uri": "https://localhost:8080/"
        },
        "id": "Syl3RtcIjJ-E",
        "outputId": "06625e00-d948-4927-d45b-0475e89134de"
      },
      "outputs": [
        {
          "output_type": "stream",
          "name": "stdout",
          "text": [
            "1.12.1+cu113\n",
            "\u001b[K     |████████████████████████████████| 467 kB 4.0 MB/s \n",
            "\u001b[?25h  Building wheel for torch-geometric (setup.py) ... \u001b[?25l\u001b[?25hdone\n",
            "\u001b[K     |████████████████████████████████| 7.9 MB 3.8 MB/s \n",
            "\u001b[K     |████████████████████████████████| 3.5 MB 3.6 MB/s \n",
            "\u001b[?25h  Building wheel for torch-geometric (setup.py) ... \u001b[?25l\u001b[?25hdone\n"
          ]
        }
      ],
      "source": [
        "import os\n",
        "import torch\n",
        "os.environ['TORCH'] = torch.__version__\n",
        "print(torch.__version__)\n",
        "!pip install plotnine --quiet\n",
        "!pip install torch_geometric  --quiet\n",
        "!pip install torch_geometric  --quiet\n",
        "!pip install -q torch-scatter -f https://data.pyg.org/whl/torch-${TORCH}.html --quiet\n",
        "!pip install -q torch-sparse -f https://data.pyg.org/whl/torch-${TORCH}.html  --quiet\n",
        "!pip install -q git+https://github.com/pyg-team/pytorch_geometric.git   --quiet"
      ]
    },
    {
      "cell_type": "code",
      "source": [
        "import torch\n",
        "import torch.nn.functional as F\n",
        "from torch.nn import Parameter as Param\n",
        "from torch.nn import Parameter, Module\n",
        "from torch.nn import Sequential, Linear, ReLU\n",
        "from torch.optim import Optimizer\n",
        "from torch import Tensor\n",
        "from torch import nn\n",
        "from torch.optim.sgd import SGD\n",
        "import torch_geometric\n",
        "import torch_geometric.transforms as T\n",
        "from torch_geometric.data import Data\n",
        "from torch_geometric.datasets import Planetoid\n",
        "from torch_geometric.nn import GCNConv,ChebConv\n",
        "from torch_geometric.utils import get_laplacian\n",
        "from torch_geometric.utils import to_scipy_sparse_matrix\n",
        "from torch_geometric.nn import GatedGraphConv\n",
        "from torch_geometric.nn import MessagePassing, SAGEConv, GINConv, global_add_pool\n",
        "from torch_geometric.nn.inits import uniform\n",
        "from torch.optim.adam import Adam\n",
        "\n",
        "import os.path as osp\n",
        "\n",
        "\n",
        "from typing import Callable, List, Optional, Tuple\n",
        "from typing_extensions import Literal, TypedDict\n",
        "\n",
        "import matplotlib.pyplot as plt\n",
        "import numpy as np\n",
        "import pandas as pd\n",
        "from sklearn.model_selection import KFold\n",
        "from sklearn import metrics\n",
        "from sklearn.metrics import accuracy_score\n",
        "from tqdm.notebook import trange, tqdm\n",
        "import copy\n",
        "import random\n",
        "import time\n",
        "import  math\n",
        "import itertools\n",
        "from functools import reduce\n",
        "import operator\n",
        "import torch.utils.data as data_utils\n",
        "from sklearn.metrics import classification_report\n",
        "from sklearn.metrics import confusion_matrix\n",
        "import matplotlib.pyplot as plt\n",
        "from sklearn.metrics import multilabel_confusion_matrix\n",
        "from torch.utils.data import Subset\n",
        "from plotnine import ggplot, geom_line, aes, xlab, theme, element_blank, ggtitle\n",
        "from collections import OrderedDict\n",
        "from typing_extensions import Literal, TypedDict\n",
        "from torch_sparse import SparseTensor\n",
        "from torch_scatter import gather_csr, scatter, segment_csr\n",
        "\n",
        "import inspect\n",
        "\n",
        "from torch.utils.data import DataLoader\n",
        "\n",
        "device = torch.device('cuda' if torch.cuda.is_available()  else 'cpu')"
      ],
      "metadata": {
        "id": "W779vGp9kX7l"
      },
      "execution_count": 8,
      "outputs": []
    },
    {
      "cell_type": "markdown",
      "source": [
        "#Dataset Imports "
      ],
      "metadata": {
        "id": "ovE4yi9gkmUt"
      }
    },
    {
      "cell_type": "code",
      "source": [
        "dataset=list(range(3))\n",
        "i=0\n",
        "for dataset_name in ['Cora','CiteSeer','PubMed']:\n",
        "    dataset[i] = Planetoid('/tmp/dataset_name', name=dataset_name,transform=T.NormalizeFeatures())\n",
        "    num_nodes = dataset[i].data.num_nodes\n",
        "    num_edges = dataset[i].data.num_edges // 2\n",
        "    train_len = dataset[i][0].train_mask.sum()\n",
        "    val_len = dataset[i][0].val_mask.sum()\n",
        "    test_len = dataset[i][0].test_mask.sum()\n",
        "    other_len = num_nodes - train_len - val_len - test_len\n",
        "    print(f\"Dataset: {dataset[i].name}\")\n",
        "    print(f\"Num. nodes: {num_nodes} (train={train_len}, val={val_len}, test={test_len}, other={other_len})\")\n",
        "    print(f\"Num. edges: {num_edges}\")\n",
        "    print(f\"Num. node features: {dataset[i].num_node_features}\")\n",
        "    print(f\"Num. classes: {dataset[i].num_classes}\")\n",
        "    print(f\"Dataset len.: {dataset[i].len()}\")\n",
        "    i=i+1\n",
        "    print(\" \")"
      ],
      "metadata": {
        "colab": {
          "base_uri": "https://localhost:8080/"
        },
        "id": "q5597Zz5kYKj",
        "outputId": "e25edeb2-4911-4e23-af4b-a464cb2c5e6a"
      },
      "execution_count": 12,
      "outputs": [
        {
          "output_type": "stream",
          "name": "stdout",
          "text": [
            "Dataset: Cora\n",
            "Num. nodes: 2708 (train=140, val=500, test=1000, other=1068)\n",
            "Num. edges: 5278\n",
            "Num. node features: 1433\n",
            "Num. classes: 7\n",
            "Dataset len.: 1\n",
            " \n",
            "Dataset: CiteSeer\n",
            "Num. nodes: 3327 (train=120, val=500, test=1000, other=1707)\n",
            "Num. edges: 4552\n",
            "Num. node features: 3703\n",
            "Num. classes: 6\n",
            "Dataset len.: 1\n",
            " \n",
            "Dataset: PubMed\n",
            "Num. nodes: 19717 (train=60, val=500, test=1000, other=18157)\n",
            "Num. edges: 44324\n",
            "Num. node features: 500\n",
            "Num. classes: 3\n",
            "Dataset len.: 1\n",
            " \n"
          ]
        }
      ]
    },
    {
      "cell_type": "code",
      "source": [
        "dir(MessagePassing)"
      ],
      "metadata": {
        "colab": {
          "base_uri": "https://localhost:8080/"
        },
        "id": "EH-kkZjAk10r",
        "outputId": "6eadde82-270a-4a53-de30-ead1848fef32"
      },
      "execution_count": 5,
      "outputs": [
        {
          "output_type": "execute_result",
          "data": {
            "text/plain": [
              "['T_destination',\n",
              " '__annotations__',\n",
              " '__call__',\n",
              " '__check_input__',\n",
              " '__class__',\n",
              " '__collect__',\n",
              " '__delattr__',\n",
              " '__dict__',\n",
              " '__dir__',\n",
              " '__doc__',\n",
              " '__eq__',\n",
              " '__format__',\n",
              " '__ge__',\n",
              " '__getattr__',\n",
              " '__getattribute__',\n",
              " '__gt__',\n",
              " '__hash__',\n",
              " '__init__',\n",
              " '__init_subclass__',\n",
              " '__le__',\n",
              " '__lift__',\n",
              " '__lt__',\n",
              " '__module__',\n",
              " '__ne__',\n",
              " '__new__',\n",
              " '__reduce__',\n",
              " '__reduce_ex__',\n",
              " '__repr__',\n",
              " '__set_size__',\n",
              " '__setattr__',\n",
              " '__setstate__',\n",
              " '__sizeof__',\n",
              " '__str__',\n",
              " '__subclasshook__',\n",
              " '__weakref__',\n",
              " '_apply',\n",
              " '_call_impl',\n",
              " '_get_backward_hooks',\n",
              " '_get_name',\n",
              " '_load_from_state_dict',\n",
              " '_maybe_warn_non_full_backward_hook',\n",
              " '_named_members',\n",
              " '_register_load_state_dict_pre_hook',\n",
              " '_register_state_dict_hook',\n",
              " '_replicate_for_data_parallel',\n",
              " '_save_to_state_dict',\n",
              " '_slow_forward',\n",
              " '_version',\n",
              " 'add_module',\n",
              " 'aggregate',\n",
              " 'apply',\n",
              " 'bfloat16',\n",
              " 'buffers',\n",
              " 'children',\n",
              " 'cpu',\n",
              " 'cuda',\n",
              " 'double',\n",
              " 'dump_patches',\n",
              " 'edge_update',\n",
              " 'edge_updater',\n",
              " 'eval',\n",
              " 'explain',\n",
              " 'explain_message',\n",
              " 'extra_repr',\n",
              " 'float',\n",
              " 'forward',\n",
              " 'get_buffer',\n",
              " 'get_extra_state',\n",
              " 'get_parameter',\n",
              " 'get_submodule',\n",
              " 'half',\n",
              " 'ipu',\n",
              " 'jittable',\n",
              " 'load_state_dict',\n",
              " 'message',\n",
              " 'message_and_aggregate',\n",
              " 'modules',\n",
              " 'named_buffers',\n",
              " 'named_children',\n",
              " 'named_modules',\n",
              " 'named_parameters',\n",
              " 'parameters',\n",
              " 'propagate',\n",
              " 'register_aggregate_forward_hook',\n",
              " 'register_aggregate_forward_pre_hook',\n",
              " 'register_backward_hook',\n",
              " 'register_buffer',\n",
              " 'register_edge_update_forward_hook',\n",
              " 'register_edge_update_forward_pre_hook',\n",
              " 'register_forward_hook',\n",
              " 'register_forward_pre_hook',\n",
              " 'register_full_backward_hook',\n",
              " 'register_load_state_dict_post_hook',\n",
              " 'register_message_and_aggregate_forward_hook',\n",
              " 'register_message_and_aggregate_forward_pre_hook',\n",
              " 'register_message_forward_hook',\n",
              " 'register_message_forward_pre_hook',\n",
              " 'register_module',\n",
              " 'register_parameter',\n",
              " 'register_propagate_forward_hook',\n",
              " 'register_propagate_forward_pre_hook',\n",
              " 'requires_grad_',\n",
              " 'set_extra_state',\n",
              " 'share_memory',\n",
              " 'special_args',\n",
              " 'state_dict',\n",
              " 'to',\n",
              " 'to_empty',\n",
              " 'train',\n",
              " 'type',\n",
              " 'update',\n",
              " 'xpu',\n",
              " 'zero_grad']"
            ]
          },
          "metadata": {},
          "execution_count": 5
        }
      ]
    },
    {
      "cell_type": "markdown",
      "source": [
        "#The model "
      ],
      "metadata": {
        "id": "Qvp-pNhYkuBE"
      }
    },
    {
      "cell_type": "code",
      "source": [
        "class GINNet(torch.nn.Module):\n",
        "    def __init__(self,num_node_features, num_classes):\n",
        "       \n",
        "        super(GINNet, self).__init__()\n",
        "\n",
        "        num_features = num_node_features\n",
        "        num_classes=num_classes\n",
        "        dim = 32\n",
        "\n",
        "        nn1 = Sequential(Linear(num_features, dim), ReLU(), Linear(dim, dim))\n",
        "        self.conv1 = GINConv(nn1)\n",
        "        self.bn1 = torch.nn.BatchNorm1d(dim)\n",
        "\n",
        "        nn2 = Sequential(Linear(dim, dim), ReLU(), Linear(dim, dim))\n",
        "        self.conv2 = GINConv(nn2)\n",
        "        self.bn2 = torch.nn.BatchNorm1d(dim)\n",
        "\n",
        "        nn3 = Sequential(Linear(dim, dim), ReLU(), Linear(dim, dim))\n",
        "        self.conv3 = GINConv(nn3)\n",
        "        self.bn3 = torch.nn.BatchNorm1d(dim)\n",
        "\n",
        "        nn4 = Sequential(Linear(dim, dim), ReLU(), Linear(dim, dim))\n",
        "        self.conv4 = GINConv(nn4)\n",
        "        self.bn4 = torch.nn.BatchNorm1d(dim)\n",
        "\n",
        "        nn5 = Sequential(Linear(dim, dim), ReLU(), Linear(dim, dim))\n",
        "        self.conv5 = GINConv(nn5)\n",
        "        self.bn5 = torch.nn.BatchNorm1d(dim)\n",
        "\n",
        "        self.fc1 = Linear(dim, dim)\n",
        "        self.fc2 = Linear(dim,num_classes)\n",
        "\n",
        "    def forward(self, x, edge_index, batch=None):\n",
        "        x = F.relu(self.conv1(x, edge_index))\n",
        "        x = self.bn1(x)\n",
        "        x = F.relu(self.conv2(x, edge_index))\n",
        "        x = self.bn2(x)\n",
        "        x = F.relu(self.conv3(x, edge_index))\n",
        "        x = self.bn3(x)\n",
        "        x = F.relu(self.conv4(x, edge_index))\n",
        "        x = self.bn4(x)\n",
        "        x = F.relu(self.conv5(x, edge_index))\n",
        "        x = self.bn5(x)\n",
        "        #x = global_add_pool(x, batch=0)\n",
        "        x = F.relu(self.fc1(x))\n",
        "        x = F.dropout(x, p=0.5, training=self.training)\n",
        "        x = self.fc2(x)\n",
        "        return F.log_softmax(x, dim=-1)"
      ],
      "metadata": {
        "id": "gbqajDrLkYNT"
      },
      "execution_count": 90,
      "outputs": []
    },
    {
      "cell_type": "code",
      "source": [
        "model=GINNet(dataset[0].num_node_features, dataset[0].num_classes).to(device)\n",
        "print(GINNet(dataset[0].num_node_features, dataset[0].num_classes))\n",
        "print(GINNet(dataset[1].num_node_features, dataset[1].num_classes))\n",
        "print(GINNet(dataset[2].num_node_features, dataset[2].num_classes))"
      ],
      "metadata": {
        "colab": {
          "base_uri": "https://localhost:8080/"
        },
        "id": "EjxZzWi2kYQC",
        "outputId": "c1f2b691-1355-49a8-abec-3d3bc8f07c1f"
      },
      "execution_count": 62,
      "outputs": [
        {
          "output_type": "stream",
          "name": "stdout",
          "text": [
            "GINNet(\n",
            "  (conv1): GINConv(nn=Sequential(\n",
            "    (0): Linear(in_features=1433, out_features=32, bias=True)\n",
            "    (1): ReLU()\n",
            "    (2): Linear(in_features=32, out_features=32, bias=True)\n",
            "  ))\n",
            "  (bn1): BatchNorm1d(32, eps=1e-05, momentum=0.1, affine=True, track_running_stats=True)\n",
            "  (conv2): GINConv(nn=Sequential(\n",
            "    (0): Linear(in_features=32, out_features=32, bias=True)\n",
            "    (1): ReLU()\n",
            "    (2): Linear(in_features=32, out_features=32, bias=True)\n",
            "  ))\n",
            "  (bn2): BatchNorm1d(32, eps=1e-05, momentum=0.1, affine=True, track_running_stats=True)\n",
            "  (conv3): GINConv(nn=Sequential(\n",
            "    (0): Linear(in_features=32, out_features=32, bias=True)\n",
            "    (1): ReLU()\n",
            "    (2): Linear(in_features=32, out_features=32, bias=True)\n",
            "  ))\n",
            "  (bn3): BatchNorm1d(32, eps=1e-05, momentum=0.1, affine=True, track_running_stats=True)\n",
            "  (conv4): GINConv(nn=Sequential(\n",
            "    (0): Linear(in_features=32, out_features=32, bias=True)\n",
            "    (1): ReLU()\n",
            "    (2): Linear(in_features=32, out_features=32, bias=True)\n",
            "  ))\n",
            "  (bn4): BatchNorm1d(32, eps=1e-05, momentum=0.1, affine=True, track_running_stats=True)\n",
            "  (conv5): GINConv(nn=Sequential(\n",
            "    (0): Linear(in_features=32, out_features=32, bias=True)\n",
            "    (1): ReLU()\n",
            "    (2): Linear(in_features=32, out_features=32, bias=True)\n",
            "  ))\n",
            "  (bn5): BatchNorm1d(32, eps=1e-05, momentum=0.1, affine=True, track_running_stats=True)\n",
            "  (fc1): Linear(in_features=32, out_features=32, bias=True)\n",
            "  (fc2): Linear(in_features=32, out_features=7, bias=True)\n",
            ")\n",
            "GINNet(\n",
            "  (conv1): GINConv(nn=Sequential(\n",
            "    (0): Linear(in_features=3703, out_features=32, bias=True)\n",
            "    (1): ReLU()\n",
            "    (2): Linear(in_features=32, out_features=32, bias=True)\n",
            "  ))\n",
            "  (bn1): BatchNorm1d(32, eps=1e-05, momentum=0.1, affine=True, track_running_stats=True)\n",
            "  (conv2): GINConv(nn=Sequential(\n",
            "    (0): Linear(in_features=32, out_features=32, bias=True)\n",
            "    (1): ReLU()\n",
            "    (2): Linear(in_features=32, out_features=32, bias=True)\n",
            "  ))\n",
            "  (bn2): BatchNorm1d(32, eps=1e-05, momentum=0.1, affine=True, track_running_stats=True)\n",
            "  (conv3): GINConv(nn=Sequential(\n",
            "    (0): Linear(in_features=32, out_features=32, bias=True)\n",
            "    (1): ReLU()\n",
            "    (2): Linear(in_features=32, out_features=32, bias=True)\n",
            "  ))\n",
            "  (bn3): BatchNorm1d(32, eps=1e-05, momentum=0.1, affine=True, track_running_stats=True)\n",
            "  (conv4): GINConv(nn=Sequential(\n",
            "    (0): Linear(in_features=32, out_features=32, bias=True)\n",
            "    (1): ReLU()\n",
            "    (2): Linear(in_features=32, out_features=32, bias=True)\n",
            "  ))\n",
            "  (bn4): BatchNorm1d(32, eps=1e-05, momentum=0.1, affine=True, track_running_stats=True)\n",
            "  (conv5): GINConv(nn=Sequential(\n",
            "    (0): Linear(in_features=32, out_features=32, bias=True)\n",
            "    (1): ReLU()\n",
            "    (2): Linear(in_features=32, out_features=32, bias=True)\n",
            "  ))\n",
            "  (bn5): BatchNorm1d(32, eps=1e-05, momentum=0.1, affine=True, track_running_stats=True)\n",
            "  (fc1): Linear(in_features=32, out_features=32, bias=True)\n",
            "  (fc2): Linear(in_features=32, out_features=6, bias=True)\n",
            ")\n",
            "GINNet(\n",
            "  (conv1): GINConv(nn=Sequential(\n",
            "    (0): Linear(in_features=500, out_features=32, bias=True)\n",
            "    (1): ReLU()\n",
            "    (2): Linear(in_features=32, out_features=32, bias=True)\n",
            "  ))\n",
            "  (bn1): BatchNorm1d(32, eps=1e-05, momentum=0.1, affine=True, track_running_stats=True)\n",
            "  (conv2): GINConv(nn=Sequential(\n",
            "    (0): Linear(in_features=32, out_features=32, bias=True)\n",
            "    (1): ReLU()\n",
            "    (2): Linear(in_features=32, out_features=32, bias=True)\n",
            "  ))\n",
            "  (bn2): BatchNorm1d(32, eps=1e-05, momentum=0.1, affine=True, track_running_stats=True)\n",
            "  (conv3): GINConv(nn=Sequential(\n",
            "    (0): Linear(in_features=32, out_features=32, bias=True)\n",
            "    (1): ReLU()\n",
            "    (2): Linear(in_features=32, out_features=32, bias=True)\n",
            "  ))\n",
            "  (bn3): BatchNorm1d(32, eps=1e-05, momentum=0.1, affine=True, track_running_stats=True)\n",
            "  (conv4): GINConv(nn=Sequential(\n",
            "    (0): Linear(in_features=32, out_features=32, bias=True)\n",
            "    (1): ReLU()\n",
            "    (2): Linear(in_features=32, out_features=32, bias=True)\n",
            "  ))\n",
            "  (bn4): BatchNorm1d(32, eps=1e-05, momentum=0.1, affine=True, track_running_stats=True)\n",
            "  (conv5): GINConv(nn=Sequential(\n",
            "    (0): Linear(in_features=32, out_features=32, bias=True)\n",
            "    (1): ReLU()\n",
            "    (2): Linear(in_features=32, out_features=32, bias=True)\n",
            "  ))\n",
            "  (bn5): BatchNorm1d(32, eps=1e-05, momentum=0.1, affine=True, track_running_stats=True)\n",
            "  (fc1): Linear(in_features=32, out_features=32, bias=True)\n",
            "  (fc2): Linear(in_features=32, out_features=3, bias=True)\n",
            ")\n"
          ]
        }
      ]
    },
    {
      "cell_type": "code",
      "source": [
        "LossFn= Callable[[Tensor, Tensor], Tensor]\n",
        "def train_step(model, data, optimizer, loss_fn):\n",
        "    model.train()\n",
        "    optimizer.zero_grad()\n",
        "    mask=data.train_mask\n",
        "    logits=model(data.x, data.edge_index,data.batch)[mask]\n",
        "    preds=logits.argmax(dim=1)\n",
        "    loss=loss_fn(logits, data.y[mask])\n",
        "    acc=accuracy_score(preds,  data.y[mask])\n",
        "    loss.backward()\n",
        "    optimizer.step()\n",
        "    return loss.item(), acc\n",
        "\n",
        "def eval_step(model, data, loss_fn):\n",
        "    model.eval()\n",
        "    logits, accs,losses = model(data.x, data.edge_index,data.batch), [],[]\n",
        "    for _, mask in data('train_mask', 'val_mask', 'test_mask'):\n",
        "        pred = logits[mask].max(1)[1]\n",
        "        acc = pred.eq(data.y[mask]).sum().item() / mask.sum().item()\n",
        "        accs.append(acc)\n",
        "        loss=loss_fn(logits[mask], data.y[mask])\n",
        "        losses.append(loss.item())\n",
        "    return losses, accs"
      ],
      "metadata": {
        "id": "zV3JHoyisGGI"
      },
      "execution_count": 85,
      "outputs": []
    },
    {
      "cell_type": "code",
      "source": [
        "class HistoryDict(TypedDict):\n",
        "    loss: List[float]\n",
        "    acc: List[float]\n",
        "    val_loss: List[float]\n",
        "    val_acc: List[float]\n",
        "\n",
        "def train(\n",
        "    model: torch.nn.Module,\n",
        "    data: Data,\n",
        "    optimizer: torch.optim.Optimizer,\n",
        "    loss_fn: LossFn = torch.nn.CrossEntropyLoss(),\n",
        "    max_epochs: int = 200,\n",
        "    early_stopping: int = 10,\n",
        "    print_interval: int = 20,\n",
        "    verbose: bool = False,\n",
        ") -> HistoryDict:\n",
        "    history = {\"loss\": [], \"val_loss\": [], \"acc\": [], \"val_acc\": [],\"test_acc\":[],\"test_loss\":[]}\n",
        "    for epoch in range(max_epochs):\n",
        "        train_step(model, data, optimizer, loss_fn)\n",
        "        loss, acc = eval_step(model, data, loss_fn)\n",
        "        history[\"loss\"].append(loss[0])\n",
        "        history[\"acc\"].append(acc[0])\n",
        "        history[\"val_loss\"].append(loss[1])\n",
        "        history[\"val_acc\"].append(acc[1])\n",
        "        history[\"test_loss\"].append(loss[2])\n",
        "        history[\"test_acc\"].append(acc[2])\n",
        "        # The official implementation in TensorFlow is a little different from what is described in the paper...\n",
        "        if epoch > early_stopping and loss[1] > np.mean(history[\"val_loss\"][-(early_stopping + 1) : -1]):\n",
        "            if verbose:\n",
        "                print(\"\\nEarly stopping...\")\n",
        "\n",
        "            break\n",
        "\n",
        "        if verbose and print_interval:\n",
        "            print('Epoch: {:03d}, Train Acc: {:.5f}, '\n",
        "          'Val Acc: {:.5f}, Test Acc: {:.5f}'.format(epoch, acc[0],\n",
        "                                                       acc[1], acc[2]))\n",
        "\n",
        "\n",
        "    \n",
        "    return history\n",
        "def plot_history(history: HistoryDict, title: str, font_size: Optional[int] = 14) -> None:\n",
        "    plt.suptitle(title, fontsize=font_size)\n",
        "    ax1 = plt.subplot(121)\n",
        "    ax1.set_title(\"Loss\")\n",
        "    ax1.plot(history[\"loss\"], label=\"train\")\n",
        "    ax1.plot(history[\"val_loss\"], label=\"val\")\n",
        "    plt.xlabel(\"Epoch\")\n",
        "    ax1.legend()\n",
        "\n",
        "    ax2 = plt.subplot(122)\n",
        "    ax2.set_title(\"Accuracy\")\n",
        "    ax2.plot(history[\"acc\"], label=\"train\")\n",
        "    ax2.plot(history[\"val_acc\"], label=\"val\")\n",
        "    plt.xlabel(\"Epoch\")\n",
        "    ax2.legend()\n"
      ],
      "metadata": {
        "id": "0Hoa5oJktdNJ"
      },
      "execution_count": 82,
      "outputs": []
    },
    {
      "cell_type": "code",
      "source": [
        "SEED = 42\n",
        "MAX_EPOCHS = 200\n",
        "LEARNING_RATE = 0.01\n",
        "WEIGHT_DECAY = 5e-4\n",
        "EARLY_STOPPING = 10\n",
        "\n",
        "torch.manual_seed(SEED)\n",
        "device = torch.device(\"cuda\" if torch.cuda.is_available() else \"cpu\")\n",
        "\n",
        "model = GINNet(dataset[0].num_node_features, dataset[0].num_classes)\n",
        "data = dataset[0][0].to(device)\n",
        "optimizer = torch.optim.Adam(model.parameters(), lr=LEARNING_RATE, weight_decay=WEIGHT_DECAY)\n",
        "history = train(model, data, optimizer, max_epochs=MAX_EPOCHS, early_stopping=EARLY_STOPPING)\n",
        "\n",
        "model2 = GINNet(dataset[1].num_node_features, dataset[1].num_classes).to(device)\n",
        "data2 = dataset[1][0].to(device)\n",
        "optimizer = torch.optim.Adam(model2.parameters(), lr=LEARNING_RATE, weight_decay=WEIGHT_DECAY)\n",
        "history2 = train(model2, data2, optimizer, max_epochs=MAX_EPOCHS, early_stopping=EARLY_STOPPING)\n",
        "\n",
        "model3 = GINNet(dataset[2].num_node_features, dataset[2].num_classes).to(device)\n",
        "data3 = dataset[2][0].to(device)\n",
        "optimizer = torch.optim.Adam(model3.parameters(), lr=LEARNING_RATE, weight_decay=WEIGHT_DECAY)\n",
        "history3= train(model3, data3, optimizer, max_epochs=MAX_EPOCHS, early_stopping=EARLY_STOPPING)"
      ],
      "metadata": {
        "id": "GksGeerKs4VJ"
      },
      "execution_count": 95,
      "outputs": []
    },
    {
      "cell_type": "code",
      "source": [
        "plt.figure(figsize=(12, 4))\n",
        "plot_history(history, \"Cora-GIN\")\n"
      ],
      "metadata": {
        "colab": {
          "base_uri": "https://localhost:8080/",
          "height": 308
        },
        "id": "gmT1B0G8s4a4",
        "outputId": "04201c19-b07c-4e96-b508-9a25fc87af42"
      },
      "execution_count": 97,
      "outputs": [
        {
          "output_type": "display_data",
          "data": {
            "text/plain": [
              "<Figure size 864x288 with 2 Axes>"
            ],
            "image/png": "[encoded data removed]"
          },
          "metadata": {
            "needs_background": "light"
          }
        }
      ]
    },
    {
      "cell_type": "code",
      "source": [
        "plt.figure(figsize=(12, 4))\n",
        "plot_history(history2, \"CiteSeer-GIN \")"
      ],
      "metadata": {
        "colab": {
          "base_uri": "https://localhost:8080/",
          "height": 308
        },
        "id": "7TE4Kgg0s4eA",
        "outputId": "a8f7e2fb-1753-45cb-e2ed-b24aeefad23e"
      },
      "execution_count": 98,
      "outputs": [
        {
          "output_type": "display_data",
          "data": {
            "text/plain": [
              "<Figure size 864x288 with 2 Axes>"
            ],
            "image/png": "[encoded data removed]"
          },
          "metadata": {
            "needs_background": "light"
          }
        }
      ]
    },
    {
      "cell_type": "code",
      "source": [
        "plt.figure(figsize=(12, 4))\n",
        "plot_history(history3, \"PubMed-GIN\")"
      ],
      "metadata": {
        "colab": {
          "base_uri": "https://localhost:8080/",
          "height": 308
        },
        "id": "jxaS03GSs4jh",
        "outputId": "c1ce3f61-53b3-488d-bc0c-7072d464c825"
      },
      "execution_count": 99,
      "outputs": [
        {
          "output_type": "display_data",
          "data": {
            "text/plain": [
              "<Figure size 864x288 with 2 Axes>"
            ],
            "image/png": "[encoded data removed]"
          },
          "metadata": {
            "needs_background": "light"
          }
        }
      ]
    },
    {
      "cell_type": "code",
      "source": [],
      "metadata": {
        "id": "I3Sr1Y8Bs4rw"
      },
      "execution_count": null,
      "outputs": []
    },
    {
      "cell_type": "code",
      "source": [],
      "metadata": {
        "id": "OiUEqws6s4wI"
      },
      "execution_count": null,
      "outputs": []
    }
  ]
}