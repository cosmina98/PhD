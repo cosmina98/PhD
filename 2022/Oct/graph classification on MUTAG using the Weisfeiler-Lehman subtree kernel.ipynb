{
  "nbformat": 4,
  "nbformat_minor": 0,
  "metadata": {
    "colab": {
      "provenance": [],
      "collapsed_sections": [],
      "authorship_tag": "ABX9TyO9QryC1h5ijSzJWWrSBav7",
      "include_colab_link": true
    },
    "kernelspec": {
      "name": "python3",
      "display_name": "Python 3"
    },
    "language_info": {
      "name": "python"
    }
  },
  "cells": [
    {
      "cell_type": "markdown",
      "metadata": {
        "id": "view-in-github",
        "colab_type": "text"
      },
      "source": [
        "<a href=\"https://colab.research.google.com/github/cosmina98/PhD/blob/main/2022/Oct/graph%20classification%20on%20MUTAG%20using%20the%20Weisfeiler-Lehman%20subtree%20kernel.ipynb\" target=\"_parent\"><img src=\"https://colab.research.google.com/assets/colab-badge.svg\" alt=\"Open In Colab\"/></a>"
      ]
    },
    {
      "cell_type": "code",
      "execution_count": 44,
      "metadata": {
        "id": "vR0ze7t6C7mv",
        "colab": {
          "base_uri": "https://localhost:8080/"
        },
        "outputId": "a1386695-8c54-4290-da28-589437c82ce3"
      },
      "outputs": [
        {
          "output_type": "stream",
          "name": "stdout",
          "text": [
            "\u001b[K     |████████████████████████████████| 4.9 MB 2.1 MB/s \n",
            "\u001b[K     |████████████████████████████████| 281 kB 40.1 MB/s \n",
            "\u001b[?25h"
          ]
        }
      ],
      "source": [
        "!pip install grakel --quiet\n",
        "!pip install dgl --quiet"
      ]
    },
    {
      "cell_type": "code",
      "source": [],
      "metadata": {
        "id": "sv7Z6aSLXBVD"
      },
      "execution_count": null,
      "outputs": []
    },
    {
      "cell_type": "markdown",
      "source": [
        "# Using Grakel library"
      ],
      "metadata": {
        "id": "WfdGqFERrlpe"
      }
    },
    {
      "cell_type": "code",
      "source": [
        "from grakel import GraphKernel\n",
        "from grakel import Graph\n",
        "from grakel.kernels import WeisfeilerLehman, VertexHistogram\n",
        "from grakel import RandomWalk,RandomWalkLabeled\n",
        "import numpy as np\n",
        "import networkx as nx\n",
        "from sklearn.model_selection import train_test_split\n",
        "from sklearn.svm import SVC\n",
        "from sklearn.metrics import accuracy_score\n",
        "\n",
        "from grakel.datasets import fetch_dataset\n",
        "from grakel.kernels import WeisfeilerLehman, VertexHistogram"
      ],
      "metadata": {
        "id": "iYzpRp48VEYS"
      },
      "execution_count": 60,
      "outputs": []
    },
    {
      "cell_type": "code",
      "source": [
        "#188 mutagenic aromatic and heteroaromatic nitro compounds, \n",
        "#and the task is to predict whether or not each chemical compound has mutagenic effect \n",
        "#on the Gram-negative bacterium Salmonella typhimurium.\n",
        "MUTAG = fetch_dataset(\"MUTAG\", verbose=False)\n",
        "G, y = MUTAG.data, MUTAG.target"
      ],
      "metadata": {
        "id": "Ww9QTCh7NjXp"
      },
      "execution_count": 61,
      "outputs": []
    },
    {
      "cell_type": "code",
      "source": [
        "G_train, G_test, y_train, y_test = train_test_split(G, y, test_size=0.1, random_state=42)\n"
      ],
      "metadata": {
        "id": "C8GlFE3VHPNG"
      },
      "execution_count": 62,
      "outputs": []
    },
    {
      "cell_type": "code",
      "source": [
        "gk = WeisfeilerLehman(n_iter=4, base_graph_kernel=VertexHistogram, normalize=True)\n",
        "K_train = gk.fit_transform(G_train)\n",
        "K_test = gk.transform(G_test)\n",
        "\n",
        "# Uses the SVM classifier to perform classification\n",
        "clf = SVC(kernel=\"precomputed\")\n",
        "clf.fit(K_train, y_train)\n",
        "y_pred = clf.predict(K_test)\n",
        "\n",
        "# Computes and prints the classification accuracy\n",
        "acc = accuracy_score(y_test, y_pred)\n",
        "print(\"Accuracy:\", str(round(acc*100, 2)) + \"%\")"
      ],
      "metadata": {
        "colab": {
          "base_uri": "https://localhost:8080/"
        },
        "id": "qdqKNTjx1ZUH",
        "outputId": "d7ce1a9a-69bf-4b80-8dfc-18b6db2f45f9"
      },
      "execution_count": 63,
      "outputs": [
        {
          "output_type": "stream",
          "name": "stdout",
          "text": [
            "Accuracy: 89.47%\n"
          ]
        }
      ]
    },
    {
      "cell_type": "markdown",
      "source": [
        "fit_transform\n",
        "\n",
        "1) fit \n",
        ": calls: self initialise and parse_input\n",
        "2)calculate kernel matrix\n",
        "3) get the diagonal\n",
        "4) normalise if normalisation required \n"
      ],
      "metadata": {
        "id": "w0cKvP_l9_zP"
      }
    },
    {
      "cell_type": "markdown",
      "source": [
        "## Kernel between 2  molecules graphs "
      ],
      "metadata": {
        "id": "s4wVpqWsWKpB"
      }
    },
    {
      "cell_type": "code",
      "source": [
        "H2O_adjacency = [[0, 1, 1], [1, 0, 0], [1, 0, 0]]\n",
        "H2O_node_labels = {0: 'O', 1: 'H', 2: 'H'}\n",
        "H2O = Graph(initialization_object=H2O_adjacency, node_labels=H2O_node_labels)\n",
        "H3O_adjacency = [[0, 1, 1, 1], [1, 0, 0, 0], [1, 0, 0, 0], [1, 0, 0, 0]]\n",
        "H3O_node_labels = {0: 'O', 1: 'H', 2: 'H', 3:'H'}\n",
        "H3O = Graph(initialization_object=H3O_adjacency, node_labels=H3O_node_labels)"
      ],
      "metadata": {
        "id": "VHo5LM1JWI9T"
      },
      "execution_count": 27,
      "outputs": []
    },
    {
      "cell_type": "markdown",
      "source": [
        "The shortest path kernel which counts the number of shortest paths of equal length in two graphs "
      ],
      "metadata": {
        "id": "0RG27crRZKXb"
      }
    },
    {
      "cell_type": "code",
      "source": [
        "\n",
        "sp_kernel =  WeisfeilerLehman()\n",
        "#compute the graph representtaion between water and itself\n",
        "sp_kernel.fit_transform([H2O])\n",
        "#compute the kernel value between the graoh representation of water and hydronium\n",
        "sp_kernel.transform([H3O])"
      ],
      "metadata": {
        "id": "U52gAq7kWJBp",
        "colab": {
          "base_uri": "https://localhost:8080/"
        },
        "outputId": "8387355b-cc73-47bc-efca-e095ce755682"
      },
      "execution_count": 37,
      "outputs": [
        {
          "output_type": "execute_result",
          "data": {
            "text/plain": [
              "array([[13.]])"
            ]
          },
          "metadata": {},
          "execution_count": 37
        }
      ]
    },
    {
      "cell_type": "markdown",
      "source": [
        "## Apply normalisation"
      ],
      "metadata": {
        "id": "J03teVokZpm1"
      }
    },
    {
      "cell_type": "code",
      "source": [
        "sp_kernel =  WeisfeilerLehman(normalize=True )\n",
        "#compute the graph representtaion between water and itself\n",
        "sp_kernel.fit_transform([H2O])\n",
        "#compute the kernel value between the graoh representation of water and hydronium\n",
        "sp_kernel.transform([H3O])"
      ],
      "metadata": {
        "colab": {
          "base_uri": "https://localhost:8080/"
        },
        "id": "0Ep0u5H_X1xL",
        "outputId": "51b824d6-23d6-466e-a826-7a71ac18ef88"
      },
      "execution_count": 38,
      "outputs": [
        {
          "output_type": "execute_result",
          "data": {
            "text/plain": [
              "array([[0.30641294]])"
            ]
          },
          "metadata": {},
          "execution_count": 38
        }
      ]
    },
    {
      "cell_type": "markdown",
      "source": [
        "#Function to work with NX graphs inspired by Grakel"
      ],
      "metadata": {
        "id": "PtnZZiaQ3Ooo"
      }
    },
    {
      "cell_type": "markdown",
      "source": [
        "![image.png](data:image/png;base64,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)"
      ],
      "metadata": {
        "id": "jsnr8ZbNz0xo"
      }
    },
    {
      "cell_type": "markdown",
      "source": [
        "https://www.jmlr.org/papers/volume12/shervashidze11a/shervashidze11a.pdf"
      ],
      "metadata": {
        "id": "MhYRS2MQ4eRx"
      }
    },
    {
      "cell_type": "code",
      "source": [
        "def compare(g_1, g_2, verbose=False,nodelist=None,kernel_type='geometric'):\n",
        "        \"\"\"Compute the kernel value (similarity) between two graphs.\n",
        "        Parameters\n",
        "        ----------\n",
        "        g1 : networkx.Graph\n",
        "            First graph.\n",
        "        g2 : networkx.Graph\n",
        "            Second graph.\n",
        "        Returns\n",
        "        -------\n",
        "        k : The similarity value between g1 and g2.\n",
        "        \"\"\"\n",
        "        # Diagonal superior matrix of the floyd warshall shortest\n",
        "        # paths:\n",
        "        A = nx.to_numpy_matrix(g_1,nodelist=nodelist, nonedge=0, multigraph_weight=min,weight='weight')\n",
        "        B= nx.to_numpy_matrix(g_2,nodelist=nodelist,nonedge=0, multigraph_weight=min,weight='weight')\n",
        "        n,m = A.shape\n",
        "        p,q=B.shape\n",
        "        XY = np.kron(A, B)\n",
        "        #print(XY.shape)\n",
        "        # XY is a square matrix\n",
        "        s = XY.shape[0]\n",
        "        lamda=0.1\n",
        "        if kernel_type=='geometric':\n",
        "           S = inv(np.identity(s) - lamda*XY).T\n",
        "        elif  kernel_type=='exponential': \n",
        "           S = expm(lamda*XY).T\n",
        "        return np.sum(S)\n",
        "\n",
        "\n"
      ],
      "metadata": {
        "id": "Vf5bEtPxWJGA"
      },
      "execution_count": 64,
      "outputs": []
    },
    {
      "cell_type": "code",
      "source": [
        "np.zeros((3, 2, 2))"
      ],
      "metadata": {
        "colab": {
          "base_uri": "https://localhost:8080/"
        },
        "id": "VnJ2z4cs9Tv_",
        "outputId": "06767ef5-c304-49cb-cb88-06f2de946cc4"
      },
      "execution_count": 65,
      "outputs": [
        {
          "output_type": "execute_result",
          "data": {
            "text/plain": [
              "array([[[0., 0.],\n",
              "        [0., 0.]],\n",
              "\n",
              "       [[0., 0.],\n",
              "        [0., 0.]],\n",
              "\n",
              "       [[0., 0.],\n",
              "        [0., 0.]]])"
            ]
          },
          "metadata": {},
          "execution_count": 65
        }
      ]
    },
    {
      "cell_type": "code",
      "source": [],
      "metadata": {
        "id": "36q8dfXq9Tx1"
      },
      "execution_count": null,
      "outputs": []
    },
    {
      "cell_type": "code",
      "source": [
        "x=dgl.DGLGraph(G1)\n",
        "np.zeros(x.number_of_nodes())"
      ],
      "metadata": {
        "id": "xYOZcP34lZFr",
        "outputId": "99ec48e7-4009-421b-c83d-ec4c0fff9745",
        "colab": {
          "base_uri": "https://localhost:8080/"
        }
      },
      "execution_count": 54,
      "outputs": [
        {
          "output_type": "stream",
          "name": "stderr",
          "text": [
            "/usr/local/lib/python3.7/dist-packages/dgl/heterograph.py:72: DGLWarning: Recommend creating graphs by `dgl.graph(data)` instead of `dgl.DGLGraph(data)`.\n",
            "  dgl_warning('Recommend creating graphs by `dgl.graph(data)`'\n"
          ]
        },
        {
          "output_type": "execute_result",
          "data": {
            "text/plain": [
              "array([0., 0., 0.])"
            ]
          },
          "metadata": {},
          "execution_count": 54
        }
      ]
    },
    {
      "cell_type": "code",
      "source": [
        "len(G1)"
      ],
      "metadata": {
        "id": "GivZnljilZPD",
        "outputId": "e6658a5b-f15c-4933-c20e-feafa08a816b",
        "colab": {
          "base_uri": "https://localhost:8080/"
        }
      },
      "execution_count": 58,
      "outputs": [
        {
          "output_type": "execute_result",
          "data": {
            "text/plain": [
              "3"
            ]
          },
          "metadata": {},
          "execution_count": 58
        }
      ]
    },
    {
      "cell_type": "markdown",
      "source": [
        "## Testing to see if we get a similar score using custom implementation "
      ],
      "metadata": {
        "id": "glvJamw93SMn"
      }
    },
    {
      "cell_type": "code",
      "source": [
        "from six import iteritems\n",
        "from six import itervalues"
      ],
      "metadata": {
        "id": "QhNKW5gADTrL"
      },
      "execution_count": 66,
      "outputs": []
    },
    {
      "cell_type": "code",
      "source": [],
      "metadata": {
        "id": "dVP5HuopDbts"
      },
      "execution_count": null,
      "outputs": []
    },
    {
      "cell_type": "code",
      "source": [],
      "metadata": {
        "id": "nhzObA26DbwT"
      },
      "execution_count": null,
      "outputs": []
    },
    {
      "cell_type": "code",
      "source": [
        "def get_nxgraph_from_adjanecy_matrix(adjacency_matrix):\n",
        "    rows, cols = np.where(adjacency_matrix == 1)\n",
        "    edges = zip(rows.tolist(), cols.tolist())\n",
        "    gr = nx.Graph()\n",
        "    all_rows = range(0, adjacency_matrix.shape[0])\n",
        "    for n in all_rows:\n",
        "        gr.add_node(n)\n",
        "    gr.add_edges_from(edges)\n",
        "    gr.add_edges_from(edges)\n",
        "    return gr\n"
      ],
      "metadata": {
        "id": "aWoBVcxX2npQ"
      },
      "execution_count": 35,
      "outputs": []
    },
    {
      "cell_type": "code",
      "source": [
        "G1=get_nxgraph_from_adjanecy_matrix(np.array(H2O_adjacency))\n",
        "G2=get_nxgraph_from_adjanecy_matrix(np.array(H3O_adjacency))\n"
      ],
      "metadata": {
        "id": "n9YEv-bm4PNi"
      },
      "execution_count": 49,
      "outputs": []
    },
    {
      "cell_type": "code",
      "source": [
        "A = nx.to_numpy_matrix(G1,nodelist=None, nonedge=0, multigraph_weight=min,weight='weight')\n",
        "B= nx.to_numpy_matrix(G2,nodelist=None,nonedge=0, multigraph_weight=min,weight='weight')\n",
        "A"
      ],
      "metadata": {
        "colab": {
          "base_uri": "https://localhost:8080/"
        },
        "id": "m5hHbwuD93AO",
        "outputId": "99d48c6b-b812-474d-a828-f2f20463f55e"
      },
      "execution_count": 40,
      "outputs": [
        {
          "output_type": "execute_result",
          "data": {
            "text/plain": [
              "matrix([[0., 1., 1.],\n",
              "        [1., 0., 0.],\n",
              "        [1., 0., 0.]])"
            ]
          },
          "metadata": {},
          "execution_count": 40
        }
      ]
    },
    {
      "cell_type": "code",
      "source": [],
      "metadata": {
        "id": "lmIUtccnEGE9",
        "outputId": "809c452d-18f4-425e-e460-37e6bcd088b1",
        "colab": {
          "base_uri": "https://localhost:8080/",
          "height": 135
        }
      },
      "execution_count": 70,
      "outputs": [
        {
          "output_type": "error",
          "ename": "IndentationError",
          "evalue": "ignored",
          "traceback": [
            "\u001b[0;36m  File \u001b[0;32m\"<tokenize>\"\u001b[0;36m, line \u001b[0;32m509\u001b[0m\n\u001b[0;31m    return object.transform(data)\u001b[0m\n\u001b[0m    ^\u001b[0m\n\u001b[0;31mIndentationError\u001b[0m\u001b[0;31m:\u001b[0m unindent does not match any outer indentation level\n"
          ]
        }
      ]
    },
    {
      "cell_type": "code",
      "source": [
        "\"\"\"The weisfeiler lehman kernel :cite:`shervashidze2011weisfeiler`.\"\"\"\n",
        "# Author: Ioannis Siglidis <y.siglidis@gmail.com>\n",
        "# License: BSD 3 clause\n",
        "import collections\n",
        "import warnings\n",
        "\n",
        "import numpy as np\n",
        "import joblib\n",
        "\n",
        "from sklearn.exceptions import NotFittedError\n",
        "from sklearn.utils.validation import check_is_fitted\n",
        "\n",
        "from grakel.graph import Graph\n",
        "from grakel.kernels import Kernel\n",
        "from grakel.kernels.vertex_histogram import VertexHistogram\n",
        "\n",
        "# Python 2/3 cross-compatibility import\n",
        "from six import iteritems\n",
        "from six import itervalues\n",
        "\n",
        "\n",
        "class WeisfeilerLehman(Kernel):\n",
        "    \"\"\"Compute the Weisfeiler Lehman Kernel.\n",
        "\n",
        "     See :cite:`shervashidze2011weisfeiler`.\n",
        "\n",
        "    Parameters\n",
        "    ----------\n",
        "    n_iter : int, default=5\n",
        "        The number of iterations.\n",
        "\n",
        "    base_graph_kernel : `grakel.kernels.Kernel` or tuple, default=None\n",
        "        If tuple it must consist of a valid kernel object and a\n",
        "        dictionary of parameters. General parameters concerning\n",
        "        normalization, concurrency, .. will be ignored, and the\n",
        "        ones of given on `__init__` will be passed in case it is needed.\n",
        "        Default `base_graph_kernel` is `VertexHistogram`.\n",
        "\n",
        "    Attributes\n",
        "    ----------\n",
        "    X : dict\n",
        "     Holds a dictionary of fitted subkernel modules for all levels.\n",
        "\n",
        "    _nx : number\n",
        "        Holds the number of inputs.\n",
        "\n",
        "    _n_iter : int\n",
        "        Holds the number, of iterations.\n",
        "\n",
        "    _base_graph_kernel : function\n",
        "        A void function that initializes a base kernel object.\n",
        "\n",
        "    _inv_labels : dict\n",
        "        An inverse dictionary, used for relabeling on each iteration.\n",
        "\n",
        "    \"\"\"\n",
        "\n",
        "    _graph_format = \"dictionary\"\n",
        "\n",
        "    def __init__(self, n_jobs=None, verbose=False,\n",
        "                 normalize=False, n_iter=5, base_graph_kernel=VertexHistogram):\n",
        "        \"\"\"Initialise a `weisfeiler_lehman` kernel.\"\"\"\n",
        "        super(WeisfeilerLehman, self).__init__(\n",
        "            n_jobs=n_jobs, verbose=verbose, normalize=normalize)\n",
        "\n",
        "        self.n_iter = n_iter\n",
        "        self.base_graph_kernel = base_graph_kernel\n",
        "        self._initialized.update({\"n_iter\": False, \"base_graph_kernel\": False})\n",
        "        self._base_graph_kernel = None\n",
        "\n",
        "\n",
        "    def initialize(self):\n",
        "        \"\"\"Initialize all transformer arguments, needing initialization.\"\"\"\n",
        "        super(WeisfeilerLehman, self).initialize()\n",
        "        if not self._initialized[\"base_graph_kernel\"]:\n",
        "            base_graph_kernel = self.base_graph_kernel\n",
        "            if base_graph_kernel is None:\n",
        "                base_graph_kernel, params = VertexHistogram, dict()\n",
        "            elif type(base_graph_kernel) is type and issubclass(base_graph_kernel, Kernel):\n",
        "                params = dict()\n",
        "            else:\n",
        "                try:\n",
        "                    base_graph_kernel, params = base_graph_kernel\n",
        "                except Exception:\n",
        "                    raise TypeError('Base kernel was not formulated in '\n",
        "                                    'the correct way. '\n",
        "                                    'Check documentation.')\n",
        "\n",
        "                if not (type(base_graph_kernel) is type and\n",
        "                        issubclass(base_graph_kernel, Kernel)):\n",
        "                    raise TypeError('The first argument must be a valid '\n",
        "                                    'grakel.kernel.kernel Object')\n",
        "                if type(params) is not dict:\n",
        "                    raise ValueError('If the second argument of base '\n",
        "                                     'kernel exists, it must be a diction'\n",
        "                                     'ary between parameters names and '\n",
        "                                     'values')\n",
        "                params.pop(\"normalize\", None)\n",
        "\n",
        "            params[\"normalize\"] = False\n",
        "            params[\"verbose\"] = self.verbose\n",
        "            params[\"n_jobs\"] = None\n",
        "            self._base_graph_kernel = base_graph_kernel\n",
        "            self._params = params\n",
        "            self._initialized[\"base_graph_kernel\"] = True\n",
        "\n",
        "        if not self._initialized[\"n_iter\"]:\n",
        "            if type(self.n_iter) is not int or self.n_iter <= 0:\n",
        "                raise TypeError(\"'n_iter' must be a positive integer\")\n",
        "            self._n_iter = self.n_iter + 1\n",
        "            self._initialized[\"n_iter\"] = True\n",
        "\n",
        "    def parse_input(self, X):\n",
        "            \"\"\"Parse input for weisfeiler lehman.\n",
        "\n",
        "            Parameters\n",
        "            ----------\n",
        "            X : iterable\n",
        "                For the input to pass the test, we must have:\n",
        "                Each element must be an iterable with at most three features and at\n",
        "                least one. The first that is obligatory is a valid graph structure\n",
        "                (adjacency matrix or edge_dictionary) while the second is\n",
        "                node_labels and the third edge_labels (that correspond to the given\n",
        "                graph format). A valid input also consists of graph type objects.\n",
        "\n",
        "            Returns\n",
        "            -------\n",
        "            base_graph_kernel : object\n",
        "            Returns base_graph_kernel.\n",
        "\n",
        "            \"\"\"\n",
        "            if self._method_calling not in [1, 2]:\n",
        "                raise ValueError('method call must be called either from fit ' +\n",
        "                                'or fit-transform')\n",
        "            elif hasattr(self, '_X_diag'):\n",
        "                # Clean _X_diag value\n",
        "                delattr(self, '_X_diag')\n",
        "\n",
        "            # Input validation and parsing\n",
        "            if not isinstance(X, collections.Iterable):\n",
        "                raise TypeError('input must be an iterable\\n')\n",
        "            else:\n",
        "                nx = 0\n",
        "                Gs_ed, L, distinct_values, extras = dict(), dict(), set(), dict()\n",
        "                for (idx, x) in enumerate(iter(X)):\n",
        "                    is_iter = isinstance(x, collections.Iterable)\n",
        "                    if is_iter:\n",
        "                        x = list(x)\n",
        "                    if is_iter and (len(x) == 0 or len(x) >= 2):\n",
        "                        if len(x) == 0:\n",
        "                            warnings.warn('Ignoring empty element on index: '\n",
        "                                          + str(idx))\n",
        "                            continue\n",
        "                        else:\n",
        "                            if len(x) > 2:\n",
        "                                extra = tuple()\n",
        "                                if len(x) > 3:\n",
        "                                    extra = tuple(x[3:])\n",
        "                                x = Graph(x[0], x[1], x[2], graph_format=self._graph_format)\n",
        "                                extra = (x.get_labels(purpose=self._graph_format,\n",
        "                                                      label_type=\"edge\", return_none=True), ) + extra\n",
        "                            else:\n",
        "                                x = Graph(x[0], x[1], {}, graph_format=self._graph_format)\n",
        "                                extra = tuple()\n",
        "\n",
        "                    elif type(x) is Graph:\n",
        "                        x.desired_format(self._graph_format)\n",
        "                        el = x.get_labels(purpose=self._graph_format, label_type=\"edge\", return_none=True)\n",
        "                        if el is None:\n",
        "                            extra = tuple()\n",
        "                        else:\n",
        "                            extra = (el, )\n",
        "\n",
        "                    else:\n",
        "                        raise TypeError('each element of X must be either a ' +\n",
        "                                        'graph object or a list with at least ' +\n",
        "                                        'a graph like object and node labels ' +\n",
        "                                        'dict \\n')\n",
        "                    Gs_ed[nx] = x.get_edge_dictionary()\n",
        "                    L[nx] = x.get_labels(purpose=\"dictionary\")\n",
        "                    extras[nx] = extra\n",
        "                    distinct_values |= set(itervalues(L[nx]))\n",
        "                    nx += 1\n",
        "                if nx == 0:\n",
        "                    raise ValueError('parsed input is empty')\n",
        "\n",
        "            # Save the number of \"fitted\" graphs.\n",
        "            self._nx = nx\n",
        "\n",
        "            # get all the distinct values of current labels\n",
        "            WL_labels_inverse = dict()\n",
        "\n",
        "            # assign a number to each label\n",
        "            label_count = 0\n",
        "            for dv in sorted(list(distinct_values)):\n",
        "                WL_labels_inverse[dv] = label_count\n",
        "                label_count += 1\n",
        "\n",
        "            # Initalize an inverse dictionary of labels for all iterations\n",
        "            self._inv_labels = dict()\n",
        "            self._inv_labels[0] = WL_labels_inverse\n",
        "\n",
        "            def generate_graphs(label_count, WL_labels_inverse):\n",
        "                new_graphs = list()\n",
        "                for j in range(nx):\n",
        "                    new_labels = dict()\n",
        "                    for k in L[j].keys():\n",
        "                        new_labels[k] = WL_labels_inverse[L[j][k]]\n",
        "                    L[j] = new_labels\n",
        "                    # add new labels\n",
        "                    new_graphs.append((Gs_ed[j], new_labels) + extras[j])\n",
        "                yield new_graphs\n",
        "\n",
        "                for i in range(1, self._n_iter):\n",
        "                    label_set, WL_labels_inverse, L_temp = set(), dict(), dict()\n",
        "                    for j in range(nx):\n",
        "                        # Find unique labels and sort\n",
        "                        # them for both graphs\n",
        "                        # Keep for each node the temporary\n",
        "                        L_temp[j] = dict()\n",
        "                        for v in Gs_ed[j].keys():\n",
        "                            credential = str(L[j][v]) + \",\" + \\\n",
        "                                str(sorted([L[j][n] for n in Gs_ed[j][v].keys()]))\n",
        "                            L_temp[j][v] = credential\n",
        "                            label_set.add(credential)\n",
        "\n",
        "                    label_list = sorted(list(label_set))\n",
        "                    for dv in label_list:\n",
        "                        WL_labels_inverse[dv] = label_count\n",
        "                        label_count += 1\n",
        "\n",
        "                    # Recalculate labels\n",
        "                    new_graphs = list()\n",
        "                    for j in range(nx):\n",
        "                        new_labels = dict()\n",
        "                        for k in L_temp[j].keys():\n",
        "                            new_labels[k] = WL_labels_inverse[L_temp[j][k]]\n",
        "                        L[j] = new_labels\n",
        "                        # relabel\n",
        "                        new_graphs.append((Gs_ed[j], new_labels) + extras[j])\n",
        "                    self._inv_labels[i] = WL_labels_inverse\n",
        "                    yield new_graphs\n",
        "\n",
        "            base_graph_kernel = {i: self._base_graph_kernel(**self._params) for i in range(self._n_iter)}\n",
        "            if self._parallel is None:\n",
        "                if self._method_calling == 1:\n",
        "                    for (i, g) in enumerate(generate_graphs(label_count, WL_labels_inverse)):\n",
        "                        base_graph_kernel[i].fit(g)\n",
        "                elif self._method_calling == 2:\n",
        "                    K = np.sum((base_graph_kernel[i].fit_transform(g) for (i, g) in\n",
        "                              enumerate(generate_graphs(label_count, WL_labels_inverse))), axis=0)\n",
        "\n",
        "            else:\n",
        "                if self._method_calling == 1:\n",
        "                    self._parallel(joblib.delayed(efit)(base_graph_kernel[i], g)\n",
        "                                  for (i, g) in enumerate(generate_graphs(label_count, WL_labels_inverse)))\n",
        "                elif self._method_calling == 2:\n",
        "                    K = np.sum(self._parallel(joblib.delayed(efit_transform)(base_graph_kernel[i], g)\n",
        "                              for (i, g) in enumerate(generate_graphs(label_count, WL_labels_inverse))),\n",
        "                              axis=0)\n",
        "\n",
        "            if self._method_calling == 1:\n",
        "                return base_graph_kernel\n",
        "            elif self._method_calling == 2:\n",
        "                return K, base_graph_kernel\n",
        "    def fit_transform(self, X, y=None):\n",
        "        \"\"\"Fit and transform, on the same dataset.\n",
        "\n",
        "        Parameters\n",
        "        ----------\n",
        "        X : iterable\n",
        "            Each element must be an iterable with at most three features and at\n",
        "            least one. The first that is obligatory is a valid graph structure\n",
        "            (adjacency matrix or edge_dictionary) while the second is\n",
        "            node_labels and the third edge_labels (that fitting the given graph\n",
        "            format). If None the kernel matrix is calculated upon fit data.\n",
        "            The test samples.\n",
        "\n",
        "        y : Object, default=None\n",
        "            Ignored argument, added for the pipeline.\n",
        "\n",
        "        Returns\n",
        "        -------\n",
        "        K : numpy array, shape = [n_targets, n_input_graphs]\n",
        "            corresponding to the kernel matrix, a calculation between\n",
        "            all pairs of graphs between target an features\n",
        "\n",
        "        \"\"\"\n",
        "        self._method_calling = 2\n",
        "        self._is_transformed = False\n",
        "        self.initialize()\n",
        "        if X is None:\n",
        "            raise ValueError('transform input cannot be None')\n",
        "        else:\n",
        "            km, self.X = self.parse_input(X)\n",
        "\n",
        "        self._X_diag = np.diagonal(km)\n",
        "        if self.normalize:\n",
        "            old_settings = np.seterr(divide='ignore')\n",
        "            km = np.nan_to_num(np.divide(km, np.sqrt(np.outer(self._X_diag, self._X_diag))))\n",
        "            np.seterr(**old_settings)\n",
        "        return km\n",
        "\n",
        "    def transform(self, X):\n",
        "        \"\"\"Calculate the kernel matrix, between given and fitted dataset.\n",
        "\n",
        "        Parameters\n",
        "        ----------\n",
        "        X : iterable\n",
        "            Each element must be an iterable with at most three features and at\n",
        "            least one. The first that is obligatory is a valid graph structure\n",
        "            (adjacency matrix or edge_dictionary) while the second is\n",
        "            node_labels and the third edge_labels (that fitting the given graph\n",
        "            format). If None the kernel matrix is calculated upon fit data.\n",
        "            The test samples.\n",
        "\n",
        "        Returns\n",
        "        -------\n",
        "        K : numpy array, shape = [n_targets, n_input_graphs]\n",
        "            corresponding to the kernel matrix, a calculation between\n",
        "            all pairs of graphs between target an features\n",
        "\n",
        "        \"\"\"\n",
        "        self._method_calling = 3\n",
        "        # Check is fit had been called\n",
        "        check_is_fitted(self, ['X', '_nx', '_inv_labels'])\n",
        "\n",
        "        # Input validation and parsing\n",
        "        if X is None:\n",
        "            raise ValueError('transform input cannot be None')\n",
        "        else:\n",
        "            if not isinstance(X, collections.Iterable):\n",
        "                raise ValueError('input must be an iterable\\n')\n",
        "            else:\n",
        "                nx = 0\n",
        "                distinct_values = set()\n",
        "                Gs_ed, L = dict(), dict()\n",
        "                for (i, x) in enumerate(iter(X)):\n",
        "                    is_iter = isinstance(x, collections.Iterable)\n",
        "                    if is_iter:\n",
        "                        x = list(x)\n",
        "                    if is_iter and len(x) in [0, 2, 3]:\n",
        "                        if len(x) == 0:\n",
        "                            warnings.warn('Ignoring empty element on index: '\n",
        "                                          + str(i))\n",
        "                            continue\n",
        "\n",
        "                        elif len(x) in [2, 3]:\n",
        "                            x = Graph(x[0], x[1], {}, self._graph_format)\n",
        "                    elif type(x) is Graph:\n",
        "                        x.desired_format(\"dictionary\")\n",
        "                    else:\n",
        "                        raise ValueError('each element of X must have at ' +\n",
        "                                         'least one and at most 3 elements\\n')\n",
        "                    Gs_ed[nx] = x.get_edge_dictionary()\n",
        "                    L[nx] = x.get_labels(purpose=\"dictionary\")\n",
        "\n",
        "                    # Hold all the distinct values\n",
        "                    distinct_values |= set(\n",
        "                        v for v in itervalues(L[nx])\n",
        "                        if v not in self._inv_labels[0])\n",
        "                    nx += 1\n",
        "                if nx == 0:\n",
        "                    raise ValueError('parsed input is empty')\n",
        "\n",
        "        nl = len(self._inv_labels[0])\n",
        "        WL_labels_inverse = {dv: idx for (idx, dv) in\n",
        "                             enumerate(sorted(list(distinct_values)), nl)}\n",
        "\n",
        "        def generate_graphs(WL_labels_inverse, nl):\n",
        "            # calculate the kernel matrix for the 0 iteration\n",
        "            new_graphs = list()\n",
        "            for j in range(nx):\n",
        "                new_labels = dict()\n",
        "                for (k, v) in iteritems(L[j]):\n",
        "                    if v in self._inv_labels[0]:\n",
        "                        new_labels[k] = self._inv_labels[0][v]\n",
        "                    else:\n",
        "                        new_labels[k] = WL_labels_inverse[v]\n",
        "                L[j] = new_labels\n",
        "                # produce the new graphs\n",
        "                new_graphs.append([Gs_ed[j], new_labels])\n",
        "            yield new_graphs\n",
        "\n",
        "            for i in range(1, self._n_iter):\n",
        "                new_graphs = list()\n",
        "                L_temp, label_set = dict(), set()\n",
        "                nl += len(self._inv_labels[i])\n",
        "                for j in range(nx):\n",
        "                    # Find unique labels and sort them for both graphs\n",
        "                    # Keep for each node the temporary\n",
        "                    L_temp[j] = dict()\n",
        "                    for v in Gs_ed[j].keys():\n",
        "                        credential = str(L[j][v]) + \",\" + \\\n",
        "                            str(sorted([L[j][n] for n in Gs_ed[j][v].keys()]))\n",
        "                        L_temp[j][v] = credential\n",
        "                        if credential not in self._inv_labels[i]:\n",
        "                            label_set.add(credential)\n",
        "\n",
        "                # Calculate the new label_set\n",
        "                WL_labels_inverse = dict()\n",
        "                if len(label_set) > 0:\n",
        "                    for dv in sorted(list(label_set)):\n",
        "                        idx = len(WL_labels_inverse) + nl\n",
        "                        WL_labels_inverse[dv] = idx\n",
        "\n",
        "                # Recalculate labels\n",
        "                new_graphs = list()\n",
        "                for j in range(nx):\n",
        "                    new_labels = dict()\n",
        "                    for (k, v) in iteritems(L_temp[j]):\n",
        "                        if v in self._inv_labels[i]:\n",
        "                            new_labels[k] = self._inv_labels[i][v]\n",
        "                        else:\n",
        "                            new_labels[k] = WL_labels_inverse[v]\n",
        "                    L[j] = new_labels\n",
        "                    # Create the new graphs with the new labels.\n",
        "                    new_graphs.append([Gs_ed[j], new_labels])\n",
        "                yield new_graphs\n",
        "\n",
        "        if self._parallel is None:\n",
        "            # Calculate the kernel matrix without parallelization\n",
        "            K = np.sum((self.X[i].transform(g) for (i, g)\n",
        "                       in enumerate(generate_graphs(WL_labels_inverse, nl))), axis=0)\n",
        "\n",
        "        else:\n",
        "            # Calculate the kernel marix with parallelization\n",
        "            K = np.sum(self._parallel(joblib.delayed(etransform)(self.X[i], g) for (i, g)\n",
        "                       in enumerate(generate_graphs(WL_labels_inverse, nl))), axis=0)\n",
        "\n",
        "        self._is_transformed = True\n",
        "        if self.normalize:\n",
        "            X_diag, Y_diag = self.diagonal()\n",
        "            old_settings = np.seterr(divide='ignore')\n",
        "            K = np.nan_to_num(np.divide(K, np.sqrt(np.outer(Y_diag, X_diag))))\n",
        "            np.seterr(**old_settings)\n",
        "\n",
        "        return K\n",
        "\n",
        "    def diagonal(self):\n",
        "        \"\"\"Calculate the kernel matrix diagonal for fitted data.\n",
        "\n",
        "        A funtion called on transform on a seperate dataset to apply\n",
        "        normalization on the exterior.\n",
        "\n",
        "        Parameters\n",
        "        ----------\n",
        "        None.\n",
        "\n",
        "        Returns\n",
        "        -------\n",
        "        X_diag : np.array\n",
        "            The diagonal of the kernel matrix, of the fitted data.\n",
        "            This consists of kernel calculation for each element with itself.\n",
        "\n",
        "        Y_diag : np.array\n",
        "            The diagonal of the kernel matrix, of the transformed data.\n",
        "            This consists of kernel calculation for each element with itself.\n",
        "\n",
        "        \"\"\"\n",
        "        # Check if fit had been called\n",
        "        check_is_fitted(self, ['X'])\n",
        "        try:\n",
        "            check_is_fitted(self, ['_X_diag'])\n",
        "            if self._is_transformed:\n",
        "                Y_diag = self.X[0].diagonal()[1]\n",
        "                for i in range(1, self._n_iter):\n",
        "                    Y_diag += self.X[i].diagonal()[1]\n",
        "        except NotFittedError:\n",
        "            # Calculate diagonal of X\n",
        "            if self._is_transformed:\n",
        "                X_diag, Y_diag = self.X[0].diagonal()\n",
        "                # X_diag is considered a mutable and should not affect the kernel matrix itself.\n",
        "                X_diag.flags.writeable = True\n",
        "                for i in range(1, self._n_iter):\n",
        "                    x, y = self.X[i].diagonal()\n",
        "                    X_diag += x\n",
        "                    Y_diag += y\n",
        "                self._X_diag = X_diag\n",
        "            else:\n",
        "                # case sub kernel is only fitted\n",
        "                X_diag = self.X[0].diagonal()\n",
        "                # X_diag is considered a mutable and should not affect the kernel matrix itself.\n",
        "                X_diag.flags.writeable = True\n",
        "                for i in range(1, self._n_iter):\n",
        "                    x = self.X[i].diagonal()\n",
        "                    X_diag += x\n",
        "                self._X_diag = X_diag\n",
        "\n",
        "        if self._is_transformed:\n",
        "            return self._X_diag, Y_diag\n",
        "        else:\n",
        "            return self._X_diag\n",
        "\n",
        "\n",
        "\n",
        "def efit(object, data):\n",
        "    \"\"\"Fit an object on data.\"\"\"\n",
        "    object.fit(data)\n",
        "\n",
        "\n",
        "def efit_transform(object, data):\n",
        "    \"\"\"Fit-Transform an object on data.\"\"\"\n",
        "    return object.fit_transform(data)\n",
        "\n",
        "\n",
        "def etransform(object, data):\n",
        "    \"\"\"Transform an object on data.\"\"\"\n",
        "    return object.transform(data)"
      ],
      "metadata": {
        "id": "gQf44I6FEIbl"
      },
      "execution_count": 75,
      "outputs": []
    },
    {
      "cell_type": "code",
      "source": [],
      "metadata": {
        "id": "8Q1gfo1UEIec"
      },
      "execution_count": null,
      "outputs": []
    },
    {
      "cell_type": "code",
      "source": [
        "B"
      ],
      "metadata": {
        "colab": {
          "base_uri": "https://localhost:8080/"
        },
        "id": "SldJRNkO-FS_",
        "outputId": "d1147164-069d-43bf-8697-2950c4be62ba"
      },
      "execution_count": null,
      "outputs": [
        {
          "output_type": "execute_result",
          "data": {
            "text/plain": [
              "matrix([[0., 1., 1., 1.],\n",
              "        [1., 0., 0., 0.],\n",
              "        [1., 0., 0., 0.],\n",
              "        [1., 0., 0., 0.]])"
            ]
          },
          "metadata": {},
          "execution_count": 30
        }
      ]
    },
    {
      "cell_type": "code",
      "source": [
        "XY = np.kron(A, B)\n",
        "print(XY.shape)\n",
        "# XY is a square matrix\n",
        "s = XY.shape[0]\n",
        "XY"
      ],
      "metadata": {
        "colab": {
          "base_uri": "https://localhost:8080/"
        },
        "id": "vmR0-euE-ar-",
        "outputId": "86cc2b1c-24c6-4a12-f191-564361628aa5"
      },
      "execution_count": null,
      "outputs": [
        {
          "output_type": "stream",
          "name": "stdout",
          "text": [
            "(12, 12)\n"
          ]
        },
        {
          "output_type": "execute_result",
          "data": {
            "text/plain": [
              "matrix([[0., 0., 0., 0., 0., 1., 1., 1., 0., 1., 1., 1.],\n",
              "        [0., 0., 0., 0., 1., 0., 0., 0., 1., 0., 0., 0.],\n",
              "        [0., 0., 0., 0., 1., 0., 0., 0., 1., 0., 0., 0.],\n",
              "        [0., 0., 0., 0., 1., 0., 0., 0., 1., 0., 0., 0.],\n",
              "        [0., 1., 1., 1., 0., 0., 0., 0., 0., 0., 0., 0.],\n",
              "        [1., 0., 0., 0., 0., 0., 0., 0., 0., 0., 0., 0.],\n",
              "        [1., 0., 0., 0., 0., 0., 0., 0., 0., 0., 0., 0.],\n",
              "        [1., 0., 0., 0., 0., 0., 0., 0., 0., 0., 0., 0.],\n",
              "        [0., 1., 1., 1., 0., 0., 0., 0., 0., 0., 0., 0.],\n",
              "        [1., 0., 0., 0., 0., 0., 0., 0., 0., 0., 0., 0.],\n",
              "        [1., 0., 0., 0., 0., 0., 0., 0., 0., 0., 0., 0.],\n",
              "        [1., 0., 0., 0., 0., 0., 0., 0., 0., 0., 0., 0.]])"
            ]
          },
          "metadata": {},
          "execution_count": 36
        }
      ]
    },
    {
      "cell_type": "code",
      "source": [
        "\n",
        "lamda=0.1\n",
        "np.identity(s)"
      ],
      "metadata": {
        "colab": {
          "base_uri": "https://localhost:8080/"
        },
        "id": "1HH8nbj3-auQ",
        "outputId": "9357dcea-dd24-4f28-b2f6-866501c42688"
      },
      "execution_count": null,
      "outputs": [
        {
          "output_type": "execute_result",
          "data": {
            "text/plain": [
              "array([[1., 0., 0., 0., 0., 0., 0., 0., 0., 0., 0., 0.],\n",
              "       [0., 1., 0., 0., 0., 0., 0., 0., 0., 0., 0., 0.],\n",
              "       [0., 0., 1., 0., 0., 0., 0., 0., 0., 0., 0., 0.],\n",
              "       [0., 0., 0., 1., 0., 0., 0., 0., 0., 0., 0., 0.],\n",
              "       [0., 0., 0., 0., 1., 0., 0., 0., 0., 0., 0., 0.],\n",
              "       [0., 0., 0., 0., 0., 1., 0., 0., 0., 0., 0., 0.],\n",
              "       [0., 0., 0., 0., 0., 0., 1., 0., 0., 0., 0., 0.],\n",
              "       [0., 0., 0., 0., 0., 0., 0., 1., 0., 0., 0., 0.],\n",
              "       [0., 0., 0., 0., 0., 0., 0., 0., 1., 0., 0., 0.],\n",
              "       [0., 0., 0., 0., 0., 0., 0., 0., 0., 1., 0., 0.],\n",
              "       [0., 0., 0., 0., 0., 0., 0., 0., 0., 0., 1., 0.],\n",
              "       [0., 0., 0., 0., 0., 0., 0., 0., 0., 0., 0., 1.]])"
            ]
          },
          "metadata": {},
          "execution_count": 50
        }
      ]
    },
    {
      "cell_type": "code",
      "source": [
        "S = inv(np.identity(s) - lamda*XY).T\n",
        "S.shape\n",
        "S"
      ],
      "metadata": {
        "colab": {
          "base_uri": "https://localhost:8080/"
        },
        "id": "8ibFylrC-FX-",
        "outputId": "9ffbcad9-e20e-46f8-b15c-4f78d0b96954"
      },
      "execution_count": null,
      "outputs": [
        {
          "output_type": "execute_result",
          "data": {
            "text/plain": [
              "matrix([[1.06382979, 0.        , 0.        , 0.        , 0.        ,\n",
              "         0.10638298, 0.10638298, 0.10638298, 0.        , 0.10638298,\n",
              "         0.10638298, 0.10638298],\n",
              "        [0.        , 1.0212766 , 0.0212766 , 0.0212766 , 0.10638298,\n",
              "         0.        , 0.        , 0.        , 0.10638298, 0.        ,\n",
              "         0.        , 0.        ],\n",
              "        [0.        , 0.0212766 , 1.0212766 , 0.0212766 , 0.10638298,\n",
              "         0.        , 0.        , 0.        , 0.10638298, 0.        ,\n",
              "         0.        , 0.        ],\n",
              "        [0.        , 0.0212766 , 0.0212766 , 1.0212766 , 0.10638298,\n",
              "         0.        , 0.        , 0.        , 0.10638298, 0.        ,\n",
              "         0.        , 0.        ],\n",
              "        [0.        , 0.10638298, 0.10638298, 0.10638298, 1.03191489,\n",
              "         0.        , 0.        , 0.        , 0.03191489, 0.        ,\n",
              "         0.        , 0.        ],\n",
              "        [0.10638298, 0.        , 0.        , 0.        , 0.        ,\n",
              "         1.0106383 , 0.0106383 , 0.0106383 , 0.        , 0.0106383 ,\n",
              "         0.0106383 , 0.0106383 ],\n",
              "        [0.10638298, 0.        , 0.        , 0.        , 0.        ,\n",
              "         0.0106383 , 1.0106383 , 0.0106383 , 0.        , 0.0106383 ,\n",
              "         0.0106383 , 0.0106383 ],\n",
              "        [0.10638298, 0.        , 0.        , 0.        , 0.        ,\n",
              "         0.0106383 , 0.0106383 , 1.0106383 , 0.        , 0.0106383 ,\n",
              "         0.0106383 , 0.0106383 ],\n",
              "        [0.        , 0.10638298, 0.10638298, 0.10638298, 0.03191489,\n",
              "         0.        , 0.        , 0.        , 1.03191489, 0.        ,\n",
              "         0.        , 0.        ],\n",
              "        [0.10638298, 0.        , 0.        , 0.        , 0.        ,\n",
              "         0.0106383 , 0.0106383 , 0.0106383 , 0.        , 1.0106383 ,\n",
              "         0.0106383 , 0.0106383 ],\n",
              "        [0.10638298, 0.        , 0.        , 0.        , 0.        ,\n",
              "         0.0106383 , 0.0106383 , 0.0106383 , 0.        , 0.0106383 ,\n",
              "         1.0106383 , 0.0106383 ],\n",
              "        [0.10638298, 0.        , 0.        , 0.        , 0.        ,\n",
              "         0.0106383 , 0.0106383 , 0.0106383 , 0.        , 0.0106383 ,\n",
              "         0.0106383 , 1.0106383 ]])"
            ]
          },
          "metadata": {},
          "execution_count": 55
        }
      ]
    },
    {
      "cell_type": "code",
      "source": [
        "np.sum(S)"
      ],
      "metadata": {
        "colab": {
          "base_uri": "https://localhost:8080/"
        },
        "id": "-8r0RU9i_4QP",
        "outputId": "aa16311f-7322-4a03-87d9-9df2f8590244"
      },
      "execution_count": null,
      "outputs": [
        {
          "output_type": "execute_result",
          "data": {
            "text/plain": [
              "15.319148936170215"
            ]
          },
          "metadata": {},
          "execution_count": 53
        }
      ]
    },
    {
      "cell_type": "code",
      "source": [
        "S = expm(lamda*XY).T\n",
        "S"
      ],
      "metadata": {
        "colab": {
          "base_uri": "https://localhost:8080/"
        },
        "id": "HZaa5PxF_4SW",
        "outputId": "5a5275dd-1a72-4d08-e6a3-a4be02822982"
      },
      "execution_count": null,
      "outputs": [
        {
          "output_type": "execute_result",
          "data": {
            "text/plain": [
              "array([[1.0301503 , 0.        , 0.        , 0.        , 0.        ,\n",
              "        0.101003  , 0.101003  , 0.101003  , 0.        , 0.101003  ,\n",
              "        0.101003  , 0.101003  ],\n",
              "       [0.        , 1.0100501 , 0.0100501 , 0.0100501 , 0.101003  ,\n",
              "        0.        , 0.        , 0.        , 0.101003  , 0.        ,\n",
              "        0.        , 0.        ],\n",
              "       [0.        , 0.0100501 , 1.0100501 , 0.0100501 , 0.101003  ,\n",
              "        0.        , 0.        , 0.        , 0.101003  , 0.        ,\n",
              "        0.        , 0.        ],\n",
              "       [0.        , 0.0100501 , 0.0100501 , 1.0100501 , 0.101003  ,\n",
              "        0.        , 0.        , 0.        , 0.101003  , 0.        ,\n",
              "        0.        , 0.        ],\n",
              "       [0.        , 0.101003  , 0.101003  , 0.101003  , 1.01507515,\n",
              "        0.        , 0.        , 0.        , 0.01507515, 0.        ,\n",
              "        0.        , 0.        ],\n",
              "       [0.101003  , 0.        , 0.        , 0.        , 0.        ,\n",
              "        1.00502505, 0.00502505, 0.00502505, 0.        , 0.00502505,\n",
              "        0.00502505, 0.00502505],\n",
              "       [0.101003  , 0.        , 0.        , 0.        , 0.        ,\n",
              "        0.00502505, 1.00502505, 0.00502505, 0.        , 0.00502505,\n",
              "        0.00502505, 0.00502505],\n",
              "       [0.101003  , 0.        , 0.        , 0.        , 0.        ,\n",
              "        0.00502505, 0.00502505, 1.00502505, 0.        , 0.00502505,\n",
              "        0.00502505, 0.00502505],\n",
              "       [0.        , 0.101003  , 0.101003  , 0.101003  , 0.01507515,\n",
              "        0.        , 0.        , 0.        , 1.01507515, 0.        ,\n",
              "        0.        , 0.        ],\n",
              "       [0.101003  , 0.        , 0.        , 0.        , 0.        ,\n",
              "        0.00502505, 0.00502505, 0.00502505, 0.        , 1.00502505,\n",
              "        0.00502505, 0.00502505],\n",
              "       [0.101003  , 0.        , 0.        , 0.        , 0.        ,\n",
              "        0.00502505, 0.00502505, 0.00502505, 0.        , 0.00502505,\n",
              "        1.00502505, 0.00502505],\n",
              "       [0.101003  , 0.        , 0.        , 0.        , 0.        ,\n",
              "        0.00502505, 0.00502505, 0.00502505, 0.        , 0.00502505,\n",
              "        0.00502505, 1.00502505]])"
            ]
          },
          "metadata": {},
          "execution_count": 64
        }
      ]
    },
    {
      "cell_type": "code",
      "source": [
        "np.sum(S)"
      ],
      "metadata": {
        "colab": {
          "base_uri": "https://localhost:8080/"
        },
        "id": "fP2Pq3RG_4Up",
        "outputId": "a6428133-b520-407d-f9c0-ccd242d0f81b"
      },
      "execution_count": null,
      "outputs": [
        {
          "output_type": "execute_result",
          "data": {
            "text/plain": [
              "14.78587570680262"
            ]
          },
          "metadata": {},
          "execution_count": 65
        }
      ]
    },
    {
      "cell_type": "code",
      "source": [
        "compare(G1, G2, verbose=False)"
      ],
      "metadata": {
        "colab": {
          "base_uri": "https://localhost:8080/"
        },
        "id": "Ztg5QkNL0O3-",
        "outputId": "7fe12f9f-5c82-41ea-8eba-b5650b8f4b9e"
      },
      "execution_count": null,
      "outputs": [
        {
          "output_type": "execute_result",
          "data": {
            "text/plain": [
              "15.319148936170215"
            ]
          },
          "metadata": {},
          "execution_count": 68
        }
      ]
    },
    {
      "cell_type": "code",
      "source": [],
      "metadata": {
        "id": "T1eP4hTHOttP"
      },
      "execution_count": null,
      "outputs": []
    }
  ]
}