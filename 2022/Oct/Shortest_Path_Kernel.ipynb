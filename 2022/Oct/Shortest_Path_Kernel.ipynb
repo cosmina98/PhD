{
  "nbformat": 4,
  "nbformat_minor": 0,
  "metadata": {
    "colab": {
      "provenance": [],
      "collapsed_sections": [],
      "authorship_tag": "ABX9TyOrbxNBTYLJzHbkOSrtHkVm",
      "include_colab_link": true
    },
    "kernelspec": {
      "name": "python3",
      "display_name": "Python 3"
    },
    "language_info": {
      "name": "python"
    }
  },
  "cells": [
    {
      "cell_type": "markdown",
      "metadata": {
        "id": "view-in-github",
        "colab_type": "text"
      },
      "source": [
        "<a href=\"https://colab.research.google.com/github/cosmina98/PhD/blob/main/2022/Oct/Shortest_Path_Kernel.ipynb\" target=\"_parent\"><img src=\"https://colab.research.google.com/assets/colab-badge.svg\" alt=\"Open In Colab\"/></a>"
      ]
    },
    {
      "cell_type": "code",
      "execution_count": 2,
      "metadata": {
        "id": "vR0ze7t6C7mv",
        "colab": {
          "base_uri": "https://localhost:8080/"
        },
        "outputId": "1bc87ae3-9b07-4774-f96a-f5b24133017e"
      },
      "outputs": [
        {
          "output_type": "stream",
          "name": "stdout",
          "text": [
            "\u001b[K     |████████████████████████████████| 1.6 MB 5.2 MB/s \n",
            "\u001b[K     |████████████████████████████████| 154 kB 46.4 MB/s \n",
            "\u001b[?25h"
          ]
        }
      ],
      "source": [
        "!pip install grakel --quiet"
      ]
    },
    {
      "cell_type": "markdown",
      "source": [
        "# Using Grakel library"
      ],
      "metadata": {
        "id": "WfdGqFERrlpe"
      }
    },
    {
      "cell_type": "code",
      "source": [
        "from grakel import GraphKernel\n",
        "from grakel import Graph\n",
        "from grakel.kernels import WeisfeilerLehman, VertexHistogram\n",
        "from grakel import ShortestPath\n"
      ],
      "metadata": {
        "id": "iYzpRp48VEYS"
      },
      "execution_count": 3,
      "outputs": []
    },
    {
      "cell_type": "code",
      "source": [
        "import numpy as np\n",
        "import networkx as nx\n"
      ],
      "metadata": {
        "id": "jX_Xfu5FtpVf"
      },
      "execution_count": 4,
      "outputs": []
    },
    {
      "cell_type": "markdown",
      "source": [
        "## Kernel between 2  molecules graphs "
      ],
      "metadata": {
        "id": "s4wVpqWsWKpB"
      }
    },
    {
      "cell_type": "code",
      "source": [
        "H2O_adjacency = [[0, 1, 1], [1, 0, 0], [1, 0, 0]]\n",
        "H2O_node_labels = {0: 'O', 1: 'H', 2: 'H'}\n",
        "H2O = Graph(initialization_object=H2O_adjacency, node_labels=H2O_node_labels)\n",
        "H3O_adjacency = [[0, 1, 1, 1], [1, 0, 0, 0], [1, 0, 0, 0], [1, 0, 0, 0]]\n",
        "H3O_node_labels = {0: 'O', 1: 'H', 2: 'H', 3:'H'}\n",
        "H3O = Graph(initialization_object=H3O_adjacency, node_labels=H3O_node_labels)"
      ],
      "metadata": {
        "id": "VHo5LM1JWI9T"
      },
      "execution_count": 5,
      "outputs": []
    },
    {
      "cell_type": "code",
      "source": [
        "H2O_adjacency"
      ],
      "metadata": {
        "colab": {
          "base_uri": "https://localhost:8080/"
        },
        "id": "eNIN9yBMdLfz",
        "outputId": "422241e1-0827-4019-f9c2-2c7c72f38871"
      },
      "execution_count": 102,
      "outputs": [
        {
          "output_type": "execute_result",
          "data": {
            "text/plain": [
              "[[0, 1, 1], [1, 0, 0], [1, 0, 0]]"
            ]
          },
          "metadata": {},
          "execution_count": 102
        }
      ]
    },
    {
      "cell_type": "markdown",
      "source": [
        "The shortest path kernel which counts the number of shortest paths of equal length in two graphs "
      ],
      "metadata": {
        "id": "0RG27crRZKXb"
      }
    },
    {
      "cell_type": "code",
      "source": [
        "\n",
        "sp_kernel =  ShortestPath()\n",
        "#compute the graph representtaion between water and itself\n",
        "sp_kernel.fit_transform([H2O])\n",
        "#compute the kernel value between the graoh representation of water and hydronium\n",
        "sp_kernel.transform([H3O])"
      ],
      "metadata": {
        "id": "U52gAq7kWJBp",
        "colab": {
          "base_uri": "https://localhost:8080/"
        },
        "outputId": "cfe38792-9062-471d-9137-b6c97571fabb"
      },
      "execution_count": 6,
      "outputs": [
        {
          "output_type": "execute_result",
          "data": {
            "text/plain": [
              "array([[24.]])"
            ]
          },
          "metadata": {},
          "execution_count": 6
        }
      ]
    },
    {
      "cell_type": "markdown",
      "source": [
        "## Apply normalisation"
      ],
      "metadata": {
        "id": "J03teVokZpm1"
      }
    },
    {
      "cell_type": "code",
      "source": [
        "sp_kernel = ShortestPath(normalize=True)\n",
        "sp_kernel.fit_transform([H2O])\n",
        "sp_kernel.transform([H3O])"
      ],
      "metadata": {
        "colab": {
          "base_uri": "https://localhost:8080/"
        },
        "id": "0Ep0u5H_X1xL",
        "outputId": "07ac0bba-240b-4e06-a85c-ae7cba7804b5"
      },
      "execution_count": 16,
      "outputs": [
        {
          "output_type": "execute_result",
          "data": {
            "text/plain": [
              "array([[0.94280904]])"
            ]
          },
          "metadata": {},
          "execution_count": 16
        }
      ]
    },
    {
      "cell_type": "markdown",
      "source": [
        "#Dijkstra"
      ],
      "metadata": {
        "id": "4gvPtS84_BuI"
      }
    },
    {
      "cell_type": "markdown",
      "source": [
        "Djistra algorithm  adjusted to work with NX graph from https://www.geeksforgeeks.org/python-program-for-dijkstras-shortest-path-algorithm-greedy-algo-7/"
      ],
      "metadata": {
        "id": "SMzcKBeeyUFJ"
      }
    },
    {
      "cell_type": "code",
      "source": [
        "\n",
        "# for adjacency matrix representation of the graph\n",
        "class Dijkstra_algorithm():\n",
        " \n",
        "    def __init__(self, G):\n",
        " \n",
        "        self.num_nodes = int(G.number_of_nodes())\n",
        "        self.adjacency = np.array(nx.to_numpy_matrix(G))\n",
        "        self.source_node=None\n",
        "        self.max=10e7\n",
        " \n",
        "    def printSolution(self, distance_from_source_node_to_any_other_node_vector):\n",
        "        print(\"Source node  \\tTarget_node,\\tDistance from Source\")\n",
        "        for node in range(self.num_nodes):\n",
        "            print(self.source_node, \"\\t\\t\" ,node,  \"\\t\\t\", distance_from_source_node_to_any_other_node_vector[node])\n",
        "\n",
        "    def compute_all_the_shortest_paths(self):\n",
        "        for v in range(self.num_nodes):\n",
        "           self.dijkstra(v)\n",
        "        \n",
        " \n",
        "    # Find the vertex with\n",
        "    # minimum distance_from_source_node_to_any_other_node_vectorance value, from the set of vertices\n",
        "    # not yet included in shortest path tree\n",
        "    def minDistance(self, distance_from_source_node_to_any_other_node_vector, shortest_path_tree_set):\n",
        " \n",
        "        # Initialize minimum distance_from_source_node_to_any_other_node_vectorance for next node\n",
        "        min =  self.max\n",
        " \n",
        "        # Search not nearest vertex not in the\n",
        "        # shortest path tree\n",
        "        for v in range(self.num_nodes):\n",
        "            if distance_from_source_node_to_any_other_node_vector[v] < min and shortest_path_tree_set[v] == False:\n",
        "                min = distance_from_source_node_to_any_other_node_vector[v]\n",
        "                min_index = v\n",
        " \n",
        "        return min_index\n",
        "\n",
        "\n",
        "    # Function that implements Dijkstra's single source\n",
        "    # shortest path algorithm for a graph represented\n",
        "    # using adjacency matrix representation\n",
        "    def dijkstra(self,source_node):\n",
        "        self.source_node=source_node\n",
        "        distance_from_source_node_to_any_other_node_vector = [self.max] * self.num_nodes\n",
        "        #distance_from_source_node_to_any_other_node_vectorance from the source node to itself is 0\n",
        "        distance_from_source_node_to_any_other_node_vector[source_node] = 0\n",
        "        #set the initial set False as all the nodes are unexplored\n",
        "        shortest_path_tree_set = [False] * self.num_nodes\n",
        "        print(self.adjacency)\n",
        "        print('Initial vector of minimum distances from node 0 to others',distance_from_source_node_to_any_other_node_vector)\n",
        "        print(\"Explored initial paths\", shortest_path_tree_set,'\\n')\n",
        "  \n",
        "       \n",
        "        for _ in range(self.num_nodes):\n",
        " \n",
        "            # Pick the minimum distance_from_source_node_to_any_other_node_vectorance vertex from\n",
        "            # the set of vertices not yet processed.\n",
        "            # u is always equal to src in first iteration\n",
        "            u = self.minDistance(distance_from_source_node_to_any_other_node_vector, shortest_path_tree_set)\n",
        " \n",
        "            # Put the minimum distance_from_source_node_to_any_other_node_vectorance vertex in the\n",
        "            # shortest path tree\n",
        "            shortest_path_tree_set[u] = True\n",
        "            print('Node ', u, 'marked as visited' )\n",
        "            # Update distance_from_source_node_to_any_other_node_vector value of the adjacent vertices\n",
        "            # of the picked vertex only if the current\n",
        "            # distance_from_source_node_to_any_other_node_vectorance is greater than new distance_from_source_node_to_any_other_node_vectorance and\n",
        "            # the vertex in not in the shortest path tree\n",
        "            for v in range(self.num_nodes):\n",
        "                #if adjacent node\n",
        "                print(' At neighbour ', v)\n",
        "                if (self.adjacency[u][v] > 0 and\n",
        "                    #and unvisited\n",
        "                   shortest_path_tree_set[v] == False and\n",
        "                    #and the previous distance connecting the f v with it s neigbour u was higher than the current distance set it to the current distan\n",
        "                   distance_from_source_node_to_any_other_node_vector[v] > distance_from_source_node_to_any_other_node_vector[u] + self.adjacency[u][v]):\n",
        "                    distance_from_source_node_to_any_other_node_vector[v] = distance_from_source_node_to_any_other_node_vector[u] + self.adjacency[u][v]\n",
        "                    print('Min distance is: ',distance_from_source_node_to_any_other_node_vector[v])\n",
        "\n",
        "        print('Final distance_from_source_node_to_any_other_node_vector' , distance_from_source_node_to_any_other_node_vector )\n",
        " \n",
        "        self.printSolution(distance_from_source_node_to_any_other_node_vector)"
      ],
      "metadata": {
        "id": "GGjbwVGUyVRY"
      },
      "execution_count": 7,
      "outputs": []
    },
    {
      "cell_type": "code",
      "source": [
        "# Driver program\n",
        "g = Dijkstra_algorithm(G1)\n",
        "g.dijkstra(1)\n",
        "# This code is contributed by Divyanshu Mehta\n",
        "\n"
      ],
      "metadata": {
        "colab": {
          "base_uri": "https://localhost:8080/"
        },
        "id": "cd6RA07SyTRR",
        "outputId": "3b6247ba-746e-402f-99bc-dd6743c507c7"
      },
      "execution_count": 36,
      "outputs": [
        {
          "output_type": "stream",
          "name": "stdout",
          "text": [
            "[[0. 1. 1.]\n",
            " [1. 0. 0.]\n",
            " [1. 0. 0.]]\n",
            "Initial vector of minimum distances from node 0 to others [100000000.0, 0, 100000000.0]\n",
            "Explored initial paths [False, False, False] \n",
            "\n",
            "Node  1 marked as visited\n",
            " At neighbour  0\n",
            "Min distance is:  1.0\n",
            " At neighbour  1\n",
            " At neighbour  2\n",
            "Node  0 marked as visited\n",
            " At neighbour  0\n",
            " At neighbour  1\n",
            " At neighbour  2\n",
            "Min distance is:  2.0\n",
            "Node  2 marked as visited\n",
            " At neighbour  0\n",
            " At neighbour  1\n",
            " At neighbour  2\n",
            "Final distance_from_source_node_to_any_other_node_vector [1.0, 0, 2.0]\n",
            "Source node  \tTarget_node,\tDistance from Source\n",
            "1 \t\t 0 \t\t 1.0\n",
            "1 \t\t 1 \t\t 0\n",
            "1 \t\t 2 \t\t 2.0\n"
          ]
        }
      ]
    },
    {
      "cell_type": "markdown",
      "source": [
        "#Floyd-Warshall"
      ],
      "metadata": {
        "id": "wINJa3NzyBCd"
      }
    },
    {
      "cell_type": "code",
      "source": [
        "class FloydWarshall_algorithm():\n",
        "\n",
        "  def __init__(self, G):\n",
        "  \n",
        "          self.num_nodes = int(G.number_of_nodes())\n",
        "          self.adjacency = np.array(nx.to_numpy_matrix(G))\n",
        "          print('The H30 matrix\\n',  self.adjacency)\n",
        "          #add some random weights to the adjency to mimick the weightred graph\n",
        "          self.weights=  np.random.randint(5,9,size=(self.adjacency.shape[0],self.adjacency.shape[0]))\n",
        "          #self.adjacency=self.adjacency*self.weights\n",
        "          self.adjacency[self.adjacency==0] = np.inf\n",
        "          self.adjacency[range(self.num_nodes), range(self.num_nodes)] = 0\n",
        "          print('Initial weighted adj matrix  with some random weight integer added and infinity where there s no edge\\n',self.adjacency )\n",
        "          self.max=np.inf\n",
        "          self.dist=list(map(lambda i: list(map(lambda j: j, i)), self.adjacency))\n",
        "\n",
        "  def floydWarshall(self):\n",
        "      for k in range(self.num_nodes):\n",
        "          # pick all nodes as source one by one\n",
        "          for i in range(self.num_nodes):\n",
        "              # Pick all nodes as destination for the above picked source\n",
        "              for j in range(self.num_nodes):\n",
        "                  # If node k is on the shortest path from i to j, then update the value of dist[i][j]\n",
        "                  self.dist[i][j] = min(self.dist[i][j],\n",
        "                                  self.dist[i][k] + self.dist[k][j]\n",
        "                                  )\n",
        "      self.printSolution(self.dist)\n",
        "  \n",
        "  # A utility function to print the solution\n",
        "  def printSolution(self,dist):\n",
        "      print(\"Following matrix shows the shortest distances\\\n",
        "  between every pair of nodes\")\n",
        "      for i in range(self.num_nodes):\n",
        "          for j in range(self.num_nodes):\n",
        "              if(dist[i][j] == self.max):\n",
        "                  print(\"%2s\" % (\"INF\"), end=\"\")\n",
        "              else:\n",
        "                  print(\"%2d \" % (dist[i][j]), end='')\n",
        "          print(\" \")\n",
        "  \n",
        "  def __call__(self):\n",
        "        self.floydWarshall()"
      ],
      "metadata": {
        "id": "Ce-IIxP1yAdS"
      },
      "execution_count": 161,
      "outputs": []
    },
    {
      "cell_type": "code",
      "source": [],
      "metadata": {
        "id": "uTWpS3Mgjxp7"
      },
      "execution_count": null,
      "outputs": []
    },
    {
      "cell_type": "code",
      "source": [
        "run=FloydWarshall_algorithm(G1.to_directed())\n",
        "run()"
      ],
      "metadata": {
        "colab": {
          "base_uri": "https://localhost:8080/"
        },
        "id": "TjXLjYfTyAhM",
        "outputId": "e8e6ffe8-a124-4a6e-f7c5-c0b0f253e318"
      },
      "execution_count": 162,
      "outputs": [
        {
          "output_type": "stream",
          "name": "stdout",
          "text": [
            "The H30 matrix\n",
            " [[0. 1. 1.]\n",
            " [1. 0. 0.]\n",
            " [1. 0. 0.]]\n",
            "Initial weighted adj matrix  with some random weight integer added and infinity where there s no edge\n",
            " [[ 0.  1.  1.]\n",
            " [ 1.  0. inf]\n",
            " [ 1. inf  0.]]\n",
            "Following matrix shows the shortest distances  between every pair of nodes\n",
            " 0  1  1  \n",
            " 1  0  2  \n",
            " 1  2  0  \n"
          ]
        }
      ]
    },
    {
      "cell_type": "markdown",
      "source": [],
      "metadata": {
        "id": "2f9JmU2tkh7o"
      }
    },
    {
      "cell_type": "code",
      "source": [
        "G2.to_directed()"
      ],
      "metadata": {
        "colab": {
          "base_uri": "https://localhost:8080/"
        },
        "id": "fqoJ5-jRY007",
        "outputId": "145a8ecf-963b-4d64-cb14-dee0543fa029"
      },
      "execution_count": 95,
      "outputs": [
        {
          "output_type": "execute_result",
          "data": {
            "text/plain": [
              "OutEdgeView([(0, 1), (0, 2), (0, 3), (1, 0), (2, 0), (3, 0)])"
            ]
          },
          "metadata": {},
          "execution_count": 95
        }
      ]
    },
    {
      "cell_type": "code",
      "source": [
        "G2.edges"
      ],
      "metadata": {
        "colab": {
          "base_uri": "https://localhost:8080/"
        },
        "id": "WoGA8lxQZ1p7",
        "outputId": "bf2bbb51-4a18-4da6-c7b7-a30d477e90a2"
      },
      "execution_count": 97,
      "outputs": [
        {
          "output_type": "execute_result",
          "data": {
            "text/plain": [
              "EdgeView([(0, 1), (0, 2), (0, 3)])"
            ]
          },
          "metadata": {},
          "execution_count": 97
        }
      ]
    },
    {
      "cell_type": "code",
      "source": [
        "np.array(H2O_adjacency).shape[0]"
      ],
      "metadata": {
        "colab": {
          "base_uri": "https://localhost:8080/"
        },
        "id": "oQ2QEp5iUeZh",
        "outputId": "5b577306-c8c2-4837-8101-21a81f7b465b"
      },
      "execution_count": 65,
      "outputs": [
        {
          "output_type": "execute_result",
          "data": {
            "text/plain": [
              "3"
            ]
          },
          "metadata": {},
          "execution_count": 65
        }
      ]
    },
    {
      "cell_type": "markdown",
      "source": [
        "#Function to work with NX graphs\n",
        "\n"
      ],
      "metadata": {
        "id": "PtnZZiaQ3Ooo"
      }
    },
    {
      "cell_type": "markdown",
      "source": [
        "## Implementation based on https://ieeexplore.ieee.org/stamp/stamp.jsp?tp=&arnumber=1565664&tag=1"
      ],
      "metadata": {
        "id": "KNFdUUvbsyPa"
      }
    },
    {
      "cell_type": "markdown",
      "source": [
        "https://github.com/emanuele/jstsp2015/blob/master/gk_shortest_path.py\n",
        "https://networkx.org/documentation/networkx-1.9/_modules/networkx/algorithms/shortest_paths/dense.html#floyd_warshall_numpy"
      ],
      "metadata": {
        "id": "MhYRS2MQ4eRx"
      }
    },
    {
      "cell_type": "code",
      "source": [
        "def compare(g_1, g_2, verbose=False,nodelist=None):\n",
        "        \"\"\"Compute the kernel value (similarity) between two graphs.\n",
        "        Parameters\n",
        "        ----------\n",
        "        g1 : networkx.Graph\n",
        "            First graph.\n",
        "        g2 : networkx.Graph\n",
        "            Second graph.\n",
        "        Returns\n",
        "        -------\n",
        "        k : The similarity value between g1 and g2.\n",
        "        \"\"\"\n",
        "        # Diagonal superior matrix of the floyd warshall shortest\n",
        "        # paths:\n",
        "        A = nx.to_numpy_matrix(g_1,nodelist=nodelist, nonedge=np.inf, multigraph_weight=min,weight='weight')\n",
        "        B= nx.to_numpy_matrix(g_2,nodelist=nodelist,nonedge=np.inf, multigraph_weight=min,weight='weight')\n",
        "        n,m = A.shape\n",
        "        p,q=B.shape\n",
        "        I = np.identity(n)\n",
        "        A[I==1] = 0 # diagonal elements should be zero\n",
        "        I2=np.identity(p)\n",
        "        B[I2==1]=0\n",
        "        for i in range(n):\n",
        "            A = np.minimum(A, A[i,:] + A[:,i])\n",
        "        for i in range(p):\n",
        "            B = np.minimum(B, B[i,:] + B[:,i])\n",
        "\n",
        "        fwm1 =np.array(A)\n",
        "        #replace nan inf with 0\n",
        "        fwm1 = np.where(fwm1 == np.inf, 0, fwm1)\n",
        "        fwm1 = np.where(fwm1 == np.nan, 0, fwm1)\n",
        "        #Upper triangle \n",
        "        fwm1 = np.triu(fwm1, k=1)\n",
        "        #\n",
        "        bc1 = np.bincount(fwm1.reshape(-1).astype(int))\n",
        "\n",
        "        fwm2 = np.array(B)\n",
        "         #replace nan inf with 0\n",
        "        fwm2 = np.where(fwm2 == np.inf, 0, fwm2)\n",
        "        fwm2 = np.where(fwm2 == np.nan, 0, fwm2)\n",
        "        fwm2 = np.triu(fwm2, k=1)\n",
        "        bc2 = np.bincount(fwm2.reshape(-1).astype(int))\n",
        "\n",
        "        # Copy into arrays with the same length the non-zero shortests\n",
        "        # paths:\n",
        "        v1 = np.zeros(max(len(bc1), len(bc2)) - 1)\n",
        "        v1[range(0, len(bc1)-1)] = bc1[1:]\n",
        "\n",
        "        v2 = np.zeros(max(len(bc1), len(bc2)) - 1)\n",
        "        v2[range(0, len(bc2)-1)] = bc2[1:]\n",
        "\n",
        "        return np.sum(v1 * v2)\n",
        "\n",
        "\n",
        "def compare_normalized(g_1, g_2, verbose=False):\n",
        "        \"\"\"Compute the normalized kernel value between two graphs.\n",
        "        A normalized version of the kernel is given by the equation:\n",
        "        k_norm(g1, g2) = k(g1, g2) / sqrt(k(g1,g1) * k(g2,g2))\n",
        "        Parameters\n",
        "        ----------\n",
        "        g1 : networkx.Graph\n",
        "            First graph.\n",
        "        g2 : networkx.Graph\n",
        "            Second graph.\n",
        "        Returns\n",
        "        -------\n",
        "        k : The similarity value between g1 and g2.\n",
        "        \"\"\"\n",
        "        return compare(g_1, g_2) / (np.sqrt(compare(g_1, g_1) *\n",
        "                                                 compare(g_2, g_2)))"
      ],
      "metadata": {
        "id": "Vf5bEtPxWJGA"
      },
      "execution_count": 17,
      "outputs": []
    },
    {
      "cell_type": "code",
      "source": [],
      "metadata": {
        "id": "f_FvlExL3R6f"
      },
      "execution_count": null,
      "outputs": []
    },
    {
      "cell_type": "markdown",
      "source": [
        "## Testing to see if we get a similar score using custom implementation "
      ],
      "metadata": {
        "id": "glvJamw93SMn"
      }
    },
    {
      "cell_type": "code",
      "source": [
        "def get_nxgraph_from_adjanecy_matrix(adjacency_matrix):\n",
        "    rows, cols = np.where(adjacency_matrix == 1)\n",
        "    edges = zip(rows.tolist(), cols.tolist())\n",
        "    gr = nx.Graph()\n",
        "    all_rows = range(0, adjacency_matrix.shape[0])\n",
        "    for n in all_rows:\n",
        "        gr.add_node(n)\n",
        "    gr.add_edges_from(edges)\n",
        "    gr.add_edges_from(edges)\n",
        "    return gr\n"
      ],
      "metadata": {
        "id": "aWoBVcxX2npQ"
      },
      "execution_count": 9,
      "outputs": []
    },
    {
      "cell_type": "code",
      "source": [
        "G1=get_nxgraph_from_adjanecy_matrix(np.array(H2O_adjacency))\n",
        "G2=get_nxgraph_from_adjanecy_matrix(np.array(H3O_adjacency))\n"
      ],
      "metadata": {
        "id": "n9YEv-bm4PNi"
      },
      "execution_count": 10,
      "outputs": []
    },
    {
      "cell_type": "code",
      "source": [
        "compare(G1, G2, verbose=False)"
      ],
      "metadata": {
        "colab": {
          "base_uri": "https://localhost:8080/"
        },
        "id": "Ztg5QkNL0O3-",
        "outputId": "5edab51a-9865-4be1-f269-5fb4aa079062"
      },
      "execution_count": 10,
      "outputs": [
        {
          "output_type": "execute_result",
          "data": {
            "text/plain": [
              "9.0"
            ]
          },
          "metadata": {},
          "execution_count": 10
        }
      ]
    },
    {
      "cell_type": "code",
      "source": [
        "compare_normalized(G1, G2, verbose=False)"
      ],
      "metadata": {
        "colab": {
          "base_uri": "https://localhost:8080/"
        },
        "id": "JtG31RvN7QLt",
        "outputId": "e4df3d24-d4a2-401f-fe0e-92975dc9ad15"
      },
      "execution_count": 11,
      "outputs": [
        {
          "output_type": "execute_result",
          "data": {
            "text/plain": [
              "0.9486832980505138"
            ]
          },
          "metadata": {},
          "execution_count": 11
        }
      ]
    },
    {
      "cell_type": "code",
      "source": [
        "G1.nodes"
      ],
      "metadata": {
        "colab": {
          "base_uri": "https://localhost:8080/"
        },
        "id": "COf0Jjwz-SaZ",
        "outputId": "7d84f804-62d2-4a83-da4b-88fe01283ff8"
      },
      "execution_count": 12,
      "outputs": [
        {
          "output_type": "execute_result",
          "data": {
            "text/plain": [
              "NodeView((0, 1, 2))"
            ]
          },
          "metadata": {},
          "execution_count": 12
        }
      ]
    },
    {
      "cell_type": "code",
      "source": [
        "G1.edges"
      ],
      "metadata": {
        "colab": {
          "base_uri": "https://localhost:8080/"
        },
        "id": "QEcAeBe9-VAC",
        "outputId": "710fd910-89fb-4aa7-fbf4-485e7e5364ee"
      },
      "execution_count": 13,
      "outputs": [
        {
          "output_type": "execute_result",
          "data": {
            "text/plain": [
              "EdgeView([(0, 1), (0, 2)])"
            ]
          },
          "metadata": {},
          "execution_count": 13
        }
      ]
    },
    {
      "cell_type": "code",
      "source": [
        "fwm1 = np.array(nx.floyd_warshall_numpy(G1))\n",
        "print(fwm1)\n",
        "fwm1 = np.where(fwm1 == np.inf, 0, fwm1)\n",
        "fwm1 = np.where(fwm1 == np.nan, 0, fwm1)\n",
        "fwm1 = np.triu(fwm1, k=1)\n",
        "bc1 = np.bincount(fwm1.reshape(-1).astype(int))\n",
        "\n",
        "fwm2 = np.array(nx.floyd_warshall_numpy(G2))\n",
        "fwm2 = np.where(fwm2 == np.inf, 0, fwm2)\n",
        "fwm2 = np.where(fwm2 == np.nan, 0, fwm2)\n",
        "fwm2 = np.triu(fwm2, k=1)\n",
        "bc2 = np.bincount(fwm2.reshape(-1).astype(int))\n",
        "\n",
        "# Copy into arrays with the same length the non-zero shortests\n",
        "# paths:\n",
        "v1 = np.zeros(max(len(bc1), len(bc2)) - 1)\n",
        "v1[range(0, len(bc1)-1)] = bc1[1:]\n",
        "\n",
        "v2 = np.zeros(max(len(bc1), len(bc2)) - 1)\n",
        "v2[range(0, len(bc2)-1)] = bc2[1:]\n",
        "\n",
        " \n",
        "np.sum(v1 * v2)\n"
      ],
      "metadata": {
        "colab": {
          "base_uri": "https://localhost:8080/"
        },
        "id": "d6OdrjED7oT3",
        "outputId": "4ed5f6cb-ce32-42b2-cec2-eeb7c64683c1"
      },
      "execution_count": 14,
      "outputs": [
        {
          "output_type": "stream",
          "name": "stdout",
          "text": [
            "[[0. 1. 1.]\n",
            " [1. 0. 2.]\n",
            " [1. 2. 0.]]\n"
          ]
        },
        {
          "output_type": "execute_result",
          "data": {
            "text/plain": [
              "9.0"
            ]
          },
          "metadata": {},
          "execution_count": 14
        }
      ]
    },
    {
      "cell_type": "code",
      "source": [
        "v1 * v2"
      ],
      "metadata": {
        "colab": {
          "base_uri": "https://localhost:8080/"
        },
        "id": "Jg68SIlj7oWV",
        "outputId": "ba0bf37a-b315-44fe-ac8c-ff9d1cea3040"
      },
      "execution_count": 15,
      "outputs": [
        {
          "output_type": "execute_result",
          "data": {
            "text/plain": [
              "array([6., 3.])"
            ]
          },
          "metadata": {},
          "execution_count": 15
        }
      ]
    },
    {
      "cell_type": "code",
      "source": [
        "A = nx.to_numpy_matrix(G1, nonedge=np.inf)\n",
        "n,m = A.shape\n",
        "I = np.identity(n)\n",
        "print(A)\n",
        "A[I==1] = 0 # diagonal elements should be zero\n",
        "for i in range(n):\n",
        "    A = np.minimum(A, A[i,:] + A[:,i])\n",
        "print(A)\n",
        "\n",
        "np.tril(fwm2, k=1).reshape(-1).astype(int)"
      ],
      "metadata": {
        "colab": {
          "base_uri": "https://localhost:8080/"
        },
        "id": "sOIY6OYyDvp9",
        "outputId": "fdf543f0-5db5-4f7e-e299-d8aea441abd1"
      },
      "execution_count": 16,
      "outputs": [
        {
          "output_type": "stream",
          "name": "stdout",
          "text": [
            "[[inf  1.  1.]\n",
            " [ 1. inf inf]\n",
            " [ 1. inf inf]]\n",
            "[[0. 1. 1.]\n",
            " [1. 0. 2.]\n",
            " [1. 2. 0.]]\n"
          ]
        },
        {
          "output_type": "execute_result",
          "data": {
            "text/plain": [
              "array([0, 1, 0, 0, 0, 0, 2, 0, 0, 0, 0, 2, 0, 0, 0, 0])"
            ]
          },
          "metadata": {},
          "execution_count": 16
        }
      ]
    },
    {
      "cell_type": "code",
      "source": [
        "nx.to_numpy_matrix(G1, nonedge=np.inf)"
      ],
      "metadata": {
        "colab": {
          "base_uri": "https://localhost:8080/"
        },
        "id": "CnNlaNAhEAJK",
        "outputId": "92d53ea4-e71b-4465-bd1f-7a75d300f3b7"
      },
      "execution_count": 17,
      "outputs": [
        {
          "output_type": "execute_result",
          "data": {
            "text/plain": [
              "matrix([[inf,  1.,  1.],\n",
              "        [ 1., inf, inf],\n",
              "        [ 1., inf, inf]])"
            ]
          },
          "metadata": {},
          "execution_count": 17
        }
      ]
    },
    {
      "cell_type": "code",
      "source": [],
      "metadata": {
        "id": "UC3g3-pFVaNg"
      },
      "execution_count": null,
      "outputs": []
    },
    {
      "cell_type": "code",
      "source": [
        "G1"
      ],
      "metadata": {
        "colab": {
          "base_uri": "https://localhost:8080/"
        },
        "id": "7NAo9rhdEALd",
        "outputId": "6bffb7e5-06f3-4a5a-9c11-93ce31d75e8a"
      },
      "execution_count": null,
      "outputs": [
        {
          "output_type": "execute_result",
          "data": {
            "text/plain": [
              "<networkx.classes.graph.Graph at 0x7fd9991d6950>"
            ]
          },
          "metadata": {},
          "execution_count": 112
        }
      ]
    },
    {
      "cell_type": "code",
      "source": [
        "H2O_adjacency"
      ],
      "metadata": {
        "colab": {
          "base_uri": "https://localhost:8080/"
        },
        "id": "c2tJcHSrEANc",
        "outputId": "69dcbc6c-b3ea-4531-d99f-dcca3f994c9d"
      },
      "execution_count": null,
      "outputs": [
        {
          "output_type": "execute_result",
          "data": {
            "text/plain": [
              "[[0, 1, 1], [1, 0, 0], [1, 0, 0]]"
            ]
          },
          "metadata": {},
          "execution_count": 113
        }
      ]
    },
    {
      "cell_type": "code",
      "source": [],
      "metadata": {
        "colab": {
          "base_uri": "https://localhost:8080/"
        },
        "id": "2-3KMPO6FjSq",
        "outputId": "396e1001-4d48-48c4-c311-2e30f1086d29"
      },
      "execution_count": null,
      "outputs": [
        {
          "output_type": "stream",
          "name": "stdout",
          "text": [
            "Bincount output : \n",
            "  [0 4 1 0 0 0 1 0 0 1]\n",
            "size of bin :  10 \n",
            "\n",
            "Bincount output : \n",
            "  [0 1 3 0 1 5]\n",
            "size of bin :  6 \n",
            "\n",
            "Bincount output : \n",
            "  [0 1 3 0 1 5 0 0 0 0]\n",
            "size of bin :  10 \n",
            "\n"
          ]
        }
      ]
    }
  ]
}