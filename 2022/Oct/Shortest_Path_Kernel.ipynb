{
  "nbformat": 4,
  "nbformat_minor": 0,
  "metadata": {
    "colab": {
      "provenance": [],
      "collapsed_sections": [],
      "authorship_tag": "ABX9TyNRnUWhKxNqycR6gDamMenM",
      "include_colab_link": true
    },
    "kernelspec": {
      "name": "python3",
      "display_name": "Python 3"
    },
    "language_info": {
      "name": "python"
    }
  },
  "cells": [
    {
      "cell_type": "markdown",
      "metadata": {
        "id": "view-in-github",
        "colab_type": "text"
      },
      "source": [
        "<a href=\"https://colab.research.google.com/github/cosmina98/PhD/blob/main/2022/Oct/Shortest_Path_Kernel.ipynb\" target=\"_parent\"><img src=\"https://colab.research.google.com/assets/colab-badge.svg\" alt=\"Open In Colab\"/></a>"
      ]
    },
    {
      "cell_type": "code",
      "execution_count": 2,
      "metadata": {
        "id": "vR0ze7t6C7mv",
        "colab": {
          "base_uri": "https://localhost:8080/"
        },
        "outputId": "925300cf-9d41-4443-fff7-1ad8d3832002"
      },
      "outputs": [
        {
          "output_type": "stream",
          "name": "stdout",
          "text": [
            "\u001b[?25l\r\u001b[K     |▏                               | 10 kB 20.1 MB/s eta 0:00:01\r\u001b[K     |▍                               | 20 kB 13.6 MB/s eta 0:00:01\r\u001b[K     |▋                               | 30 kB 17.7 MB/s eta 0:00:01\r\u001b[K     |▊                               | 40 kB 8.9 MB/s eta 0:00:01\r\u001b[K     |█                               | 51 kB 8.6 MB/s eta 0:00:01\r\u001b[K     |█▏                              | 61 kB 10.0 MB/s eta 0:00:01\r\u001b[K     |█▎                              | 71 kB 8.4 MB/s eta 0:00:01\r\u001b[K     |█▌                              | 81 kB 9.2 MB/s eta 0:00:01\r\u001b[K     |█▊                              | 92 kB 10.2 MB/s eta 0:00:01\r\u001b[K     |█▉                              | 102 kB 8.9 MB/s eta 0:00:01\r\u001b[K     |██                              | 112 kB 8.9 MB/s eta 0:00:01\r\u001b[K     |██▎                             | 122 kB 8.9 MB/s eta 0:00:01\r\u001b[K     |██▍                             | 133 kB 8.9 MB/s eta 0:00:01\r\u001b[K     |██▋                             | 143 kB 8.9 MB/s eta 0:00:01\r\u001b[K     |██▉                             | 153 kB 8.9 MB/s eta 0:00:01\r\u001b[K     |███                             | 163 kB 8.9 MB/s eta 0:00:01\r\u001b[K     |███▏                            | 174 kB 8.9 MB/s eta 0:00:01\r\u001b[K     |███▍                            | 184 kB 8.9 MB/s eta 0:00:01\r\u001b[K     |███▌                            | 194 kB 8.9 MB/s eta 0:00:01\r\u001b[K     |███▊                            | 204 kB 8.9 MB/s eta 0:00:01\r\u001b[K     |████                            | 215 kB 8.9 MB/s eta 0:00:01\r\u001b[K     |████                            | 225 kB 8.9 MB/s eta 0:00:01\r\u001b[K     |████▎                           | 235 kB 8.9 MB/s eta 0:00:01\r\u001b[K     |████▌                           | 245 kB 8.9 MB/s eta 0:00:01\r\u001b[K     |████▋                           | 256 kB 8.9 MB/s eta 0:00:01\r\u001b[K     |████▉                           | 266 kB 8.9 MB/s eta 0:00:01\r\u001b[K     |█████                           | 276 kB 8.9 MB/s eta 0:00:01\r\u001b[K     |█████▏                          | 286 kB 8.9 MB/s eta 0:00:01\r\u001b[K     |█████▍                          | 296 kB 8.9 MB/s eta 0:00:01\r\u001b[K     |█████▋                          | 307 kB 8.9 MB/s eta 0:00:01\r\u001b[K     |█████▊                          | 317 kB 8.9 MB/s eta 0:00:01\r\u001b[K     |██████                          | 327 kB 8.9 MB/s eta 0:00:01\r\u001b[K     |██████▏                         | 337 kB 8.9 MB/s eta 0:00:01\r\u001b[K     |██████▎                         | 348 kB 8.9 MB/s eta 0:00:01\r\u001b[K     |██████▌                         | 358 kB 8.9 MB/s eta 0:00:01\r\u001b[K     |██████▊                         | 368 kB 8.9 MB/s eta 0:00:01\r\u001b[K     |███████                         | 378 kB 8.9 MB/s eta 0:00:01\r\u001b[K     |███████                         | 389 kB 8.9 MB/s eta 0:00:01\r\u001b[K     |███████▎                        | 399 kB 8.9 MB/s eta 0:00:01\r\u001b[K     |███████▌                        | 409 kB 8.9 MB/s eta 0:00:01\r\u001b[K     |███████▋                        | 419 kB 8.9 MB/s eta 0:00:01\r\u001b[K     |███████▉                        | 430 kB 8.9 MB/s eta 0:00:01\r\u001b[K     |████████                        | 440 kB 8.9 MB/s eta 0:00:01\r\u001b[K     |████████▏                       | 450 kB 8.9 MB/s eta 0:00:01\r\u001b[K     |████████▍                       | 460 kB 8.9 MB/s eta 0:00:01\r\u001b[K     |████████▋                       | 471 kB 8.9 MB/s eta 0:00:01\r\u001b[K     |████████▊                       | 481 kB 8.9 MB/s eta 0:00:01\r\u001b[K     |█████████                       | 491 kB 8.9 MB/s eta 0:00:01\r\u001b[K     |█████████▏                      | 501 kB 8.9 MB/s eta 0:00:01\r\u001b[K     |█████████▎                      | 512 kB 8.9 MB/s eta 0:00:01\r\u001b[K     |█████████▌                      | 522 kB 8.9 MB/s eta 0:00:01\r\u001b[K     |█████████▊                      | 532 kB 8.9 MB/s eta 0:00:01\r\u001b[K     |█████████▉                      | 542 kB 8.9 MB/s eta 0:00:01\r\u001b[K     |██████████                      | 552 kB 8.9 MB/s eta 0:00:01\r\u001b[K     |██████████▎                     | 563 kB 8.9 MB/s eta 0:00:01\r\u001b[K     |██████████▍                     | 573 kB 8.9 MB/s eta 0:00:01\r\u001b[K     |██████████▋                     | 583 kB 8.9 MB/s eta 0:00:01\r\u001b[K     |██████████▉                     | 593 kB 8.9 MB/s eta 0:00:01\r\u001b[K     |███████████                     | 604 kB 8.9 MB/s eta 0:00:01\r\u001b[K     |███████████▏                    | 614 kB 8.9 MB/s eta 0:00:01\r\u001b[K     |███████████▍                    | 624 kB 8.9 MB/s eta 0:00:01\r\u001b[K     |███████████▌                    | 634 kB 8.9 MB/s eta 0:00:01\r\u001b[K     |███████████▊                    | 645 kB 8.9 MB/s eta 0:00:01\r\u001b[K     |████████████                    | 655 kB 8.9 MB/s eta 0:00:01\r\u001b[K     |████████████                    | 665 kB 8.9 MB/s eta 0:00:01\r\u001b[K     |████████████▎                   | 675 kB 8.9 MB/s eta 0:00:01\r\u001b[K     |████████████▌                   | 686 kB 8.9 MB/s eta 0:00:01\r\u001b[K     |████████████▋                   | 696 kB 8.9 MB/s eta 0:00:01\r\u001b[K     |████████████▉                   | 706 kB 8.9 MB/s eta 0:00:01\r\u001b[K     |█████████████                   | 716 kB 8.9 MB/s eta 0:00:01\r\u001b[K     |█████████████▎                  | 727 kB 8.9 MB/s eta 0:00:01\r\u001b[K     |█████████████▍                  | 737 kB 8.9 MB/s eta 0:00:01\r\u001b[K     |█████████████▋                  | 747 kB 8.9 MB/s eta 0:00:01\r\u001b[K     |█████████████▉                  | 757 kB 8.9 MB/s eta 0:00:01\r\u001b[K     |██████████████                  | 768 kB 8.9 MB/s eta 0:00:01\r\u001b[K     |██████████████▏                 | 778 kB 8.9 MB/s eta 0:00:01\r\u001b[K     |██████████████▍                 | 788 kB 8.9 MB/s eta 0:00:01\r\u001b[K     |██████████████▌                 | 798 kB 8.9 MB/s eta 0:00:01\r\u001b[K     |██████████████▊                 | 808 kB 8.9 MB/s eta 0:00:01\r\u001b[K     |███████████████                 | 819 kB 8.9 MB/s eta 0:00:01\r\u001b[K     |███████████████                 | 829 kB 8.9 MB/s eta 0:00:01\r\u001b[K     |███████████████▎                | 839 kB 8.9 MB/s eta 0:00:01\r\u001b[K     |███████████████▌                | 849 kB 8.9 MB/s eta 0:00:01\r\u001b[K     |███████████████▋                | 860 kB 8.9 MB/s eta 0:00:01\r\u001b[K     |███████████████▉                | 870 kB 8.9 MB/s eta 0:00:01\r\u001b[K     |████████████████                | 880 kB 8.9 MB/s eta 0:00:01\r\u001b[K     |████████████████▏               | 890 kB 8.9 MB/s eta 0:00:01\r\u001b[K     |████████████████▍               | 901 kB 8.9 MB/s eta 0:00:01\r\u001b[K     |████████████████▋               | 911 kB 8.9 MB/s eta 0:00:01\r\u001b[K     |████████████████▊               | 921 kB 8.9 MB/s eta 0:00:01\r\u001b[K     |█████████████████               | 931 kB 8.9 MB/s eta 0:00:01\r\u001b[K     |█████████████████▏              | 942 kB 8.9 MB/s eta 0:00:01\r\u001b[K     |█████████████████▎              | 952 kB 8.9 MB/s eta 0:00:01\r\u001b[K     |█████████████████▌              | 962 kB 8.9 MB/s eta 0:00:01\r\u001b[K     |█████████████████▊              | 972 kB 8.9 MB/s eta 0:00:01\r\u001b[K     |█████████████████▉              | 983 kB 8.9 MB/s eta 0:00:01\r\u001b[K     |██████████████████              | 993 kB 8.9 MB/s eta 0:00:01\r\u001b[K     |██████████████████▎             | 1.0 MB 8.9 MB/s eta 0:00:01\r\u001b[K     |██████████████████▍             | 1.0 MB 8.9 MB/s eta 0:00:01\r\u001b[K     |██████████████████▋             | 1.0 MB 8.9 MB/s eta 0:00:01\r\u001b[K     |██████████████████▉             | 1.0 MB 8.9 MB/s eta 0:00:01\r\u001b[K     |███████████████████             | 1.0 MB 8.9 MB/s eta 0:00:01\r\u001b[K     |███████████████████▏            | 1.1 MB 8.9 MB/s eta 0:00:01\r\u001b[K     |███████████████████▍            | 1.1 MB 8.9 MB/s eta 0:00:01\r\u001b[K     |███████████████████▋            | 1.1 MB 8.9 MB/s eta 0:00:01\r\u001b[K     |███████████████████▊            | 1.1 MB 8.9 MB/s eta 0:00:01\r\u001b[K     |████████████████████            | 1.1 MB 8.9 MB/s eta 0:00:01\r\u001b[K     |████████████████████▏           | 1.1 MB 8.9 MB/s eta 0:00:01\r\u001b[K     |████████████████████▎           | 1.1 MB 8.9 MB/s eta 0:00:01\r\u001b[K     |████████████████████▌           | 1.1 MB 8.9 MB/s eta 0:00:01\r\u001b[K     |████████████████████▊           | 1.1 MB 8.9 MB/s eta 0:00:01\r\u001b[K     |████████████████████▉           | 1.1 MB 8.9 MB/s eta 0:00:01\r\u001b[K     |█████████████████████           | 1.2 MB 8.9 MB/s eta 0:00:01\r\u001b[K     |█████████████████████▎          | 1.2 MB 8.9 MB/s eta 0:00:01\r\u001b[K     |█████████████████████▍          | 1.2 MB 8.9 MB/s eta 0:00:01\r\u001b[K     |█████████████████████▋          | 1.2 MB 8.9 MB/s eta 0:00:01\r\u001b[K     |█████████████████████▉          | 1.2 MB 8.9 MB/s eta 0:00:01\r\u001b[K     |██████████████████████          | 1.2 MB 8.9 MB/s eta 0:00:01\r\u001b[K     |██████████████████████▏         | 1.2 MB 8.9 MB/s eta 0:00:01\r\u001b[K     |██████████████████████▍         | 1.2 MB 8.9 MB/s eta 0:00:01\r\u001b[K     |██████████████████████▌         | 1.2 MB 8.9 MB/s eta 0:00:01\r\u001b[K     |██████████████████████▊         | 1.2 MB 8.9 MB/s eta 0:00:01\r\u001b[K     |███████████████████████         | 1.3 MB 8.9 MB/s eta 0:00:01\r\u001b[K     |███████████████████████         | 1.3 MB 8.9 MB/s eta 0:00:01\r\u001b[K     |███████████████████████▎        | 1.3 MB 8.9 MB/s eta 0:00:01\r\u001b[K     |███████████████████████▌        | 1.3 MB 8.9 MB/s eta 0:00:01\r\u001b[K     |███████████████████████▋        | 1.3 MB 8.9 MB/s eta 0:00:01\r\u001b[K     |███████████████████████▉        | 1.3 MB 8.9 MB/s eta 0:00:01\r\u001b[K     |████████████████████████        | 1.3 MB 8.9 MB/s eta 0:00:01\r\u001b[K     |████████████████████████▏       | 1.3 MB 8.9 MB/s eta 0:00:01\r\u001b[K     |████████████████████████▍       | 1.3 MB 8.9 MB/s eta 0:00:01\r\u001b[K     |████████████████████████▋       | 1.4 MB 8.9 MB/s eta 0:00:01\r\u001b[K     |████████████████████████▊       | 1.4 MB 8.9 MB/s eta 0:00:01\r\u001b[K     |█████████████████████████       | 1.4 MB 8.9 MB/s eta 0:00:01\r\u001b[K     |█████████████████████████▏      | 1.4 MB 8.9 MB/s eta 0:00:01\r\u001b[K     |█████████████████████████▎      | 1.4 MB 8.9 MB/s eta 0:00:01\r\u001b[K     |█████████████████████████▌      | 1.4 MB 8.9 MB/s eta 0:00:01\r\u001b[K     |█████████████████████████▊      | 1.4 MB 8.9 MB/s eta 0:00:01\r\u001b[K     |██████████████████████████      | 1.4 MB 8.9 MB/s eta 0:00:01\r\u001b[K     |██████████████████████████      | 1.4 MB 8.9 MB/s eta 0:00:01\r\u001b[K     |██████████████████████████▎     | 1.4 MB 8.9 MB/s eta 0:00:01\r\u001b[K     |██████████████████████████▌     | 1.5 MB 8.9 MB/s eta 0:00:01\r\u001b[K     |██████████████████████████▋     | 1.5 MB 8.9 MB/s eta 0:00:01\r\u001b[K     |██████████████████████████▉     | 1.5 MB 8.9 MB/s eta 0:00:01\r\u001b[K     |███████████████████████████     | 1.5 MB 8.9 MB/s eta 0:00:01\r\u001b[K     |███████████████████████████▏    | 1.5 MB 8.9 MB/s eta 0:00:01\r\u001b[K     |███████████████████████████▍    | 1.5 MB 8.9 MB/s eta 0:00:01\r\u001b[K     |███████████████████████████▋    | 1.5 MB 8.9 MB/s eta 0:00:01\r\u001b[K     |███████████████████████████▊    | 1.5 MB 8.9 MB/s eta 0:00:01\r\u001b[K     |████████████████████████████    | 1.5 MB 8.9 MB/s eta 0:00:01\r\u001b[K     |████████████████████████████▏   | 1.5 MB 8.9 MB/s eta 0:00:01\r\u001b[K     |████████████████████████████▎   | 1.6 MB 8.9 MB/s eta 0:00:01\r\u001b[K     |████████████████████████████▌   | 1.6 MB 8.9 MB/s eta 0:00:01\r\u001b[K     |████████████████████████████▊   | 1.6 MB 8.9 MB/s eta 0:00:01\r\u001b[K     |████████████████████████████▉   | 1.6 MB 8.9 MB/s eta 0:00:01\r\u001b[K     |█████████████████████████████   | 1.6 MB 8.9 MB/s eta 0:00:01\r\u001b[K     |█████████████████████████████▎  | 1.6 MB 8.9 MB/s eta 0:00:01\r\u001b[K     |█████████████████████████████▍  | 1.6 MB 8.9 MB/s eta 0:00:01\r\u001b[K     |█████████████████████████████▋  | 1.6 MB 8.9 MB/s eta 0:00:01\r\u001b[K     |█████████████████████████████▉  | 1.6 MB 8.9 MB/s eta 0:00:01\r\u001b[K     |██████████████████████████████  | 1.6 MB 8.9 MB/s eta 0:00:01\r\u001b[K     |██████████████████████████████▏ | 1.7 MB 8.9 MB/s eta 0:00:01\r\u001b[K     |██████████████████████████████▍ | 1.7 MB 8.9 MB/s eta 0:00:01\r\u001b[K     |██████████████████████████████▌ | 1.7 MB 8.9 MB/s eta 0:00:01\r\u001b[K     |██████████████████████████████▊ | 1.7 MB 8.9 MB/s eta 0:00:01\r\u001b[K     |███████████████████████████████ | 1.7 MB 8.9 MB/s eta 0:00:01\r\u001b[K     |███████████████████████████████ | 1.7 MB 8.9 MB/s eta 0:00:01\r\u001b[K     |███████████████████████████████▎| 1.7 MB 8.9 MB/s eta 0:00:01\r\u001b[K     |███████████████████████████████▌| 1.7 MB 8.9 MB/s eta 0:00:01\r\u001b[K     |███████████████████████████████▋| 1.7 MB 8.9 MB/s eta 0:00:01\r\u001b[K     |███████████████████████████████▉| 1.8 MB 8.9 MB/s eta 0:00:01\r\u001b[K     |████████████████████████████████| 1.8 MB 8.9 MB/s \n",
            "\u001b[?25h"
          ]
        }
      ],
      "source": [
        "!pip install grakel --quiet"
      ]
    },
    {
      "cell_type": "markdown",
      "source": [
        "# Using Grakel library"
      ],
      "metadata": {
        "id": "WfdGqFERrlpe"
      }
    },
    {
      "cell_type": "code",
      "source": [
        "from grakel import GraphKernel\n",
        "from grakel import Graph\n",
        "from grakel.kernels import WeisfeilerLehman, VertexHistogram\n",
        "from grakel import ShortestPath\n"
      ],
      "metadata": {
        "id": "iYzpRp48VEYS"
      },
      "execution_count": 11,
      "outputs": []
    },
    {
      "cell_type": "code",
      "source": [
        "import numpy as np\n",
        "import networkx as nx\n"
      ],
      "metadata": {
        "id": "jX_Xfu5FtpVf"
      },
      "execution_count": 12,
      "outputs": []
    },
    {
      "cell_type": "markdown",
      "source": [
        "## Kernel between 2  molecules graphs "
      ],
      "metadata": {
        "id": "s4wVpqWsWKpB"
      }
    },
    {
      "cell_type": "code",
      "source": [
        "H2O_adjacency = [[0, 1, 1], [1, 0, 0], [1, 0, 0]]\n",
        "H2O_node_labels = {0: 'O', 1: 'H', 2: 'H'}\n",
        "H2O = Graph(initialization_object=H2O_adjacency, node_labels=H2O_node_labels)\n",
        "H3O_adjacency = [[0, 1, 1, 1], [1, 0, 0, 0], [1, 0, 0, 0], [1, 0, 0, 0]]\n",
        "H3O_node_labels = {0: 'O', 1: 'H', 2: 'H', 3:'H'}\n",
        "H3O = Graph(initialization_object=H3O_adjacency, node_labels=H3O_node_labels)"
      ],
      "metadata": {
        "id": "VHo5LM1JWI9T"
      },
      "execution_count": 13,
      "outputs": []
    },
    {
      "cell_type": "code",
      "source": [
        "H2O_adjacency"
      ],
      "metadata": {
        "colab": {
          "base_uri": "https://localhost:8080/"
        },
        "id": "eNIN9yBMdLfz",
        "outputId": "d4020c29-310a-4457-f882-a3b70746b460"
      },
      "execution_count": 14,
      "outputs": [
        {
          "output_type": "execute_result",
          "data": {
            "text/plain": [
              "[[0, 1, 1], [1, 0, 0], [1, 0, 0]]"
            ]
          },
          "metadata": {},
          "execution_count": 14
        }
      ]
    },
    {
      "cell_type": "markdown",
      "source": [
        "The shortest path kernel which counts the number of shortest paths of equal length in two graphs "
      ],
      "metadata": {
        "id": "0RG27crRZKXb"
      }
    },
    {
      "cell_type": "code",
      "source": [
        "\n",
        "sp_kernel =  ShortestPath()\n",
        "#compute the graph representtaion between water and itself\n",
        "sp_kernel.fit_transform([H2O])\n",
        "#compute the kernel value between the graoh representation of water and hydronium\n",
        "sp_kernel.transform([H3O])"
      ],
      "metadata": {
        "id": "U52gAq7kWJBp",
        "colab": {
          "base_uri": "https://localhost:8080/"
        },
        "outputId": "38607976-99ac-4041-dd04-b081166a0b5c"
      },
      "execution_count": 15,
      "outputs": [
        {
          "output_type": "execute_result",
          "data": {
            "text/plain": [
              "array([[24.]])"
            ]
          },
          "metadata": {},
          "execution_count": 15
        }
      ]
    },
    {
      "cell_type": "markdown",
      "source": [
        "## Apply normalisation"
      ],
      "metadata": {
        "id": "J03teVokZpm1"
      }
    },
    {
      "cell_type": "code",
      "source": [
        "sp_kernel = ShortestPath(normalize=True)\n",
        "sp_kernel.fit_transform([H2O])\n",
        "sp_kernel.transform([H3O])"
      ],
      "metadata": {
        "colab": {
          "base_uri": "https://localhost:8080/"
        },
        "id": "0Ep0u5H_X1xL",
        "outputId": "ea12e16e-7326-492a-ab81-7470acb74b33"
      },
      "execution_count": 16,
      "outputs": [
        {
          "output_type": "execute_result",
          "data": {
            "text/plain": [
              "array([[0.94280904]])"
            ]
          },
          "metadata": {},
          "execution_count": 16
        }
      ]
    },
    {
      "cell_type": "markdown",
      "source": [
        "#Dijkstra"
      ],
      "metadata": {
        "id": "4gvPtS84_BuI"
      }
    },
    {
      "cell_type": "markdown",
      "source": [
        "Djistra algorithm  adjusted to work with NX graph from https://www.geeksforgeeks.org/python-program-for-dijkstras-shortest-path-algorithm-greedy-algo-7/"
      ],
      "metadata": {
        "id": "SMzcKBeeyUFJ"
      }
    },
    {
      "cell_type": "code",
      "source": [
        "\n",
        "# for adjacency matrix representation of the graph\n",
        "class Dijkstra_algorithm():\n",
        " \n",
        "    def __init__(self, G):\n",
        " \n",
        "        self.num_nodes = int(G.number_of_nodes())\n",
        "        self.adjacency = np.array(nx.to_numpy_matrix(G))\n",
        "        self.source_node=None\n",
        "        self.max=10e7\n",
        " \n",
        "    def printSolution(self, distance_from_source_node_to_any_other_node_vector):\n",
        "        print(\"Source node  \\tTarget_node,\\tDistance from Source\")\n",
        "        for node in range(self.num_nodes):\n",
        "            print(self.source_node, \"\\t\\t\" ,node,  \"\\t\\t\", distance_from_source_node_to_any_other_node_vector[node])\n",
        "\n",
        "    def compute_all_the_shortest_paths(self):\n",
        "        for v in range(self.num_nodes):\n",
        "           self.dijkstra(v)\n",
        "        \n",
        " \n",
        "    # Find the vertex with\n",
        "    # minimum distance_from_source_node_to_any_other_node_vectorance value, from the set of vertices\n",
        "    # not yet included in shortest path tree\n",
        "    def minDistance(self, distance_from_source_node_to_any_other_node_vector, shortest_path_tree_set):\n",
        " \n",
        "        # Initialize minimum distance_from_source_node_to_any_other_node_vectorance for next node\n",
        "        min =  self.max\n",
        " \n",
        "        # Search not nearest vertex not in the\n",
        "        # shortest path tree\n",
        "        for v in range(self.num_nodes):\n",
        "            if distance_from_source_node_to_any_other_node_vector[v] < min and shortest_path_tree_set[v] == False:\n",
        "                min = distance_from_source_node_to_any_other_node_vector[v]\n",
        "                min_index = v\n",
        " \n",
        "        return min_index\n",
        "\n",
        "\n",
        "    # Function that implements Dijkstra's single source\n",
        "    # shortest path algorithm for a graph represented\n",
        "    # using adjacency matrix representation\n",
        "    def dijkstra(self,source_node):\n",
        "        self.source_node=source_node\n",
        "        distance_from_source_node_to_any_other_node_vector = [self.max] * self.num_nodes\n",
        "        #distance_from_source_node_to_any_other_node_vectorance from the source node to itself is 0\n",
        "        distance_from_source_node_to_any_other_node_vector[source_node] = 0\n",
        "        #set the initial set False as all the nodes are unexplored\n",
        "        shortest_path_tree_set = [False] * self.num_nodes\n",
        "        print(self.adjacency)\n",
        "        print('Initial vector of minimum distances from node 0 to others',distance_from_source_node_to_any_other_node_vector)\n",
        "        print(\"Explored initial paths\", shortest_path_tree_set,'\\n')\n",
        "  \n",
        "       \n",
        "        for _ in range(self.num_nodes):\n",
        " \n",
        "            # Pick the minimum distance_from_source_node_to_any_other_node_vectorance vertex from\n",
        "            # the set of vertices not yet processed.\n",
        "            # u is always equal to src in first iteration\n",
        "            u = self.minDistance(distance_from_source_node_to_any_other_node_vector, shortest_path_tree_set)\n",
        " \n",
        "            # Put the minimum distance_from_source_node_to_any_other_node_vectorance vertex in the\n",
        "            # shortest path tree\n",
        "            shortest_path_tree_set[u] = True\n",
        "            print('Node ', u, 'marked as visited' )\n",
        "            # Update distance_from_source_node_to_any_other_node_vector value of the adjacent vertices\n",
        "            # of the picked vertex only if the current\n",
        "            # distance_from_source_node_to_any_other_node_vectorance is greater than new distance_from_source_node_to_any_other_node_vectorance and\n",
        "            # the vertex in not in the shortest path tree\n",
        "            for v in range(self.num_nodes):\n",
        "                #if adjacent node\n",
        "                print(' At neighbour ', v)\n",
        "                if (self.adjacency[u][v] > 0 and\n",
        "                    #and unvisited\n",
        "                   shortest_path_tree_set[v] == False and\n",
        "                    #and the previous distance connecting the f v with it s neigbour u was higher than the current distance set it to the current distan\n",
        "                   distance_from_source_node_to_any_other_node_vector[v] > distance_from_source_node_to_any_other_node_vector[u] + self.adjacency[u][v]):\n",
        "                    distance_from_source_node_to_any_other_node_vector[v] = distance_from_source_node_to_any_other_node_vector[u] + self.adjacency[u][v]\n",
        "                    print('Min distance is: ',distance_from_source_node_to_any_other_node_vector[v])\n",
        "\n",
        "        print('Final distance_from_source_node_to_any_other_node_vector' , distance_from_source_node_to_any_other_node_vector )\n",
        " \n",
        "        self.printSolution(distance_from_source_node_to_any_other_node_vector)"
      ],
      "metadata": {
        "id": "GGjbwVGUyVRY"
      },
      "execution_count": 17,
      "outputs": []
    },
    {
      "cell_type": "code",
      "source": [
        "# Driver program\n",
        "g = Dijkstra_algorithm(G1)\n",
        "g.dijkstra(1)\n",
        "# This code is contributed by Divyanshu Mehta\n",
        "\n"
      ],
      "metadata": {
        "colab": {
          "base_uri": "https://localhost:8080/"
        },
        "id": "cd6RA07SyTRR",
        "outputId": "093f511f-e48b-4cb7-8426-e371d496b665"
      },
      "execution_count": 74,
      "outputs": [
        {
          "output_type": "stream",
          "name": "stdout",
          "text": [
            "[[0. 1. 1.]\n",
            " [1. 0. 0.]\n",
            " [1. 0. 0.]]\n",
            "Initial vector of minimum distances from node 0 to others [100000000.0, 0, 100000000.0]\n",
            "Explored initial paths [False, False, False] \n",
            "\n",
            "Node  1 marked as visited\n",
            " At neighbour  0\n",
            "Min distance is:  1.0\n",
            " At neighbour  1\n",
            " At neighbour  2\n",
            "Node  0 marked as visited\n",
            " At neighbour  0\n",
            " At neighbour  1\n",
            " At neighbour  2\n",
            "Min distance is:  2.0\n",
            "Node  2 marked as visited\n",
            " At neighbour  0\n",
            " At neighbour  1\n",
            " At neighbour  2\n",
            "Final distance_from_source_node_to_any_other_node_vector [1.0, 0, 2.0]\n",
            "Source node  \tTarget_node,\tDistance from Source\n",
            "1 \t\t 0 \t\t 1.0\n",
            "1 \t\t 1 \t\t 0\n",
            "1 \t\t 2 \t\t 2.0\n"
          ]
        }
      ]
    },
    {
      "cell_type": "markdown",
      "source": [
        "#Floyd-Warshall"
      ],
      "metadata": {
        "id": "wINJa3NzyBCd"
      }
    },
    {
      "cell_type": "code",
      "source": [
        "class FloydWarshall_algorithm():\n",
        "\n",
        "  def __init__(self, G):\n",
        "  \n",
        "          self.num_nodes = int(G.number_of_nodes())\n",
        "          self.adjacency = np.array(nx.to_numpy_matrix(G))\n",
        "          print('The H30 matrix\\n',  self.adjacency)\n",
        "          #add some random weights to the adjency to mimick the weightred graph\n",
        "          self.weights=  np.random.randint(5,9,size=(self.adjacency.shape[0],self.adjacency.shape[0]))\n",
        "          #self.adjacency=self.adjacency*self.weights\n",
        "          self.adjacency[self.adjacency==0] = np.inf\n",
        "          self.adjacency[range(self.num_nodes), range(self.num_nodes)] = 0\n",
        "          print('Initial weighted adj matrix  with some random weight integer added and infinity where there s no edge\\n',self.adjacency )\n",
        "          self.max=np.inf\n",
        "          self.dist=list(map(lambda i: list(map(lambda j: j, i)), self.adjacency))\n",
        "\n",
        "  def floydWarshall(self):\n",
        "      for k in range(self.num_nodes):\n",
        "          # pick all nodes as source one by one\n",
        "          for i in range(self.num_nodes):\n",
        "              # Pick all nodes as destination for the above picked source\n",
        "              for j in range(self.num_nodes):\n",
        "                  # If node k is on the shortest path from i to j, then update the value of dist[i][j]\n",
        "                  self.dist[i][j] = min(self.dist[i][j],\n",
        "                                  self.dist[i][k] + self.dist[k][j]\n",
        "                                  )\n",
        "      self.printSolution(self.dist)\n",
        "  \n",
        "  # A utility function to print the solution\n",
        "  def printSolution(self,dist):\n",
        "      print(\"Following matrix shows the shortest distances\\\n",
        "  between every pair of nodes\")\n",
        "      for i in range(self.num_nodes):\n",
        "          for j in range(self.num_nodes):\n",
        "              if(dist[i][j] == self.max):\n",
        "                  print(\"%2s\" % (\"INF\"), end=\"\")\n",
        "              else:\n",
        "                  print(\"%2d \" % (dist[i][j]), end='')\n",
        "          print(\" \")\n",
        "      return dist[i][j]\n",
        "  \n",
        "  def __call__(self):\n",
        "        self.floydWarshall()"
      ],
      "metadata": {
        "id": "Ce-IIxP1yAdS"
      },
      "execution_count": 24,
      "outputs": []
    },
    {
      "cell_type": "code",
      "source": [],
      "metadata": {
        "id": "uTWpS3Mgjxp7"
      },
      "execution_count": null,
      "outputs": []
    },
    {
      "cell_type": "code",
      "source": [
        "run=FloydWarshall_algorithm(G1.to_directed())\n",
        "run()"
      ],
      "metadata": {
        "colab": {
          "base_uri": "https://localhost:8080/"
        },
        "id": "TjXLjYfTyAhM",
        "outputId": "b1c91fa3-4f96-43ac-d8f6-bc32d4c4191a"
      },
      "execution_count": 75,
      "outputs": [
        {
          "output_type": "stream",
          "name": "stdout",
          "text": [
            "The H30 matrix\n",
            " [[0. 1. 1.]\n",
            " [1. 0. 0.]\n",
            " [1. 0. 0.]]\n",
            "Initial weighted adj matrix  with some random weight integer added and infinity where there s no edge\n",
            " [[ 0.  1.  1.]\n",
            " [ 1.  0. inf]\n",
            " [ 1. inf  0.]]\n",
            "Following matrix shows the shortest distances  between every pair of nodes\n",
            " 0  1  1  \n",
            " 1  0  2  \n",
            " 1  2  0  \n"
          ]
        }
      ]
    },
    {
      "cell_type": "markdown",
      "source": [],
      "metadata": {
        "id": "2f9JmU2tkh7o"
      }
    },
    {
      "cell_type": "code",
      "source": [
        "G2.to_directed()"
      ],
      "metadata": {
        "colab": {
          "base_uri": "https://localhost:8080/"
        },
        "id": "fqoJ5-jRY007",
        "outputId": "1182bedb-5a26-47c9-981d-ce5ca8959e9d"
      },
      "execution_count": 76,
      "outputs": [
        {
          "output_type": "execute_result",
          "data": {
            "text/plain": [
              "<networkx.classes.digraph.DiGraph at 0x7f43df2eeed0>"
            ]
          },
          "metadata": {},
          "execution_count": 76
        }
      ]
    },
    {
      "cell_type": "code",
      "source": [
        "G2.edges"
      ],
      "metadata": {
        "id": "WoGA8lxQZ1p7"
      },
      "execution_count": null,
      "outputs": []
    },
    {
      "cell_type": "code",
      "source": [
        "np.array(H2O_adjacency).shape[0]"
      ],
      "metadata": {
        "id": "oQ2QEp5iUeZh"
      },
      "execution_count": null,
      "outputs": []
    },
    {
      "cell_type": "markdown",
      "source": [
        "#Function to work with NX graphs\n",
        "\n"
      ],
      "metadata": {
        "id": "PtnZZiaQ3Ooo"
      }
    },
    {
      "cell_type": "markdown",
      "source": [
        "## Implementation based on https://ieeexplore.ieee.org/stamp/stamp.jsp?tp=&arnumber=1565664&tag=1"
      ],
      "metadata": {
        "id": "KNFdUUvbsyPa"
      }
    },
    {
      "cell_type": "markdown",
      "source": [
        "https://github.com/emanuele/jstsp2015/blob/master/gk_shortest_path.py\n",
        "https://networkx.org/documentation/networkx-1.9/_modules/networkx/algorithms/shortest_paths/dense.html#floyd_warshall_numpy"
      ],
      "metadata": {
        "id": "MhYRS2MQ4eRx"
      }
    },
    {
      "cell_type": "code",
      "source": [
        "def compare(g_1, g_2, verbose=False,nodelist=None):\n",
        "        \"\"\"Compute the kernel value (similarity) between two graphs.\n",
        "        Parameters\n",
        "        ----------\n",
        "        g1 : networkx.Graph\n",
        "            First graph.\n",
        "        g2 : networkx.Graph\n",
        "            Second graph.\n",
        "        Returns\n",
        "        -------\n",
        "        k : The similarity value between g1 and g2.\n",
        "        \"\"\"\n",
        "        # Diagonal superior matrix of the floyd warshall shortest\n",
        "        # paths:\n",
        "        A = nx.to_numpy_matrix(g_1,nodelist=nodelist, nonedge=np.inf, multigraph_weight=min,weight='weight')\n",
        "        B= nx.to_numpy_matrix(g_2,nodelist=nodelist,nonedge=np.inf, multigraph_weight=min,weight='weight')\n",
        "        s1 = np.triu(s1, k=1)\n",
        "        count1,val1 = np.unique(s1, return_counts=True)\n",
        "\n",
        "        s2 = np.triu(s2, k=1)\n",
        "        count2,val2 =  np.unique(s2, return_counts=True)\n",
        "\n",
        "        # Copy into arrays with the same length the non-zero shortests\n",
        "        # paths:\n",
        "        e1 = np.zeros(max(len(val1), len(val2)) - 1)\n",
        "        e1[range(0, len(val1)-1)] = val1[1:]\n",
        "\n",
        "        e2 = np.zeros(max(len(val1), len(val2)) - 1)\n",
        "        e2[range(0, len(val2)-1)] = val2[1:]\n",
        "\n",
        "        \n",
        "        return np.sum(e1 * e2)\n",
        "\n",
        "\n",
        "def compare_normalized(g_1, g_2, verbose=False):\n",
        "        \"\"\"Compute the normalized kernel value between two graphs.\n",
        "        A normalized version of the kernel is given by the equation:\n",
        "        k_norm(g1, g2) = k(g1, g2) / sqrt(k(g1,g1) * k(g2,g2))\n",
        "        Parameters\n",
        "        ----------\n",
        "        g1 : networkx.Graph\n",
        "            First graph.\n",
        "        g2 : networkx.Graph\n",
        "            Second graph.\n",
        "        Returns\n",
        "        -------\n",
        "        k : The similarity value between g1 and g2.\n",
        "        \"\"\"\n",
        "        return compare(g_1, g_2) / (np.sqrt(compare(g_1, g_1) *\n",
        "                                                 compare(g_2, g_2)))"
      ],
      "metadata": {
        "id": "Vf5bEtPxWJGA"
      },
      "execution_count": 73,
      "outputs": []
    },
    {
      "cell_type": "code",
      "source": [],
      "metadata": {
        "id": "f_FvlExL3R6f"
      },
      "execution_count": null,
      "outputs": []
    },
    {
      "cell_type": "markdown",
      "source": [
        "## Testing to see if we get a similar score using custom implementation "
      ],
      "metadata": {
        "id": "glvJamw93SMn"
      }
    },
    {
      "cell_type": "code",
      "source": [
        "def get_nxgraph_from_adjanecy_matrix(adjacency_matrix):\n",
        "    rows, cols = np.where(adjacency_matrix == 1)\n",
        "    edges = zip(rows.tolist(), cols.tolist())\n",
        "    gr = nx.Graph()\n",
        "    all_rows = range(0, adjacency_matrix.shape[0])\n",
        "    for n in all_rows:\n",
        "        gr.add_node(n)\n",
        "    gr.add_edges_from(edges)\n",
        "    gr.add_edges_from(edges)\n",
        "    return gr\n"
      ],
      "metadata": {
        "id": "aWoBVcxX2npQ"
      },
      "execution_count": 34,
      "outputs": []
    },
    {
      "cell_type": "code",
      "source": [
        "G1=get_nxgraph_from_adjanecy_matrix(np.array(H2O_adjacency))\n",
        "G2=get_nxgraph_from_adjanecy_matrix(np.array(H3O_adjacency))\n"
      ],
      "metadata": {
        "id": "n9YEv-bm4PNi"
      },
      "execution_count": 35,
      "outputs": []
    },
    {
      "cell_type": "code",
      "source": [
        "compare(G1, G2, verbose=False)"
      ],
      "metadata": {
        "colab": {
          "base_uri": "https://localhost:8080/"
        },
        "id": "Ztg5QkNL0O3-",
        "outputId": "9f42ecb4-9076-431f-d113-a7c406fe7869"
      },
      "execution_count": 36,
      "outputs": [
        {
          "output_type": "execute_result",
          "data": {
            "text/plain": [
              "9.0"
            ]
          },
          "metadata": {},
          "execution_count": 36
        }
      ]
    },
    {
      "cell_type": "code",
      "source": [
        "compare_normalized(G1, G2, verbose=False)"
      ],
      "metadata": {
        "colab": {
          "base_uri": "https://localhost:8080/"
        },
        "id": "JtG31RvN7QLt",
        "outputId": "9e55bd34-8775-451c-ff24-4d6bb729a216"
      },
      "execution_count": 31,
      "outputs": [
        {
          "output_type": "execute_result",
          "data": {
            "text/plain": [
              "0.9486832980505138"
            ]
          },
          "metadata": {},
          "execution_count": 31
        }
      ]
    },
    {
      "cell_type": "code",
      "source": [
        "G1.nodes"
      ],
      "metadata": {
        "id": "COf0Jjwz-SaZ"
      },
      "execution_count": null,
      "outputs": []
    },
    {
      "cell_type": "code",
      "source": [
        "G1.edges"
      ],
      "metadata": {
        "colab": {
          "base_uri": "https://localhost:8080/"
        },
        "id": "QEcAeBe9-VAC",
        "outputId": "bcbf1525-3e11-451a-97c2-3921e3ca9665"
      },
      "execution_count": 38,
      "outputs": [
        {
          "output_type": "execute_result",
          "data": {
            "text/plain": [
              "EdgeView([(0, 1), (0, 2)])"
            ]
          },
          "metadata": {},
          "execution_count": 38
        }
      ]
    },
    {
      "cell_type": "code",
      "source": [
        "fwm1 = np.array(nx.floyd_warshall_numpy(G1))\n",
        "print(fwm1)\n",
        "fwm1 = np.where(fwm1 == np.inf, 0, fwm1)\n",
        "fwm1 = np.where(fwm1 == np.nan, 0, fwm1)\n",
        "fwm1 = np.triu(fwm1, k=1)\n",
        "bc1 = np.bincount(fwm1.reshape(-1).astype(int))\n",
        "print(bc1)\n",
        "\n",
        "fwm2 = np.array(nx.floyd_warshall_numpy(G2))\n",
        "fwm2 = np.where(fwm2 == np.inf, 0, fwm2)\n",
        "print(fwm2)\n",
        "fwm2 = np.where(fwm2 == np.nan, 0, fwm2)\n",
        "fwm2 = np.triu(fwm2, k=1)\n",
        "print(fwm2)\n",
        "\n",
        "bc2 = np.bincount(fwm2.reshape(-1).astype(int))\n",
        "print(bc2)\n",
        "\n",
        "# Copy into arrays with the same length the non-zero shortests\n",
        "# paths:\n",
        "v1 = np.zeros(max(len(bc1), len(bc2)) - 1)\n",
        "print(v1)\n",
        "v1[range(0, len(bc1)-1)] = bc1[1:]\n",
        "print(v1)\n",
        "\n",
        "v2 = np.zeros(max(len(bc1), len(bc2)) - 1)\n",
        "print(v2)\n",
        "\n",
        "v2[range(0, len(bc2)-1)] = bc2[1:]\n",
        "print(v2)\n",
        "\n",
        " \n",
        "np.sum(v1 * v2)\n"
      ],
      "metadata": {
        "colab": {
          "base_uri": "https://localhost:8080/"
        },
        "id": "d6OdrjED7oT3",
        "outputId": "2d9a0e92-0419-4547-9cd2-104897e8098e"
      },
      "execution_count": 55,
      "outputs": [
        {
          "output_type": "stream",
          "name": "stdout",
          "text": [
            "[[0. 1. 1.]\n",
            " [1. 0. 2.]\n",
            " [1. 2. 0.]]\n",
            "[6 2 1]\n",
            "[[0. 1. 1. 1.]\n",
            " [1. 0. 2. 2.]\n",
            " [1. 2. 0. 2.]\n",
            " [1. 2. 2. 0.]]\n",
            "[[0. 1. 1. 1.]\n",
            " [0. 0. 2. 2.]\n",
            " [0. 0. 0. 2.]\n",
            " [0. 0. 0. 0.]]\n",
            "[10  3  3]\n",
            "[0. 0.]\n",
            "[2. 1.]\n",
            "[0. 0.]\n",
            "[3. 3.]\n"
          ]
        },
        {
          "output_type": "execute_result",
          "data": {
            "text/plain": [
              "9.0"
            ]
          },
          "metadata": {},
          "execution_count": 55
        }
      ]
    },
    {
      "cell_type": "code",
      "source": [],
      "metadata": {
        "id": "DwTsGJT5jtaI"
      },
      "execution_count": null,
      "outputs": []
    },
    {
      "cell_type": "code",
      "source": [
        "s1 = np.array(nx.floyd_warshall_numpy(G1))\n",
        "s2 = np.array(nx.floyd_warshall_numpy(G2))\n",
        "s1 = np.triu(s1, k=1)\n",
        "count1,val1 = np.unique(s1, return_counts=True)\n",
        "\n",
        "s2 = np.triu(s2, k=1)\n",
        "count2,val2 =  np.unique(s2, return_counts=True)\n",
        "\n",
        "# Copy into arrays with the same length the non-zero shortests\n",
        "# paths:\n",
        "e1 = np.zeros(max(len(val1), len(val2)) - 1)\n",
        "e1[range(0, len(val1)-1)] = val1[1:]\n",
        "\n",
        "e2 = np.zeros(max(len(val1), len(val2)) - 1)\n",
        "e2[range(0, len(val2)-1)] = val2[1:]\n",
        "\n",
        " \n",
        "np.sum(e1 * e2)"
      ],
      "metadata": {
        "colab": {
          "base_uri": "https://localhost:8080/"
        },
        "id": "mJlIWAuQjPrX",
        "outputId": "800e99a1-6f78-4733-ba95-80cb32ef20f2"
      },
      "execution_count": 72,
      "outputs": [
        {
          "output_type": "execute_result",
          "data": {
            "text/plain": [
              "9.0"
            ]
          },
          "metadata": {},
          "execution_count": 72
        }
      ]
    }
  ]
}