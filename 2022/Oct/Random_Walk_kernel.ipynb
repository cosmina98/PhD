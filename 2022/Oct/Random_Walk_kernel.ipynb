{
  "nbformat": 4,
  "nbformat_minor": 0,
  "metadata": {
    "colab": {
      "provenance": [],
      "collapsed_sections": [],
      "authorship_tag": "ABX9TyO0mtYKVe4RCU9N/Qv83rht",
      "include_colab_link": true
    },
    "kernelspec": {
      "name": "python3",
      "display_name": "Python 3"
    },
    "language_info": {
      "name": "python"
    }
  },
  "cells": [
    {
      "cell_type": "markdown",
      "metadata": {
        "id": "view-in-github",
        "colab_type": "text"
      },
      "source": [
        "<a href=\"https://colab.research.google.com/github/cosmina98/PhD/blob/main/2022/Oct/Random_Walk_kernel.ipynb\" target=\"_parent\"><img src=\"https://colab.research.google.com/assets/colab-badge.svg\" alt=\"Open In Colab\"/></a>"
      ]
    },
    {
      "cell_type": "code",
      "execution_count": null,
      "metadata": {
        "id": "vR0ze7t6C7mv"
      },
      "outputs": [],
      "source": [
        "!pip install grakel --quiet"
      ]
    },
    {
      "cell_type": "markdown",
      "source": [
        "# Using Grakel library"
      ],
      "metadata": {
        "id": "WfdGqFERrlpe"
      }
    },
    {
      "cell_type": "code",
      "source": [
        "from grakel import GraphKernel\n",
        "from grakel import Graph\n",
        "from grakel.kernels import WeisfeilerLehman, VertexHistogram\n",
        "from grakel import ShortestPath"
      ],
      "metadata": {
        "id": "iYzpRp48VEYS"
      },
      "execution_count": null,
      "outputs": []
    },
    {
      "cell_type": "markdown",
      "source": [
        "## Kernel between 2  molecules graphs "
      ],
      "metadata": {
        "id": "s4wVpqWsWKpB"
      }
    },
    {
      "cell_type": "code",
      "source": [
        "H2O_adjacency = [[0, 1, 1], [1, 0, 0], [1, 0, 0]]\n",
        "H2O_node_labels = {0: 'O', 1: 'H', 2: 'H'}\n",
        "H2O = Graph(initialization_object=H2O_adjacency, node_labels=H2O_node_labels)\n",
        "H3O_adjacency = [[0, 1, 1, 1], [1, 0, 0, 0], [1, 0, 0, 0], [1, 0, 0, 0]]\n",
        "H3O_node_labels = {0: 'O', 1: 'H', 2: 'H', 3:'H'}\n",
        "H3O = Graph(initialization_object=H3O_adjacency, node_labels=H3O_node_labels)"
      ],
      "metadata": {
        "id": "VHo5LM1JWI9T"
      },
      "execution_count": null,
      "outputs": []
    },
    {
      "cell_type": "markdown",
      "source": [
        "The shortest path kernel which counts the number of shortest paths of equal length in two graphs "
      ],
      "metadata": {
        "id": "0RG27crRZKXb"
      }
    },
    {
      "cell_type": "code",
      "source": [
        "\n",
        "sp_kernel =  ShortestPath()\n",
        "#compute the graph representtaion between water and itself\n",
        "sp_kernel.fit_transform([H2O])\n",
        "#compute the kernel value between the graoh representation of water and hydronium\n",
        "sp_kernel.transform([H3O])"
      ],
      "metadata": {
        "id": "U52gAq7kWJBp",
        "colab": {
          "base_uri": "https://localhost:8080/"
        },
        "outputId": "41ca5243-43ff-4ba3-c16a-38347630c83f"
      },
      "execution_count": null,
      "outputs": [
        {
          "output_type": "execute_result",
          "data": {
            "text/plain": [
              "array([[24.]])"
            ]
          },
          "metadata": {},
          "execution_count": 90
        }
      ]
    },
    {
      "cell_type": "markdown",
      "source": [
        "## Apply normalisation"
      ],
      "metadata": {
        "id": "J03teVokZpm1"
      }
    },
    {
      "cell_type": "code",
      "source": [
        "sp_kernel = ShortestPath(normalize=True)\n",
        "sp_kernel.fit_transform([H2O])\n",
        "sp_kernel.transform([H3O])"
      ],
      "metadata": {
        "colab": {
          "base_uri": "https://localhost:8080/"
        },
        "id": "0Ep0u5H_X1xL",
        "outputId": "4cd3f9fe-706d-4e53-9413-0b646caadb4a"
      },
      "execution_count": null,
      "outputs": [
        {
          "output_type": "execute_result",
          "data": {
            "text/plain": [
              "array([[0.94280904]])"
            ]
          },
          "metadata": {},
          "execution_count": 27
        }
      ]
    },
    {
      "cell_type": "markdown",
      "source": [
        "# Implementation based on https://ieeexplore.ieee.org/stamp/stamp.jsp?tp=&arnumber=1565664&tag=1"
      ],
      "metadata": {
        "id": "KNFdUUvbsyPa"
      }
    },
    {
      "cell_type": "code",
      "source": [
        "import numpy as np\n",
        "import networkx as nx\n"
      ],
      "metadata": {
        "id": "jX_Xfu5FtpVf"
      },
      "execution_count": null,
      "outputs": []
    },
    {
      "cell_type": "markdown",
      "source": [
        "#Function to work with NX graph"
      ],
      "metadata": {
        "id": "PtnZZiaQ3Ooo"
      }
    },
    {
      "cell_type": "code",
      "source": [],
      "metadata": {
        "id": "t_4iyzN24dgA"
      },
      "execution_count": null,
      "outputs": []
    },
    {
      "cell_type": "markdown",
      "source": [
        "https://github.com/emanuele/jstsp2015/blob/master/gk_shortest_path.py\n",
        "https://networkx.org/documentation/networkx-1.9/_modules/networkx/algorithms/shortest_paths/dense.html#floyd_warshall_numpy"
      ],
      "metadata": {
        "id": "MhYRS2MQ4eRx"
      }
    },
    {
      "cell_type": "code",
      "source": [
        "def compare(g_1, g_2, verbose=False,nodelist=None):\n",
        "        \"\"\"Compute the kernel value (similarity) between two graphs.\n",
        "        Parameters\n",
        "        ----------\n",
        "        g1 : networkx.Graph\n",
        "            First graph.\n",
        "        g2 : networkx.Graph\n",
        "            Second graph.\n",
        "        Returns\n",
        "        -------\n",
        "        k : The similarity value between g1 and g2.\n",
        "        \"\"\"\n",
        "        # Diagonal superior matrix of the floyd warshall shortest\n",
        "        # paths:\n",
        "        A = nx.to_numpy_matrix(g_1,nodelist=nodelist, nonedge=np.inf, multigraph_weight=min,weight='weight')\n",
        "        B= nx.to_numpy_matrix(g_2,nodelist=nodelist,nonedge=np.inf, multigraph_weight=min,weight='weight')\n",
        "        n,m = A.shape\n",
        "        p,q=B.shape\n",
        "        I = np.identity(n)\n",
        "        A[I==1] = 0 # diagonal elements should be zero\n",
        "        I2=np.identity(p)\n",
        "        B[I2==1]=0\n",
        "        for i in range(n):\n",
        "            A = np.minimum(A, A[i,:] + A[:,i])\n",
        "        for i in range(p):\n",
        "            B = np.minimum(B, B[i,:] + B[:,i])\n",
        "\n",
        "        fwm1 =np.array(A)\n",
        "        #replace nan inf with 0\n",
        "        fwm1 = np.where(fwm1 == np.inf, 0, fwm1)\n",
        "        fwm1 = np.where(fwm1 == np.nan, 0, fwm1)\n",
        "        #Upper triangle \n",
        "        fwm1 = np.triu(fwm1, k=1)\n",
        "        #\n",
        "        bc1 = np.bincount(fwm1.reshape(-1).astype(int))\n",
        "\n",
        "        fwm2 = np.array(B)\n",
        "         #replace nan inf with 0\n",
        "        fwm2 = np.where(fwm2 == np.inf, 0, fwm2)\n",
        "        fwm2 = np.where(fwm2 == np.nan, 0, fwm2)\n",
        "        fwm2 = np.triu(fwm2, k=1)\n",
        "        bc2 = np.bincount(fwm2.reshape(-1).astype(int))\n",
        "\n",
        "        # Copy into arrays with the same length the non-zero shortests\n",
        "        # paths:\n",
        "        v1 = np.zeros(max(len(bc1), len(bc2)) - 1)\n",
        "        v1[range(0, len(bc1)-1)] = bc1[1:]\n",
        "\n",
        "        v2 = np.zeros(max(len(bc1), len(bc2)) - 1)\n",
        "        v2[range(0, len(bc2)-1)] = bc2[1:]\n",
        "\n",
        "        return np.sum(v1 * v2)\n",
        "\n",
        "\n",
        "def compare_normalized(g_1, g_2, verbose=False):\n",
        "        \"\"\"Compute the normalized kernel value between two graphs.\n",
        "        A normalized version of the kernel is given by the equation:\n",
        "        k_norm(g1, g2) = k(g1, g2) / sqrt(k(g1,g1) * k(g2,g2))\n",
        "        Parameters\n",
        "        ----------\n",
        "        g1 : networkx.Graph\n",
        "            First graph.\n",
        "        g2 : networkx.Graph\n",
        "            Second graph.\n",
        "        Returns\n",
        "        -------\n",
        "        k : The similarity value between g1 and g2.\n",
        "        \"\"\"\n",
        "        return compare(g_1, g_2) / (np.sqrt(compare(g_1, g_1) *\n",
        "                                                 compare(g_2, g_2)))"
      ],
      "metadata": {
        "id": "Vf5bEtPxWJGA"
      },
      "execution_count": null,
      "outputs": []
    },
    {
      "cell_type": "code",
      "source": [],
      "metadata": {
        "id": "f_FvlExL3R6f"
      },
      "execution_count": null,
      "outputs": []
    },
    {
      "cell_type": "markdown",
      "source": [
        "## Testing to see if we get a similar score using custom implementation "
      ],
      "metadata": {
        "id": "glvJamw93SMn"
      }
    },
    {
      "cell_type": "code",
      "source": [
        "def get_nxgraph_from_adjanecy_matrix(adjacency_matrix):\n",
        "    rows, cols = np.where(adjacency_matrix == 1)\n",
        "    edges = zip(rows.tolist(), cols.tolist())\n",
        "    gr = nx.Graph()\n",
        "    all_rows = range(0, adjacency_matrix.shape[0])\n",
        "    for n in all_rows:\n",
        "        gr.add_node(n)\n",
        "    gr.add_edges_from(edges)\n",
        "    gr.add_edges_from(edges)\n",
        "    return gr\n"
      ],
      "metadata": {
        "id": "aWoBVcxX2npQ"
      },
      "execution_count": null,
      "outputs": []
    },
    {
      "cell_type": "code",
      "source": [
        "G1=get_nxgraph_from_adjanecy_matrix(np.array(H2O_adjacency))\n",
        "G2=get_nxgraph_from_adjanecy_matrix(np.array(H3O_adjacency))\n"
      ],
      "metadata": {
        "id": "n9YEv-bm4PNi"
      },
      "execution_count": null,
      "outputs": []
    },
    {
      "cell_type": "code",
      "source": [
        "compare(G1, G2, verbose=False)"
      ],
      "metadata": {
        "colab": {
          "base_uri": "https://localhost:8080/"
        },
        "id": "Ztg5QkNL0O3-",
        "outputId": "cd10d0f0-2f99-4284-db90-c651b2f6dddf"
      },
      "execution_count": null,
      "outputs": [
        {
          "output_type": "execute_result",
          "data": {
            "text/plain": [
              "9.0"
            ]
          },
          "metadata": {},
          "execution_count": 140
        }
      ]
    },
    {
      "cell_type": "code",
      "source": [
        "compare_normalized(G1, G2, verbose=False)"
      ],
      "metadata": {
        "colab": {
          "base_uri": "https://localhost:8080/"
        },
        "id": "JtG31RvN7QLt",
        "outputId": "12721d90-fd0e-4daa-e969-2fe60ed3c07f"
      },
      "execution_count": null,
      "outputs": [
        {
          "output_type": "execute_result",
          "data": {
            "text/plain": [
              "0.9486832980505138"
            ]
          },
          "metadata": {},
          "execution_count": 155
        }
      ]
    },
    {
      "cell_type": "code",
      "source": [
        "G1.nodes"
      ],
      "metadata": {
        "colab": {
          "base_uri": "https://localhost:8080/"
        },
        "id": "COf0Jjwz-SaZ",
        "outputId": "96ddbdea-1b6d-45ce-db8a-7aea16d3b2c2"
      },
      "execution_count": null,
      "outputs": [
        {
          "output_type": "execute_result",
          "data": {
            "text/plain": [
              "NodeView((0, 1, 2))"
            ]
          },
          "metadata": {},
          "execution_count": 106
        }
      ]
    },
    {
      "cell_type": "code",
      "source": [
        "G1.edges"
      ],
      "metadata": {
        "colab": {
          "base_uri": "https://localhost:8080/"
        },
        "id": "QEcAeBe9-VAC",
        "outputId": "ac5cccc2-d594-40ac-cdab-51498f7f8065"
      },
      "execution_count": null,
      "outputs": [
        {
          "output_type": "execute_result",
          "data": {
            "text/plain": [
              "EdgeView([(0, 1), (0, 2)])"
            ]
          },
          "metadata": {},
          "execution_count": 107
        }
      ]
    },
    {
      "cell_type": "code",
      "source": [
        "fwm1 = np.array(nx.floyd_warshall_numpy(G1))\n",
        "print(fwm1)\n",
        "fwm1 = np.where(fwm1 == np.inf, 0, fwm1)\n",
        "fwm1 = np.where(fwm1 == np.nan, 0, fwm1)\n",
        "fwm1 = np.triu(fwm1, k=1)\n",
        "bc1 = np.bincount(fwm1.reshape(-1).astype(int))\n",
        "\n",
        "fwm2 = np.array(nx.floyd_warshall_numpy(G2))\n",
        "fwm2 = np.where(fwm2 == np.inf, 0, fwm2)\n",
        "fwm2 = np.where(fwm2 == np.nan, 0, fwm2)\n",
        "fwm2 = np.triu(fwm2, k=1)\n",
        "bc2 = np.bincount(fwm2.reshape(-1).astype(int))\n",
        "\n",
        "# Copy into arrays with the same length the non-zero shortests\n",
        "# paths:\n",
        "v1 = np.zeros(max(len(bc1), len(bc2)) - 1)\n",
        "v1[range(0, len(bc1)-1)] = bc1[1:]\n",
        "\n",
        "v2 = np.zeros(max(len(bc1), len(bc2)) - 1)\n",
        "v2[range(0, len(bc2)-1)] = bc2[1:]\n",
        "\n",
        " \n",
        "np.sum(v1 * v2)\n"
      ],
      "metadata": {
        "colab": {
          "base_uri": "https://localhost:8080/"
        },
        "id": "d6OdrjED7oT3",
        "outputId": "38e50fc2-d174-4129-85f6-885b0e9a93b5"
      },
      "execution_count": null,
      "outputs": [
        {
          "output_type": "stream",
          "name": "stdout",
          "text": [
            "[[0. 1. 1.]\n",
            " [1. 0. 2.]\n",
            " [1. 2. 0.]]\n"
          ]
        },
        {
          "output_type": "execute_result",
          "data": {
            "text/plain": [
              "9.0"
            ]
          },
          "metadata": {},
          "execution_count": 147
        }
      ]
    },
    {
      "cell_type": "code",
      "source": [
        "v1 * v2"
      ],
      "metadata": {
        "colab": {
          "base_uri": "https://localhost:8080/"
        },
        "id": "Jg68SIlj7oWV",
        "outputId": "49f36cac-50a3-4b75-9519-96051ac9695a"
      },
      "execution_count": null,
      "outputs": [
        {
          "output_type": "execute_result",
          "data": {
            "text/plain": [
              "array([6., 3.])"
            ]
          },
          "metadata": {},
          "execution_count": 104
        }
      ]
    },
    {
      "cell_type": "code",
      "source": [
        "A = nx.to_numpy_matrix(G1, nonedge=np.inf)\n",
        "n,m = A.shape\n",
        "I = np.identity(n)\n",
        "print(A)\n",
        "A[I==1] = 0 # diagonal elements should be zero\n",
        "for i in range(n):\n",
        "    A = np.minimum(A, A[i,:] + A[:,i])\n",
        "print(A)\n",
        "\n",
        "np.tril(fwm2, k=1).reshape(-1).astype(int)"
      ],
      "metadata": {
        "colab": {
          "base_uri": "https://localhost:8080/"
        },
        "id": "sOIY6OYyDvp9",
        "outputId": "1402d0eb-16e4-4ce7-fcca-a8d56c657dc2"
      },
      "execution_count": null,
      "outputs": [
        {
          "output_type": "stream",
          "name": "stdout",
          "text": [
            "[[inf  1.  1.]\n",
            " [ 1. inf inf]\n",
            " [ 1. inf inf]]\n",
            "[[0. 1. 1.]\n",
            " [1. 0. 2.]\n",
            " [1. 2. 0.]]\n"
          ]
        },
        {
          "output_type": "execute_result",
          "data": {
            "text/plain": [
              "array([0, 1, 0, 0, 0, 0, 2, 0, 0, 0, 0, 2, 0, 0, 0, 0])"
            ]
          },
          "metadata": {},
          "execution_count": 170
        }
      ]
    },
    {
      "cell_type": "code",
      "source": [
        "nx.to_numpy_matrix(G1, nonedge=np.inf)"
      ],
      "metadata": {
        "colab": {
          "base_uri": "https://localhost:8080/"
        },
        "id": "CnNlaNAhEAJK",
        "outputId": "9c13f22d-7c3f-4525-a6d5-4f687709fb97"
      },
      "execution_count": null,
      "outputs": [
        {
          "output_type": "execute_result",
          "data": {
            "text/plain": [
              "matrix([[inf,  1.,  1.],\n",
              "        [ 1., inf, inf],\n",
              "        [ 1., inf, inf]])"
            ]
          },
          "metadata": {},
          "execution_count": 111
        }
      ]
    },
    {
      "cell_type": "code",
      "source": [],
      "metadata": {
        "id": "UC3g3-pFVaNg"
      },
      "execution_count": null,
      "outputs": []
    },
    {
      "cell_type": "code",
      "source": [
        "G1"
      ],
      "metadata": {
        "colab": {
          "base_uri": "https://localhost:8080/"
        },
        "id": "7NAo9rhdEALd",
        "outputId": "6bffb7e5-06f3-4a5a-9c11-93ce31d75e8a"
      },
      "execution_count": null,
      "outputs": [
        {
          "output_type": "execute_result",
          "data": {
            "text/plain": [
              "<networkx.classes.graph.Graph at 0x7fd9991d6950>"
            ]
          },
          "metadata": {},
          "execution_count": 112
        }
      ]
    },
    {
      "cell_type": "code",
      "source": [
        "H2O_adjacency"
      ],
      "metadata": {
        "colab": {
          "base_uri": "https://localhost:8080/"
        },
        "id": "c2tJcHSrEANc",
        "outputId": "69dcbc6c-b3ea-4531-d99f-dcca3f994c9d"
      },
      "execution_count": null,
      "outputs": [
        {
          "output_type": "execute_result",
          "data": {
            "text/plain": [
              "[[0, 1, 1], [1, 0, 0], [1, 0, 0]]"
            ]
          },
          "metadata": {},
          "execution_count": 113
        }
      ]
    },
    {
      "cell_type": "code",
      "source": [],
      "metadata": {
        "colab": {
          "base_uri": "https://localhost:8080/"
        },
        "id": "2-3KMPO6FjSq",
        "outputId": "396e1001-4d48-48c4-c311-2e30f1086d29"
      },
      "execution_count": null,
      "outputs": [
        {
          "output_type": "stream",
          "name": "stdout",
          "text": [
            "Bincount output : \n",
            "  [0 4 1 0 0 0 1 0 0 1]\n",
            "size of bin :  10 \n",
            "\n",
            "Bincount output : \n",
            "  [0 1 3 0 1 5]\n",
            "size of bin :  6 \n",
            "\n",
            "Bincount output : \n",
            "  [0 1 3 0 1 5 0 0 0 0]\n",
            "size of bin :  10 \n",
            "\n"
          ]
        }
      ]
    }
  ]
}