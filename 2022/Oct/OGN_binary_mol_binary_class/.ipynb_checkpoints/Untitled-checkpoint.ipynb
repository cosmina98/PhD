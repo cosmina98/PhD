{
 "cells": [
  {
   "cell_type": "code",
   "execution_count": 1,
   "id": "8296ec42",
   "metadata": {},
   "outputs": [
    {
     "name": "stdout",
     "output_type": "stream",
     "text": [
      "Looking in links: https://data.pyg.org/whl/torch-${TORCH}+${CUDA}.html\n",
      "Requirement already satisfied: torch-scatter in c:\\users\\cs843\\anaconda3\\lib\\site-packages (2.0.9)\n",
      "Looking in links: https://data.pyg.org/whl/torch-${TORCH}+${CUDA}.html\n",
      "Requirement already satisfied: torch-sparse in c:\\users\\cs843\\anaconda3\\lib\\site-packages (0.6.14)\n",
      "Requirement already satisfied: scipy in c:\\users\\cs843\\anaconda3\\lib\\site-packages (from torch-sparse) (1.7.3)\n",
      "Requirement already satisfied: numpy<1.23.0,>=1.16.5 in c:\\users\\cs843\\anaconda3\\lib\\site-packages (from scipy->torch-sparse) (1.21.5)\n",
      "Requirement already satisfied: torch-geometric in c:\\users\\cs843\\anaconda3\\lib\\site-packages (2.1.0)\n",
      "Requirement already satisfied: pyparsing in c:\\users\\cs843\\anaconda3\\lib\\site-packages (from torch-geometric) (3.0.4)\n",
      "Requirement already satisfied: jinja2 in c:\\users\\cs843\\anaconda3\\lib\\site-packages (from torch-geometric) (3.0.3)\n",
      "Requirement already satisfied: scikit-learn in c:\\users\\cs843\\anaconda3\\lib\\site-packages (from torch-geometric) (1.1.1)\n",
      "Requirement already satisfied: tqdm in c:\\users\\cs843\\anaconda3\\lib\\site-packages (from torch-geometric) (4.64.0)\n",
      "Requirement already satisfied: requests in c:\\users\\cs843\\anaconda3\\lib\\site-packages (from torch-geometric) (2.28.1)\n",
      "Requirement already satisfied: numpy in c:\\users\\cs843\\anaconda3\\lib\\site-packages (from torch-geometric) (1.21.5)\n",
      "Requirement already satisfied: scipy in c:\\users\\cs843\\anaconda3\\lib\\site-packages (from torch-geometric) (1.7.3)\n",
      "Requirement already satisfied: MarkupSafe>=2.0 in c:\\users\\cs843\\anaconda3\\lib\\site-packages (from jinja2->torch-geometric) (2.1.1)\n",
      "Requirement already satisfied: certifi>=2017.4.17 in c:\\users\\cs843\\anaconda3\\lib\\site-packages (from requests->torch-geometric) (2022.6.15)\n",
      "Requirement already satisfied: idna<4,>=2.5 in c:\\users\\cs843\\anaconda3\\lib\\site-packages (from requests->torch-geometric) (3.3)\n",
      "Requirement already satisfied: urllib3<1.27,>=1.21.1 in c:\\users\\cs843\\anaconda3\\lib\\site-packages (from requests->torch-geometric) (1.26.11)\n",
      "Requirement already satisfied: charset-normalizer<3,>=2 in c:\\users\\cs843\\anaconda3\\lib\\site-packages (from requests->torch-geometric) (2.0.4)\n",
      "Requirement already satisfied: threadpoolctl>=2.0.0 in c:\\users\\cs843\\anaconda3\\lib\\site-packages (from scikit-learn->torch-geometric) (2.2.0)\n",
      "Requirement already satisfied: joblib>=1.0.0 in c:\\users\\cs843\\anaconda3\\lib\\site-packages (from scikit-learn->torch-geometric) (1.1.0)\n",
      "Requirement already satisfied: colorama in c:\\users\\cs843\\anaconda3\\lib\\site-packages (from tqdm->torch-geometric) (0.4.5)\n"
     ]
    }
   ],
   "source": [
    "!pip install -U ogb --quiet\n",
    "!pip install urllib3 --quiet\n",
    "!pip install dgl --quiet\n",
    "!pip install rdkit --quiet\n",
    "!pip install plotnine --quiet\n",
    "!pip install torch-scatter -f https://data.pyg.org/whl/torch-${TORCH}+${CUDA}.html\n",
    "!pip install torch-sparse -f https://data.pyg.org/whl/torch-${TORCH}+${CUDA}.html\n",
    "!pip install torch-geometric\n",
    "!pip install -q git+https://github.com/pyg-team/pytorch_geometric.git"
   ]
  },
  {
   "cell_type": "code",
   "execution_count": 2,
   "id": "031988ce",
   "metadata": {},
   "outputs": [],
   "source": [
    "import os\n",
    "import torch\n",
    "from ogb.linkproppred import PygLinkPropPredDataset\n",
    "from ogb.nodeproppred import PygNodePropPredDataset\n",
    "from ogb.graphproppred import PygGraphPropPredDataset\n",
    "from torch_geometric.data import InMemoryDataset\n",
    "from ogb.nodeproppred import NodePropPredDataset\n",
    "from ogb.graphproppred.mol_encoder import AtomEncoder, BondEncoder\n",
    "import numpy as np\n",
    "import pandas as pd\n",
    "import urllib3\n",
    "import outdated\n",
    "import dgl\n",
    "import sklearn\n",
    "import torch.nn as nn\n",
    "import torch.nn.functional as F\n",
    "from torch.autograd import Variable\n",
    "from torch_geometric.nn import GraphConv\n",
    "import matplotlib.pyplot as plt\n",
    "from ogb.graphproppred import PygGraphPropPredDataset, Evaluator\n",
    "from torch_geometric.data import DataLoader\n",
    "from params import gnn_params, rgcn_params\n",
    "from gcn import GCN"
   ]
  },
  {
   "cell_type": "raw",
   "id": "f7079fd1",
   "metadata": {},
   "source": [
    "This dataset is a  molecular property prediction datasets of a small size. It is  adopted from the MoleculeNet [1], and is among the largest of the MoleculeNet datasets.All the molecules are pre-processed using RDKit.\n",
    "Each graph represents a molecule, where nodes are atoms, and edges are chemical bonds."
   ]
  },
  {
   "attachments": {
    "image.png": {
     "image/png": "[encoded data removed]"
    }
   },
   "cell_type": "markdown",
   "id": "ec585205",
   "metadata": {},
   "source": [
    "![image.png](attachment:image.png)"
   ]
  },
  {
   "cell_type": "code",
   "execution_count": 3,
   "id": "d6c23b56",
   "metadata": {},
   "outputs": [
    {
     "name": "stdout",
     "output_type": "stream",
     "text": [
      "Downloading http://snap.stanford.edu/ogb/data/graphproppred/csv_mol_download/hiv.zip\n"
     ]
    },
    {
     "name": "stderr",
     "output_type": "stream",
     "text": [
      "Downloaded 0.00 GB: 100%|████████████████████████████████████████████████████████████████| 3/3 [00:04<00:00,  1.46s/it]\n",
      "Processing...\n"
     ]
    },
    {
     "name": "stdout",
     "output_type": "stream",
     "text": [
      "Extracting dataset/hiv.zip\n",
      "Loading necessary files...\n",
      "This might take a while.\n",
      "Processing graphs...\n"
     ]
    },
    {
     "name": "stderr",
     "output_type": "stream",
     "text": [
      "100%|█████████████████████████████████████████████████████████████████████████| 41127/41127 [00:00<00:00, 94336.16it/s]\n"
     ]
    },
    {
     "name": "stdout",
     "output_type": "stream",
     "text": [
      "Converting graphs into PyG objects...\n"
     ]
    },
    {
     "name": "stderr",
     "output_type": "stream",
     "text": [
      "100%|█████████████████████████████████████████████████████████████████████████| 41127/41127 [00:00<00:00, 49340.98it/s]\n"
     ]
    },
    {
     "name": "stdout",
     "output_type": "stream",
     "text": [
      "Saving...\n"
     ]
    },
    {
     "name": "stderr",
     "output_type": "stream",
     "text": [
      "Done!\n",
      "C:\\Users\\cs843\\Anaconda3\\lib\\site-packages\\torch_geometric\\deprecation.py:12: UserWarning: 'data.DataLoader' is deprecated, use 'loader.DataLoader' instead\n",
      "  warnings.warn(out)\n"
     ]
    }
   ],
   "source": [
    "dataset = PygGraphPropPredDataset(name = \"ogbg-molhiv\", root = 'dataset/')\n",
    "split_idx = dataset.get_idx_split() \n",
    "train_loader = DataLoader(dataset[split_idx[\"train\"]], batch_size=32, shuffle=True)\n",
    "valid_loader = DataLoader(dataset[split_idx[\"valid\"]], batch_size=32, shuffle=False)\n",
    "test_loader = DataLoader(dataset[split_idx[\"test\"]], batch_size=32, shuffle=False)"
   ]
  },
  {
   "cell_type": "code",
   "execution_count": 4,
   "id": "fca6f3aa",
   "metadata": {},
   "outputs": [
    {
     "data": {
      "text/plain": [
       "Data(edge_index=[2, 40], edge_attr=[40, 3], x=[19, 9], y=[1, 1], num_nodes=19)"
      ]
     },
     "execution_count": 4,
     "metadata": {},
     "output_type": "execute_result"
    }
   ],
   "source": [
    "dataset[0]"
   ]
  },
  {
   "cell_type": "code",
   "execution_count": 5,
   "id": "8714bb9f",
   "metadata": {},
   "outputs": [
    {
     "data": {
      "text/plain": [
       "['__call__',\n",
       " '__cat_dim__',\n",
       " '__class__',\n",
       " '__contains__',\n",
       " '__copy__',\n",
       " '__deepcopy__',\n",
       " '__delattr__',\n",
       " '__delitem__',\n",
       " '__dict__',\n",
       " '__dir__',\n",
       " '__doc__',\n",
       " '__eq__',\n",
       " '__format__',\n",
       " '__ge__',\n",
       " '__getattr__',\n",
       " '__getattribute__',\n",
       " '__getitem__',\n",
       " '__getstate__',\n",
       " '__gt__',\n",
       " '__hash__',\n",
       " '__inc__',\n",
       " '__init__',\n",
       " '__init_subclass__',\n",
       " '__iter__',\n",
       " '__le__',\n",
       " '__len__',\n",
       " '__lt__',\n",
       " '__module__',\n",
       " '__ne__',\n",
       " '__new__',\n",
       " '__reduce__',\n",
       " '__reduce_ex__',\n",
       " '__repr__',\n",
       " '__setattr__',\n",
       " '__setitem__',\n",
       " '__setstate__',\n",
       " '__sizeof__',\n",
       " '__str__',\n",
       " '__subclasshook__',\n",
       " '__weakref__',\n",
       " '_all_edges_to_layout',\n",
       " '_edge_attr_cls',\n",
       " '_edge_to_layout',\n",
       " '_get_edge_index',\n",
       " '_get_tensor',\n",
       " '_get_tensor_size',\n",
       " '_multi_get_tensor',\n",
       " '_put_edge_index',\n",
       " '_put_tensor',\n",
       " '_remove_tensor',\n",
       " '_store',\n",
       " '_tensor_attr_cls',\n",
       " '_to_type',\n",
       " 'apply',\n",
       " 'apply_',\n",
       " 'batch',\n",
       " 'clone',\n",
       " 'coalesce',\n",
       " 'contains_isolated_nodes',\n",
       " 'contains_self_loops',\n",
       " 'contiguous',\n",
       " 'coo',\n",
       " 'cpu',\n",
       " 'csc',\n",
       " 'csr',\n",
       " 'cuda',\n",
       " 'debug',\n",
       " 'detach',\n",
       " 'detach_',\n",
       " 'edge_attr',\n",
       " 'edge_index',\n",
       " 'edge_stores',\n",
       " 'edge_weight',\n",
       " 'from_dict',\n",
       " 'get_all_edge_attrs',\n",
       " 'get_all_tensor_attrs',\n",
       " 'get_edge_index',\n",
       " 'get_tensor',\n",
       " 'get_tensor_size',\n",
       " 'has_isolated_nodes',\n",
       " 'has_self_loops',\n",
       " 'is_coalesced',\n",
       " 'is_cuda',\n",
       " 'is_directed',\n",
       " 'is_edge_attr',\n",
       " 'is_node_attr',\n",
       " 'is_undirected',\n",
       " 'items',\n",
       " 'keys',\n",
       " 'multi_get_tensor',\n",
       " 'node_stores',\n",
       " 'num_edge_features',\n",
       " 'num_edges',\n",
       " 'num_faces',\n",
       " 'num_features',\n",
       " 'num_node_features',\n",
       " 'num_nodes',\n",
       " 'pin_memory',\n",
       " 'pos',\n",
       " 'put_edge_index',\n",
       " 'put_tensor',\n",
       " 'record_stream',\n",
       " 'remove_tensor',\n",
       " 'requires_grad_',\n",
       " 'share_memory_',\n",
       " 'size',\n",
       " 'stores',\n",
       " 'stores_as',\n",
       " 'subgraph',\n",
       " 'to',\n",
       " 'to_dict',\n",
       " 'to_heterogeneous',\n",
       " 'to_namedtuple',\n",
       " 'update_tensor',\n",
       " 'validate',\n",
       " 'view',\n",
       " 'x',\n",
       " 'y']"
      ]
     },
     "execution_count": 5,
     "metadata": {},
     "output_type": "execute_result"
    }
   ],
   "source": [
    "dir(dataset.data)"
   ]
  },
  {
   "cell_type": "code",
   "execution_count": 6,
   "id": "a62deacf",
   "metadata": {},
   "outputs": [
    {
     "data": {
      "text/plain": [
       "True"
      ]
     },
     "execution_count": 6,
     "metadata": {},
     "output_type": "execute_result"
    }
   ],
   "source": [
    "dataset.data.has_isolated_nodes()"
   ]
  },
  {
   "cell_type": "code",
   "execution_count": 14,
   "id": "2da5fc01",
   "metadata": {},
   "outputs": [
    {
     "name": "stdout",
     "output_type": "stream",
     "text": [
      "Dataset: ogbg-molhiv\n",
      "Num. nodes: 1049163 (train=32901, val=4113, test=4113, other=1008036)\n",
      "Num. edges: 1129688\n",
      "Num. node features: 9\n",
      "Num. classes: 2\n",
      "Dataset len.: 41127\n",
      " \n"
     ]
    }
   ],
   "source": [
    "num_nodes = dataset.data.num_nodes\n",
    "num_edges = dataset.data.num_edges // 2\n",
    "train_len = len(dataset[split_idx[\"train\"]])\n",
    "val_len =len(dataset[split_idx[\"valid\"]])\n",
    "test_len = len(dataset[split_idx[\"test\"]])\n",
    "other_len = num_nodes - train_len - val_len - test_len\n",
    "print(f\"Dataset: {dataset.name}\")\n",
    "print(f\"Num. nodes: {num_nodes} (train={train_len}, val={val_len}, test={test_len}, other={other_len})\")\n",
    "print(f\"Num. edges: {num_edges}\")\n",
    "print(f\"Num. node features: {dataset.num_node_features}\")\n",
    "print(f\"Num. classes: {dataset.num_classes}\")\n",
    "print(f\"Dataset len.: {dataset.len()}\")\n",
    "print(\" \")"
   ]
  },
  {
   "cell_type": "code",
   "execution_count": null,
   "id": "cee520ee",
   "metadata": {},
   "outputs": [],
   "source": [
    "len(train_loader)"
   ]
  },
  {
   "cell_type": "markdown",
   "id": "dc997eb5",
   "metadata": {},
   "source": [
    " Input node features are 9-dimensional, containing atomic number and chirality, as well as other additional atom features such as formal charge and whether the atom is in the ring or not. "
   ]
  },
  {
   "cell_type": "code",
   "execution_count": null,
   "id": "c13587a5",
   "metadata": {},
   "outputs": [],
   "source": [
    "len(dataset.data.x)\n",
    "dataset.data.x[0]"
   ]
  },
  {
   "cell_type": "markdown",
   "id": "7c085fd0",
   "metadata": {},
   "source": [
    "As looking at the functions in the code: https://github.com/snap-stanford/ogb/blob/master/ogb/utils/features.py  belioeve that the futures:\n",
    "1) atomic_number <br> \n",
    "2)chirality<br> \n",
    "3)degree <br> \n",
    "4)formal charge<br> \n",
    "5)num of Hs<br> \n",
    "6)num of radical_e <br> \n",
    "7)hybridisation<br> \n",
    "8)is aromatic<br> \n",
    "9)is_in_ring<br> \n",
    "\n",
    "uses same atom_feature as atom_to_feature_vector test<br> \n",
    "atom_feature_dict = atom_feature_vector_to_dict(atom_feature)<br> <br> \n",
    "assert atom_feature_dict['atomic_num'] == 6<br> \n",
    "assert atom_feature_dict['chirality'] == 'CHI_TETRAHEDRAL_CCW'<br> \n",
    "assert atom_feature_dict['degree'] == 4<br> \n",
    "assert atom_feature_dict['formal_charge'] == 0<br>\n",
    "assert atom_feature_dict['num_h'] == 1<br> \n",
    "assert atom_feature_dict['num_rad_e'] == 0<br> \n",
    "assert atom_feature_dict['hybridization'] == 'SP3'<br> \n",
    "assert atom_feature_dict['is_aromatic'] == False<br> \n",
    "assert atom_feature_dict['is_in_ring'] == False<br> \n",
    "\n"
   ]
  },
  {
   "cell_type": "markdown",
   "id": "ab62ffcf",
   "metadata": {},
   "source": [
    "AtomEncoder and BondEncoder. They can be used as follows to embed raw atom and bond features to obtain atom_emb and bond_emb"
   ]
  },
  {
   "cell_type": "markdown",
   "id": "9eb36e5e",
   "metadata": {},
   "source": [
    "Edge features <br> \n",
    "1)_Bond Type \n",
    "2)Bond Stereo\n",
    "3)Is conjugated "
   ]
  },
  {
   "cell_type": "code",
   "execution_count": null,
   "id": "c21c94f0",
   "metadata": {},
   "outputs": [],
   "source": [
    "atom_encoder = AtomEncoder(emb_dim = 100)\n",
    "bond_encoder = BondEncoder(emb_dim = 100)\n",
    "atom_emb = atom_encoder(x) # x is the input atom feature\n",
    "edge_emb = bond_encoder(edge_attr) # edge_attr is the input edge feature"
   ]
  },
  {
   "cell_type": "markdown",
   "id": "ad86de1d",
   "metadata": {},
   "source": [
    "# Prediction task as in the paper: https://github.com/thibmonsel/DL_Project/blob/master/GNNs_Project.pdf"
   ]
  },
  {
   "cell_type": "markdown",
   "id": "31273fdc",
   "metadata": {},
   "source": [
    "The task is to predict the target molecular properties as accurately as possible, where the molecular properties are cast as binary labels, e.g, whether a molecule inhibits HIV virus replication or not. "
   ]
  },
  {
   "cell_type": "markdown",
   "id": "b116f127",
   "metadata": {},
   "source": [
    "# Training and Testing loops"
   ]
  },
  {
   "cell_type": "code",
   "execution_count": 10,
   "id": "5e6a472e",
   "metadata": {},
   "outputs": [],
   "source": [
    "def train(model, device, train_loader, loss_fn, optimizer):\n",
    "    model.train()\n",
    "    \n",
    "    running_train_loss = 0\n",
    "    for step, data in enumerate(train_loader):\n",
    "        optimizer.zero_grad()\n",
    "        data = data.to(device)\n",
    "        out = model(data)\n",
    "        loss = loss_fn(out, data.y.to(out.dtype))\n",
    "        running_train_loss += loss.item() * len(data.y)\n",
    "        loss.backward()\n",
    "        optimizer.step()\n",
    "    return running_train_loss / len(train_loader.dataset)\n",
    "\n",
    "def eval(model,device, loader, evaluator):\n",
    "    model.eval()\n",
    "        \n",
    "    running_eval_loss = 0\n",
    "    concat_prediction, concat_target = torch.empty(0,1), torch.empty(0,1)\n",
    "    with torch.no_grad():\n",
    "        for step, data in enumerate(loader):\n",
    "            optimizer.zero_grad()\n",
    "            data = data.to(device)\n",
    "            out = model(data)\n",
    "            loss = loss_fn(out, data.y.to(out.dtype))\n",
    "            running_eval_loss += loss.item() * len(data.y)\n",
    "            concat_prediction = torch.cat((concat_prediction, out.cpu()), 0)\n",
    "            concat_target = torch.cat((concat_target, data.y.cpu()), 0)\n",
    "        \n",
    "        input_dict = {\"y_true\": concat_target.numpy(), \"y_pred\": concat_prediction.numpy()}\n",
    "    return evaluator.eval(input_dict)['rocauc'], running_eval_loss / len(loader.dataset)"
   ]
  },
  {
   "cell_type": "code",
   "execution_count": 11,
   "id": "1ecef3b4",
   "metadata": {},
   "outputs": [],
   "source": [
    "evaluator = Evaluator(\"ogbg-molhiv\") "
   ]
  },
  {
   "cell_type": "code",
   "execution_count": 8,
   "id": "1e898f3b",
   "metadata": {},
   "outputs": [
    {
     "data": {
      "text/plain": [
       "<ogb.graphproppred.evaluate.Evaluator at 0x2a04e538580>"
      ]
     },
     "execution_count": 8,
     "metadata": {},
     "output_type": "execute_result"
    }
   ],
   "source": [
    "evaluator"
   ]
  },
  {
   "cell_type": "code",
   "execution_count": 12,
   "id": "0251b057",
   "metadata": {},
   "outputs": [],
   "source": [
    "device = torch.device(\"cuda:0\" if torch.cuda.is_available() else \"cpu\")\n",
    "EPOCHS = 1\n",
    "parameters = gnn_params \n",
    "model = GCN(*parameters.values())"
   ]
  },
  {
   "cell_type": "code",
   "execution_count": 13,
   "id": "bb8f491c",
   "metadata": {},
   "outputs": [
    {
     "name": "stdout",
     "output_type": "stream",
     "text": [
      "Run 1:\n",
      "Epoch: 000, Loss: 0.1609, Train: 0.7110, Val: 0.7153, Test: 0.6854\n",
      "Run 2:\n",
      "Epoch: 000, Loss: 0.1641, Train: 0.7109, Val: 0.7319, Test: 0.6707\n",
      "Run 3:\n",
      "Epoch: 000, Loss: 0.1621, Train: 0.6945, Val: 0.6988, Test: 0.6832\n",
      "Run 4:\n",
      "Epoch: 000, Loss: 0.1604, Train: 0.6936, Val: 0.6952, Test: 0.7145\n",
      "Run 5:\n",
      "Epoch: 000, Loss: 0.1587, Train: 0.6954, Val: 0.7349, Test: 0.6891\n",
      "Run 6:\n",
      "Epoch: 000, Loss: 0.1607, Train: 0.7146, Val: 0.6927, Test: 0.6865\n",
      "Run 7:\n",
      "Epoch: 000, Loss: 0.1625, Train: 0.7035, Val: 0.7091, Test: 0.6893\n",
      "Run 8:\n",
      "Epoch: 000, Loss: 0.1594, Train: 0.7036, Val: 0.6913, Test: 0.6988\n",
      "Run 9:\n",
      "Epoch: 000, Loss: 0.1598, Train: 0.7087, Val: 0.7351, Test: 0.7001\n",
      "Run 10:\n",
      "Epoch: 000, Loss: 0.1596, Train: 0.7210, Val: 0.7139, Test: 0.6938\n",
      "===========================\n",
      "model parameters : {'in_channel': 100, 'number_hidden_layers': 0, 'aggregator': 'max', 'hidden_out_channel': 64, 'out_channel': 32, 'pool_layer': 'mean', 'k': 1}\n",
      "Final Test: 0.6911 ± 0.0117\n"
     ]
    }
   ],
   "source": [
    "model.to(device)\n",
    "\n",
    "loss_fn = torch.nn.BCEWithLogitsLoss()\n",
    "\n",
    "test_perfs = []\n",
    "for run in range(1,11) :\n",
    "    print(f'Run {run}:')\n",
    "\n",
    "    model.reset_parameters()\n",
    "    optimizer = torch.optim.SGD(model.parameters(), lr = 0.05) \n",
    "\n",
    "    results = {'highest_valid': 0,\n",
    "            'final_train': 0,\n",
    "            'final_test': 0,\n",
    "            'highest_train': 0}\n",
    "\n",
    "    for epoch in range(EPOCHS):\n",
    "        loss = train(model, device, train_loader, loss_fn, optimizer) \n",
    "        train_roc, _ = eval(model,device, train_loader, evaluator)\n",
    "        valid_roc, _ = eval(model,device, valid_loader, evaluator)\n",
    "        test_roc, _ = eval(model, device, test_loader, evaluator)\n",
    "\n",
    "        if train_roc > results['highest_train']:\n",
    "            results['highest_train'] = train_roc\n",
    "\n",
    "        if valid_roc > results['highest_valid']:\n",
    "            results['highest_valid'] = valid_roc\n",
    "            results['final_train'] = train_roc\n",
    "            results['final_test'] = test_roc\n",
    "\n",
    "        print(f'Epoch: {epoch:03d}, Loss: {loss:.4f}, '\n",
    "          f'Train: {train_roc:.4f}, Val: {valid_roc:.4f}, '\n",
    "          f'Test: {test_roc:.4f}') \n",
    "\n",
    "    #print(\"Post training Results {}\".format(results))\n",
    "\n",
    "    test_perfs.append(results['final_test'])\n",
    "\n",
    "test_perf = torch.tensor(test_perfs)\n",
    "print('===========================')\n",
    "print(\"model parameters : {}\".format(parameters))\n",
    "print(f'Final Test: {test_perf.mean():.4f} ± {test_perf.std():.4f}')\n"
   ]
  },
  {
   "cell_type": "code",
   "execution_count": null,
   "id": "e6eb37bd",
   "metadata": {},
   "outputs": [],
   "source": []
  },
  {
   "cell_type": "code",
   "execution_count": null,
   "id": "10fe8c6c",
   "metadata": {},
   "outputs": [],
   "source": []
  }
 ],
 "metadata": {
  "kernelspec": {
   "display_name": "Python 3 (ipykernel)",
   "language": "python",
   "name": "python3"
  },
  "language_info": {
   "codemirror_mode": {
    "name": "ipython",
    "version": 3
   },
   "file_extension": ".py",
   "mimetype": "text/x-python",
   "name": "python",
   "nbconvert_exporter": "python",
   "pygments_lexer": "ipython3",
   "version": "3.9.12"
  }
 },
 "nbformat": 4,
 "nbformat_minor": 5
}
