{
 "cells": [
  {
   "cell_type": "code",
   "execution_count": 1,
   "id": "a22cab67",
   "metadata": {},
   "outputs": [],
   "source": [
    "from Random_Walk import Random_Walk\n",
    "from Shortest_Path import Shortest_Path\n",
    "from Weisfeiler_Lehman import Weisfeiler_Lehman\n",
    "#from WL_Version1 import Weisfeiler_Lehman\n",
    "\n",
    "from WL_Transformer import WL_Transformer\n",
    "from WL_edge import WL_edge\n",
    "from WL_Shortest_Path import WL_Shortest_Path\n",
    "\n",
    "import numpy as np \n",
    "import networkx as nx\n",
    "from numpy.linalg import inv,multi_dot\n",
    "from scipy.linalg import expm\n",
    "from matplotlib import pyplot as plt\n",
    "from networkx.drawing.nx_pydot import graphviz_layout\n",
    "import pydot\n",
    "from utils import hierarchy_pos,get_nxgraph_from_adjanecy_matrix,count_commons\n",
    "from utils import load_data , create_loaders \n",
    "import copy\n",
    "from collections import Counter\n",
    "from sklearn.pipeline import Pipeline\n",
    "from sklearn.model_selection import train_test_split\n",
    "from sklearn.svm import SVC\n",
    "from sklearn.metrics import accuracy_score"
   ]
  },
  {
   "cell_type": "code",
   "execution_count": 2,
   "id": "a8e02f6b",
   "metadata": {},
   "outputs": [],
   "source": [
    "from torch_geometric.nn import global_mean_pool\n",
    "import numpy as np\n",
    "import networkx as nx\n",
    "import os\n",
    "import torchnet as tnt\n",
    "import torch.nn.functional as F\n",
    "import torch.nn as nn\n",
    "import torch\n",
    "import wget\n",
    "import zipfile"
   ]
  },
  {
   "cell_type": "code",
   "execution_count": 3,
   "id": "f8baec35",
   "metadata": {},
   "outputs": [
    {
     "data": {
      "text/plain": [
       "'\\n# %%\\nwget.download(\\n    \")\\n\\nfile_name = \\'MUTAG.zip\\'\\nzip_File = zipfile.ZipFile(file_name, \\'r\\')\\n# \\nzip_File.extractall()  \\n\\n'"
      ]
     },
     "execution_count": 3,
     "metadata": {},
     "output_type": "execute_result"
    }
   ],
   "source": [
    "\"\"\"\n",
    "# %%\n",
    "wget.download(\n",
    "    \")\n",
    "\n",
    "file_name = 'MUTAG.zip'\n",
    "zip_File = zipfile.ZipFile(file_name, 'r')\n",
    "# \n",
    "zip_File.extractall()  \n",
    "\n",
    "\"\"\"\n",
    "# %%"
   ]
  },
  {
   "cell_type": "markdown",
   "id": "225ea42a",
   "metadata": {},
   "source": [
    "Node labels:\n",
    "\n",
    "  0  C\\\n",
    "  1  N\\\n",
    "  2  O\\\n",
    "  3  F\\\n",
    "  4  I\\\n",
    "  5  Cl\\\n",
    "  6  Br\\\n",
    "\\\n",
    "Edge labels:\\\n",
    "\\\n",
    "  0  aromatic\\\n",
    "  1  single\\\n",
    "  2  double\\\n",
    "  3  triple\\"
   ]
  },
  {
   "cell_type": "code",
   "execution_count": 4,
   "id": "7cd9294e",
   "metadata": {},
   "outputs": [
    {
     "name": "stdout",
     "output_type": "stream",
     "text": [
      "Data are ready\n"
     ]
    }
   ],
   "source": [
    "dataset = load_data(path='./MUTAG/', ds_name='MUTAG',\n",
    "                    use_node_labels=True, use_edge_labels=True, max_node_label=7,max_edge_label=4)\n",
    "\n",
    "\n",
    "#pytorch loaders\n",
    "train_dataset, val_dataset = create_loaders(\n",
    "    dataset, batch_size=1, split_id=150, offset=0)\n",
    "print('Data are ready')"
   ]
  },
  {
   "cell_type": "code",
   "execution_count": 6,
   "id": "028d90e6",
   "metadata": {},
   "outputs": [],
   "source": [
    "\n",
    "X=np.array(dataset,dtype=object)[:,0]\n",
    "y=np.array(dataset,dtype=object)[:,1]\n",
    "G_train, G_test, y_train, y_test = train_test_split(X, y, test_size=0.1, random_state=42)"
   ]
  },
  {
   "cell_type": "code",
   "execution_count": 5,
   "id": "758f5a91",
   "metadata": {},
   "outputs": [
    {
     "data": {
      "text/plain": [
       "EdgeDataView([(1, 2, {'edge_label': array([1., 0., 0., 0.])}), (1, 6, {'edge_label': array([1., 0., 0., 0.])}), (2, 3, {'edge_label': array([1., 0., 0., 0.])}), (3, 4, {'edge_label': array([1., 0., 0., 0.])}), (4, 5, {'edge_label': array([1., 0., 0., 0.])}), (4, 10, {'edge_label': array([1., 0., 0., 0.])}), (5, 6, {'edge_label': array([1., 0., 0., 0.])}), (5, 7, {'edge_label': array([1., 0., 0., 0.])}), (7, 8, {'edge_label': array([1., 0., 0., 0.])}), (8, 9, {'edge_label': array([1., 0., 0., 0.])}), (9, 10, {'edge_label': array([1., 0., 0., 0.])}), (9, 14, {'edge_label': array([1., 0., 0., 0.])}), (10, 11, {'edge_label': array([1., 0., 0., 0.])}), (11, 12, {'edge_label': array([1., 0., 0., 0.])}), (12, 13, {'edge_label': array([1., 0., 0., 0.])}), (13, 14, {'edge_label': array([1., 0., 0., 0.])}), (13, 15, {'edge_label': array([0., 1., 0., 0.])}), (15, 16, {'edge_label': array([0., 0., 1., 0.])}), (15, 17, {'edge_label': array([0., 1., 0., 0.])})])"
      ]
     },
     "execution_count": 5,
     "metadata": {},
     "output_type": "execute_result"
    }
   ],
   "source": [
    "dataset[0][0].edges(data=True)"
   ]
  },
  {
   "cell_type": "code",
   "execution_count": null,
   "id": "15fb7c3d",
   "metadata": {},
   "outputs": [],
   "source": []
  },
  {
   "cell_type": "code",
   "execution_count": 26,
   "id": "497bf4d6",
   "metadata": {},
   "outputs": [],
   "source": [
    "#GN=[G1,G2,G3,G4]\n",
    "kernel2=Weisfeiler_Lehman(normalise=True,h=0,node_label='attr_dict')\n",
    "k_train=kernel2.fit(list(G_train))\n",
    "k_test=kernel2.fit_transform(list(G_test))"
   ]
  },
  {
   "cell_type": "code",
   "execution_count": 27,
   "id": "cddab3a1",
   "metadata": {
    "scrolled": true
   },
   "outputs": [
    {
     "name": "stdout",
     "output_type": "stream",
     "text": [
      "Accuracy: 63.16%\n"
     ]
    }
   ],
   "source": [
    "# Uses the SVM classifier to perform classification\n",
    "clf = SVC(kernel='precomputed')\n",
    "clf.fit(np.asarray(k_train), np.ravel(y_train).astype(int))\n",
    "y_pred = clf.predict(np.asarray(k_test))\n",
    "\n",
    "# Computes and prints the classification accuracy\n",
    "acc = accuracy_score(np.array(y_test,dtype=int), np.array(y_pred,dtype=int))\n",
    "print(\"Accuracy:\", str(round(acc*100, 2)) + \"%\")"
   ]
  },
  {
   "cell_type": "code",
   "execution_count": 28,
   "id": "ffc0007f",
   "metadata": {},
   "outputs": [],
   "source": [
    "#GN=[G1,G2,G3,G4]\n",
    "kernel2=WL_edge(normalise=True,h=0,edge_label='edge_label',node_label='attr_dict')\n",
    "k_train=kernel2.fit(list(G_train))\n",
    "k_test=kernel2.fit_transform(list(G_test))"
   ]
  },
  {
   "cell_type": "code",
   "execution_count": 29,
   "id": "399cb711",
   "metadata": {},
   "outputs": [
    {
     "name": "stdout",
     "output_type": "stream",
     "text": [
      "Accuracy: 89.47%\n"
     ]
    }
   ],
   "source": [
    "# Uses the SVM classifier to perform classification\n",
    "clf = SVC(kernel='precomputed')\n",
    "clf.fit(np.asarray(k_train), np.ravel(y_train).astype(int))\n",
    "y_pred = clf.predict(np.asarray(k_test))\n",
    "# Computes and prints the classification accuracy\n",
    "acc = accuracy_score(np.array(y_test,dtype=int), np.array(y_pred,dtype=int))\n",
    "print(\"Accuracy:\", str(round(acc*100, 2)) + \"%\")"
   ]
  },
  {
   "cell_type": "code",
   "execution_count": 38,
   "id": "163fb3d2",
   "metadata": {},
   "outputs": [],
   "source": [
    "kernel=Shortest_Path(normalise=True)\n",
    "k_train=kernel.fit(list(G_train))\n",
    "k_test=kernel.fit_transform(list(G_test))\n",
    "#dictionary=kernel.get_phi()"
   ]
  },
  {
   "cell_type": "code",
   "execution_count": 40,
   "id": "a0b86a6b",
   "metadata": {},
   "outputs": [
    {
     "name": "stdout",
     "output_type": "stream",
     "text": [
      "Accuracy: 94.74%\n"
     ]
    }
   ],
   "source": [
    "# Uses the SVM classifier to perform classification\n",
    "clf = SVC(kernel='precomputed')\n",
    "clf.fit(np.asarray(k_train), np.ravel(y_train).astype(int))\n",
    "y_pred = clf.predict(np.asarray(k_test))\n",
    "\n",
    "# Computes and prints the classification accuracy\n",
    "acc = accuracy_score(np.array(y_test,dtype=int), np.array(y_pred,dtype=int))\n",
    "print(\"Accuracy:\", str(round(acc*100, 2)) + \"%\")"
   ]
  },
  {
   "cell_type": "code",
   "execution_count": 35,
   "id": "922093a1",
   "metadata": {},
   "outputs": [
    {
     "data": {
      "text/plain": [
       "169"
      ]
     },
     "execution_count": 35,
     "metadata": {},
     "output_type": "execute_result"
    }
   ],
   "source": [
    "len(y_pred)"
   ]
  },
  {
   "cell_type": "code",
   "execution_count": 36,
   "id": "963aa374",
   "metadata": {},
   "outputs": [
    {
     "data": {
      "text/plain": [
       "(169, 169)"
      ]
     },
     "execution_count": 36,
     "metadata": {},
     "output_type": "execute_result"
    }
   ],
   "source": [
    "k_test.shape"
   ]
  },
  {
   "cell_type": "code",
   "execution_count": 37,
   "id": "d2864289",
   "metadata": {},
   "outputs": [
    {
     "data": {
      "text/plain": [
       "array([1, 1, -1, 1, 1, 1, 1, -1, -1, -1, 1, -1, 1, -1, 1, 1, -1, 1, 1],\n",
       "      dtype=object)"
      ]
     },
     "execution_count": 37,
     "metadata": {},
     "output_type": "execute_result"
    }
   ],
   "source": [
    "y_test"
   ]
  },
  {
   "cell_type": "code",
   "execution_count": null,
   "id": "c1030581",
   "metadata": {},
   "outputs": [],
   "source": []
  }
 ],
 "metadata": {
  "kernelspec": {
   "display_name": "Python 3 (ipykernel)",
   "language": "python",
   "name": "python3"
  },
  "language_info": {
   "codemirror_mode": {
    "name": "ipython",
    "version": 3
   },
   "file_extension": ".py",
   "mimetype": "text/x-python",
   "name": "python",
   "nbconvert_exporter": "python",
   "pygments_lexer": "ipython3",
   "version": "3.9.12"
  }
 },
 "nbformat": 4,
 "nbformat_minor": 5
}
