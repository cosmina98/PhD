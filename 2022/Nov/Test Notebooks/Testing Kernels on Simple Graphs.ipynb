{
 "cells": [
  {
   "cell_type": "code",
   "execution_count": 1,
   "id": "a22cab67",
   "metadata": {},
   "outputs": [],
   "source": [
    "import sys\n",
    "import os\n",
    "import numpy as np \n",
    "import networkx as nx\n",
    "current = os.getcwd()\n",
    "parent = os.path.dirname(current)\n",
    "sys.path.append(parent)\n",
    "from numpy.linalg import inv,multi_dot\n",
    "from scipy.linalg import expm\n",
    "from matplotlib import pyplot as plt\n",
    "from networkx.drawing.nx_pydot import graphviz_layout\n",
    "import pydot\n",
    "import copy\n",
    "from collections import Counter\n",
    "from sklearn.pipeline import Pipeline\n",
    "import Kernels\n",
    "from Kernels.Random_Walk import Random_Walk\n",
    "from Kernels.Shortest_Path import Shortest_Path\n",
    "from Kernels.Weisfeiler_Lehman import Weisfeiler_Lehman\n",
    "#from Kernels.WL_Version1 import Weisfeiler_Lehman\n",
    "from Kernels.WL_Transformer import WL_Transformer\n",
    "from Kernels.WL_edge import WL_edge\n",
    "from Kernels.WL_Shortest_Path import WL_Shortest_Path\n",
    "from Kernels.three_node_graphlet_kernel import Three_node_graphlet_kernel\n",
    "from Kernels.k_node_graphlet_kernel import k_node_graphlet_kernel\n",
    "from Kernels.Shortest_Path_Labelled import Shortest_Path_Labelled\n",
    "from Kernels.utils import hierarchy_pos,get_nxgraph_from_adjanecy_matrix,count_commons,transform_labels_to_integers_from_a_list_of_graphs\n"
   ]
  },
  {
   "cell_type": "code",
   "execution_count": 23,
   "id": "690d8fcf",
   "metadata": {},
   "outputs": [],
   "source": [
    "H2O_adjacency = [[0, 1, 1], [1, 0, 0], [1, 0, 0]]\n",
    "H3O_adjacency = [[0, 1, 1, 1], [1, 0, 0, 0], [1, 0, 0, 0], [1, 0, 0, 0]]\n",
    "teacher_adj=[[0,1,1,0,0],[1,0,0,1,0],[1,0,0,0,1],[0,1,0,0,0],[0,0,1,0,0]]\n",
    "teacher_2_adj=[[0,1,1,0],[1,0,0,1],[1,0,0,1],[0,1,1,0]]\n",
    "bn=[[0., 1., 0., 0., 0., 1., 0., 0., 0., 0., 0., 0., 0., 0., 0., 0.,\n",
    "         0.],\n",
    "        [1., 0., 1., 0., 0., 0., 0., 0., 0., 0., 0., 0., 0., 0., 0., 0.,\n",
    "         0.],\n",
    "        [0., 1., 0., 1., 0., 0., 0., 0., 0., 0., 0., 0., 0., 0., 0., 0.,\n",
    "         0.],\n",
    "        [0., 0., 1., 0., 1., 0., 0., 0., 0., 1., 0., 0., 0., 0., 0., 0.,\n",
    "         0.],\n",
    "        [0., 0., 0., 1., 0., 1., 1., 0., 0., 0., 0., 0., 0., 0., 0., 0.,\n",
    "         0.],\n",
    "        [1., 0., 0., 0., 1., 0., 0., 0., 0., 0., 0., 0., 0., 0., 0., 0.,\n",
    "         0.],\n",
    "        [0., 0., 0., 0., 1., 0., 0., 1., 0., 0., 0., 0., 0., 0., 0., 0.,\n",
    "         0.],\n",
    "        [0., 0., 0., 0., 0., 0., 1., 0., 1., 0., 0., 0., 0., 0., 0., 0.,\n",
    "         0.],\n",
    "        [0., 0., 0., 0., 0., 0., 0., 1., 0., 1., 0., 0., 0., 1., 0., 0.,\n",
    "         0.],\n",
    "        [0., 0., 0., 1., 0., 0., 0., 0., 1., 0., 1., 0., 0., 0., 0., 0.,\n",
    "         0.],\n",
    "        [0., 0., 0., 0., 0., 0., 0., 0., 0., 1., 0., 1., 0., 0., 0., 0.,\n",
    "         0.],\n",
    "        [0., 0., 0., 0., 0., 0., 0., 0., 0., 0., 1., 0., 1., 0., 0., 0.,\n",
    "         0.],\n",
    "        [0., 0., 0., 0., 0., 0., 0., 0., 0., 0., 0., 1., 0., 1., 1., 0.,\n",
    "         0.],\n",
    "        [0., 0., 0., 0., 0., 0., 0., 0., 1., 0., 0., 0., 1., 0., 0., 0.,\n",
    "         0.],\n",
    "        [0., 0., 0., 0., 0., 0., 0., 0., 0., 0., 0., 0., 1., 0., 0., 1.,\n",
    "         1.],\n",
    "        [0., 0., 0., 0., 0., 0., 0., 0., 0., 0., 0., 0., 0., 0., 1., 0.,\n",
    "         0.],\n",
    "        [0., 0., 0., 0., 0., 0., 0., 0., 0., 0., 0., 0., 0., 0., 1., 0.,\n",
    "         0.]]"
   ]
  },
  {
   "cell_type": "code",
   "execution_count": 24,
   "id": "bfebf8ab",
   "metadata": {},
   "outputs": [],
   "source": [
    "G1=get_nxgraph_from_adjanecy_matrix(np.array(H2O_adjacency))\n",
    "G2=get_nxgraph_from_adjanecy_matrix(np.array(H3O_adjacency))\n",
    "G3=get_nxgraph_from_adjanecy_matrix(np.array(teacher_adj))\n",
    "G4=get_nxgraph_from_adjanecy_matrix(np.array(teacher_2_adj))\n",
    "G5=get_nxgraph_from_adjanecy_matrix(np.array(teacher_2_adj))\n",
    "G6=get_nxgraph_from_adjanecy_matrix(np.array(bn))"
   ]
  },
  {
   "cell_type": "code",
   "execution_count": 25,
   "id": "9ba797af",
   "metadata": {},
   "outputs": [
    {
     "name": "stdout",
     "output_type": "stream",
     "text": [
      "[(0, {'node_label': 'O'}), (1, {'node_label': 'H'}), (2, {'node_label': 'H'})]\n"
     ]
    },
    {
     "data": {
      "image/png": "[encoded data removed]",
      "text/plain": [
       "<Figure size 144x144 with 1 Axes>"
      ]
     },
     "metadata": {},
     "output_type": "display_data"
    },
    {
     "name": "stdout",
     "output_type": "stream",
     "text": [
      "[(0, {'node_label': 'O'}), (1, {'node_label': 'H'}), (2, {'node_label': 'H'}), (3, {'node_label': 'H'})]\n"
     ]
    },
    {
     "data": {
      "image/png": "[encoded data removed]",
      "text/plain": [
       "<Figure size 144x144 with 1 Axes>"
      ]
     },
     "metadata": {},
     "output_type": "display_data"
    },
    {
     "name": "stdout",
     "output_type": "stream",
     "text": [
      "[(0, {'node_label': '0'}), (1, {'node_label': '1'}), (2, {'node_label': '2'}), (3, {'node_label': '3'}), (4, {'node_label': '3'})]\n"
     ]
    },
    {
     "data": {
      "image/png": "[encoded data removed]",
      "text/plain": [
       "<Figure size 144x144 with 1 Axes>"
      ]
     },
     "metadata": {},
     "output_type": "display_data"
    },
    {
     "name": "stdout",
     "output_type": "stream",
     "text": [
      "[(0, {'node_label': '0'}), (1, {'node_label': '1'}), (2, {'node_label': '2'}), (3, {'node_label': '3'})]\n"
     ]
    },
    {
     "data": {
      "image/png": "[encoded data removed]",
      "text/plain": [
       "<Figure size 144x144 with 1 Axes>"
      ]
     },
     "metadata": {},
     "output_type": "display_data"
    }
   ],
   "source": [
    "plt.rcParams[\"figure.figsize\"] = (2,2)\n",
    "edge_labels={(0,1): 'simple',\n",
    "            (0,2):'simple',\n",
    "             (0,3): 'double',\n",
    "             (1,3):'triple',\n",
    "             (2,4):'simple',\n",
    "             (2,3):'aromatic',\n",
    "            }\n",
    "\n",
    "\n",
    "weights={(0,1):4,\n",
    "         (0,2):3,\n",
    "         (0,3):5,\n",
    "         (1,3):1,\n",
    "         (2,4):1,\n",
    "        (2,3):3}\n",
    "nx.set_edge_attributes(G1, weights,name='weight')\n",
    "nx.set_edge_attributes(G2, weights,name='weight')\n",
    "nx.set_edge_attributes(G3, weights,name='weight')\n",
    "nx.set_edge_attributes(G4, weights,name='weight')\n",
    "\n",
    "nx.set_edge_attributes(G1, edge_labels, name='edge_label')\n",
    "nx.set_edge_attributes(G2, edge_labels, name='edge_label')\n",
    "nx.set_edge_attributes(G3, edge_labels, name='edge_label')\n",
    "nx.set_edge_attributes(G4, edge_labels, name='edge_label')\n",
    "\n",
    "G1.nodes[1]['node_label'] = 'H'\n",
    "G1.nodes[0]['node_label'] = 'O'\n",
    "G1.nodes[2]['node_label'] = 'H'\n",
    "print(G1.nodes.data())\n",
    "labels = nx.get_node_attributes(G1,'node_label')\n",
    "pos1 = nx.spring_layout(G1)\n",
    "nx.draw(G1, pos1,labels=labels,with_labels = True,width = 10, font_size=20, alpha=0.6, edge_color=\"gray\", node_shape=None)\n",
    "nx.draw_networkx_edge_labels(G1,pos1,edge_labels=nx.get_edge_attributes(G1,'edge_label'))\n",
    "plt.show()\n",
    "\n",
    "G2.nodes[1]['node_label'] = 'H'\n",
    "G2.nodes[0]['node_label'] = 'O'\n",
    "G2.nodes[2]['node_label'] = 'H'\n",
    "G2.nodes[3]['node_label'] = 'H'\n",
    "print(G2.nodes.data())\n",
    "pos2 = nx.spring_layout(G2)\n",
    "labels = nx.get_node_attributes(G2,'node_label')\n",
    "nx.draw(G2, pos2,labels=labels, with_labels = True,width = 10, font_size=20, alpha=0.6, edge_color=\"gray\", node_shape=None)\n",
    "nx.draw_networkx_edge_labels(G2,pos2,edge_labels=nx.get_edge_attributes(G2,'edge_label'))\n",
    "\n",
    "plt.show()\n",
    "G3.nodes[0]['node_label'] = '0'\n",
    "G3.nodes[1]['node_label'] = '1'\n",
    "G3.nodes[2]['node_label'] = '2'\n",
    "G3.nodes[3]['node_label'] = '3'\n",
    "G3.nodes[4]['node_label'] = '3'\n",
    "print(G3.nodes.data())\n",
    "labels = nx.get_node_attributes(G3,'node_label')\n",
    "pos3 = hierarchy_pos(G3,0)  \n",
    "nx.draw(G3, pos3,labels=labels,with_labels = True,width = 10, font_size=20, alpha=0.6, edge_color=\"gray\", node_shape=None)\n",
    "nx.draw_networkx_edge_labels(G3,pos3,edge_labels=nx.get_edge_attributes(G3,'edge_label'))\n",
    "plt.show()\n",
    "\n",
    "G4.nodes[0]['node_label'] = '0'\n",
    "G4.nodes[1]['node_label'] = '1'\n",
    "G4.nodes[2]['node_label'] = '2'\n",
    "G4.nodes[3]['node_label'] = '3'\n",
    "\n",
    "print(G4.nodes.data())\n",
    "labels = nx.get_node_attributes(G4,'node_label')\n",
    "pos4 = nx.spring_layout(G4)  \n",
    "nx.draw(G4, pos4,labels=labels,with_labels = True,width = 10, font_size=20, alpha=0.6, edge_color=\"gray\", node_shape=None)\n",
    "nx.draw_networkx_edge_labels(G4,pos4,edge_labels=nx.get_edge_attributes(G4,'edge_label'))\n",
    "plt.show()"
   ]
  },
  {
   "cell_type": "code",
   "execution_count": 10,
   "id": "0cbd3cdf",
   "metadata": {},
   "outputs": [
    {
     "name": "stdout",
     "output_type": "stream",
     "text": [
      "[(0, {'node_label': 'O'}), (1, {'node_label': 'H'}), (2, {'node_label': 'H'})]\n",
      "[(0, {'node_label': 'O'}), (1, {'node_label': 'H'}), (2, {'node_label': 'H'}), (3, {'node_label': 'H'})]\n",
      "[(0, {'node_label': '0'}), (1, {'node_label': '1'}), (2, {'node_label': '2'}), (3, {'node_label': '3'}), (4, {'node_label': '3'})]\n",
      "[(0, {'node_label': '0'}), (1, {'node_label': '1'}), (2, {'node_label': '2'}), (3, {'node_label': '3'})]\n"
     ]
    }
   ],
   "source": [
    "GN=[G1,G2,G3,G4]\n",
    "\n",
    "for g in GN:\n",
    "    print (g.nodes(data=True))"
   ]
  },
  {
   "cell_type": "code",
   "execution_count": 11,
   "id": "941db929",
   "metadata": {
    "scrolled": false
   },
   "outputs": [
    {
     "name": "stdout",
     "output_type": "stream",
     "text": [
      "[[1 1]\n",
      " [1 1]\n",
      " [1 1]\n",
      " [2 1]\n",
      " [0 0]]\n"
     ]
    }
   ],
   "source": [
    "graph_list=[G3,G4]\n",
    "GN=[G1,G2,G3,G4]\n",
    "\n",
    "pipe = Pipeline(\n",
    "    steps=[\n",
    "        (\"vectors_at_h_0\", WL_Transformer(h=0))\n",
    "    ]\n",
    ")\n",
    "transformed_graphs = pipe.fit_transform(graph_list)\n",
    "print(transformed_graphs)"
   ]
  },
  {
   "cell_type": "code",
   "execution_count": 12,
   "id": "21263af7",
   "metadata": {
    "scrolled": false
   },
   "outputs": [
    {
     "data": {
      "text/plain": [
       "array([[0.72168784, 0.91287093],\n",
       "       [0.91855865, 0.77459667]])"
      ]
     },
     "execution_count": 12,
     "metadata": {},
     "output_type": "execute_result"
    }
   ],
   "source": [
    "kernel=Shortest_Path(normalise=True)\n",
    "kernel.fit(GN[2:])\n",
    "kernel.transform(GN[:2])\n",
    "#dictionary=kernel.get_phi()"
   ]
  },
  {
   "cell_type": "code",
   "execution_count": 13,
   "id": "4945744a",
   "metadata": {},
   "outputs": [
    {
     "data": {
      "text/plain": [
       "array([[1.        , 0.85627504, 1.05021175, 0.71018381],\n",
       "       [0.85627504, 1.        , 1.38311938, 1.43237891],\n",
       "       [1.05021175, 1.38311938, 1.        , 0.73488234],\n",
       "       [0.71018381, 1.43237891, 0.73488234, 1.        ]])"
      ]
     },
     "execution_count": 13,
     "metadata": {},
     "output_type": "execute_result"
    }
   ],
   "source": [
    "kernel=Random_Walk(normalise=True, kernel_type='geometric')\n",
    "kernel.fit_transform(GN)"
   ]
  },
  {
   "cell_type": "code",
   "execution_count": 14,
   "id": "7ca92751",
   "metadata": {},
   "outputs": [
    {
     "data": {
      "text/plain": [
       "array([[1.        , 0.98994949, 0.        , 0.        ],\n",
       "       [0.98994949, 1.        , 0.        , 0.        ],\n",
       "       [0.        , 0.        , 1.        , 0.94491118],\n",
       "       [0.        , 0.        , 0.94491118, 1.        ]])"
      ]
     },
     "execution_count": 14,
     "metadata": {},
     "output_type": "execute_result"
    }
   ],
   "source": [
    "kernel2=Weisfeiler_Lehman(normalise=True,h=0,node_label='node_label')\n",
    "kernel2.fit(GN[:4])\n",
    "kernel2.transform(GN[:4])"
   ]
  },
  {
   "cell_type": "code",
   "execution_count": 16,
   "id": "b14559fe",
   "metadata": {},
   "outputs": [
    {
     "data": {
      "text/plain": [
       "array([[1.        , 0.51639778],\n",
       "       [0.51639778, 1.        ]])"
      ]
     },
     "execution_count": 16,
     "metadata": {},
     "output_type": "execute_result"
    }
   ],
   "source": [
    "kernel=WL_Shortest_Path(normalise=True,h=0,node_label='node_label',edge_weight='weight')\n",
    "kernel.fit(GN[:2])\n",
    "kernel.fit_transform(GN[2:])\n",
    "#dictionary=kernel.get_phi"
   ]
  },
  {
   "cell_type": "code",
   "execution_count": 17,
   "id": "3cafedae",
   "metadata": {},
   "outputs": [
    {
     "data": {
      "text/plain": [
       "array([[1.        , 0.81649658, 0.70710678],\n",
       "       [0.81649658, 1.        , 0.57735027],\n",
       "       [0.70710678, 0.57735027, 1.        ]])"
      ]
     },
     "execution_count": 17,
     "metadata": {},
     "output_type": "execute_result"
    }
   ],
   "source": [
    "kernel=WL_edge(normalise=True,h=0,edge_label='edge_label')\n",
    "kernel.fit(GN)\n",
    "kernel.fit_transform(GN[:3])\n"
   ]
  },
  {
   "cell_type": "code",
   "execution_count": 18,
   "id": "f764f31e",
   "metadata": {},
   "outputs": [
    {
     "data": {
      "text/plain": [
       "['O', 'H', 'H']"
      ]
     },
     "execution_count": 18,
     "metadata": {},
     "output_type": "execute_result"
    }
   ],
   "source": [
    "list(nx.get_node_attributes(G1, 'node_label').values())"
   ]
  },
  {
   "cell_type": "code",
   "execution_count": 19,
   "id": "15a17950",
   "metadata": {},
   "outputs": [
    {
     "data": {
      "text/plain": [
       "array([[1.        , 0.95864687, 0.52042093, 1.        ],\n",
       "       [0.97195877, 0.9986889 , 0.53030322, 0.97195877],\n",
       "       [0.4347333 , 0.46129649, 0.99418213, 0.4347333 ]])"
      ]
     },
     "execution_count": 19,
     "metadata": {},
     "output_type": "execute_result"
    }
   ],
   "source": [
    "kernel=Three_node_graphlet_kernel(normalise=True)\n",
    "kernel.fit(GN)\n",
    "kernel.transform(GN[:3])"
   ]
  },
  {
   "cell_type": "code",
   "execution_count": 20,
   "id": "29046684",
   "metadata": {},
   "outputs": [
    {
     "data": {
      "text/plain": [
       "<Kernels.three_node_graphlet_kernel.Three_node_graphlet_kernel at 0x2ab2fbb2fb0>"
      ]
     },
     "execution_count": 20,
     "metadata": {},
     "output_type": "execute_result"
    }
   ],
   "source": [
    "kernel.fit([G6,G1])\n"
   ]
  },
  {
   "cell_type": "code",
   "execution_count": 2,
   "id": "87421db2",
   "metadata": {},
   "outputs": [],
   "source": [
    "from sklearn import preprocessing\n",
    "def transforms_labels_to_integers_from_a_list_of_graphs(Gn,node_label='node_label'):\n",
    "    le = preprocessing.LabelEncoder()\n",
    "    new_g=[]\n",
    "    all_labels_ori=set()\n",
    "    for idx, G in enumerate(Gn):\n",
    "        labels_ori=(list(nx.get_node_attributes(G, node_label).values()))\n",
    "        if  isinstance(labels_ori[0], np.ndarray):\n",
    "            labels_ori=[\"\".join(map(str, (item.astype(int)))) for item in labels_ori]\n",
    "            for i,node in enumerate(G.nodes(data=True)):\n",
    "                node[1][node_label]=labels_ori[i]\n",
    "        all_labels_ori.update(labels_ori)\n",
    "        le.fit([i for i in list(all_labels_ori)])\n",
    "    \n",
    "        for i,node in enumerate(G.nodes(data=True)):#\n",
    "            node[1][node_label]=le.transform([labels_ori[i]])[0]+1\n",
    "        new_g.append(G)\n",
    "        \n",
    "    return new_g"
   ]
  },
  {
   "cell_type": "code",
   "execution_count": 3,
   "id": "c9c6edec",
   "metadata": {},
   "outputs": [
    {
     "ename": "NameError",
     "evalue": "name 'GN' is not defined",
     "output_type": "error",
     "traceback": [
      "\u001b[1;31m---------------------------------------------------------------------------\u001b[0m",
      "\u001b[1;31mNameError\u001b[0m                                 Traceback (most recent call last)",
      "\u001b[1;32mc:\\Users\\cs843\\Documents\\PhD\\November\\App\\Test Notebooks\\Testing Kernels on Simple Graphs.ipynb Cell 16\u001b[0m in \u001b[0;36m<cell line: 1>\u001b[1;34m()\u001b[0m\n\u001b[1;32m----> <a href='vscode-notebook-cell:/c%3A/Users/cs843/Documents/PhD/November/App/Test%20Notebooks/Testing%20Kernels%20on%20Simple%20Graphs.ipynb#X34sZmlsZQ%3D%3D?line=0'>1</a>\u001b[0m new_GN\u001b[39m=\u001b[39mtransforms_labels_to_integers_from_a_list_of_graphs(GN)\n\u001b[0;32m      <a href='vscode-notebook-cell:/c%3A/Users/cs843/Documents/PhD/November/App/Test%20Notebooks/Testing%20Kernels%20on%20Simple%20Graphs.ipynb#X34sZmlsZQ%3D%3D?line=2'>3</a>\u001b[0m kernel\u001b[39m=\u001b[39mShortest_Path_Labelled(node_label\u001b[39m=\u001b[39m\u001b[39m'\u001b[39m\u001b[39mnode_label\u001b[39m\u001b[39m'\u001b[39m)\n\u001b[0;32m      <a href='vscode-notebook-cell:/c%3A/Users/cs843/Documents/PhD/November/App/Test%20Notebooks/Testing%20Kernels%20on%20Simple%20Graphs.ipynb#X34sZmlsZQ%3D%3D?line=3'>4</a>\u001b[0m kernel\u001b[39m.\u001b[39mfit(new_GN[\u001b[39m3\u001b[39m:])\n",
      "\u001b[1;31mNameError\u001b[0m: name 'GN' is not defined"
     ]
    }
   ],
   "source": [
    "new_GN=transforms_labels_to_integers_from_a_list_of_graphs(GN)\n",
    "\n",
    "kernel=Shortest_Path_Labelled(node_label='node_label')\n",
    "kernel.fit(new_GN[3:])\n",
    "kernel.transform(new_GN[:3])\n",
    "\n"
   ]
  },
  {
   "cell_type": "code",
   "execution_count": null,
   "id": "8ccd328b",
   "metadata": {},
   "outputs": [],
   "source": []
  }
 ],
 "metadata": {
  "kernelspec": {
   "display_name": "Python 3.10.5 64-bit",
   "language": "python",
   "name": "python3"
  },
  "language_info": {
   "codemirror_mode": {
    "name": "ipython",
    "version": 3
   },
   "file_extension": ".py",
   "mimetype": "text/x-python",
   "name": "python",
   "nbconvert_exporter": "python",
   "pygments_lexer": "ipython3",
   "version": "3.10.5"
  },
  "vscode": {
   "interpreter": {
    "hash": "06a8be8316eed2f6558da5cb68a9abde15f0a0ec61139bf81bc916fa7c6839e3"
   }
  }
 },
 "nbformat": 4,
 "nbformat_minor": 5
}
