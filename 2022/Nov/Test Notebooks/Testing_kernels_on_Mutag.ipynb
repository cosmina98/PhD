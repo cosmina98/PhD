{
 "cells": [
  {
   "cell_type": "code",
   "execution_count": 25,
   "id": "a22cab67",
   "metadata": {},
   "outputs": [],
   "source": [
    "import copy\n",
    "import networkx as nx\n",
    "import sys\n",
    "import os\n",
    "current = os.getcwd()\n",
    "parent = os.path.dirname(current)\n",
    "sys.path.append(parent)\n",
    "from collections import Counter\n",
    "from sklearn.pipeline import Pipeline\n",
    "from sklearn.model_selection import train_test_split\n",
    "from sklearn.svm import SVC\n",
    "from sklearn.metrics import accuracy_score\n",
    "from numpy.linalg import inv,multi_dot\n",
    "from scipy.linalg import expm\n",
    "from matplotlib import pyplot as plt\n",
    "from networkx.drawing.nx_pydot import graphviz_layout\n",
    "import numpy as np\n",
    "import pydot\n",
    "from Kernels.Random_Walk import Random_Walk\n",
    "from Kernels.Shortest_Path import Shortest_Path\n",
    "from Kernels.Weisfeiler_Lehman import Weisfeiler_Lehman\n",
    "#from Kernels.WL_Version1 import Weisfeiler_Lehman\n",
    "from Kernels.WL_Transformer import WL_Transformer\n",
    "from Kernels.WL_edge import WL_edge\n",
    "from Kernels.WL_Shortest_Path import WL_Shortest_Path\n",
    "from Kernels.three_node_graphlet_kernel import Three_node_graphlet_kernel\n",
    "from Kernels.k_node_graphlet_kernel import k_node_graphlet_kernel\n",
    "from Kernels.Shortest_Path_Labelled import Shortest_Path_Labelled\n",
    "from Kernels.utils import hierarchy_pos,get_nxgraph_from_adjanecy_matrix,count_commons\n",
    "from Datasets.utils_mutag import load_data , create_loaders \n",
    "import Datasets\n"
   ]
  },
  {
   "cell_type": "code",
   "execution_count": 27,
   "id": "78d4690f",
   "metadata": {},
   "outputs": [
    {
     "name": "stdout",
     "output_type": "stream",
     "text": [
      "1.12.1+cpu\n"
     ]
    }
   ],
   "source": [
    "import torch\n",
    "from torch_geometric.nn import global_mean_pool\n",
    "print(torch.__version__)\n",
    "import torchnet as tnt\n",
    "import torch.nn.functional as F\n",
    "import torch.nn as nn\n",
    "import wget\n",
    "import zipfile"
   ]
  },
  {
   "cell_type": "code",
   "execution_count": 3,
   "id": "f8baec35",
   "metadata": {},
   "outputs": [
    {
     "data": {
      "text/plain": [
       "'\\n# %%\\nwget.download(\\n    \")\\n\\nfile_name = \\'MUTAG.zip\\'\\nzip_File = zipfile.ZipFile(file_name, \\'r\\')\\n# \\nzip_File.extractall()  \\n\\n'"
      ]
     },
     "execution_count": 3,
     "metadata": {},
     "output_type": "execute_result"
    }
   ],
   "source": [
    "\"\"\"\n",
    "# %%\n",
    "wget.download(\n",
    "    \")\n",
    "\n",
    "file_name = 'MUTAG.zip'\n",
    "zip_File = zipfile.ZipFile(file_name, 'r')\n",
    "# \n",
    "zip_File.extractall()  \n",
    "\n",
    "\"\"\"\n",
    "# %%"
   ]
  },
  {
   "cell_type": "markdown",
   "id": "225ea42a",
   "metadata": {},
   "source": [
    "Node labels:\n",
    "\n",
    "  0  C\\\n",
    "  1  N\\\n",
    "  2  O\\\n",
    "  3  F\\\n",
    "  4  I\\\n",
    "  5  Cl\\\n",
    "  6  Br\\\n",
    "\\\n",
    "Edge labels:\\\n",
    "\\\n",
    "  0  aromatic\\\n",
    "  1  single\\\n",
    "  2  double\\\n",
    "  3  triple\\"
   ]
  },
  {
   "cell_type": "code",
   "execution_count": 29,
   "id": "7cd9294e",
   "metadata": {},
   "outputs": [
    {
     "name": "stdout",
     "output_type": "stream",
     "text": [
      "../Datasets/MUTAG/MUTAG_graph_indicator.txt\n",
      "Data are ready\n"
     ]
    }
   ],
   "source": [
    "dataset = load_data(path='Datasets/MUTAG/', ds_name='MUTAG',\n",
    "                    use_node_labels=True, use_edge_labels=True, max_node_label=7,max_edge_label=4)\n",
    "\n",
    "\n",
    "#pytorch loaders\n",
    "train_dataset, val_dataset = create_loaders(\n",
    "    dataset, batch_size=1, split_id=150, offset=0)\n",
    "print('Data are ready')"
   ]
  },
  {
   "cell_type": "code",
   "execution_count": 5,
   "id": "028d90e6",
   "metadata": {},
   "outputs": [],
   "source": [
    "\n",
    "X=np.array(dataset,dtype=object)[:,0]\n",
    "y=np.array(dataset,dtype=object)[:,1]\n",
    "G_train, G_test, y_train, y_test = train_test_split(X, y, test_size=0.1, random_state=42)"
   ]
  },
  {
   "cell_type": "code",
   "execution_count": 6,
   "id": "758f5a91",
   "metadata": {},
   "outputs": [
    {
     "data": {
      "text/plain": [
       "NodeDataView({1: {'attr_dict': array([1., 0., 0., 0., 0., 0., 0.])}, 2: {'attr_dict': array([1., 0., 0., 0., 0., 0., 0.])}, 3: {'attr_dict': array([1., 0., 0., 0., 0., 0., 0.])}, 4: {'attr_dict': array([1., 0., 0., 0., 0., 0., 0.])}, 5: {'attr_dict': array([1., 0., 0., 0., 0., 0., 0.])}, 6: {'attr_dict': array([1., 0., 0., 0., 0., 0., 0.])}, 7: {'attr_dict': array([1., 0., 0., 0., 0., 0., 0.])}, 8: {'attr_dict': array([1., 0., 0., 0., 0., 0., 0.])}, 9: {'attr_dict': array([1., 0., 0., 0., 0., 0., 0.])}, 10: {'attr_dict': array([1., 0., 0., 0., 0., 0., 0.])}, 11: {'attr_dict': array([1., 0., 0., 0., 0., 0., 0.])}, 12: {'attr_dict': array([1., 0., 0., 0., 0., 0., 0.])}, 13: {'attr_dict': array([1., 0., 0., 0., 0., 0., 0.])}, 14: {'attr_dict': array([1., 0., 0., 0., 0., 0., 0.])}, 15: {'attr_dict': array([0., 1., 0., 0., 0., 0., 0.])}, 16: {'attr_dict': array([0., 0., 1., 0., 0., 0., 0.])}, 17: {'attr_dict': array([0., 0., 1., 0., 0., 0., 0.])}})"
      ]
     },
     "execution_count": 6,
     "metadata": {},
     "output_type": "execute_result"
    }
   ],
   "source": [
    "dataset[0][0].nodes(data=True)"
   ]
  },
  {
   "cell_type": "code",
   "execution_count": 7,
   "id": "cae8ac81",
   "metadata": {},
   "outputs": [
    {
     "data": {
      "text/plain": [
       "EdgeDataView([(1, 2, {'edge_label': array([1., 0., 0., 0.])}), (1, 6, {'edge_label': array([1., 0., 0., 0.])}), (2, 3, {'edge_label': array([1., 0., 0., 0.])}), (3, 4, {'edge_label': array([1., 0., 0., 0.])}), (4, 5, {'edge_label': array([1., 0., 0., 0.])}), (4, 10, {'edge_label': array([1., 0., 0., 0.])}), (5, 6, {'edge_label': array([1., 0., 0., 0.])}), (5, 7, {'edge_label': array([1., 0., 0., 0.])}), (7, 8, {'edge_label': array([1., 0., 0., 0.])}), (8, 9, {'edge_label': array([1., 0., 0., 0.])}), (9, 10, {'edge_label': array([1., 0., 0., 0.])}), (9, 14, {'edge_label': array([1., 0., 0., 0.])}), (10, 11, {'edge_label': array([1., 0., 0., 0.])}), (11, 12, {'edge_label': array([1., 0., 0., 0.])}), (12, 13, {'edge_label': array([1., 0., 0., 0.])}), (13, 14, {'edge_label': array([1., 0., 0., 0.])}), (13, 15, {'edge_label': array([0., 1., 0., 0.])}), (15, 16, {'edge_label': array([0., 0., 1., 0.])}), (15, 17, {'edge_label': array([0., 1., 0., 0.])})])"
      ]
     },
     "execution_count": 7,
     "metadata": {},
     "output_type": "execute_result"
    }
   ],
   "source": [
    "dataset[0][0].edges(data=True)"
   ]
  },
  {
   "cell_type": "code",
   "execution_count": 23,
   "id": "44446559",
   "metadata": {},
   "outputs": [
    {
     "data": {
      "text/plain": [
       "NodeDataView({2186: {'attr_dict': 3}, 2187: {'attr_dict': 2}, 2188: {'attr_dict': 3}, 2189: {'attr_dict': 3}, 2190: {'attr_dict': 3}, 2191: {'attr_dict': 3}, 2192: {'attr_dict': 3}, 2193: {'attr_dict': 3}, 2194: {'attr_dict': 3}, 2195: {'attr_dict': 2}, 2196: {'attr_dict': 2}, 2197: {'attr_dict': 1}, 2198: {'attr_dict': 1}})"
      ]
     },
     "execution_count": 23,
     "metadata": {},
     "output_type": "execute_result"
    }
   ],
   "source": [
    "updated=transform_labels_to_integers_from_a_list_of_graphs(G_train,node_label='attr_dict')\n",
    "updated[0].nodes(data=True)"
   ]
  },
  {
   "cell_type": "code",
   "execution_count": 15,
   "id": "497bf4d6",
   "metadata": {},
   "outputs": [],
   "source": [
    "#GN=[G1,G2,G3,G4]\n",
    "kernel2=Weisfeiler_Lehman(normalise=True,h=0,node_label='attr_dict')\n",
    "k_train=kernel2.fit_transform(list(G_train))\n",
    "k_test=kernel2.transform(list(G_test))"
   ]
  },
  {
   "cell_type": "code",
   "execution_count": null,
   "id": "cddab3a1",
   "metadata": {
    "scrolled": true
   },
   "outputs": [
    {
     "name": "stdout",
     "output_type": "stream",
     "text": [
      "Accuracy: 63.16%\n"
     ]
    }
   ],
   "source": [
    "# Uses the SVM classifier to perform classification\n",
    "clf = SVC(kernel='precomputed')\n",
    "clf.fit(np.asarray(k_train), np.ravel(y_train).astype(int))\n",
    "y_pred = clf.predict(np.asarray(k_test))\n",
    "\n",
    "# Computes and prints the classification accuracy\n",
    "acc = accuracy_score(np.array(y_test,dtype=int), np.array(y_pred,dtype=int))\n",
    "print(\"Accuracy:\", str(round(acc*100, 2)) + \"%\")"
   ]
  },
  {
   "cell_type": "code",
   "execution_count": null,
   "id": "86a05120",
   "metadata": {},
   "outputs": [
    {
     "name": "stdout",
     "output_type": "stream",
     "text": [
      "Accuracy: 89.47%\n"
     ]
    }
   ],
   "source": [
    "# Uses the SVM classifier to perform classification\n",
    "clf = SVC(kernel='precomputed')\n",
    "clf.fit(np.asarray(k_train), np.ravel(y_train).astype(int))\n",
    "y_pred = clf.predict(np.asarray(k_test))\n",
    "# Computes and prints the classification accuracy\n",
    "acc = accuracy_score(np.array(y_test,dtype=int), np.array(y_pred,dtype=int))\n",
    "print(\"Accuracy:\", str(round(acc*100, 2)) + \"%\")"
   ]
  },
  {
   "cell_type": "code",
   "execution_count": null,
   "id": "25f3def5",
   "metadata": {},
   "outputs": [],
   "source": [
    "kernel=Shortest_Path(normalise=True)\n",
    "k_train=kernel.fit_transform(list(G_train))\n",
    "k_test=kernel.transform(list(G_test))\n",
    "#dictionary=kernel.get_phi()"
   ]
  },
  {
   "cell_type": "code",
   "execution_count": null,
   "id": "8a6136a5",
   "metadata": {},
   "outputs": [
    {
     "name": "stdout",
     "output_type": "stream",
     "text": [
      "Accuracy: 94.74%\n"
     ]
    }
   ],
   "source": [
    "# Uses the SVM classifier to perform classification\n",
    "clf = SVC(kernel='precomputed')\n",
    "clf.fit(np.asarray(k_train), np.ravel(y_train).astype(int))\n",
    "y_pred = clf.predict(np.asarray(k_test))\n",
    "\n",
    "# Computes and prints the classification accuracy\n",
    "acc = accuracy_score(np.array(y_test,dtype=int), np.array(y_pred,dtype=int))\n",
    "print(\"Accuracy:\", str(round(acc*100, 2)) + \"%\")"
   ]
  },
  {
   "cell_type": "code",
   "execution_count": 11,
   "id": "ff74dc78",
   "metadata": {},
   "outputs": [
    {
     "name": "stdout",
     "output_type": "stream",
     "text": [
      "Accuracy: 94.74%\n"
     ]
    }
   ],
   "source": [
    "kernel=Three_node_graphlet_kernel(normalise=True)\n",
    "k_train=kernel.fit_transform(list(G_train))\n",
    "k_test=kernel.transform(list(G_test))\n",
    "\n",
    "# Uses the SVM classifier to perform classification\n",
    "clf = SVC(kernel='precomputed')\n",
    "clf.fit(np.asarray(k_train), np.ravel(y_train).astype(int))\n",
    "y_pred = clf.predict(np.asarray(k_test))\n",
    "\n",
    "# Computes and prints the classification accuracy\n",
    "acc = accuracy_score(np.array(y_test,dtype=int), np.array(y_pred,dtype=int))\n",
    "print(\"Accuracy:\", str(round(acc*100, 2)) + \"%\")"
   ]
  },
  {
   "cell_type": "code",
   "execution_count": null,
   "id": "223bdaa1",
   "metadata": {},
   "outputs": [
    {
     "data": {
      "text/plain": [
       "(169, 169)"
      ]
     },
     "execution_count": 36,
     "metadata": {},
     "output_type": "execute_result"
    }
   ],
   "source": []
  },
  {
   "cell_type": "code",
   "execution_count": null,
   "id": "81266528",
   "metadata": {},
   "outputs": [
    {
     "data": {
      "text/plain": [
       "array([1, 1, -1, 1, 1, 1, 1, -1, -1, -1, 1, -1, 1, -1, 1, 1, -1, 1, 1],\n",
       "      dtype=object)"
      ]
     },
     "execution_count": 37,
     "metadata": {},
     "output_type": "execute_result"
    }
   ],
   "source": []
  },
  {
   "cell_type": "code",
   "execution_count": null,
   "id": "00f6f675",
   "metadata": {},
   "outputs": [],
   "source": []
  }
 ],
 "metadata": {
  "kernelspec": {
   "display_name": "Python 3.10.5 64-bit",
   "language": "python",
   "name": "python3"
  },
  "language_info": {
   "codemirror_mode": {
    "name": "ipython",
    "version": 3
   },
   "file_extension": ".py",
   "mimetype": "text/x-python",
   "name": "python",
   "nbconvert_exporter": "python",
   "pygments_lexer": "ipython3",
   "version": "3.10.5"
  },
  "vscode": {
   "interpreter": {
    "hash": "06a8be8316eed2f6558da5cb68a9abde15f0a0ec61139bf81bc916fa7c6839e3"
   }
  }
 },
 "nbformat": 4,
 "nbformat_minor": 5
}
