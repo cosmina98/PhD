{
 "cells": [
  {
   "cell_type": "code",
   "execution_count": 1,
   "id": "9c048e54",
   "metadata": {},
   "outputs": [
    {
     "name": "stdout",
     "output_type": "stream",
     "text": [
      "1.13.0+cpu\n"
     ]
    },
    {
     "name": "stderr",
     "output_type": "stream",
     "text": [
      "\n",
      "KeyboardInterrupt\n",
      "\n"
     ]
    }
   ],
   "source": [
    "import os\n",
    "import torch\n",
    "os.environ['TORCH'] = torch.__version__\n",
    "print(torch.__version__)\n",
    "import torch.nn.functional as F\n",
    "from torch.nn import Parameter as Param\n",
    "from torch.nn import Parameter, Module\n",
    "from torch.nn import Sequential, Linear, ReLU\n",
    "from torch.optim import Optimizer\n",
    "from torch import Tensor\n",
    "from torch import nn\n",
    "from torch.optim.sgd import SGD\n",
    "import torch_geometric\n",
    "import torch_geometric.transforms as T\n",
    "from torch_geometric.data import Data\n",
    "from torch_geometric.datasets import Planetoid\n",
    "from torch_geometric.nn import GCNConv,ChebConv,GATConv, SGConv\n",
    "from torch_geometric.utils import get_laplacian\n",
    "from torch_geometric.utils import to_scipy_sparse_matrix,degree,add_self_loops\n",
    "from torch_geometric.nn import GatedGraphConv\n",
    "from torch_geometric.nn import MessagePassing, SAGEConv, GINConv, global_add_pool\n",
    "from torch.optim.adam import Adam\n",
    "from torch_geometric.utils import add_self_loops, degree\n",
    "import os.path as osp\n",
    "from typing import Callable, List, Optional, Tuple\n",
    "from typing_extensions import Literal, TypedDict\n",
    "import matplotlib.pyplot as plt\n",
    "import numpy as np\n",
    "import pandas as pd\n",
    "import networkx as nx\n",
    "from sklearn.model_selection import KFold\n",
    "from sklearn import metrics\n",
    "from sklearn.metrics import accuracy_score\n",
    "from tqdm.notebook import trange, tqdm\n",
    "import copy\n",
    "import random\n",
    "import time\n",
    "import  math\n",
    "import itertools\n",
    "from functools import reduce\n",
    "import operator\n",
    "import torch.utils.data as data_utils\n",
    "from sklearn.metrics import classification_report\n",
    "from sklearn.metrics import confusion_matrix\n",
    "import matplotlib.pyplot as plt\n",
    "from sklearn.metrics import multilabel_confusion_matrix\n",
    "from torch.utils.data import Subset\n",
    "from plotnine import ggplot, geom_line, aes, xlab, theme, element_blank, ggtitle\n",
    "from collections import OrderedDict\n",
    "from typing_extensions import Literal, TypedDict\n",
    "from torch_sparse import SparseTensor\n",
    "from torch_scatter import gather_csr, scatter, segment_csr\n",
    "import inspect\n",
    "from torch.utils.data import DataLoader\n",
    "from torch_geometric.nn.inits import uniform\n",
    "device = torch.device('cuda' if torch.cuda.is_available()  else 'cpu')\n",
    "from torch_geometric.typing import Adj, OptTensor"
   ]
  },
  {
   "cell_type": "code",
   "execution_count": null,
   "id": "10b9d49e",
   "metadata": {},
   "outputs": [
    {
     "name": "stdout",
     "output_type": "stream",
     "text": [
      "Dataset: Cora\n",
      "Num. nodes: 2708 (train=140, val=500, test=1000, other=1068)\n",
      "Num. edges: 5278\n",
      "10556\n",
      "Num. node features: 1433\n",
      "Num. classes: 7\n",
      "Dataset len.: 1\n",
      " \n",
      "Dataset: CiteSeer\n",
      "Num. nodes: 3327 (train=120, val=500, test=1000, other=1707)\n",
      "Num. edges: 4552\n",
      "9104\n",
      "Num. node features: 3703\n",
      "Num. classes: 6\n",
      "Dataset len.: 1\n",
      " \n",
      "Dataset: PubMed\n",
      "Num. nodes: 19717 (train=60, val=500, test=1000, other=18157)\n",
      "Num. edges: 44324\n",
      "88648\n",
      "Num. node features: 500\n",
      "Num. classes: 3\n",
      "Dataset len.: 1\n",
      " \n"
     ]
    }
   ],
   "source": [
    "dataset=list(range(3))\n",
    "i=0\n",
    "for dataset_name in ['Cora','CiteSeer','PubMed']:\n",
    "    transform = T.Compose([T.TargetIndegree(),\n",
    "])\n",
    "    path = \"../Datasets/Planetoid/\"+ dataset_name\n",
    "    dataset[i] =Planetoid(path, dataset_name, transform=transform)\n",
    "    num_nodes = dataset[i].data.num_nodes\n",
    "    num_edges = dataset[i].data.num_edges // 2\n",
    "    train_len = dataset[i][0].train_mask.sum()\n",
    "    val_len = dataset[i][0].val_mask.sum()\n",
    "    test_len = dataset[i][0].test_mask.sum()\n",
    "    other_len = num_nodes - train_len - val_len - test_len\n",
    "    print(f\"Dataset: {dataset[i].name}\")\n",
    "    print(f\"Num. nodes: {num_nodes} (train={train_len}, val={val_len}, test={test_len}, other={other_len})\")\n",
    "    print(f\"Num. edges: {num_edges}\")\n",
    "    print(len(dataset[i][0].edge_attr))\n",
    "    print(f\"Num. node features: {dataset[i].num_node_features}\")\n",
    "    print(f\"Num. classes: {dataset[i].num_classes}\")\n",
    "    print(f\"Dataset len.: {dataset[i].len()}\")\n",
    "    i=i+1\n",
    "    print(\" \")"
   ]
  },
  {
   "cell_type": "code",
   "execution_count": 2,
   "id": "5bda4534",
   "metadata": {},
   "outputs": [],
   "source": [
    "current = os.getcwd()\n",
    "parent = os.path.dirname(current)\n",
    "sys.path.append(parent)"
   ]
  },
  {
   "cell_type": "code",
   "execution_count": 24,
   "id": "6aa11b72",
   "metadata": {},
   "outputs": [],
   "source": [
    "from Convs.GCN import GCNConv1\n",
    "from Convs.GraphSage import GraphSage1\n",
    "from Convs.GAT import GATLayer,GAT1\n",
    "from Convs.GIN import GIN1\n",
    "from Convs.Gated_Graph import GatedGraphConv1\n",
    "from Convs.SGC import SGConv1\n",
    "from Convs.SSGC import SSGConv1\n",
    "from Convs.FACONV import FAConv1\n",
    "from Convs.APPNP import APPNP1\n",
    "from Convs.TAGConv import TAGConv1\n",
    "from Convs.MessagePass import MessagePass"
   ]
  },
  {
   "cell_type": "code",
   "execution_count": 5,
   "id": "622b7a6f",
   "metadata": {},
   "outputs": [],
   "source": [
    "dataset[0].data\n",
    "x=dataset[0].data.x\n",
    "edge_index=dataset[0].data.edge_index\n",
    "x_j = x[edge_index[0]]  # Source node features [num_edges, num_features]\n",
    "x_i = x[edge_index[1]]  # Target node features [num_edges, num_features]\n",
    "edge_weight = dataset[0][0].edge_attr"
   ]
  },
  {
   "cell_type": "code",
   "execution_count": 25,
   "id": "d9f5f610",
   "metadata": {},
   "outputs": [
    {
     "data": {
      "text/plain": [
       "tensor([[-3.8442e-01, -1.0642e+00,  3.3893e+00,  1.9254e+00, -6.5508e-01,\n",
       "         -4.1611e-01,  9.9494e-02,  2.2084e-01, -6.3247e-01, -3.6209e-02,\n",
       "         -2.4360e+00, -2.5976e+00, -1.6337e+00, -3.9435e+00,  3.4731e-01,\n",
       "          1.2800e+00, -7.9537e-01, -6.7870e-01,  1.6948e+00, -5.2678e-01,\n",
       "         -3.2047e+00, -4.5053e+00, -3.0919e+00, -1.7887e-01, -5.9398e-01,\n",
       "         -5.3636e-01,  1.8519e+00, -1.2085e+00, -8.4007e-02,  1.2789e+00,\n",
       "         -1.4459e+00, -4.9096e-01],\n",
       "        [ 3.4952e-03, -4.3003e-01,  1.3585e+00,  8.1173e-01, -6.8719e-01,\n",
       "          6.5096e-02, -3.6358e-01, -1.1343e-01,  1.4093e-02, -1.0938e-01,\n",
       "         -1.1594e+00, -1.4274e+00, -5.8295e-01, -1.8394e+00,  3.6068e-01,\n",
       "          1.4522e-01, -5.0741e-01, -2.7292e-01,  1.2139e+00, -2.4361e-01,\n",
       "         -2.0030e+00, -2.6594e+00, -1.6255e+00,  2.5284e-01, -1.1375e+00,\n",
       "         -1.6854e-01, -1.5735e-01, -1.1076e+00, -5.1672e-01,  5.3248e-01,\n",
       "          1.0541e-01, -2.7928e-01],\n",
       "        [ 3.4952e-03, -4.3003e-01,  1.3585e+00,  8.1173e-01, -6.8719e-01,\n",
       "          6.5096e-02, -3.6358e-01, -1.1343e-01,  1.4093e-02, -1.0938e-01,\n",
       "         -1.1594e+00, -1.4274e+00, -5.8295e-01, -1.8394e+00,  3.6068e-01,\n",
       "          1.4522e-01, -5.0741e-01, -2.7292e-01,  1.2139e+00, -2.4361e-01,\n",
       "         -2.0030e+00, -2.6594e+00, -1.6255e+00,  2.5284e-01, -1.1375e+00,\n",
       "         -1.6854e-01, -1.5735e-01, -1.1076e+00, -5.1672e-01,  5.3248e-01,\n",
       "          1.0541e-01, -2.7928e-01],\n",
       "        [ 3.4952e-03, -4.3003e-01,  1.3585e+00,  8.1173e-01, -6.8719e-01,\n",
       "          6.5096e-02, -3.6358e-01, -1.1343e-01,  1.4093e-02, -1.0938e-01,\n",
       "         -1.1594e+00, -1.4274e+00, -5.8295e-01, -1.8394e+00,  3.6068e-01,\n",
       "          1.4522e-01, -5.0741e-01, -2.7292e-01,  1.2139e+00, -2.4361e-01,\n",
       "         -2.0030e+00, -2.6594e+00, -1.6255e+00,  2.5284e-01, -1.1375e+00,\n",
       "         -1.6854e-01, -1.5735e-01, -1.1076e+00, -5.1672e-01,  5.3248e-01,\n",
       "          1.0541e-01, -2.7928e-01]], grad_fn=<AddBackward0>)"
      ]
     },
     "execution_count": 25,
     "metadata": {},
     "output_type": "execute_result"
    }
   ],
   "source": [
    "torch.manual_seed(1)\n",
    "x = torch.randn(4, 16)\n",
    "x=torch.ones(4,16)\n",
    "edge_index = torch.tensor([[0, 0, 0, 1, 2, 3], [1, 2, 3, 0, 0, 0]])\n",
    "row, col = edge_index\n",
    "value = torch.rand(row.size(0))\n",
    "adj2 = SparseTensor(row=row, col=col, value=value, sparse_sizes=(4, 4))\n",
    "adj1 = adj2.set_value(None)\n",
    "conv = TAGConv1(16, 32)\n",
    "out1 = conv(x, edge_index)\n",
    "out1"
   ]
  },
  {
   "cell_type": "code",
   "execution_count": 7,
   "id": "47709790",
   "metadata": {},
   "outputs": [
    {
     "name": "stdout",
     "output_type": "stream",
     "text": [
      "APPNP1(K=3, alpha=0.2)\n"
     ]
    },
    {
     "data": {
      "text/plain": [
       "tensor([[1.2088, 1.2088, 1.2088, 1.2088, 1.2088, 1.2088, 1.2088, 1.2088, 1.2088,\n",
       "         1.2088, 1.2088, 1.2088, 1.2088, 1.2088, 1.2088, 1.2088],\n",
       "        [0.9016, 0.9016, 0.9016, 0.9016, 0.9016, 0.9016, 0.9016, 0.9016, 0.9016,\n",
       "         0.9016, 0.9016, 0.9016, 0.9016, 0.9016, 0.9016, 0.9016],\n",
       "        [0.9016, 0.9016, 0.9016, 0.9016, 0.9016, 0.9016, 0.9016, 0.9016, 0.9016,\n",
       "         0.9016, 0.9016, 0.9016, 0.9016, 0.9016, 0.9016, 0.9016],\n",
       "        [0.9016, 0.9016, 0.9016, 0.9016, 0.9016, 0.9016, 0.9016, 0.9016, 0.9016,\n",
       "         0.9016, 0.9016, 0.9016, 0.9016, 0.9016, 0.9016, 0.9016]])"
      ]
     },
     "execution_count": 7,
     "metadata": {},
     "output_type": "execute_result"
    }
   ],
   "source": [
    "torch.manual_seed(0)\n",
    "conv = APPNP1(K=3,alpha=0.2)\n",
    "print(conv)\n",
    "m=conv(x,edge_index)\n",
    "m"
   ]
  },
  {
   "cell_type": "code",
   "execution_count": 8,
   "id": "09ae67c5",
   "metadata": {},
   "outputs": [
    {
     "name": "stdout",
     "output_type": "stream",
     "text": [
      "APPNP1(K=3, alpha=0.2)\n"
     ]
    },
    {
     "data": {
      "text/plain": [
       "tensor([[1.2088, 1.2088, 1.2088, 1.2088, 1.2088, 1.2088, 1.2088, 1.2088, 1.2088,\n",
       "         1.2088, 1.2088, 1.2088, 1.2088, 1.2088, 1.2088, 1.2088],\n",
       "        [0.9016, 0.9016, 0.9016, 0.9016, 0.9016, 0.9016, 0.9016, 0.9016, 0.9016,\n",
       "         0.9016, 0.9016, 0.9016, 0.9016, 0.9016, 0.9016, 0.9016],\n",
       "        [0.9016, 0.9016, 0.9016, 0.9016, 0.9016, 0.9016, 0.9016, 0.9016, 0.9016,\n",
       "         0.9016, 0.9016, 0.9016, 0.9016, 0.9016, 0.9016, 0.9016],\n",
       "        [0.9016, 0.9016, 0.9016, 0.9016, 0.9016, 0.9016, 0.9016, 0.9016, 0.9016,\n",
       "         0.9016, 0.9016, 0.9016, 0.9016, 0.9016, 0.9016, 0.9016]])"
      ]
     },
     "execution_count": 8,
     "metadata": {},
     "output_type": "execute_result"
    }
   ],
   "source": [
    "torch.manual_seed(0)\n",
    "conv = APPNP1(K=3,alpha=0.2)\n",
    "print(conv)\n",
    "m=conv(x,edge_index)\n",
    "m"
   ]
  },
  {
   "cell_type": "code",
   "execution_count": 9,
   "id": "fa3c77a3",
   "metadata": {},
   "outputs": [
    {
     "data": {
      "text/plain": [
       "<bound method Tensor.storage of tensor([[0, 0, 0, 1, 2, 3],\n",
       "        [1, 2, 3, 0, 0, 0]])>"
      ]
     },
     "execution_count": 9,
     "metadata": {},
     "output_type": "execute_result"
    }
   ],
   "source": [
    "edge_index.storage"
   ]
  },
  {
   "cell_type": "code",
   "execution_count": 10,
   "id": "4566644d",
   "metadata": {},
   "outputs": [
    {
     "name": "stdout",
     "output_type": "stream",
     "text": [
      "APPNP1(K=3, alpha=0.2)\n"
     ]
    },
    {
     "data": {
      "text/plain": [
       "tensor([[1.2088, 1.2088, 1.2088, 1.2088, 1.2088, 1.2088, 1.2088, 1.2088, 1.2088,\n",
       "         1.2088, 1.2088, 1.2088, 1.2088, 1.2088, 1.2088, 1.2088],\n",
       "        [0.9016, 0.9016, 0.9016, 0.9016, 0.9016, 0.9016, 0.9016, 0.9016, 0.9016,\n",
       "         0.9016, 0.9016, 0.9016, 0.9016, 0.9016, 0.9016, 0.9016],\n",
       "        [0.9016, 0.9016, 0.9016, 0.9016, 0.9016, 0.9016, 0.9016, 0.9016, 0.9016,\n",
       "         0.9016, 0.9016, 0.9016, 0.9016, 0.9016, 0.9016, 0.9016],\n",
       "        [0.9016, 0.9016, 0.9016, 0.9016, 0.9016, 0.9016, 0.9016, 0.9016, 0.9016,\n",
       "         0.9016, 0.9016, 0.9016, 0.9016, 0.9016, 0.9016, 0.9016]])"
      ]
     },
     "execution_count": 10,
     "metadata": {},
     "output_type": "execute_result"
    }
   ],
   "source": [
    "torch.manual_seed(0)\n",
    "\n",
    "conv = APPNP1(K=3,alpha=0.2)\n",
    "print(conv)\n",
    "m=conv(x,edge_index)\n",
    "m"
   ]
  },
  {
   "cell_type": "code",
   "execution_count": 11,
   "id": "d9cb7c54",
   "metadata": {},
   "outputs": [
    {
     "name": "stdout",
     "output_type": "stream",
     "text": [
      "FAConv1(16, eps=0.1)\n"
     ]
    },
    {
     "data": {
      "text/plain": [
       "(tensor([[-521.7523, -521.7523, -521.7523, -521.7523, -521.7523, -521.7523,\n",
       "          -521.7523, -521.7523, -521.7523, -521.7523, -521.7523, -521.7523,\n",
       "          -521.7523, -521.7523, -521.7523, -521.7523],\n",
       "         [-260.8261, -260.8261, -260.8261, -260.8261, -260.8261, -260.8261,\n",
       "          -260.8261, -260.8261, -260.8261, -260.8261, -260.8261, -260.8261,\n",
       "          -260.8261, -260.8261, -260.8261, -260.8261],\n",
       "         [-260.8261, -260.8261, -260.8261, -260.8261, -260.8261, -260.8261,\n",
       "          -260.8261, -260.8261, -260.8261, -260.8261, -260.8261, -260.8261,\n",
       "          -260.8261, -260.8261, -260.8261, -260.8261],\n",
       "         [-260.8261, -260.8261, -260.8261, -260.8261, -260.8261, -260.8261,\n",
       "          -260.8261, -260.8261, -260.8261, -260.8261, -260.8261, -260.8261,\n",
       "          -260.8261, -260.8261, -260.8261, -260.8261]], grad_fn=<AddBackward0>),\n",
       " (tensor([[0, 0, 0, 1, 2, 3, 0, 1, 2, 3],\n",
       "          [1, 2, 3, 0, 0, 0, 0, 1, 2, 3]]),\n",
       "  tensor([-0.5096, -0.5096, -0.5096, -0.5096, -0.5096, -0.5096, -0.5096, -0.5096,\n",
       "          -0.5096, -0.5096], grad_fn=<SqueezeBackward1>)))"
      ]
     },
     "execution_count": 11,
     "metadata": {},
     "output_type": "execute_result"
    }
   ],
   "source": [
    "conv = FAConv1(x.shape[1],256)\n",
    "print(conv)\n",
    "m=conv(x, x,edge_index)\n",
    "m"
   ]
  },
  {
   "cell_type": "code",
   "execution_count": 12,
   "id": "cf551a9e",
   "metadata": {},
   "outputs": [
    {
     "data": {
      "text/plain": [
       "torch.Tensor"
      ]
     },
     "execution_count": 12,
     "metadata": {},
     "output_type": "execute_result"
    }
   ],
   "source": [
    "type(edge_index)"
   ]
  },
  {
   "cell_type": "code",
   "execution_count": 13,
   "id": "5f9be481",
   "metadata": {},
   "outputs": [
    {
     "name": "stdout",
     "output_type": "stream",
     "text": [
      "FAConv1(16, eps=0.1)\n"
     ]
    },
    {
     "data": {
      "text/plain": [
       "(tensor([[-716.5657, -716.5657, -716.5657, -716.5657, -716.5657, -716.5657,\n",
       "          -716.5657, -716.5657, -716.5657, -716.5657, -716.5657, -716.5657,\n",
       "          -716.5657, -716.5657, -716.5657, -716.5657],\n",
       "         [-358.2328, -358.2328, -358.2328, -358.2328, -358.2328, -358.2328,\n",
       "          -358.2328, -358.2328, -358.2328, -358.2328, -358.2328, -358.2328,\n",
       "          -358.2328, -358.2328, -358.2328, -358.2328],\n",
       "         [-358.2328, -358.2328, -358.2328, -358.2328, -358.2328, -358.2328,\n",
       "          -358.2328, -358.2328, -358.2328, -358.2328, -358.2328, -358.2328,\n",
       "          -358.2328, -358.2328, -358.2328, -358.2328],\n",
       "         [-358.2328, -358.2328, -358.2328, -358.2328, -358.2328, -358.2328,\n",
       "          -358.2328, -358.2328, -358.2328, -358.2328, -358.2328, -358.2328,\n",
       "          -358.2328, -358.2328, -358.2328, -358.2328]], grad_fn=<AddBackward0>),\n",
       " (tensor([[0, 0, 0, 1, 2, 3, 0, 1, 2, 3],\n",
       "          [1, 2, 3, 0, 0, 0, 0, 1, 2, 3]]),\n",
       "  tensor([-0.6999, -0.6999, -0.6999, -0.6999, -0.6999, -0.6999, -0.6999, -0.6999,\n",
       "          -0.6999, -0.6999], grad_fn=<SqueezeBackward1>)))"
      ]
     },
     "execution_count": 13,
     "metadata": {},
     "output_type": "execute_result"
    }
   ],
   "source": [
    "conv = FAConv1(x.shape[1], 256)\n",
    "print(conv)\n",
    "m=conv(x, x,edge_index=edge_index)\n",
    "m"
   ]
  },
  {
   "cell_type": "code",
   "execution_count": 14,
   "id": "e7176799",
   "metadata": {},
   "outputs": [
    {
     "name": "stdout",
     "output_type": "stream",
     "text": [
      "SSGConv1(16, 256, K=1)\n"
     ]
    },
    {
     "ename": "RuntimeError",
     "evalue": "The size of tensor a (10560) must match the size of tensor b (10) at non-singleton dimension 0",
     "output_type": "error",
     "traceback": [
      "\u001b[1;31m---------------------------------------------------------------------------\u001b[0m",
      "\u001b[1;31mRuntimeError\u001b[0m                              Traceback (most recent call last)",
      "\u001b[1;32mc:\\Users\\cs843\\Documents\\PhD\\November\\App\\Test Notebooks\\Testing Convolutional layers.ipynb Cell 14\u001b[0m in \u001b[0;36m<cell line: 3>\u001b[1;34m()\u001b[0m\n\u001b[0;32m      <a href='vscode-notebook-cell:/c%3A/Users/cs843/Documents/PhD/November/App/Test%20Notebooks/Testing%20Convolutional%20layers.ipynb#X24sZmlsZQ%3D%3D?line=0'>1</a>\u001b[0m conv \u001b[39m=\u001b[39m SSGConv1(x\u001b[39m.\u001b[39mshape[\u001b[39m1\u001b[39m], \u001b[39m256\u001b[39m,alpha\u001b[39m=\u001b[39m\u001b[39m0.05\u001b[39m)\n\u001b[0;32m      <a href='vscode-notebook-cell:/c%3A/Users/cs843/Documents/PhD/November/App/Test%20Notebooks/Testing%20Convolutional%20layers.ipynb#X24sZmlsZQ%3D%3D?line=1'>2</a>\u001b[0m \u001b[39mprint\u001b[39m(conv)\n\u001b[1;32m----> <a href='vscode-notebook-cell:/c%3A/Users/cs843/Documents/PhD/November/App/Test%20Notebooks/Testing%20Convolutional%20layers.ipynb#X24sZmlsZQ%3D%3D?line=2'>3</a>\u001b[0m m\u001b[39m=\u001b[39mconv(x, edge_index,edge_weight)\n\u001b[0;32m      <a href='vscode-notebook-cell:/c%3A/Users/cs843/Documents/PhD/November/App/Test%20Notebooks/Testing%20Convolutional%20layers.ipynb#X24sZmlsZQ%3D%3D?line=3'>4</a>\u001b[0m m\n",
      "File \u001b[1;32mc:\\Users\\cs843\\AppData\\Local\\Programs\\Python\\Python310\\lib\\site-packages\\torch\\nn\\modules\\module.py:1130\u001b[0m, in \u001b[0;36mModule._call_impl\u001b[1;34m(self, *input, **kwargs)\u001b[0m\n\u001b[0;32m   1126\u001b[0m \u001b[39m# If we don't have any hooks, we want to skip the rest of the logic in\u001b[39;00m\n\u001b[0;32m   1127\u001b[0m \u001b[39m# this function, and just call forward.\u001b[39;00m\n\u001b[0;32m   1128\u001b[0m \u001b[39mif\u001b[39;00m \u001b[39mnot\u001b[39;00m (\u001b[39mself\u001b[39m\u001b[39m.\u001b[39m_backward_hooks \u001b[39mor\u001b[39;00m \u001b[39mself\u001b[39m\u001b[39m.\u001b[39m_forward_hooks \u001b[39mor\u001b[39;00m \u001b[39mself\u001b[39m\u001b[39m.\u001b[39m_forward_pre_hooks \u001b[39mor\u001b[39;00m _global_backward_hooks\n\u001b[0;32m   1129\u001b[0m         \u001b[39mor\u001b[39;00m _global_forward_hooks \u001b[39mor\u001b[39;00m _global_forward_pre_hooks):\n\u001b[1;32m-> 1130\u001b[0m     \u001b[39mreturn\u001b[39;00m forward_call(\u001b[39m*\u001b[39m\u001b[39minput\u001b[39m, \u001b[39m*\u001b[39m\u001b[39m*\u001b[39mkwargs)\n\u001b[0;32m   1131\u001b[0m \u001b[39m# Do not call functions when jit is used\u001b[39;00m\n\u001b[0;32m   1132\u001b[0m full_backward_hooks, non_full_backward_hooks \u001b[39m=\u001b[39m [], []\n",
      "File \u001b[1;32mc:\\Users\\cs843\\Documents\\PhD\\November\\App\\Convs\\SSGC.py:37\u001b[0m, in \u001b[0;36mSSGConv1.forward\u001b[1;34m(self, x, edge_index, edge_weight)\u001b[0m\n\u001b[0;32m     35\u001b[0m output \u001b[39m=\u001b[39m \u001b[39mself\u001b[39m\u001b[39m.\u001b[39malpha \u001b[39m*\u001b[39m x\n\u001b[0;32m     36\u001b[0m \u001b[39mfor\u001b[39;00m k \u001b[39min\u001b[39;00m \u001b[39mrange\u001b[39m(\u001b[39mself\u001b[39m\u001b[39m.\u001b[39mK):\n\u001b[1;32m---> 37\u001b[0m     x \u001b[39m=\u001b[39m \u001b[39mself\u001b[39;49m\u001b[39m.\u001b[39;49mpropagate(edge_index\u001b[39m=\u001b[39;49medge_index, x\u001b[39m=\u001b[39;49mx, edge_weight\u001b[39m=\u001b[39;49medge_weight)\n\u001b[0;32m     38\u001b[0m     output \u001b[39m=\u001b[39m output \u001b[39m+\u001b[39m (\u001b[39m1.\u001b[39m \u001b[39m/\u001b[39m \u001b[39mself\u001b[39m\u001b[39m.\u001b[39mK) \u001b[39m*\u001b[39m x\n\u001b[0;32m     39\u001b[0m x \u001b[39m=\u001b[39m output\n",
      "File \u001b[1;32mc:\\Users\\cs843\\Documents\\PhD\\November\\App\\Convs\\MessagePass.py:42\u001b[0m, in \u001b[0;36mMessagePass.propagate\u001b[1;34m(self, x, edge_index, **kwargs)\u001b[0m\n\u001b[0;32m     40\u001b[0m     out\u001b[39m=\u001b[39m\u001b[39mself\u001b[39m\u001b[39m.\u001b[39mmessage_and_aggregate(x, edge_index,\u001b[39m*\u001b[39m\u001b[39m*\u001b[39mkwargs)    \n\u001b[0;32m     41\u001b[0m \u001b[39melse\u001b[39;00m:\n\u001b[1;32m---> 42\u001b[0m     out \u001b[39m=\u001b[39m \u001b[39mself\u001b[39m\u001b[39m.\u001b[39mmessage(\u001b[39mself\u001b[39m\u001b[39m.\u001b[39m_x_j,\u001b[39m*\u001b[39m\u001b[39m*\u001b[39mkwargs)\n\u001b[0;32m     43\u001b[0m     out\u001b[39m=\u001b[39m \u001b[39mself\u001b[39m\u001b[39m.\u001b[39maggr(out,edge_index)\n\u001b[0;32m     44\u001b[0m \u001b[39mreturn\u001b[39;00m out\n",
      "File \u001b[1;32mc:\\Users\\cs843\\Documents\\PhD\\November\\App\\Convs\\SSGC.py:43\u001b[0m, in \u001b[0;36mSSGConv1.message\u001b[1;34m(self, x_j, edge_weight)\u001b[0m\n\u001b[0;32m     42\u001b[0m \u001b[39mdef\u001b[39;00m \u001b[39mmessage\u001b[39m(\u001b[39mself\u001b[39m, x_j, edge_weight) :\n\u001b[1;32m---> 43\u001b[0m     \u001b[39mreturn\u001b[39;00m edge_weight\u001b[39m.\u001b[39;49mview(\u001b[39m-\u001b[39;49m\u001b[39m1\u001b[39;49m, \u001b[39m1\u001b[39;49m) \u001b[39m*\u001b[39;49m x_j\n",
      "\u001b[1;31mRuntimeError\u001b[0m: The size of tensor a (10560) must match the size of tensor b (10) at non-singleton dimension 0"
     ]
    }
   ],
   "source": [
    "conv = SSGConv1(x.shape[1], 256,alpha=0.05)\n",
    "print(conv)\n",
    "m=conv(x, edge_index,edge_weight)\n",
    "m"
   ]
  },
  {
   "cell_type": "code",
   "execution_count": null,
   "id": "6e7b1dd9",
   "metadata": {},
   "outputs": [
    {
     "name": "stdout",
     "output_type": "stream",
     "text": [
      "SGConv1(1433, 256, K=1)\n"
     ]
    },
    {
     "data": {
      "text/plain": [
       "tensor([[ 0.0282, -0.0110, -0.0047,  ..., -0.0082, -0.0106, -0.0065],\n",
       "        [ 0.0219, -0.0100, -0.0088,  ..., -0.0095, -0.0073, -0.0056],\n",
       "        [-0.0045, -0.0390, -0.0381,  ..., -0.0132, -0.0236, -0.0123],\n",
       "        ...,\n",
       "        [ 0.0221, -0.0096, -0.0087,  ..., -0.0102, -0.0107, -0.0074],\n",
       "        [ 0.0262, -0.0110, -0.0009,  ..., -0.0027, -0.0116, -0.0036],\n",
       "        [ 0.0269, -0.0097, -0.0027,  ..., -0.0085, -0.0132, -0.0032]],\n",
       "       grad_fn=<AddmmBackward0>)"
      ]
     },
     "execution_count": 10,
     "metadata": {},
     "output_type": "execute_result"
    }
   ],
   "source": [
    "conv = SGConv1(x.shape[1], 256)\n",
    "print(conv)\n",
    "m=conv(x, edge_index,edge_weight)\n",
    "m"
   ]
  },
  {
   "cell_type": "code",
   "execution_count": null,
   "id": "c0a863ad",
   "metadata": {},
   "outputs": [
    {
     "data": {
      "text/plain": [
       "tensor([[ 0.0134,  0.0050, -0.0127,  ..., -0.0273, -0.0031,  0.0202],\n",
       "        [ 0.0158,  0.0067, -0.0066,  ..., -0.0231, -0.0008,  0.0248],\n",
       "        [ 0.0055,  0.0357,  0.0011,  ..., -0.0298,  0.0082,  0.0343],\n",
       "        ...,\n",
       "        [ 0.0138,  0.0057, -0.0089,  ..., -0.0253, -0.0004,  0.0262],\n",
       "        [ 0.0086,  0.0072, -0.0116,  ..., -0.0222,  0.0013,  0.0189],\n",
       "        [ 0.0087,  0.0064, -0.0076,  ..., -0.0245, -0.0016,  0.0200]],\n",
       "       grad_fn=<AddmmBackward0>)"
      ]
     },
     "execution_count": 14,
     "metadata": {},
     "output_type": "execute_result"
    }
   ],
   "source": [
    "conv = SGConv1(x.shape[1], 256)\n",
    "m=conv(x, edge_index,edge_weight)\n",
    "m"
   ]
  },
  {
   "cell_type": "code",
   "execution_count": null,
   "id": "2d569f84",
   "metadata": {},
   "outputs": [
    {
     "data": {
      "text/plain": [
       "tensor([[-0.0333, -0.0463, -0.0333,  ...,  0.0055, -0.0163,  0.0306],\n",
       "        [-0.0309, -0.0812,  0.0304,  ..., -0.0160, -0.0478,  0.0418],\n",
       "        [-0.0826, -0.0194,  0.0077,  ..., -0.0236, -0.0232,  0.0069],\n",
       "        ...,\n",
       "        [-0.0175, -0.0398,  0.0209,  ..., -0.0173, -0.0454,  0.0493],\n",
       "        [-0.0235, -0.0681,  0.0132,  ..., -0.0012,  0.0136,  0.0491],\n",
       "        [-0.0127, -0.0764,  0.0246,  ..., -0.0432, -0.0053,  0.0499]],\n",
       "       grad_fn=<AddBackward0>)"
      ]
     },
     "execution_count": 8,
     "metadata": {},
     "output_type": "execute_result"
    }
   ],
   "source": [
    "conv = GCNConv1(x.shape[1], 256)\n",
    "m=conv(x, edge_index)\n",
    "m"
   ]
  },
  {
   "cell_type": "code",
   "execution_count": null,
   "id": "ed06a260",
   "metadata": {},
   "outputs": [
    {
     "data": {
      "text/plain": [
       "tensor([[-0.1113, -0.0718, -0.0748,  ..., -0.0668, -0.1206,  0.0005],\n",
       "        [ 0.0197,  0.0740, -0.0399,  ..., -0.0458, -0.0971,  0.1581],\n",
       "        [-0.0107, -0.0934,  0.0066,  ..., -0.0191,  0.1046, -0.0282],\n",
       "        ...,\n",
       "        [-0.0513,  0.0912, -0.1496,  ..., -0.0477, -0.0507, -0.0589],\n",
       "        [-0.0057, -0.0134, -0.0826,  ..., -0.0007,  0.0287,  0.0425],\n",
       "        [-0.0680, -0.0973, -0.1591,  ..., -0.0486,  0.0016,  0.0927]],\n",
       "       grad_fn=<AddBackward0>)"
      ]
     },
     "execution_count": 11,
     "metadata": {},
     "output_type": "execute_result"
    }
   ],
   "source": [
    "conv = GraphSage1(x.shape[1], 256)\n",
    "m=conv(x, edge_index)\n",
    "m\n"
   ]
  },
  {
   "cell_type": "code",
   "execution_count": null,
   "id": "2fa7363c",
   "metadata": {},
   "outputs": [
    {
     "data": {
      "text/plain": [
       "tensor([[-0.0160, -0.0464,  0.0526,  ...,  0.0159,  0.0290,  0.0030],\n",
       "        [-0.0243, -0.0315, -0.0242,  ...,  0.0179,  0.0091,  0.0469],\n",
       "        [-0.0360, -0.0112, -0.0189,  ...,  0.0464,  0.0326, -0.0055],\n",
       "        ...,\n",
       "        [-0.0366,  0.0572,  0.0019,  ..., -0.0023,  0.0284,  0.0178],\n",
       "        [-0.0380, -0.0189,  0.0064,  ...,  0.0188,  0.0342, -0.0059],\n",
       "        [-0.0632,  0.0007, -0.0263,  ...,  0.0029,  0.0142,  0.0064]],\n",
       "       grad_fn=<ScatterAddBackward0>)"
      ]
     },
     "execution_count": 8,
     "metadata": {},
     "output_type": "execute_result"
    }
   ],
   "source": [
    "import torch.nn.functional as F\n",
    "conv = GATLayer(dataset[0].num_node_features, dataset[0].num_classes, dropout=0.0,alpha=0.0)\n",
    "m=conv(x, edge_index)\n",
    "m"
   ]
  },
  {
   "cell_type": "code",
   "execution_count": null,
   "id": "14843fd2",
   "metadata": {},
   "outputs": [
    {
     "name": "stdout",
     "output_type": "stream",
     "text": [
      "GAT1(\n",
      "  (conv1): GATLayer(\n",
      "    (lin): Linear(in_features=1433, out_features=8, bias=False)\n",
      "    (leakrelu): LeakyReLU(negative_slope=0.2)\n",
      "  )\n",
      "  (conv2): GATLayer(\n",
      "    (lin): Linear(in_features=64, out_features=7, bias=False)\n",
      "    (leakrelu): LeakyReLU(negative_slope=0.2)\n",
      "  )\n",
      ")\n",
      "GAT1(\n",
      "  (conv1): GATLayer(\n",
      "    (lin): Linear(in_features=3703, out_features=8, bias=False)\n",
      "    (leakrelu): LeakyReLU(negative_slope=0.2)\n",
      "  )\n",
      "  (conv2): GATLayer(\n",
      "    (lin): Linear(in_features=64, out_features=6, bias=False)\n",
      "    (leakrelu): LeakyReLU(negative_slope=0.2)\n",
      "  )\n",
      ")\n",
      "GAT1(\n",
      "  (conv1): GATLayer(\n",
      "    (lin): Linear(in_features=500, out_features=8, bias=False)\n",
      "    (leakrelu): LeakyReLU(negative_slope=0.2)\n",
      "  )\n",
      "  (conv2): GATLayer(\n",
      "    (lin): Linear(in_features=64, out_features=3, bias=False)\n",
      "    (leakrelu): LeakyReLU(negative_slope=0.2)\n",
      "  )\n",
      ")\n"
     ]
    }
   ],
   "source": [
    "\n",
    "print(GAT1(dataset[0].num_node_features, dataset[0].num_classes))\n",
    "print(GAT1(dataset[1].num_node_features, dataset[1].num_classes))\n",
    "print(GAT1(dataset[2].num_node_features, dataset[2].num_classes))\n",
    "\n"
   ]
  },
  {
   "cell_type": "code",
   "execution_count": null,
   "id": "1cfa930f",
   "metadata": {},
   "outputs": [
    {
     "name": "stdout",
     "output_type": "stream",
     "text": [
      "GCNConv(1433, 7)\n"
     ]
    }
   ],
   "source": [
    "print(GCNConv(dataset[0].num_node_features, dataset[0].num_classes))"
   ]
  },
  {
   "cell_type": "code",
   "execution_count": 21,
   "id": "a0e9d302",
   "metadata": {},
   "outputs": [
    {
     "data": {
      "text/plain": [
       "tensor([[ 0.0333,  0.0405,  0.0319,  ..., -0.0028, -0.0048,  0.0111],\n",
       "        [ 0.0334,  0.0463,  0.0273,  ..., -0.0099,  0.0003,  0.0049],\n",
       "        [ 0.0334,  0.0463,  0.0273,  ..., -0.0099,  0.0003,  0.0049],\n",
       "        [ 0.0353,  0.0436,  0.0284,  ..., -0.0070, -0.0012,  0.0064]],\n",
       "       grad_fn=<AddBackward0>)"
      ]
     },
     "execution_count": 21,
     "metadata": {},
     "output_type": "execute_result"
    }
   ],
   "source": [
    "#dropping out records as it is too slow \n",
    "mask = F.dropout(torch.ones(edge_index.shape[1])) > 0\n",
    "edge_index_to_use = edge_index[:, mask]\n",
    "#edge_attr_to_use = edge_weight[mask] if edge_weight is not None else None\n",
    "(edge_index_to_use.shape)\n",
    "edge_attr_to_use=None\n",
    "conv = GatedGraphConv1(x.shape[1], 6000)\n",
    "m=conv(x, edge_index_to_use,edge_attr_to_use)\n",
    "m\n",
    "\n"
   ]
  },
  {
   "cell_type": "code",
   "execution_count": null,
   "id": "887ea58f",
   "metadata": {},
   "outputs": [],
   "source": []
  },
  {
   "cell_type": "code",
   "execution_count": null,
   "id": "6cd85754",
   "metadata": {},
   "outputs": [],
   "source": []
  },
  {
   "cell_type": "code",
   "execution_count": null,
   "id": "aa6ebf48",
   "metadata": {},
   "outputs": [],
   "source": []
  },
  {
   "cell_type": "code",
   "execution_count": null,
   "id": "b26f7f22",
   "metadata": {},
   "outputs": [],
   "source": []
  }
 ],
 "metadata": {
  "kernelspec": {
   "display_name": "Python 3.10.5 64-bit",
   "language": "python",
   "name": "python3"
  },
  "language_info": {
   "codemirror_mode": {
    "name": "ipython",
    "version": 3
   },
   "file_extension": ".py",
   "mimetype": "text/x-python",
   "name": "python",
   "nbconvert_exporter": "python",
   "pygments_lexer": "ipython3",
   "version": "3.10.5"
  },
  "vscode": {
   "interpreter": {
    "hash": "06a8be8316eed2f6558da5cb68a9abde15f0a0ec61139bf81bc916fa7c6839e3"
   }
  }
 },
 "nbformat": 4,
 "nbformat_minor": 5
}
