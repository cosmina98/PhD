{
 "cells": [
  {
   "cell_type": "code",
   "execution_count": 14,
   "id": "b9875682",
   "metadata": {},
   "outputs": [
    {
     "name": "stdout",
     "output_type": "stream",
     "text": [
      "1.12.1+cpu\n"
     ]
    }
   ],
   "source": [
    "import sys\n",
    "import os\n",
    "current = os.getcwd()\n",
    "parent = os.path.dirname(current)\n",
    "sys.path.append(parent)\n",
    "from Kernels.Weisfeiler_Lehman import Weisfeiler_Lehman\n",
    "import torch\n",
    "from torch_geometric.nn import global_mean_pool\n",
    "print(torch.__version__)\n",
    "import torchnet as tnt\n",
    "import torch.nn.functional as F\n",
    "import torch.nn as nn\n",
    "import wget\n",
    "import zipfile\n",
    "from collections import Counter\n",
    "from sklearn.pipeline import Pipeline\n",
    "from sklearn.model_selection import train_test_split\n",
    "from sklearn.svm import SVC\n",
    "from sklearn.metrics import accuracy_score\n",
    "from numpy.linalg import inv,multi_dot\n",
    "from scipy.linalg import expm\n",
    "from matplotlib import pyplot as plt\n",
    "from networkx.drawing.nx_pydot import graphviz_layout\n",
    "import numpy as np\n",
    "import pydot\n",
    "from Datasets.utils_mutag import load_data , create_loaders \n",
    "\n"
   ]
  },
  {
   "cell_type": "code",
   "execution_count": 15,
   "metadata": {},
   "outputs": [
    {
     "name": "stdout",
     "output_type": "stream",
     "text": [
      "../Datasets/MUTAG/MUTAG_graph_indicator.txt\n",
      "Data are ready\n"
     ]
    }
   ],
   "source": [
    "dataset = load_data(path='Datasets/MUTAG/', ds_name='MUTAG',\n",
    "                    use_node_labels=True, use_edge_labels=True, max_node_label=7,max_edge_label=4)\n",
    "\n",
    "\n",
    "#pytorch loaders\n",
    "train_dataset, val_dataset = create_loaders(\n",
    "    dataset, batch_size=1, split_id=150, offset=0)\n",
    "print('Data are ready')"
   ]
  },
  {
   "cell_type": "code",
   "execution_count": 16,
   "id": "8f844758",
   "metadata": {},
   "outputs": [],
   "source": [
    "X=np.array(dataset,dtype=object)[:,0]\n",
    "y=np.array(dataset,dtype=object)[:,1]\n",
    "X_train, X_test, y_train, y_test = train_test_split(X, y, test_size=0.1, random_state=42)"
   ]
  },
  {
   "cell_type": "markdown",
   "id": "7eaa096b",
   "metadata": {},
   "source": [
    "# Testing with Weisfeler Lehman"
   ]
  },
  {
   "cell_type": "code",
   "execution_count": 17,
   "id": "6aaa7b18",
   "metadata": {},
   "outputs": [
    {
     "name": "stdout",
     "output_type": "stream",
     "text": [
      "Accuracy: 63.16%\n"
     ]
    }
   ],
   "source": [
    "#transform featurex\n",
    "kernel=Weisfeiler_Lehman(normalise=True,h=0,node_label='attr_dict')\n",
    "k_train=kernel.fit_transform(list(G_train))\n",
    "k_test=kernel.transform(list(G_test))\n",
    "# Uses the SVM classifier to perform classification\n",
    "clf = SVC(kernel='precomputed')\n",
    "clf.fit(np.asarray(k_train), np.ravel(y_train).astype(int))\n",
    "y_pred = clf.predict(np.asarray(k_test))\n",
    "# Computes and prints the classification accuracy\n",
    "acc = accuracy_score(np.array(y_test,dtype=int), np.array(y_pred,dtype=int))\n",
    "print(\"Accuracy:\", str(round(acc*100, 2)) + \"%\")"
   ]
  },
  {
   "cell_type": "markdown",
   "id": "3d25c56d",
   "metadata": {},
   "source": [
    "# Testing with an heterogenous arhitecture"
   ]
  },
  {
   "cell_type": "code",
   "execution_count": null,
   "id": "7e63ad23",
   "metadata": {},
   "outputs": [],
   "source": []
  }
 ],
 "metadata": {
  "kernelspec": {
   "display_name": "Python 3.10.5 64-bit",
   "language": "python",
   "name": "python3"
  },
  "language_info": {
   "codemirror_mode": {
    "name": "ipython",
    "version": 3
   },
   "file_extension": ".py",
   "mimetype": "text/x-python",
   "name": "python",
   "nbconvert_exporter": "python",
   "pygments_lexer": "ipython3",
   "version": "3.10.5"
  },
  "vscode": {
   "interpreter": {
    "hash": "06a8be8316eed2f6558da5cb68a9abde15f0a0ec61139bf81bc916fa7c6839e3"
   }
  }
 },
 "nbformat": 4,
 "nbformat_minor": 5
}
