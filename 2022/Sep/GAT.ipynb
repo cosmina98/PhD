{
  "nbformat": 4,
  "nbformat_minor": 0,
  "metadata": {
    "colab": {
      "provenance": [],
      "authorship_tag": "ABX9TyNf0yAnWTtKVEoYK3nh2Vet",
      "include_colab_link": true
    },
    "kernelspec": {
      "name": "python3",
      "display_name": "Python 3"
    },
    "language_info": {
      "name": "python"
    }
  },
  "cells": [
    {
      "cell_type": "markdown",
      "metadata": {
        "id": "view-in-github",
        "colab_type": "text"
      },
      "source": [
        "<a href=\"https://colab.research.google.com/github/cosmina98/PhD/blob/main/2022/Sep/GAT.ipynb\" target=\"_parent\"><img src=\"https://colab.research.google.com/assets/colab-badge.svg\" alt=\"Open In Colab\"/></a>"
      ]
    },
    {
      "cell_type": "markdown",
      "source": [
        "#Imports"
      ],
      "metadata": {
        "id": "IEi-AdUURZR-"
      }
    },
    {
      "cell_type": "code",
      "execution_count": 1,
      "metadata": {
        "colab": {
          "base_uri": "https://localhost:8080/"
        },
        "id": "G6BZOe9VKg1H",
        "outputId": "b5b4472f-7bd4-41fd-aad9-8c890453e374"
      },
      "outputs": [
        {
          "output_type": "stream",
          "name": "stdout",
          "text": [
            "1.12.1+cu113\n",
            "\u001b[K     |████████████████████████████████| 467 kB 5.3 MB/s \n",
            "\u001b[?25h  Building wheel for torch-geometric (setup.py) ... \u001b[?25l\u001b[?25hdone\n",
            "\u001b[K     |████████████████████████████████| 7.9 MB 2.9 MB/s \n",
            "\u001b[K     |████████████████████████████████| 3.5 MB 2.9 MB/s \n",
            "\u001b[?25h  Building wheel for torch-geometric (setup.py) ... \u001b[?25l\u001b[?25hdone\n"
          ]
        }
      ],
      "source": [
        "import os\n",
        "import torch\n",
        "os.environ['TORCH'] = torch.__version__\n",
        "print(torch.__version__)\n",
        "!pip install plotnine --quiet\n",
        "!pip install torch_geometric  --quiet\n",
        "!pip install torch_geometric  --quiet\n",
        "!pip install -q torch-scatter -f https://data.pyg.org/whl/torch-${TORCH}.html --quiet\n",
        "!pip install -q torch-sparse -f https://data.pyg.org/whl/torch-${TORCH}.html  --quiet\n",
        "!pip install -q git+https://github.com/pyg-team/pytorch_geometric.git   --quiet"
      ]
    },
    {
      "cell_type": "code",
      "source": [
        "import torch.nn.functional as F\n",
        "from torch.nn import Parameter as Param\n",
        "from torch.nn import Parameter, Module\n",
        "from torch.nn import Sequential, Linear, ReLU\n",
        "from torch.optim import Optimizer\n",
        "from torch import Tensor\n",
        "from torch import nn\n",
        "from torch.optim.sgd import SGD\n",
        "import torch_geometric\n",
        "import torch_geometric.transforms as T\n",
        "from torch_geometric.data import Data\n",
        "from torch_geometric.datasets import Planetoid\n",
        "from torch_geometric.nn import GCNConv,ChebConv,GATConv\n",
        "from torch_geometric.utils import get_laplacian\n",
        "from torch_geometric.utils import to_scipy_sparse_matrix\n",
        "from torch_geometric.nn import GatedGraphConv\n",
        "from torch_geometric.nn import MessagePassing, SAGEConv, GINConv, global_add_pool\n",
        "from torch_geometric.nn.inits import uniform\n",
        "from torch.optim.adam import Adam\n",
        "\n",
        "import os.path as osp\n",
        "\n",
        "\n",
        "from typing import Callable, List, Optional, Tuple\n",
        "from typing_extensions import Literal, TypedDict\n",
        "\n",
        "import matplotlib.pyplot as plt\n",
        "import numpy as np\n",
        "import pandas as pd\n",
        "from sklearn.model_selection import KFold\n",
        "from sklearn import metrics\n",
        "from sklearn.metrics import accuracy_score\n",
        "from tqdm.notebook import trange, tqdm\n",
        "import copy\n",
        "import random\n",
        "import time\n",
        "import  math\n",
        "import itertools\n",
        "from functools import reduce\n",
        "import operator\n",
        "import torch.utils.data as data_utils\n",
        "from sklearn.metrics import classification_report\n",
        "from sklearn.metrics import confusion_matrix\n",
        "import matplotlib.pyplot as plt\n",
        "from sklearn.metrics import multilabel_confusion_matrix\n",
        "from torch.utils.data import Subset\n",
        "from plotnine import ggplot, geom_line, aes, xlab, theme, element_blank, ggtitle\n",
        "from collections import OrderedDict\n",
        "from typing_extensions import Literal, TypedDict\n",
        "from torch_sparse import SparseTensor\n",
        "from torch_scatter import gather_csr, scatter, segment_csr\n",
        "\n",
        "import inspect\n",
        "\n",
        "from torch.utils.data import DataLoader\n",
        "\n",
        "device = torch.device('cuda' if torch.cuda.is_available()  else 'cpu')"
      ],
      "metadata": {
        "id": "n3fNCYmDRA7p"
      },
      "execution_count": 32,
      "outputs": []
    },
    {
      "cell_type": "markdown",
      "source": [
        "#Dataset Imports "
      ],
      "metadata": {
        "id": "0ILRkMf4RfBu"
      }
    },
    {
      "cell_type": "code",
      "source": [
        "dataset=list(range(3))\n",
        "i=0\n",
        "for dataset_name in ['Cora','CiteSeer','PubMed']:\n",
        "    dataset[i] = Planetoid('/tmp/dataset_name', name=dataset_name,transform=T.NormalizeFeatures())\n",
        "    num_nodes = dataset[i].data.num_nodes\n",
        "    num_edges = dataset[i].data.num_edges // 2\n",
        "    train_len = dataset[i][0].train_mask.sum()\n",
        "    val_len = dataset[i][0].val_mask.sum()\n",
        "    test_len = dataset[i][0].test_mask.sum()\n",
        "    other_len = num_nodes - train_len - val_len - test_len\n",
        "    print(f\"Dataset: {dataset[i].name}\")\n",
        "    print(f\"Num. nodes: {num_nodes} (train={train_len}, val={val_len}, test={test_len}, other={other_len})\")\n",
        "    print(f\"Num. edges: {num_edges}\")\n",
        "    print(f\"Num. node features: {dataset[i].num_node_features}\")\n",
        "    print(f\"Num. classes: {dataset[i].num_classes}\")\n",
        "    print(f\"Dataset len.: {dataset[i].len()}\")\n",
        "    i=i+1\n",
        "    print(\" \")"
      ],
      "metadata": {
        "colab": {
          "base_uri": "https://localhost:8080/"
        },
        "id": "3mUmCgkKRBAe",
        "outputId": "4024ebcd-c59f-4a38-c24b-5684c0ce648a"
      },
      "execution_count": 4,
      "outputs": [
        {
          "output_type": "stream",
          "name": "stdout",
          "text": [
            "Dataset: Cora\n",
            "Num. nodes: 2708 (train=140, val=500, test=1000, other=1068)\n",
            "Num. edges: 5278\n",
            "Num. node features: 1433\n",
            "Num. classes: 7\n",
            "Dataset len.: 1\n",
            " \n",
            "Dataset: CiteSeer\n",
            "Num. nodes: 3327 (train=120, val=500, test=1000, other=1707)\n",
            "Num. edges: 4552\n",
            "Num. node features: 3703\n",
            "Num. classes: 6\n",
            "Dataset len.: 1\n",
            " \n",
            "Dataset: PubMed\n",
            "Num. nodes: 19717 (train=60, val=500, test=1000, other=18157)\n",
            "Num. edges: 44324\n",
            "Num. node features: 500\n",
            "Num. classes: 3\n",
            "Dataset len.: 1\n",
            " \n"
          ]
        }
      ]
    },
    {
      "cell_type": "markdown",
      "source": [
        "#Section for practice "
      ],
      "metadata": {
        "id": "uBTupxqGRqgG"
      }
    },
    {
      "cell_type": "markdown",
      "source": [
        "## GAT layer no forward\n",
        "\n",
        "```\n",
        "# This is formatted as code\n",
        "```\n",
        "\n"
      ],
      "metadata": {
        "id": "fBxOlZ_4Sa8X"
      }
    },
    {
      "cell_type": "code",
      "source": [
        "class GATLayer(nn.Module):\n",
        "    \"\"\"\n",
        "    Simple PyTorch Implementation of the Graph Attention layer.\n",
        "    \"\"\"\n",
        "    def __init__(self):\n",
        "        super(GATLayer, self).__init__()\n",
        "      \n",
        "    def forward(self, input, adj):\n",
        "        print(\"\")"
      ],
      "metadata": {
        "id": "se_UrnMXRBC2"
      },
      "execution_count": 5,
      "outputs": []
    },
    {
      "cell_type": "markdown",
      "source": [
        "##Linear Transformation"
      ],
      "metadata": {
        "id": "AbE1ITKZSg6_"
      }
    },
    {
      "cell_type": "code",
      "source": [
        "in_features = 5\n",
        "out_features = 2\n",
        "nb_nodes = 3\n",
        "\n",
        "W = nn.Parameter(torch.zeros(size=(in_features, out_features))) #xavier paramiter inizializator\n",
        "nn.init.xavier_uniform_(W.data, gain=1.414)\n",
        "\n",
        "input = torch.rand(nb_nodes,in_features) \n",
        "\n",
        "\n",
        "# linear transformation\n",
        "h = torch.mm(input, W)\n",
        "N = h.size()[0]\n",
        "\n",
        "print(h.shape)"
      ],
      "metadata": {
        "colab": {
          "base_uri": "https://localhost:8080/"
        },
        "id": "kI5mS0_uRBG3",
        "outputId": "81cbfbdf-fab3-40ca-9134-5974242fd9b4"
      },
      "execution_count": 6,
      "outputs": [
        {
          "output_type": "stream",
          "name": "stdout",
          "text": [
            "torch.Size([3, 2])\n"
          ]
        }
      ]
    },
    {
      "cell_type": "markdown",
      "source": [
        "##Attention mechanism"
      ],
      "metadata": {
        "id": "ZYVm9rjZSrgX"
      }
    },
    {
      "cell_type": "code",
      "source": [
        "a = nn.Parameter(torch.zeros(size=(2*out_features, 1))) #xavier paramiter inizializator\n",
        "nn.init.xavier_uniform_(a.data, gain=1.414)\n",
        "print(a.shape)\n",
        "\n",
        "leakyrelu = nn.LeakyReLU(0.2)  # LeakyReLU"
      ],
      "metadata": {
        "colab": {
          "base_uri": "https://localhost:8080/"
        },
        "id": "q0gWEnRZTt7g",
        "outputId": "2b2d86a4-bc97-4cb9-ff8c-583f47baa16d"
      },
      "execution_count": 10,
      "outputs": [
        {
          "output_type": "stream",
          "name": "stdout",
          "text": [
            "torch.Size([4, 1])\n"
          ]
        }
      ]
    },
    {
      "cell_type": "code",
      "source": [
        "a_input = torch.cat([h.repeat(1, N).view(N * N, -1), h.repeat(N, 1)], dim=1).view(N, -1, 2 * out_features)"
      ],
      "metadata": {
        "id": "zIXAKjUjRvbG"
      },
      "execution_count": 11,
      "outputs": []
    },
    {
      "cell_type": "code",
      "source": [
        "e = leakyrelu(torch.matmul(a_input, a).squeeze(2))"
      ],
      "metadata": {
        "id": "7o3yqi7uRyv2"
      },
      "execution_count": 15,
      "outputs": []
    },
    {
      "cell_type": "code",
      "source": [
        "print(a_input.shape,a.shape)\n",
        "print(\"\")\n",
        "print(torch.matmul(a_input,a).shape)\n",
        "print(\"\")\n",
        "print(torch.matmul(a_input,a).squeeze(2).shape)"
      ],
      "metadata": {
        "colab": {
          "base_uri": "https://localhost:8080/"
        },
        "id": "cuDlbBvCRvdu",
        "outputId": "06b26eae-9b1a-41f1-f9df-edc81e704de7"
      },
      "execution_count": 16,
      "outputs": [
        {
          "output_type": "stream",
          "name": "stdout",
          "text": [
            "torch.Size([3, 3, 4]) torch.Size([4, 1])\n",
            "\n",
            "torch.Size([3, 3, 1])\n",
            "\n",
            "torch.Size([3, 3])\n"
          ]
        }
      ]
    },
    {
      "cell_type": "code",
      "source": [
        "e.shape"
      ],
      "metadata": {
        "colab": {
          "base_uri": "https://localhost:8080/"
        },
        "id": "GlS_4-ISRvf2",
        "outputId": "9b3a9f4a-bc82-4563-a055-3c89e316eb28"
      },
      "execution_count": 20,
      "outputs": [
        {
          "output_type": "execute_result",
          "data": {
            "text/plain": [
              "torch.Size([3, 3])"
            ]
          },
          "metadata": {},
          "execution_count": 20
        }
      ]
    },
    {
      "cell_type": "code",
      "source": [
        "torch.matmul(a_input,a).squeeze(2).shape"
      ],
      "metadata": {
        "colab": {
          "base_uri": "https://localhost:8080/"
        },
        "id": "LSWfMD2wRviO",
        "outputId": "4889337a-f748-43b2-b632-245931f4bc44"
      },
      "execution_count": 21,
      "outputs": [
        {
          "output_type": "execute_result",
          "data": {
            "text/plain": [
              "torch.Size([3, 3])"
            ]
          },
          "metadata": {},
          "execution_count": 21
        }
      ]
    },
    {
      "cell_type": "markdown",
      "source": [
        "\n",
        "##Masked Attention"
      ],
      "metadata": {
        "id": "oTWIieroZBWa"
      }
    },
    {
      "cell_type": "code",
      "source": [
        "# Masked Attention\n",
        "adj = torch.randint(2, (3, 3))\n",
        "\n",
        "zero_vec  = -9e15*torch.ones_like(e)\n",
        "print(zero_vec.shape)\n",
        "print(zero_vec)"
      ],
      "metadata": {
        "colab": {
          "base_uri": "https://localhost:8080/"
        },
        "id": "RmdHv6DARvkg",
        "outputId": "b057434e-1fba-4019-94d1-032edfe9ee11"
      },
      "execution_count": 29,
      "outputs": [
        {
          "output_type": "stream",
          "name": "stdout",
          "text": [
            "torch.Size([3, 3])\n",
            "tensor([[-9.0000e+15, -9.0000e+15, -9.0000e+15],\n",
            "        [-9.0000e+15, -9.0000e+15, -9.0000e+15],\n",
            "        [-9.0000e+15, -9.0000e+15, -9.0000e+15]])\n"
          ]
        }
      ]
    },
    {
      "cell_type": "code",
      "source": [
        "attention = torch.where(adj > 0, e, zero_vec)\n",
        "print(adj,\"\\n\",e,\"\\n\",zero_vec)\n",
        "attention"
      ],
      "metadata": {
        "colab": {
          "base_uri": "https://localhost:8080/"
        },
        "id": "jIrcGdMXRBJV",
        "outputId": "5ea69fec-7b47-4ed7-8ab3-d10a00b64a92"
      },
      "execution_count": 23,
      "outputs": [
        {
          "output_type": "stream",
          "name": "stdout",
          "text": [
            "tensor([[0, 1, 0],\n",
            "        [0, 0, 0],\n",
            "        [0, 0, 0]]) \n",
            " tensor([[3.8312, 2.2210, 3.4833],\n",
            "        [2.8755, 1.2653, 2.5276],\n",
            "        [2.7043, 1.0942, 2.3564]], grad_fn=<LeakyReluBackward0>) \n",
            " tensor([[-9.0000e+15, -9.0000e+15, -9.0000e+15],\n",
            "        [-9.0000e+15, -9.0000e+15, -9.0000e+15],\n",
            "        [-9.0000e+15, -9.0000e+15, -9.0000e+15]])\n"
          ]
        },
        {
          "output_type": "execute_result",
          "data": {
            "text/plain": [
              "tensor([[-9.0000e+15,  2.2210e+00, -9.0000e+15],\n",
              "        [-9.0000e+15, -9.0000e+15, -9.0000e+15],\n",
              "        [-9.0000e+15, -9.0000e+15, -9.0000e+15]], grad_fn=<WhereBackward0>)"
            ]
          },
          "metadata": {},
          "execution_count": 23
        }
      ]
    },
    {
      "cell_type": "code",
      "source": [
        "attention = F.softmax(attention, dim=1)\n",
        "h_prime   = torch.matmul(attention, h)"
      ],
      "metadata": {
        "id": "fsOvu8uRZMhi"
      },
      "execution_count": 25,
      "outputs": []
    },
    {
      "cell_type": "code",
      "source": [
        "attention"
      ],
      "metadata": {
        "colab": {
          "base_uri": "https://localhost:8080/"
        },
        "id": "IljcfZr4ZgVB",
        "outputId": "b90d7de1-d584-420d-e66f-98838f62c8ce"
      },
      "execution_count": 27,
      "outputs": [
        {
          "output_type": "execute_result",
          "data": {
            "text/plain": [
              "tensor([[0.0000, 1.0000, 0.0000],\n",
              "        [0.3333, 0.3333, 0.3333],\n",
              "        [0.3333, 0.3333, 0.3333]], grad_fn=<SoftmaxBackward0>)"
            ]
          },
          "metadata": {},
          "execution_count": 27
        }
      ]
    },
    {
      "cell_type": "code",
      "source": [
        "h_prime"
      ],
      "metadata": {
        "colab": {
          "base_uri": "https://localhost:8080/"
        },
        "id": "CRm8wdoyZMkq",
        "outputId": "f3a09f64-f9c5-40e2-ed62-2cf56f29f88f"
      },
      "execution_count": 26,
      "outputs": [
        {
          "output_type": "execute_result",
          "data": {
            "text/plain": [
              "tensor([[0.6255, 0.0836],\n",
              "        [1.2913, 0.0947],\n",
              "        [1.2913, 0.0947]], grad_fn=<MmBackward0>)"
            ]
          },
          "metadata": {},
          "execution_count": 26
        }
      ]
    },
    {
      "cell_type": "code",
      "source": [
        "print(h_prime,\"\\n\",h)"
      ],
      "metadata": {
        "colab": {
          "base_uri": "https://localhost:8080/"
        },
        "id": "ObxfnOYrZMnZ",
        "outputId": "7c64dac1-4465-4a4d-fec6-73cc85d2a490"
      },
      "execution_count": 28,
      "outputs": [
        {
          "output_type": "stream",
          "name": "stdout",
          "text": [
            "tensor([[0.6255, 0.0836],\n",
            "        [1.2913, 0.0947],\n",
            "        [1.2913, 0.0947]], grad_fn=<MmBackward0>) \n",
            " tensor([[ 1.6250,  0.5482],\n",
            "        [ 0.6255,  0.0836],\n",
            "        [ 1.6233, -0.3478]], grad_fn=<MmBackward0>)\n"
          ]
        }
      ]
    },
    {
      "cell_type": "markdown",
      "source": [
        "##Getting all the toghether"
      ],
      "metadata": {
        "id": "E4b6p8N1cEs7"
      }
    },
    {
      "cell_type": "code",
      "source": [
        "class GATLayer(nn.Module):\n",
        "    def __init__(self, in_features, out_features, dropout, alpha, concat=True):\n",
        "        super(GATLayer, self).__init__()\n",
        "        self.dropout       = dropout        # drop prob = 0.6\n",
        "        self.in_features   = in_features    # \n",
        "        self.out_features  = out_features   # \n",
        "        self.alpha         = alpha          # LeakyReLU with negative input slope, alpha = 0.2\n",
        "        self.concat        = concat         # conacat = True for all layers except the output layer.\n",
        "\n",
        "        \n",
        "        # Xavier Initialization of Weights\n",
        "        # Alternatively use weights_init to apply weights of choice \n",
        "        self.W = nn.Parameter(torch.zeros(size=(in_features, out_features)))\n",
        "        nn.init.xavier_uniform_(self.W.data, gain=1.414)\n",
        "        \n",
        "        self.a = nn.Parameter(torch.zeros(size=(2*out_features, 1)))\n",
        "        nn.init.xavier_uniform_(self.a.data, gain=1.414)\n",
        "        \n",
        "        # LeakyReLU\n",
        "        self.leakyrelu = nn.LeakyReLU(self.alpha)\n",
        "\n",
        "    def forward(self, input, adj):\n",
        "        # Linear Transformation\n",
        "        h = torch.mm(input, self.W) # matrix multiplication\n",
        "        N = h.size()[0]\n",
        "        print(N)\n",
        "\n",
        "        # Attention Mechanism\n",
        "        a_input = torch.cat([h.repeat(1, N).view(N * N, -1), h.repeat(N, 1)], dim=1).view(N, -1, 2 * self.out_features)\n",
        "        e       = self.leakyrelu(torch.matmul(a_input, self.a).squeeze(2))\n",
        "\n",
        "        # Masked Attention\n",
        "        zero_vec  = -9e15*torch.ones_like(e)\n",
        "        attention = torch.where(adj > 0, e, zero_vec)\n",
        "        \n",
        "        attention = F.softmax(attention, dim=1)\n",
        "        attention = F.dropout(attention, self.dropout, training=self.training)\n",
        "        h_prime   = torch.matmul(attention, h)\n",
        "\n",
        "        if self.concat:\n",
        "            return F.elu(h_prime)\n",
        "        else:\n",
        "            return h_prime"
      ],
      "metadata": {
        "id": "NsZM7_7RZMsp"
      },
      "execution_count": null,
      "outputs": []
    },
    {
      "cell_type": "markdown",
      "source": [
        "#The model"
      ],
      "metadata": {
        "id": "9Zj4eQbGbgKW"
      }
    },
    {
      "cell_type": "code",
      "source": [
        "class GAT(torch.nn.Module):\n",
        "    def __init__(self,num_features,num_classes):\n",
        "        super(GAT, self).__init__()\n",
        "        self.hid = 8\n",
        "        self.in_head = 8\n",
        "        self.out_head = 1\n",
        "\n",
        "        self.conv1 = GATConv(num_features, self.hid, heads=self.in_head, dropout=0.6)\n",
        "        self.conv2 = GATConv(self.hid*self.in_head, num_classes, concat=False,\n",
        "                             heads=self.out_head, dropout=0.6)\n",
        "\n",
        "    def forward(self, x, edge_index):\n",
        "                \n",
        "        x = F.dropout(x, p=0.6, training=self.training)\n",
        "        x = self.conv1(x, edge_index)\n",
        "        x = F.elu(x)\n",
        "        x = F.dropout(x, p=0.6, training=self.training)\n",
        "        x = self.conv2(x, edge_index)\n",
        "        \n",
        "        return F.log_softmax(x, dim=1)"
      ],
      "metadata": {
        "id": "cWomTWO9ZMwu"
      },
      "execution_count": 40,
      "outputs": []
    },
    {
      "cell_type": "code",
      "source": [
        "print(GAT(dataset[0].num_node_features, dataset[0].num_classes))\n",
        "print(GAT(dataset[1].num_node_features, dataset[1].num_classes))\n",
        "print(GAT(dataset[2].num_node_features, dataset[2].num_classes))"
      ],
      "metadata": {
        "colab": {
          "base_uri": "https://localhost:8080/"
        },
        "id": "I5dZxE-rehir",
        "outputId": "ef0c51a8-8147-4c38-d3af-03cd436ecc45"
      },
      "execution_count": 37,
      "outputs": [
        {
          "output_type": "stream",
          "name": "stdout",
          "text": [
            "GAT(\n",
            "  (conv1): GATConv(1433, 8, heads=8)\n",
            "  (conv2): GATConv(64, 7, heads=1)\n",
            ")\n",
            "GAT(\n",
            "  (conv1): GATConv(3703, 8, heads=8)\n",
            "  (conv2): GATConv(64, 6, heads=1)\n",
            ")\n",
            "GAT(\n",
            "  (conv1): GATConv(500, 8, heads=8)\n",
            "  (conv2): GATConv(64, 3, heads=1)\n",
            ")\n"
          ]
        }
      ]
    },
    {
      "cell_type": "markdown",
      "source": [
        "#Train and eval steps "
      ],
      "metadata": {
        "id": "-ctm1wCqfuAu"
      }
    },
    {
      "cell_type": "code",
      "source": [
        "# we reb not using the original implementation of he framework \n",
        "# in fact we re using the model provided by Pytorch\n",
        "LossFn= Callable[[Tensor, Tensor], Tensor]\n",
        "Stage= Literal[\"train\", \"val\", \"test\"]\n",
        "\n",
        "def train_step(\n",
        "    model: torch.nn.Module, data:Data, optimizer: torch.optim.Optimizer, loss_fn:LossFn)-> Tuple[float, float]:\n",
        "    model.train()\n",
        "    optimizer.zero_grad()\n",
        "    mask=data.train_mask\n",
        "    logits=model(data.x, data.edge_index)[mask]\n",
        "    preds=logits.argmax(dim=1)\n",
        "    y=data.y[mask]\n",
        "    loss= loss_fn(logits, y)\n",
        "    acc=accuracy_score(preds, y)\n",
        "    loss.backward()\n",
        "    optimizer.step()\n",
        "    return loss.item(), acc\n",
        "\n",
        "\n",
        "@torch.no_grad()\n",
        "def eval_step(model:torch.nn.Module, data:Data, loss_fn:LossFn, stage:Stage)-> Tuple[float, float]:\n",
        "    model.eval()\n",
        "    mask=getattr(data, f\"{stage}_mask\")\n",
        "    logits=model(data.x, data.edge_index)[mask]\n",
        "    preds=logits.argmax(dim=1)\n",
        "    y=data.y[mask]\n",
        "    loss=loss_fn(logits, y)\n",
        "    acc=accuracy_score(preds, y)\n",
        "    return loss.item(), acc"
      ],
      "metadata": {
        "id": "PRv8eGXUZM0U"
      },
      "execution_count": 41,
      "outputs": []
    },
    {
      "cell_type": "code",
      "source": [
        "class HistoryDict(TypedDict):\n",
        "    loss: List[float]\n",
        "    acc: List[float]\n",
        "    val_loss: List[float]\n",
        "    val_acc: List[float]\n",
        "\n",
        "def train(\n",
        "    model: torch.nn.Module,\n",
        "    data: Data,\n",
        "    optimizer: torch.optim.Optimizer,\n",
        "    loss_fn: LossFn = torch.nn.CrossEntropyLoss(),\n",
        "    max_epochs: int = 200,\n",
        "    early_stopping: int = 10,\n",
        "    print_interval: int = 20,\n",
        "    verbose: bool = True,\n",
        ") -> HistoryDict:\n",
        "    history = {\"loss\": [], \"val_loss\": [], \"acc\": [], \"val_acc\": [],\"test_acc\":[],\"test_loss\":[]}\n",
        "    for epoch in range(max_epochs):\n",
        "        loss, acc = train_step(model, data, optimizer, loss_fn)\n",
        "        val_loss, val_acc = eval_step(model, data, loss_fn, \"val\")\n",
        "        history[\"loss\"].append(loss)\n",
        "        history[\"acc\"].append(acc)\n",
        "        history[\"val_loss\"].append(val_loss)\n",
        "        history[\"val_acc\"].append(val_acc)\n",
        "        # The official implementation in TensorFlow is a little different from what is described in the paper...\n",
        "        if epoch > early_stopping and val_loss > np.mean(history[\"val_loss\"][-(early_stopping + 1) : -1]):\n",
        "            if verbose:\n",
        "                print(\"\\nEarly stopping...\")\n",
        "\n",
        "            break\n",
        "\n",
        "        if verbose and epoch % print_interval == 0:\n",
        "            print(f\"\\nEpoch: {epoch}\\n----------\")\n",
        "            print(f\"Train loss: {loss:.4f} | Train acc: {acc:.4f}\")\n",
        "            print(f\"  Val loss: {val_loss:.4f} |   Val acc: {val_acc:.4f}\")\n",
        "\n",
        "    test_loss, test_acc = eval_step(model, data, loss_fn, \"test\")\n",
        "    if verbose:\n",
        "        print(f\"\\nEpoch: {epoch}\\n----------\")\n",
        "        print(f\"Train loss: {loss:.4f} | Train acc: {acc:.4f}\")\n",
        "        print(f\"  Val loss: {val_loss:.4f} |   Val acc: {val_acc:.4f}\")\n",
        "        print(f\" Test loss: {test_loss:.4f} |  Test acc: {test_acc:.4f}\")\n",
        "    history[\"test_loss\"].append(test_loss)\n",
        "    history[\"test_acc\"].append(test_acc)\n",
        "    return history\n",
        "def plot_history(history: HistoryDict, title: str, font_size: Optional[int] = 14) -> None:\n",
        "    plt.suptitle(title, fontsize=font_size)\n",
        "    ax1 = plt.subplot(121)\n",
        "    ax1.set_title(\"Loss\")\n",
        "    ax1.plot(history[\"loss\"], label=\"train\")\n",
        "    ax1.plot(history[\"val_loss\"], label=\"val\")\n",
        "    plt.xlabel(\"Epoch\")\n",
        "    ax1.legend()\n",
        "\n",
        "    ax2 = plt.subplot(122)\n",
        "    ax2.set_title(\"Accuracy\")\n",
        "    ax2.plot(history[\"acc\"], label=\"train\")\n",
        "    ax2.plot(history[\"val_acc\"], label=\"val\")\n",
        "    plt.xlabel(\"Epoch\")\n",
        "    ax2.legend()"
      ],
      "metadata": {
        "id": "uK3xXR63fxY-"
      },
      "execution_count": 42,
      "outputs": []
    },
    {
      "cell_type": "code",
      "source": [
        "SEED = 42\n",
        "MAX_EPOCHS = 200\n",
        "LEARNING_RATE = 0.01\n",
        "WEIGHT_DECAY = 5e-4\n",
        "EARLY_STOPPING = 10\n",
        "\n",
        "torch.manual_seed(SEED)\n",
        "device = torch.device(\"cuda\" if torch.cuda.is_available() else \"cpu\")\n",
        "\n",
        "model = GAT(dataset[0].num_node_features, dataset[0].num_classes)\n",
        "data = dataset[0][0].to(device)\n",
        "optimizer = torch.optim.Adam(model.parameters(), lr=LEARNING_RATE, weight_decay=WEIGHT_DECAY)\n",
        "history = train(model, data, optimizer, max_epochs=MAX_EPOCHS, early_stopping=EARLY_STOPPING)\n",
        "\n",
        "model2 = GAT(dataset[1].num_node_features, dataset[1].num_classes).to(device)\n",
        "data2 = dataset[1][0].to(device)\n",
        "optimizer = torch.optim.Adam(model2.parameters(), lr=LEARNING_RATE, weight_decay=WEIGHT_DECAY)\n",
        "history2 = train(model2, data2, optimizer, max_epochs=MAX_EPOCHS, early_stopping=EARLY_STOPPING)\n",
        "\n",
        "model3 = GAT(dataset[2].num_node_features, dataset[2].num_classes).to(device)\n",
        "data3 = dataset[2][0].to(device)\n",
        "optimizer = torch.optim.Adam(model3.parameters(), lr=LEARNING_RATE, weight_decay=WEIGHT_DECAY)\n",
        "history3= train(model3, data3, optimizer, max_epochs=MAX_EPOCHS, early_stopping=EARLY_STOPPING)"
      ],
      "metadata": {
        "colab": {
          "base_uri": "https://localhost:8080/"
        },
        "id": "boX--9dMfxbl",
        "outputId": "b3e89bf4-dedb-4587-f6ec-2b71a4124747"
      },
      "execution_count": 43,
      "outputs": [
        {
          "output_type": "stream",
          "name": "stdout",
          "text": [
            "\n",
            "Epoch: 0\n",
            "----------\n",
            "Train loss: 1.9460 | Train acc: 0.1143\n",
            "  Val loss: 1.9449 |   Val acc: 0.2440\n",
            "\n",
            "Epoch: 20\n",
            "----------\n",
            "Train loss: 1.6184 | Train acc: 0.7071\n",
            "  Val loss: 1.6826 |   Val acc: 0.7860\n",
            "\n",
            "Epoch: 40\n",
            "----------\n",
            "Train loss: 1.0734 | Train acc: 0.8214\n",
            "  Val loss: 1.2606 |   Val acc: 0.7980\n",
            "\n",
            "Epoch: 60\n",
            "----------\n",
            "Train loss: 0.8565 | Train acc: 0.8429\n",
            "  Val loss: 1.0189 |   Val acc: 0.7840\n",
            "\n",
            "Epoch: 80\n",
            "----------\n",
            "Train loss: 0.8164 | Train acc: 0.7643\n",
            "  Val loss: 0.9062 |   Val acc: 0.8060\n",
            "\n",
            "Early stopping...\n",
            "\n",
            "Epoch: 99\n",
            "----------\n",
            "Train loss: 0.6891 | Train acc: 0.8214\n",
            "  Val loss: 0.8441 |   Val acc: 0.8100\n",
            " Test loss: 0.8073 |  Test acc: 0.8100\n",
            "\n",
            "Epoch: 0\n",
            "----------\n",
            "Train loss: 1.7914 | Train acc: 0.1500\n",
            "  Val loss: 1.7815 |   Val acc: 0.4100\n",
            "\n",
            "Epoch: 20\n",
            "----------\n",
            "Train loss: 1.5312 | Train acc: 0.6583\n",
            "  Val loss: 1.6542 |   Val acc: 0.7100\n",
            "\n",
            "Epoch: 40\n",
            "----------\n",
            "Train loss: 1.2548 | Train acc: 0.6750\n",
            "  Val loss: 1.4382 |   Val acc: 0.7000\n",
            "\n",
            "Epoch: 60\n",
            "----------\n",
            "Train loss: 0.9926 | Train acc: 0.7083\n",
            "  Val loss: 1.2548 |   Val acc: 0.7080\n",
            "\n",
            "Epoch: 80\n",
            "----------\n",
            "Train loss: 0.8907 | Train acc: 0.7583\n",
            "  Val loss: 1.1614 |   Val acc: 0.7200\n",
            "\n",
            "Early stopping...\n",
            "\n",
            "Epoch: 92\n",
            "----------\n",
            "Train loss: 0.7256 | Train acc: 0.8000\n",
            "  Val loss: 1.1422 |   Val acc: 0.7240\n",
            " Test loss: 1.1354 |  Test acc: 0.7010\n",
            "\n",
            "Epoch: 0\n",
            "----------\n",
            "Train loss: 1.1006 | Train acc: 0.3333\n",
            "  Val loss: 1.0915 |   Val acc: 0.4940\n",
            "\n",
            "Epoch: 20\n",
            "----------\n",
            "Train loss: 0.7539 | Train acc: 0.7667\n",
            "  Val loss: 0.8559 |   Val acc: 0.7500\n",
            "\n",
            "Epoch: 40\n",
            "----------\n",
            "Train loss: 0.4868 | Train acc: 0.8667\n",
            "  Val loss: 0.6594 |   Val acc: 0.7720\n",
            "\n",
            "Early stopping...\n",
            "\n",
            "Epoch: 59\n",
            "----------\n",
            "Train loss: 0.4656 | Train acc: 0.9000\n",
            "  Val loss: 0.6053 |   Val acc: 0.7880\n",
            " Test loss: 0.6220 |  Test acc: 0.7770\n"
          ]
        }
      ]
    },
    {
      "cell_type": "code",
      "source": [
        "plt.figure(figsize=(12, 4))\n",
        "plot_history(history, \"Cora-GAT\")"
      ],
      "metadata": {
        "colab": {
          "base_uri": "https://localhost:8080/",
          "height": 308
        },
        "id": "dgdl-w9Gfxg7",
        "outputId": "5c10a4a4-1928-4308-e140-d6279dbaa3e5"
      },
      "execution_count": 44,
      "outputs": [
        {
          "output_type": "display_data",
          "data": {
            "text/plain": [
              "<Figure size 864x288 with 2 Axes>"
            ],
            "image/png": "[encoded data removed]"
          },
          "metadata": {
            "needs_background": "light"
          }
        }
      ]
    },
    {
      "cell_type": "code",
      "source": [
        "plt.figure(figsize=(12, 4))\n",
        "plot_history(history2, \"CiteSeer-GAT\")"
      ],
      "metadata": {
        "colab": {
          "base_uri": "https://localhost:8080/",
          "height": 308
        },
        "id": "6XtAc52rgPX1",
        "outputId": "d1f426b5-fbda-411c-c5c9-c09d8886be88"
      },
      "execution_count": 45,
      "outputs": [
        {
          "output_type": "display_data",
          "data": {
            "text/plain": [
              "<Figure size 864x288 with 2 Axes>"
            ],
            "image/png": "[encoded data removed]"
          },
          "metadata": {
            "needs_background": "light"
          }
        }
      ]
    },
    {
      "cell_type": "code",
      "source": [
        "plt.figure(figsize=(12, 4))\n",
        "plot_history(history3, \"PubMed-GAT\")"
      ],
      "metadata": {
        "colab": {
          "base_uri": "https://localhost:8080/",
          "height": 308
        },
        "id": "Uvnq1-xjgU2e",
        "outputId": "491e6566-b1f6-473c-e704-0aa6f41d2f53"
      },
      "execution_count": 46,
      "outputs": [
        {
          "output_type": "display_data",
          "data": {
            "text/plain": [
              "<Figure size 864x288 with 2 Axes>"
            ],
            "image/png": "[encoded data removed]"
          },
          "metadata": {
            "needs_background": "light"
          }
        }
      ]
    }
  ]
}