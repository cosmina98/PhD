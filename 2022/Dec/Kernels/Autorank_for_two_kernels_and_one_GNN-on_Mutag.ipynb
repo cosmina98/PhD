{
 "cells": [
  {
   "cell_type": "code",
   "execution_count": 4,
   "id": "a22cab67",
   "metadata": {},
   "outputs": [],
   "source": [
    "from Random_Walk import Random_Walk\n",
    "from Shortest_Path import Shortest_Path\n",
    "from Weisfeiler_Lehman import Weisfeiler_Lehman\n",
    "#from WL_Version1 import Weisfeiler_Lehman\n",
    "\n",
    "from WL_Transformer import WL_Transformer\n",
    "from WL_edge import WL_edge\n",
    "from WL_Shortest_Path import WL_Shortest_Path\n",
    "from three_node_graphlet_kernel import Three_node_graphlet_kernel\n",
    "import numpy as np \n",
    "import networkx as nx\n",
    "from numpy.linalg import inv,multi_dot\n",
    "from scipy.linalg import expm\n",
    "from matplotlib import pyplot as plt\n",
    "from networkx.drawing.nx_pydot import graphviz_layout\n",
    "import pydot\n",
    "from utils import hierarchy_pos,get_nxgraph_from_adjanecy_matrix,count_commons\n",
    "from utils import load_data , create_loaders \n",
    "import copy\n",
    "from collections import Counter\n",
    "from sklearn.pipeline import Pipeline\n",
    "from sklearn.model_selection import train_test_split\n",
    "from sklearn.svm import SVC\n",
    "from sklearn.metrics import accuracy_score"
   ]
  },
  {
   "cell_type": "code",
   "execution_count": 5,
   "id": "952b6672",
   "metadata": {},
   "outputs": [],
   "source": [
    "from autorank import autorank, plot_stats, create_report, latex_table\n",
    "import pandas as pd"
   ]
  },
  {
   "cell_type": "code",
   "execution_count": 6,
   "id": "a8e02f6b",
   "metadata": {},
   "outputs": [],
   "source": [
    "from torch_geometric.nn import global_mean_pool\n",
    "import numpy as np\n",
    "import networkx as nx\n",
    "import os\n",
    "import torchnet as tnt\n",
    "import torch.nn.functional as F\n",
    "import torch.nn as nn\n",
    "import torch\n",
    "import wget\n",
    "import zipfile"
   ]
  },
  {
   "cell_type": "code",
   "execution_count": 5,
   "id": "b36f8a93",
   "metadata": {},
   "outputs": [
    {
     "ename": "NameError",
     "evalue": "name 'pd' is not defined",
     "output_type": "error",
     "traceback": [
      "\u001b[1;31m---------------------------------------------------------------------------\u001b[0m",
      "\u001b[1;31mNameError\u001b[0m                                 Traceback (most recent call last)",
      "\u001b[1;32m~\\AppData\\Local\\Temp\\ipykernel_16220\\2112805469.py\u001b[0m in \u001b[0;36m<module>\u001b[1;34m\u001b[0m\n\u001b[0;32m      1\u001b[0m \u001b[0mnp\u001b[0m\u001b[1;33m.\u001b[0m\u001b[0mrandom\u001b[0m\u001b[1;33m.\u001b[0m\u001b[0mseed\u001b[0m\u001b[1;33m(\u001b[0m\u001b[1;36m42\u001b[0m\u001b[1;33m)\u001b[0m\u001b[1;33m\u001b[0m\u001b[1;33m\u001b[0m\u001b[0m\n\u001b[1;32m----> 2\u001b[1;33m \u001b[0mpd\u001b[0m\u001b[1;33m.\u001b[0m\u001b[0mset_option\u001b[0m\u001b[1;33m(\u001b[0m\u001b[1;34m'display.max_columns'\u001b[0m\u001b[1;33m,\u001b[0m \u001b[1;36m7\u001b[0m\u001b[1;33m)\u001b[0m\u001b[1;33m\u001b[0m\u001b[1;33m\u001b[0m\u001b[0m\n\u001b[0m\u001b[0;32m      3\u001b[0m \u001b[0mstd\u001b[0m \u001b[1;33m=\u001b[0m \u001b[1;36m0.3\u001b[0m\u001b[1;33m\u001b[0m\u001b[1;33m\u001b[0m\u001b[0m\n\u001b[0;32m      4\u001b[0m \u001b[0mmeans\u001b[0m \u001b[1;33m=\u001b[0m \u001b[1;33m[\u001b[0m\u001b[1;36m0.2\u001b[0m\u001b[1;33m,\u001b[0m \u001b[1;36m0.3\u001b[0m\u001b[1;33m,\u001b[0m \u001b[1;36m0.5\u001b[0m\u001b[1;33m,\u001b[0m \u001b[1;36m0.8\u001b[0m\u001b[1;33m,\u001b[0m \u001b[1;36m0.85\u001b[0m\u001b[1;33m,\u001b[0m \u001b[1;36m0.9\u001b[0m\u001b[1;33m]\u001b[0m\u001b[1;33m\u001b[0m\u001b[1;33m\u001b[0m\u001b[0m\n\u001b[0;32m      5\u001b[0m \u001b[0msample_size\u001b[0m \u001b[1;33m=\u001b[0m \u001b[1;36m50\u001b[0m\u001b[1;33m\u001b[0m\u001b[1;33m\u001b[0m\u001b[0m\n",
      "\u001b[1;31mNameError\u001b[0m: name 'pd' is not defined"
     ]
    }
   ],
   "source": [
    "np.random.seed(42)\n",
    "pd.set_option('display.max_columns', 7)\n",
    "std = 0.3\n",
    "means = [0.2, 0.3, 0.5, 0.8, 0.85, 0.9]\n",
    "sample_size = 50\n",
    "data = pd.DataFrame()\n",
    "for i, mean in enumerate(means):\n",
    "    data['pop_%i' % i] = np.random.normal(mean, std, sample_size).clip(0, 1)"
   ]
  },
  {
   "cell_type": "code",
   "execution_count": null,
   "id": "2000698d",
   "metadata": {},
   "outputs": [],
   "source": [
    "data"
   ]
  },
  {
   "cell_type": "code",
   "execution_count": 12,
   "id": "f8baec35",
   "metadata": {},
   "outputs": [
    {
     "data": {
      "text/plain": [
       "'\\n# %%\\nwget.download(\\n    \")\\n\\nfile_name = \\'MUTAG.zip\\'\\nzip_File = zipfile.ZipFile(file_name, \\'r\\')\\n# \\nzip_File.extractall()  \\n\\n'"
      ]
     },
     "execution_count": 12,
     "metadata": {},
     "output_type": "execute_result"
    }
   ],
   "source": [
    "\"\"\"\n",
    "# %%\n",
    "wget.download(\n",
    "    \")\n",
    "\n",
    "file_name = 'MUTAG.zip'\n",
    "zip_File = zipfile.ZipFile(file_name, 'r')\n",
    "# \n",
    "zip_File.extractall()  \n",
    "\n",
    "\"\"\"\n",
    "# %%"
   ]
  },
  {
   "cell_type": "markdown",
   "id": "225ea42a",
   "metadata": {},
   "source": [
    "Node labels:\n",
    "\n",
    "  0  C\\\n",
    "  1  N\\\n",
    "  2  O\\\n",
    "  3  F\\\n",
    "  4  I\\\n",
    "  5  Cl\\\n",
    "  6  Br\\\n",
    "\\\n",
    "Edge labels:\\\n",
    "\\\n",
    "  0  aromatic\\\n",
    "  1  single\\\n",
    "  2  double\\\n",
    "  3  triple\\"
   ]
  },
  {
   "cell_type": "code",
   "execution_count": 9,
   "id": "7cd9294e",
   "metadata": {},
   "outputs": [
    {
     "name": "stdout",
     "output_type": "stream",
     "text": [
      "Data are ready\n"
     ]
    }
   ],
   "source": [
    "dataset = load_data(path='./MUTAG/', ds_name='MUTAG',\n",
    "                    use_node_labels=True, use_edge_labels=True, max_node_label=7,max_edge_label=4)\n",
    "\n",
    "\n",
    "#pytorch loaders\n",
    "train_dataset, val_dataset = create_loaders(\n",
    "    dataset, batch_size=1, split_id=150, offset=0)\n",
    "print('Data are ready')"
   ]
  },
  {
   "cell_type": "code",
   "execution_count": 10,
   "id": "028d90e6",
   "metadata": {},
   "outputs": [],
   "source": [
    "\n",
    "X=np.array(dataset,dtype=object)[:,0]\n",
    "y=np.array(dataset,dtype=object)[:,1]\n",
    "G_train, G_test, y_train, y_test = train_test_split(X, y, test_size=0.1, random_state=42)"
   ]
  },
  {
   "cell_type": "code",
   "execution_count": 11,
   "id": "758f5a91",
   "metadata": {},
   "outputs": [
    {
     "data": {
      "text/plain": [
       "EdgeDataView([(1, 2, {'edge_label': array([1., 0., 0., 0.])}), (1, 6, {'edge_label': array([1., 0., 0., 0.])}), (2, 3, {'edge_label': array([1., 0., 0., 0.])}), (3, 4, {'edge_label': array([1., 0., 0., 0.])}), (4, 5, {'edge_label': array([1., 0., 0., 0.])}), (4, 10, {'edge_label': array([1., 0., 0., 0.])}), (5, 6, {'edge_label': array([1., 0., 0., 0.])}), (5, 7, {'edge_label': array([1., 0., 0., 0.])}), (7, 8, {'edge_label': array([1., 0., 0., 0.])}), (8, 9, {'edge_label': array([1., 0., 0., 0.])}), (9, 10, {'edge_label': array([1., 0., 0., 0.])}), (9, 14, {'edge_label': array([1., 0., 0., 0.])}), (10, 11, {'edge_label': array([1., 0., 0., 0.])}), (11, 12, {'edge_label': array([1., 0., 0., 0.])}), (12, 13, {'edge_label': array([1., 0., 0., 0.])}), (13, 14, {'edge_label': array([1., 0., 0., 0.])}), (13, 15, {'edge_label': array([0., 1., 0., 0.])}), (15, 16, {'edge_label': array([0., 0., 1., 0.])}), (15, 17, {'edge_label': array([0., 1., 0., 0.])})])"
      ]
     },
     "execution_count": 11,
     "metadata": {},
     "output_type": "execute_result"
    }
   ],
   "source": [
    "dataset[0][0].edges(data=True)"
   ]
  },
  {
   "cell_type": "code",
   "execution_count": 12,
   "id": "15fb7c3d",
   "metadata": {},
   "outputs": [],
   "source": [
    "#get the first three graphs from the dataset\n",
    "Gn=[dataset[0][0],dataset[1][0],dataset[2][0]]"
   ]
  },
  {
   "cell_type": "code",
   "execution_count": 13,
   "id": "d2864289",
   "metadata": {},
   "outputs": [
    {
     "data": {
      "text/plain": [
       "array([1, 1, -1, 1, 1, 1, 1, -1, -1, -1, 1, -1, 1, -1, 1, 1, -1, 1, 1],\n",
       "      dtype=object)"
      ]
     },
     "execution_count": 13,
     "metadata": {},
     "output_type": "execute_result"
    }
   ],
   "source": [
    "y_test"
   ]
  },
  {
   "cell_type": "code",
   "execution_count": 14,
   "id": "c1030581",
   "metadata": {},
   "outputs": [
    {
     "name": "stdout",
     "output_type": "stream",
     "text": [
      "Accuracy: 94.74%\n"
     ]
    }
   ],
   "source": [
    "kernel=Three_node_graphlet_kernel(normalise=True, n_samples=500)\n",
    "k_train=kernel.fit(list(G_train))\n",
    "k_test=kernel.fit_transform(list(G_test))\n",
    "\n",
    "# Uses the SVM classifier to perform classification\n",
    "clf = SVC(kernel='precomputed')\n",
    "clf.fit(np.asarray(k_train), np.ravel(y_train).astype(int))\n",
    "y_pred = clf.predict(np.asarray(k_test))\n",
    "\n",
    "# Computes and prints the classification accuracy\n",
    "acc = accuracy_score(np.array(y_test,dtype=int), np.array(y_pred,dtype=int))\n",
    "print(\"Accuracy:\", str(round(acc*100, 2)) + \"%\")"
   ]
  },
  {
   "cell_type": "code",
   "execution_count": 15,
   "id": "f108d74f",
   "metadata": {},
   "outputs": [
    {
     "data": {
      "text/plain": [
       "25"
      ]
     },
     "execution_count": 15,
     "metadata": {},
     "output_type": "execute_result"
    }
   ],
   "source": [
    "G_train[2].number_of_edges()"
   ]
  },
  {
   "cell_type": "code",
   "execution_count": 16,
   "id": "37989e8a",
   "metadata": {},
   "outputs": [
    {
     "ename": "NameError",
     "evalue": "name 'pd' is not defined",
     "output_type": "error",
     "traceback": [
      "\u001b[1;31m---------------------------------------------------------------------------\u001b[0m",
      "\u001b[1;31mNameError\u001b[0m                                 Traceback (most recent call last)",
      "\u001b[1;32m~\\AppData\\Local\\Temp\\ipykernel_16220\\2541013879.py\u001b[0m in \u001b[0;36m<module>\u001b[1;34m\u001b[0m\n\u001b[0;32m      1\u001b[0m \u001b[0msample_lentghs\u001b[0m\u001b[1;33m=\u001b[0m\u001b[1;33m[\u001b[0m\u001b[1;36m5\u001b[0m\u001b[1;33m,\u001b[0m\u001b[1;36m20\u001b[0m\u001b[1;33m,\u001b[0m\u001b[1;36m50\u001b[0m\u001b[1;33m,\u001b[0m\u001b[1;36m40\u001b[0m\u001b[1;33m,\u001b[0m\u001b[1;36m100\u001b[0m\u001b[1;33m,\u001b[0m\u001b[1;36m200\u001b[0m\u001b[1;33m]\u001b[0m\u001b[1;33m\u001b[0m\u001b[1;33m\u001b[0m\u001b[0m\n\u001b[1;32m----> 2\u001b[1;33m \u001b[0mpd\u001b[0m\u001b[1;33m.\u001b[0m\u001b[0mset_option\u001b[0m\u001b[1;33m(\u001b[0m\u001b[1;34m'display.max_columns'\u001b[0m\u001b[1;33m,\u001b[0m \u001b[1;36m7\u001b[0m\u001b[1;33m)\u001b[0m\u001b[1;33m\u001b[0m\u001b[1;33m\u001b[0m\u001b[0m\n\u001b[0m\u001b[0;32m      3\u001b[0m \u001b[1;33m\u001b[0m\u001b[0m\n\u001b[0;32m      4\u001b[0m \u001b[0mpopulations\u001b[0m\u001b[1;33m=\u001b[0m\u001b[0mpd\u001b[0m\u001b[1;33m.\u001b[0m\u001b[0mDataFrame\u001b[0m\u001b[1;33m(\u001b[0m\u001b[1;33m)\u001b[0m\u001b[1;33m\u001b[0m\u001b[1;33m\u001b[0m\u001b[0m\n\u001b[0;32m      5\u001b[0m \u001b[1;33m\u001b[0m\u001b[0m\n",
      "\u001b[1;31mNameError\u001b[0m: name 'pd' is not defined"
     ]
    }
   ],
   "source": [
    "sample_lentghs=[5,20,50,40,100,200]\n",
    "pd.set_option('display.max_columns', 7)\n",
    "\n",
    "populations=pd.DataFrame()\n",
    "\n",
    "for i,n in enumerate(sample_lentghs):\n",
    "    kernel=Three_node_graphlet_kernel(normalise=True, n_samples=n)\n",
    "    k_train=kernel.fit(list(G_train))\n",
    "    k_test=kernel.fit_transform(list(G_test))\n",
    "    populations[f'{n}']=np.ravel(k_test)\n",
    "    # Uses the SVM classifier to perform classification\n",
    "    clf = SVC(kernel='precomputed')\n",
    "    clf.fit(np.asarray(k_train), np.ravel(y_train).astype(int))\n",
    "    y_pred = clf.predict(np.asarray(k_test))\n",
    "\n",
    "    # Computes and prints the classification accuracy\n",
    "    acc = accuracy_score(np.array(y_test,dtype=int), np.array(y_pred,dtype=int))\n",
    "    print(\"Accuracy:\", str(round(acc*100, 2)) + \"%\")"
   ]
  },
  {
   "cell_type": "code",
   "execution_count": 60,
   "id": "12ca8641",
   "metadata": {},
   "outputs": [
    {
     "data": {
      "text/html": [
       "<div>\n",
       "<style scoped>\n",
       "    .dataframe tbody tr th:only-of-type {\n",
       "        vertical-align: middle;\n",
       "    }\n",
       "\n",
       "    .dataframe tbody tr th {\n",
       "        vertical-align: top;\n",
       "    }\n",
       "\n",
       "    .dataframe thead th {\n",
       "        text-align: right;\n",
       "    }\n",
       "</style>\n",
       "<table border=\"1\" class=\"dataframe\">\n",
       "  <thead>\n",
       "    <tr style=\"text-align: right;\">\n",
       "      <th></th>\n",
       "      <th>5</th>\n",
       "      <th>20</th>\n",
       "      <th>50</th>\n",
       "      <th>40</th>\n",
       "      <th>100</th>\n",
       "      <th>200</th>\n",
       "    </tr>\n",
       "  </thead>\n",
       "  <tbody>\n",
       "    <tr>\n",
       "      <th>0</th>\n",
       "      <td>0.894427</td>\n",
       "      <td>0.836163</td>\n",
       "      <td>0.917546</td>\n",
       "      <td>0.931050</td>\n",
       "      <td>0.995959</td>\n",
       "      <td>0.945609</td>\n",
       "    </tr>\n",
       "    <tr>\n",
       "      <th>1</th>\n",
       "      <td>0.674200</td>\n",
       "      <td>0.981025</td>\n",
       "      <td>0.991639</td>\n",
       "      <td>0.998540</td>\n",
       "      <td>0.960797</td>\n",
       "      <td>0.955212</td>\n",
       "    </tr>\n",
       "    <tr>\n",
       "      <th>2</th>\n",
       "      <td>0.992278</td>\n",
       "      <td>0.975741</td>\n",
       "      <td>0.999634</td>\n",
       "      <td>0.992874</td>\n",
       "      <td>0.996309</td>\n",
       "      <td>0.997578</td>\n",
       "    </tr>\n",
       "    <tr>\n",
       "      <th>3</th>\n",
       "      <td>0.868243</td>\n",
       "      <td>0.988985</td>\n",
       "      <td>0.994721</td>\n",
       "      <td>0.997816</td>\n",
       "      <td>0.996255</td>\n",
       "      <td>0.991607</td>\n",
       "    </tr>\n",
       "    <tr>\n",
       "      <th>4</th>\n",
       "      <td>0.989949</td>\n",
       "      <td>0.931857</td>\n",
       "      <td>0.958098</td>\n",
       "      <td>0.991520</td>\n",
       "      <td>0.998388</td>\n",
       "      <td>0.999462</td>\n",
       "    </tr>\n",
       "    <tr>\n",
       "      <th>...</th>\n",
       "      <td>...</td>\n",
       "      <td>...</td>\n",
       "      <td>...</td>\n",
       "      <td>...</td>\n",
       "      <td>...</td>\n",
       "      <td>...</td>\n",
       "    </tr>\n",
       "    <tr>\n",
       "      <th>3206</th>\n",
       "      <td>0.904534</td>\n",
       "      <td>0.996605</td>\n",
       "      <td>0.998421</td>\n",
       "      <td>0.999317</td>\n",
       "      <td>0.999372</td>\n",
       "      <td>0.997677</td>\n",
       "    </tr>\n",
       "    <tr>\n",
       "      <th>3207</th>\n",
       "      <td>0.707107</td>\n",
       "      <td>0.969773</td>\n",
       "      <td>0.985246</td>\n",
       "      <td>0.991666</td>\n",
       "      <td>0.995800</td>\n",
       "      <td>0.997309</td>\n",
       "    </tr>\n",
       "    <tr>\n",
       "      <th>3208</th>\n",
       "      <td>0.832050</td>\n",
       "      <td>0.991010</td>\n",
       "      <td>0.997760</td>\n",
       "      <td>0.999317</td>\n",
       "      <td>0.969433</td>\n",
       "      <td>0.999880</td>\n",
       "    </tr>\n",
       "    <tr>\n",
       "      <th>3209</th>\n",
       "      <td>0.554700</td>\n",
       "      <td>0.988833</td>\n",
       "      <td>0.983271</td>\n",
       "      <td>0.974079</td>\n",
       "      <td>0.996397</td>\n",
       "      <td>0.999713</td>\n",
       "    </tr>\n",
       "    <tr>\n",
       "      <th>3210</th>\n",
       "      <td>0.970143</td>\n",
       "      <td>0.988651</td>\n",
       "      <td>0.985855</td>\n",
       "      <td>0.947581</td>\n",
       "      <td>0.998954</td>\n",
       "      <td>0.992897</td>\n",
       "    </tr>\n",
       "  </tbody>\n",
       "</table>\n",
       "<p>3211 rows × 6 columns</p>\n",
       "</div>"
      ],
      "text/plain": [
       "             5        20        50        40       100       200\n",
       "0     0.894427  0.836163  0.917546  0.931050  0.995959  0.945609\n",
       "1     0.674200  0.981025  0.991639  0.998540  0.960797  0.955212\n",
       "2     0.992278  0.975741  0.999634  0.992874  0.996309  0.997578\n",
       "3     0.868243  0.988985  0.994721  0.997816  0.996255  0.991607\n",
       "4     0.989949  0.931857  0.958098  0.991520  0.998388  0.999462\n",
       "...        ...       ...       ...       ...       ...       ...\n",
       "3206  0.904534  0.996605  0.998421  0.999317  0.999372  0.997677\n",
       "3207  0.707107  0.969773  0.985246  0.991666  0.995800  0.997309\n",
       "3208  0.832050  0.991010  0.997760  0.999317  0.969433  0.999880\n",
       "3209  0.554700  0.988833  0.983271  0.974079  0.996397  0.999713\n",
       "3210  0.970143  0.988651  0.985855  0.947581  0.998954  0.992897\n",
       "\n",
       "[3211 rows x 6 columns]"
      ]
     },
     "execution_count": 60,
     "metadata": {},
     "output_type": "execute_result"
    }
   ],
   "source": [
    "populations"
   ]
  },
  {
   "cell_type": "code",
   "execution_count": 66,
   "id": "3faa6177",
   "metadata": {},
   "outputs": [
    {
     "name": "stdout",
     "output_type": "stream",
     "text": [
      "RankResult(rankdf=\n",
      "     meanrank    median       mad  ci_lower  ci_upper effect_size   magnitude\n",
      "5    4.904080  0.894427  0.095522  0.857493  0.894427         0.0  negligible\n",
      "20   3.610557  0.972879  0.022471  0.969206  0.976777   -0.762595      medium\n",
      "50   3.415135  0.977742  0.019194  0.974164  0.981205   -0.815664       large\n",
      "40   3.368265  0.977485  0.018169  0.974866   0.98016   -0.814798       large\n",
      "100  2.915914  0.984790  0.013067  0.982713  0.986791   -0.894028       large\n",
      "200  2.786048  0.986845   0.01194  0.984536  0.988827   -0.915747       large\n",
      "pvalue=0.0\n",
      "cd=0.1330525664631019\n",
      "omnibus=friedman\n",
      "posthoc=nemenyi\n",
      "all_normal=False\n",
      "pvals_shapiro=[0.0, 0.0, 0.0, 0.0, 0.0, 0.0]\n",
      "homoscedastic=False\n",
      "pval_homogeneity=0.0\n",
      "homogeneity_test=levene\n",
      "alpha=0.05\n",
      "alpha_normality=0.008333333333333333\n",
      "num_samples=3211\n",
      "posterior_matrix=\n",
      "None\n",
      "decision_matrix=\n",
      "None\n",
      "rope=None\n",
      "rope_mode=None\n",
      "effect_size=akinshin_gamma)\n"
     ]
    }
   ],
   "source": [
    "result = autorank(populations, alpha=0.05, verbose=False)\n",
    "print(result)\n",
    "#result_bayesian = autorank(populations, alpha=0.05, verbose=False, approach='bayesian')#\n",
    "#print(result_bayesian)\n",
    "#create_report(result)\n"
   ]
  },
  {
   "cell_type": "code",
   "execution_count": null,
   "id": "ca547108",
   "metadata": {},
   "outputs": [],
   "source": [
    "plot_stats(result)\n",
    "plt.show()"
   ]
  },
  {
   "cell_type": "code",
   "execution_count": 78,
   "id": "c27faf79",
   "metadata": {},
   "outputs": [
    {
     "data": {
      "text/plain": [
       "{2186: array([1., 0., 0., 0., 0., 0., 0.]),\n",
       " 2187: array([0., 1., 0., 0., 0., 0., 0.]),\n",
       " 2188: array([1., 0., 0., 0., 0., 0., 0.]),\n",
       " 2189: array([1., 0., 0., 0., 0., 0., 0.]),\n",
       " 2190: array([1., 0., 0., 0., 0., 0., 0.]),\n",
       " 2191: array([1., 0., 0., 0., 0., 0., 0.]),\n",
       " 2192: array([1., 0., 0., 0., 0., 0., 0.]),\n",
       " 2193: array([1., 0., 0., 0., 0., 0., 0.]),\n",
       " 2194: array([1., 0., 0., 0., 0., 0., 0.]),\n",
       " 2195: array([0., 1., 0., 0., 0., 0., 0.]),\n",
       " 2196: array([0., 1., 0., 0., 0., 0., 0.]),\n",
       " 2197: array([0., 0., 1., 0., 0., 0., 0.]),\n",
       " 2198: array([0., 0., 1., 0., 0., 0., 0.])}"
      ]
     },
     "execution_count": 78,
     "metadata": {},
     "output_type": "execute_result"
    }
   ],
   "source": [
    "nx.get_node_attributes(G_train[0], 'attr_dict')"
   ]
  },
  {
   "cell_type": "code",
   "execution_count": 95,
   "id": "338c13a2",
   "metadata": {},
   "outputs": [],
   "source": [
    "g=nx.convert_node_labels_to_integers(G_train[0])"
   ]
  },
  {
   "cell_type": "code",
   "execution_count": 96,
   "id": "54f21994",
   "metadata": {},
   "outputs": [
    {
     "data": {
      "text/plain": [
       "{0: array([1., 0., 0., 0., 0., 0., 0.]),\n",
       " 1: array([0., 1., 0., 0., 0., 0., 0.]),\n",
       " 2: array([1., 0., 0., 0., 0., 0., 0.]),\n",
       " 3: array([1., 0., 0., 0., 0., 0., 0.]),\n",
       " 4: array([1., 0., 0., 0., 0., 0., 0.]),\n",
       " 5: array([1., 0., 0., 0., 0., 0., 0.]),\n",
       " 6: array([1., 0., 0., 0., 0., 0., 0.]),\n",
       " 7: array([1., 0., 0., 0., 0., 0., 0.]),\n",
       " 8: array([1., 0., 0., 0., 0., 0., 0.]),\n",
       " 9: array([0., 1., 0., 0., 0., 0., 0.]),\n",
       " 10: array([0., 1., 0., 0., 0., 0., 0.]),\n",
       " 11: array([0., 0., 1., 0., 0., 0., 0.]),\n",
       " 12: array([0., 0., 1., 0., 0., 0., 0.])}"
      ]
     },
     "execution_count": 96,
     "metadata": {},
     "output_type": "execute_result"
    }
   ],
   "source": [
    "nx.get_node_attributes(g, 'attr_dict')"
   ]
  },
  {
   "cell_type": "code",
   "execution_count": 92,
   "id": "e6f0451e",
   "metadata": {},
   "outputs": [
    {
     "data": {
      "text/plain": [
       "{}"
      ]
     },
     "execution_count": 92,
     "metadata": {},
     "output_type": "execute_result"
    }
   ],
   "source": [
    "nx.get_node_attributes(G_train[0], 'old')"
   ]
  },
  {
   "cell_type": "code",
   "execution_count": 13,
   "id": "2371e5bd",
   "metadata": {},
   "outputs": [],
   "source": [
    "#reverse to integer labels\n",
    "from sklearn import preprocessing\n",
    "le = preprocessing.LabelEncoder()\n",
    "from sklearn.preprocessing import OneHotEncoder\n",
    "enc = OneHotEncoder(handle_unknown='ignore')\n",
    "enc.fit([[i] for i in range(7)])\n",
    "new_g=[]\n",
    "node_label='attr_dict'\n",
    "for G in G_train:                \n",
    "    G=nx.convert_node_labels_to_integers(G)\n",
    "    # get the set of original labels\n",
    "    labels_ori = list(nx.get_node_attributes(G, node_label).values())\n",
    "    for i,node in enumerate(G.nodes(data=True)):\n",
    "            node[1][node_label]=enc.inverse_transform([labels_ori[i]])[0][0]\n",
    "            #print((node[1][node_label]))\n",
    "    #print(nx.get_node_attributes(G, 'attr_dict').values())\n",
    "    new_g.append(G)    \n",
    "            \n"
   ]
  },
  {
   "cell_type": "code",
   "execution_count": 24,
   "id": "01104d4f",
   "metadata": {},
   "outputs": [
    {
     "name": "stdout",
     "output_type": "stream",
     "text": [
      "[[0. 1. 2. 3. 4. 5. 4. 3. 3. 2. 6. 7. 7.]\n",
      " [1. 0. 1. 2. 3. 4. 3. 2. 2. 1. 5. 6. 6.]\n",
      " [2. 1. 0. 1. 2. 3. 2. 1. 2. 2. 4. 5. 5.]\n",
      " [3. 2. 1. 0. 1. 2. 3. 2. 3. 3. 3. 4. 4.]\n",
      " [4. 3. 2. 1. 0. 1. 2. 3. 4. 4. 2. 3. 3.]\n",
      " [5. 4. 3. 2. 1. 0. 1. 2. 3. 4. 1. 2. 2.]\n",
      " [4. 3. 2. 3. 2. 1. 0. 1. 2. 3. 2. 3. 3.]\n",
      " [3. 2. 1. 2. 3. 2. 1. 0. 1. 2. 3. 4. 4.]\n",
      " [3. 2. 2. 3. 4. 3. 2. 1. 0. 1. 4. 5. 5.]\n",
      " [2. 1. 2. 3. 4. 4. 3. 2. 1. 0. 5. 6. 6.]\n",
      " [6. 5. 4. 3. 2. 1. 2. 3. 4. 5. 0. 1. 1.]\n",
      " [7. 6. 5. 4. 3. 2. 3. 4. 5. 6. 1. 0. 2.]\n",
      " [7. 6. 5. 4. 3. 2. 3. 4. 5. 6. 1. 2. 0.]]\n"
     ]
    }
   ],
   "source": [
    "from utils import get_a_floyd_S_graph\n",
    "S=get_a_floyd_S_graph(new_g[0])\n",
    "S2=get_a_floyd_S_graph(new_g[1])\n",
    "dict1=nx.get_node_attributes(new_g[0], 'attr_dict')\n",
    "dict2=nx.get_node_attributes(new_g[1], 'attr_dict')\n",
    "adj=nx.to_numpy_matrix(S,weight='cost')\n",
    "adj2=nx.to_numpy_matrix(S2,weight='cost')\n",
    "print(nx.to_numpy_matrix(S,weight='cost'))\n",
    "tuple1= np.array(adj) , dict1 \n",
    "tuple2=np.array(adj2), dict2"
   ]
  },
  {
   "cell_type": "code",
   "execution_count": 14,
   "id": "1a60a5b2",
   "metadata": {},
   "outputs": [
    {
     "data": {
      "text/plain": [
       "array([[0.34849094, 0.37637122, 0.37853028, 0.24975194, 0.42526195,\n",
       "        0.31218992],\n",
       "       [0.49698264, 0.43734589, 0.45345849, 0.2992826 , 0.32943817,\n",
       "        0.50900716],\n",
       "       [0.87262128, 0.66807418, 0.37296689, 0.82881531, 0.56450191,\n",
       "        0.91687694],\n",
       "       [0.34481746, 0.21170245, 0.61350793, 0.30203467, 0.57142857,\n",
       "        0.30203467]])"
      ]
     },
     "execution_count": 14,
     "metadata": {},
     "output_type": "execute_result"
    }
   ],
   "source": [
    "from Shortest_Path_Labelled import Shortest_Path_Labelled\n",
    "kernel=Shortest_Path_Labelled(node_label='attr_dict')\n",
    "kernel.fit(new_g[:6])\n",
    "kernel.fit_transform(new_g[6:10])\n"
   ]
  },
  {
   "cell_type": "code",
   "execution_count": 1,
   "id": "46c4272c",
   "metadata": {},
   "outputs": [],
   "source": [
    "def pairwise_operation(x, y):\n",
    "        \"\"\"Calculate shortests paths on attributes.\n",
    "        Parameters\n",
    "        ----------\n",
    "        x, y : tuple\n",
    "            Tuples of shortest path matrices and their attribute\n",
    "            dictionaries.\n",
    "        Returns\n",
    "        -------\n",
    "        kernel : number\n",
    "            The kernel value.\n",
    "        \"\"\"\n",
    "        # Initialise\n",
    "        Sx, phi_x = x[0],x[1]\n",
    "        Sy, phi_y = y[0],y[1]\n",
    "        kernel = 0\n",
    "        dimx = Sx.shape[0]\n",
    "        dimy = Sy.shape[0]\n",
    "        #matrix1 i row\n",
    "        for i in range(dimx):\n",
    "            #matrix1 j columns\n",
    "            for j in range(dimx):\n",
    "                #skip the diagonal as it s 0\n",
    "                if i == j:\n",
    "                    continue\n",
    "                #else for rows k in second matrix\n",
    "                for k in range(dimy):\n",
    "                    #for   columns  m  second  matrix \n",
    "                    for m in range(dimy):\n",
    "                        #agin skip the main diagonal \n",
    "                        if k == m:\n",
    "                            continue\n",
    "                        #else \n",
    "                        #if there s a matching distance at that entry, and it s not infinity\n",
    "                        if (Sx[i, j] == Sy[k, m] and\n",
    "                                Sx[i, j] != float('Inf')):\n",
    "                            #add the dot product  between the node labels to the final kernel\n",
    "                            kernel = kernel + np.dot(phi_x[i], phi_y[k]) * \\\n",
    "                                np.dot(phi_x[j], phi_y[m])\n",
    "\n",
    "        return kernel"
   ]
  },
  {
   "cell_type": "code",
   "execution_count": 2,
   "id": "31f5a608",
   "metadata": {},
   "outputs": [
    {
     "ename": "NameError",
     "evalue": "name 'tuple1' is not defined",
     "output_type": "error",
     "traceback": [
      "\u001b[1;31m---------------------------------------------------------------------------\u001b[0m",
      "\u001b[1;31mNameError\u001b[0m                                 Traceback (most recent call last)",
      "\u001b[1;32m~\\AppData\\Local\\Temp\\ipykernel_30804\\1206328476.py\u001b[0m in \u001b[0;36m<module>\u001b[1;34m\u001b[0m\n\u001b[1;32m----> 1\u001b[1;33m \u001b[0mpairwise_operation\u001b[0m\u001b[1;33m(\u001b[0m\u001b[0mtuple1\u001b[0m\u001b[1;33m,\u001b[0m \u001b[0mtuple2\u001b[0m\u001b[1;33m)\u001b[0m\u001b[1;33m\u001b[0m\u001b[1;33m\u001b[0m\u001b[0m\n\u001b[0m",
      "\u001b[1;31mNameError\u001b[0m: name 'tuple1' is not defined"
     ]
    }
   ],
   "source": [
    "pairwise_operation(tuple1, tuple2)"
   ]
  },
  {
   "cell_type": "code",
   "execution_count": null,
   "id": "fcc1641b",
   "metadata": {},
   "outputs": [],
   "source": []
  },
  {
   "cell_type": "code",
   "execution_count": null,
   "id": "a1082142",
   "metadata": {},
   "outputs": [],
   "source": []
  },
  {
   "cell_type": "code",
   "execution_count": null,
   "id": "c4c58016",
   "metadata": {},
   "outputs": [],
   "source": []
  },
  {
   "cell_type": "code",
   "execution_count": 162,
   "id": "a436c981",
   "metadata": {},
   "outputs": [
    {
     "data": {
      "text/plain": [
       "array([[1., 0., 0., 0., 0., 0., 0.]])"
      ]
     },
     "execution_count": 162,
     "metadata": {},
     "output_type": "execute_result"
    }
   ],
   "source": [
    "enc.transform([[0]]).toarray()"
   ]
  },
  {
   "cell_type": "code",
   "execution_count": 131,
   "id": "f23f77ff",
   "metadata": {},
   "outputs": [
    {
     "data": {
      "text/plain": [
       "{1263: array([1., 0., 0., 0., 0., 0., 0.]),\n",
       " 1264: array([1., 0., 0., 0., 0., 0., 0.]),\n",
       " 1265: array([1., 0., 0., 0., 0., 0., 0.]),\n",
       " 1266: array([1., 0., 0., 0., 0., 0., 0.]),\n",
       " 1267: array([1., 0., 0., 0., 0., 0., 0.]),\n",
       " 1268: array([1., 0., 0., 0., 0., 0., 0.]),\n",
       " 1269: array([0., 1., 0., 0., 0., 0., 0.]),\n",
       " 1270: array([0., 0., 1., 0., 0., 0., 0.]),\n",
       " 1271: array([0., 0., 1., 0., 0., 0., 0.]),\n",
       " 1272: array([1., 0., 0., 0., 0., 0., 0.]),\n",
       " 1273: array([0., 0., 1., 0., 0., 0., 0.]),\n",
       " 1274: array([1., 0., 0., 0., 0., 0., 0.]),\n",
       " 1275: array([0., 0., 1., 0., 0., 0., 0.]),\n",
       " 1276: array([0., 1., 0., 0., 0., 0., 0.])}"
      ]
     },
     "execution_count": 131,
     "metadata": {},
     "output_type": "execute_result"
    }
   ],
   "source": [
    "nx.get_node_attributes(G_train[1], 'attr_dict')"
   ]
  },
  {
   "cell_type": "code",
   "execution_count": null,
   "id": "31f252fb",
   "metadata": {},
   "outputs": [],
   "source": []
  }
 ],
 "metadata": {
  "kernelspec": {
   "display_name": "Python 3.10.5 64-bit",
   "language": "python",
   "name": "python3"
  },
  "language_info": {
   "codemirror_mode": {
    "name": "ipython",
    "version": 3
   },
   "file_extension": ".py",
   "mimetype": "text/x-python",
   "name": "python",
   "nbconvert_exporter": "python",
   "pygments_lexer": "ipython3",
   "version": "3.10.5"
  },
  "vscode": {
   "interpreter": {
    "hash": "06a8be8316eed2f6558da5cb68a9abde15f0a0ec61139bf81bc916fa7c6839e3"
   }
  }
 },
 "nbformat": 4,
 "nbformat_minor": 5
}
