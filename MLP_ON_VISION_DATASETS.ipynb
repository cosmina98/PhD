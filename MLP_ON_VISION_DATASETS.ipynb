{
  "nbformat": 4,
  "nbformat_minor": 0,
  "metadata": {
    "colab": {
      "name": "MLP ON VISION DATASETS.ipynb",
      "provenance": [],
      "collapsed_sections": [],
      "authorship_tag": "ABX9TyMFvEwS5VSt2cJZwpp6Kud9",
      "include_colab_link": true
    },
    "kernelspec": {
      "name": "python3",
      "display_name": "Python 3"
    },
    "language_info": {
      "name": "python"
    }
  },
  "cells": [
    {
      "cell_type": "markdown",
      "metadata": {
        "id": "view-in-github",
        "colab_type": "text"
      },
      "source": [
        "<a href=\"https://colab.research.google.com/github/cosmina98/PhD/blob/main/MLP_ON_VISION_DATASETS.ipynb\" target=\"_parent\"><img src=\"https://colab.research.google.com/assets/colab-badge.svg\" alt=\"Open In Colab\"/></a>"
      ]
    },
    {
      "cell_type": "code",
      "source": [
        "# libary imports \n",
        "import os\n",
        "import torch\n",
        "from torch import nn\n",
        "import torchvision\n",
        "from torchvision.datasets import CIFAR10\n",
        "from torch.utils.data import DataLoader\n",
        "from torchvision import transforms\n",
        "\n",
        "import matplotlib.pyplot as plt\n",
        "import numpy as np"
      ],
      "metadata": {
        "id": "DI4uSc3RCG5Z"
      },
      "execution_count": 37,
      "outputs": []
    },
    {
      "cell_type": "code",
      "source": [
        "#definining the MLP class\n",
        "class MLP(nn.Module):\n",
        "  '''\n",
        "    Multilayer Perceptron.\n",
        "  '''\n",
        "  def __init__(self):\n",
        "    super().__init__()\n",
        "    self.layers = nn.Sequential(\n",
        "      nn.Flatten(),\n",
        "      nn.Linear(32 * 32 * 3, 64),\n",
        "      nn.ReLU(),\n",
        "      nn.Linear(64, 32),\n",
        "      nn.ReLU(),\n",
        "      nn.Linear(32, 10)\n",
        "    )\n",
        "\n",
        "\n",
        "  def forward(self, x):\n",
        "    '''Forward pass'''\n",
        "    return self.layers(x)\n",
        "  "
      ],
      "metadata": {
        "id": "8GT85ca2CvJX"
      },
      "execution_count": 30,
      "outputs": []
    },
    {
      "cell_type": "code",
      "source": [
        "torch.manual_seed(42)\n",
        "\n",
        "\n",
        "# Prepare CIFAR-10 dataset\n",
        "trainset = CIFAR10(os.getcwd(), download=True, transform=transforms.Compose(\n",
        "    [transforms.ToTensor(),\n",
        "     transforms.Normalize((0.5, 0.5, 0.5), (0.5, 0.5, 0.5))]))\n",
        "trainloader = torch.utils.data.DataLoader(trainset, batch_size=8, shuffle=True, num_workers=2)\n",
        "\n",
        "testset = CIFAR10(os.getcwd(), download=True, transform=transforms.Compose(\n",
        "    [transforms.ToTensor(),\n",
        "     transforms.Normalize((0.5, 0.5, 0.5), (0.5, 0.5, 0.5))]))\n",
        "testloader = torch.utils.data.DataLoader(testset, batch_size=8, shuffle=True, num_workers=2)\n"
      ],
      "metadata": {
        "colab": {
          "base_uri": "https://localhost:8080/"
        },
        "id": "yMCgPX9rDA3B",
        "outputId": "8cfe5bf5-dee7-4d65-9df5-fd4051c42e8e"
      },
      "execution_count": 67,
      "outputs": [
        {
          "output_type": "stream",
          "name": "stdout",
          "text": [
            "Files already downloaded and verified\n",
            "Files already downloaded and verified\n"
          ]
        }
      ]
    },
    {
      "cell_type": "code",
      "source": [
        "#show data\n",
        "\n",
        "classes = ('plane', 'car', 'bird', 'cat',\n",
        "           'deer', 'dog', 'frog', 'horse', 'ship', 'truck')\n",
        "def imshow(img):\n",
        "    img = img / 2 + 0.5     # unnormalize\n",
        "    npimg = img.numpy()\n",
        "    plt.subplots(figsize=(36, 36))\n",
        "    plt.imshow(np.transpose(npimg, (1, 2, 0)))\n",
        "    plt.show()\n",
        "\n",
        "\n",
        "# get some random training images\n",
        "dataiter = iter(trainloader)\n",
        "images, labels = dataiter.next()\n",
        "\n",
        "# show images\n",
        "imshow(torchvision.utils.make_grid(images))\n",
        "# print labels\n",
        "print(' '.join(f'{classes[labels[j]]:5s}' for j in range(8)))"
      ],
      "metadata": {
        "colab": {
          "base_uri": "https://localhost:8080/",
          "height": 187
        },
        "id": "tPhajG36erke",
        "outputId": "2fdb6ff4-281e-4359-c5f2-b46432d741a2"
      },
      "execution_count": 71,
      "outputs": [
        {
          "output_type": "display_data",
          "data": {
            "text/plain": [
              "<Figure size 2592x2592 with 1 Axes>"
            ],
            "image/png": "[encoded data removed]"
          },
          "metadata": {
            "needs_background": "light"
          }
        },
        {
          "output_type": "stream",
          "name": "stdout",
          "text": [
            "truck plane ship  dog   frog  plane horse dog  \n"
          ]
        }
      ]
    },
    {
      "cell_type": "code",
      "source": [
        "\n",
        "# Initialize the MLP\n",
        "mlp = MLP()\n",
        "  \n",
        "# Define the loss function and optimizer\n",
        "loss_function = nn.CrossEntropyLoss()\n",
        "optimizer = torch.optim.SGD(mlp.parameters(), lr=1e-3,momentum=0.9)\n",
        "optimizer_2 = torch.optim.Adam(mlp.parameters(), lr=1e-4)\n"
      ],
      "metadata": {
        "id": "k9S0sbviDEM-"
      },
      "execution_count": 79,
      "outputs": []
    },
    {
      "cell_type": "code",
      "source": [
        "for epoch in range(2):  # loop over the dataset multiple times\n",
        "\n",
        "    running_loss = 0.0\n",
        "    for i, data in enumerate(trainloader, 0):\n",
        "        # get the inputs; data is a list of [inputs, labels]\n",
        "        inputs, labels = data\n",
        "\n",
        "        # zero the parameter gradients\n",
        "        optimizer.zero_grad()\n",
        "\n",
        "        # forward + backward + optimize\n",
        "        outputs = mlp(inputs)\n",
        "        loss = loss_function(outputs, labels)\n",
        "        loss.backward()\n",
        "        optimizer.step()\n",
        "\n",
        "        # print statistics\n",
        "        running_loss += loss.item()\n",
        "        if i % 2000 == 1999:    # print every 2000 mini-batches\n",
        "            print(f'[{epoch + 1}, {i + 1:5d}] loss: {running_loss / 2000:.3f}')\n",
        "            running_loss = 0.0\n",
        "\n",
        "print('Finished Training')"
      ],
      "metadata": {
        "colab": {
          "base_uri": "https://localhost:8080/"
        },
        "id": "gm23d7P60ODd",
        "outputId": "96e77bff-4405-4473-ff05-91ed4971d3bc"
      },
      "execution_count": 75,
      "outputs": [
        {
          "output_type": "stream",
          "name": "stdout",
          "text": [
            "[1,  2000] loss: 2.247\n",
            "[1,  4000] loss: 2.105\n",
            "[1,  6000] loss: 2.001\n",
            "[2,  2000] loss: 1.921\n",
            "[2,  4000] loss: 1.857\n",
            "[2,  6000] loss: 1.825\n",
            "Finished Training\n"
          ]
        }
      ]
    },
    {
      "cell_type": "code",
      "source": [
        "for epoch in range(2):  # loop over the dataset multiple times\n",
        "\n",
        "    running_loss = 0.0\n",
        "    for i, data in enumerate(trainloader, 0):\n",
        "        # get the inputs; data is a list of [inputs, labels]\n",
        "        inputs, labels = data\n",
        "\n",
        "        # zero the parameter gradients\n",
        "        optimizer_2.zero_grad()\n",
        "\n",
        "        # forward + backward + optimize\n",
        "        outputs = mlp(inputs)\n",
        "        loss = loss_function(outputs, labels)\n",
        "        loss.backward()\n",
        "        optimizer_2.step()\n",
        "\n",
        "        # print statistics\n",
        "        running_loss += loss.item()\n",
        "        if i % 2000 == 1999:    # print every 2000 mini-batches\n",
        "            print(f'[{epoch + 1}, {i + 1:5d}] loss: {running_loss / 2000:.3f}')\n",
        "            running_loss = 0.0\n",
        "\n",
        "print('Finished Training')"
      ],
      "metadata": {
        "colab": {
          "base_uri": "https://localhost:8080/"
        },
        "id": "-kNxqopI1jvG",
        "outputId": "12897b6b-8018-4ea8-c8ba-9c917269e6c0"
      },
      "execution_count": 80,
      "outputs": [
        {
          "output_type": "stream",
          "name": "stdout",
          "text": [
            "[1,  2000] loss: 1.902\n",
            "[1,  4000] loss: 1.708\n",
            "[1,  6000] loss: 1.635\n",
            "[2,  2000] loss: 1.576\n",
            "[2,  4000] loss: 1.557\n",
            "[2,  6000] loss: 1.518\n",
            "Finished Training\n"
          ]
        }
      ]
    },
    {
      "cell_type": "code",
      "execution_count": 76,
      "metadata": {
        "colab": {
          "base_uri": "https://localhost:8080/"
        },
        "id": "kI9ZkNER_nVm",
        "outputId": "c4ca257b-ec4a-4a9c-8bb6-fbcf123d4088"
      },
      "outputs": [
        {
          "output_type": "stream",
          "name": "stdout",
          "text": [
            "Starting epoch 1\n",
            "Loss after mini-batch   500: 1.775\n",
            "Loss after mini-batch  1000: 1.799\n",
            "Loss after mini-batch  1500: 1.765\n",
            "Loss after mini-batch  2000: 1.730\n",
            "Loss after mini-batch  2500: 1.787\n",
            "Loss after mini-batch  3000: 1.735\n",
            "Loss after mini-batch  3500: 1.749\n",
            "Loss after mini-batch  4000: 1.729\n",
            "Loss after mini-batch  4500: 1.727\n",
            "Loss after mini-batch  5000: 1.721\n",
            "Loss after mini-batch  5500: 1.711\n",
            "Loss after mini-batch  6000: 1.698\n",
            "Starting epoch 2\n",
            "Loss after mini-batch   500: 1.682\n",
            "Loss after mini-batch  1000: 1.710\n",
            "Loss after mini-batch  1500: 1.649\n",
            "Loss after mini-batch  2000: 1.682\n",
            "Loss after mini-batch  2500: 1.676\n",
            "Loss after mini-batch  3000: 1.651\n",
            "Loss after mini-batch  3500: 1.656\n",
            "Loss after mini-batch  4000: 1.686\n",
            "Loss after mini-batch  4500: 1.653\n",
            "Loss after mini-batch  5000: 1.652\n",
            "Loss after mini-batch  5500: 1.615\n",
            "Loss after mini-batch  6000: 1.634\n",
            "Starting epoch 3\n",
            "Loss after mini-batch   500: 1.600\n",
            "Loss after mini-batch  1000: 1.638\n",
            "Loss after mini-batch  1500: 1.611\n",
            "Loss after mini-batch  2000: 1.598\n",
            "Loss after mini-batch  2500: 1.606\n",
            "Loss after mini-batch  3000: 1.613\n",
            "Loss after mini-batch  3500: 1.596\n",
            "Loss after mini-batch  4000: 1.630\n",
            "Loss after mini-batch  4500: 1.585\n",
            "Loss after mini-batch  5000: 1.606\n",
            "Loss after mini-batch  5500: 1.584\n",
            "Loss after mini-batch  6000: 1.621\n",
            "Training process has finished.\n"
          ]
        }
      ],
      "source": [
        "\n",
        "# Run the training loop\n",
        "for epoch in range(0, 3): # 3 epochs at maximum\n",
        "    \n",
        "    # Print epoch\n",
        "    print(f'Starting epoch {epoch+1}')\n",
        "    \n",
        "    # Set current loss value\n",
        "    current_loss = 0.0\n",
        "    \n",
        "    # Iterate over the DataLoader for training data\n",
        "    for i, data in enumerate(trainloader, 0):\n",
        "      \n",
        "      # Get inputs\n",
        "      inputs, targets = data\n",
        "      \n",
        "      # Zero the gradients\n",
        "      optimizer.zero_grad()\n",
        "      \n",
        "      # Perform forward pass\n",
        "      outputs = mlp(inputs)\n",
        "      \n",
        "      # Compute loss\n",
        "      loss = loss_function(outputs, targets)\n",
        "      \n",
        "      # Perform backward pass\n",
        "      loss.backward()\n",
        "      \n",
        "      # Perform optimization\n",
        "      optimizer.step()\n",
        "      \n",
        "      # Print statistics\n",
        "      current_loss += loss.item()\n",
        "      if i % 500 == 499:\n",
        "          print('Loss after mini-batch %5d: %.3f' %\n",
        "                (i + 1, current_loss / 500))\n",
        "          current_loss = 0.0\n",
        "\n",
        "  # Process is complete.\n",
        "print('Training process has finished.')"
      ]
    }
  ]
}