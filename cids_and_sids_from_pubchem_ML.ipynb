{
  "nbformat": 4,
  "nbformat_minor": 0,
  "metadata": {
    "colab": {
      "name": "cids and sids from pubchem ML ",
      "provenance": [],
      "toc_visible": true,
      "authorship_tag": "ABX9TyPCTY1eYc4u3CJE7TmTW91j",
      "include_colab_link": true
    },
    "kernelspec": {
      "name": "python3",
      "display_name": "Python 3"
    },
    "language_info": {
      "name": "python"
    }
  },
  "cells": [
    {
      "cell_type": "markdown",
      "metadata": {
        "id": "view-in-github",
        "colab_type": "text"
      },
      "source": [
        "<a href=\"https://colab.research.google.com/github/cosmina98/PhD/blob/main/cids_and_sids_from_pubchem_ML.ipynb\" target=\"_parent\"><img src=\"https://colab.research.google.com/assets/colab-badge.svg\" alt=\"Open In Colab\"/></a>"
      ]
    },
    {
      "cell_type": "markdown",
      "source": [
        "Objectives\n",
        "* Build binary classification models that predict activity/inactivity of small molecules against human aromatase using supervised learning methods.\n",
        "* Evaluate the performance of the developed models using performance measures."
      ],
      "metadata": {
        "id": "sdAm5nZe4umu"
      }
    },
    {
      "cell_type": "markdown",
      "source": [
        "# Imports"
      ],
      "metadata": {
        "id": "SQsMH3Qs4H_c"
      }
    },
    {
      "cell_type": "code",
      "source": [
        "! pip install rdkit --quiet"
      ],
      "metadata": {
        "colab": {
          "base_uri": "https://localhost:8080/"
        },
        "id": "vYNiGQ-z4let",
        "outputId": "d5959de9-dd89-49dd-acfd-3393316e701a"
      },
      "execution_count": 6,
      "outputs": [
        {
          "output_type": "stream",
          "name": "stdout",
          "text": [
            "\u001b[K     |████████████████████████████████| 36.8 MB 1.1 MB/s \n",
            "\u001b[?25h"
          ]
        }
      ]
    },
    {
      "cell_type": "code",
      "source": [],
      "metadata": {
        "id": "aZbWenMt4rnG"
      },
      "execution_count": null,
      "outputs": []
    },
    {
      "cell_type": "code",
      "source": [],
      "metadata": {
        "id": "qeB0ft984plm"
      },
      "execution_count": null,
      "outputs": []
    },
    {
      "cell_type": "code",
      "source": [
        "import pandas as pd\n",
        "import requests\n",
        "import numpy as np\n",
        "import time\n",
        "import io\n",
        "import rdkit\n",
        "import networkx\n",
        "import sklearn \n",
        "from io import StringIO\n",
        "from rdkit import Chem\n",
        "from rdkit.Chem import MACCSkeys"
      ],
      "metadata": {
        "id": "64x6DHGn4YPt"
      },
      "execution_count": 54,
      "outputs": []
    },
    {
      "cell_type": "markdown",
      "source": [
        "# Load data from PubChem"
      ],
      "metadata": {
        "id": "XqZF2ty74EKM"
      }
    },
    {
      "cell_type": "markdown",
      "source": [
        "Data is available at:https://pubchem.ncbi.nlm.nih.gov/bioassay/743139"
      ],
      "metadata": {
        "id": "M69ZhTEu4Pkt"
      }
    },
    {
      "cell_type": "code",
      "source": [
        "\n",
        "def load_data_from_a_PubChem_assay(assay_id=743139):\n",
        "    url = f'https://pubchem.ncbi.nlm.nih.gov/assay/pcget.cgi?query=download&record_type=datatable&actvty=all&response_type=save&aid={assay_id}'\n",
        "    df_raw=pd.read_csv(url)\n",
        "    #print(df_raw.head())\n",
        "    return(df_raw)\n",
        "df_raw=load_data_from_a_PubChem_assay()\n"
      ],
      "metadata": {
        "id": "HrPhYvC83-q1"
      },
      "execution_count": 21,
      "outputs": []
    },
    {
      "cell_type": "code",
      "source": [
        "df_raw.head()"
      ],
      "metadata": {
        "colab": {
          "base_uri": "https://localhost:8080/",
          "height": 305
        },
        "id": "s4yZEAms9vUO",
        "outputId": "4c334aa8-d33a-49a2-a24a-3bea88f749af"
      },
      "execution_count": 132,
      "outputs": [
        {
          "output_type": "execute_result",
          "data": {
            "text/plain": [
              "  pc_result_tag          sid         cid activity_outcome  activity_score  \\\n",
              "3             1  144203552.0  12850184.0         Inactive             0.0   \n",
              "4             2  144203553.0     89753.0         Inactive             0.0   \n",
              "5             3  144203554.0      9403.0         Inactive             0.0   \n",
              "6             4  144203555.0  13218779.0         Inactive             0.0   \n",
              "7             5  144203556.0    142766.0     Inconclusive            25.0   \n",
              "\n",
              "   activity_url  assay_data_comment                     activity_summary  \\\n",
              "3           NaN                 NaN                             inactive   \n",
              "4           NaN                 NaN                             inactive   \n",
              "5           NaN                 NaN                             inactive   \n",
              "6           NaN                 NaN                             inactive   \n",
              "7           NaN                 NaN  inconclusive antagonist (cytotoxic)   \n",
              "\n",
              "  antagonist_activity antagonist_potency antagonist_efficacy  \\\n",
              "3            inactive                NaN                   0   \n",
              "4            inactive                NaN                   0   \n",
              "5            inactive                NaN                   0   \n",
              "6            inactive                NaN                   0   \n",
              "7   active antagonist            15.5454            -115.803   \n",
              "\n",
              "  viability_activity viability_potency viability_efficacy sample_source  \n",
              "3           inactive               NaN                  0           NCI  \n",
              "4           inactive               NaN                  0           NCI  \n",
              "5           inactive               NaN                  0           NCI  \n",
              "6           inactive               NaN                  0           NCI  \n",
              "7  active antagonist           14.9601           -76.8218           NCI  "
            ],
            "text/html": [
              "\n",
              "  <div id=\"df-1843da51-4ccd-4bd2-9765-415519fa57dd\">\n",
              "    <div class=\"colab-df-container\">\n",
              "      <div>\n",
              "<style scoped>\n",
              "    .dataframe tbody tr th:only-of-type {\n",
              "        vertical-align: middle;\n",
              "    }\n",
              "\n",
              "    .dataframe tbody tr th {\n",
              "        vertical-align: top;\n",
              "    }\n",
              "\n",
              "    .dataframe thead th {\n",
              "        text-align: right;\n",
              "    }\n",
              "</style>\n",
              "<table border=\"1\" class=\"dataframe\">\n",
              "  <thead>\n",
              "    <tr style=\"text-align: right;\">\n",
              "      <th></th>\n",
              "      <th>pc_result_tag</th>\n",
              "      <th>sid</th>\n",
              "      <th>cid</th>\n",
              "      <th>activity_outcome</th>\n",
              "      <th>activity_score</th>\n",
              "      <th>activity_url</th>\n",
              "      <th>assay_data_comment</th>\n",
              "      <th>activity_summary</th>\n",
              "      <th>antagonist_activity</th>\n",
              "      <th>antagonist_potency</th>\n",
              "      <th>antagonist_efficacy</th>\n",
              "      <th>viability_activity</th>\n",
              "      <th>viability_potency</th>\n",
              "      <th>viability_efficacy</th>\n",
              "      <th>sample_source</th>\n",
              "    </tr>\n",
              "  </thead>\n",
              "  <tbody>\n",
              "    <tr>\n",
              "      <th>3</th>\n",
              "      <td>1</td>\n",
              "      <td>144203552.0</td>\n",
              "      <td>12850184.0</td>\n",
              "      <td>Inactive</td>\n",
              "      <td>0.0</td>\n",
              "      <td>NaN</td>\n",
              "      <td>NaN</td>\n",
              "      <td>inactive</td>\n",
              "      <td>inactive</td>\n",
              "      <td>NaN</td>\n",
              "      <td>0</td>\n",
              "      <td>inactive</td>\n",
              "      <td>NaN</td>\n",
              "      <td>0</td>\n",
              "      <td>NCI</td>\n",
              "    </tr>\n",
              "    <tr>\n",
              "      <th>4</th>\n",
              "      <td>2</td>\n",
              "      <td>144203553.0</td>\n",
              "      <td>89753.0</td>\n",
              "      <td>Inactive</td>\n",
              "      <td>0.0</td>\n",
              "      <td>NaN</td>\n",
              "      <td>NaN</td>\n",
              "      <td>inactive</td>\n",
              "      <td>inactive</td>\n",
              "      <td>NaN</td>\n",
              "      <td>0</td>\n",
              "      <td>inactive</td>\n",
              "      <td>NaN</td>\n",
              "      <td>0</td>\n",
              "      <td>NCI</td>\n",
              "    </tr>\n",
              "    <tr>\n",
              "      <th>5</th>\n",
              "      <td>3</td>\n",
              "      <td>144203554.0</td>\n",
              "      <td>9403.0</td>\n",
              "      <td>Inactive</td>\n",
              "      <td>0.0</td>\n",
              "      <td>NaN</td>\n",
              "      <td>NaN</td>\n",
              "      <td>inactive</td>\n",
              "      <td>inactive</td>\n",
              "      <td>NaN</td>\n",
              "      <td>0</td>\n",
              "      <td>inactive</td>\n",
              "      <td>NaN</td>\n",
              "      <td>0</td>\n",
              "      <td>NCI</td>\n",
              "    </tr>\n",
              "    <tr>\n",
              "      <th>6</th>\n",
              "      <td>4</td>\n",
              "      <td>144203555.0</td>\n",
              "      <td>13218779.0</td>\n",
              "      <td>Inactive</td>\n",
              "      <td>0.0</td>\n",
              "      <td>NaN</td>\n",
              "      <td>NaN</td>\n",
              "      <td>inactive</td>\n",
              "      <td>inactive</td>\n",
              "      <td>NaN</td>\n",
              "      <td>0</td>\n",
              "      <td>inactive</td>\n",
              "      <td>NaN</td>\n",
              "      <td>0</td>\n",
              "      <td>NCI</td>\n",
              "    </tr>\n",
              "    <tr>\n",
              "      <th>7</th>\n",
              "      <td>5</td>\n",
              "      <td>144203556.0</td>\n",
              "      <td>142766.0</td>\n",
              "      <td>Inconclusive</td>\n",
              "      <td>25.0</td>\n",
              "      <td>NaN</td>\n",
              "      <td>NaN</td>\n",
              "      <td>inconclusive antagonist (cytotoxic)</td>\n",
              "      <td>active antagonist</td>\n",
              "      <td>15.5454</td>\n",
              "      <td>-115.803</td>\n",
              "      <td>active antagonist</td>\n",
              "      <td>14.9601</td>\n",
              "      <td>-76.8218</td>\n",
              "      <td>NCI</td>\n",
              "    </tr>\n",
              "  </tbody>\n",
              "</table>\n",
              "</div>\n",
              "      <button class=\"colab-df-convert\" onclick=\"convertToInteractive('df-1843da51-4ccd-4bd2-9765-415519fa57dd')\"\n",
              "              title=\"Convert this dataframe to an interactive table.\"\n",
              "              style=\"display:none;\">\n",
              "        \n",
              "  <svg xmlns=\"http://www.w3.org/2000/svg\" height=\"24px\"viewBox=\"0 0 24 24\"\n",
              "       width=\"24px\">\n",
              "    <path d=\"M0 0h24v24H0V0z\" fill=\"none\"/>\n",
              "    <path d=\"M18.56 5.44l.94 2.06.94-2.06 2.06-.94-2.06-.94-.94-2.06-.94 2.06-2.06.94zm-11 1L8.5 8.5l.94-2.06 2.06-.94-2.06-.94L8.5 2.5l-.94 2.06-2.06.94zm10 10l.94 2.06.94-2.06 2.06-.94-2.06-.94-.94-2.06-.94 2.06-2.06.94z\"/><path d=\"M17.41 7.96l-1.37-1.37c-.4-.4-.92-.59-1.43-.59-.52 0-1.04.2-1.43.59L10.3 9.45l-7.72 7.72c-.78.78-.78 2.05 0 2.83L4 21.41c.39.39.9.59 1.41.59.51 0 1.02-.2 1.41-.59l7.78-7.78 2.81-2.81c.8-.78.8-2.07 0-2.86zM5.41 20L4 18.59l7.72-7.72 1.47 1.35L5.41 20z\"/>\n",
              "  </svg>\n",
              "      </button>\n",
              "      \n",
              "  <style>\n",
              "    .colab-df-container {\n",
              "      display:flex;\n",
              "      flex-wrap:wrap;\n",
              "      gap: 12px;\n",
              "    }\n",
              "\n",
              "    .colab-df-convert {\n",
              "      background-color: #E8F0FE;\n",
              "      border: none;\n",
              "      border-radius: 50%;\n",
              "      cursor: pointer;\n",
              "      display: none;\n",
              "      fill: #1967D2;\n",
              "      height: 32px;\n",
              "      padding: 0 0 0 0;\n",
              "      width: 32px;\n",
              "    }\n",
              "\n",
              "    .colab-df-convert:hover {\n",
              "      background-color: #E2EBFA;\n",
              "      box-shadow: 0px 1px 2px rgba(60, 64, 67, 0.3), 0px 1px 3px 1px rgba(60, 64, 67, 0.15);\n",
              "      fill: #174EA6;\n",
              "    }\n",
              "\n",
              "    [theme=dark] .colab-df-convert {\n",
              "      background-color: #3B4455;\n",
              "      fill: #D2E3FC;\n",
              "    }\n",
              "\n",
              "    [theme=dark] .colab-df-convert:hover {\n",
              "      background-color: #434B5C;\n",
              "      box-shadow: 0px 1px 3px 1px rgba(0, 0, 0, 0.15);\n",
              "      filter: drop-shadow(0px 1px 2px rgba(0, 0, 0, 0.3));\n",
              "      fill: #FFFFFF;\n",
              "    }\n",
              "  </style>\n",
              "\n",
              "      <script>\n",
              "        const buttonEl =\n",
              "          document.querySelector('#df-1843da51-4ccd-4bd2-9765-415519fa57dd button.colab-df-convert');\n",
              "        buttonEl.style.display =\n",
              "          google.colab.kernel.accessAllowed ? 'block' : 'none';\n",
              "\n",
              "        async function convertToInteractive(key) {\n",
              "          const element = document.querySelector('#df-1843da51-4ccd-4bd2-9765-415519fa57dd');\n",
              "          const dataTable =\n",
              "            await google.colab.kernel.invokeFunction('convertToInteractive',\n",
              "                                                     [key], {});\n",
              "          if (!dataTable) return;\n",
              "\n",
              "          const docLinkHtml = 'Like what you see? Visit the ' +\n",
              "            '<a target=\"_blank\" href=https://colab.research.google.com/notebooks/data_table.ipynb>data table notebook</a>'\n",
              "            + ' to learn more about interactive tables.';\n",
              "          element.innerHTML = '';\n",
              "          dataTable['output_type'] = 'display_data';\n",
              "          await google.colab.output.renderOutput(dataTable, element);\n",
              "          const docLink = document.createElement('div');\n",
              "          docLink.innerHTML = docLinkHtml;\n",
              "          element.appendChild(docLink);\n",
              "        }\n",
              "      </script>\n",
              "    </div>\n",
              "  </div>\n",
              "  "
            ]
          },
          "metadata": {},
          "execution_count": 132
        }
      ]
    },
    {
      "cell_type": "markdown",
      "source": [
        "##Pre-Processing"
      ],
      "metadata": {
        "id": "bStaH72v_adO"
      }
    },
    {
      "cell_type": "code",
      "source": [
        "#remove the first 2 raws as these just provide descriptiom\n",
        "df_raw = df_raw[3:]\n",
        "#rename columns\n",
        "col_names_map = {'PUBCHEM_RESULT_TAG' : 'pc_result_tag', \n",
        "                 'PUBCHEM_SID' : 'sid', \n",
        "                 'PUBCHEM_CID' : 'cid',\n",
        "                 'PUBCHEM_ACTIVITY_OUTCOME' : 'activity_outcome', \n",
        "                 'PUBCHEM_ACTIVITY_SCORE' : 'activity_score',\n",
        "                 'PUBCHEM_ACTIVITY_URL' : 'activity_url', \n",
        "                 'PUBCHEM_ASSAYDATA_COMMENT' : 'assay_data_comment', \n",
        "                 'Activity Summary' : 'activity_summary',\n",
        "                 'Antagonist Activity' : 'antagonist_activity', \n",
        "                 'Antagonist Potency (uM)' : 'antagonist_potency', \n",
        "                 'Antagonist Efficacy (%)' : 'antagonist_efficacy',\n",
        "                 'Viability Activity' : 'viability_activity', \n",
        "                 'Viability Potency (uM)' : 'viability_potency',\n",
        "                 'Viability Efficacy (%)' : 'viability_efficacy', \n",
        "                 'Sample Source' : 'sample_source' }\n",
        "df_raw = df_raw.rename(columns = col_names_map)\n",
        "#Select active/inactive compounds for model building\n",
        "df = df_raw[ (df_raw['activity_summary'] == 'active agonist' ) | \n",
        "             (df_raw['activity_summary'] == 'active antagonist' ) |\n",
        "             (df_raw['activity_summary'] == 'inactive' ) ]\n"
      ],
      "metadata": {
        "id": "2yg-Q1Vx_dFP"
      },
      "execution_count": 22,
      "outputs": []
    },
    {
      "cell_type": "code",
      "source": [
        "print(len(df['sid'].unique()))\n",
        "print(len(df['cid'].unique()))"
      ],
      "metadata": {
        "colab": {
          "base_uri": "https://localhost:8080/"
        },
        "id": "TO2XtZdf_dHJ",
        "outputId": "706a37f9-329b-476e-c437-57f944534d34"
      },
      "execution_count": 23,
      "outputs": [
        {
          "output_type": "stream",
          "name": "stdout",
          "text": [
            "8553\n",
            "6864\n"
          ]
        }
      ]
    },
    {
      "cell_type": "code",
      "source": [
        "#Drop substances without associated CIDs.\n",
        "df = df.dropna( subset=['cid'] )\n",
        "\n",
        "#Remove CIDs with conflicting activities\n",
        "cid_conflict = []\n",
        "idx_conflict = []\n",
        "\n",
        "for mycid in df['cid'].unique() :\n",
        "    \n",
        "    outcomes = df[ df.cid == mycid ].activity_summary.unique()\n",
        "    \n",
        "    if len(outcomes) > 1 :\n",
        "        \n",
        "        idx_tmp = df.index[ df.cid == mycid ].tolist()\n",
        "        idx_conflict.extend(idx_tmp)\n",
        "        cid_conflict.append(mycid)\n",
        "\n",
        "print(\"#\", len(cid_conflict), \"CIDs with conflicting activities [associated with\", len(idx_conflict), \"rows (SIDs).]\")\n",
        "df = df.drop(idx_conflict)\n",
        "\n",
        "#Remove redundant data\n",
        "\n",
        "df = df.drop_duplicates(subset='cid')  # remove duplicate rows except for the first occurring row.\n",
        "print(len(df['sid'].unique()))\n",
        "print(len(df['cid'].unique()))"
      ],
      "metadata": {
        "colab": {
          "base_uri": "https://localhost:8080/"
        },
        "id": "9s-tacdK_dJP",
        "outputId": "00d74b6d-7cd4-4150-b8d1-dc5d29634292"
      },
      "execution_count": 24,
      "outputs": [
        {
          "output_type": "stream",
          "name": "stdout",
          "text": [
            "# 65 CIDs with conflicting activities [associated with 146 rows (SIDs).]\n",
            "6798\n",
            "6798\n"
          ]
        }
      ]
    },
    {
      "cell_type": "markdown",
      "source": [
        "##Label Encoder of targets"
      ],
      "metadata": {
        "id": "atc4ANaoAxxg"
      }
    },
    {
      "cell_type": "code",
      "source": [
        "from sklearn import preprocessing\n",
        "le = preprocessing.LabelEncoder()\n",
        "df['activity'] = [ 0 if x == 'inactive' else 1 for x in df['activity_summary'] ]\n",
        "df['activity']=le.fit_transform(df['activity'])"
      ],
      "metadata": {
        "id": "xdlSl4JhAwXL"
      },
      "execution_count": 25,
      "outputs": []
    },
    {
      "cell_type": "code",
      "source": [
        "df.groupby('activity_summary').count()\n"
      ],
      "metadata": {
        "colab": {
          "base_uri": "https://localhost:8080/",
          "height": 219
        },
        "id": "9079aRnIBaPQ",
        "outputId": "442b066e-0df2-46b6-a874-f5fe96c628cb"
      },
      "execution_count": 26,
      "outputs": [
        {
          "output_type": "execute_result",
          "data": {
            "text/plain": [
              "                   pc_result_tag   sid   cid  activity_outcome  \\\n",
              "activity_summary                                                 \n",
              "active agonist               451   451   451               451   \n",
              "active antagonist            291   291   291               291   \n",
              "inactive                    6056  6056  6056              6056   \n",
              "\n",
              "                   activity_score  activity_url  assay_data_comment  \\\n",
              "activity_summary                                                      \n",
              "active agonist                451             0                   0   \n",
              "active antagonist             291             0                   0   \n",
              "inactive                     6056             0                   0   \n",
              "\n",
              "                   antagonist_activity  antagonist_potency  \\\n",
              "activity_summary                                             \n",
              "active agonist                     451                 451   \n",
              "active antagonist                  291                 290   \n",
              "inactive                          6056                   0   \n",
              "\n",
              "                   antagonist_efficacy  viability_activity  viability_potency  \\\n",
              "activity_summary                                                                \n",
              "active agonist                     451                 451                 44   \n",
              "active antagonist                  291                 291                 88   \n",
              "inactive                          6056                6056                269   \n",
              "\n",
              "                   viability_efficacy  sample_source  activity  \n",
              "activity_summary                                                \n",
              "active agonist                    432            451       451  \n",
              "active antagonist                 275            291       291  \n",
              "inactive                         5970           6056      6056  "
            ],
            "text/html": [
              "\n",
              "  <div id=\"df-c60bcf42-0d14-4e65-9ba2-d92b994584ca\">\n",
              "    <div class=\"colab-df-container\">\n",
              "      <div>\n",
              "<style scoped>\n",
              "    .dataframe tbody tr th:only-of-type {\n",
              "        vertical-align: middle;\n",
              "    }\n",
              "\n",
              "    .dataframe tbody tr th {\n",
              "        vertical-align: top;\n",
              "    }\n",
              "\n",
              "    .dataframe thead th {\n",
              "        text-align: right;\n",
              "    }\n",
              "</style>\n",
              "<table border=\"1\" class=\"dataframe\">\n",
              "  <thead>\n",
              "    <tr style=\"text-align: right;\">\n",
              "      <th></th>\n",
              "      <th>pc_result_tag</th>\n",
              "      <th>sid</th>\n",
              "      <th>cid</th>\n",
              "      <th>activity_outcome</th>\n",
              "      <th>activity_score</th>\n",
              "      <th>activity_url</th>\n",
              "      <th>assay_data_comment</th>\n",
              "      <th>antagonist_activity</th>\n",
              "      <th>antagonist_potency</th>\n",
              "      <th>antagonist_efficacy</th>\n",
              "      <th>viability_activity</th>\n",
              "      <th>viability_potency</th>\n",
              "      <th>viability_efficacy</th>\n",
              "      <th>sample_source</th>\n",
              "      <th>activity</th>\n",
              "    </tr>\n",
              "    <tr>\n",
              "      <th>activity_summary</th>\n",
              "      <th></th>\n",
              "      <th></th>\n",
              "      <th></th>\n",
              "      <th></th>\n",
              "      <th></th>\n",
              "      <th></th>\n",
              "      <th></th>\n",
              "      <th></th>\n",
              "      <th></th>\n",
              "      <th></th>\n",
              "      <th></th>\n",
              "      <th></th>\n",
              "      <th></th>\n",
              "      <th></th>\n",
              "      <th></th>\n",
              "    </tr>\n",
              "  </thead>\n",
              "  <tbody>\n",
              "    <tr>\n",
              "      <th>active agonist</th>\n",
              "      <td>451</td>\n",
              "      <td>451</td>\n",
              "      <td>451</td>\n",
              "      <td>451</td>\n",
              "      <td>451</td>\n",
              "      <td>0</td>\n",
              "      <td>0</td>\n",
              "      <td>451</td>\n",
              "      <td>451</td>\n",
              "      <td>451</td>\n",
              "      <td>451</td>\n",
              "      <td>44</td>\n",
              "      <td>432</td>\n",
              "      <td>451</td>\n",
              "      <td>451</td>\n",
              "    </tr>\n",
              "    <tr>\n",
              "      <th>active antagonist</th>\n",
              "      <td>291</td>\n",
              "      <td>291</td>\n",
              "      <td>291</td>\n",
              "      <td>291</td>\n",
              "      <td>291</td>\n",
              "      <td>0</td>\n",
              "      <td>0</td>\n",
              "      <td>291</td>\n",
              "      <td>290</td>\n",
              "      <td>291</td>\n",
              "      <td>291</td>\n",
              "      <td>88</td>\n",
              "      <td>275</td>\n",
              "      <td>291</td>\n",
              "      <td>291</td>\n",
              "    </tr>\n",
              "    <tr>\n",
              "      <th>inactive</th>\n",
              "      <td>6056</td>\n",
              "      <td>6056</td>\n",
              "      <td>6056</td>\n",
              "      <td>6056</td>\n",
              "      <td>6056</td>\n",
              "      <td>0</td>\n",
              "      <td>0</td>\n",
              "      <td>6056</td>\n",
              "      <td>0</td>\n",
              "      <td>6056</td>\n",
              "      <td>6056</td>\n",
              "      <td>269</td>\n",
              "      <td>5970</td>\n",
              "      <td>6056</td>\n",
              "      <td>6056</td>\n",
              "    </tr>\n",
              "  </tbody>\n",
              "</table>\n",
              "</div>\n",
              "      <button class=\"colab-df-convert\" onclick=\"convertToInteractive('df-c60bcf42-0d14-4e65-9ba2-d92b994584ca')\"\n",
              "              title=\"Convert this dataframe to an interactive table.\"\n",
              "              style=\"display:none;\">\n",
              "        \n",
              "  <svg xmlns=\"http://www.w3.org/2000/svg\" height=\"24px\"viewBox=\"0 0 24 24\"\n",
              "       width=\"24px\">\n",
              "    <path d=\"M0 0h24v24H0V0z\" fill=\"none\"/>\n",
              "    <path d=\"M18.56 5.44l.94 2.06.94-2.06 2.06-.94-2.06-.94-.94-2.06-.94 2.06-2.06.94zm-11 1L8.5 8.5l.94-2.06 2.06-.94-2.06-.94L8.5 2.5l-.94 2.06-2.06.94zm10 10l.94 2.06.94-2.06 2.06-.94-2.06-.94-.94-2.06-.94 2.06-2.06.94z\"/><path d=\"M17.41 7.96l-1.37-1.37c-.4-.4-.92-.59-1.43-.59-.52 0-1.04.2-1.43.59L10.3 9.45l-7.72 7.72c-.78.78-.78 2.05 0 2.83L4 21.41c.39.39.9.59 1.41.59.51 0 1.02-.2 1.41-.59l7.78-7.78 2.81-2.81c.8-.78.8-2.07 0-2.86zM5.41 20L4 18.59l7.72-7.72 1.47 1.35L5.41 20z\"/>\n",
              "  </svg>\n",
              "      </button>\n",
              "      \n",
              "  <style>\n",
              "    .colab-df-container {\n",
              "      display:flex;\n",
              "      flex-wrap:wrap;\n",
              "      gap: 12px;\n",
              "    }\n",
              "\n",
              "    .colab-df-convert {\n",
              "      background-color: #E8F0FE;\n",
              "      border: none;\n",
              "      border-radius: 50%;\n",
              "      cursor: pointer;\n",
              "      display: none;\n",
              "      fill: #1967D2;\n",
              "      height: 32px;\n",
              "      padding: 0 0 0 0;\n",
              "      width: 32px;\n",
              "    }\n",
              "\n",
              "    .colab-df-convert:hover {\n",
              "      background-color: #E2EBFA;\n",
              "      box-shadow: 0px 1px 2px rgba(60, 64, 67, 0.3), 0px 1px 3px 1px rgba(60, 64, 67, 0.15);\n",
              "      fill: #174EA6;\n",
              "    }\n",
              "\n",
              "    [theme=dark] .colab-df-convert {\n",
              "      background-color: #3B4455;\n",
              "      fill: #D2E3FC;\n",
              "    }\n",
              "\n",
              "    [theme=dark] .colab-df-convert:hover {\n",
              "      background-color: #434B5C;\n",
              "      box-shadow: 0px 1px 3px 1px rgba(0, 0, 0, 0.15);\n",
              "      filter: drop-shadow(0px 1px 2px rgba(0, 0, 0, 0.3));\n",
              "      fill: #FFFFFF;\n",
              "    }\n",
              "  </style>\n",
              "\n",
              "      <script>\n",
              "        const buttonEl =\n",
              "          document.querySelector('#df-c60bcf42-0d14-4e65-9ba2-d92b994584ca button.colab-df-convert');\n",
              "        buttonEl.style.display =\n",
              "          google.colab.kernel.accessAllowed ? 'block' : 'none';\n",
              "\n",
              "        async function convertToInteractive(key) {\n",
              "          const element = document.querySelector('#df-c60bcf42-0d14-4e65-9ba2-d92b994584ca');\n",
              "          const dataTable =\n",
              "            await google.colab.kernel.invokeFunction('convertToInteractive',\n",
              "                                                     [key], {});\n",
              "          if (!dataTable) return;\n",
              "\n",
              "          const docLinkHtml = 'Like what you see? Visit the ' +\n",
              "            '<a target=\"_blank\" href=https://colab.research.google.com/notebooks/data_table.ipynb>data table notebook</a>'\n",
              "            + ' to learn more about interactive tables.';\n",
              "          element.innerHTML = '';\n",
              "          dataTable['output_type'] = 'display_data';\n",
              "          await google.colab.output.renderOutput(dataTable, element);\n",
              "          const docLink = document.createElement('div');\n",
              "          docLink.innerHTML = docLinkHtml;\n",
              "          element.appendChild(docLink);\n",
              "        }\n",
              "      </script>\n",
              "    </div>\n",
              "  </div>\n",
              "  "
            ]
          },
          "metadata": {},
          "execution_count": 26
        }
      ]
    },
    {
      "cell_type": "code",
      "source": [
        "df.groupby('activity').count()\n"
      ],
      "metadata": {
        "colab": {
          "base_uri": "https://localhost:8080/",
          "height": 207
        },
        "id": "uN7eTHgoCzCr",
        "outputId": "17b2b811-c621-4478-8ac0-5833e36e1207"
      },
      "execution_count": null,
      "outputs": [
        {
          "output_type": "execute_result",
          "data": {
            "text/plain": [
              "          pc_result_tag   sid   cid  activity_outcome  activity_score  \\\n",
              "activity                                                                \n",
              "0                  6056  6056  6056              6056            6056   \n",
              "1                   742   742   742               742             742   \n",
              "\n",
              "          activity_url  assay_data_comment  activity_summary  \\\n",
              "activity                                                       \n",
              "0                    0                   0              6056   \n",
              "1                    0                   0               742   \n",
              "\n",
              "          antagonist_activity  antagonist_potency  antagonist_efficacy  \\\n",
              "activity                                                                 \n",
              "0                        6056                   0                 6056   \n",
              "1                         742                 741                  742   \n",
              "\n",
              "          viability_activity  viability_potency  viability_efficacy  \\\n",
              "activity                                                              \n",
              "0                       6056                269                5970   \n",
              "1                        742                132                 707   \n",
              "\n",
              "          sample_source  \n",
              "activity                 \n",
              "0                  6056  \n",
              "1                   742  "
            ],
            "text/html": [
              "\n",
              "  <div id=\"df-11fe9e60-f25c-4e55-96c0-c4a85131c8fa\">\n",
              "    <div class=\"colab-df-container\">\n",
              "      <div>\n",
              "<style scoped>\n",
              "    .dataframe tbody tr th:only-of-type {\n",
              "        vertical-align: middle;\n",
              "    }\n",
              "\n",
              "    .dataframe tbody tr th {\n",
              "        vertical-align: top;\n",
              "    }\n",
              "\n",
              "    .dataframe thead th {\n",
              "        text-align: right;\n",
              "    }\n",
              "</style>\n",
              "<table border=\"1\" class=\"dataframe\">\n",
              "  <thead>\n",
              "    <tr style=\"text-align: right;\">\n",
              "      <th></th>\n",
              "      <th>pc_result_tag</th>\n",
              "      <th>sid</th>\n",
              "      <th>cid</th>\n",
              "      <th>activity_outcome</th>\n",
              "      <th>activity_score</th>\n",
              "      <th>activity_url</th>\n",
              "      <th>assay_data_comment</th>\n",
              "      <th>activity_summary</th>\n",
              "      <th>antagonist_activity</th>\n",
              "      <th>antagonist_potency</th>\n",
              "      <th>antagonist_efficacy</th>\n",
              "      <th>viability_activity</th>\n",
              "      <th>viability_potency</th>\n",
              "      <th>viability_efficacy</th>\n",
              "      <th>sample_source</th>\n",
              "    </tr>\n",
              "    <tr>\n",
              "      <th>activity</th>\n",
              "      <th></th>\n",
              "      <th></th>\n",
              "      <th></th>\n",
              "      <th></th>\n",
              "      <th></th>\n",
              "      <th></th>\n",
              "      <th></th>\n",
              "      <th></th>\n",
              "      <th></th>\n",
              "      <th></th>\n",
              "      <th></th>\n",
              "      <th></th>\n",
              "      <th></th>\n",
              "      <th></th>\n",
              "      <th></th>\n",
              "    </tr>\n",
              "  </thead>\n",
              "  <tbody>\n",
              "    <tr>\n",
              "      <th>0</th>\n",
              "      <td>6056</td>\n",
              "      <td>6056</td>\n",
              "      <td>6056</td>\n",
              "      <td>6056</td>\n",
              "      <td>6056</td>\n",
              "      <td>0</td>\n",
              "      <td>0</td>\n",
              "      <td>6056</td>\n",
              "      <td>6056</td>\n",
              "      <td>0</td>\n",
              "      <td>6056</td>\n",
              "      <td>6056</td>\n",
              "      <td>269</td>\n",
              "      <td>5970</td>\n",
              "      <td>6056</td>\n",
              "    </tr>\n",
              "    <tr>\n",
              "      <th>1</th>\n",
              "      <td>742</td>\n",
              "      <td>742</td>\n",
              "      <td>742</td>\n",
              "      <td>742</td>\n",
              "      <td>742</td>\n",
              "      <td>0</td>\n",
              "      <td>0</td>\n",
              "      <td>742</td>\n",
              "      <td>742</td>\n",
              "      <td>741</td>\n",
              "      <td>742</td>\n",
              "      <td>742</td>\n",
              "      <td>132</td>\n",
              "      <td>707</td>\n",
              "      <td>742</td>\n",
              "    </tr>\n",
              "  </tbody>\n",
              "</table>\n",
              "</div>\n",
              "      <button class=\"colab-df-convert\" onclick=\"convertToInteractive('df-11fe9e60-f25c-4e55-96c0-c4a85131c8fa')\"\n",
              "              title=\"Convert this dataframe to an interactive table.\"\n",
              "              style=\"display:none;\">\n",
              "        \n",
              "  <svg xmlns=\"http://www.w3.org/2000/svg\" height=\"24px\"viewBox=\"0 0 24 24\"\n",
              "       width=\"24px\">\n",
              "    <path d=\"M0 0h24v24H0V0z\" fill=\"none\"/>\n",
              "    <path d=\"M18.56 5.44l.94 2.06.94-2.06 2.06-.94-2.06-.94-.94-2.06-.94 2.06-2.06.94zm-11 1L8.5 8.5l.94-2.06 2.06-.94-2.06-.94L8.5 2.5l-.94 2.06-2.06.94zm10 10l.94 2.06.94-2.06 2.06-.94-2.06-.94-.94-2.06-.94 2.06-2.06.94z\"/><path d=\"M17.41 7.96l-1.37-1.37c-.4-.4-.92-.59-1.43-.59-.52 0-1.04.2-1.43.59L10.3 9.45l-7.72 7.72c-.78.78-.78 2.05 0 2.83L4 21.41c.39.39.9.59 1.41.59.51 0 1.02-.2 1.41-.59l7.78-7.78 2.81-2.81c.8-.78.8-2.07 0-2.86zM5.41 20L4 18.59l7.72-7.72 1.47 1.35L5.41 20z\"/>\n",
              "  </svg>\n",
              "      </button>\n",
              "      \n",
              "  <style>\n",
              "    .colab-df-container {\n",
              "      display:flex;\n",
              "      flex-wrap:wrap;\n",
              "      gap: 12px;\n",
              "    }\n",
              "\n",
              "    .colab-df-convert {\n",
              "      background-color: #E8F0FE;\n",
              "      border: none;\n",
              "      border-radius: 50%;\n",
              "      cursor: pointer;\n",
              "      display: none;\n",
              "      fill: #1967D2;\n",
              "      height: 32px;\n",
              "      padding: 0 0 0 0;\n",
              "      width: 32px;\n",
              "    }\n",
              "\n",
              "    .colab-df-convert:hover {\n",
              "      background-color: #E2EBFA;\n",
              "      box-shadow: 0px 1px 2px rgba(60, 64, 67, 0.3), 0px 1px 3px 1px rgba(60, 64, 67, 0.15);\n",
              "      fill: #174EA6;\n",
              "    }\n",
              "\n",
              "    [theme=dark] .colab-df-convert {\n",
              "      background-color: #3B4455;\n",
              "      fill: #D2E3FC;\n",
              "    }\n",
              "\n",
              "    [theme=dark] .colab-df-convert:hover {\n",
              "      background-color: #434B5C;\n",
              "      box-shadow: 0px 1px 3px 1px rgba(0, 0, 0, 0.15);\n",
              "      filter: drop-shadow(0px 1px 2px rgba(0, 0, 0, 0.3));\n",
              "      fill: #FFFFFF;\n",
              "    }\n",
              "  </style>\n",
              "\n",
              "      <script>\n",
              "        const buttonEl =\n",
              "          document.querySelector('#df-11fe9e60-f25c-4e55-96c0-c4a85131c8fa button.colab-df-convert');\n",
              "        buttonEl.style.display =\n",
              "          google.colab.kernel.accessAllowed ? 'block' : 'none';\n",
              "\n",
              "        async function convertToInteractive(key) {\n",
              "          const element = document.querySelector('#df-11fe9e60-f25c-4e55-96c0-c4a85131c8fa');\n",
              "          const dataTable =\n",
              "            await google.colab.kernel.invokeFunction('convertToInteractive',\n",
              "                                                     [key], {});\n",
              "          if (!dataTable) return;\n",
              "\n",
              "          const docLinkHtml = 'Like what you see? Visit the ' +\n",
              "            '<a target=\"_blank\" href=https://colab.research.google.com/notebooks/data_table.ipynb>data table notebook</a>'\n",
              "            + ' to learn more about interactive tables.';\n",
              "          element.innerHTML = '';\n",
              "          dataTable['output_type'] = 'display_data';\n",
              "          await google.colab.output.renderOutput(dataTable, element);\n",
              "          const docLink = document.createElement('div');\n",
              "          docLink.innerHTML = docLinkHtml;\n",
              "          element.appendChild(docLink);\n",
              "        }\n",
              "      </script>\n",
              "    </div>\n",
              "  </div>\n",
              "  "
            ]
          },
          "metadata": {},
          "execution_count": 94
        }
      ]
    },
    {
      "cell_type": "markdown",
      "source": [
        "# Download structure information for each compound from PubChem\n"
      ],
      "metadata": {
        "id": "MLH3Au4FC_4k"
      }
    },
    {
      "cell_type": "code",
      "source": [
        "def download_smiles_given_cids_from_pubmed(list_of_cids,chunk_size = 200): #returns df of smiles and cids\n",
        "    df_smiles = pd.DataFrame()\n",
        "\n",
        "    num_cids = len(list_of_cids)\n",
        "    list_dfs = []\n",
        "    if num_cids % chunk_size == 0 :\n",
        "        num_chunks = int( num_cids / chunk_size )\n",
        "    else :\n",
        "        num_chunks = int( num_cids / chunk_size ) + 1\n",
        "\n",
        "    print(\"# CIDs = \", num_cids)\n",
        "    print(\"# CID Chunks = \", num_chunks, \"(chunked by \", chunk_size, \")\")\n",
        "\n",
        "    for i in range(0, num_chunks) :\n",
        "        idx1 = chunk_size * i\n",
        "        idx2 = chunk_size * (i + 1)\n",
        "        cidstr = \",\".join( str(x) for x in list_of_cids[idx1:idx2] )\n",
        "\n",
        "        url = ('https://pubchem.ncbi.nlm.nih.gov/rest/pug/compound/cid/' + cidstr + '/property/IsomericSMILES/TXT')\n",
        "        res = requests.get(url)\n",
        "        data = pd.read_csv( StringIO(res.text), header=None, names=['smiles'] )\n",
        "        list_dfs.append(data)\n",
        "        \n",
        "        time.sleep(0.2)\n",
        "        \n",
        "        if ( i % 5 == 0 ) :\n",
        "            print(\"Processing Chunk \", i)\n",
        "    df_smiles = pd.concat(list_dfs,ignore_index=True)\n",
        "    df_smiles[ 'cid' ] = list_of_cids   \n",
        "\n",
        "    return df_smiles"
      ],
      "metadata": {
        "id": "5xdmzw5SDFny"
      },
      "execution_count": 76,
      "outputs": []
    },
    {
      "cell_type": "code",
      "source": [
        "smiles=download_smiles_given_cids_from_pubmed(df_activity.cid.astype(int).tolist())"
      ],
      "metadata": {
        "colab": {
          "base_uri": "https://localhost:8080/"
        },
        "id": "nKEWKoONFDUM",
        "outputId": "6635d789-591d-4aea-a548-ec199ad49b82"
      },
      "execution_count": 77,
      "outputs": [
        {
          "output_type": "stream",
          "name": "stdout",
          "text": [
            "# CIDs =  6798\n",
            "# CID Chunks =  34 (chunked by  200 )\n",
            "Processing Chunk  0\n",
            "Processing Chunk  5\n",
            "Processing Chunk  10\n",
            "Processing Chunk  15\n",
            "Processing Chunk  20\n",
            "Processing Chunk  25\n",
            "Processing Chunk  30\n"
          ]
        }
      ]
    },
    {
      "cell_type": "code",
      "source": [
        "def generate_maccs_keys_from_smiles_and_cids(smiles): #takes a df and returns df of cids and associated mac\n",
        "    fps=dict()\n",
        "\n",
        "    for idx, row in smiles.iterrows() :\n",
        "        \n",
        "        mol = Chem.MolFromSmiles(row.smiles)\n",
        "        \n",
        "        if mol == None :\n",
        "            print(\"Can't generate MOL object:\", \"CID\", row.cid, row.smiles)\n",
        "        else:\n",
        "            fps[row.cid] = [row.cid] + list(MACCSkeys.GenMACCSKeys(mol).ToBitString())\n",
        "\n",
        "\n",
        "    # Generate column names\n",
        "    fpbitnames = []\n",
        "\n",
        "    fpbitnames.append('cid')\n",
        "    #name the columns\n",
        "    for i in range(0,167):   # from MACCS000 to MACCS166\n",
        "        fpbitnames.append( \"maccs\" + str(i).zfill(3) )\n",
        "\n",
        "    df_fps = pd.DataFrame.from_dict(fps, orient='index', columns=fpbitnames)\n",
        "    return(df_fps)\n",
        "    "
      ],
      "metadata": {
        "id": "oDiPxfgg60of"
      },
      "execution_count": 85,
      "outputs": []
    },
    {
      "cell_type": "code",
      "source": [
        "df_fps=generate_maccs_keys_from_smiles_and_cids(smiles)"
      ],
      "metadata": {
        "colab": {
          "base_uri": "https://localhost:8080/"
        },
        "id": "u9mI5V7_ytKX",
        "outputId": "f0d7e96f-df13-44ca-b942-b511b14ccca6"
      },
      "execution_count": 87,
      "outputs": [
        {
          "output_type": "stream",
          "name": "stdout",
          "text": [
            "Can't generate MOL object: CID 28145.0 [NH4+].[NH4+].F[Si-2](F)(F)(F)(F)F\n",
            "Can't generate MOL object: CID 28127.0 F[Si-2](F)(F)(F)(F)F.[Na+].[Na+]\n"
          ]
        }
      ]
    },
    {
      "cell_type": "code",
      "source": [
        "#merge activity data and maccs keys\n",
        "df_activity = df[['cid','activity']]\n",
        "df_data = df_activity.join(df_fps.set_index('cid'), on='cid')\n",
        "#drop the rows for which the activity could  not be generated\n",
        "df_data = df_data.dropna()\n",
        "df_data.to_csv('df_data.csv')\n",
        "\n",
        "len(df_data)\n"
      ],
      "metadata": {
        "colab": {
          "base_uri": "https://localhost:8080/"
        },
        "id": "g64xBvJEDFjz",
        "outputId": "511aef0b-bbe8-4eb6-ba3f-81fad35a412b"
      },
      "execution_count": 95,
      "outputs": [
        {
          "output_type": "execute_result",
          "data": {
            "text/plain": [
              "6796"
            ]
          },
          "metadata": {},
          "execution_count": 95
        }
      ]
    },
    {
      "cell_type": "code",
      "source": [
        "df_data.iloc[:,:]"
      ],
      "metadata": {
        "colab": {
          "base_uri": "https://localhost:8080/",
          "height": 424
        },
        "id": "7dPUD3OL3Brn",
        "outputId": "070cc6dc-8aba-4c81-f1af-a15cfd73f846"
      },
      "execution_count": 102,
      "outputs": [
        {
          "output_type": "execute_result",
          "data": {
            "text/plain": [
              "              cid  activity maccs000 maccs001 maccs002 maccs003 maccs004  \\\n",
              "3      12850184.0         0        0        0        0        0        0   \n",
              "4         89753.0         0        0        0        0        0        0   \n",
              "5          9403.0         0        0        0        0        0        0   \n",
              "6      13218779.0         0        0        0        0        0        0   \n",
              "12       637566.0         0        0        0        0        0        0   \n",
              "...           ...       ...      ...      ...      ...      ...      ...   \n",
              "10481     31070.0         0        0        0        0        0        0   \n",
              "10482      3289.0         0        0        0        0        0        0   \n",
              "10483     74483.0         1        0        0        0        0        0   \n",
              "10484      8343.0         0        0        0        0        0        0   \n",
              "10485     47898.0         0        0        0        0        0        0   \n",
              "\n",
              "      maccs005 maccs006 maccs007  ... maccs157 maccs158 maccs159 maccs160  \\\n",
              "3            0        0        0  ...        1        0        1        0   \n",
              "4            0        0        0  ...        1        0        1        0   \n",
              "5            0        0        0  ...        1        0        1        1   \n",
              "6            0        0        0  ...        1        0        1        1   \n",
              "12           0        0        0  ...        1        0        0        1   \n",
              "...        ...      ...      ...  ...      ...      ...      ...      ...   \n",
              "10481        0        0        0  ...        1        1        1        1   \n",
              "10482        0        0        0  ...        1        0        1        1   \n",
              "10483        0        0        0  ...        0        0        1        0   \n",
              "10484        0        0        0  ...        1        0        1        1   \n",
              "10485        0        0        0  ...        1        1        1        1   \n",
              "\n",
              "      maccs161 maccs162 maccs163 maccs164 maccs165 maccs166  \n",
              "3            0        0        0        1        0        1  \n",
              "4            0        0        0        1        0        1  \n",
              "5            0        1        1        1        1        0  \n",
              "6            1        0        1        1        1        0  \n",
              "12           0        0        0        1        0        0  \n",
              "...        ...      ...      ...      ...      ...      ...  \n",
              "10481        1        1        1        1        1        0  \n",
              "10482        0        0        0        1        0        0  \n",
              "10483        0        0        0        1        0        0  \n",
              "10484        0        1        1        1        1        0  \n",
              "10485        1        1        1        1        1        0  \n",
              "\n",
              "[6796 rows x 169 columns]"
            ],
            "text/html": [
              "\n",
              "  <div id=\"df-f419cebf-bcd9-4343-b07e-75b8fe7bb9c5\">\n",
              "    <div class=\"colab-df-container\">\n",
              "      <div>\n",
              "<style scoped>\n",
              "    .dataframe tbody tr th:only-of-type {\n",
              "        vertical-align: middle;\n",
              "    }\n",
              "\n",
              "    .dataframe tbody tr th {\n",
              "        vertical-align: top;\n",
              "    }\n",
              "\n",
              "    .dataframe thead th {\n",
              "        text-align: right;\n",
              "    }\n",
              "</style>\n",
              "<table border=\"1\" class=\"dataframe\">\n",
              "  <thead>\n",
              "    <tr style=\"text-align: right;\">\n",
              "      <th></th>\n",
              "      <th>cid</th>\n",
              "      <th>activity</th>\n",
              "      <th>maccs000</th>\n",
              "      <th>maccs001</th>\n",
              "      <th>maccs002</th>\n",
              "      <th>maccs003</th>\n",
              "      <th>maccs004</th>\n",
              "      <th>maccs005</th>\n",
              "      <th>maccs006</th>\n",
              "      <th>maccs007</th>\n",
              "      <th>...</th>\n",
              "      <th>maccs157</th>\n",
              "      <th>maccs158</th>\n",
              "      <th>maccs159</th>\n",
              "      <th>maccs160</th>\n",
              "      <th>maccs161</th>\n",
              "      <th>maccs162</th>\n",
              "      <th>maccs163</th>\n",
              "      <th>maccs164</th>\n",
              "      <th>maccs165</th>\n",
              "      <th>maccs166</th>\n",
              "    </tr>\n",
              "  </thead>\n",
              "  <tbody>\n",
              "    <tr>\n",
              "      <th>3</th>\n",
              "      <td>12850184.0</td>\n",
              "      <td>0</td>\n",
              "      <td>0</td>\n",
              "      <td>0</td>\n",
              "      <td>0</td>\n",
              "      <td>0</td>\n",
              "      <td>0</td>\n",
              "      <td>0</td>\n",
              "      <td>0</td>\n",
              "      <td>0</td>\n",
              "      <td>...</td>\n",
              "      <td>1</td>\n",
              "      <td>0</td>\n",
              "      <td>1</td>\n",
              "      <td>0</td>\n",
              "      <td>0</td>\n",
              "      <td>0</td>\n",
              "      <td>0</td>\n",
              "      <td>1</td>\n",
              "      <td>0</td>\n",
              "      <td>1</td>\n",
              "    </tr>\n",
              "    <tr>\n",
              "      <th>4</th>\n",
              "      <td>89753.0</td>\n",
              "      <td>0</td>\n",
              "      <td>0</td>\n",
              "      <td>0</td>\n",
              "      <td>0</td>\n",
              "      <td>0</td>\n",
              "      <td>0</td>\n",
              "      <td>0</td>\n",
              "      <td>0</td>\n",
              "      <td>0</td>\n",
              "      <td>...</td>\n",
              "      <td>1</td>\n",
              "      <td>0</td>\n",
              "      <td>1</td>\n",
              "      <td>0</td>\n",
              "      <td>0</td>\n",
              "      <td>0</td>\n",
              "      <td>0</td>\n",
              "      <td>1</td>\n",
              "      <td>0</td>\n",
              "      <td>1</td>\n",
              "    </tr>\n",
              "    <tr>\n",
              "      <th>5</th>\n",
              "      <td>9403.0</td>\n",
              "      <td>0</td>\n",
              "      <td>0</td>\n",
              "      <td>0</td>\n",
              "      <td>0</td>\n",
              "      <td>0</td>\n",
              "      <td>0</td>\n",
              "      <td>0</td>\n",
              "      <td>0</td>\n",
              "      <td>0</td>\n",
              "      <td>...</td>\n",
              "      <td>1</td>\n",
              "      <td>0</td>\n",
              "      <td>1</td>\n",
              "      <td>1</td>\n",
              "      <td>0</td>\n",
              "      <td>1</td>\n",
              "      <td>1</td>\n",
              "      <td>1</td>\n",
              "      <td>1</td>\n",
              "      <td>0</td>\n",
              "    </tr>\n",
              "    <tr>\n",
              "      <th>6</th>\n",
              "      <td>13218779.0</td>\n",
              "      <td>0</td>\n",
              "      <td>0</td>\n",
              "      <td>0</td>\n",
              "      <td>0</td>\n",
              "      <td>0</td>\n",
              "      <td>0</td>\n",
              "      <td>0</td>\n",
              "      <td>0</td>\n",
              "      <td>0</td>\n",
              "      <td>...</td>\n",
              "      <td>1</td>\n",
              "      <td>0</td>\n",
              "      <td>1</td>\n",
              "      <td>1</td>\n",
              "      <td>1</td>\n",
              "      <td>0</td>\n",
              "      <td>1</td>\n",
              "      <td>1</td>\n",
              "      <td>1</td>\n",
              "      <td>0</td>\n",
              "    </tr>\n",
              "    <tr>\n",
              "      <th>12</th>\n",
              "      <td>637566.0</td>\n",
              "      <td>0</td>\n",
              "      <td>0</td>\n",
              "      <td>0</td>\n",
              "      <td>0</td>\n",
              "      <td>0</td>\n",
              "      <td>0</td>\n",
              "      <td>0</td>\n",
              "      <td>0</td>\n",
              "      <td>0</td>\n",
              "      <td>...</td>\n",
              "      <td>1</td>\n",
              "      <td>0</td>\n",
              "      <td>0</td>\n",
              "      <td>1</td>\n",
              "      <td>0</td>\n",
              "      <td>0</td>\n",
              "      <td>0</td>\n",
              "      <td>1</td>\n",
              "      <td>0</td>\n",
              "      <td>0</td>\n",
              "    </tr>\n",
              "    <tr>\n",
              "      <th>...</th>\n",
              "      <td>...</td>\n",
              "      <td>...</td>\n",
              "      <td>...</td>\n",
              "      <td>...</td>\n",
              "      <td>...</td>\n",
              "      <td>...</td>\n",
              "      <td>...</td>\n",
              "      <td>...</td>\n",
              "      <td>...</td>\n",
              "      <td>...</td>\n",
              "      <td>...</td>\n",
              "      <td>...</td>\n",
              "      <td>...</td>\n",
              "      <td>...</td>\n",
              "      <td>...</td>\n",
              "      <td>...</td>\n",
              "      <td>...</td>\n",
              "      <td>...</td>\n",
              "      <td>...</td>\n",
              "      <td>...</td>\n",
              "      <td>...</td>\n",
              "    </tr>\n",
              "    <tr>\n",
              "      <th>10481</th>\n",
              "      <td>31070.0</td>\n",
              "      <td>0</td>\n",
              "      <td>0</td>\n",
              "      <td>0</td>\n",
              "      <td>0</td>\n",
              "      <td>0</td>\n",
              "      <td>0</td>\n",
              "      <td>0</td>\n",
              "      <td>0</td>\n",
              "      <td>0</td>\n",
              "      <td>...</td>\n",
              "      <td>1</td>\n",
              "      <td>1</td>\n",
              "      <td>1</td>\n",
              "      <td>1</td>\n",
              "      <td>1</td>\n",
              "      <td>1</td>\n",
              "      <td>1</td>\n",
              "      <td>1</td>\n",
              "      <td>1</td>\n",
              "      <td>0</td>\n",
              "    </tr>\n",
              "    <tr>\n",
              "      <th>10482</th>\n",
              "      <td>3289.0</td>\n",
              "      <td>0</td>\n",
              "      <td>0</td>\n",
              "      <td>0</td>\n",
              "      <td>0</td>\n",
              "      <td>0</td>\n",
              "      <td>0</td>\n",
              "      <td>0</td>\n",
              "      <td>0</td>\n",
              "      <td>0</td>\n",
              "      <td>...</td>\n",
              "      <td>1</td>\n",
              "      <td>0</td>\n",
              "      <td>1</td>\n",
              "      <td>1</td>\n",
              "      <td>0</td>\n",
              "      <td>0</td>\n",
              "      <td>0</td>\n",
              "      <td>1</td>\n",
              "      <td>0</td>\n",
              "      <td>0</td>\n",
              "    </tr>\n",
              "    <tr>\n",
              "      <th>10483</th>\n",
              "      <td>74483.0</td>\n",
              "      <td>1</td>\n",
              "      <td>0</td>\n",
              "      <td>0</td>\n",
              "      <td>0</td>\n",
              "      <td>0</td>\n",
              "      <td>0</td>\n",
              "      <td>0</td>\n",
              "      <td>0</td>\n",
              "      <td>0</td>\n",
              "      <td>...</td>\n",
              "      <td>0</td>\n",
              "      <td>0</td>\n",
              "      <td>1</td>\n",
              "      <td>0</td>\n",
              "      <td>0</td>\n",
              "      <td>0</td>\n",
              "      <td>0</td>\n",
              "      <td>1</td>\n",
              "      <td>0</td>\n",
              "      <td>0</td>\n",
              "    </tr>\n",
              "    <tr>\n",
              "      <th>10484</th>\n",
              "      <td>8343.0</td>\n",
              "      <td>0</td>\n",
              "      <td>0</td>\n",
              "      <td>0</td>\n",
              "      <td>0</td>\n",
              "      <td>0</td>\n",
              "      <td>0</td>\n",
              "      <td>0</td>\n",
              "      <td>0</td>\n",
              "      <td>0</td>\n",
              "      <td>...</td>\n",
              "      <td>1</td>\n",
              "      <td>0</td>\n",
              "      <td>1</td>\n",
              "      <td>1</td>\n",
              "      <td>0</td>\n",
              "      <td>1</td>\n",
              "      <td>1</td>\n",
              "      <td>1</td>\n",
              "      <td>1</td>\n",
              "      <td>0</td>\n",
              "    </tr>\n",
              "    <tr>\n",
              "      <th>10485</th>\n",
              "      <td>47898.0</td>\n",
              "      <td>0</td>\n",
              "      <td>0</td>\n",
              "      <td>0</td>\n",
              "      <td>0</td>\n",
              "      <td>0</td>\n",
              "      <td>0</td>\n",
              "      <td>0</td>\n",
              "      <td>0</td>\n",
              "      <td>0</td>\n",
              "      <td>...</td>\n",
              "      <td>1</td>\n",
              "      <td>1</td>\n",
              "      <td>1</td>\n",
              "      <td>1</td>\n",
              "      <td>1</td>\n",
              "      <td>1</td>\n",
              "      <td>1</td>\n",
              "      <td>1</td>\n",
              "      <td>1</td>\n",
              "      <td>0</td>\n",
              "    </tr>\n",
              "  </tbody>\n",
              "</table>\n",
              "<p>6796 rows × 169 columns</p>\n",
              "</div>\n",
              "      <button class=\"colab-df-convert\" onclick=\"convertToInteractive('df-f419cebf-bcd9-4343-b07e-75b8fe7bb9c5')\"\n",
              "              title=\"Convert this dataframe to an interactive table.\"\n",
              "              style=\"display:none;\">\n",
              "        \n",
              "  <svg xmlns=\"http://www.w3.org/2000/svg\" height=\"24px\"viewBox=\"0 0 24 24\"\n",
              "       width=\"24px\">\n",
              "    <path d=\"M0 0h24v24H0V0z\" fill=\"none\"/>\n",
              "    <path d=\"M18.56 5.44l.94 2.06.94-2.06 2.06-.94-2.06-.94-.94-2.06-.94 2.06-2.06.94zm-11 1L8.5 8.5l.94-2.06 2.06-.94-2.06-.94L8.5 2.5l-.94 2.06-2.06.94zm10 10l.94 2.06.94-2.06 2.06-.94-2.06-.94-.94-2.06-.94 2.06-2.06.94z\"/><path d=\"M17.41 7.96l-1.37-1.37c-.4-.4-.92-.59-1.43-.59-.52 0-1.04.2-1.43.59L10.3 9.45l-7.72 7.72c-.78.78-.78 2.05 0 2.83L4 21.41c.39.39.9.59 1.41.59.51 0 1.02-.2 1.41-.59l7.78-7.78 2.81-2.81c.8-.78.8-2.07 0-2.86zM5.41 20L4 18.59l7.72-7.72 1.47 1.35L5.41 20z\"/>\n",
              "  </svg>\n",
              "      </button>\n",
              "      \n",
              "  <style>\n",
              "    .colab-df-container {\n",
              "      display:flex;\n",
              "      flex-wrap:wrap;\n",
              "      gap: 12px;\n",
              "    }\n",
              "\n",
              "    .colab-df-convert {\n",
              "      background-color: #E8F0FE;\n",
              "      border: none;\n",
              "      border-radius: 50%;\n",
              "      cursor: pointer;\n",
              "      display: none;\n",
              "      fill: #1967D2;\n",
              "      height: 32px;\n",
              "      padding: 0 0 0 0;\n",
              "      width: 32px;\n",
              "    }\n",
              "\n",
              "    .colab-df-convert:hover {\n",
              "      background-color: #E2EBFA;\n",
              "      box-shadow: 0px 1px 2px rgba(60, 64, 67, 0.3), 0px 1px 3px 1px rgba(60, 64, 67, 0.15);\n",
              "      fill: #174EA6;\n",
              "    }\n",
              "\n",
              "    [theme=dark] .colab-df-convert {\n",
              "      background-color: #3B4455;\n",
              "      fill: #D2E3FC;\n",
              "    }\n",
              "\n",
              "    [theme=dark] .colab-df-convert:hover {\n",
              "      background-color: #434B5C;\n",
              "      box-shadow: 0px 1px 3px 1px rgba(0, 0, 0, 0.15);\n",
              "      filter: drop-shadow(0px 1px 2px rgba(0, 0, 0, 0.3));\n",
              "      fill: #FFFFFF;\n",
              "    }\n",
              "  </style>\n",
              "\n",
              "      <script>\n",
              "        const buttonEl =\n",
              "          document.querySelector('#df-f419cebf-bcd9-4343-b07e-75b8fe7bb9c5 button.colab-df-convert');\n",
              "        buttonEl.style.display =\n",
              "          google.colab.kernel.accessAllowed ? 'block' : 'none';\n",
              "\n",
              "        async function convertToInteractive(key) {\n",
              "          const element = document.querySelector('#df-f419cebf-bcd9-4343-b07e-75b8fe7bb9c5');\n",
              "          const dataTable =\n",
              "            await google.colab.kernel.invokeFunction('convertToInteractive',\n",
              "                                                     [key], {});\n",
              "          if (!dataTable) return;\n",
              "\n",
              "          const docLinkHtml = 'Like what you see? Visit the ' +\n",
              "            '<a target=\"_blank\" href=https://colab.research.google.com/notebooks/data_table.ipynb>data table notebook</a>'\n",
              "            + ' to learn more about interactive tables.';\n",
              "          element.innerHTML = '';\n",
              "          dataTable['output_type'] = 'display_data';\n",
              "          await google.colab.output.renderOutput(dataTable, element);\n",
              "          const docLink = document.createElement('div');\n",
              "          docLink.innerHTML = docLinkHtml;\n",
              "          element.appendChild(docLink);\n",
              "        }\n",
              "      </script>\n",
              "    </div>\n",
              "  </div>\n",
              "  "
            ]
          },
          "metadata": {},
          "execution_count": 102
        }
      ]
    },
    {
      "cell_type": "markdown",
      "source": [
        "#Split data into targets and features"
      ],
      "metadata": {
        "id": "H_LQWqd33fro"
      }
    },
    {
      "cell_type": "code",
      "source": [
        "#s[lit data into targets and geatures]\n",
        "X = df_data.iloc[:,2:]\n",
        "y = df_data['activity'].values"
      ],
      "metadata": {
        "id": "l0f1-_W60t2c"
      },
      "execution_count": 96,
      "outputs": []
    },
    {
      "cell_type": "code",
      "source": [
        "print(X.head(3), X.shape)\n",
        "y[:3]"
      ],
      "metadata": {
        "colab": {
          "base_uri": "https://localhost:8080/"
        },
        "id": "fweZdh0_1UMl",
        "outputId": "9f8bcd57-5b36-4750-eb17-f0d14cde28ab"
      },
      "execution_count": 103,
      "outputs": [
        {
          "output_type": "stream",
          "name": "stdout",
          "text": [
            "  maccs000 maccs001 maccs002 maccs003 maccs004 maccs005 maccs006 maccs007  \\\n",
            "3        0        0        0        0        0        0        0        0   \n",
            "4        0        0        0        0        0        0        0        0   \n",
            "5        0        0        0        0        0        0        0        0   \n",
            "\n",
            "  maccs008 maccs009  ... maccs157 maccs158 maccs159 maccs160 maccs161  \\\n",
            "3        0        0  ...        1        0        1        0        0   \n",
            "4        0        0  ...        1        0        1        0        0   \n",
            "5        0        0  ...        1        0        1        1        0   \n",
            "\n",
            "  maccs162 maccs163 maccs164 maccs165 maccs166  \n",
            "3        0        0        1        0        1  \n",
            "4        0        0        1        0        1  \n",
            "5        1        1        1        1        0  \n",
            "\n",
            "[3 rows x 167 columns] (6796, 167)\n"
          ]
        },
        {
          "output_type": "execute_result",
          "data": {
            "text/plain": [
              "array([0, 0, 0])"
            ]
          },
          "metadata": {},
          "execution_count": 103
        }
      ]
    },
    {
      "cell_type": "markdown",
      "source": [
        "#Remove the maccs key with 0 variance"
      ],
      "metadata": {
        "id": "z90XM_mn3k1G"
      }
    },
    {
      "cell_type": "code",
      "source": [
        "from sklearn.feature_selection import VarianceThreshold\n",
        "sel = VarianceThreshold()\n",
        "X=sel.fit_transform(X)\n",
        "X.shape  #- After removal"
      ],
      "metadata": {
        "colab": {
          "base_uri": "https://localhost:8080/"
        },
        "id": "sT2Rqm7g1UO-",
        "outputId": "caf706d1-0460-4c2c-bacc-b7b9ddd64e7e"
      },
      "execution_count": 104,
      "outputs": [
        {
          "output_type": "execute_result",
          "data": {
            "text/plain": [
              "(6796, 163)"
            ]
          },
          "metadata": {},
          "execution_count": 104
        }
      ]
    },
    {
      "cell_type": "markdown",
      "source": [
        "#Train-Test-Split"
      ],
      "metadata": {
        "id": "UOeCK8pM34sA"
      }
    },
    {
      "cell_type": "code",
      "source": [
        "from sklearn.model_selection import train_test_split\n",
        "\n",
        "X_train, X_test, y_train, y_test = \\\n",
        "    train_test_split(X, y, shuffle=True, random_state=3100, stratify=y, test_size=0.2)\n",
        "\n",
        "print(X_train.shape, X_test.shape, y_train.shape, y_test.shape)\n",
        "print(y_train.sum(), y_test.sum())"
      ],
      "metadata": {
        "colab": {
          "base_uri": "https://localhost:8080/"
        },
        "id": "46_aRKTZ1URG",
        "outputId": "320ce614-83aa-4ff2-a952-dc0afedb583a"
      },
      "execution_count": 106,
      "outputs": [
        {
          "output_type": "stream",
          "name": "stdout",
          "text": [
            "(5436, 163) (1360, 163) (5436,) (1360,)\n",
            "594 148\n"
          ]
        }
      ]
    },
    {
      "cell_type": "code",
      "source": [
        "print(\"# inactives : \", len(y_train) - y_train.sum())\n",
        "print(\"# actives   : \", y_train.sum())"
      ],
      "metadata": {
        "colab": {
          "base_uri": "https://localhost:8080/"
        },
        "id": "EbUM1Mmg4zy6",
        "outputId": "6c5706b9-0844-4f21-d5c0-ea0d1bc4c134"
      },
      "execution_count": 107,
      "outputs": [
        {
          "output_type": "stream",
          "name": "stdout",
          "text": [
            "# inactives :  4842\n",
            "# actives   :  594\n"
          ]
        }
      ]
    },
    {
      "cell_type": "markdown",
      "source": [
        "#Downsampling"
      ],
      "metadata": {
        "id": "X1h7I9LT47dT"
      }
    },
    {
      "cell_type": "code",
      "source": [
        "# Indicies of each class' observations\n",
        "idx_inactives = np.where( y_train == 0 )[0]\n",
        "idx_actives   = np.where( y_train == 1 )[0]\n",
        "\n",
        "# Number of observations in each class\n",
        "num_inactives = len(idx_inactives)\n",
        "num_actives   = len(idx_actives)\n",
        "\n",
        "# Randomly sample from inactives without replacement\n",
        "np.random.seed(0)\n",
        "idx_inactives_downsampled = np.random.choice(idx_inactives, size=num_actives, replace=False)\n",
        "\n",
        "# Join together downsampled inactives with actives\n",
        "X_train = np.vstack((X_train[idx_inactives_downsampled], X_train[idx_actives]))\n",
        "y_train = np.hstack((y_train[idx_inactives_downsampled], y_train[idx_actives]))"
      ],
      "metadata": {
        "id": "cR80oQAm1US6"
      },
      "execution_count": 108,
      "outputs": []
    },
    {
      "cell_type": "code",
      "source": [
        "print(\"# inactives : \", len(y_train) - y_train.sum())\n",
        "print(\"# actives   : \", y_train.sum())\n",
        "print(len(y_train))\n",
        "print(len(X_train))\n",
        "print(len(X_train[0]))"
      ],
      "metadata": {
        "colab": {
          "base_uri": "https://localhost:8080/"
        },
        "id": "KEh62MrDBWI_",
        "outputId": "c2a11fec-5fe9-4bea-e3a5-1ccb057ddef8"
      },
      "execution_count": 110,
      "outputs": [
        {
          "output_type": "stream",
          "name": "stdout",
          "text": [
            "# inactives :  594\n",
            "# actives   :  594\n",
            "1188\n",
            "1188\n",
            "163\n"
          ]
        }
      ]
    },
    {
      "cell_type": "markdown",
      "source": [
        "#Random Forest"
      ],
      "metadata": {
        "id": "OCDyArms5aYS"
      }
    },
    {
      "cell_type": "code",
      "source": [
        "from sklearn.naive_bayes import BernoulliNB        #-- Naive Bayes\n",
        "from sklearn.tree import DecisionTreeClassifier\n",
        "from sklearn.ensemble import RandomForestClassifier    #-- Decision Tree\n",
        "from sklearn.metrics import classification_report\n",
        "from sklearn.metrics import confusion_matrix \n",
        "from sklearn.metrics import accuracy_score\n",
        "from sklearn.metrics import roc_auc_score"
      ],
      "metadata": {
        "id": "ak3yEfm55dUr"
      },
      "execution_count": 113,
      "outputs": []
    },
    {
      "cell_type": "code",
      "source": [
        "clf = RandomForestClassifier(max_depth=2, random_state=0)\n",
        "clf.fit( X_train ,y_train )\n",
        "y_true, y_pred = y_train, clf.predict( X_train )"
      ],
      "metadata": {
        "id": "GyMnVjuh5dWp"
      },
      "execution_count": 115,
      "outputs": []
    },
    {
      "cell_type": "code",
      "source": [
        "CMat = confusion_matrix( y_true, y_pred)"
      ],
      "metadata": {
        "id": "eNRYeqbG5dY6"
      },
      "execution_count": 117,
      "outputs": []
    },
    {
      "cell_type": "code",
      "source": [
        "acc  = accuracy_score( y_true, y_pred )\n",
        "\n",
        "sens = CMat[ 1 ][ 1 ] / ( CMat[ 1 ][ 0 ] + CMat[ 1 ][ 1 ] )    # TP / (FN + TP)\n",
        "spec = CMat[ 0 ][ 0 ] / ( CMat[ 0 ][ 0 ] + CMat[ 0 ][ 1 ] )    # TN / (TN + FP )\n",
        "bacc = (sens + spec) / 2\n",
        "\n",
        "y_score = clf.predict_proba( X_train )[:, 1]\n",
        "auc = roc_auc_score( y_true, y_score )"
      ],
      "metadata": {
        "id": "lH37-5bL6ZaD"
      },
      "execution_count": 118,
      "outputs": []
    },
    {
      "cell_type": "code",
      "source": [
        "print(\"#-- Accuracy          = \", acc)\n",
        "print(\"#-- Balanced Accuracy = \", bacc)\n",
        "print(\"#-- Sensitivity       = \", sens)\n",
        "print(\"#-- Specificity       = \", spec)\n",
        "print(\"#-- AUC-ROC           = \", auc)"
      ],
      "metadata": {
        "colab": {
          "base_uri": "https://localhost:8080/"
        },
        "id": "419Obkhg5day",
        "outputId": "01e773a7-3ac4-487b-d7d1-bf6146d20832"
      },
      "execution_count": 119,
      "outputs": [
        {
          "output_type": "stream",
          "name": "stdout",
          "text": [
            "#-- Accuracy          =  0.7255892255892256\n",
            "#-- Balanced Accuracy =  0.7255892255892256\n",
            "#-- Sensitivity       =  0.7676767676767676\n",
            "#-- Specificity       =  0.6835016835016835\n",
            "#-- AUC-ROC           =  0.7973208516137809\n"
          ]
        }
      ]
    },
    {
      "cell_type": "code",
      "source": [
        "y_true, y_pred = y_test, clf.predict(X_test)\n",
        "CMat = confusion_matrix( y_true, y_pred )    #-- generate confusion matrix\n",
        "print(CMat)"
      ],
      "metadata": {
        "colab": {
          "base_uri": "https://localhost:8080/"
        },
        "id": "GbXvDzRJ6doz",
        "outputId": "a2e6c501-b750-46a4-e749-232942d22c80"
      },
      "execution_count": 120,
      "outputs": [
        {
          "output_type": "stream",
          "name": "stdout",
          "text": [
            "[[784 428]\n",
            " [ 41 107]]\n"
          ]
        }
      ]
    },
    {
      "cell_type": "code",
      "source": [
        "acc  = accuracy_score( y_true, y_pred )\n",
        "\n",
        "sens = CMat[ 1 ][ 1 ] / ( CMat[ 1 ][ 0 ] + CMat[ 1 ][ 1 ] )\n",
        "spec = CMat[ 0 ][ 0 ] / ( CMat[ 0 ][ 0 ] + CMat[ 0 ][ 1 ] )\n",
        "bacc = (sens + spec) / 2\n",
        "\n",
        "y_score = clf.predict_proba( X_test )[:, 1]\n",
        "auc = roc_auc_score( y_true, y_score )\n",
        "\n",
        "print(\"#-- Accuracy          = \", acc)\n",
        "print(\"#-- Balanced Accuracy = \", bacc)\n",
        "print(\"#-- Sensitivity       = \", sens)\n",
        "print(\"#-- Specificity       = \", spec)\n",
        "print(\"#-- AUC-ROC           = \", auc)"
      ],
      "metadata": {
        "colab": {
          "base_uri": "https://localhost:8080/"
        },
        "id": "s3hKQgh56duG",
        "outputId": "d6c047da-20df-4040-d3fe-1dc4d95d3d1a"
      },
      "execution_count": 121,
      "outputs": [
        {
          "output_type": "stream",
          "name": "stdout",
          "text": [
            "#-- Accuracy          =  0.6551470588235294\n",
            "#-- Balanced Accuracy =  0.68491882972081\n",
            "#-- Sensitivity       =  0.722972972972973\n",
            "#-- Specificity       =  0.6468646864686468\n",
            "#-- AUC-ROC           =  0.7449798189278387\n"
          ]
        }
      ]
    },
    {
      "cell_type": "code",
      "source": [
        "print( classification_report(y_true, y_pred))\n"
      ],
      "metadata": {
        "colab": {
          "base_uri": "https://localhost:8080/"
        },
        "id": "uVuGDVb46dwL",
        "outputId": "1ceee233-645b-48b2-834f-91970930d6eb"
      },
      "execution_count": 122,
      "outputs": [
        {
          "output_type": "stream",
          "name": "stdout",
          "text": [
            "              precision    recall  f1-score   support\n",
            "\n",
            "           0       0.95      0.65      0.77      1212\n",
            "           1       0.20      0.72      0.31       148\n",
            "\n",
            "    accuracy                           0.66      1360\n",
            "   macro avg       0.58      0.68      0.54      1360\n",
            "weighted avg       0.87      0.66      0.72      1360\n",
            "\n"
          ]
        }
      ]
    },
    {
      "cell_type": "markdown",
      "source": [
        "#Grid Search CV for Random Forest"
      ],
      "metadata": {
        "id": "9lwvNXDq6zyT"
      }
    },
    {
      "cell_type": "code",
      "source": [
        "from sklearn.model_selection import GridSearchCV\n",
        "scores = [ 'roc_auc', 'balanced_accuracy' ]\n",
        "\n",
        "ncvs = 10\n",
        "\n",
        "max_depth_range         = np.linspace( 3, 7, num=5, dtype='int32' )\n",
        "n_estimators  = np.linspace( 10, 300, num=5, dtype='int32' )\n",
        "criterion  = [\"gini\", \"entropy\", \"log_loss\"]\n",
        "\n",
        "param_grid = dict( max_depth=max_depth_range,\n",
        "                   n_estimators=n_estimators,\n",
        "                   criterion=criterion )\n",
        "\n",
        "clf = GridSearchCV( RandomForestClassifier( random_state=0 ),\n",
        "                    param_grid=param_grid, cv=ncvs, scoring=scores, refit='roc_auc',\n",
        "                    return_train_score = True)"
      ],
      "metadata": {
        "id": "qiWvbsbH63Cq"
      },
      "execution_count": 127,
      "outputs": []
    },
    {
      "cell_type": "code",
      "source": [
        "clf.fit( X_train, y_train )\n",
        "print(\"Best parameter set\", clf.best_params_)\n"
      ],
      "metadata": {
        "colab": {
          "base_uri": "https://localhost:8080/"
        },
        "id": "cHvHH9IY63GK",
        "outputId": "0cac18d9-78ac-4272-a962-5ed3e2e1184a"
      },
      "execution_count": 128,
      "outputs": [
        {
          "output_type": "stream",
          "name": "stderr",
          "text": [
            "/usr/local/lib/python3.7/dist-packages/sklearn/model_selection/_validation.py:372: FitFailedWarning: \n",
            "250 fits failed out of a total of 750.\n",
            "The score on these train-test partitions for these parameters will be set to nan.\n",
            "If these failures are not expected, you can try to debug them by setting error_score='raise'.\n",
            "\n",
            "Below are more details about the failures:\n",
            "--------------------------------------------------------------------------------\n",
            "250 fits failed with the following error:\n",
            "Traceback (most recent call last):\n",
            "  File \"/usr/local/lib/python3.7/dist-packages/sklearn/model_selection/_validation.py\", line 680, in _fit_and_score\n",
            "    estimator.fit(X_train, y_train, **fit_params)\n",
            "  File \"/usr/local/lib/python3.7/dist-packages/sklearn/ensemble/_forest.py\", line 467, in fit\n",
            "    for i, t in enumerate(trees)\n",
            "  File \"/usr/local/lib/python3.7/dist-packages/joblib/parallel.py\", line 1043, in __call__\n",
            "    if self.dispatch_one_batch(iterator):\n",
            "  File \"/usr/local/lib/python3.7/dist-packages/joblib/parallel.py\", line 861, in dispatch_one_batch\n",
            "    self._dispatch(tasks)\n",
            "  File \"/usr/local/lib/python3.7/dist-packages/joblib/parallel.py\", line 779, in _dispatch\n",
            "    job = self._backend.apply_async(batch, callback=cb)\n",
            "  File \"/usr/local/lib/python3.7/dist-packages/joblib/_parallel_backends.py\", line 208, in apply_async\n",
            "    result = ImmediateResult(func)\n",
            "  File \"/usr/local/lib/python3.7/dist-packages/joblib/_parallel_backends.py\", line 572, in __init__\n",
            "    self.results = batch()\n",
            "  File \"/usr/local/lib/python3.7/dist-packages/joblib/parallel.py\", line 263, in __call__\n",
            "    for func, args, kwargs in self.items]\n",
            "  File \"/usr/local/lib/python3.7/dist-packages/joblib/parallel.py\", line 263, in <listcomp>\n",
            "    for func, args, kwargs in self.items]\n",
            "  File \"/usr/local/lib/python3.7/dist-packages/sklearn/utils/fixes.py\", line 216, in __call__\n",
            "    return self.function(*args, **kwargs)\n",
            "  File \"/usr/local/lib/python3.7/dist-packages/sklearn/ensemble/_forest.py\", line 185, in _parallel_build_trees\n",
            "    tree.fit(X, y, sample_weight=curr_sample_weight, check_input=False)\n",
            "  File \"/usr/local/lib/python3.7/dist-packages/sklearn/tree/_classes.py\", line 942, in fit\n",
            "    X_idx_sorted=X_idx_sorted,\n",
            "  File \"/usr/local/lib/python3.7/dist-packages/sklearn/tree/_classes.py\", line 352, in fit\n",
            "    criterion = CRITERIA_CLF[self.criterion](\n",
            "KeyError: 'log_loss'\n",
            "\n",
            "  warnings.warn(some_fits_failed_message, FitFailedWarning)\n",
            "/usr/local/lib/python3.7/dist-packages/sklearn/model_selection/_search.py:972: UserWarning: One or more of the test scores are non-finite: [0.7883374  0.80179091 0.80501245 0.80405798 0.8046828  0.79634229\n",
            " 0.81473379 0.81440941 0.81625515 0.81614646 0.80278464 0.82423513\n",
            " 0.8244209  0.8237901  0.82396151 0.81160801 0.8328105  0.83372307\n",
            " 0.8319707  0.83168869 0.81624605 0.83594274 0.83655128 0.8363612\n",
            " 0.83489275 0.78629656 0.8017495  0.8039098  0.80343412 0.80462104\n",
            " 0.79650484 0.81214641 0.81357632 0.81548573 0.8153488  0.80325433\n",
            " 0.82283396 0.82442306 0.82465814 0.82400651 0.81947118 0.834492\n",
            " 0.83266016 0.8309571  0.83062003 0.82018769 0.83747869 0.83548837\n",
            " 0.83632433 0.83672795        nan        nan        nan        nan\n",
            "        nan        nan        nan        nan        nan        nan\n",
            "        nan        nan        nan        nan        nan        nan\n",
            "        nan        nan        nan        nan        nan        nan\n",
            "        nan        nan        nan]\n",
            "  category=UserWarning,\n",
            "/usr/local/lib/python3.7/dist-packages/sklearn/model_selection/_search.py:972: UserWarning: One or more of the train scores are non-finite: [0.81625284 0.82828468 0.82919706 0.83005008 0.83107153 0.8447589\n",
            " 0.85662068 0.85637612 0.85773609 0.85781221 0.86884457 0.88339151\n",
            " 0.88358616 0.88335612 0.88353712 0.89786419 0.91273099 0.9130475\n",
            " 0.91297933 0.91306373 0.9242172  0.93923215 0.93975771 0.94043915\n",
            " 0.94030332 0.81543506 0.8277389  0.82889779 0.82992011 0.8309873\n",
            " 0.84462692 0.85622915 0.85593308 0.85733299 0.85740881 0.86721324\n",
            " 0.88220275 0.88259849 0.88231868 0.88246417 0.89577759 0.91048897\n",
            " 0.91123623 0.91140143 0.91114045 0.92006304 0.93692613 0.93743628\n",
            " 0.93796426 0.9376637         nan        nan        nan        nan\n",
            "        nan        nan        nan        nan        nan        nan\n",
            "        nan        nan        nan        nan        nan        nan\n",
            "        nan        nan        nan        nan        nan        nan\n",
            "        nan        nan        nan]\n",
            "  category=UserWarning,\n",
            "/usr/local/lib/python3.7/dist-packages/sklearn/model_selection/_search.py:972: UserWarning: One or more of the test scores are non-finite: [0.72132768 0.73480226 0.73149718 0.72981638 0.72981638 0.72885593\n",
            " 0.7364548  0.73398305 0.7340113  0.73314972 0.73139831 0.74662429\n",
            " 0.7465678  0.74409605 0.74741525 0.74144068 0.75919492 0.75831921\n",
            " 0.75579096 0.75747175 0.73306497 0.7540678  0.75908192 0.75915254\n",
            " 0.76168079 0.71961864 0.73141243 0.73235876 0.72896893 0.72812147\n",
            " 0.72550847 0.73564972 0.73314972 0.73231638 0.73399718 0.73564972\n",
            " 0.74067797 0.74152542 0.75163842 0.7499435  0.74153955 0.75668079\n",
            " 0.7524435  0.75498588 0.7549435  0.73487288 0.75751412 0.75161017\n",
            " 0.75495763 0.75408192        nan        nan        nan        nan\n",
            "        nan        nan        nan        nan        nan        nan\n",
            "        nan        nan        nan        nan        nan        nan\n",
            "        nan        nan        nan        nan        nan        nan\n",
            "        nan        nan        nan]\n",
            "  category=UserWarning,\n",
            "/usr/local/lib/python3.7/dist-packages/sklearn/model_selection/_search.py:972: UserWarning: One or more of the train scores are non-finite: [0.74691886 0.7511222  0.75018342 0.75055637 0.75111957 0.76515611\n",
            " 0.77524905 0.7759043  0.77637194 0.77627778 0.79124278 0.80433599\n",
            " 0.80499072 0.80433792 0.8038708  0.81715373 0.83847947 0.8394137\n",
            " 0.83894624 0.83922696 0.84811264 0.86653768 0.86719171 0.86868704\n",
            " 0.86821957 0.74626448 0.75065456 0.75046326 0.7508385  0.75121355\n",
            " 0.76422171 0.77235062 0.77674542 0.77627743 0.7774005  0.78750954\n",
            " 0.80312297 0.80199972 0.80181315 0.80153366 0.81294323 0.83183573\n",
            " 0.83520424 0.8344571  0.83483164 0.84268648 0.86429381 0.86494767\n",
            " 0.86569621 0.86550824        nan        nan        nan        nan\n",
            "        nan        nan        nan        nan        nan        nan\n",
            "        nan        nan        nan        nan        nan        nan\n",
            "        nan        nan        nan        nan        nan        nan\n",
            "        nan        nan        nan]\n",
            "  category=UserWarning,\n"
          ]
        },
        {
          "output_type": "stream",
          "name": "stdout",
          "text": [
            "Best parameter set {'criterion': 'entropy', 'max_depth': 7, 'n_estimators': 82}\n"
          ]
        }
      ]
    },
    {
      "cell_type": "code",
      "source": [
        "means_1a = clf.cv_results_['mean_train_roc_auc']\n",
        "stds_1a  = clf.cv_results_['std_train_roc_auc']\n",
        "\n",
        "means_1b = clf.cv_results_['mean_test_roc_auc']\n",
        "stds_1b  = clf.cv_results_['std_test_roc_auc']\n",
        "\n",
        "means_2a = clf.cv_results_['mean_train_balanced_accuracy']\n",
        "stds_2a  = clf.cv_results_['std_train_balanced_accuracy']\n",
        "\n",
        "means_2b = clf.cv_results_['mean_test_balanced_accuracy']\n",
        "stds_2b  = clf.cv_results_['std_test_balanced_accuracy']\n",
        "\n",
        "iterobjs = zip( means_1a, stds_1a, means_1b, stds_1b,\n",
        "                means_2a, stds_2a, means_2b, stds_2b, clf.cv_results_['params'] )\n",
        "\n",
        "for m1a, s1a, m1b, s1b, m2a, s2a, m2b, s2b, params in iterobjs :\n",
        "\n",
        "    print( \"Grid %r : %0.4f %0.04f %0.4f %0.04f %0.4f %0.04f %0.4f %0.04f\"\n",
        "           % ( params, m1a, s1a, m1b, s1b, m2a, s2a, m2b, s2b))"
      ],
      "metadata": {
        "colab": {
          "base_uri": "https://localhost:8080/"
        },
        "id": "GItwgVv86dyT",
        "outputId": "09581e21-295c-4002-f03b-d0f7ff1641b0"
      },
      "execution_count": 129,
      "outputs": [
        {
          "output_type": "stream",
          "name": "stdout",
          "text": [
            "Grid {'criterion': 'gini', 'max_depth': 3, 'n_estimators': 10} : 0.8163 0.0071 0.7883 0.0277 0.7469 0.0051 0.7213 0.0419\n",
            "Grid {'criterion': 'gini', 'max_depth': 3, 'n_estimators': 82} : 0.8283 0.0036 0.8018 0.0271 0.7511 0.0055 0.7348 0.0383\n",
            "Grid {'criterion': 'gini', 'max_depth': 3, 'n_estimators': 155} : 0.8292 0.0041 0.8050 0.0264 0.7502 0.0061 0.7315 0.0392\n",
            "Grid {'criterion': 'gini', 'max_depth': 3, 'n_estimators': 227} : 0.8301 0.0038 0.8041 0.0262 0.7506 0.0052 0.7298 0.0384\n",
            "Grid {'criterion': 'gini', 'max_depth': 3, 'n_estimators': 300} : 0.8311 0.0035 0.8047 0.0258 0.7511 0.0057 0.7298 0.0368\n",
            "Grid {'criterion': 'gini', 'max_depth': 4, 'n_estimators': 10} : 0.8448 0.0044 0.7963 0.0312 0.7652 0.0075 0.7289 0.0427\n",
            "Grid {'criterion': 'gini', 'max_depth': 4, 'n_estimators': 82} : 0.8566 0.0029 0.8147 0.0251 0.7752 0.0047 0.7365 0.0408\n",
            "Grid {'criterion': 'gini', 'max_depth': 4, 'n_estimators': 155} : 0.8564 0.0029 0.8144 0.0268 0.7759 0.0050 0.7340 0.0406\n",
            "Grid {'criterion': 'gini', 'max_depth': 4, 'n_estimators': 227} : 0.8577 0.0029 0.8163 0.0266 0.7764 0.0048 0.7340 0.0389\n",
            "Grid {'criterion': 'gini', 'max_depth': 4, 'n_estimators': 300} : 0.8578 0.0029 0.8161 0.0256 0.7763 0.0054 0.7331 0.0390\n",
            "Grid {'criterion': 'gini', 'max_depth': 5, 'n_estimators': 10} : 0.8688 0.0042 0.8028 0.0339 0.7912 0.0070 0.7314 0.0339\n",
            "Grid {'criterion': 'gini', 'max_depth': 5, 'n_estimators': 82} : 0.8834 0.0029 0.8242 0.0241 0.8043 0.0033 0.7466 0.0381\n",
            "Grid {'criterion': 'gini', 'max_depth': 5, 'n_estimators': 155} : 0.8836 0.0030 0.8244 0.0247 0.8050 0.0045 0.7466 0.0368\n",
            "Grid {'criterion': 'gini', 'max_depth': 5, 'n_estimators': 227} : 0.8834 0.0026 0.8238 0.0257 0.8043 0.0053 0.7441 0.0360\n",
            "Grid {'criterion': 'gini', 'max_depth': 5, 'n_estimators': 300} : 0.8835 0.0028 0.8240 0.0242 0.8039 0.0055 0.7474 0.0371\n",
            "Grid {'criterion': 'gini', 'max_depth': 6, 'n_estimators': 10} : 0.8979 0.0064 0.8116 0.0285 0.8172 0.0111 0.7414 0.0394\n",
            "Grid {'criterion': 'gini', 'max_depth': 6, 'n_estimators': 82} : 0.9127 0.0036 0.8328 0.0242 0.8385 0.0062 0.7592 0.0415\n",
            "Grid {'criterion': 'gini', 'max_depth': 6, 'n_estimators': 155} : 0.9130 0.0033 0.8337 0.0244 0.8394 0.0050 0.7583 0.0383\n",
            "Grid {'criterion': 'gini', 'max_depth': 6, 'n_estimators': 227} : 0.9130 0.0030 0.8320 0.0261 0.8389 0.0057 0.7558 0.0354\n",
            "Grid {'criterion': 'gini', 'max_depth': 6, 'n_estimators': 300} : 0.9131 0.0029 0.8317 0.0249 0.8392 0.0052 0.7575 0.0381\n",
            "Grid {'criterion': 'gini', 'max_depth': 7, 'n_estimators': 10} : 0.9242 0.0049 0.8162 0.0388 0.8481 0.0075 0.7331 0.0451\n",
            "Grid {'criterion': 'gini', 'max_depth': 7, 'n_estimators': 82} : 0.9392 0.0023 0.8359 0.0295 0.8665 0.0045 0.7541 0.0424\n",
            "Grid {'criterion': 'gini', 'max_depth': 7, 'n_estimators': 155} : 0.9398 0.0022 0.8366 0.0289 0.8672 0.0044 0.7591 0.0407\n",
            "Grid {'criterion': 'gini', 'max_depth': 7, 'n_estimators': 227} : 0.9404 0.0021 0.8364 0.0279 0.8687 0.0041 0.7592 0.0364\n",
            "Grid {'criterion': 'gini', 'max_depth': 7, 'n_estimators': 300} : 0.9403 0.0022 0.8349 0.0281 0.8682 0.0051 0.7617 0.0372\n",
            "Grid {'criterion': 'entropy', 'max_depth': 3, 'n_estimators': 10} : 0.8154 0.0071 0.7863 0.0281 0.7463 0.0053 0.7196 0.0428\n",
            "Grid {'criterion': 'entropy', 'max_depth': 3, 'n_estimators': 82} : 0.8277 0.0035 0.8017 0.0270 0.7507 0.0047 0.7314 0.0394\n",
            "Grid {'criterion': 'entropy', 'max_depth': 3, 'n_estimators': 155} : 0.8289 0.0039 0.8039 0.0263 0.7505 0.0053 0.7324 0.0370\n",
            "Grid {'criterion': 'entropy', 'max_depth': 3, 'n_estimators': 227} : 0.8299 0.0038 0.8034 0.0257 0.7508 0.0054 0.7290 0.0385\n",
            "Grid {'criterion': 'entropy', 'max_depth': 3, 'n_estimators': 300} : 0.8310 0.0035 0.8046 0.0259 0.7512 0.0061 0.7281 0.0378\n",
            "Grid {'criterion': 'entropy', 'max_depth': 4, 'n_estimators': 10} : 0.8446 0.0035 0.7965 0.0326 0.7642 0.0071 0.7255 0.0438\n",
            "Grid {'criterion': 'entropy', 'max_depth': 4, 'n_estimators': 82} : 0.8562 0.0022 0.8121 0.0264 0.7724 0.0030 0.7356 0.0438\n",
            "Grid {'criterion': 'entropy', 'max_depth': 4, 'n_estimators': 155} : 0.8559 0.0024 0.8136 0.0265 0.7767 0.0054 0.7331 0.0432\n",
            "Grid {'criterion': 'entropy', 'max_depth': 4, 'n_estimators': 227} : 0.8573 0.0024 0.8155 0.0269 0.7763 0.0054 0.7323 0.0402\n",
            "Grid {'criterion': 'entropy', 'max_depth': 4, 'n_estimators': 300} : 0.8574 0.0025 0.8153 0.0267 0.7774 0.0059 0.7340 0.0393\n",
            "Grid {'criterion': 'entropy', 'max_depth': 5, 'n_estimators': 10} : 0.8672 0.0041 0.8033 0.0354 0.7875 0.0053 0.7356 0.0460\n",
            "Grid {'criterion': 'entropy', 'max_depth': 5, 'n_estimators': 82} : 0.8822 0.0025 0.8228 0.0266 0.8031 0.0038 0.7407 0.0389\n",
            "Grid {'criterion': 'entropy', 'max_depth': 5, 'n_estimators': 155} : 0.8826 0.0026 0.8244 0.0264 0.8020 0.0053 0.7415 0.0360\n",
            "Grid {'criterion': 'entropy', 'max_depth': 5, 'n_estimators': 227} : 0.8823 0.0026 0.8247 0.0269 0.8018 0.0051 0.7516 0.0379\n",
            "Grid {'criterion': 'entropy', 'max_depth': 5, 'n_estimators': 300} : 0.8825 0.0026 0.8240 0.0263 0.8015 0.0046 0.7499 0.0371\n",
            "Grid {'criterion': 'entropy', 'max_depth': 6, 'n_estimators': 10} : 0.8958 0.0056 0.8195 0.0290 0.8129 0.0073 0.7415 0.0347\n",
            "Grid {'criterion': 'entropy', 'max_depth': 6, 'n_estimators': 82} : 0.9105 0.0032 0.8345 0.0216 0.8318 0.0053 0.7567 0.0338\n",
            "Grid {'criterion': 'entropy', 'max_depth': 6, 'n_estimators': 155} : 0.9112 0.0030 0.8327 0.0257 0.8352 0.0050 0.7524 0.0368\n",
            "Grid {'criterion': 'entropy', 'max_depth': 6, 'n_estimators': 227} : 0.9114 0.0028 0.8310 0.0248 0.8345 0.0060 0.7550 0.0381\n",
            "Grid {'criterion': 'entropy', 'max_depth': 6, 'n_estimators': 300} : 0.9111 0.0028 0.8306 0.0246 0.8348 0.0056 0.7549 0.0353\n",
            "Grid {'criterion': 'entropy', 'max_depth': 7, 'n_estimators': 10} : 0.9201 0.0042 0.8202 0.0291 0.8427 0.0089 0.7349 0.0324\n",
            "Grid {'criterion': 'entropy', 'max_depth': 7, 'n_estimators': 82} : 0.9369 0.0021 0.8375 0.0251 0.8643 0.0032 0.7575 0.0441\n",
            "Grid {'criterion': 'entropy', 'max_depth': 7, 'n_estimators': 155} : 0.9374 0.0018 0.8355 0.0263 0.8649 0.0074 0.7516 0.0383\n",
            "Grid {'criterion': 'entropy', 'max_depth': 7, 'n_estimators': 227} : 0.9380 0.0019 0.8363 0.0257 0.8657 0.0055 0.7550 0.0377\n",
            "Grid {'criterion': 'entropy', 'max_depth': 7, 'n_estimators': 300} : 0.9377 0.0018 0.8367 0.0252 0.8655 0.0039 0.7541 0.0377\n",
            "Grid {'criterion': 'log_loss', 'max_depth': 3, 'n_estimators': 10} : nan nan nan nan nan nan nan nan\n",
            "Grid {'criterion': 'log_loss', 'max_depth': 3, 'n_estimators': 82} : nan nan nan nan nan nan nan nan\n",
            "Grid {'criterion': 'log_loss', 'max_depth': 3, 'n_estimators': 155} : nan nan nan nan nan nan nan nan\n",
            "Grid {'criterion': 'log_loss', 'max_depth': 3, 'n_estimators': 227} : nan nan nan nan nan nan nan nan\n",
            "Grid {'criterion': 'log_loss', 'max_depth': 3, 'n_estimators': 300} : nan nan nan nan nan nan nan nan\n",
            "Grid {'criterion': 'log_loss', 'max_depth': 4, 'n_estimators': 10} : nan nan nan nan nan nan nan nan\n",
            "Grid {'criterion': 'log_loss', 'max_depth': 4, 'n_estimators': 82} : nan nan nan nan nan nan nan nan\n",
            "Grid {'criterion': 'log_loss', 'max_depth': 4, 'n_estimators': 155} : nan nan nan nan nan nan nan nan\n",
            "Grid {'criterion': 'log_loss', 'max_depth': 4, 'n_estimators': 227} : nan nan nan nan nan nan nan nan\n",
            "Grid {'criterion': 'log_loss', 'max_depth': 4, 'n_estimators': 300} : nan nan nan nan nan nan nan nan\n",
            "Grid {'criterion': 'log_loss', 'max_depth': 5, 'n_estimators': 10} : nan nan nan nan nan nan nan nan\n",
            "Grid {'criterion': 'log_loss', 'max_depth': 5, 'n_estimators': 82} : nan nan nan nan nan nan nan nan\n",
            "Grid {'criterion': 'log_loss', 'max_depth': 5, 'n_estimators': 155} : nan nan nan nan nan nan nan nan\n",
            "Grid {'criterion': 'log_loss', 'max_depth': 5, 'n_estimators': 227} : nan nan nan nan nan nan nan nan\n",
            "Grid {'criterion': 'log_loss', 'max_depth': 5, 'n_estimators': 300} : nan nan nan nan nan nan nan nan\n",
            "Grid {'criterion': 'log_loss', 'max_depth': 6, 'n_estimators': 10} : nan nan nan nan nan nan nan nan\n",
            "Grid {'criterion': 'log_loss', 'max_depth': 6, 'n_estimators': 82} : nan nan nan nan nan nan nan nan\n",
            "Grid {'criterion': 'log_loss', 'max_depth': 6, 'n_estimators': 155} : nan nan nan nan nan nan nan nan\n",
            "Grid {'criterion': 'log_loss', 'max_depth': 6, 'n_estimators': 227} : nan nan nan nan nan nan nan nan\n",
            "Grid {'criterion': 'log_loss', 'max_depth': 6, 'n_estimators': 300} : nan nan nan nan nan nan nan nan\n",
            "Grid {'criterion': 'log_loss', 'max_depth': 7, 'n_estimators': 10} : nan nan nan nan nan nan nan nan\n",
            "Grid {'criterion': 'log_loss', 'max_depth': 7, 'n_estimators': 82} : nan nan nan nan nan nan nan nan\n",
            "Grid {'criterion': 'log_loss', 'max_depth': 7, 'n_estimators': 155} : nan nan nan nan nan nan nan nan\n",
            "Grid {'criterion': 'log_loss', 'max_depth': 7, 'n_estimators': 227} : nan nan nan nan nan nan nan nan\n",
            "Grid {'criterion': 'log_loss', 'max_depth': 7, 'n_estimators': 300} : nan nan nan nan nan nan nan nan\n"
          ]
        }
      ]
    },
    {
      "cell_type": "code",
      "source": [
        "y_true, y_pred = y_test, clf.predict(X_test)    #-- Apply the model to predict the test set compounds' activity.\n",
        "CMat = confusion_matrix( y_true, y_pred ) \n",
        "print(CMat)\n",
        "acc  = accuracy_score( y_true, y_pred )\n",
        "\n",
        "sens = CMat[ 1 ][ 1 ] / ( CMat[ 1 ][ 0 ] + CMat[ 1 ][ 1 ] )    # TP / (FN + TP)\n",
        "spec = CMat[ 0 ][ 0 ] / ( CMat[ 0 ][ 0 ] + CMat[ 0 ][ 1 ] )    # TN / (TN + FP )\n",
        "bacc = (sens + spec) / 2\n",
        "\n",
        "y_score = clf.predict_proba( X_test )[:, 1]\n",
        "auc = roc_auc_score( y_true, y_score )\n",
        "print(\"#-- Accuracy          = \", acc)\n",
        "print(\"#-- Balanced Accuracy = \", bacc)\n",
        "print(\"#-- Sensitivity       = \", sens)\n",
        "print(\"#-- Specificity       = \", spec)\n",
        "print(\"#-- AUC-ROC           = \", auc)"
      ],
      "metadata": {
        "colab": {
          "base_uri": "https://localhost:8080/"
        },
        "id": "9RMvs1TP8VV1",
        "outputId": "160af22a-b13f-4965-f967-b2ebefd5beb6"
      },
      "execution_count": 131,
      "outputs": [
        {
          "output_type": "stream",
          "name": "stdout",
          "text": [
            "[[885 327]\n",
            " [ 41 107]]\n",
            "#-- Accuracy          =  0.7294117647058823\n",
            "#-- Balanced Accuracy =  0.7265854963874766\n",
            "#-- Sensitivity       =  0.722972972972973\n",
            "#-- Specificity       =  0.7301980198019802\n",
            "#-- AUC-ROC           =  0.800051288912675\n"
          ]
        }
      ]
    },
    {
      "cell_type": "markdown",
      "source": [],
      "metadata": {
        "id": "HogCLDqi8ndE"
      }
    },
    {
      "cell_type": "markdown",
      "source": [],
      "metadata": {
        "id": "ATrbi9Is8nW-"
      }
    },
    {
      "cell_type": "code",
      "source": [],
      "metadata": {
        "id": "UA-eoP2L8VYJ"
      },
      "execution_count": null,
      "outputs": []
    },
    {
      "cell_type": "code",
      "source": [
        "\n"
      ],
      "metadata": {
        "id": "ONAVO-no3-tI"
      },
      "execution_count": null,
      "outputs": []
    },
    {
      "cell_type": "code",
      "source": [],
      "metadata": {
        "id": "zSyL3yg13-w9"
      },
      "execution_count": null,
      "outputs": []
    }
  ]
}