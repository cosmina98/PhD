{
  "nbformat": 4,
  "nbformat_minor": 0,
  "metadata": {
    "colab": {
      "provenance": [],
      "authorship_tag": "ABX9TyPUBiP9kFde/lhF7Au9iSU/",
      "include_colab_link": true
    },
    "kernelspec": {
      "name": "python3",
      "display_name": "Python 3"
    },
    "language_info": {
      "name": "python"
    },
    "accelerator": "GPU",
    "gpuClass": "standard"
  },
  "cells": [
    {
      "cell_type": "markdown",
      "metadata": {
        "id": "view-in-github",
        "colab_type": "text"
      },
      "source": [
        "<a href=\"https://colab.research.google.com/github/cosmina98/PhD/blob/main/2023/Feb/GGM_metrics.ipynb\" target=\"_parent\"><img src=\"https://colab.research.google.com/assets/colab-badge.svg\" alt=\"Open In Colab\"/></a>"
      ]
    },
    {
      "cell_type": "code",
      "execution_count": 1,
      "metadata": {
        "id": "xFeCPl_QuZRb",
        "colab": {
          "base_uri": "https://localhost:8080/"
        },
        "outputId": "938d5eee-9ea1-4eed-daa3-1a563c6f366c"
      },
      "outputs": [
        {
          "output_type": "stream",
          "name": "stdout",
          "text": [
            "Cloning into 'GGM-metrics'...\n",
            "remote: Enumerating objects: 94, done.\u001b[K\n",
            "remote: Counting objects: 100% (94/94), done.\u001b[K\n",
            "remote: Compressing objects: 100% (81/81), done.\u001b[K\n",
            "remote: Total 94 (delta 34), reused 53 (delta 9), pack-reused 0\u001b[K\n",
            "Unpacking objects: 100% (94/94), 4.37 MiB | 3.08 MiB/s, done.\n"
          ]
        }
      ],
      "source": [
        "!git clone https://github.com/cosmina98/GGM-metrics\n"
      ]
    },
    {
      "cell_type": "code",
      "source": [
        "cd GGM-metrics\n"
      ],
      "metadata": {
        "colab": {
          "base_uri": "https://localhost:8080/"
        },
        "id": "iTMucATQwvwO",
        "outputId": "fd1448e0-42b0-4692-f4d0-7bf97a424edf"
      },
      "execution_count": 2,
      "outputs": [
        {
          "output_type": "stream",
          "name": "stdout",
          "text": [
            "/content/GGM-metrics\n"
          ]
        }
      ]
    },
    {
      "cell_type": "code",
      "source": [
        "ls"
      ],
      "metadata": {
        "colab": {
          "base_uri": "https://localhost:8080/"
        },
        "id": "30LNN-Quw1SG",
        "outputId": "f33d29c6-108e-4892-f60b-fdec3274d23d"
      },
      "execution_count": 3,
      "outputs": [
        {
          "output_type": "stream",
          "name": "stdout",
          "text": [
            "config.py                       \u001b[0m\u001b[01;34mevaluation\u001b[0m/                README.md\n",
            "create_bash_script.py           Evaluation_examples.ipynb  requirements.txt\n",
            "data_visualization.ipynb        GIN_train.py               test.hdf5\n",
            "\u001b[01;32mdownload_datasets.sh\u001b[0m*           LICENSE                    test_hdf5.ipynb\n",
            "\u001b[01;32mdownload_gran_graphs.sh\u001b[0m*        main.py                    test_read.hdf5\n",
            "\u001b[01;32mdownload_pretrained_models.sh\u001b[0m*  \u001b[01;34mpermuters\u001b[0m/                 \u001b[01;34mutils\u001b[0m/\n"
          ]
        }
      ]
    },
    {
      "cell_type": "code",
      "source": [
        "pip install -r requirements.txt\n"
      ],
      "metadata": {
        "colab": {
          "base_uri": "https://localhost:8080/"
        },
        "id": "loc78PQfw_ye",
        "outputId": "bce2f238-b0a9-48d8-daed-d761e3e88449"
      },
      "execution_count": 4,
      "outputs": [
        {
          "output_type": "stream",
          "name": "stdout",
          "text": [
            "Looking in indexes: https://pypi.org/simple, https://us-python.pkg.dev/colab-wheels/public/simple/\n",
            "Collecting git+https://github.com/fabriziocosta/EDeN.git (from -r requirements.txt (line 12))\n",
            "  Cloning https://github.com/fabriziocosta/EDeN.git to /tmp/pip-req-build-w0orvup4\n",
            "  Running command git clone --filter=blob:none --quiet https://github.com/fabriziocosta/EDeN.git /tmp/pip-req-build-w0orvup4\n",
            "  Resolved https://github.com/fabriziocosta/EDeN.git to commit 1ccf3e477908151848b623424f79502e8b7ec9af\n",
            "  Preparing metadata (setup.py) ... \u001b[?25l\u001b[?25hdone\n",
            "Collecting torch==1.8.1\n",
            "  Downloading torch-1.8.1-cp38-cp38-manylinux1_x86_64.whl (804.1 MB)\n",
            "\u001b[2K     \u001b[90m━━━━━━━━━━━━━━━━━━━━━━━━━━━━━━━━━━━━━━━\u001b[0m \u001b[32m804.1/804.1 MB\u001b[0m \u001b[31m1.5 MB/s\u001b[0m eta \u001b[36m0:00:00\u001b[0m\n",
            "\u001b[?25hCollecting networkx==2.5.1\n",
            "  Downloading networkx-2.5.1-py3-none-any.whl (1.6 MB)\n",
            "\u001b[2K     \u001b[90m━━━━━━━━━━━━━━━━━━━━━━━━━━━━━━━━━━━━━━━━\u001b[0m \u001b[32m1.6/1.6 MB\u001b[0m \u001b[31m68.7 MB/s\u001b[0m eta \u001b[36m0:00:00\u001b[0m\n",
            "\u001b[?25hCollecting numpy==1.21.5\n",
            "  Downloading numpy-1.21.5-cp38-cp38-manylinux_2_12_x86_64.manylinux2010_x86_64.whl (15.7 MB)\n",
            "\u001b[2K     \u001b[90m━━━━━━━━━━━━━━━━━━━━━━━━━━━━━━━━━━━━━━━━\u001b[0m \u001b[32m15.7/15.7 MB\u001b[0m \u001b[31m72.6 MB/s\u001b[0m eta \u001b[36m0:00:00\u001b[0m\n",
            "\u001b[?25hCollecting scikit-learn==0.24.2\n",
            "  Downloading scikit_learn-0.24.2-cp38-cp38-manylinux2010_x86_64.whl (24.9 MB)\n",
            "\u001b[2K     \u001b[90m━━━━━━━━━━━━━━━━━━━━━━━━━━━━━━━━━━━━━━━━\u001b[0m \u001b[32m24.9/24.9 MB\u001b[0m \u001b[31m55.1 MB/s\u001b[0m eta \u001b[36m0:00:00\u001b[0m\n",
            "\u001b[?25hCollecting scipy==1.4.1\n",
            "  Downloading scipy-1.4.1-cp38-cp38-manylinux1_x86_64.whl (26.0 MB)\n",
            "\u001b[2K     \u001b[90m━━━━━━━━━━━━━━━━━━━━━━━━━━━━━━━━━━━━━━━━\u001b[0m \u001b[32m26.0/26.0 MB\u001b[0m \u001b[31m19.5 MB/s\u001b[0m eta \u001b[36m0:00:00\u001b[0m\n",
            "\u001b[?25hRequirement already satisfied: tensorflow in /usr/local/lib/python3.8/dist-packages (from -r requirements.txt (line 6)) (2.11.0)\n",
            "Collecting tensorflow-gan\n",
            "  Downloading tensorflow_gan-2.1.0-py2.py3-none-any.whl (367 kB)\n",
            "\u001b[2K     \u001b[90m━━━━━━━━━━━━━━━━━━━━━━━━━━━━━━━━━━━━━━\u001b[0m \u001b[32m367.1/367.1 KB\u001b[0m \u001b[31m39.6 MB/s\u001b[0m eta \u001b[36m0:00:00\u001b[0m\n",
            "\u001b[?25hRequirement already satisfied: tensorflow-probability in /usr/local/lib/python3.8/dist-packages (from -r requirements.txt (line 8)) (0.19.0)\n",
            "Collecting psutil==5.8.0\n",
            "  Downloading psutil-5.8.0-cp38-cp38-manylinux2010_x86_64.whl (296 kB)\n",
            "\u001b[2K     \u001b[90m━━━━━━━━━━━━━━━━━━━━━━━━━━━━━━━━━━━━━━\u001b[0m \u001b[32m296.0/296.0 KB\u001b[0m \u001b[31m33.9 MB/s\u001b[0m eta \u001b[36m0:00:00\u001b[0m\n",
            "\u001b[?25hRequirement already satisfied: pyemd==0.5.1 in /usr/local/lib/python3.8/dist-packages (from -r requirements.txt (line 10)) (0.5.1)\n",
            "Collecting grakel==0.1.8\n",
            "  Downloading grakel-0.1.8.zip (1.1 MB)\n",
            "\u001b[2K     \u001b[90m━━━━━━━━━━━━━━━━━━━━━━━━━━━━━━━━━━━━━━━━\u001b[0m \u001b[32m1.1/1.1 MB\u001b[0m \u001b[31m39.1 MB/s\u001b[0m eta \u001b[36m0:00:00\u001b[0m\n",
            "\u001b[?25h  Preparing metadata (setup.py) ... \u001b[?25l\u001b[?25hdone\n",
            "Requirement already satisfied: typing-extensions in /usr/local/lib/python3.8/dist-packages (from torch==1.8.1->-r requirements.txt (line 1)) (4.4.0)\n",
            "Requirement already satisfied: decorator<5,>=4.3 in /usr/local/lib/python3.8/dist-packages (from networkx==2.5.1->-r requirements.txt (line 2)) (4.4.2)\n",
            "Requirement already satisfied: threadpoolctl>=2.0.0 in /usr/local/lib/python3.8/dist-packages (from scikit-learn==0.24.2->-r requirements.txt (line 4)) (3.1.0)\n",
            "Requirement already satisfied: joblib>=0.11 in /usr/local/lib/python3.8/dist-packages (from scikit-learn==0.24.2->-r requirements.txt (line 4)) (1.2.0)\n",
            "Collecting nose>=1.1.2\n",
            "  Downloading nose-1.3.7-py3-none-any.whl (154 kB)\n",
            "\u001b[2K     \u001b[90m━━━━━━━━━━━━━━━━━━━━━━━━━━━━━━━━━━━━━━\u001b[0m \u001b[32m154.7/154.7 KB\u001b[0m \u001b[31m17.1 MB/s\u001b[0m eta \u001b[36m0:00:00\u001b[0m\n",
            "\u001b[?25hRequirement already satisfied: cython>=0.27.3 in /usr/local/lib/python3.8/dist-packages (from grakel==0.1.8->-r requirements.txt (line 11)) (0.29.33)\n",
            "Requirement already satisfied: six>=1.11.0 in /usr/local/lib/python3.8/dist-packages (from grakel==0.1.8->-r requirements.txt (line 11)) (1.15.0)\n",
            "Requirement already satisfied: future>=0.16.0 in /usr/local/lib/python3.8/dist-packages (from grakel==0.1.8->-r requirements.txt (line 11)) (0.16.0)\n",
            "Requirement already satisfied: google-pasta>=0.1.1 in /usr/local/lib/python3.8/dist-packages (from tensorflow->-r requirements.txt (line 6)) (0.2.0)\n",
            "Requirement already satisfied: tensorboard<2.12,>=2.11 in /usr/local/lib/python3.8/dist-packages (from tensorflow->-r requirements.txt (line 6)) (2.11.2)\n",
            "Requirement already satisfied: absl-py>=1.0.0 in /usr/local/lib/python3.8/dist-packages (from tensorflow->-r requirements.txt (line 6)) (1.4.0)\n",
            "Requirement already satisfied: libclang>=13.0.0 in /usr/local/lib/python3.8/dist-packages (from tensorflow->-r requirements.txt (line 6)) (15.0.6.1)\n",
            "Requirement already satisfied: termcolor>=1.1.0 in /usr/local/lib/python3.8/dist-packages (from tensorflow->-r requirements.txt (line 6)) (2.2.0)\n",
            "Requirement already satisfied: gast<=0.4.0,>=0.2.1 in /usr/local/lib/python3.8/dist-packages (from tensorflow->-r requirements.txt (line 6)) (0.4.0)\n",
            "Requirement already satisfied: setuptools in /usr/local/lib/python3.8/dist-packages (from tensorflow->-r requirements.txt (line 6)) (57.4.0)\n",
            "Requirement already satisfied: tensorflow-io-gcs-filesystem>=0.23.1 in /usr/local/lib/python3.8/dist-packages (from tensorflow->-r requirements.txt (line 6)) (0.30.0)\n",
            "Requirement already satisfied: opt-einsum>=2.3.2 in /usr/local/lib/python3.8/dist-packages (from tensorflow->-r requirements.txt (line 6)) (3.3.0)\n",
            "Requirement already satisfied: protobuf<3.20,>=3.9.2 in /usr/local/lib/python3.8/dist-packages (from tensorflow->-r requirements.txt (line 6)) (3.19.6)\n",
            "Requirement already satisfied: keras<2.12,>=2.11.0 in /usr/local/lib/python3.8/dist-packages (from tensorflow->-r requirements.txt (line 6)) (2.11.0)\n",
            "Requirement already satisfied: astunparse>=1.6.0 in /usr/local/lib/python3.8/dist-packages (from tensorflow->-r requirements.txt (line 6)) (1.6.3)\n",
            "Requirement already satisfied: wrapt>=1.11.0 in /usr/local/lib/python3.8/dist-packages (from tensorflow->-r requirements.txt (line 6)) (1.14.1)\n",
            "Requirement already satisfied: h5py>=2.9.0 in /usr/local/lib/python3.8/dist-packages (from tensorflow->-r requirements.txt (line 6)) (3.1.0)\n",
            "Requirement already satisfied: packaging in /usr/local/lib/python3.8/dist-packages (from tensorflow->-r requirements.txt (line 6)) (23.0)\n",
            "Requirement already satisfied: flatbuffers>=2.0 in /usr/local/lib/python3.8/dist-packages (from tensorflow->-r requirements.txt (line 6)) (23.1.21)\n",
            "Requirement already satisfied: tensorflow-estimator<2.12,>=2.11.0 in /usr/local/lib/python3.8/dist-packages (from tensorflow->-r requirements.txt (line 6)) (2.11.0)\n",
            "Requirement already satisfied: grpcio<2.0,>=1.24.3 in /usr/local/lib/python3.8/dist-packages (from tensorflow->-r requirements.txt (line 6)) (1.51.1)\n",
            "Requirement already satisfied: tensorflow-hub>=0.2 in /usr/local/lib/python3.8/dist-packages (from tensorflow-gan->-r requirements.txt (line 7)) (0.12.0)\n",
            "Requirement already satisfied: dm-tree in /usr/local/lib/python3.8/dist-packages (from tensorflow-probability->-r requirements.txt (line 8)) (0.1.8)\n",
            "Requirement already satisfied: cloudpickle>=1.3 in /usr/local/lib/python3.8/dist-packages (from tensorflow-probability->-r requirements.txt (line 8)) (2.2.1)\n",
            "Requirement already satisfied: dill in /usr/local/lib/python3.8/dist-packages (from eden-kernel==0.0.0->-r requirements.txt (line 12)) (0.3.6)\n",
            "Requirement already satisfied: toolz in /usr/local/lib/python3.8/dist-packages (from eden-kernel==0.0.0->-r requirements.txt (line 12)) (0.12.0)\n",
            "Requirement already satisfied: matplotlib in /usr/local/lib/python3.8/dist-packages (from eden-kernel==0.0.0->-r requirements.txt (line 12)) (3.2.2)\n",
            "Requirement already satisfied: requests in /usr/local/lib/python3.8/dist-packages (from eden-kernel==0.0.0->-r requirements.txt (line 12)) (2.25.1)\n",
            "Requirement already satisfied: wheel<1.0,>=0.23.0 in /usr/local/lib/python3.8/dist-packages (from astunparse>=1.6.0->tensorflow->-r requirements.txt (line 6)) (0.38.4)\n",
            "Requirement already satisfied: tensorboard-data-server<0.7.0,>=0.6.0 in /usr/local/lib/python3.8/dist-packages (from tensorboard<2.12,>=2.11->tensorflow->-r requirements.txt (line 6)) (0.6.1)\n",
            "Requirement already satisfied: werkzeug>=1.0.1 in /usr/local/lib/python3.8/dist-packages (from tensorboard<2.12,>=2.11->tensorflow->-r requirements.txt (line 6)) (1.0.1)\n",
            "Requirement already satisfied: tensorboard-plugin-wit>=1.6.0 in /usr/local/lib/python3.8/dist-packages (from tensorboard<2.12,>=2.11->tensorflow->-r requirements.txt (line 6)) (1.8.1)\n",
            "Requirement already satisfied: google-auth-oauthlib<0.5,>=0.4.1 in /usr/local/lib/python3.8/dist-packages (from tensorboard<2.12,>=2.11->tensorflow->-r requirements.txt (line 6)) (0.4.6)\n",
            "Requirement already satisfied: google-auth<3,>=1.6.3 in /usr/local/lib/python3.8/dist-packages (from tensorboard<2.12,>=2.11->tensorflow->-r requirements.txt (line 6)) (2.16.0)\n",
            "Requirement already satisfied: markdown>=2.6.8 in /usr/local/lib/python3.8/dist-packages (from tensorboard<2.12,>=2.11->tensorflow->-r requirements.txt (line 6)) (3.4.1)\n",
            "Requirement already satisfied: idna<3,>=2.5 in /usr/local/lib/python3.8/dist-packages (from requests->eden-kernel==0.0.0->-r requirements.txt (line 12)) (2.10)\n",
            "Requirement already satisfied: urllib3<1.27,>=1.21.1 in /usr/local/lib/python3.8/dist-packages (from requests->eden-kernel==0.0.0->-r requirements.txt (line 12)) (1.24.3)\n",
            "Requirement already satisfied: chardet<5,>=3.0.2 in /usr/local/lib/python3.8/dist-packages (from requests->eden-kernel==0.0.0->-r requirements.txt (line 12)) (4.0.0)\n",
            "Requirement already satisfied: certifi>=2017.4.17 in /usr/local/lib/python3.8/dist-packages (from requests->eden-kernel==0.0.0->-r requirements.txt (line 12)) (2022.12.7)\n",
            "Requirement already satisfied: python-dateutil>=2.1 in /usr/local/lib/python3.8/dist-packages (from matplotlib->eden-kernel==0.0.0->-r requirements.txt (line 12)) (2.8.2)\n",
            "Requirement already satisfied: cycler>=0.10 in /usr/local/lib/python3.8/dist-packages (from matplotlib->eden-kernel==0.0.0->-r requirements.txt (line 12)) (0.11.0)\n",
            "Requirement already satisfied: pyparsing!=2.0.4,!=2.1.2,!=2.1.6,>=2.0.1 in /usr/local/lib/python3.8/dist-packages (from matplotlib->eden-kernel==0.0.0->-r requirements.txt (line 12)) (3.0.9)\n",
            "Requirement already satisfied: kiwisolver>=1.0.1 in /usr/local/lib/python3.8/dist-packages (from matplotlib->eden-kernel==0.0.0->-r requirements.txt (line 12)) (1.4.4)\n",
            "Requirement already satisfied: pyasn1-modules>=0.2.1 in /usr/local/lib/python3.8/dist-packages (from google-auth<3,>=1.6.3->tensorboard<2.12,>=2.11->tensorflow->-r requirements.txt (line 6)) (0.2.8)\n",
            "Requirement already satisfied: rsa<5,>=3.1.4 in /usr/local/lib/python3.8/dist-packages (from google-auth<3,>=1.6.3->tensorboard<2.12,>=2.11->tensorflow->-r requirements.txt (line 6)) (4.9)\n",
            "Requirement already satisfied: cachetools<6.0,>=2.0.0 in /usr/local/lib/python3.8/dist-packages (from google-auth<3,>=1.6.3->tensorboard<2.12,>=2.11->tensorflow->-r requirements.txt (line 6)) (5.3.0)\n",
            "Requirement already satisfied: requests-oauthlib>=0.7.0 in /usr/local/lib/python3.8/dist-packages (from google-auth-oauthlib<0.5,>=0.4.1->tensorboard<2.12,>=2.11->tensorflow->-r requirements.txt (line 6)) (1.3.1)\n",
            "Requirement already satisfied: importlib-metadata>=4.4 in /usr/local/lib/python3.8/dist-packages (from markdown>=2.6.8->tensorboard<2.12,>=2.11->tensorflow->-r requirements.txt (line 6)) (6.0.0)\n",
            "Requirement already satisfied: zipp>=0.5 in /usr/local/lib/python3.8/dist-packages (from importlib-metadata>=4.4->markdown>=2.6.8->tensorboard<2.12,>=2.11->tensorflow->-r requirements.txt (line 6)) (3.12.1)\n",
            "Requirement already satisfied: pyasn1<0.5.0,>=0.4.6 in /usr/local/lib/python3.8/dist-packages (from pyasn1-modules>=0.2.1->google-auth<3,>=1.6.3->tensorboard<2.12,>=2.11->tensorflow->-r requirements.txt (line 6)) (0.4.8)\n",
            "Requirement already satisfied: oauthlib>=3.0.0 in /usr/local/lib/python3.8/dist-packages (from requests-oauthlib>=0.7.0->google-auth-oauthlib<0.5,>=0.4.1->tensorboard<2.12,>=2.11->tensorflow->-r requirements.txt (line 6)) (3.2.2)\n",
            "Building wheels for collected packages: grakel, eden-kernel\n",
            "  Building wheel for grakel (setup.py) ... \u001b[?25l\u001b[?25hdone\n",
            "  Created wheel for grakel: filename=grakel-0.1.8-cp38-cp38-linux_x86_64.whl size=1883997 sha256=879a5c39852eff1216e6a67c51665d06c910dd87d84f208250a8cee8de6dd6ce\n",
            "  Stored in directory: /root/.cache/pip/wheels/5a/19/19/2a5a2cbf9489f844e1239ce0928f5d1b0d0f19aa534086cbf3\n",
            "  Building wheel for eden-kernel (setup.py) ... \u001b[?25l\u001b[?25hdone\n",
            "  Created wheel for eden-kernel: filename=eden_kernel-0.0.0-py3-none-any.whl size=44723 sha256=45a44e32e62305e2095097057bb4684fce1d9ba787aa01654d4faa4cdef664e2\n",
            "  Stored in directory: /tmp/pip-ephem-wheel-cache-jmxwgw11/wheels/2e/ed/2d/b1183a9d9071a35060d107618aac0201458a16e32ed5cfee0b\n",
            "Successfully built grakel eden-kernel\n",
            "Installing collected packages: nose, psutil, numpy, networkx, torch, scipy, tensorflow-gan, scikit-learn, grakel, eden-kernel\n",
            "  Attempting uninstall: psutil\n",
            "    Found existing installation: psutil 5.4.8\n",
            "    Uninstalling psutil-5.4.8:\n",
            "      Successfully uninstalled psutil-5.4.8\n",
            "  Attempting uninstall: numpy\n",
            "    Found existing installation: numpy 1.21.6\n",
            "    Uninstalling numpy-1.21.6:\n",
            "      Successfully uninstalled numpy-1.21.6\n",
            "  Attempting uninstall: networkx\n",
            "    Found existing installation: networkx 3.0\n",
            "    Uninstalling networkx-3.0:\n",
            "      Successfully uninstalled networkx-3.0\n",
            "  Attempting uninstall: torch\n",
            "    Found existing installation: torch 1.13.1+cu116\n",
            "    Uninstalling torch-1.13.1+cu116:\n",
            "      Successfully uninstalled torch-1.13.1+cu116\n",
            "  Attempting uninstall: scipy\n",
            "    Found existing installation: scipy 1.7.3\n",
            "    Uninstalling scipy-1.7.3:\n",
            "      Successfully uninstalled scipy-1.7.3\n",
            "  Attempting uninstall: scikit-learn\n",
            "    Found existing installation: scikit-learn 1.0.2\n",
            "    Uninstalling scikit-learn-1.0.2:\n",
            "      Successfully uninstalled scikit-learn-1.0.2\n",
            "\u001b[31mERROR: pip's dependency resolver does not currently take into account all the packages that are installed. This behaviour is the source of the following dependency conflicts.\n",
            "yellowbrick 1.5 requires scikit-learn>=1.0.0, but you have scikit-learn 0.24.2 which is incompatible.\n",
            "xarray-einstats 0.5.1 requires scipy>=1.6, but you have scipy 1.4.1 which is incompatible.\n",
            "torchvision 0.14.1+cu116 requires torch==1.13.1, but you have torch 1.8.1 which is incompatible.\n",
            "torchtext 0.14.1 requires torch==1.13.1, but you have torch 1.8.1 which is incompatible.\n",
            "torchaudio 0.13.1+cu116 requires torch==1.13.1, but you have torch 1.8.1 which is incompatible.\n",
            "plotnine 0.8.0 requires scipy>=1.5.0, but you have scipy 1.4.1 which is incompatible.\n",
            "jaxlib 0.3.25+cuda11.cudnn805 requires scipy>=1.5, but you have scipy 1.4.1 which is incompatible.\n",
            "jax 0.3.25 requires scipy>=1.5, but you have scipy 1.4.1 which is incompatible.\u001b[0m\u001b[31m\n",
            "\u001b[0mSuccessfully installed eden-kernel-0.0.0 grakel-0.1.8 networkx-2.5.1 nose-1.3.7 numpy-1.21.5 psutil-5.8.0 scikit-learn-0.24.2 scipy-1.4.1 tensorflow-gan-2.1.0 torch-1.8.1\n"
          ]
        }
      ]
    },
    {
      "cell_type": "code",
      "source": [
        "!pip install \"dgl<0.9\""
      ],
      "metadata": {
        "colab": {
          "base_uri": "https://localhost:8080/"
        },
        "id": "GDlZSgYwxIOl",
        "outputId": "b400f407-c8ed-46b6-d878-258ab3de0255"
      },
      "execution_count": 5,
      "outputs": [
        {
          "output_type": "stream",
          "name": "stdout",
          "text": [
            "Looking in indexes: https://pypi.org/simple, https://us-python.pkg.dev/colab-wheels/public/simple/\n",
            "Collecting dgl<0.9\n",
            "  Downloading dgl-0.6.1-cp38-cp38-manylinux1_x86_64.whl (4.5 MB)\n",
            "\u001b[2K     \u001b[90m━━━━━━━━━━━━━━━━━━━━━━━━━━━━━━━━━━━━━━━━\u001b[0m \u001b[32m4.5/4.5 MB\u001b[0m \u001b[31m41.6 MB/s\u001b[0m eta \u001b[36m0:00:00\u001b[0m\n",
            "\u001b[?25hRequirement already satisfied: scipy>=1.1.0 in /usr/local/lib/python3.8/dist-packages (from dgl<0.9) (1.4.1)\n",
            "Requirement already satisfied: requests>=2.19.0 in /usr/local/lib/python3.8/dist-packages (from dgl<0.9) (2.25.1)\n",
            "Requirement already satisfied: networkx>=2.1 in /usr/local/lib/python3.8/dist-packages (from dgl<0.9) (2.5.1)\n",
            "Requirement already satisfied: numpy>=1.14.0 in /usr/local/lib/python3.8/dist-packages (from dgl<0.9) (1.21.5)\n",
            "Requirement already satisfied: decorator<5,>=4.3 in /usr/local/lib/python3.8/dist-packages (from networkx>=2.1->dgl<0.9) (4.4.2)\n",
            "Requirement already satisfied: chardet<5,>=3.0.2 in /usr/local/lib/python3.8/dist-packages (from requests>=2.19.0->dgl<0.9) (4.0.0)\n",
            "Requirement already satisfied: urllib3<1.27,>=1.21.1 in /usr/local/lib/python3.8/dist-packages (from requests>=2.19.0->dgl<0.9) (1.24.3)\n",
            "Requirement already satisfied: idna<3,>=2.5 in /usr/local/lib/python3.8/dist-packages (from requests>=2.19.0->dgl<0.9) (2.10)\n",
            "Requirement already satisfied: certifi>=2017.4.17 in /usr/local/lib/python3.8/dist-packages (from requests>=2.19.0->dgl<0.9) (2022.12.7)\n",
            "Installing collected packages: dgl\n",
            "Successfully installed dgl-0.6.1\n"
          ]
        }
      ]
    },
    {
      "cell_type": "code",
      "source": [
        "#locally I cannot execute bash commands\n",
        "!bash download_gran_graphs.sh\n",
        "#!sudo chmod +x download_gran_graphs.sh\n",
        "!bash download_datasets.sh\n",
        "#error with that one on  the original repo\n",
        "!bash download_pretrained_models.sh "
      ],
      "metadata": {
        "id": "zsHrH5nqWw0Y",
        "colab": {
          "base_uri": "https://localhost:8080/"
        },
        "outputId": "72e5a2d4-5efb-4e3d-f4aa-d2fe7208a74d"
      },
      "execution_count": 6,
      "outputs": [
        {
          "output_type": "stream",
          "name": "stdout",
          "text": [
            "--2023-02-13 12:13:55--  https://www.dropbox.com/s/z2ees1ir05lqvtn/generated_graphs.tar.gz\n",
            "Resolving www.dropbox.com (www.dropbox.com)... 162.125.2.18, 2620:100:6027:18::a27d:4812\n",
            "Connecting to www.dropbox.com (www.dropbox.com)|162.125.2.18|:443... connected.\n",
            "HTTP request sent, awaiting response... 302 Found\n",
            "Location: /s/raw/z2ees1ir05lqvtn/generated_graphs.tar.gz [following]\n",
            "--2023-02-13 12:13:55--  https://www.dropbox.com/s/raw/z2ees1ir05lqvtn/generated_graphs.tar.gz\n",
            "Reusing existing connection to www.dropbox.com:443.\n",
            "HTTP request sent, awaiting response... 302 Found\n",
            "Location: https://uc3b24cd1ca7d8cb534a00ed04b5.dl.dropboxusercontent.com/cd/0/inline/B2YRNPxFQHYcq5woZrWiYnP9t4aMAEhw_703qsqDRylAcLE0svf-wAa2LryYKfnCWx8II9nsNzllNCK6JBQfAscBIrClgC-BMnyRI-nGF69NO5aSc3enBoi6w-4DGXjlnNVqCDjCYmbyw-wYInVJUHSss-57_7LkhpnA43Zuwm3GRw/file# [following]\n",
            "--2023-02-13 12:13:56--  https://uc3b24cd1ca7d8cb534a00ed04b5.dl.dropboxusercontent.com/cd/0/inline/B2YRNPxFQHYcq5woZrWiYnP9t4aMAEhw_703qsqDRylAcLE0svf-wAa2LryYKfnCWx8II9nsNzllNCK6JBQfAscBIrClgC-BMnyRI-nGF69NO5aSc3enBoi6w-4DGXjlnNVqCDjCYmbyw-wYInVJUHSss-57_7LkhpnA43Zuwm3GRw/file\n",
            "Resolving uc3b24cd1ca7d8cb534a00ed04b5.dl.dropboxusercontent.com (uc3b24cd1ca7d8cb534a00ed04b5.dl.dropboxusercontent.com)... 162.125.2.15, 2620:100:6027:15::a27d:480f\n",
            "Connecting to uc3b24cd1ca7d8cb534a00ed04b5.dl.dropboxusercontent.com (uc3b24cd1ca7d8cb534a00ed04b5.dl.dropboxusercontent.com)|162.125.2.15|:443... connected.\n",
            "HTTP request sent, awaiting response... 200 OK\n",
            "Length: 162877440 (155M) [text/plain]\n",
            "Saving to: ‘generated_graphs.tar.gz’\n",
            "\n",
            "generated_graphs.ta 100%[===================>] 155.33M  92.6MB/s    in 1.7s    \n",
            "\n",
            "2023-02-13 12:13:58 (92.6 MB/s) - ‘generated_graphs.tar.gz’ saved [162877440/162877440]\n",
            "\n",
            "--2023-02-13 12:13:58--  https://www.dropbox.com/s/ks0jmzg1gus0x3y/datasets.tar.gz\n",
            "Resolving www.dropbox.com (www.dropbox.com)... 162.125.2.18, 2620:100:6027:18::a27d:4812\n",
            "Connecting to www.dropbox.com (www.dropbox.com)|162.125.2.18|:443... connected.\n",
            "HTTP request sent, awaiting response... 302 Found\n",
            "Location: /s/raw/ks0jmzg1gus0x3y/datasets.tar.gz [following]\n",
            "--2023-02-13 12:13:59--  https://www.dropbox.com/s/raw/ks0jmzg1gus0x3y/datasets.tar.gz\n",
            "Reusing existing connection to www.dropbox.com:443.\n",
            "HTTP request sent, awaiting response... 302 Found\n",
            "Location: https://uc83136deb7ce60ffe5816a447a7.dl.dropboxusercontent.com/cd/0/inline/B2aYldOIxO2ZteFV2EnU1CuD1KBb5AunMFm6GoOnSD3WnW_KOk-mseWjcEXJqosryysNIytNA6BK_X2IbmEdzsjg_K8mK1j9CXKaHfoV1hetU_PtSPtHu_LpHnG5QyPh2jJmY6SR5wZSmZEaurUXz6te2gxsRxyGh3FQ27s1SPEvmw/file# [following]\n",
            "--2023-02-13 12:13:59--  https://uc83136deb7ce60ffe5816a447a7.dl.dropboxusercontent.com/cd/0/inline/B2aYldOIxO2ZteFV2EnU1CuD1KBb5AunMFm6GoOnSD3WnW_KOk-mseWjcEXJqosryysNIytNA6BK_X2IbmEdzsjg_K8mK1j9CXKaHfoV1hetU_PtSPtHu_LpHnG5QyPh2jJmY6SR5wZSmZEaurUXz6te2gxsRxyGh3FQ27s1SPEvmw/file\n",
            "Resolving uc83136deb7ce60ffe5816a447a7.dl.dropboxusercontent.com (uc83136deb7ce60ffe5816a447a7.dl.dropboxusercontent.com)... 162.125.2.15, 2620:100:6027:15::a27d:480f\n",
            "Connecting to uc83136deb7ce60ffe5816a447a7.dl.dropboxusercontent.com (uc83136deb7ce60ffe5816a447a7.dl.dropboxusercontent.com)|162.125.2.15|:443... connected.\n",
            "HTTP request sent, awaiting response... 302 Found\n",
            "Location: /cd/0/inline2/B2ZFIdTkjyBeQXPfM_U_K_5_xkv7yESlklgHfS81fdKhLyW_IY5ckUG398lwjj-3-P8xIb2DWYW6_hgRLIbzaIBK27fmu8s-u3BdNMWvpJqP-OqzvphOI8zTFVeUzFLzXfEfTxm6aGw-sIUom-n2tTZPea8TANLWlKzS5JTIaPkVx-fbiAOBvT2W2PCQv7xxys2UkO6dJJPgWH2UyahSVjDOLao9lDEsn9NZVEdhO1S2hXGrKCgVtnZ7JAOmjmQVMPbn2LVPJIX3kGugDV03qUh_Nx5v5lSxBi5Kxi3HA0wRjZcR_FddDhmGVTKnsDIsWWcOxvHcjjnVYtkAQ_Ll6L-ukLJerjwld-hp4OEvDoHzpeE29_oOcgA-7QFYGbgcy3JxRM-cIO_sdUg54FumSe1WHnTtKGNEwzeh3S8ObjDo8g/file [following]\n",
            "--2023-02-13 12:13:59--  https://uc83136deb7ce60ffe5816a447a7.dl.dropboxusercontent.com/cd/0/inline2/B2ZFIdTkjyBeQXPfM_U_K_5_xkv7yESlklgHfS81fdKhLyW_IY5ckUG398lwjj-3-P8xIb2DWYW6_hgRLIbzaIBK27fmu8s-u3BdNMWvpJqP-OqzvphOI8zTFVeUzFLzXfEfTxm6aGw-sIUom-n2tTZPea8TANLWlKzS5JTIaPkVx-fbiAOBvT2W2PCQv7xxys2UkO6dJJPgWH2UyahSVjDOLao9lDEsn9NZVEdhO1S2hXGrKCgVtnZ7JAOmjmQVMPbn2LVPJIX3kGugDV03qUh_Nx5v5lSxBi5Kxi3HA0wRjZcR_FddDhmGVTKnsDIsWWcOxvHcjjnVYtkAQ_Ll6L-ukLJerjwld-hp4OEvDoHzpeE29_oOcgA-7QFYGbgcy3JxRM-cIO_sdUg54FumSe1WHnTtKGNEwzeh3S8ObjDo8g/file\n",
            "Reusing existing connection to uc83136deb7ce60ffe5816a447a7.dl.dropboxusercontent.com:443.\n",
            "HTTP request sent, awaiting response... 200 OK\n",
            "Length: 138209280 (132M) [application/octet-stream]\n",
            "Saving to: ‘datasets.tar.gz’\n",
            "\n",
            "datasets.tar.gz     100%[===================>] 131.81M  81.7MB/s    in 1.6s    \n",
            "\n",
            "2023-02-13 12:14:02 (81.7 MB/s) - ‘datasets.tar.gz’ saved [138209280/138209280]\n",
            "\n",
            "--2023-02-13 12:14:02--  https://www.dropbox.com/s/460q8cgvc4bp28r/pretrained.tar.gz\n",
            "Resolving www.dropbox.com (www.dropbox.com)... 162.125.2.18, 2620:100:6027:18::a27d:4812\n",
            "Connecting to www.dropbox.com (www.dropbox.com)|162.125.2.18|:443... connected.\n",
            "HTTP request sent, awaiting response... 302 Found\n",
            "Location: /s/raw/460q8cgvc4bp28r/pretrained.tar.gz [following]\n",
            "--2023-02-13 12:14:02--  https://www.dropbox.com/s/raw/460q8cgvc4bp28r/pretrained.tar.gz\n",
            "Reusing existing connection to www.dropbox.com:443.\n",
            "HTTP request sent, awaiting response... 302 Found\n",
            "Location: https://uc9ff0b7a29e20dfda49cd1d4654.dl.dropboxusercontent.com/cd/0/inline/B2aMfLdAiYRlgqAUISBx_Mkv050ExqueA4ZrtPYcGoGBubpaKRyjAFaH1ASHpl2vPtVRJueqEF8zsIj10G-rLct2notJ0pfeOQh-DU3F6CePw4wPDoCoIGiZaKuKe0UxtkHmpglFV-uhH5C64WN5ann10wLc6bKSE9cmCUfvP6RZnw/file# [following]\n",
            "--2023-02-13 12:14:02--  https://uc9ff0b7a29e20dfda49cd1d4654.dl.dropboxusercontent.com/cd/0/inline/B2aMfLdAiYRlgqAUISBx_Mkv050ExqueA4ZrtPYcGoGBubpaKRyjAFaH1ASHpl2vPtVRJueqEF8zsIj10G-rLct2notJ0pfeOQh-DU3F6CePw4wPDoCoIGiZaKuKe0UxtkHmpglFV-uhH5C64WN5ann10wLc6bKSE9cmCUfvP6RZnw/file\n",
            "Resolving uc9ff0b7a29e20dfda49cd1d4654.dl.dropboxusercontent.com (uc9ff0b7a29e20dfda49cd1d4654.dl.dropboxusercontent.com)... 162.125.2.15, 2620:100:6017:15::a27d:20f\n",
            "Connecting to uc9ff0b7a29e20dfda49cd1d4654.dl.dropboxusercontent.com (uc9ff0b7a29e20dfda49cd1d4654.dl.dropboxusercontent.com)|162.125.2.15|:443... connected.\n",
            "HTTP request sent, awaiting response... 200 OK\n",
            "Length: 22005760 (21M) [text/plain]\n",
            "Saving to: ‘pretrained.tar.gz’\n",
            "\n",
            "pretrained.tar.gz   100%[===================>]  20.99M  88.2MB/s    in 0.2s    \n",
            "\n",
            "2023-02-13 12:14:03 (88.2 MB/s) - ‘pretrained.tar.gz’ saved [22005760/22005760]\n",
            "\n"
          ]
        }
      ]
    },
    {
      "cell_type": "code",
      "source": [
        "!python main.py --permutation_type=mixing-random --dataset=proteins\\\n",
        "gnn"
      ],
      "metadata": {
        "id": "mBGxwZGdwYOd",
        "colab": {
          "base_uri": "https://localhost:8080/"
        },
        "outputId": "2f8eb43c-5516-4f37-b8fe-f6f36cbc2a65"
      },
      "execution_count": null,
      "outputs": [
        {
          "output_type": "stream",
          "name": "stdout",
          "text": [
            "DGL backend not selected or invalid.  Assuming PyTorch for now.\n",
            "Setting the default backend to \"pytorch\". You can change it in the ~/.dgl/config.json file or export the DGLBACKEND environment variable.  Valid options are: pytorch, mxnet, tensorflow (all lowercase)\n",
            "Using backend: pytorch\n",
            "saving results to: /content/GGM-metrics/experiment_results/testing/mixing-random/proteins/gin/sum/20230213-1214-1G8cQLzPUM\n",
            "{'no_cuda': False, 'seed': 42, 'dataset': 'proteins', 'permutation_type': 'mixing-random', 'step_size': 0.01, 'results_directory': 'testing/mixing-random/proteins/gin/sum', 'feature_extractor': 'gin', 'num_layers': 3, 'num_mlp_layers': 2, 'graph_pooling_type': 'sum', 'neighbor_pooling_type': 'sum', 'hidden_dim': 35, 'init': 'orthogonal', 'use_pretrained': False, 'use_degree_features': True, 'input_dim': 1, 'edge_feat_dim': 0, 'graph_embed_size': 70, 'git_commit': 'c599e48'}\n",
            "orthogonal\n",
            "Dataset size: 918\n",
            "Mean num nodes: 257.86710239651416\n",
            "Mean num edges: 646.4226579520697\n",
            "Max num nodes: 500\n",
            "Min num nodes: 100\n",
            "Max num edges: 1575\n",
            "Min num edges: 186\n",
            "2023-02-13 12:15:09.665837: I tensorflow/core/platform/cpu_feature_guard.cc:193] This TensorFlow binary is optimized with oneAPI Deep Neural Network Library (oneDNN) to use the following CPU instructions in performance-critical operations:  AVX2 FMA\n",
            "To enable them in other operations, rebuild TensorFlow with the appropriate compiler flags.\n",
            "Falling back to TensorFlow client; we recommended you install the Cloud TPU client directly with pip install cloud-tpu-client.\n",
            "2023-02-13 12:15:12.482825: W tensorflow/compiler/xla/stream_executor/platform/default/dso_loader.cc:64] Could not load dynamic library 'libnvinfer.so.7'; dlerror: libnvinfer.so.7: cannot open shared object file: No such file or directory; LD_LIBRARY_PATH: /usr/local/nvidia/lib:/usr/local/nvidia/lib64\n",
            "2023-02-13 12:15:12.483361: W tensorflow/compiler/xla/stream_executor/platform/default/dso_loader.cc:64] Could not load dynamic library 'libnvinfer_plugin.so.7'; dlerror: libnvinfer_plugin.so.7: cannot open shared object file: No such file or directory; LD_LIBRARY_PATH: /usr/local/nvidia/lib:/usr/local/nvidia/lib64\n",
            "2023-02-13 12:15:12.483396: W tensorflow/compiler/tf2tensorrt/utils/py_utils.cc:38] TF-TRT Warning: Cannot dlopen some TensorRT libraries. If you would like to use Nvidia GPU with TensorRT, please make sure the missing libraries mentioned above are installed properly.\n",
            "Creating converter from 7 to 5\n",
            "Creating converter from 5 to 7\n",
            "Creating converter from 7 to 5\n",
            "Creating converter from 5 to 7\n",
            "Initializing MLIR with module: _site_initialize_0\n",
            "Registering dialects from initializer <module 'jaxlib.mlir._mlir_libs._site_initialize_0' from '/usr/local/lib/python3.8/dist-packages/jaxlib/mlir/_mlir_libs/_site_initialize_0.so'>\n",
            "etils.epath found. Using etils.epath for file I/O.\n",
            "NumExpr defaulting to 2 threads.\n",
            "From /usr/local/lib/python3.8/dist-packages/tensorflow_gan/python/estimator/tpu_gan_estimator.py:42: The name tf.estimator.tpu.TPUEstimator is deprecated. Please use tf.compat.v1.estimator.tpu.TPUEstimator instead.\n",
            "\n",
            "2023-02-13 12:15:16.779938: E tensorflow/compiler/xla/stream_executor/cuda/cuda_driver.cc:267] failed call to cuInit: CUDA_ERROR_NO_DEVICE: no CUDA-capable device is detected\n",
            "From /usr/local/lib/python3.8/dist-packages/tensorflow_gan/python/eval/classifier_metrics.py:1157: calling map_fn_v2 (from tensorflow.python.ops.map_fn) with back_prop=False is deprecated and will be removed in a future version.\n",
            "Instructions for updating:\n",
            "back_prop=False is deprecated. Consider using tf.stop_gradient instead.\n",
            "Instead of:\n",
            "results = tf.map_fn(fn, elems, back_prop=False)\n",
            "Use:\n",
            "results = tf.nest.map_structure(tf.stop_gradient, tf.map_fn(fn, elems))\n",
            "iter: 0 activations_time: 1.5292 fid: -0.0 fid_time: 1.5555 kid: -0.4877 kid_time: 9.4634 precision: 1.0 recall: 1.0 f1_pr: 1.0 precision_time: 1.8405 recall_time: 1.8405 f1_pr_time: 1.8405 density: 1.2 coverage: 1.0 f1_dc: 1.0909 density_time: 1.667 coverage_time: 1.667 f1_dc_time: 1.667 mmd_rbf: 0.0 mmd_rbf_time: 1.8712 mmd_linear: 0.0 mmd_linear_time: 1.5294 ratio: 0.0 fake_qty: 0.0 \n",
            "\n",
            "\n",
            "orthogonal\n",
            "Dataset size: 918\n",
            "Mean num nodes: 257.86710239651416\n",
            "Mean num edges: 646.4226579520697\n",
            "Max num nodes: 500\n",
            "Min num nodes: 100\n",
            "Max num edges: 1575\n",
            "Min num edges: 186\n",
            "iter: 0 activations_time: 1.4381 fid: -0.0 fid_time: 1.4553 kid: -0.2062 kid_time: 1.5446 precision: 1.0 recall: 1.0 f1_pr: 1.0 precision_time: 1.5661 recall_time: 1.5661 f1_pr_time: 1.5661 density: 1.2 coverage: 1.0 f1_dc: 1.0909 density_time: 1.5057 coverage_time: 1.5057 f1_dc_time: 1.5057 mmd_rbf: 0.0 mmd_rbf_time: 1.614 mmd_linear: 0.0 mmd_linear_time: 1.4383 ratio: 0.0 fake_qty: 0.0 \n",
            "\n",
            "\n",
            "iter: 1 activations_time: 1.3209 fid: 22085.2616 fid_time: 1.3397 kid: 4259361536.0 kid_time: 1.4399 precision: 0.9902 recall: 1.0 f1_pr: 0.9951 precision_time: 1.4355 recall_time: 1.4355 f1_pr_time: 1.4355 density: 1.1908 coverage: 1.0 f1_dc: 1.0871 density_time: 1.3873 coverage_time: 1.3873 f1_dc_time: 1.3873 mmd_rbf: 0.0001 mmd_rbf_time: 1.5098 mmd_linear: 172.1081 mmd_linear_time: 1.3211 ratio: 0.0109 fake_qty: 10.0 \n",
            "\n",
            "\n",
            "iter: 2 activations_time: 1.1247 fid: 32871.2639 fid_time: 1.1446 kid: 9968250880.0 kid_time: 1.2466 precision: 0.9815 recall: 1.0 f1_pr: 0.9907 precision_time: 1.264 recall_time: 1.264 f1_pr_time: 1.264 density: 1.1778 coverage: 1.0 f1_dc: 1.0816 density_time: 1.191 coverage_time: 1.191 f1_dc_time: 1.191 mmd_rbf: 0.0004 mmd_rbf_time: 1.2931 mmd_linear: 440.5964 mmd_linear_time: 1.1249 ratio: 0.0218 fake_qty: 20.0 \n",
            "\n",
            "\n",
            "iter: 3 activations_time: 1.7416 fid: 64966.9499 fid_time: 1.7812 kid: 64144211968.0 kid_time: 1.8992 precision: 0.9728 recall: 0.9989 f1_pr: 0.9857 precision_time: 1.9781 recall_time: 1.9781 f1_pr_time: 1.9781 density: 1.1675 coverage: 1.0 f1_dc: 1.0773 density_time: 1.9197 coverage_time: 1.9197 f1_dc_time: 1.9197 mmd_rbf: 0.0009 mmd_rbf_time: 2.0591 mmd_linear: 1131.1984 mmd_linear_time: 1.7418 ratio: 0.0327 fake_qty: 30.0 \n",
            "\n",
            "\n",
            "iter: 4 activations_time: 1.4135 fid: 75537.9717 fid_time: 1.4516 kid: 85249433600.0 kid_time: 1.5951 precision: 0.9651 recall: 0.9989 f1_pr: 0.9817 precision_time: 1.6622 recall_time: 1.6622 f1_pr_time: 1.6622 density: 1.1558 coverage: 1.0 f1_dc: 1.0723 density_time: 1.5669 coverage_time: 1.5669 f1_dc_time: 1.5669 mmd_rbf: 0.0016 mmd_rbf_time: 1.7644 mmd_linear: 1679.3501 mmd_linear_time: 1.4137 ratio: 0.0436 fake_qty: 40.0 \n",
            "\n",
            "\n",
            "iter: 5 activations_time: 1.6553 fid: 108025.8716 fid_time: 1.705 kid: 221938335744.0 kid_time: 1.7931 precision: 0.9564 recall: 0.9978 f1_pr: 0.9767 precision_time: 1.9073 recall_time: 1.9073 f1_pr_time: 1.9073 density: 1.1434 coverage: 1.0 f1_dc: 1.0669 density_time: 1.8143 coverage_time: 1.8143 f1_dc_time: 1.8143 mmd_rbf: 0.0024 mmd_rbf_time: 1.9834 mmd_linear: 2926.679 mmd_linear_time: 1.6555 ratio: 0.0545 fake_qty: 50.0 \n",
            "\n",
            "\n",
            "iter: 6 activations_time: 1.4434 fid: 148351.5975 fid_time: 1.4605 kid: 452006281216.0 kid_time: 1.5592 precision: 0.9477 recall: 0.9978 f1_pr: 0.9721 precision_time: 1.5492 recall_time: 1.5492 f1_pr_time: 1.5492 density: 1.1281 coverage: 1.0 f1_dc: 1.0602 density_time: 1.5096 coverage_time: 1.5096 f1_dc_time: 1.5096 mmd_rbf: 0.0033 mmd_rbf_time: 1.613 mmd_linear: 5025.5317 mmd_linear_time: 1.4437 ratio: 0.0654 fake_qty: 60.0 \n",
            "\n",
            "\n",
            "iter: 7 activations_time: 1.2225 fid: 162821.4058 fid_time: 1.2404 kid: 521664856064.0 kid_time: 1.3401 precision: 0.9401 recall: 0.9967 f1_pr: 0.9676 precision_time: 1.33 recall_time: 1.33 f1_pr_time: 1.33 density: 1.1163 coverage: 1.0 f1_dc: 1.055 density_time: 1.2896 coverage_time: 1.2896 f1_dc_time: 1.2896 mmd_rbf: 0.0044 mmd_rbf_time: 1.3905 mmd_linear: 6377.7588 mmd_linear_time: 1.2228 ratio: 0.0763 fake_qty: 70.0 \n",
            "\n",
            "\n",
            "iter: 8 activations_time: 1.0217 fid: 180413.4711 fid_time: 1.0396 kid: 627175653376.0 kid_time: 1.1306 precision: 0.9314 recall: 0.9967 f1_pr: 0.963 precision_time: 1.1307 recall_time: 1.1307 f1_pr_time: 1.1307 density: 1.1074 coverage: 1.0 f1_dc: 1.051 density_time: 1.0909 coverage_time: 1.0909 f1_dc_time: 1.0909 mmd_rbf: 0.0058 mmd_rbf_time: 1.203 mmd_linear: 8078.4434 mmd_linear_time: 1.022 ratio: 0.0871 fake_qty: 80.0 \n",
            "\n",
            "\n",
            "iter: 9 activations_time: 1.1377 fid: 219260.5375 fid_time: 1.1545 kid: 919009492992.0 kid_time: 1.2527 precision: 0.9216 recall: 0.9967 f1_pr: 0.9577 precision_time: 1.2438 recall_time: 1.2438 f1_pr_time: 1.2438 density: 1.0954 coverage: 1.0 f1_dc: 1.0455 density_time: 1.2034 coverage_time: 1.2034 f1_dc_time: 1.2034 mmd_rbf: 0.0074 mmd_rbf_time: 1.3035 mmd_linear: 11604.0264 mmd_linear_time: 1.138 ratio: 0.098 fake_qty: 90.0 \n",
            "\n",
            "\n",
            "iter: 10 activations_time: 1.1403 fid: 252062.6411 fid_time: 1.1662 kid: 1180856877056.0 kid_time: 1.263 precision: 0.9107 recall: 0.9956 f1_pr: 0.9513 precision_time: 1.2521 recall_time: 1.2521 f1_pr_time: 1.2521 density: 1.0865 coverage: 1.0 f1_dc: 1.0415 density_time: 1.2159 coverage_time: 1.2159 f1_dc_time: 1.2159 mmd_rbf: 0.0095 mmd_rbf_time: 1.3173 mmd_linear: 15503.8105 mmd_linear_time: 1.1405 ratio: 0.1089 fake_qty: 100.0 \n",
            "\n",
            "\n",
            "iter: 11 activations_time: 1.2582 fid: 273766.1483 fid_time: 1.2757 kid: 1369547735040.0 kid_time: 1.3699 precision: 0.902 recall: 0.9946 f1_pr: 0.946 precision_time: 1.3705 recall_time: 1.3705 f1_pr_time: 1.3705 density: 1.0749 coverage: 1.0 f1_dc: 1.0361 density_time: 1.327 coverage_time: 1.327 f1_dc_time: 1.327 mmd_rbf: 0.0115 mmd_rbf_time: 1.4469 mmd_linear: 18512.0469 mmd_linear_time: 1.2585 ratio: 0.1198 fake_qty: 110.0 \n",
            "\n",
            "\n",
            "fid calculation produces singular product; adding 1e-06 to diagonal of cov estimates\n",
            "iter: 12 activations_time: 1.8504 fid: 289921.9512 fid_time: 1.8868 kid: 1487276081152.0 kid_time: 2.0221 precision: 0.8911 recall: 0.9935 f1_pr: 0.9395 precision_time: 2.0941 recall_time: 2.0941 f1_pr_time: 2.0941 density: 1.0634 coverage: 1.0 f1_dc: 1.0307 density_time: 2.0059 coverage_time: 2.0059 f1_dc_time: 2.0059 mmd_rbf: 0.0143 mmd_rbf_time: 2.2075 mmd_linear: 21786.8652 mmd_linear_time: 1.8507 ratio: 0.1307 fake_qty: 120.0 \n",
            "\n",
            "\n",
            "fid calculation produces singular product; adding 1e-06 to diagonal of cov estimates\n",
            "iter: 13 activations_time: 1.8637 fid: 309203.6775 fid_time: 1.9266 kid: 1634138718208.0 kid_time: 2.0567 precision: 0.8813 recall: 0.9924 f1_pr: 0.9335 precision_time: 2.1096 recall_time: 2.1096 f1_pr_time: 2.1096 density: 1.049 coverage: 1.0 f1_dc: 1.0239 density_time: 2.027 coverage_time: 2.027 f1_dc_time: 2.027 mmd_rbf: 0.017 mmd_rbf_time: 2.2256 mmd_linear: 25679.0664 mmd_linear_time: 1.864 ratio: 0.1416 fake_qty: 130.0 \n",
            "\n",
            "\n",
            "fid calculation produces singular product; adding 1e-06 to diagonal of cov estimates\n",
            "iter: 14 activations_time: 1.681 fid: 328641.1309 fid_time: 1.7069 kid: 1841942233088.0 kid_time: 1.7976 precision: 0.8704 recall: 0.9913 f1_pr: 0.9269 precision_time: 1.7937 recall_time: 1.7937 f1_pr_time: 1.7937 density: 1.0344 coverage: 1.0 f1_dc: 1.0169 density_time: 1.7487 coverage_time: 1.7487 f1_dc_time: 1.7487 mmd_rbf: 0.0203 mmd_rbf_time: 1.8487 mmd_linear: 29332.3047 mmd_linear_time: 1.6812 ratio: 0.1525 fake_qty: 140.0 \n",
            "\n",
            "\n",
            "fid calculation produces singular product; adding 1e-06 to diagonal of cov estimates\n",
            "iter: 15 activations_time: 1.2764 fid: 362722.4544 fid_time: 1.301 kid: 2365133160448.0 kid_time: 1.3915 precision: 0.8606 recall: 0.9924 f1_pr: 0.9218 precision_time: 1.3806 recall_time: 1.3806 f1_pr_time: 1.3806 density: 1.0235 coverage: 1.0 f1_dc: 1.0116 density_time: 1.3531 coverage_time: 1.3531 f1_dc_time: 1.3531 mmd_rbf: 0.0234 mmd_rbf_time: 1.4596 mmd_linear: 34776.5898 mmd_linear_time: 1.2766 ratio: 0.1634 fake_qty: 150.0 \n",
            "\n",
            "\n",
            "fid calculation produces singular product; adding 1e-06 to diagonal of cov estimates\n",
            "iter: 16 activations_time: 1.2706 fid: 370550.9538 fid_time: 1.2954 kid: 2410446323712.0 kid_time: 1.406 precision: 0.8519 recall: 0.9924 f1_pr: 0.9168 precision_time: 1.379 recall_time: 1.379 f1_pr_time: 1.379 density: 1.0098 coverage: 1.0 f1_dc: 1.0049 density_time: 1.3448 coverage_time: 1.3448 f1_dc_time: 1.3448 mmd_rbf: 0.0266 mmd_rbf_time: 1.4368 mmd_linear: 37774.3711 mmd_linear_time: 1.2709 ratio: 0.1743 fake_qty: 160.0 \n",
            "\n",
            "\n",
            "fid calculation produces singular product; adding 1e-06 to diagonal of cov estimates\n",
            "iter: 17 activations_time: 1.3784 fid: 381157.4026 fid_time: 1.4051 kid: 2482171805696.0 kid_time: 1.5018 precision: 0.842 recall: 0.9935 f1_pr: 0.9115 precision_time: 1.5023 recall_time: 1.5023 f1_pr_time: 1.5023 density: 0.998 coverage: 1.0 f1_dc: 0.999 density_time: 1.4491 coverage_time: 1.4491 f1_dc_time: 1.4491 mmd_rbf: 0.0303 mmd_rbf_time: 1.5535 mmd_linear: 41535.2617 mmd_linear_time: 1.3787 ratio: 0.1852 fake_qty: 170.0 \n",
            "\n",
            "\n",
            "fid calculation produces singular product; adding 1e-06 to diagonal of cov estimates\n",
            "iter: 18 activations_time: 1.2216 fid: 391511.1012 fid_time: 1.2471 kid: 2569047375872.0 kid_time: 1.3322 precision: 0.8333 recall: 0.9935 f1_pr: 0.9064 precision_time: 1.3547 recall_time: 1.3547 f1_pr_time: 1.3547 density: 0.9885 coverage: 1.0 f1_dc: 0.9942 density_time: 1.296 coverage_time: 1.296 f1_dc_time: 1.296 mmd_rbf: 0.0333 mmd_rbf_time: 1.4081 mmd_linear: 44805.6719 mmd_linear_time: 1.2218 ratio: 0.1961 fake_qty: 180.0 \n",
            "\n",
            "\n",
            "fid calculation produces singular product; adding 1e-06 to diagonal of cov estimates\n",
            "iter: 19 activations_time: 1.3216 fid: 395602.8464 fid_time: 1.3474 kid: 2588347465728.0 kid_time: 1.4528 precision: 0.8257 recall: 0.9924 f1_pr: 0.9014 precision_time: 1.4413 recall_time: 1.4413 f1_pr_time: 1.4413 density: 0.9784 coverage: 1.0 f1_dc: 0.9891 density_time: 1.4007 coverage_time: 1.4007 f1_dc_time: 1.4007 mmd_rbf: 0.0366 mmd_rbf_time: 1.5423 mmd_linear: 47076.0 mmd_linear_time: 1.3219 ratio: 0.207 fake_qty: 190.0 \n",
            "\n",
            "\n",
            "fid calculation produces singular product; adding 1e-06 to diagonal of cov estimates\n",
            "iter: 20 activations_time: 1.8 fid: 428223.1656 fid_time: 1.8427 kid: 3371312873472.0 kid_time: 1.9172 precision: 0.8192 recall: 0.9946 f1_pr: 0.8984 precision_time: 2.0444 recall_time: 2.0444 f1_pr_time: 2.0444 density: 0.9691 coverage: 0.9989 f1_dc: 0.9838 density_time: 2.0002 coverage_time: 2.0002 f1_dc_time: 2.0002 mmd_rbf: 0.0394 mmd_rbf_time: 2.1474 mmd_linear: 51524.2031 mmd_linear_time: 1.8003 ratio: 0.2179 fake_qty: 200.0 \n",
            "\n",
            "\n",
            "fid calculation produces singular product; adding 1e-06 to diagonal of cov estimates\n",
            "iter: 21 activations_time: 1.6611 fid: 438578.6585 fid_time: 1.6877 kid: 3455282839552.0 kid_time: 1.8229 precision: 0.8094 recall: 0.9946 f1_pr: 0.8925 precision_time: 1.8668 recall_time: 1.8668 f1_pr_time: 1.8668 density: 0.9549 coverage: 0.9989 f1_dc: 0.9764 density_time: 1.8074 coverage_time: 1.8074 f1_dc_time: 1.8074 mmd_rbf: 0.0434 mmd_rbf_time: 1.9677 mmd_linear: 55653.6758 mmd_linear_time: 1.6613 ratio: 0.2288 fake_qty: 210.0 \n",
            "\n",
            "\n",
            "fid calculation produces singular product; adding 1e-06 to diagonal of cov estimates\n",
            "iter: 22 activations_time: 1.4238 fid: 452660.5044 fid_time: 1.4888 kid: 3603026935808.0 kid_time: 1.5952 precision: 0.8007 recall: 0.9946 f1_pr: 0.8871 precision_time: 1.6325 recall_time: 1.6325 f1_pr_time: 1.6325 density: 0.9473 coverage: 0.9989 f1_dc: 0.9724 density_time: 1.4901 coverage_time: 1.4901 f1_dc_time: 1.4901 mmd_rbf: 0.0475 mmd_rbf_time: 1.6092 mmd_linear: 60481.3711 mmd_linear_time: 1.4241 ratio: 0.2397 fake_qty: 220.0 \n",
            "\n",
            "\n",
            "fid calculation produces singular product; adding 1e-06 to diagonal of cov estimates\n",
            "iter: 23 activations_time: 1.416 fid: 466902.3099 fid_time: 1.4419 kid: 3729039556608.0 kid_time: 1.5327 precision: 0.7898 recall: 0.9924 f1_pr: 0.8796 precision_time: 1.5356 recall_time: 1.5356 f1_pr_time: 1.5356 density: 0.9333 coverage: 0.9989 f1_dc: 0.965 density_time: 1.4959 coverage_time: 1.4959 f1_dc_time: 1.4959 mmd_rbf: 0.0528 mmd_rbf_time: 1.5985 mmd_linear: 66318.1406 mmd_linear_time: 1.4163 ratio: 0.2505 fake_qty: 230.0 \n",
            "\n",
            "\n",
            "fid calculation produces singular product; adding 1e-06 to diagonal of cov estimates\n",
            "iter: 24 activations_time: 1.3995 fid: 492410.142 fid_time: 1.4266 kid: 4150001401856.0 kid_time: 1.5083 precision: 0.78 recall: 0.9924 f1_pr: 0.8734 precision_time: 1.5084 recall_time: 1.5084 f1_pr_time: 1.5084 density: 0.9233 coverage: 0.9989 f1_dc: 0.9596 density_time: 1.4668 coverage_time: 1.4668 f1_dc_time: 1.4668 mmd_rbf: 0.0578 mmd_rbf_time: 1.5919 mmd_linear: 73247.0938 mmd_linear_time: 1.3998 ratio: 0.2614 fake_qty: 240.0 \n",
            "\n",
            "\n",
            "fid calculation produces singular product; adding 1e-06 to diagonal of cov estimates\n",
            "iter: 25 activations_time: 1.0502 fid: 497054.8702 fid_time: 1.0763 kid: 4185591119872.0 kid_time: 1.167 precision: 0.7723 recall: 0.9913 f1_pr: 0.8682 precision_time: 1.2171 recall_time: 1.2171 f1_pr_time: 1.2171 density: 0.9105 coverage: 0.9989 f1_dc: 0.9526 density_time: 1.1182 coverage_time: 1.1182 f1_dc_time: 1.1182 mmd_rbf: 0.0621 mmd_rbf_time: 1.2249 mmd_linear: 76142.0234 mmd_linear_time: 1.0504 ratio: 0.2723 fake_qty: 250.0 \n",
            "\n",
            "\n",
            "fid calculation produces singular product; adding 1e-06 to diagonal of cov estimates\n",
            "iter: 26 activations_time: 1.2426 fid: 541143.0649 fid_time: 1.267 kid: 5374453743616.0 kid_time: 1.3607 precision: 0.7636 recall: 0.9902 f1_pr: 0.8623 precision_time: 1.3457 recall_time: 1.3457 f1_pr_time: 1.3457 density: 0.8976 coverage: 0.9989 f1_dc: 0.9456 density_time: 1.3166 coverage_time: 1.3166 f1_dc_time: 1.3166 mmd_rbf: 0.0667 mmd_rbf_time: 1.4103 mmd_linear: 85106.4609 mmd_linear_time: 1.2428 ratio: 0.2832 fake_qty: 260.0 \n",
            "\n",
            "\n",
            "fid calculation produces singular product; adding 1e-06 to diagonal of cov estimates\n",
            "iter: 27 activations_time: 1.1971 fid: 551991.1972 fid_time: 1.2226 kid: 5537134018560.0 kid_time: 1.308 precision: 0.7571 recall: 0.9902 f1_pr: 0.8581 precision_time: 1.3 recall_time: 1.3 f1_pr_time: 1.3 density: 0.8863 coverage: 0.9989 f1_dc: 0.9392 density_time: 1.2636 coverage_time: 1.2636 f1_dc_time: 1.2636 mmd_rbf: 0.0706 mmd_rbf_time: 1.3869 mmd_linear: 89476.1094 mmd_linear_time: 1.1973 ratio: 0.2941 fake_qty: 270.0 \n",
            "\n",
            "\n",
            "fid calculation produces singular product; adding 1e-06 to diagonal of cov estimates\n",
            "iter: 28 activations_time: 1.3635 fid: 564162.3896 fid_time: 1.4229 kid: 5685731393536.0 kid_time: 1.539 precision: 0.7495 recall: 0.9902 f1_pr: 0.8532 precision_time: 1.6303 recall_time: 1.6303 f1_pr_time: 1.6303 density: 0.8773 coverage: 0.9989 f1_dc: 0.9342 density_time: 1.5432 coverage_time: 1.5432 f1_dc_time: 1.5432 mmd_rbf: 0.0752 mmd_rbf_time: 1.7064 mmd_linear: 94983.0312 mmd_linear_time: 1.3638 ratio: 0.305 fake_qty: 280.0 \n",
            "\n",
            "\n",
            "fid calculation produces singular product; adding 1e-06 to diagonal of cov estimates\n",
            "iter: 29 activations_time: 2.0014 fid: 591442.1318 fid_time: 2.0332 kid: 6323409256448.0 kid_time: 2.1762 precision: 0.7418 recall: 0.9913 f1_pr: 0.8486 precision_time: 2.239 recall_time: 2.239 f1_pr_time: 2.239 density: 0.8671 coverage: 0.9989 f1_dc: 0.9284 density_time: 2.1731 coverage_time: 2.1731 f1_dc_time: 2.1731 mmd_rbf: 0.0791 mmd_rbf_time: 2.3238 mmd_linear: 102232.2969 mmd_linear_time: 2.0017 ratio: 0.3159 fake_qty: 290.0 \n",
            "\n",
            "\n",
            "fid calculation produces singular product; adding 1e-06 to diagonal of cov estimates\n",
            "iter: 30 activations_time: 1.7518 fid: 601801.0682 fid_time: 1.8102 kid: 6450377654272.0 kid_time: 1.9287 precision: 0.732 recall: 0.9913 f1_pr: 0.8422 precision_time: 1.969 recall_time: 1.969 f1_pr_time: 1.969 density: 0.8534 coverage: 0.9989 f1_dc: 0.9204 density_time: 1.9127 coverage_time: 1.9127 f1_dc_time: 1.9127 mmd_rbf: 0.0855 mmd_rbf_time: 2.0552 mmd_linear: 108016.5703 mmd_linear_time: 1.752 ratio: 0.3268 fake_qty: 300.0 \n",
            "\n",
            "\n"
          ]
        }
      ]
    },
    {
      "cell_type": "code",
      "source": [],
      "metadata": {
        "id": "bc80RUTcgBly"
      },
      "execution_count": null,
      "outputs": []
    },
    {
      "cell_type": "code",
      "source": [],
      "metadata": {
        "colab": {
          "base_uri": "https://localhost:8080/"
        },
        "id": "lwq7vr7ife1p",
        "outputId": "c2ac1ec4-a32b-49de-d718-e8929021787e"
      },
      "execution_count": null,
      "outputs": [
        {
          "output_type": "stream",
          "name": "stdout",
          "text": [
            "/content/GGM-metrics\n"
          ]
        }
      ]
    },
    {
      "cell_type": "code",
      "source": [],
      "metadata": {
        "id": "B6cd_QV7bFYR"
      },
      "execution_count": null,
      "outputs": []
    },
    {
      "cell_type": "code",
      "source": [],
      "metadata": {
        "id": "q_JY2AYTbMXv"
      },
      "execution_count": null,
      "outputs": []
    },
    {
      "cell_type": "code",
      "source": [],
      "metadata": {
        "id": "wAwZ0KjFbMaH"
      },
      "execution_count": null,
      "outputs": []
    },
    {
      "cell_type": "code",
      "source": [],
      "metadata": {
        "id": "1-LM7eMQwYQt"
      },
      "execution_count": null,
      "outputs": []
    }
  ]
}