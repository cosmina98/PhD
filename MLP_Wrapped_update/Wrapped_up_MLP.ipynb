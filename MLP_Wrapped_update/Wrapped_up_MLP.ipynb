{
  "nbformat": 4,
  "nbformat_minor": 0,
  "metadata": {
    "colab": {
      "name": " Wrapped up MLP.ipynb",
      "provenance": [],
      "collapsed_sections": [],
      "toc_visible": true,
      "authorship_tag": "ABX9TyNrFNDtZMi7DJ5eKIdDqaIM",
      "include_colab_link": true
    },
    "kernelspec": {
      "name": "python3",
      "display_name": "Python 3"
    },
    "language_info": {
      "name": "python"
    },
    "gpuClass": "standard"
  },
  "cells": [
    {
      "cell_type": "markdown",
      "metadata": {
        "id": "view-in-github",
        "colab_type": "text"
      },
      "source": [
        "<a href=\"https://colab.research.google.com/github/cosmina98/PhD/blob/main/MLP_Wrapped_update/Wrapped_up_MLP.ipynb\" target=\"_parent\"><img src=\"https://colab.research.google.com/assets/colab-badge.svg\" alt=\"Open In Colab\"/></a>"
      ]
    },
    {
      "cell_type": "markdown",
      "source": [
        "# Imports"
      ],
      "metadata": {
        "id": "S8pcKI_aR0u5"
      }
    },
    {
      "cell_type": "code",
      "source": [
        "!pip install torchmetrics --quiet"
      ],
      "metadata": {
        "id": "87cF98Fd9r0g"
      },
      "execution_count": 2,
      "outputs": []
    },
    {
      "cell_type": "code",
      "source": [
        "\n",
        "!pip install -U scikit-learn --user\n",
        "\n"
      ],
      "metadata": {
        "id": "4QWAnRuBxzRw",
        "colab": {
          "base_uri": "https://localhost:8080/"
        },
        "outputId": "ce2cdcdc-1be6-4ce3-c2c8-165d489cbc5b"
      },
      "execution_count": 3,
      "outputs": [
        {
          "output_type": "stream",
          "name": "stdout",
          "text": [
            "Looking in indexes: https://pypi.org/simple, https://us-python.pkg.dev/colab-wheels/public/simple/\n",
            "Requirement already satisfied: scikit-learn in /usr/local/lib/python3.7/dist-packages (1.0.2)\n",
            "Requirement already satisfied: threadpoolctl>=2.0.0 in /usr/local/lib/python3.7/dist-packages (from scikit-learn) (3.1.0)\n",
            "Requirement already satisfied: scipy>=1.1.0 in /usr/local/lib/python3.7/dist-packages (from scikit-learn) (1.7.3)\n",
            "Requirement already satisfied: numpy>=1.14.6 in /usr/local/lib/python3.7/dist-packages (from scikit-learn) (1.21.6)\n",
            "Requirement already satisfied: joblib>=0.11 in /usr/local/lib/python3.7/dist-packages (from scikit-learn) (1.1.0)\n"
          ]
        }
      ]
    },
    {
      "cell_type": "code",
      "source": [
        "!pip install --pre --extra-index https://pypi.anaconda.org/scipy-wheels-nightly/simple scikit-learn\n"
      ],
      "metadata": {
        "id": "qgOtY6Z5yLv_",
        "colab": {
          "base_uri": "https://localhost:8080/"
        },
        "outputId": "6fe6a505-18be-43eb-c731-ac812ba9ab7f"
      },
      "execution_count": 4,
      "outputs": [
        {
          "output_type": "stream",
          "name": "stdout",
          "text": [
            "Looking in indexes: https://pypi.org/simple, https://us-python.pkg.dev/colab-wheels/public/simple/, https://pypi.anaconda.org/scipy-wheels-nightly/simple\n",
            "Requirement already satisfied: scikit-learn in /usr/local/lib/python3.7/dist-packages (1.0.2)\n",
            "Requirement already satisfied: joblib>=0.11 in /usr/local/lib/python3.7/dist-packages (from scikit-learn) (1.1.0)\n",
            "Requirement already satisfied: numpy>=1.14.6 in /usr/local/lib/python3.7/dist-packages (from scikit-learn) (1.21.6)\n",
            "Requirement already satisfied: threadpoolctl>=2.0.0 in /usr/local/lib/python3.7/dist-packages (from scikit-learn) (3.1.0)\n",
            "Requirement already satisfied: scipy>=1.1.0 in /usr/local/lib/python3.7/dist-packages (from scikit-learn) (1.7.3)\n"
          ]
        }
      ]
    },
    {
      "cell_type": "code",
      "source": [
        "# libary imports \n",
        "import os\n",
        "import torch\n",
        "from torch import nn\n",
        "import torchvision\n",
        "from torchvision.datasets import CIFAR10\n",
        "from torch.utils.data import DataLoader\n",
        "from torchvision import transforms\n",
        "import torchvision.datasets as datasets\n",
        "\n",
        "from sklearn import metrics\n",
        "from sklearn.metrics import accuracy_score\n",
        "\n",
        "from sklearn import decomposition\n",
        "from sklearn import manifold\n",
        "from tqdm.notebook import trange, tqdm\n",
        "\n",
        "import torch.nn.functional as F\n",
        "import torch.optim as optim\n",
        "import torch.utils.data as data\n",
        "\n",
        "import matplotlib.pyplot as plt\n",
        "import numpy as np\n",
        "import copy\n",
        "import random\n",
        "import time\n",
        "import pandas as pd\n",
        "\n",
        "import itertools\n",
        "from functools import reduce\n",
        "import operator\n",
        "import torch.utils.data as data_utils\n",
        "from sklearn.metrics import classification_report\n",
        "from sklearn.metrics import confusion_matrix\n",
        "import matplotlib.pyplot as plt\n",
        "from sklearn.metrics import multilabel_confusion_matrix\n",
        "from torch.utils.data import Subset\n",
        "\n",
        "from torch.optim.adadelta import Adadelta\n",
        "from torch.optim.adagrad import Adagrad\n",
        "from torch.optim.adam import Adam\n",
        "from torch.optim.adamax import Adamax\n",
        "from torch.optim.adamw import AdamW\n",
        "from torch.optim.optimizer import Optimizer\n",
        "from torch.optim.sgd import SGD\n",
        "\n",
        "\n",
        "\n",
        "plt.rcParams['figure.figsize'] = [5, 5]"
      ],
      "metadata": {
        "id": "8aGeFmP-LjRy"
      },
      "execution_count": 183,
      "outputs": []
    },
    {
      "cell_type": "code",
      "source": [
        "device = torch.device('cuda' if torch.cuda.is_available() else 'cpu')"
      ],
      "metadata": {
        "id": "pEgfjtTkLt88"
      },
      "execution_count": 6,
      "outputs": []
    },
    {
      "cell_type": "markdown",
      "source": [
        "# Main program"
      ],
      "metadata": {
        "id": "OXrJf1YLR3t6"
      }
    },
    {
      "cell_type": "code",
      "source": [
        "def get_classification_report(y, y_pred):\n",
        "       # y_prime = np.stack([np.stack([d for d in d_]) for d_ in y]).flatten()\n",
        "       # y_pred_prime=np.stack([np.stack([d for d in d_]) for d_ in y_pred]).flatten()   \n",
        "        print(classification_report(y, y_pred))\n",
        "\n",
        "\n",
        "def plot_confusion_matrix(cm, classes,\n",
        "                          normalize=False,\n",
        "                          title='Confusion matrix',\n",
        "                          cmap=plt.cm.Blues):\n",
        "    \"\"\"\n",
        "    This function prints and plots the confusion matrix.\n",
        "    Normalization can be applied by setting `normalize=True`.\n",
        "    \"\"\"\n",
        "    if normalize:\n",
        "        cm = cm.astype('float') / cm.sum(axis=1)[:, np.newaxis]\n",
        "        print(\"Normalized confusion matrix\")\n",
        "    else:\n",
        "        print('Confusion matrix, without normalization')\n",
        "\n",
        "    #print(cm)\n",
        "\n",
        "    plt.imshow(cm, interpolation='nearest', cmap=cmap)\n",
        "    plt.title(title)\n",
        "    plt.colorbar()\n",
        "    tick_marks = np.arange(len(classes))\n",
        "    plt.xticks(tick_marks, classes, rotation=45)\n",
        "    plt.yticks(tick_marks, classes)\n",
        "\n",
        "    fmt = '.2f' if normalize else 'd'\n",
        "    thresh = cm.max() / 2.\n",
        "    for i, j in itertools.product(range(cm.shape[0]), range(cm.shape[1])):\n",
        "        plt.text(j, i, format(cm[i, j], fmt),\n",
        "                horizontalalignment=\"center\",\n",
        "                color=\"white\" if cm[i, j] > thresh else \"black\")\n",
        "\n",
        "    plt.ylabel('True label')\n",
        "    plt.xlabel('Predicted label')\n",
        "    plt.tight_layout()\n",
        "\n",
        "\n",
        "def get_confusion_matrix(y, y_pred, plot=True):\n",
        "      #y_prime = np.stack([np.stack([d for d in d_]) for d_ in y]).flatten()\n",
        "      #y_pred_prime=np.stack([np.stack([d for d in d_]) for d_ in y_pred]).flatten()\n",
        "      cnf_matrix = confusion_matrix(y, y_pred,labels=np.arange(10))\n",
        "      np.set_printoptions(precision=2)\n",
        "      #print(cnf_matrix)\n",
        "      # Plot non-normalized confusion matrix\n",
        "      if plot==True:\n",
        "        plt.figure()\n",
        "        plot_confusion_matrix(cnf_matrix, classes=np.arange(len(torch.unique(torch.tensor(y_pred)))),\n",
        "                              title='Confusion matrix, without normalization')\n",
        "          "
      ],
      "metadata": {
        "id": "e4z0eokLkCWX"
      },
      "execution_count": 185,
      "outputs": []
    },
    {
      "cell_type": "code",
      "source": [
        "\n",
        "\n",
        "# Prepare CIFAR-10 dataset\n",
        "trainset = CIFAR10(os.getcwd(), download=True, transform=transforms.Compose(\n",
        "      [transforms.ToTensor(),\n",
        "      transforms.Normalize((0.5, 0.5, 0.5), (0.5, 0.5, 0.5))]))\n",
        "\n",
        "testset = CIFAR10(os.getcwd(), download=True, transform=transforms.Compose(\n",
        "      [transforms.ToTensor(),\n",
        "      transforms.Normalize((0.5, 0.5, 0.5), (0.5, 0.5, 0.5))]))\n",
        "\n",
        "\n",
        "#print(images, labels)\n",
        "\n",
        "def my_fun(dataset):\n",
        "    X=[]\n",
        "    y=[]\n",
        "    for feature, label in iter(dataset):\n",
        "        X.append(feature)\n",
        "        y.append(label)\n",
        "    return torch.stack(X).numpy(), y\n",
        "\n",
        "\n",
        "#get  data as numpy arrays\n",
        "X_train, y_train = my_fun(trainset)\n",
        "X_test, y_test =my_fun(testset)\n"
      ],
      "metadata": {
        "id": "4KCxWWGde6bl",
        "colab": {
          "base_uri": "https://localhost:8080/"
        },
        "outputId": "2a14277c-e184-44a0-ffa0-0f5a86af66ff"
      },
      "execution_count": 138,
      "outputs": [
        {
          "output_type": "stream",
          "name": "stdout",
          "text": [
            "Files already downloaded and verified\n",
            "Files already downloaded and verified\n"
          ]
        }
      ]
    },
    {
      "cell_type": "code",
      "source": [
        ""
      ],
      "metadata": {
        "id": "-1mWZMvPV7Vq"
      },
      "execution_count": 8,
      "outputs": []
    },
    {
      "cell_type": "code",
      "source": [
        "class MLPClassifer(nn.Module):\n",
        "      '''\n",
        "        Multilayer Perceptron.\n",
        "      '''\n",
        "      def __init__(\n",
        "        self,\n",
        "        input_dim,\n",
        "        output_dim,\n",
        "        first_hidden_dimension=64,\n",
        "        #if you only want to add  a single hidden layer you do the following:\n",
        "       # hidden_layers=((32),)\n",
        "        hidden_layers=((32),),\n",
        "        ):\n",
        "        super().__init__()\n",
        "        #self.modules1 = torch.nn.ModuleList([])\n",
        "        self.residual=False\n",
        "        self.hidden_layer_num=len(hidden_layers)\n",
        "        self.d_in=input_dim\n",
        "        if self.hidden_layer_num>0:\n",
        "            self.h_0=first_hidden_dimension\n",
        "            self.h_n=hidden_layers[-1]\n",
        " \n",
        "        else: \n",
        "            self.h_0=self.h_n=first_hidden_dimension\n",
        "      \n",
        "\n",
        "        self.linear1=nn.Linear(self.d_in,  self.h_0)\n",
        "        self.relu=torch.nn.ReLU()\n",
        "        self.hidden_linear=[]\n",
        "        if self.hidden_layer_num>0:\n",
        "          in_channels=self.h_0\n",
        "          for h_dim in list(hidden_layers):\n",
        "              #self.modules1.append(nn.Linear(in_channels, in_channels))\n",
        "              self.hidden_linear.append(torch.nn.Linear(in_channels, h_dim))\n",
        "              in_channels = h_dim\n",
        "        self.hidden_linear=nn.ModuleList(self.hidden_linear)\n",
        "        self.linear2=nn.Linear( self.h_n, output_dim)\n",
        "        #self.modules1.append(nn.Linear( self.h_n, output_dim))\n",
        "\n",
        "    \n",
        "      def forward(self, x):\n",
        "        x=x.view(-1,self.d_in)\n",
        "        x=self.linear1(x)\n",
        "        x=self.relu(x)\n",
        "        if self.hidden_layer_num>0:\n",
        "          for linear in self.hidden_linear:\n",
        "            if self.residual:\n",
        "              x=self.relu(linear(x)) + x\n",
        "          else:\n",
        "              x = self.relu(linear(x))\n",
        "        return  F.log_softmax(self.linear2(x), dim=1)"
      ],
      "metadata": {
        "id": "yCaaOs-D_a4O"
      },
      "execution_count": 139,
      "outputs": []
    },
    {
      "cell_type": "code",
      "source": [
        "class Optimiser(object):\n",
        "    def __init__(self,name='Adam',classifier=MLPClassifer(input_dim=len(X_train),output_dim=len(np.unique(y_train))),learning_rate=1e-3,  betas=(0.9,0.99) , eps=1e-8, weight_decay=0, amsgrad=False,\n",
        "      momentum=0.9, nesterov=True, dampening=0, maximize=False,\n",
        "      rho=0.9,lr_decay=0,initial_accumulator_value=0,capturable=False,\n",
        "       max_iter=20, max_eval=None, tolerance_grad=1e-07, tolerance_change=1e-09, history_size=100, line_search_fn=None,\n",
        "       lambd=0.0001, alpha=0.75, t0=1000000.0, momentum_decay=0.004,centered=False,\n",
        "       etas=(0.5, 1.2), step_sizes=(1e-06, 50)):\n",
        "          self.learning_rate=learning_rate \n",
        "          self.betas= betas\n",
        "          self.eps= eps\n",
        "          self.weight_decay=weight_decay\n",
        "          self.amsgrad=amsgrad \n",
        "          self.momentum=momentum\n",
        "          self.nesterov=nesterov\n",
        "          self.dampening=dampening\n",
        "          self.maximize=maximize\n",
        "          self.classifier=classifier\n",
        "          self.name=name\n",
        "          self.optimiser=self.set_optimizer(self.name)\n",
        "          self.rho=rho\n",
        "          self.lr_decay=lr_decay\n",
        "          self.capturable=capturable\n",
        "\n",
        "          #lbfgs\n",
        "          self.max_iter=max_iter\n",
        "          self.max_eval=max_eval\n",
        "          self.tolerance_grad=tolerance_grad\n",
        "          self.tolerance_change=tolerance_change\n",
        "          self.history_size=history_size\n",
        "          self.line_search_fn=line_search_fn\n",
        "\n",
        "          #asgd\n",
        "          self.lambd=lambd\n",
        "          self.alpha=alpha\n",
        "          self.t0=t0\n",
        "          \n",
        "          #Nadam\n",
        "          self.momentum_decay=momentum_decay\n",
        "\n",
        "          self.centered=centered\n",
        "          self.etas=etas\n",
        "          self.step_sizes=step_sizes\n",
        "\n",
        "    def set_optimizer(self, name):\n",
        "            if name.lower().strip()=='adam':\n",
        "                        self.optimiser=torch.optim.Adam(self.classifier.parameters(),lr=self.learning_rate, betas=self.betas, eps=self.eps, weight_decay=self.weight_decay, amsgrad=self.amsgrad,maximize=self.maximize)\n",
        "            elif name.lower().strip()=='sgd':\n",
        "                        self.optimiser=torch.optim.SGD(self.classifier.parameters(),lr=self.learning_rate, weight_decay=self.weight_decay, momentum=0.9,nesterov=self.nesterov , dampening=self.dampening,maximize=self.maximize)\n",
        "            elif name.lower().strip()=='adadelta':\n",
        "                        self.optimiser=torch.optim.Adadelta(self.classifier.parameters(),lr=self.learning_rate, weight_decay=self.weight_decay, eps=self.eps, rho=self.rho,maximize=self.maximize)\n",
        "            elif name.lower().strip()=='adagrad':\n",
        "                        self.optimiser=torch.optim.Adagrad(self.classifier.parameters(),lr=self.learning_rate, eps=self.eps, weight_decay=self.weight_decay, maximize=self.maximize,lr_decay=self.lr_decay, initial_accumulator_value=self.initial_accumulator_value)\n",
        "            elif name.lower().strip()=='adamw':\n",
        "                        self.optimiser=torch.optim.AdamW(self.classifier.parameters(),lr=self.learning_rate, betas=self.betas, eps=self.eps, weight_decay=self.weight_decay, amsgrad=self.amsgrad,maximize=self.maximize, capturable=self.capturable)\n",
        "            elif name.lower().strip()=='adamax':\n",
        "                        self.optimiser=torch.optim.Adamax(self.classifier.parameters(),lr=self.learning_rate, betas=self.betas, eps=self.eps, weight_decay=self.weight_decay,maximize=self.maximize)\n",
        "            elif name.lower().strip()=='lbfgs':\n",
        "                        self.optimiser=torch.optim.LBFGS(self.classifier.parameters(),lr=self.learning_rate, max_iter=self.max_iter,max_eval=self.max_eval, tolerance_grad=self.tolerance_grad,tolerance_change=self.tolerance_change, history_size=self.history_size,line_search_fn=self.line_search_fn)\n",
        "            elif name.lower().strip()=='asgd':\n",
        "                        self.optimiser=torch.optim.ASGD(self.classifier.parameters(),lr=self.learning_rate, weight_decay=self.weight_decay, lambd=self.lambd, alpha=self.alpha, t0=self.t0 )\n",
        "            elif name.lower().strip()=='nadam':\n",
        "                        self.optimiser=torch.optim.NAdam(self.classifier.parameters(),lr=self.learning_rate, weight_decay=self.weight_decay, eps=self.eps, betas=self.betas, momentum_decay=self.momentum_decay)\n",
        "            elif name.lower().strip()=='radam':\n",
        "                        self.optimiser=torch.optim.RAdam(self.classifier.parameters(),lr=self.learning_rate, weight_decay=self.weight_decay, eps=self.eps, betas=self.betas )\n",
        "            elif name.lower().strip()=='rmsprop':\n",
        "                        self.optimiser=torch.optim.RMSprop(self.classifier.parameters(),lr=self.learning_rate, weight_decay=self.weight_decay, momentum=self.momentum,alpha=self.alpha, eps=self.eps, centered=self.centered)\n",
        "            elif name.lower().strip()=='rprop':\n",
        "                        self.optimiser=torch.optim.Rprop(self.classifier.parameters(),lr=self.learning_rate, etas=self.etas, step_sizes=self.step_sizes)\n",
        "            \n",
        "            return self.optimiser\n"
      ],
      "metadata": {
        "id": "_7tYuF1j_XpN"
      },
      "execution_count": 140,
      "outputs": []
    },
    {
      "cell_type": "code",
      "source": [
        "\n",
        "\n",
        "class Neural_Network(object):\n",
        "    \n",
        "    \n",
        "    def __init__ (self,batch_size=2000,epochs=2,verbose=True,loss_function = nn.CrossEntropyLoss(),\n",
        "         optimiser_name='adam',classifier= MLPClassifer(input_dim=len(X_train),output_dim=len(np.unique(y_train)))):\n",
        "      \n",
        "      self.batch_size=batch_size\n",
        "      self.epochs=epochs\n",
        "      \n",
        "      self.verbose=True\n",
        "      #used inside the training/ testing loops\n",
        "      self.running_loss = 0\n",
        "      self.loss_function = loss_function\n",
        "      self.classifier= classifier\n",
        "      \n",
        "      self.sm = torch.nn.Softmax()\n",
        "\n",
        "      #default optimiser: adam \n",
        "      self.optimiser=Optimiser(optimiser_name,classifier=self.classifier).optimiser\n",
        "    \n",
        "    \n",
        "    def get_params(self): #get parameters\n",
        "       if (self.optimiser != None) :\n",
        "         return  (self.props(),self.optimiser.state_dict(), self.classifier.state_dict)\n",
        "       else: return self.classifier.state_dict() \n",
        "  \n",
        "    def fit(self,X,y):\n",
        "        train = [*zip(X,y)]\n",
        "        trainloader =  torch.utils.data.DataLoader(train,batch_size=8, shuffle=False, num_workers=2)\n",
        "        for epoch in range(self.epochs):  # loop over the dataset 2 times\n",
        "        \n",
        "          running_loss =self.running_loss\n",
        "          for i, data in enumerate(trainloader, 0):\n",
        "          # get the inputs; data is a list of [inputs, labels]\n",
        "            inputs, labels = data\n",
        "             \n",
        "            # zero the parameter gradients\n",
        "            self.optimiser.zero_grad()\n",
        "\n",
        "            # forward + compute loss+ backward + optimize\n",
        "            outputs = self.classifier(inputs)\n",
        "            #print(outputs)\n",
        "            loss = self.loss_function(outputs, labels)\n",
        "            loss.backward()\n",
        "            self.optimiser.step()\n",
        "            # print statistics\n",
        "            running_loss += loss.item()\n",
        "            if i % self.batch_size == (self.batch_size-1):    # print every \"batch_size\" mini-batches\n",
        "                if self.verbose==True:\n",
        "                  print(f'[{epoch + 1}, {i + 1:5d}] loss: {running_loss / self.batch_size:.3f}')\n",
        "                running_loss = 0.0\n",
        "\n",
        "    def predict(self, X_test): #Predict using the multi-layer perceptron classifier.\n",
        "\n",
        "      if isinstance(X_test, (pd.Series, list, np.ndarray)):\n",
        "        X_test=(torch.tensor(X_test,  requires_grad = False))\n",
        "        outputs = self.classifier(X_test)\n",
        "        log_prob, predictions = torch.max(outputs, 1)\n",
        "        return predictions #torch.stack(prediction_list)\n",
        "      else:\n",
        "        with torch.no_grad():\n",
        "          outputs = self.classifier(X_test)\n",
        "          log_prob, predictions = torch.max(outputs, 1)\n",
        "          return predictions #torch.stack(prediction_list)\n",
        "\n",
        "\n",
        "    def predict_log_proba(self,X):  #\tReturn the log of probability estimates.\n",
        "        y_prob=(self.predict_proba(X))\n",
        "        log_proba=np.log(y_prob.detach().numpy())\n",
        "        return log_proba\n",
        " \n",
        "\n",
        "    def predict_proba(self,X_test):\t#Probability estimates.\n",
        "      probabilities_list=[]\n",
        "      if isinstance(X_test, (pd.Series, list, np.ndarray)):\n",
        "        X_test=(torch.tensor(X_test,  requires_grad = False))\n",
        "        outputs = self.classifier(X_test)\n",
        "        estimation, predictions = torch.max(outputs, 1)\n",
        "        predicted=self.sm( outputs) \n",
        "        return predicted\n",
        "      else:\n",
        "        with torch.no_grad():\n",
        "            outputs = self.classifier(X_test)\n",
        "            predicted=self.sm( outputs) \n",
        "            return  predicted\n",
        "\n",
        "    def score(self,X_test,y_test): #Return the mean accuracy on the given test data and labels.\n",
        "        return accuracy_score(y_test, self.predict(X_test).numpy(), sample_weight=None)\n",
        "        \n",
        "    def score_per_class(self,X_test,y_test):\n",
        "      \n",
        "      if isinstance(X_test, (pd.Series, list, np.ndarray)):\n",
        "        num_classes=len(torch.unique(torch.tensor(y_test)))\n",
        "      else:\n",
        "        num_classes=len(torch.unique((y_test)))\n",
        "       #Return the mean accuracy on the given test data and labels.\n",
        "      classes=tuple(np.arange(num_classes)) \n",
        "      correct_pred = {classname: 0 for classname in np.arange(num_classes)}\n",
        "      total_pred= {classname: 0 for classname in np.arange(num_classes)}\n",
        "      predictions= self.predict(X_test).numpy()\n",
        "      for label, prediction in zip(y_test, predictions):\n",
        "          if label == prediction:\n",
        "              correct_pred[classes[label]] += 1\n",
        "          total_pred[classes[label]] += 1\n",
        "          accuracies={}\n",
        "        # print accuracy for each class\n",
        "      for classname, correct_count in correct_pred.items():\n",
        "          accuracy = 100 * float(correct_count) / total_pred[classname]\n",
        "          accuracies[classname]=accuracy\n",
        "          if self.verbose:\n",
        "            print(f'Accuracy for class: {classname} is {accuracy:.1f} %')\n",
        "\n",
        "        \n",
        "\n",
        "    def set_params(self, attr, value): #sets parameters\n",
        "        setattr(self, attr, value)\n",
        "        \n",
        "    def props(cls):   \n",
        "        return [i for i in cls.__dict__.items() if i[:1] != '_']\n",
        "\n",
        "    def get_classifier(self):\n",
        "        return self.classifier()\n",
        "\n",
        "\n",
        "    \n"
      ],
      "metadata": {
        "id": "07OsmxL4G_3_"
      },
      "execution_count": 155,
      "outputs": []
    },
    {
      "cell_type": "code",
      "source": [
        "model=Neural_Network()\n",
        "model.classifier=MLPClassifer(input_dim=reduce(operator.mul,trainset.data[1].shape), output_dim=len(torch.unique(torch.tensor(trainset.targets)))) \n",
        "model.optimiser=Optimiser('adam', model.classifier, learning_rate=1e-4).optimiser\n",
        "model.loss_function = nn.CrossEntropyLoss()\n",
        "model.fit(X_train , y_train)\n",
        "print(\"Overall Accuracy\", model.score(X_test, y_test))"
      ],
      "metadata": {
        "id": "6huk3wJr1rn0",
        "colab": {
          "base_uri": "https://localhost:8080/"
        },
        "outputId": "dd68cf9e-3d77-441d-91ff-5515c8e427d1"
      },
      "execution_count": 158,
      "outputs": [
        {
          "output_type": "stream",
          "name": "stdout",
          "text": [
            "[1,  2000] loss: 1.933\n",
            "[1,  4000] loss: 1.701\n",
            "[1,  6000] loss: 1.657\n",
            "[2,  2000] loss: 1.587\n",
            "[2,  4000] loss: 1.537\n",
            "[2,  6000] loss: 1.541\n",
            "Overall Accuracy 0.47848\n"
          ]
        }
      ]
    },
    {
      "cell_type": "code",
      "source": [
        "model.score_per_class(X_test, y_test)"
      ],
      "metadata": {
        "colab": {
          "base_uri": "https://localhost:8080/"
        },
        "id": "AfRoTujiSfJK",
        "outputId": "3b896b45-ca9d-4d60-f635-6382e992be7d"
      },
      "execution_count": 159,
      "outputs": [
        {
          "output_type": "stream",
          "name": "stdout",
          "text": [
            "Accuracy for class: 0 is 45.9 %\n",
            "Accuracy for class: 1 is 63.2 %\n",
            "Accuracy for class: 2 is 24.7 %\n",
            "Accuracy for class: 3 is 38.4 %\n",
            "Accuracy for class: 4 is 32.4 %\n",
            "Accuracy for class: 5 is 37.9 %\n",
            "Accuracy for class: 6 is 58.7 %\n",
            "Accuracy for class: 7 is 58.9 %\n",
            "Accuracy for class: 8 is 65.4 %\n",
            "Accuracy for class: 9 is 53.0 %\n"
          ]
        }
      ]
    },
    {
      "cell_type": "code",
      "source": [
        "y_pred= (model.predict(X_test).numpy())"
      ],
      "metadata": {
        "id": "20Mv8IiUe3O9"
      },
      "execution_count": 169,
      "outputs": []
    },
    {
      "cell_type": "code",
      "source": [
        "get_classification_report(y_test, (model.predict(X_test).numpy()))\n",
        "  "
      ],
      "metadata": {
        "colab": {
          "base_uri": "https://localhost:8080/"
        },
        "id": "VsLO7KJA_zz9",
        "outputId": "4b573fe2-6b22-4dc4-f08e-e451f2f0ddf6"
      },
      "execution_count": 166,
      "outputs": [
        {
          "output_type": "stream",
          "name": "stdout",
          "text": [
            "              precision    recall  f1-score   support\n",
            "\n",
            "           0       0.58      0.46      0.51      5000\n",
            "           1       0.52      0.63      0.57      5000\n",
            "           2       0.44      0.25      0.32      5000\n",
            "           3       0.34      0.38      0.36      5000\n",
            "           4       0.46      0.32      0.38      5000\n",
            "           5       0.39      0.38      0.39      5000\n",
            "           6       0.44      0.59      0.51      5000\n",
            "           7       0.52      0.59      0.55      5000\n",
            "           8       0.56      0.65      0.60      5000\n",
            "           9       0.53      0.53      0.53      5000\n",
            "\n",
            "    accuracy                           0.48     50000\n",
            "   macro avg       0.48      0.48      0.47     50000\n",
            "weighted avg       0.48      0.48      0.47     50000\n",
            "\n"
          ]
        }
      ]
    },
    {
      "cell_type": "code",
      "source": [
        "get_confusion_matrix(y_test, y_pred, plot=True)"
      ],
      "metadata": {
        "colab": {
          "base_uri": "https://localhost:8080/",
          "height": 378
        },
        "id": "QVlaLjIUeoAn",
        "outputId": "4025d8c4-75c9-4a32-9f6b-79acadb38550"
      },
      "execution_count": 186,
      "outputs": [
        {
          "output_type": "stream",
          "name": "stdout",
          "text": [
            "Confusion matrix, without normalization\n"
          ]
        },
        {
          "output_type": "display_data",
          "data": {
            "text/plain": [
              "<Figure size 360x360 with 2 Axes>"
            ],
            "image/png": "[encoded data removed]"
          },
          "metadata": {
            "needs_background": "light"
          }
        }
      ]
    },
    {
      "cell_type": "code",
      "source": [
        "multilabel_confusion_matrix(y_test, y_pred)"
      ],
      "metadata": {
        "colab": {
          "base_uri": "https://localhost:8080/"
        },
        "id": "MyGGZFawkzcw",
        "outputId": "5ebc1f0c-cd23-4aec-94a6-9e34692d0a78"
      },
      "execution_count": 188,
      "outputs": [
        {
          "output_type": "execute_result",
          "data": {
            "text/plain": [
              "array([[[43317,  1683],\n",
              "        [ 2704,  2296]],\n",
              "\n",
              "       [[42037,  2963],\n",
              "        [ 1842,  3158]],\n",
              "\n",
              "       [[43416,  1584],\n",
              "        [ 3766,  1234]],\n",
              "\n",
              "       [[41297,  3703],\n",
              "        [ 3081,  1919]],\n",
              "\n",
              "       [[43123,  1877],\n",
              "        [ 3379,  1621]],\n",
              "\n",
              "       [[42096,  2904],\n",
              "        [ 3105,  1895]],\n",
              "\n",
              "       [[41322,  3678],\n",
              "        [ 2067,  2933]],\n",
              "\n",
              "       [[42254,  2746],\n",
              "        [ 2053,  2947]],\n",
              "\n",
              "       [[42456,  2544],\n",
              "        [ 1730,  3270]],\n",
              "\n",
              "       [[42606,  2394],\n",
              "        [ 2349,  2651]]])"
            ]
          },
          "metadata": {},
          "execution_count": 188
        }
      ]
    },
    {
      "cell_type": "markdown",
      "source": [
        "#Plot classifier comparaison\n",
        "\n"
      ],
      "metadata": {
        "id": "4fEokx6at9kN"
      }
    },
    {
      "cell_type": "code",
      "source": [
        "!pip install --upgrade scikit-learn\n",
        "\n",
        "!pip install scipy\n",
        "\n",
        "!pip3 install -U scikit-learn scipy matplotlib"
      ],
      "metadata": {
        "id": "W5qhpn8g6udS"
      },
      "execution_count": null,
      "outputs": []
    },
    {
      "cell_type": "code",
      "source": [
        "!pip install  scikit-learn==1.0.1\n",
        "\n"
      ],
      "metadata": {
        "id": "hSn2hDpK74FS"
      },
      "execution_count": null,
      "outputs": []
    },
    {
      "cell_type": "code",
      "source": [
        "import numpy as np\n",
        "import matplotlib.pyplot as plt\n",
        "from matplotlib.colors import ListedColormap\n",
        "from sklearn.model_selection import train_test_split\n",
        "from sklearn.preprocessing import StandardScaler\n",
        "from sklearn.datasets import make_moons, make_circles, make_classification\n",
        "from sklearn.neural_network import MLPClassifier\n",
        "from sklearn.neighbors import KNeighborsClassifier\n",
        "from sklearn.svm import SVC\n",
        "from sklearn.gaussian_process import GaussianProcessClassifier\n",
        "from sklearn.gaussian_process.kernels import RBF\n",
        "from sklearn.tree import DecisionTreeClassifier\n",
        "from sklearn.ensemble import RandomForestClassifier, AdaBoostClassifier\n",
        "from sklearn.naive_bayes import GaussianNB\n",
        "from sklearn.discriminant_analysis import QuadraticDiscriminantAnalysis\n",
        "from sklearn.inspection import DecisionBoundaryDisplay\n",
        "\n",
        "names = [\n",
        "    \"Nearest Neighbors\",\n",
        "    \"Linear SVM\",\n",
        "    \"RBF SVM\",\n",
        "    \"Gaussian Process\",\n",
        "    \"Decision Tree\",\n",
        "    \"Random Forest\",\n",
        "    \"Neural Net\",\n",
        "    \"AdaBoost\",\n",
        "    \"Naive Bayes\",\n",
        "    \"QDA\",\n",
        "]\n",
        "\n",
        "classifiers = [\n",
        "    KNeighborsClassifier(3),\n",
        "    SVC(kernel=\"linear\", C=0.025),\n",
        "    SVC(gamma=2, C=1),\n",
        "    GaussianProcessClassifier(1.0 * RBF(1.0)),\n",
        "    DecisionTreeClassifier(max_depth=5),\n",
        "    RandomForestClassifier(max_depth=5, n_estimators=10, max_features=1),\n",
        "    MLPClassifier(alpha=1, max_iter=1000),\n",
        "    AdaBoostClassifier(),\n",
        "    GaussianNB(),\n",
        "    QuadraticDiscriminantAnalysis(),\n",
        "]\n",
        "\n",
        "X, y = make_classification(\n",
        "    n_features=2, n_redundant=0, n_informative=2, random_state=1, n_clusters_per_class=1\n",
        ")\n",
        "rng = np.random.RandomState(2)\n",
        "X += 2 * rng.uniform(size=X.shape)\n",
        "linearly_separable = (X, y)\n",
        "\n",
        "datasets = [\n",
        "    make_moons(noise=0.3, random_state=0),\n",
        "    make_circles(noise=0.2, factor=0.5, random_state=1),\n",
        "    linearly_separable,\n",
        "]\n",
        "\n",
        "figure = plt.figure(figsize=(27, 9))\n",
        "i = 1\n",
        "# iterate over datasets\n",
        "for ds_cnt, ds in enumerate(datasets):\n",
        "    # preprocess dataset, split into training and test part\n",
        "    X, y = ds\n",
        "    X = StandardScaler().fit_transform(X)\n",
        "    X_train, X_test, y_train, y_test = train_test_split(\n",
        "        X, y, test_size=0.4, random_state=42\n",
        "    )\n",
        "\n",
        "    x_min, x_max = X[:, 0].min() - 0.5, X[:, 0].max() + 0.5\n",
        "    y_min, y_max = X[:, 1].min() - 0.5, X[:, 1].max() + 0.5\n",
        "\n",
        "    # just plot the dataset first\n",
        "    cm = plt.cm.RdBu\n",
        "    cm_bright = ListedColormap([\"#FF0000\", \"#0000FF\"])\n",
        "    ax = plt.subplot(len(datasets), len(classifiers) + 1, i)\n",
        "    if ds_cnt == 0:\n",
        "        ax.set_title(\"Input data\")\n",
        "    # Plot the training points\n",
        "    ax.scatter(X_train[:, 0], X_train[:, 1], c=y_train, cmap=cm_bright, edgecolors=\"k\")\n",
        "    # Plot the testing points\n",
        "    ax.scatter(\n",
        "        X_test[:, 0], X_test[:, 1], c=y_test, cmap=cm_bright, alpha=0.6, edgecolors=\"k\"\n",
        "    )\n",
        "    ax.set_xlim(x_min, x_max)\n",
        "    ax.set_ylim(y_min, y_max)\n",
        "    ax.set_xticks(())\n",
        "    ax.set_yticks(())\n",
        "    i += 1\n",
        "\n",
        "    # iterate over classifiers\n",
        "    for name, clf in zip(names, classifiers):\n",
        "        ax = plt.subplot(len(datasets), len(classifiers) + 1, i)\n",
        "        clf.fit(X_train, y_train)\n",
        "        score = clf.score(X_test, y_test)\n",
        "        DecisionBoundaryDisplay.from_estimator(\n",
        "            clf, X, cmap=cm, alpha=0.8, ax=ax, eps=0.5\n",
        "        )\n",
        "\n",
        "        # Plot the training points\n",
        "        ax.scatter(\n",
        "            X_train[:, 0], X_train[:, 1], c=y_train, cmap=cm_bright, edgecolors=\"k\"\n",
        "        )\n",
        "        # Plot the testing points\n",
        "        ax.scatter(\n",
        "            X_test[:, 0],\n",
        "            X_test[:, 1],\n",
        "            c=y_test,\n",
        "            cmap=cm_bright,\n",
        "            edgecolors=\"k\",\n",
        "            alpha=0.6,\n",
        "        )\n",
        "\n",
        "        ax.set_xlim(x_min, x_max)\n",
        "        ax.set_ylim(y_min, y_max)\n",
        "        ax.set_xticks(())\n",
        "        ax.set_yticks(())\n",
        "        if ds_cnt == 0:\n",
        "            ax.set_title(name)\n",
        "        ax.text(\n",
        "            x_max - 0.3,\n",
        "            y_min + 0.3,\n",
        "            (\"%.2f\" % score).lstrip(\"0\"),\n",
        "            size=15,\n",
        "            horizontalalignment=\"right\",\n",
        "        )\n",
        "        i += 1\n",
        "\n",
        "plt.tight_layout()\n",
        "plt.show()"
      ],
      "metadata": {
        "id": "ucGyaNj5u4wE",
        "colab": {
          "base_uri": "https://localhost:8080/",
          "height": 373
        },
        "outputId": "4e8d1a5c-35b7-4293-d4a7-d9ff26541637"
      },
      "execution_count": 189,
      "outputs": [
        {
          "output_type": "error",
          "ename": "ImportError",
          "evalue": "ignored",
          "traceback": [
            "\u001b[0;31m---------------------------------------------------------------------------\u001b[0m",
            "\u001b[0;31mImportError\u001b[0m                               Traceback (most recent call last)",
            "\u001b[0;32m<ipython-input-189-a7e0f3fb5d86>\u001b[0m in \u001b[0;36m<module>\u001b[0;34m\u001b[0m\n\u001b[1;32m     14\u001b[0m \u001b[0;32mfrom\u001b[0m \u001b[0msklearn\u001b[0m\u001b[0;34m.\u001b[0m\u001b[0mnaive_bayes\u001b[0m \u001b[0;32mimport\u001b[0m \u001b[0mGaussianNB\u001b[0m\u001b[0;34m\u001b[0m\u001b[0;34m\u001b[0m\u001b[0m\n\u001b[1;32m     15\u001b[0m \u001b[0;32mfrom\u001b[0m \u001b[0msklearn\u001b[0m\u001b[0;34m.\u001b[0m\u001b[0mdiscriminant_analysis\u001b[0m \u001b[0;32mimport\u001b[0m \u001b[0mQuadraticDiscriminantAnalysis\u001b[0m\u001b[0;34m\u001b[0m\u001b[0;34m\u001b[0m\u001b[0m\n\u001b[0;32m---> 16\u001b[0;31m \u001b[0;32mfrom\u001b[0m \u001b[0msklearn\u001b[0m\u001b[0;34m.\u001b[0m\u001b[0minspection\u001b[0m \u001b[0;32mimport\u001b[0m \u001b[0mDecisionBoundaryDisplay\u001b[0m\u001b[0;34m\u001b[0m\u001b[0;34m\u001b[0m\u001b[0m\n\u001b[0m\u001b[1;32m     17\u001b[0m \u001b[0;34m\u001b[0m\u001b[0m\n\u001b[1;32m     18\u001b[0m names = [\n",
            "\u001b[0;31mImportError\u001b[0m: cannot import name 'DecisionBoundaryDisplay' from 'sklearn.inspection' (/usr/local/lib/python3.7/dist-packages/sklearn/inspection/__init__.py)",
            "",
            "\u001b[0;31m---------------------------------------------------------------------------\u001b[0;32m\nNOTE: If your import is failing due to a missing package, you can\nmanually install dependencies using either !pip or !apt.\n\nTo view examples of installing some common dependencies, click the\n\"Open Examples\" button below.\n\u001b[0;31m---------------------------------------------------------------------------\u001b[0m\n"
          ],
          "errorDetails": {
            "actions": [
              {
                "action": "open_url",
                "actionText": "Open Examples",
                "url": "/notebooks/snippets/importing_libraries.ipynb"
              }
            ]
          }
        }
      ]
    }
  ]
}